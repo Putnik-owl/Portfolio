{
 "cells": [
  {
   "cell_type": "markdown",
   "metadata": {},
   "source": [
    " Магазину нужен инструмент, который будет искать токсичные комментарии и отправлять их на модерацию. "
   ]
  },
  {
   "cell_type": "markdown",
   "metadata": {},
   "source": [
    "## Подготовка"
   ]
  },
  {
   "cell_type": "code",
   "execution_count": 3,
   "metadata": {},
   "outputs": [],
   "source": [
    "import warnings\n",
    "warnings.filterwarnings(\"ignore\") \n",
    "import pandas as pd \n",
    "import numpy as np \n",
    "import time \n",
    "\n",
    "import nltk\n",
    "import spacy\n",
    "\n",
    "\n",
    "import re \n",
    "from nltk.corpus import stopwords as nltk_stopwords \n",
    "from sklearn.feature_extraction.text import TfidfVectorizer \n",
    "\n",
    "from sklearn.model_selection import train_test_split\n",
    "from sklearn.model_selection import cross_val_score \n",
    "from sklearn.metrics import f1_score,roc_curve \n",
    "from sklearn.utils import shuffle \n",
    "from sklearn.model_selection import GridSearchCV \n",
    "\n",
    "from sklearn.linear_model import LogisticRegression  \n",
    "from sklearn.tree import DecisionTreeClassifier \n",
    "from sklearn.ensemble import RandomForestClassifier\n",
    "from catboost import CatBoostClassifier\n"
   ]
  },
  {
   "cell_type": "code",
   "execution_count": 4,
   "metadata": {},
   "outputs": [],
   "source": [
    "lemmatizer = spacy.load('en_core_web_sm', disable=['parser', 'ner'])"
   ]
  },
  {
   "cell_type": "code",
   "execution_count": 5,
   "metadata": {},
   "outputs": [
    {
     "name": "stdout",
     "output_type": "stream",
     "text": [
      "<class 'pandas.core.frame.DataFrame'>\n",
      "RangeIndex: 159571 entries, 0 to 159570\n",
      "Data columns (total 2 columns):\n",
      " #   Column  Non-Null Count   Dtype \n",
      "---  ------  --------------   ----- \n",
      " 0   text    159571 non-null  object\n",
      " 1   toxic   159571 non-null  int64 \n",
      "dtypes: int64(1), object(1)\n",
      "memory usage: 2.4+ MB\n"
     ]
    }
   ],
   "source": [
    "#загрузка данных\n",
    "df_coment = pd.read_csv('/datasets/toxic_comments.csv') \n",
    "df_coment.info()"
   ]
  },
  {
   "cell_type": "code",
   "execution_count": 6,
   "metadata": {},
   "outputs": [
    {
     "data": {
      "text/html": [
       "<div>\n",
       "<style scoped>\n",
       "    .dataframe tbody tr th:only-of-type {\n",
       "        vertical-align: middle;\n",
       "    }\n",
       "\n",
       "    .dataframe tbody tr th {\n",
       "        vertical-align: top;\n",
       "    }\n",
       "\n",
       "    .dataframe thead th {\n",
       "        text-align: right;\n",
       "    }\n",
       "</style>\n",
       "<table border=\"1\" class=\"dataframe\">\n",
       "  <thead>\n",
       "    <tr style=\"text-align: right;\">\n",
       "      <th></th>\n",
       "      <th>text</th>\n",
       "      <th>toxic</th>\n",
       "    </tr>\n",
       "  </thead>\n",
       "  <tbody>\n",
       "    <tr>\n",
       "      <th>0</th>\n",
       "      <td>Explanation\\nWhy the edits made under my usern...</td>\n",
       "      <td>0</td>\n",
       "    </tr>\n",
       "    <tr>\n",
       "      <th>1</th>\n",
       "      <td>D'aww! He matches this background colour I'm s...</td>\n",
       "      <td>0</td>\n",
       "    </tr>\n",
       "    <tr>\n",
       "      <th>2</th>\n",
       "      <td>Hey man, I'm really not trying to edit war. It...</td>\n",
       "      <td>0</td>\n",
       "    </tr>\n",
       "    <tr>\n",
       "      <th>3</th>\n",
       "      <td>\"\\nMore\\nI can't make any real suggestions on ...</td>\n",
       "      <td>0</td>\n",
       "    </tr>\n",
       "    <tr>\n",
       "      <th>4</th>\n",
       "      <td>You, sir, are my hero. Any chance you remember...</td>\n",
       "      <td>0</td>\n",
       "    </tr>\n",
       "    <tr>\n",
       "      <th>5</th>\n",
       "      <td>\"\\n\\nCongratulations from me as well, use the ...</td>\n",
       "      <td>0</td>\n",
       "    </tr>\n",
       "    <tr>\n",
       "      <th>6</th>\n",
       "      <td>COCKSUCKER BEFORE YOU PISS AROUND ON MY WORK</td>\n",
       "      <td>1</td>\n",
       "    </tr>\n",
       "    <tr>\n",
       "      <th>7</th>\n",
       "      <td>Your vandalism to the Matt Shirvington article...</td>\n",
       "      <td>0</td>\n",
       "    </tr>\n",
       "    <tr>\n",
       "      <th>8</th>\n",
       "      <td>Sorry if the word 'nonsense' was offensive to ...</td>\n",
       "      <td>0</td>\n",
       "    </tr>\n",
       "    <tr>\n",
       "      <th>9</th>\n",
       "      <td>alignment on this subject and which are contra...</td>\n",
       "      <td>0</td>\n",
       "    </tr>\n",
       "  </tbody>\n",
       "</table>\n",
       "</div>"
      ],
      "text/plain": [
       "                                                text  toxic\n",
       "0  Explanation\\nWhy the edits made under my usern...      0\n",
       "1  D'aww! He matches this background colour I'm s...      0\n",
       "2  Hey man, I'm really not trying to edit war. It...      0\n",
       "3  \"\\nMore\\nI can't make any real suggestions on ...      0\n",
       "4  You, sir, are my hero. Any chance you remember...      0\n",
       "5  \"\\n\\nCongratulations from me as well, use the ...      0\n",
       "6       COCKSUCKER BEFORE YOU PISS AROUND ON MY WORK      1\n",
       "7  Your vandalism to the Matt Shirvington article...      0\n",
       "8  Sorry if the word 'nonsense' was offensive to ...      0\n",
       "9  alignment on this subject and which are contra...      0"
      ]
     },
     "metadata": {},
     "output_type": "display_data"
    }
   ],
   "source": [
    "display(df_coment.head(10))"
   ]
  },
  {
   "cell_type": "code",
   "execution_count": 7,
   "metadata": {},
   "outputs": [
    {
     "data": {
      "text/plain": [
       "0    143346\n",
       "1     16225\n",
       "Name: toxic, dtype: int64"
      ]
     },
     "metadata": {},
     "output_type": "display_data"
    },
    {
     "name": "stdout",
     "output_type": "stream",
     "text": [
      "Доля негативных коментариев =  10.17 %\n"
     ]
    }
   ],
   "source": [
    "display(df_coment['toxic'].value_counts())\n",
    "class_ratio = df_coment['toxic'].value_counts()[1] /len(df_coment)\n",
    "print(f'Доля негативных коментариев =  {class_ratio*100:.4} %' )"
   ]
  },
  {
   "cell_type": "code",
   "execution_count": 8,
   "metadata": {},
   "outputs": [
    {
     "name": "stdout",
     "output_type": "stream",
     "text": [
      "Соотношение классов =  8.835\n"
     ]
    }
   ],
   "source": [
    "class_ratio = df_coment['toxic'].value_counts()[0] / df_coment['toxic'].value_counts()[1]\n",
    "print(f'Соотношение классов =  {class_ratio:.4}' )"
   ]
  },
  {
   "cell_type": "markdown",
   "metadata": {},
   "source": [
    "**Доля негативных коментариев не большая, из-за этого на 1 негативный коментарий приходится 8 положительных таким образом классы не сбалансированны**"
   ]
  },
  {
   "cell_type": "code",
   "execution_count": 9,
   "metadata": {},
   "outputs": [],
   "source": [
    "def lem_txt(text): #Лемматизация\n",
    "    text = text.lower()\n",
    "    doc = lemmatizer(text)\n",
    "    lemm_text = \" \".join([token.lemma_ for token in doc])\n",
    "    return   lemm_text "
   ]
  },
  {
   "cell_type": "code",
   "execution_count": 10,
   "metadata": {},
   "outputs": [
    {
     "name": "stdout",
     "output_type": "stream",
     "text": [
      "the stripe bat be hang on their foot for good\n"
     ]
    }
   ],
   "source": [
    "sentence = \"The striped bats are hanging on their feet for best\"\n",
    "print(lem_txt(sentence))"
   ]
  },
  {
   "cell_type": "code",
   "execution_count": 11,
   "metadata": {},
   "outputs": [
    {
     "name": "stdout",
     "output_type": "stream",
     "text": [
      "CPU times: user 16min 33s, sys: 1.85 s, total: 16min 35s\n",
      "Wall time: 16min 37s\n"
     ]
    }
   ],
   "source": [
    "%%time\n",
    "df_coment['lemm_text'] = df_coment['text'].apply(lem_txt)"
   ]
  },
  {
   "cell_type": "code",
   "execution_count": 12,
   "metadata": {},
   "outputs": [
    {
     "data": {
      "text/html": [
       "<div>\n",
       "<style scoped>\n",
       "    .dataframe tbody tr th:only-of-type {\n",
       "        vertical-align: middle;\n",
       "    }\n",
       "\n",
       "    .dataframe tbody tr th {\n",
       "        vertical-align: top;\n",
       "    }\n",
       "\n",
       "    .dataframe thead th {\n",
       "        text-align: right;\n",
       "    }\n",
       "</style>\n",
       "<table border=\"1\" class=\"dataframe\">\n",
       "  <thead>\n",
       "    <tr style=\"text-align: right;\">\n",
       "      <th></th>\n",
       "      <th>text</th>\n",
       "      <th>toxic</th>\n",
       "      <th>lemm_text</th>\n",
       "    </tr>\n",
       "  </thead>\n",
       "  <tbody>\n",
       "    <tr>\n",
       "      <th>0</th>\n",
       "      <td>Explanation\\nWhy the edits made under my usern...</td>\n",
       "      <td>0</td>\n",
       "      <td>explanation \\n why the edit make under my user...</td>\n",
       "    </tr>\n",
       "    <tr>\n",
       "      <th>1</th>\n",
       "      <td>D'aww! He matches this background colour I'm s...</td>\n",
       "      <td>0</td>\n",
       "      <td>d'aww ! he match this background colour I be s...</td>\n",
       "    </tr>\n",
       "    <tr>\n",
       "      <th>2</th>\n",
       "      <td>Hey man, I'm really not trying to edit war. It...</td>\n",
       "      <td>0</td>\n",
       "      <td>hey man , I be really not try to edit war . it...</td>\n",
       "    </tr>\n",
       "    <tr>\n",
       "      <th>3</th>\n",
       "      <td>\"\\nMore\\nI can't make any real suggestions on ...</td>\n",
       "      <td>0</td>\n",
       "      <td>\" \\n more \\n I can not make any real suggestio...</td>\n",
       "    </tr>\n",
       "    <tr>\n",
       "      <th>4</th>\n",
       "      <td>You, sir, are my hero. Any chance you remember...</td>\n",
       "      <td>0</td>\n",
       "      <td>you , sir , be my hero . any chance you rememb...</td>\n",
       "    </tr>\n",
       "    <tr>\n",
       "      <th>5</th>\n",
       "      <td>\"\\n\\nCongratulations from me as well, use the ...</td>\n",
       "      <td>0</td>\n",
       "      <td>\" \\n\\n congratulation from I as well , use the...</td>\n",
       "    </tr>\n",
       "    <tr>\n",
       "      <th>6</th>\n",
       "      <td>COCKSUCKER BEFORE YOU PISS AROUND ON MY WORK</td>\n",
       "      <td>1</td>\n",
       "      <td>cocksucker before you piss around on my work</td>\n",
       "    </tr>\n",
       "    <tr>\n",
       "      <th>7</th>\n",
       "      <td>Your vandalism to the Matt Shirvington article...</td>\n",
       "      <td>0</td>\n",
       "      <td>your vandalism to the matt shirvington article...</td>\n",
       "    </tr>\n",
       "    <tr>\n",
       "      <th>8</th>\n",
       "      <td>Sorry if the word 'nonsense' was offensive to ...</td>\n",
       "      <td>0</td>\n",
       "      <td>sorry if the word ' nonsense ' be offensive to...</td>\n",
       "    </tr>\n",
       "    <tr>\n",
       "      <th>9</th>\n",
       "      <td>alignment on this subject and which are contra...</td>\n",
       "      <td>0</td>\n",
       "      <td>alignment on this subject and which be contrar...</td>\n",
       "    </tr>\n",
       "    <tr>\n",
       "      <th>10</th>\n",
       "      <td>\"\\nFair use rationale for Image:Wonju.jpg\\n\\nT...</td>\n",
       "      <td>0</td>\n",
       "      <td>\" \\n fair use rationale for image : wonju.jpg ...</td>\n",
       "    </tr>\n",
       "    <tr>\n",
       "      <th>11</th>\n",
       "      <td>bbq \\n\\nbe a man and lets discuss it-maybe ove...</td>\n",
       "      <td>0</td>\n",
       "      <td>bbq \\n\\n be a man and let discuss it - maybe o...</td>\n",
       "    </tr>\n",
       "    <tr>\n",
       "      <th>12</th>\n",
       "      <td>Hey... what is it..\\n@ | talk .\\nWhat is it......</td>\n",
       "      <td>1</td>\n",
       "      <td>hey ... what be it .. \\n @ | talk . \\n what be...</td>\n",
       "    </tr>\n",
       "    <tr>\n",
       "      <th>13</th>\n",
       "      <td>Before you start throwing accusations and warn...</td>\n",
       "      <td>0</td>\n",
       "      <td>before you start throw accusation and warning ...</td>\n",
       "    </tr>\n",
       "    <tr>\n",
       "      <th>14</th>\n",
       "      <td>Oh, and the girl above started her arguments w...</td>\n",
       "      <td>0</td>\n",
       "      <td>oh , and the girl above start her argument wit...</td>\n",
       "    </tr>\n",
       "    <tr>\n",
       "      <th>15</th>\n",
       "      <td>\"\\n\\nJuelz Santanas Age\\n\\nIn 2002, Juelz Sant...</td>\n",
       "      <td>0</td>\n",
       "      <td>\" \\n\\n juelz santanas age \\n\\n in 2002 , juelz...</td>\n",
       "    </tr>\n",
       "    <tr>\n",
       "      <th>16</th>\n",
       "      <td>Bye! \\n\\nDon't look, come or think of comming ...</td>\n",
       "      <td>1</td>\n",
       "      <td>bye ! \\n\\n do not look , come or think of comm...</td>\n",
       "    </tr>\n",
       "    <tr>\n",
       "      <th>17</th>\n",
       "      <td>REDIRECT Talk:Voydan Pop Georgiev- Chernodrinski</td>\n",
       "      <td>0</td>\n",
       "      <td>redirect talk : voydan pop georgiev- chernodri...</td>\n",
       "    </tr>\n",
       "    <tr>\n",
       "      <th>18</th>\n",
       "      <td>The Mitsurugi point made no sense - why not ar...</td>\n",
       "      <td>0</td>\n",
       "      <td>the mitsurugi point make no sense - why not ar...</td>\n",
       "    </tr>\n",
       "    <tr>\n",
       "      <th>19</th>\n",
       "      <td>Don't mean to bother you \\n\\nI see that you're...</td>\n",
       "      <td>0</td>\n",
       "      <td>do not mean to bother you \\n\\n I see that you ...</td>\n",
       "    </tr>\n",
       "  </tbody>\n",
       "</table>\n",
       "</div>"
      ],
      "text/plain": [
       "                                                 text  toxic  \\\n",
       "0   Explanation\\nWhy the edits made under my usern...      0   \n",
       "1   D'aww! He matches this background colour I'm s...      0   \n",
       "2   Hey man, I'm really not trying to edit war. It...      0   \n",
       "3   \"\\nMore\\nI can't make any real suggestions on ...      0   \n",
       "4   You, sir, are my hero. Any chance you remember...      0   \n",
       "5   \"\\n\\nCongratulations from me as well, use the ...      0   \n",
       "6        COCKSUCKER BEFORE YOU PISS AROUND ON MY WORK      1   \n",
       "7   Your vandalism to the Matt Shirvington article...      0   \n",
       "8   Sorry if the word 'nonsense' was offensive to ...      0   \n",
       "9   alignment on this subject and which are contra...      0   \n",
       "10  \"\\nFair use rationale for Image:Wonju.jpg\\n\\nT...      0   \n",
       "11  bbq \\n\\nbe a man and lets discuss it-maybe ove...      0   \n",
       "12  Hey... what is it..\\n@ | talk .\\nWhat is it......      1   \n",
       "13  Before you start throwing accusations and warn...      0   \n",
       "14  Oh, and the girl above started her arguments w...      0   \n",
       "15  \"\\n\\nJuelz Santanas Age\\n\\nIn 2002, Juelz Sant...      0   \n",
       "16  Bye! \\n\\nDon't look, come or think of comming ...      1   \n",
       "17   REDIRECT Talk:Voydan Pop Georgiev- Chernodrinski      0   \n",
       "18  The Mitsurugi point made no sense - why not ar...      0   \n",
       "19  Don't mean to bother you \\n\\nI see that you're...      0   \n",
       "\n",
       "                                            lemm_text  \n",
       "0   explanation \\n why the edit make under my user...  \n",
       "1   d'aww ! he match this background colour I be s...  \n",
       "2   hey man , I be really not try to edit war . it...  \n",
       "3   \" \\n more \\n I can not make any real suggestio...  \n",
       "4   you , sir , be my hero . any chance you rememb...  \n",
       "5   \" \\n\\n congratulation from I as well , use the...  \n",
       "6        cocksucker before you piss around on my work  \n",
       "7   your vandalism to the matt shirvington article...  \n",
       "8   sorry if the word ' nonsense ' be offensive to...  \n",
       "9   alignment on this subject and which be contrar...  \n",
       "10  \" \\n fair use rationale for image : wonju.jpg ...  \n",
       "11  bbq \\n\\n be a man and let discuss it - maybe o...  \n",
       "12  hey ... what be it .. \\n @ | talk . \\n what be...  \n",
       "13  before you start throw accusation and warning ...  \n",
       "14  oh , and the girl above start her argument wit...  \n",
       "15  \" \\n\\n juelz santanas age \\n\\n in 2002 , juelz...  \n",
       "16  bye ! \\n\\n do not look , come or think of comm...  \n",
       "17  redirect talk : voydan pop georgiev- chernodri...  \n",
       "18  the mitsurugi point make no sense - why not ar...  \n",
       "19  do not mean to bother you \\n\\n I see that you ...  "
      ]
     },
     "metadata": {},
     "output_type": "display_data"
    }
   ],
   "source": [
    "display(df_coment.head(20))"
   ]
  },
  {
   "cell_type": "code",
   "execution_count": 13,
   "metadata": {},
   "outputs": [],
   "source": [
    "df_coment = df_coment.drop(['text'], axis=1)"
   ]
  },
  {
   "cell_type": "code",
   "execution_count": 14,
   "metadata": {},
   "outputs": [],
   "source": [
    "target = df_coment['toxic'] \n",
    "features = df_coment.drop(['toxic'], axis=1) "
   ]
  },
  {
   "cell_type": "code",
   "execution_count": 15,
   "metadata": {},
   "outputs": [],
   "source": [
    "#разделяем на выборку для обучения тестирования и валидации, 60/20/20 \n",
    "features_train, features_valid, target_train, target_valid = train_test_split(features, \n",
    "                                                                              target, \n",
    "                                                                              test_size=0.4, \n",
    "                                                                              random_state=2504)\n",
    "\n",
    "features_valid, features_test, target_valid, target_test = train_test_split(features_valid, \n",
    "                                                                            target_valid, \n",
    "                                                                            test_size=0.5,\n",
    "                                                                            random_state=2504)"
   ]
  },
  {
   "cell_type": "code",
   "execution_count": 16,
   "metadata": {},
   "outputs": [
    {
     "name": "stderr",
     "output_type": "stream",
     "text": [
      "[nltk_data] Downloading package stopwords to /home/jovyan/nltk_data...\n",
      "[nltk_data]   Unzipping corpora/stopwords.zip.\n"
     ]
    }
   ],
   "source": [
    "nltk.download('stopwords') \n",
    "stopwords = set(nltk_stopwords.words('english')) \n",
    "\n",
    "count_tf_idf = TfidfVectorizer(stop_words=stopwords) "
   ]
  },
  {
   "cell_type": "code",
   "execution_count": 17,
   "metadata": {},
   "outputs": [
    {
     "name": "stdout",
     "output_type": "stream",
     "text": [
      "(95742, 127194)\n",
      "(31914, 127194)\n",
      "(31915, 127194)\n"
     ]
    }
   ],
   "source": [
    "features_train_V = count_tf_idf.fit_transform(features_train['lemm_text'].values)\n",
    "features_valid_V= count_tf_idf.transform(features_valid['lemm_text'].values)\n",
    "features_test_V= count_tf_idf.transform(features_test['lemm_text'].values)\n",
    "print(features_train_V.shape)\n",
    "print(features_valid_V.shape)\n",
    "print(features_test_V.shape)"
   ]
  },
  {
   "cell_type": "markdown",
   "metadata": {},
   "source": [
    "## Обучение"
   ]
  },
  {
   "cell_type": "code",
   "execution_count": 18,
   "metadata": {},
   "outputs": [],
   "source": [
    "cv_counts = 3 # количество блоков кросс валидации"
   ]
  },
  {
   "cell_type": "code",
   "execution_count": 33,
   "metadata": {},
   "outputs": [],
   "source": [
    "models_scors = pd.DataFrame(columns = ['model', 'f1', 'lirning_time', 'predicting_time']) # таблица для результатов"
   ]
  },
  {
   "cell_type": "markdown",
   "metadata": {},
   "source": [
    "### Модель логическая классификация"
   ]
  },
  {
   "cell_type": "code",
   "execution_count": 34,
   "metadata": {},
   "outputs": [
    {
     "name": "stdout",
     "output_type": "stream",
     "text": [
      "Cреднее гармоническое полноты и точности F1 = 0.687, при CV=3\n",
      "CPU times: user 39.4 s, sys: 54.1 s, total: 1min 33s\n",
      "Wall time: 1min 33s\n"
     ]
    }
   ],
   "source": [
    "%%time\n",
    "\n",
    "model_logic = LogisticRegression() \n",
    "train_logic_f1 = cross_val_score(model_logic, \n",
    "                      features_train_V, \n",
    "                      target_train, \n",
    "                      cv=cv_counts, \n",
    "                      scoring='f1').mean()\n",
    "print(f'Cреднее гармоническое полноты и точности F1 = {train_logic_f1:.3}, при CV={cv_counts}')"
   ]
  },
  {
   "cell_type": "markdown",
   "metadata": {},
   "source": [
    "**С балансировкой классов**"
   ]
  },
  {
   "cell_type": "code",
   "execution_count": 35,
   "metadata": {},
   "outputs": [
    {
     "name": "stdout",
     "output_type": "stream",
     "text": [
      "Cреднее гармоническое полноты и точности F1 = 0.744, при CV=3\n",
      "CPU times: user 36.6 s, sys: 49.8 s, total: 1min 26s\n",
      "Wall time: 1min 26s\n"
     ]
    }
   ],
   "source": [
    "%%time\n",
    "\n",
    "model_logic_b = LogisticRegression(class_weight='balanced')\n",
    "train_logic_b_f1= cross_val_score(model_logic_b, \n",
    "                                    features_train_V, \n",
    "                                    target_train, \n",
    "                                    cv=cv_counts, \n",
    "                                    scoring='f1').mean()\n",
    "print(f'Cреднее гармоническое полноты и точности F1 = {train_logic_b_f1:.3}, при CV={cv_counts}')"
   ]
  },
  {
   "cell_type": "markdown",
   "metadata": {},
   "source": [
    "**По результатам видно, что балансировка классов улучшает показатель качества модели, но показатель все еще не достаточен. Модель обучается достаточно долго тюкю данных много, поэтому используем выравнивание классов путем downsempling.** "
   ]
  },
  {
   "cell_type": "code",
   "execution_count": 19,
   "metadata": {},
   "outputs": [],
   "source": [
    "def downsample(features, target, fraction): \n",
    "    features_zeros = features[target == 0] \n",
    "    features_ones = features[target == 1] \n",
    "    target_zeros = target[target == 0] \n",
    "    target_ones = target[target == 1] \n",
    "\n",
    "    features_downsampled = pd.concat(\n",
    "        [features_zeros.sample(frac=fraction, random_state=2504)] + [features_ones]) \n",
    "    \n",
    "    target_downsampled = pd.concat(\n",
    "        [target_zeros.sample(frac=fraction, random_state=2504)] + [target_ones]) \n",
    "    \n",
    "    features_downsampled, target_downsampled = shuffle(\n",
    "        features_downsampled, target_downsampled, random_state=2504) \n",
    "    \n",
    "    return features_downsampled, target_downsampled \n"
   ]
  },
  {
   "cell_type": "code",
   "execution_count": 20,
   "metadata": {
    "scrolled": true
   },
   "outputs": [],
   "source": [
    "features_train_down, target_train_down=downsample(features_train, target_train, 0.2)\n",
    "features_train_down=features_train_down.reset_index(drop=True)\n",
    "target_train_down=target_train_down.reset_index(drop=True)\n"
   ]
  },
  {
   "cell_type": "code",
   "execution_count": 21,
   "metadata": {},
   "outputs": [],
   "source": [
    "features_train_down = count_tf_idf.transform(features_train_down['lemm_text']\n",
    "                                                   .values)\n",
    "del count_tf_idf\n",
    "del stopwords"
   ]
  },
  {
   "cell_type": "code",
   "execution_count": 22,
   "metadata": {},
   "outputs": [
    {
     "name": "stdout",
     "output_type": "stream",
     "text": [
      "Cреднее гармоническое полноты и точности F1 = 0.831, при CV=3\n",
      "CPU times: user 28.7 s, sys: 42.6 s, total: 1min 11s\n",
      "Wall time: 1min 11s\n"
     ]
    }
   ],
   "source": [
    "%%time\n",
    "\n",
    "model_logic = LogisticRegression() \n",
    "train_logic_f1 = cross_val_score(model_logic, \n",
    "                      features_train_down, \n",
    "                      target_train_down, \n",
    "                      cv=cv_counts, \n",
    "                      scoring='f1').mean()\n",
    "print(f'Cреднее гармоническое полноты и точности F1 = {train_logic_f1:.3}, при CV={cv_counts}')"
   ]
  },
  {
   "cell_type": "markdown",
   "metadata": {},
   "source": [
    "**Проверка наилучшей модели**"
   ]
  },
  {
   "cell_type": "code",
   "execution_count": 23,
   "metadata": {},
   "outputs": [
    {
     "name": "stdout",
     "output_type": "stream",
     "text": [
      "Cреднее гармоническое полноты и точности F1 = 0.7619\n",
      "CPU times: user 6.24 s, sys: 8.28 s, total: 14.5 s\n",
      "Wall time: 14.5 s\n"
     ]
    }
   ],
   "source": [
    "%%time\n",
    "\n",
    "start_time = time.time() \n",
    "model_logic.fit(features_train_down, target_train_down)  \n",
    "lirning_time = time.time() - start_time \n",
    "\n",
    "start_time = time.time()\n",
    "predictions_logic = model_logic.predict(features_valid_V) \n",
    "predicting_time = time.time()- start_time\n",
    "\n",
    "\n",
    "result_logic =f1_score(target_valid, predictions_logic) \n",
    "print(f'Cреднее гармоническое полноты и точности F1 = {result_logic:.4}')"
   ]
  },
  {
   "cell_type": "markdown",
   "metadata": {},
   "source": [
    "**Сохранение результатов**"
   ]
  },
  {
   "cell_type": "code",
   "execution_count": 41,
   "metadata": {},
   "outputs": [],
   "source": [
    "models_scors = models_scors.append({'model': 'model_logic', 'f1': result_logic,\n",
    "                    'lirning_time': lirning_time, 'predicting_time': predicting_time}, ignore_index=True)"
   ]
  },
  {
   "cell_type": "markdown",
   "metadata": {},
   "source": [
    "### Модель, дерево решений"
   ]
  },
  {
   "cell_type": "code",
   "execution_count": 42,
   "metadata": {
    "scrolled": true
   },
   "outputs": [
    {
     "name": "stdout",
     "output_type": "stream",
     "text": [
      "Cреднее гармоническое полноты и точности F1, при CV=3 \n",
      "0.787324 for {'max_depth': 60, 'random_state': 2504}\n",
      "0.789692 for {'max_depth': 61, 'random_state': 2504}\n",
      "0.789821 for {'max_depth': 62, 'random_state': 2504}\n",
      "0.791598 for {'max_depth': 63, 'random_state': 2504}\n",
      "0.791423 for {'max_depth': 64, 'random_state': 2504}\n",
      "0.790479 for {'max_depth': 65, 'random_state': 2504}\n",
      "0.791272 for {'max_depth': 66, 'random_state': 2504}\n",
      "0.793128 for {'max_depth': 67, 'random_state': 2504}\n",
      "0.792280 for {'max_depth': 68, 'random_state': 2504}\n",
      "0.792322 for {'max_depth': 69, 'random_state': 2504}\n",
      "0.794068 for {'max_depth': 70, 'random_state': 2504}\n",
      "0.794470 for {'max_depth': 71, 'random_state': 2504}\n",
      "0.794261 for {'max_depth': 72, 'random_state': 2504}\n",
      "0.796022 for {'max_depth': 73, 'random_state': 2504}\n",
      "0.796437 for {'max_depth': 74, 'random_state': 2504}\n",
      "0.797156 for {'max_depth': 75, 'random_state': 2504}\n",
      "0.795744 for {'max_depth': 76, 'random_state': 2504}\n",
      "0.797511 for {'max_depth': 77, 'random_state': 2504}\n",
      "0.797269 for {'max_depth': 78, 'random_state': 2504}\n",
      "0.797695 for {'max_depth': 79, 'random_state': 2504}\n",
      "\n",
      "Наилучшие найденые параметры:\n",
      "\n",
      "{'max_depth': 79, 'random_state': 2504}\n",
      "CPU times: user 5min 13s, sys: 353 ms, total: 5min 13s\n",
      "Wall time: 5min 14s\n"
     ]
    }
   ],
   "source": [
    "%%time\n",
    "model_DTC = DecisionTreeClassifier()\n",
    "parametrs=[{ \n",
    "    'max_depth':range(60,80,1),  \n",
    "    'random_state':[2504] \n",
    "}]\n",
    "search_best_param=GridSearchCV(model_DTC, \n",
    "                               parametrs, \n",
    "                               cv=cv_counts, \n",
    "                               scoring='f1')  \n",
    "search_best_param.fit(features_train_down,  target_train_down) \n",
    "print(f'Cреднее гармоническое полноты и точности F1, при CV={cv_counts} ')\n",
    "means =search_best_param.cv_results_['mean_test_score']\n",
    "for mean, params in zip(means, search_best_param.cv_results_['params']):\n",
    "    print(\"%0.6f for %r\"% ((mean), params))\n",
    "print()\n",
    "print(\"Наилучшие найденые параметры:\")\n",
    "print()\n",
    "print(search_best_param.best_params_)\n"
   ]
  },
  {
   "cell_type": "markdown",
   "metadata": {},
   "source": [
    "**Проверка наилучшей модели**"
   ]
  },
  {
   "cell_type": "code",
   "execution_count": 43,
   "metadata": {},
   "outputs": [
    {
     "name": "stdout",
     "output_type": "stream",
     "text": [
      "Cреднее гармоническое полноты и точности F1 = 0.6572\n",
      "CPU times: user 9.26 s, sys: 12 ms, total: 9.27 s\n",
      "Wall time: 9.28 s\n"
     ]
    }
   ],
   "source": [
    "%%time\n",
    "\n",
    "model_DTС = DecisionTreeClassifier(random_state=2504, max_depth=search_best_param.best_params_['max_depth']) \n",
    "\n",
    "start_time = time.time() \n",
    "model_DTС.fit(features_train_down, target_train_down)\n",
    "lirning_time = time.time() - start_time \n",
    "\n",
    "start_time = time.time()\n",
    "predictions_DTС = model_DTС.predict(features_valid_V) \n",
    "predicting_time = time.time()- start_time\n",
    "\n",
    "result_DTС =f1_score(target_valid, predictions_DTС) \n",
    "print(f'Cреднее гармоническое полноты и точности F1 = {result_DTС:.4}') "
   ]
  },
  {
   "cell_type": "markdown",
   "metadata": {},
   "source": [
    "**Сохранение результатов**"
   ]
  },
  {
   "cell_type": "code",
   "execution_count": 44,
   "metadata": {},
   "outputs": [],
   "source": [
    "models_scors = models_scors.append({'model': 'DecisionTreeClassifier', 'f1': result_DTС,\n",
    "                    'lirning_time': lirning_time, 'predicting_time': predicting_time}, ignore_index=True)"
   ]
  },
  {
   "cell_type": "markdown",
   "metadata": {},
   "source": [
    "### Модель случайный лес"
   ]
  },
  {
   "cell_type": "code",
   "execution_count": 45,
   "metadata": {
    "scrolled": true
   },
   "outputs": [
    {
     "name": "stdout",
     "output_type": "stream",
     "text": [
      "Cреднее гармоническое полноты и точности F1, при CV=3\n",
      "0.037250 for {'max_depth': 13, 'n_estimators': 130}\n",
      "0.032399 for {'max_depth': 13, 'n_estimators': 135}\n",
      "0.029218 for {'max_depth': 13, 'n_estimators': 140}\n",
      "0.027249 for {'max_depth': 13, 'n_estimators': 145}\n",
      "0.031798 for {'max_depth': 13, 'n_estimators': 150}\n",
      "0.039718 for {'max_depth': 14, 'n_estimators': 130}\n",
      "0.039944 for {'max_depth': 14, 'n_estimators': 135}\n",
      "0.037876 for {'max_depth': 14, 'n_estimators': 140}\n",
      "0.039328 for {'max_depth': 14, 'n_estimators': 145}\n",
      "0.043614 for {'max_depth': 14, 'n_estimators': 150}\n",
      "0.058269 for {'max_depth': 15, 'n_estimators': 130}\n",
      "0.052053 for {'max_depth': 15, 'n_estimators': 135}\n",
      "0.050398 for {'max_depth': 15, 'n_estimators': 140}\n",
      "0.045747 for {'max_depth': 15, 'n_estimators': 145}\n",
      "0.052650 for {'max_depth': 15, 'n_estimators': 150}\n",
      "\n",
      "Наилучшие найденые параметры:\n",
      "\n",
      "{'max_depth': 15, 'n_estimators': 130}\n",
      "CPU times: user 6min 35s, sys: 674 ms, total: 6min 36s\n",
      "Wall time: 6min 36s\n"
     ]
    }
   ],
   "source": [
    "%%time\n",
    "model_RFС = RandomForestClassifier ()\n",
    "parametrs={\n",
    "    'n_estimators':range(130,151,5),\n",
    "    'max_depth':range(13,16,1) \n",
    "}\n",
    "search_best_param_RFC=GridSearchCV(model_RFС,\n",
    "                                   parametrs,\n",
    "                                   scoring='f1')\n",
    "search_best_param_RFC.fit(features_train_down,  target_train_down)\n",
    "\n",
    "print(f'Cреднее гармоническое полноты и точности F1, при CV={cv_counts}')\n",
    "means =search_best_param_RFC.cv_results_['mean_test_score']\n",
    "for mean, params in zip(means, search_best_param_RFC.cv_results_['params']):\n",
    "    print(\"%0.6f for %r\"% ((mean), params))\n",
    "print()\n",
    "print(\"Наилучшие найденые параметры:\")\n",
    "print()\n",
    "print(search_best_param_RFC.best_params_)"
   ]
  },
  {
   "cell_type": "markdown",
   "metadata": {},
   "source": [
    "**Проверка наилучшей модели**"
   ]
  },
  {
   "cell_type": "code",
   "execution_count": 46,
   "metadata": {},
   "outputs": [
    {
     "name": "stdout",
     "output_type": "stream",
     "text": [
      "Cреднее гармоническое полноты и точности F1 = 0.04204\n",
      "CPU times: user 7.3 s, sys: 6.07 ms, total: 7.3 s\n",
      "Wall time: 7.31 s\n"
     ]
    }
   ],
   "source": [
    "%%time\n",
    "\n",
    "model_RFС = RandomForestClassifier(random_state=2504,\n",
    "                                   max_depth=search_best_param_RFC.best_params_['max_depth'],\n",
    "                                  n_estimators=search_best_param_RFC.best_params_['n_estimators'])\n",
    "\n",
    "start_time = time.time() \n",
    "model_RFС.fit(features_train_down, target_train_down)  \n",
    "lirning_time = time.time() - start_time \n",
    "\n",
    "start_time = time.time()\n",
    "predictions_RFС = model_RFС.predict(features_valid_V) \n",
    "predicting_time = time.time()- start_time\n",
    "\n",
    "result_RFС =f1_score(target_valid, predictions_RFС) \n",
    "print(f'Cреднее гармоническое полноты и точности F1 = {result_RFС:.4}') "
   ]
  },
  {
   "cell_type": "markdown",
   "metadata": {},
   "source": [
    "**Сохранение результатов**"
   ]
  },
  {
   "cell_type": "code",
   "execution_count": 47,
   "metadata": {},
   "outputs": [],
   "source": [
    "models_scors = models_scors.append({'model': 'RandomForestClassifier', 'f1': result_RFС,\n",
    "                    'lirning_time': lirning_time, 'predicting_time': predicting_time}, ignore_index=True)"
   ]
  },
  {
   "cell_type": "markdown",
   "metadata": {},
   "source": [
    "### Модель,  CatBoostClassifier классификация"
   ]
  },
  {
   "cell_type": "markdown",
   "metadata": {},
   "source": [
    "**Подбор параметров и кросс валидация**"
   ]
  },
  {
   "cell_type": "code",
   "execution_count": 48,
   "metadata": {},
   "outputs": [
    {
     "name": "stdout",
     "output_type": "stream",
     "text": [
      "CPU times: user 1h 52min 38s, sys: 34.7 s, total: 1h 53min 12s\n",
      "Wall time: 1h 53min 25s\n"
     ]
    },
    {
     "data": {
      "text/plain": [
       "GridSearchCV(estimator=<catboost.core.CatBoostClassifier object at 0x7f08eefbb2e0>,\n",
       "             param_grid=[{'depth': [7], 'iterations': [500],\n",
       "                          'learning_rate': [0.45, 0.5, 0.55],\n",
       "                          'random_state': [2504], 'verbose': [False]}],\n",
       "             scoring='f1')"
      ]
     },
     "execution_count": 48,
     "metadata": {},
     "output_type": "execute_result"
    }
   ],
   "source": [
    "%%time\n",
    "model_CatBR = CatBoostClassifier()\n",
    "parametrs=[{'learning_rate':[0.45,0.5,0.55],\n",
    "                              'iterations': [500], \n",
    "                              'depth': [7], \n",
    "                              'random_state':[2504], \n",
    "                              'verbose':[False] \n",
    "           }]\n",
    "search_best_param_CatBR=GridSearchCV(model_CatBR,parametrs,scoring='f1')\n",
    "search_best_param_CatBR.fit(features_train_down, target_train_down) "
   ]
  },
  {
   "cell_type": "code",
   "execution_count": 49,
   "metadata": {},
   "outputs": [
    {
     "name": "stdout",
     "output_type": "stream",
     "text": [
      "Cреднее гармоническое полноты и точности F1\n",
      "0.855149 for {'depth': 7, 'iterations': 500, 'learning_rate': 0.45, 'random_state': 2504, 'verbose': False}\n",
      "0.854421 for {'depth': 7, 'iterations': 500, 'learning_rate': 0.5, 'random_state': 2504, 'verbose': False}\n",
      "0.855760 for {'depth': 7, 'iterations': 500, 'learning_rate': 0.55, 'random_state': 2504, 'verbose': False}\n",
      "\n",
      "Наилучшие найденые параметры:\n",
      "\n",
      "{'depth': 7, 'iterations': 500, 'learning_rate': 0.55, 'random_state': 2504, 'verbose': False}\n"
     ]
    }
   ],
   "source": [
    "print(f'Cреднее гармоническое полноты и точности F1')\n",
    "means =search_best_param_CatBR.cv_results_['mean_test_score']\n",
    "for mean, params in zip(means, search_best_param_CatBR.cv_results_['params']):\n",
    "    print(\"%0.6f for %r\"% ((mean), params))\n",
    "print()\n",
    "print(\"Наилучшие найденые параметры:\")\n",
    "print()\n",
    "print(search_best_param_CatBR.best_params_)"
   ]
  },
  {
   "cell_type": "markdown",
   "metadata": {},
   "source": [
    "**Кросс валидация**"
   ]
  },
  {
   "cell_type": "code",
   "execution_count": 50,
   "metadata": {},
   "outputs": [
    {
     "name": "stdout",
     "output_type": "stream",
     "text": [
      "Cреднее гармоническое полноты и точности F1 = 0.8491, при CV=3\n",
      "CPU times: user 18min 48s, sys: 5.48 s, total: 18min 53s\n",
      "Wall time: 18min 56s\n"
     ]
    }
   ],
   "source": [
    "%%time\n",
    "model_CatBR = CatBoostClassifier(learning_rate= search_best_param_CatBR.best_params_['learning_rate'], \n",
    "                              iterations= search_best_param_CatBR.best_params_['iterations'],\n",
    "                              depth=search_best_param_CatBR.best_params_['depth'],\n",
    "                              random_state= 2504, \n",
    "                              verbose=False \n",
    "                              )\n",
    "result_CV_CatBR=cross_val_score(model_CatBR, \n",
    "                    features_train_down,\n",
    "                    target_train_down, \n",
    "                    cv=cv_counts, \n",
    "                    scoring='f1').mean()\n",
    "print(f'Cреднее гармоническое полноты и точности F1 = {result_CV_CatBR:.4}, при CV={cv_counts}') # среднеквадратичная ошибка "
   ]
  },
  {
   "cell_type": "markdown",
   "metadata": {},
   "source": [
    "**Проверка наилучшей модели**"
   ]
  },
  {
   "cell_type": "code",
   "execution_count": 51,
   "metadata": {},
   "outputs": [
    {
     "name": "stdout",
     "output_type": "stream",
     "text": [
      "Cреднее гармоническое полноты и точности F1 = 0.7537\n"
     ]
    }
   ],
   "source": [
    "start_time = time.time() \n",
    "model_CatBR.fit(features_train_down, target_train_down)\n",
    "lirning_time = time.time() - start_time \n",
    "\n",
    "start_time = time.time()\n",
    "predictions_CatBR = model_CatBR.predict(features_valid_V) \n",
    "predicting_time = time.time()- start_time\n",
    "\n",
    "result_CatBR =f1_score(target_valid, predictions_CatBR) \n",
    "print(f'Cреднее гармоническое полноты и точности F1 = {result_CatBR:.4}')"
   ]
  },
  {
   "cell_type": "markdown",
   "metadata": {},
   "source": [
    "**Сохранение результатов**"
   ]
  },
  {
   "cell_type": "code",
   "execution_count": 52,
   "metadata": {},
   "outputs": [],
   "source": [
    "models_scors = models_scors.append({'model': 'CatBoostClassifier', 'f1': result_CatBR,\n",
    "                    'lirning_time': lirning_time, 'predicting_time': predicting_time}, ignore_index=True)"
   ]
  },
  {
   "cell_type": "code",
   "execution_count": 53,
   "metadata": {},
   "outputs": [
    {
     "data": {
      "text/html": [
       "<div>\n",
       "<style scoped>\n",
       "    .dataframe tbody tr th:only-of-type {\n",
       "        vertical-align: middle;\n",
       "    }\n",
       "\n",
       "    .dataframe tbody tr th {\n",
       "        vertical-align: top;\n",
       "    }\n",
       "\n",
       "    .dataframe thead th {\n",
       "        text-align: right;\n",
       "    }\n",
       "</style>\n",
       "<table border=\"1\" class=\"dataframe\">\n",
       "  <thead>\n",
       "    <tr style=\"text-align: right;\">\n",
       "      <th></th>\n",
       "      <th>model</th>\n",
       "      <th>f1</th>\n",
       "      <th>lirning_time</th>\n",
       "      <th>predicting_time</th>\n",
       "    </tr>\n",
       "  </thead>\n",
       "  <tbody>\n",
       "    <tr>\n",
       "      <th>0</th>\n",
       "      <td>model_logic</td>\n",
       "      <td>0.761947</td>\n",
       "      <td>13.097542</td>\n",
       "      <td>0.005426</td>\n",
       "    </tr>\n",
       "    <tr>\n",
       "      <th>1</th>\n",
       "      <td>DecisionTreeClassifier</td>\n",
       "      <td>0.657224</td>\n",
       "      <td>9.250070</td>\n",
       "      <td>0.020988</td>\n",
       "    </tr>\n",
       "    <tr>\n",
       "      <th>2</th>\n",
       "      <td>RandomForestClassifier</td>\n",
       "      <td>0.042042</td>\n",
       "      <td>6.703528</td>\n",
       "      <td>0.600744</td>\n",
       "    </tr>\n",
       "    <tr>\n",
       "      <th>3</th>\n",
       "      <td>CatBoostClassifier</td>\n",
       "      <td>0.753684</td>\n",
       "      <td>510.451032</td>\n",
       "      <td>0.563545</td>\n",
       "    </tr>\n",
       "  </tbody>\n",
       "</table>\n",
       "</div>"
      ],
      "text/plain": [
       "                    model        f1  lirning_time  predicting_time\n",
       "0             model_logic  0.761947     13.097542         0.005426\n",
       "1  DecisionTreeClassifier  0.657224      9.250070         0.020988\n",
       "2  RandomForestClassifier  0.042042      6.703528         0.600744\n",
       "3      CatBoostClassifier  0.753684    510.451032         0.563545"
      ]
     },
     "metadata": {},
     "output_type": "display_data"
    }
   ],
   "source": [
    "display(models_scors)"
   ]
  },
  {
   "cell_type": "markdown",
   "metadata": {},
   "source": [
    "### Выводы\n",
    "\n",
    "1. Наилучшее значение метрики f1 было достигнуто моделями  LogisticRegression и CatBoostClassifier, но у логической регрессии меньшее время обучения и предсказания\n",
    "2. CatBoostClassifier достигает хорошего значения метрики f1, но имеет значительно болшее время обучения. \n",
    "3. Для решения задачи выберем модель показавшей наилучшее значение метрики f1, т.е. модель  LogisticRegression\n",
    "4. Даун семплинг и выравнивание классов помгло улучшить метрику f1 и уменьшить время обучения "
   ]
  },
  {
   "cell_type": "markdown",
   "metadata": {},
   "source": [
    "**Тест**"
   ]
  },
  {
   "cell_type": "code",
   "execution_count": 24,
   "metadata": {},
   "outputs": [
    {
     "name": "stdout",
     "output_type": "stream",
     "text": [
      "Cреднее гармоническое полноты и точности F1 = 0.7531\n"
     ]
    }
   ],
   "source": [
    "predictions_logic_1 = model_logic.predict(features_test_V)\n",
    "result_logic_1 =f1_score(target_test, predictions_logic_1)\n",
    "print(f'Cреднее гармоническое полноты и точности F1 = {result_logic_1:.4}')"
   ]
  },
  {
   "cell_type": "markdown",
   "metadata": {},
   "source": [
    "1. Модель  LogisticRegression позволяет достичь требуемого значения метрики f1\n",
    "2. Модель  LogisticRegression имеет не большое время обучения и предсказания\n",
    "3. При более тонкой настройке модель CatBoostClassifier может позволить получить более хорошие результаты в перспективе."
   ]
  }
 ],
 "metadata": {
  "ExecuteTimeLog": [
   {
    "duration": 378,
    "start_time": "2022-07-19T14:27:12.707Z"
   },
   {
    "duration": 3077,
    "start_time": "2022-07-19T14:27:13.684Z"
   },
   {
    "duration": 919,
    "start_time": "2022-07-19T14:43:05.513Z"
   },
   {
    "duration": 691,
    "start_time": "2022-07-19T14:43:06.434Z"
   },
   {
    "duration": 14,
    "start_time": "2022-07-19T14:44:20.159Z"
   },
   {
    "duration": 12,
    "start_time": "2022-07-19T14:56:25.217Z"
   },
   {
    "duration": 92,
    "start_time": "2022-07-19T14:58:49.942Z"
   },
   {
    "duration": 5,
    "start_time": "2022-07-19T14:58:58.202Z"
   },
   {
    "duration": 11,
    "start_time": "2022-07-19T15:00:48.971Z"
   },
   {
    "duration": 12,
    "start_time": "2022-07-19T15:01:16.893Z"
   },
   {
    "duration": 11,
    "start_time": "2022-07-19T15:01:32.571Z"
   },
   {
    "duration": 9,
    "start_time": "2022-07-19T15:01:41.395Z"
   },
   {
    "duration": 9,
    "start_time": "2022-07-19T15:02:31.421Z"
   },
   {
    "duration": 9,
    "start_time": "2022-07-19T15:02:54.353Z"
   },
   {
    "duration": 11,
    "start_time": "2022-07-19T15:03:01.048Z"
   },
   {
    "duration": 9,
    "start_time": "2022-07-19T15:03:10.218Z"
   },
   {
    "duration": 10,
    "start_time": "2022-07-19T15:10:46.232Z"
   },
   {
    "duration": 7,
    "start_time": "2022-07-19T15:10:58.934Z"
   },
   {
    "duration": 7,
    "start_time": "2022-07-19T15:11:05.169Z"
   },
   {
    "duration": 6,
    "start_time": "2022-07-19T15:11:12.452Z"
   },
   {
    "duration": 4,
    "start_time": "2022-07-19T15:19:58.452Z"
   },
   {
    "duration": 10,
    "start_time": "2022-07-19T15:19:59.536Z"
   },
   {
    "duration": 90781,
    "start_time": "2022-07-19T15:20:26.762Z"
   },
   {
    "duration": 10,
    "start_time": "2022-07-19T15:21:57.545Z"
   },
   {
    "duration": 37,
    "start_time": "2022-07-19T15:50:24.294Z"
   },
   {
    "duration": 10,
    "start_time": "2022-07-19T15:55:55.142Z"
   },
   {
    "duration": 8,
    "start_time": "2022-07-19T15:55:58.582Z"
   },
   {
    "duration": 192,
    "start_time": "2022-07-19T15:56:23.930Z"
   },
   {
    "duration": 380,
    "start_time": "2022-07-19T15:56:32.995Z"
   },
   {
    "duration": 4,
    "start_time": "2022-07-19T15:57:25.377Z"
   },
   {
    "duration": 14,
    "start_time": "2022-07-19T15:57:32.600Z"
   },
   {
    "duration": 5,
    "start_time": "2022-07-19T15:58:19.795Z"
   },
   {
    "duration": 5,
    "start_time": "2022-07-19T15:58:26.342Z"
   },
   {
    "duration": 9902,
    "start_time": "2022-07-19T15:58:28.304Z"
   },
   {
    "duration": 2,
    "start_time": "2022-07-19T15:59:01.924Z"
   },
   {
    "duration": 1367,
    "start_time": "2022-07-21T03:43:32.862Z"
   },
   {
    "duration": 2398,
    "start_time": "2022-07-21T03:43:34.231Z"
   },
   {
    "duration": 16,
    "start_time": "2022-07-21T03:43:36.631Z"
   },
   {
    "duration": 10,
    "start_time": "2022-07-21T03:43:36.649Z"
   },
   {
    "duration": 8,
    "start_time": "2022-07-21T03:43:36.661Z"
   },
   {
    "duration": 5,
    "start_time": "2022-07-21T03:43:36.671Z"
   },
   {
    "duration": 106561,
    "start_time": "2022-07-21T03:43:36.678Z"
   },
   {
    "duration": 9,
    "start_time": "2022-07-21T03:45:23.245Z"
   },
   {
    "duration": 42,
    "start_time": "2022-07-21T03:45:23.255Z"
   },
   {
    "duration": 275,
    "start_time": "2022-07-21T03:45:23.299Z"
   },
   {
    "duration": 11785,
    "start_time": "2022-07-21T03:45:23.576Z"
   },
   {
    "duration": 3,
    "start_time": "2022-07-21T03:45:35.363Z"
   },
   {
    "duration": 167479,
    "start_time": "2022-07-21T03:45:35.368Z"
   },
   {
    "duration": 175731,
    "start_time": "2022-07-21T03:56:01.715Z"
   },
   {
    "duration": 162503,
    "start_time": "2022-07-21T03:58:57.448Z"
   },
   {
    "duration": 5,
    "start_time": "2022-07-21T04:04:03.363Z"
   },
   {
    "duration": 112,
    "start_time": "2022-07-21T04:25:50.754Z"
   },
   {
    "duration": 6,
    "start_time": "2022-07-21T04:38:20.082Z"
   },
   {
    "duration": 132,
    "start_time": "2022-07-21T04:46:30.944Z"
   },
   {
    "duration": 4,
    "start_time": "2022-07-21T04:47:12.955Z"
   },
   {
    "duration": 67,
    "start_time": "2022-07-21T04:47:26.803Z"
   },
   {
    "duration": 38,
    "start_time": "2022-07-21T04:50:16.227Z"
   },
   {
    "duration": 41,
    "start_time": "2022-07-21T04:50:35.073Z"
   },
   {
    "duration": 32,
    "start_time": "2022-07-21T04:51:27.605Z"
   },
   {
    "duration": 49,
    "start_time": "2022-07-21T04:57:17.345Z"
   },
   {
    "duration": 35,
    "start_time": "2022-07-21T04:57:21.469Z"
   },
   {
    "duration": 32,
    "start_time": "2022-07-21T04:57:51.590Z"
   },
   {
    "duration": 182175,
    "start_time": "2022-07-21T04:58:15.487Z"
   },
   {
    "duration": 31,
    "start_time": "2022-07-21T05:01:51.563Z"
   },
   {
    "duration": 5,
    "start_time": "2022-07-21T05:03:32.657Z"
   },
   {
    "duration": 32,
    "start_time": "2022-07-21T10:18:21.855Z"
   },
   {
    "duration": 9,
    "start_time": "2022-07-21T10:20:21.531Z"
   },
   {
    "duration": 36,
    "start_time": "2022-07-21T10:26:34.156Z"
   },
   {
    "duration": 32,
    "start_time": "2022-07-21T10:29:01.357Z"
   },
   {
    "duration": 40,
    "start_time": "2022-07-21T10:29:07.627Z"
   },
   {
    "duration": 30,
    "start_time": "2022-07-21T10:29:27.055Z"
   },
   {
    "duration": 5,
    "start_time": "2022-07-21T10:31:23.982Z"
   },
   {
    "duration": 66,
    "start_time": "2022-07-21T10:34:29.051Z"
   },
   {
    "duration": 85,
    "start_time": "2022-07-21T10:34:49.348Z"
   },
   {
    "duration": 2593,
    "start_time": "2022-07-21T11:02:06.728Z"
   },
   {
    "duration": 94800,
    "start_time": "2022-07-21T11:02:12.478Z"
   },
   {
    "duration": 21095,
    "start_time": "2022-07-21T11:20:59.256Z"
   },
   {
    "duration": 27468,
    "start_time": "2022-07-21T13:29:26.043Z"
   },
   {
    "duration": 9,
    "start_time": "2022-07-21T13:32:20.800Z"
   },
   {
    "duration": 5,
    "start_time": "2022-07-21T13:36:11.115Z"
   },
   {
    "duration": 3,
    "start_time": "2022-07-21T13:38:37.083Z"
   },
   {
    "duration": 1988,
    "start_time": "2022-07-21T13:39:25.066Z"
   },
   {
    "duration": 2099,
    "start_time": "2022-07-21T13:45:01.613Z"
   },
   {
    "duration": 8,
    "start_time": "2022-07-21T13:45:54.719Z"
   },
   {
    "duration": 2074,
    "start_time": "2022-07-21T13:46:04.674Z"
   },
   {
    "duration": 186,
    "start_time": "2022-07-21T13:46:10.736Z"
   },
   {
    "duration": 250682,
    "start_time": "2022-07-21T13:46:37.807Z"
   },
   {
    "duration": 282378,
    "start_time": "2022-07-21T13:53:18.088Z"
   },
   {
    "duration": 395150,
    "start_time": "2022-07-21T13:59:49.144Z"
   },
   {
    "duration": 474199,
    "start_time": "2022-07-21T14:09:39.494Z"
   },
   {
    "duration": 64,
    "start_time": "2022-07-21T14:20:13.375Z"
   },
   {
    "duration": 12506,
    "start_time": "2022-07-21T14:28:45.106Z"
   },
   {
    "duration": 12594,
    "start_time": "2022-07-21T14:29:06.794Z"
   },
   {
    "duration": 6,
    "start_time": "2022-07-21T14:30:00.925Z"
   },
   {
    "duration": 769563,
    "start_time": "2022-07-21T14:34:27.756Z"
   },
   {
    "duration": 65,
    "start_time": "2022-07-21T14:53:22.783Z"
   },
   {
    "duration": 7169,
    "start_time": "2022-07-21T14:53:56.186Z"
   },
   {
    "duration": 9,
    "start_time": "2022-07-21T14:55:02.268Z"
   },
   {
    "duration": 1355966,
    "start_time": "2022-07-21T15:01:16.250Z"
   },
   {
    "duration": 4,
    "start_time": "2022-07-21T15:34:10.296Z"
   },
   {
    "duration": 53,
    "start_time": "2022-07-21T15:37:01.239Z"
   },
   {
    "duration": 4,
    "start_time": "2022-07-21T15:37:14.779Z"
   },
   {
    "duration": 4,
    "start_time": "2022-07-21T15:40:26.070Z"
   },
   {
    "duration": 3,
    "start_time": "2022-07-21T15:42:48.194Z"
   },
   {
    "duration": 3,
    "start_time": "2022-07-21T15:43:05.395Z"
   },
   {
    "duration": 11,
    "start_time": "2022-07-21T15:43:38.292Z"
   },
   {
    "duration": 215258,
    "start_time": "2022-07-21T15:43:55.869Z"
   },
   {
    "duration": 99487,
    "start_time": "2022-07-21T15:48:28.072Z"
   },
   {
    "duration": 6,
    "start_time": "2022-07-21T15:52:20.281Z"
   },
   {
    "duration": 5,
    "start_time": "2022-07-21T15:52:47.338Z"
   },
   {
    "duration": 8,
    "start_time": "2022-07-21T15:53:03.475Z"
   },
   {
    "duration": 8,
    "start_time": "2022-07-21T15:53:40.054Z"
   },
   {
    "duration": 4,
    "start_time": "2022-07-21T15:53:40.391Z"
   },
   {
    "duration": 6,
    "start_time": "2022-07-21T15:53:41.206Z"
   },
   {
    "duration": 8,
    "start_time": "2022-07-21T15:53:59.416Z"
   },
   {
    "duration": 4,
    "start_time": "2022-07-21T15:54:00.134Z"
   },
   {
    "duration": 6,
    "start_time": "2022-07-21T15:54:01.700Z"
   },
   {
    "duration": 7,
    "start_time": "2022-07-21T15:55:15.887Z"
   },
   {
    "duration": 7,
    "start_time": "2022-07-21T15:55:24.407Z"
   },
   {
    "duration": 7,
    "start_time": "2022-07-21T15:55:30.298Z"
   },
   {
    "duration": 7,
    "start_time": "2022-07-21T15:55:35.199Z"
   },
   {
    "duration": 10,
    "start_time": "2022-07-21T15:55:35.634Z"
   },
   {
    "duration": 4,
    "start_time": "2022-07-21T15:56:12.067Z"
   },
   {
    "duration": 8,
    "start_time": "2022-07-21T15:56:28.860Z"
   },
   {
    "duration": 13,
    "start_time": "2022-07-21T15:56:36.943Z"
   },
   {
    "duration": 8,
    "start_time": "2022-07-21T15:56:46.456Z"
   },
   {
    "duration": 10,
    "start_time": "2022-07-21T15:57:01.570Z"
   },
   {
    "duration": 10,
    "start_time": "2022-07-21T15:57:03.041Z"
   },
   {
    "duration": 5,
    "start_time": "2022-07-21T15:57:40.219Z"
   },
   {
    "duration": 6,
    "start_time": "2022-07-21T15:58:46.582Z"
   },
   {
    "duration": 7,
    "start_time": "2022-07-21T15:58:52.495Z"
   },
   {
    "duration": 7,
    "start_time": "2022-07-21T15:59:01.835Z"
   },
   {
    "duration": 7,
    "start_time": "2022-07-21T15:59:06.739Z"
   },
   {
    "duration": 7,
    "start_time": "2022-07-21T15:59:07.682Z"
   },
   {
    "duration": 6,
    "start_time": "2022-07-21T16:00:26.374Z"
   },
   {
    "duration": 9,
    "start_time": "2022-07-21T16:00:27.990Z"
   },
   {
    "duration": 390,
    "start_time": "2022-07-21T16:09:50.010Z"
   },
   {
    "duration": 56,
    "start_time": "2022-07-21T16:13:29.236Z"
   },
   {
    "duration": 1269,
    "start_time": "2022-07-23T13:15:49.596Z"
   },
   {
    "duration": 3120,
    "start_time": "2022-07-23T13:15:52.769Z"
   },
   {
    "duration": 12,
    "start_time": "2022-07-23T13:15:55.891Z"
   },
   {
    "duration": 9,
    "start_time": "2022-07-23T13:15:55.905Z"
   },
   {
    "duration": 7,
    "start_time": "2022-07-23T13:15:55.917Z"
   },
   {
    "duration": 4,
    "start_time": "2022-07-23T13:15:58.628Z"
   },
   {
    "duration": 91202,
    "start_time": "2022-07-23T13:16:00.892Z"
   },
   {
    "duration": 6,
    "start_time": "2022-07-23T13:17:32.096Z"
   },
   {
    "duration": 4,
    "start_time": "2022-07-23T13:18:11.780Z"
   },
   {
    "duration": 1366,
    "start_time": "2022-07-23T13:18:15.336Z"
   },
   {
    "duration": 0,
    "start_time": "2022-07-23T13:18:16.703Z"
   },
   {
    "duration": 792,
    "start_time": "2022-07-23T13:18:24.600Z"
   },
   {
    "duration": 7,
    "start_time": "2022-07-23T13:18:25.394Z"
   },
   {
    "duration": 11,
    "start_time": "2022-07-23T13:18:25.402Z"
   },
   {
    "duration": 6,
    "start_time": "2022-07-23T13:18:25.415Z"
   },
   {
    "duration": 5,
    "start_time": "2022-07-23T13:18:26.117Z"
   },
   {
    "duration": 398,
    "start_time": "2022-07-23T13:18:27.010Z"
   },
   {
    "duration": 9,
    "start_time": "2022-07-23T13:18:28.349Z"
   },
   {
    "duration": 3,
    "start_time": "2022-07-23T13:19:01.076Z"
   },
   {
    "duration": 476,
    "start_time": "2022-07-23T13:19:01.954Z"
   },
   {
    "duration": 7,
    "start_time": "2022-07-23T13:19:02.635Z"
   },
   {
    "duration": 8,
    "start_time": "2022-07-23T13:19:18.206Z"
   },
   {
    "duration": 669,
    "start_time": "2022-07-23T13:19:19.452Z"
   },
   {
    "duration": 6,
    "start_time": "2022-07-23T13:19:20.123Z"
   },
   {
    "duration": 15,
    "start_time": "2022-07-23T13:19:20.252Z"
   },
   {
    "duration": 6,
    "start_time": "2022-07-23T13:19:20.685Z"
   },
   {
    "duration": 4,
    "start_time": "2022-07-23T13:19:21.947Z"
   },
   {
    "duration": 89902,
    "start_time": "2022-07-23T13:19:22.929Z"
   },
   {
    "duration": 7,
    "start_time": "2022-07-23T13:20:52.833Z"
   },
   {
    "duration": 682,
    "start_time": "2022-07-23T13:34:13.682Z"
   },
   {
    "duration": 7,
    "start_time": "2022-07-23T13:34:14.377Z"
   },
   {
    "duration": 12,
    "start_time": "2022-07-23T13:34:14.986Z"
   },
   {
    "duration": 7,
    "start_time": "2022-07-23T13:34:15.472Z"
   },
   {
    "duration": 4,
    "start_time": "2022-07-23T13:34:16.512Z"
   },
   {
    "duration": 100517,
    "start_time": "2022-07-23T13:34:17.209Z"
   },
   {
    "duration": 9,
    "start_time": "2022-07-23T13:35:57.728Z"
   },
   {
    "duration": 43,
    "start_time": "2022-07-23T13:35:57.751Z"
   },
   {
    "duration": 11,
    "start_time": "2022-07-23T13:35:57.796Z"
   },
   {
    "duration": 48,
    "start_time": "2022-07-23T13:35:57.809Z"
   },
   {
    "duration": 395,
    "start_time": "2022-07-23T13:35:57.858Z"
   },
   {
    "duration": 94,
    "start_time": "2022-07-23T13:35:58.255Z"
   },
   {
    "duration": 0,
    "start_time": "2022-07-23T13:35:58.351Z"
   },
   {
    "duration": 0,
    "start_time": "2022-07-23T13:35:58.352Z"
   },
   {
    "duration": 0,
    "start_time": "2022-07-23T13:35:58.353Z"
   },
   {
    "duration": 0,
    "start_time": "2022-07-23T13:35:58.354Z"
   },
   {
    "duration": 20,
    "start_time": "2022-07-23T13:36:38.693Z"
   },
   {
    "duration": 17,
    "start_time": "2022-07-23T13:36:45.200Z"
   },
   {
    "duration": 38,
    "start_time": "2022-07-23T13:36:46.486Z"
   },
   {
    "duration": 5,
    "start_time": "2022-07-23T13:36:47.560Z"
   },
   {
    "duration": 72,
    "start_time": "2022-07-23T13:36:49.918Z"
   },
   {
    "duration": 6616,
    "start_time": "2022-07-23T13:37:03.392Z"
   },
   {
    "duration": 2,
    "start_time": "2022-07-23T13:37:12.860Z"
   },
   {
    "duration": 5,
    "start_time": "2022-07-23T13:37:13.748Z"
   },
   {
    "duration": 105190,
    "start_time": "2022-07-23T13:37:16.394Z"
   },
   {
    "duration": 82715,
    "start_time": "2022-07-23T13:39:01.657Z"
   },
   {
    "duration": 3,
    "start_time": "2022-07-23T13:42:05.448Z"
   },
   {
    "duration": 5,
    "start_time": "2022-07-23T13:43:12.266Z"
   },
   {
    "duration": 27,
    "start_time": "2022-07-23T13:43:14.643Z"
   },
   {
    "duration": 34,
    "start_time": "2022-07-23T13:46:59.303Z"
   },
   {
    "duration": 36,
    "start_time": "2022-07-23T13:47:27.000Z"
   },
   {
    "duration": 17,
    "start_time": "2022-07-23T13:48:09.844Z"
   },
   {
    "duration": 35,
    "start_time": "2022-07-23T13:49:06.373Z"
   },
   {
    "duration": 16,
    "start_time": "2022-07-23T13:50:21.021Z"
   },
   {
    "duration": 642,
    "start_time": "2022-07-23T13:50:33.717Z"
   },
   {
    "duration": 7,
    "start_time": "2022-07-23T13:50:34.361Z"
   },
   {
    "duration": 11,
    "start_time": "2022-07-23T13:50:34.370Z"
   },
   {
    "duration": 8,
    "start_time": "2022-07-23T13:50:34.509Z"
   },
   {
    "duration": 5,
    "start_time": "2022-07-23T13:50:35.309Z"
   },
   {
    "duration": 98041,
    "start_time": "2022-07-23T13:50:36.380Z"
   },
   {
    "duration": 8,
    "start_time": "2022-07-23T13:52:14.423Z"
   },
   {
    "duration": 54,
    "start_time": "2022-07-23T13:52:14.432Z"
   },
   {
    "duration": 20,
    "start_time": "2022-07-23T13:52:14.489Z"
   },
   {
    "duration": 48,
    "start_time": "2022-07-23T13:52:14.512Z"
   },
   {
    "duration": 14,
    "start_time": "2022-07-23T13:52:14.562Z"
   },
   {
    "duration": 6171,
    "start_time": "2022-07-23T13:52:14.579Z"
   },
   {
    "duration": 3,
    "start_time": "2022-07-23T13:52:20.752Z"
   },
   {
    "duration": 13,
    "start_time": "2022-07-23T13:52:20.756Z"
   },
   {
    "duration": 113783,
    "start_time": "2022-07-23T13:52:20.771Z"
   },
   {
    "duration": 80307,
    "start_time": "2022-07-23T13:54:14.556Z"
   },
   {
    "duration": 6,
    "start_time": "2022-07-23T13:55:34.864Z"
   },
   {
    "duration": 108,
    "start_time": "2022-07-23T13:55:34.872Z"
   },
   {
    "duration": 720,
    "start_time": "2022-07-23T13:55:34.982Z"
   },
   {
    "duration": 44314,
    "start_time": "2022-07-23T14:01:49.045Z"
   },
   {
    "duration": 14486,
    "start_time": "2022-07-23T14:06:11.454Z"
   },
   {
    "duration": 13,
    "start_time": "2022-07-23T14:06:25.942Z"
   },
   {
    "duration": 4,
    "start_time": "2022-07-23T14:06:47.045Z"
   },
   {
    "duration": 32,
    "start_time": "2022-07-23T14:06:47.964Z"
   },
   {
    "duration": 10,
    "start_time": "2022-07-23T14:06:49.348Z"
   },
   {
    "duration": 27,
    "start_time": "2022-07-23T14:07:03.647Z"
   },
   {
    "duration": 74,
    "start_time": "2022-07-23T14:07:19.578Z"
   },
   {
    "duration": 697,
    "start_time": "2022-07-23T14:07:21.242Z"
   },
   {
    "duration": 14,
    "start_time": "2022-07-23T14:07:21.941Z"
   },
   {
    "duration": 16,
    "start_time": "2022-07-23T14:07:21.957Z"
   },
   {
    "duration": 9,
    "start_time": "2022-07-23T14:07:22.145Z"
   },
   {
    "duration": 4,
    "start_time": "2022-07-23T14:07:22.907Z"
   },
   {
    "duration": 100550,
    "start_time": "2022-07-23T14:07:23.820Z"
   },
   {
    "duration": 10,
    "start_time": "2022-07-23T14:09:04.372Z"
   },
   {
    "duration": 46,
    "start_time": "2022-07-23T14:09:04.384Z"
   },
   {
    "duration": 22,
    "start_time": "2022-07-23T14:09:04.434Z"
   },
   {
    "duration": 53,
    "start_time": "2022-07-23T14:09:04.458Z"
   },
   {
    "duration": 4,
    "start_time": "2022-07-23T14:09:04.514Z"
   },
   {
    "duration": 6297,
    "start_time": "2022-07-23T14:09:04.520Z"
   },
   {
    "duration": 2,
    "start_time": "2022-07-23T14:09:10.820Z"
   },
   {
    "duration": 9,
    "start_time": "2022-07-23T14:09:10.824Z"
   },
   {
    "duration": 102931,
    "start_time": "2022-07-23T14:09:10.835Z"
   },
   {
    "duration": 74206,
    "start_time": "2022-07-23T14:10:53.767Z"
   },
   {
    "duration": 80,
    "start_time": "2022-07-23T14:12:07.975Z"
   },
   {
    "duration": 39,
    "start_time": "2022-07-23T14:12:08.057Z"
   },
   {
    "duration": 72,
    "start_time": "2022-07-23T14:12:26.562Z"
   },
   {
    "duration": 732,
    "start_time": "2022-07-23T14:12:35.469Z"
   },
   {
    "duration": 36085,
    "start_time": "2022-07-23T14:12:37.172Z"
   },
   {
    "duration": 13045,
    "start_time": "2022-07-23T14:13:27.134Z"
   },
   {
    "duration": 10,
    "start_time": "2022-07-23T14:13:40.181Z"
   },
   {
    "duration": 9,
    "start_time": "2022-07-23T14:19:18.181Z"
   },
   {
    "duration": 9,
    "start_time": "2022-07-23T14:19:32.497Z"
   },
   {
    "duration": 14389,
    "start_time": "2022-07-23T14:21:27.202Z"
   },
   {
    "duration": 14903,
    "start_time": "2022-07-23T14:21:54.397Z"
   },
   {
    "duration": 11948,
    "start_time": "2022-07-23T14:22:15.448Z"
   },
   {
    "duration": 12594,
    "start_time": "2022-07-23T14:23:03.761Z"
   },
   {
    "duration": 7,
    "start_time": "2022-07-23T14:23:16.358Z"
   },
   {
    "duration": 223002,
    "start_time": "2022-07-23T14:23:29.975Z"
   },
   {
    "duration": 6283,
    "start_time": "2022-07-23T14:27:12.979Z"
   },
   {
    "duration": 5,
    "start_time": "2022-07-23T14:27:19.264Z"
   },
   {
    "duration": 447411,
    "start_time": "2022-07-23T14:27:19.271Z"
   },
   {
    "duration": 5365,
    "start_time": "2022-07-23T14:34:46.684Z"
   },
   {
    "duration": 9,
    "start_time": "2022-07-23T14:34:52.051Z"
   },
   {
    "duration": 897092,
    "start_time": "2022-07-23T14:34:52.062Z"
   },
   {
    "duration": 4,
    "start_time": "2022-07-23T14:49:49.156Z"
   },
   {
    "duration": 139898,
    "start_time": "2022-07-23T14:49:49.162Z"
   },
   {
    "duration": 65908,
    "start_time": "2022-07-23T14:52:09.062Z"
   },
   {
    "duration": 7,
    "start_time": "2022-07-23T14:53:14.972Z"
   },
   {
    "duration": 10,
    "start_time": "2022-07-23T14:53:14.980Z"
   },
   {
    "duration": 2142361,
    "start_time": "2022-07-23T14:57:41.178Z"
   },
   {
    "duration": 13,
    "start_time": "2022-07-23T15:33:23.541Z"
   },
   {
    "duration": 339368,
    "start_time": "2022-07-23T15:33:23.555Z"
   },
   {
    "duration": 159105,
    "start_time": "2022-07-23T15:47:38.198Z"
   },
   {
    "duration": 7,
    "start_time": "2022-07-23T15:50:17.305Z"
   },
   {
    "duration": 13,
    "start_time": "2022-07-23T15:50:17.313Z"
   },
   {
    "duration": 2982,
    "start_time": "2022-07-23T15:50:35.869Z"
   },
   {
    "duration": 504,
    "start_time": "2022-07-23T15:50:56.874Z"
   },
   {
    "duration": 41,
    "start_time": "2022-07-23T15:51:50.346Z"
   },
   {
    "duration": 12,
    "start_time": "2022-07-23T15:51:52.843Z"
   },
   {
    "duration": 75,
    "start_time": "2022-07-23T15:52:04.177Z"
   },
   {
    "duration": 705,
    "start_time": "2022-07-23T15:52:04.840Z"
   },
   {
    "duration": 9,
    "start_time": "2022-07-23T15:52:05.547Z"
   },
   {
    "duration": 10,
    "start_time": "2022-07-23T15:52:05.558Z"
   },
   {
    "duration": 6,
    "start_time": "2022-07-23T15:52:05.709Z"
   },
   {
    "duration": 6,
    "start_time": "2022-07-23T15:52:06.442Z"
   },
   {
    "duration": 104392,
    "start_time": "2022-07-23T15:52:07.242Z"
   },
   {
    "duration": 17,
    "start_time": "2022-07-23T15:53:51.636Z"
   },
   {
    "duration": 42,
    "start_time": "2022-07-23T15:53:51.655Z"
   },
   {
    "duration": 13,
    "start_time": "2022-07-23T15:53:51.700Z"
   },
   {
    "duration": 72,
    "start_time": "2022-07-23T15:53:51.714Z"
   },
   {
    "duration": 233,
    "start_time": "2022-07-23T15:53:51.790Z"
   },
   {
    "duration": 6312,
    "start_time": "2022-07-23T15:53:52.025Z"
   },
   {
    "duration": 2,
    "start_time": "2022-07-23T15:53:58.339Z"
   },
   {
    "duration": 30,
    "start_time": "2022-07-23T15:53:58.343Z"
   },
   {
    "duration": 107586,
    "start_time": "2022-07-23T15:53:58.376Z"
   },
   {
    "duration": 79288,
    "start_time": "2022-07-23T15:55:45.964Z"
   },
   {
    "duration": 4,
    "start_time": "2022-07-23T15:57:05.254Z"
   },
   {
    "duration": 47,
    "start_time": "2022-07-23T15:57:05.260Z"
   },
   {
    "duration": 1097,
    "start_time": "2022-07-23T15:57:05.309Z"
   },
   {
    "duration": 32362,
    "start_time": "2022-07-23T15:57:46.796Z"
   },
   {
    "duration": 12,
    "start_time": "2022-07-23T15:58:19.161Z"
   },
   {
    "duration": 0,
    "start_time": "2022-07-23T15:58:19.175Z"
   },
   {
    "duration": 8,
    "start_time": "2022-07-23T15:58:25.520Z"
   },
   {
    "duration": 12920,
    "start_time": "2022-07-23T15:58:30.741Z"
   },
   {
    "duration": 5,
    "start_time": "2022-07-23T15:58:43.663Z"
   },
   {
    "duration": 106,
    "start_time": "2022-07-23T15:58:46.238Z"
   },
   {
    "duration": 17,
    "start_time": "2022-07-23T15:59:12.700Z"
   },
   {
    "duration": 688,
    "start_time": "2022-07-23T15:59:14.022Z"
   },
   {
    "duration": 6,
    "start_time": "2022-07-23T15:59:14.712Z"
   },
   {
    "duration": 11,
    "start_time": "2022-07-23T15:59:14.719Z"
   },
   {
    "duration": 7,
    "start_time": "2022-07-23T15:59:15.000Z"
   },
   {
    "duration": 5,
    "start_time": "2022-07-23T15:59:15.842Z"
   },
   {
    "duration": 100717,
    "start_time": "2022-07-23T15:59:18.318Z"
   },
   {
    "duration": 17,
    "start_time": "2022-07-23T16:00:59.037Z"
   },
   {
    "duration": 46,
    "start_time": "2022-07-23T16:00:59.056Z"
   },
   {
    "duration": 25,
    "start_time": "2022-07-23T16:00:59.106Z"
   },
   {
    "duration": 77,
    "start_time": "2022-07-23T16:00:59.133Z"
   },
   {
    "duration": 5,
    "start_time": "2022-07-23T16:00:59.212Z"
   },
   {
    "duration": 6502,
    "start_time": "2022-07-23T16:00:59.219Z"
   },
   {
    "duration": 3,
    "start_time": "2022-07-23T16:01:05.723Z"
   },
   {
    "duration": 10,
    "start_time": "2022-07-23T16:01:05.728Z"
   },
   {
    "duration": 7,
    "start_time": "2022-07-23T16:01:05.751Z"
   },
   {
    "duration": 34,
    "start_time": "2022-07-23T16:01:05.760Z"
   },
   {
    "duration": 1027,
    "start_time": "2022-07-23T16:01:05.796Z"
   },
   {
    "duration": 35236,
    "start_time": "2022-07-23T16:01:06.825Z"
   },
   {
    "duration": 13,
    "start_time": "2022-07-23T16:01:42.063Z"
   },
   {
    "duration": 0,
    "start_time": "2022-07-23T16:01:42.077Z"
   },
   {
    "duration": 13152,
    "start_time": "2022-07-23T16:02:29.913Z"
   },
   {
    "duration": 7,
    "start_time": "2022-07-23T16:02:52.008Z"
   },
   {
    "duration": 313680,
    "start_time": "2022-07-23T16:03:03.290Z"
   },
   {
    "duration": 9022,
    "start_time": "2022-07-23T16:08:16.972Z"
   },
   {
    "duration": 7,
    "start_time": "2022-07-23T16:08:30.742Z"
   },
   {
    "duration": 647024,
    "start_time": "2022-07-23T16:08:33.244Z"
   },
   {
    "duration": 7190,
    "start_time": "2022-07-23T16:19:20.270Z"
   },
   {
    "duration": 6,
    "start_time": "2022-07-23T16:19:27.462Z"
   },
   {
    "duration": 377652,
    "start_time": "2022-07-23T16:26:47.248Z"
   },
   {
    "duration": 6596,
    "start_time": "2022-07-23T16:33:04.901Z"
   },
   {
    "duration": 2,
    "start_time": "2022-07-23T16:34:43.568Z"
   },
   {
    "duration": 54276,
    "start_time": "2022-07-24T02:11:18.202Z"
   },
   {
    "duration": 346,
    "start_time": "2022-07-24T02:12:12.480Z"
   },
   {
    "duration": 500,
    "start_time": "2022-07-24T02:14:12.789Z"
   },
   {
    "duration": 2279,
    "start_time": "2022-07-24T02:14:20.919Z"
   },
   {
    "duration": 15,
    "start_time": "2022-07-24T02:14:23.200Z"
   },
   {
    "duration": 13,
    "start_time": "2022-07-24T02:14:31.745Z"
   },
   {
    "duration": 10,
    "start_time": "2022-07-24T02:14:32.814Z"
   },
   {
    "duration": 43,
    "start_time": "2022-07-24T02:17:49.653Z"
   },
   {
    "duration": 36,
    "start_time": "2022-07-24T02:18:11.460Z"
   },
   {
    "duration": 5,
    "start_time": "2022-07-24T02:18:39.916Z"
   },
   {
    "duration": 292,
    "start_time": "2022-07-24T02:18:48.222Z"
   },
   {
    "duration": 4,
    "start_time": "2022-07-24T02:19:32.710Z"
   },
   {
    "duration": 469180,
    "start_time": "2022-07-24T02:19:36.030Z"
   },
   {
    "duration": 0,
    "start_time": "2022-07-24T02:27:25.212Z"
   },
   {
    "duration": 9,
    "start_time": "2022-07-24T02:27:28.495Z"
   },
   {
    "duration": 3,
    "start_time": "2022-07-24T02:27:32.606Z"
   },
   {
    "duration": 3,
    "start_time": "2022-07-24T02:27:35.071Z"
   },
   {
    "duration": 9,
    "start_time": "2022-07-24T02:27:35.460Z"
   },
   {
    "duration": 3,
    "start_time": "2022-07-24T02:27:47.443Z"
   },
   {
    "duration": 38,
    "start_time": "2022-07-24T02:27:47.907Z"
   },
   {
    "duration": 4,
    "start_time": "2022-07-24T02:28:04.291Z"
   },
   {
    "duration": 8,
    "start_time": "2022-07-24T02:28:04.745Z"
   },
   {
    "duration": 3,
    "start_time": "2022-07-24T02:28:29.042Z"
   },
   {
    "duration": 9,
    "start_time": "2022-07-24T02:28:29.730Z"
   },
   {
    "duration": 1099886,
    "start_time": "2022-07-24T02:28:34.928Z"
   },
   {
    "duration": 9,
    "start_time": "2022-07-24T02:46:54.816Z"
   },
   {
    "duration": 8,
    "start_time": "2022-07-24T02:47:41.293Z"
   },
   {
    "duration": 48,
    "start_time": "2022-07-24T02:47:55.778Z"
   },
   {
    "duration": 11,
    "start_time": "2022-07-24T02:47:58.561Z"
   },
   {
    "duration": 35,
    "start_time": "2022-07-24T02:47:59.623Z"
   },
   {
    "duration": 431,
    "start_time": "2022-07-24T02:48:00.678Z"
   },
   {
    "duration": 7421,
    "start_time": "2022-07-24T02:48:02.836Z"
   },
   {
    "duration": 3,
    "start_time": "2022-07-24T02:56:58.185Z"
   },
   {
    "duration": 5,
    "start_time": "2022-07-24T02:56:58.469Z"
   },
   {
    "duration": 93679,
    "start_time": "2022-07-24T02:56:59.232Z"
   },
   {
    "duration": 86498,
    "start_time": "2022-07-24T02:58:32.913Z"
   },
   {
    "duration": 4,
    "start_time": "2022-07-24T02:59:59.413Z"
   },
   {
    "duration": 40,
    "start_time": "2022-07-24T02:59:59.419Z"
   },
   {
    "duration": 1087,
    "start_time": "2022-07-24T03:06:15.753Z"
   },
   {
    "duration": 64476,
    "start_time": "2022-07-24T03:06:17.536Z"
   },
   {
    "duration": 13199,
    "start_time": "2022-07-24T03:07:22.014Z"
   },
   {
    "duration": 5,
    "start_time": "2022-07-24T03:07:35.215Z"
   },
   {
    "duration": 314151,
    "start_time": "2022-07-24T03:07:35.222Z"
   },
   {
    "duration": 9284,
    "start_time": "2022-07-24T03:12:49.375Z"
   },
   {
    "duration": 7,
    "start_time": "2022-07-24T03:12:58.660Z"
   },
   {
    "duration": 396530,
    "start_time": "2022-07-24T03:12:58.669Z"
   },
   {
    "duration": 7316,
    "start_time": "2022-07-24T03:19:35.201Z"
   },
   {
    "duration": 6,
    "start_time": "2022-07-24T03:19:42.519Z"
   },
   {
    "duration": 6805698,
    "start_time": "2022-07-24T03:19:42.527Z"
   },
   {
    "duration": 5,
    "start_time": "2022-07-24T05:13:08.227Z"
   },
   {
    "duration": 1136590,
    "start_time": "2022-07-24T05:13:08.233Z"
   },
   {
    "duration": 511027,
    "start_time": "2022-07-24T05:32:04.825Z"
   },
   {
    "duration": 7,
    "start_time": "2022-07-24T05:40:35.853Z"
   },
   {
    "duration": 16,
    "start_time": "2022-07-24T05:40:35.861Z"
   },
   {
    "duration": 65,
    "start_time": "2022-07-26T03:58:02.423Z"
   },
   {
    "duration": 42,
    "start_time": "2022-07-26T04:03:39.270Z"
   },
   {
    "duration": 62176,
    "start_time": "2022-07-26T04:04:01.898Z"
   },
   {
    "duration": 467,
    "start_time": "2022-07-26T04:05:04.076Z"
   },
   {
    "duration": 2360,
    "start_time": "2022-07-26T04:05:04.545Z"
   },
   {
    "duration": 14,
    "start_time": "2022-07-26T04:05:06.908Z"
   },
   {
    "duration": 8,
    "start_time": "2022-07-26T04:05:06.923Z"
   },
   {
    "duration": 6,
    "start_time": "2022-07-26T04:05:06.933Z"
   },
   {
    "duration": 2,
    "start_time": "2022-07-26T04:05:06.941Z"
   },
   {
    "duration": 13,
    "start_time": "2022-07-26T04:05:06.945Z"
   },
   {
    "duration": 997209,
    "start_time": "2022-07-26T04:05:06.959Z"
   },
   {
    "duration": 9,
    "start_time": "2022-07-26T04:21:44.171Z"
   },
   {
    "duration": 59,
    "start_time": "2022-07-26T04:21:44.181Z"
   },
   {
    "duration": 11,
    "start_time": "2022-07-26T04:21:44.241Z"
   },
   {
    "duration": 35,
    "start_time": "2022-07-26T04:21:44.253Z"
   },
   {
    "duration": 253,
    "start_time": "2022-07-26T04:21:44.289Z"
   },
   {
    "duration": 6831,
    "start_time": "2022-07-26T04:21:44.544Z"
   },
   {
    "duration": 3,
    "start_time": "2022-07-26T04:21:51.377Z"
   },
   {
    "duration": 7,
    "start_time": "2022-07-26T04:21:51.382Z"
   },
   {
    "duration": 57,
    "start_time": "2022-07-26T04:21:51.390Z"
   },
   {
    "duration": 1096,
    "start_time": "2022-07-26T04:21:51.449Z"
   },
   {
    "duration": 71367,
    "start_time": "2022-07-26T04:21:52.547Z"
   },
   {
    "duration": 14514,
    "start_time": "2022-07-26T04:23:03.916Z"
   },
   {
    "duration": 16,
    "start_time": "2022-07-26T06:05:29.999Z"
   },
   {
    "duration": 3,
    "start_time": "2022-07-26T06:06:42.399Z"
   }
  ],
  "kernelspec": {
   "display_name": "Python 3 (ipykernel)",
   "language": "python",
   "name": "python3"
  },
  "language_info": {
   "codemirror_mode": {
    "name": "ipython",
    "version": 3
   },
   "file_extension": ".py",
   "mimetype": "text/x-python",
   "name": "python",
   "nbconvert_exporter": "python",
   "pygments_lexer": "ipython3",
   "version": "3.9.7"
  },
  "toc": {
   "base_numbering": 1,
   "nav_menu": {},
   "number_sections": true,
   "sideBar": true,
   "skip_h1_title": true,
   "title_cell": "Содержание",
   "title_sidebar": "Contents",
   "toc_cell": true,
   "toc_position": {
    "height": "calc(100% - 180px)",
    "left": "10px",
    "top": "150px",
    "width": "302.391px"
   },
   "toc_section_display": true,
   "toc_window_display": false
  }
 },
 "nbformat": 4,
 "nbformat_minor": 2
}

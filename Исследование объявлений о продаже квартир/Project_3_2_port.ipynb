{
 "cells": [
  {
   "cell_type": "markdown",
   "metadata": {},
   "source": [
    "# Исследование объявлений о продаже квартир\n",
    "**Описание данных**\n",
    "1. airports_nearest — расстояние до ближайшего аэропорта в метрах (м)\n",
    "2. balcony — число балконов\n",
    "3. ceiling_height — высота потолков (м)\n",
    "4. cityCenters_nearest — расстояние до центра города (м)\n",
    "5. days_exposition — сколько дней было размещено объявление (от публикации до снятия)\n",
    "6. first_day_exposition — дата публикации\n",
    "7. floor — этаж\n",
    "8. floors_total — всего этажей в доме\n",
    "9. is_apartment — апартаменты (булев тип)\n",
    "10. kitchen_area — площадь кухни в квадратных метрах (м²)\n",
    "11. last_price — цена на момент снятия с публикации\n",
    "12. living_area — жилая площадь в квадратных метрах (м²)\n",
    "13. locality_name — название населённого пункта\n",
    "14. open_plan — свободная планировка (булев тип)\n",
    "15. parks_around3000 — число парков в радиусе 3 км\n",
    "16. parks_nearest — расстояние до ближайшего парка (м)\n",
    "17. ponds_around3000 — число водоёмов в радиусе 3 км\n",
    "18. ponds_nearest — расстояние до ближайшего водоёма (м)\n",
    "19. rooms — число комнат\n",
    "20. studio — квартира-студия (булев тип)\n",
    "21. total_area — площадь квартиры в квадратных метрах (м²)\n",
    "22. total_images — число фотографий квартиры в объявлении"
   ]
  },
  {
   "cell_type": "markdown",
   "metadata": {},
   "source": [
    "## Изучение данных из файла"
   ]
  },
  {
   "cell_type": "code",
   "execution_count": 1,
   "metadata": {},
   "outputs": [
    {
     "name": "stdout",
     "output_type": "stream",
     "text": [
      "<class 'pandas.core.frame.DataFrame'>\n",
      "RangeIndex: 23699 entries, 0 to 23698\n",
      "Data columns (total 22 columns):\n",
      " #   Column                Non-Null Count  Dtype  \n",
      "---  ------                --------------  -----  \n",
      " 0   total_images          23699 non-null  int64  \n",
      " 1   last_price            23699 non-null  float64\n",
      " 2   total_area            23699 non-null  float64\n",
      " 3   first_day_exposition  23699 non-null  object \n",
      " 4   rooms                 23699 non-null  int64  \n",
      " 5   ceiling_height        14504 non-null  float64\n",
      " 6   floors_total          23613 non-null  float64\n",
      " 7   living_area           21796 non-null  float64\n",
      " 8   floor                 23699 non-null  int64  \n",
      " 9   is_apartment          2775 non-null   object \n",
      " 10  studio                23699 non-null  bool   \n",
      " 11  open_plan             23699 non-null  bool   \n",
      " 12  kitchen_area          21421 non-null  float64\n",
      " 13  balcony               12180 non-null  float64\n",
      " 14  locality_name         23650 non-null  object \n",
      " 15  airports_nearest      18157 non-null  float64\n",
      " 16  cityCenters_nearest   18180 non-null  float64\n",
      " 17  parks_around3000      18181 non-null  float64\n",
      " 18  parks_nearest         8079 non-null   float64\n",
      " 19  ponds_around3000      18181 non-null  float64\n",
      " 20  ponds_nearest         9110 non-null   float64\n",
      " 21  days_exposition       20518 non-null  float64\n",
      "dtypes: bool(2), float64(14), int64(3), object(3)\n",
      "memory usage: 3.7+ MB\n"
     ]
    },
    {
     "data": {
      "text/html": [
       "<div>\n",
       "<style scoped>\n",
       "    .dataframe tbody tr th:only-of-type {\n",
       "        vertical-align: middle;\n",
       "    }\n",
       "\n",
       "    .dataframe tbody tr th {\n",
       "        vertical-align: top;\n",
       "    }\n",
       "\n",
       "    .dataframe thead th {\n",
       "        text-align: right;\n",
       "    }\n",
       "</style>\n",
       "<table border=\"1\" class=\"dataframe\">\n",
       "  <thead>\n",
       "    <tr style=\"text-align: right;\">\n",
       "      <th></th>\n",
       "      <th>total_images</th>\n",
       "      <th>last_price</th>\n",
       "      <th>total_area</th>\n",
       "      <th>first_day_exposition</th>\n",
       "      <th>rooms</th>\n",
       "      <th>ceiling_height</th>\n",
       "      <th>floors_total</th>\n",
       "      <th>living_area</th>\n",
       "      <th>floor</th>\n",
       "      <th>is_apartment</th>\n",
       "      <th>...</th>\n",
       "      <th>kitchen_area</th>\n",
       "      <th>balcony</th>\n",
       "      <th>locality_name</th>\n",
       "      <th>airports_nearest</th>\n",
       "      <th>cityCenters_nearest</th>\n",
       "      <th>parks_around3000</th>\n",
       "      <th>parks_nearest</th>\n",
       "      <th>ponds_around3000</th>\n",
       "      <th>ponds_nearest</th>\n",
       "      <th>days_exposition</th>\n",
       "    </tr>\n",
       "  </thead>\n",
       "  <tbody>\n",
       "    <tr>\n",
       "      <th>0</th>\n",
       "      <td>20</td>\n",
       "      <td>13000000.0</td>\n",
       "      <td>108.00</td>\n",
       "      <td>2019-03-07T00:00:00</td>\n",
       "      <td>3</td>\n",
       "      <td>2.70</td>\n",
       "      <td>16.0</td>\n",
       "      <td>51.00</td>\n",
       "      <td>8</td>\n",
       "      <td>NaN</td>\n",
       "      <td>...</td>\n",
       "      <td>25.00</td>\n",
       "      <td>NaN</td>\n",
       "      <td>Санкт-Петербург</td>\n",
       "      <td>18863.0</td>\n",
       "      <td>16028.0</td>\n",
       "      <td>1.0</td>\n",
       "      <td>482.0</td>\n",
       "      <td>2.0</td>\n",
       "      <td>755.0</td>\n",
       "      <td>NaN</td>\n",
       "    </tr>\n",
       "    <tr>\n",
       "      <th>1</th>\n",
       "      <td>7</td>\n",
       "      <td>3350000.0</td>\n",
       "      <td>40.40</td>\n",
       "      <td>2018-12-04T00:00:00</td>\n",
       "      <td>1</td>\n",
       "      <td>NaN</td>\n",
       "      <td>11.0</td>\n",
       "      <td>18.60</td>\n",
       "      <td>1</td>\n",
       "      <td>NaN</td>\n",
       "      <td>...</td>\n",
       "      <td>11.00</td>\n",
       "      <td>2.0</td>\n",
       "      <td>посёлок Шушары</td>\n",
       "      <td>12817.0</td>\n",
       "      <td>18603.0</td>\n",
       "      <td>0.0</td>\n",
       "      <td>NaN</td>\n",
       "      <td>0.0</td>\n",
       "      <td>NaN</td>\n",
       "      <td>81.0</td>\n",
       "    </tr>\n",
       "    <tr>\n",
       "      <th>2</th>\n",
       "      <td>10</td>\n",
       "      <td>5196000.0</td>\n",
       "      <td>56.00</td>\n",
       "      <td>2015-08-20T00:00:00</td>\n",
       "      <td>2</td>\n",
       "      <td>NaN</td>\n",
       "      <td>5.0</td>\n",
       "      <td>34.30</td>\n",
       "      <td>4</td>\n",
       "      <td>NaN</td>\n",
       "      <td>...</td>\n",
       "      <td>8.30</td>\n",
       "      <td>0.0</td>\n",
       "      <td>Санкт-Петербург</td>\n",
       "      <td>21741.0</td>\n",
       "      <td>13933.0</td>\n",
       "      <td>1.0</td>\n",
       "      <td>90.0</td>\n",
       "      <td>2.0</td>\n",
       "      <td>574.0</td>\n",
       "      <td>558.0</td>\n",
       "    </tr>\n",
       "    <tr>\n",
       "      <th>3</th>\n",
       "      <td>0</td>\n",
       "      <td>64900000.0</td>\n",
       "      <td>159.00</td>\n",
       "      <td>2015-07-24T00:00:00</td>\n",
       "      <td>3</td>\n",
       "      <td>NaN</td>\n",
       "      <td>14.0</td>\n",
       "      <td>NaN</td>\n",
       "      <td>9</td>\n",
       "      <td>NaN</td>\n",
       "      <td>...</td>\n",
       "      <td>NaN</td>\n",
       "      <td>0.0</td>\n",
       "      <td>Санкт-Петербург</td>\n",
       "      <td>28098.0</td>\n",
       "      <td>6800.0</td>\n",
       "      <td>2.0</td>\n",
       "      <td>84.0</td>\n",
       "      <td>3.0</td>\n",
       "      <td>234.0</td>\n",
       "      <td>424.0</td>\n",
       "    </tr>\n",
       "    <tr>\n",
       "      <th>4</th>\n",
       "      <td>2</td>\n",
       "      <td>10000000.0</td>\n",
       "      <td>100.00</td>\n",
       "      <td>2018-06-19T00:00:00</td>\n",
       "      <td>2</td>\n",
       "      <td>3.03</td>\n",
       "      <td>14.0</td>\n",
       "      <td>32.00</td>\n",
       "      <td>13</td>\n",
       "      <td>NaN</td>\n",
       "      <td>...</td>\n",
       "      <td>41.00</td>\n",
       "      <td>NaN</td>\n",
       "      <td>Санкт-Петербург</td>\n",
       "      <td>31856.0</td>\n",
       "      <td>8098.0</td>\n",
       "      <td>2.0</td>\n",
       "      <td>112.0</td>\n",
       "      <td>1.0</td>\n",
       "      <td>48.0</td>\n",
       "      <td>121.0</td>\n",
       "    </tr>\n",
       "    <tr>\n",
       "      <th>5</th>\n",
       "      <td>10</td>\n",
       "      <td>2890000.0</td>\n",
       "      <td>30.40</td>\n",
       "      <td>2018-09-10T00:00:00</td>\n",
       "      <td>1</td>\n",
       "      <td>NaN</td>\n",
       "      <td>12.0</td>\n",
       "      <td>14.40</td>\n",
       "      <td>5</td>\n",
       "      <td>NaN</td>\n",
       "      <td>...</td>\n",
       "      <td>9.10</td>\n",
       "      <td>NaN</td>\n",
       "      <td>городской посёлок Янино-1</td>\n",
       "      <td>NaN</td>\n",
       "      <td>NaN</td>\n",
       "      <td>NaN</td>\n",
       "      <td>NaN</td>\n",
       "      <td>NaN</td>\n",
       "      <td>NaN</td>\n",
       "      <td>55.0</td>\n",
       "    </tr>\n",
       "    <tr>\n",
       "      <th>6</th>\n",
       "      <td>6</td>\n",
       "      <td>3700000.0</td>\n",
       "      <td>37.30</td>\n",
       "      <td>2017-11-02T00:00:00</td>\n",
       "      <td>1</td>\n",
       "      <td>NaN</td>\n",
       "      <td>26.0</td>\n",
       "      <td>10.60</td>\n",
       "      <td>6</td>\n",
       "      <td>NaN</td>\n",
       "      <td>...</td>\n",
       "      <td>14.40</td>\n",
       "      <td>1.0</td>\n",
       "      <td>посёлок Парголово</td>\n",
       "      <td>52996.0</td>\n",
       "      <td>19143.0</td>\n",
       "      <td>0.0</td>\n",
       "      <td>NaN</td>\n",
       "      <td>0.0</td>\n",
       "      <td>NaN</td>\n",
       "      <td>155.0</td>\n",
       "    </tr>\n",
       "    <tr>\n",
       "      <th>7</th>\n",
       "      <td>5</td>\n",
       "      <td>7915000.0</td>\n",
       "      <td>71.60</td>\n",
       "      <td>2019-04-18T00:00:00</td>\n",
       "      <td>2</td>\n",
       "      <td>NaN</td>\n",
       "      <td>24.0</td>\n",
       "      <td>NaN</td>\n",
       "      <td>22</td>\n",
       "      <td>NaN</td>\n",
       "      <td>...</td>\n",
       "      <td>18.90</td>\n",
       "      <td>2.0</td>\n",
       "      <td>Санкт-Петербург</td>\n",
       "      <td>23982.0</td>\n",
       "      <td>11634.0</td>\n",
       "      <td>0.0</td>\n",
       "      <td>NaN</td>\n",
       "      <td>0.0</td>\n",
       "      <td>NaN</td>\n",
       "      <td>NaN</td>\n",
       "    </tr>\n",
       "    <tr>\n",
       "      <th>8</th>\n",
       "      <td>20</td>\n",
       "      <td>2900000.0</td>\n",
       "      <td>33.16</td>\n",
       "      <td>2018-05-23T00:00:00</td>\n",
       "      <td>1</td>\n",
       "      <td>NaN</td>\n",
       "      <td>27.0</td>\n",
       "      <td>15.43</td>\n",
       "      <td>26</td>\n",
       "      <td>NaN</td>\n",
       "      <td>...</td>\n",
       "      <td>8.81</td>\n",
       "      <td>NaN</td>\n",
       "      <td>посёлок Мурино</td>\n",
       "      <td>NaN</td>\n",
       "      <td>NaN</td>\n",
       "      <td>NaN</td>\n",
       "      <td>NaN</td>\n",
       "      <td>NaN</td>\n",
       "      <td>NaN</td>\n",
       "      <td>189.0</td>\n",
       "    </tr>\n",
       "    <tr>\n",
       "      <th>9</th>\n",
       "      <td>18</td>\n",
       "      <td>5400000.0</td>\n",
       "      <td>61.00</td>\n",
       "      <td>2017-02-26T00:00:00</td>\n",
       "      <td>3</td>\n",
       "      <td>2.50</td>\n",
       "      <td>9.0</td>\n",
       "      <td>43.60</td>\n",
       "      <td>7</td>\n",
       "      <td>NaN</td>\n",
       "      <td>...</td>\n",
       "      <td>6.50</td>\n",
       "      <td>2.0</td>\n",
       "      <td>Санкт-Петербург</td>\n",
       "      <td>50898.0</td>\n",
       "      <td>15008.0</td>\n",
       "      <td>0.0</td>\n",
       "      <td>NaN</td>\n",
       "      <td>0.0</td>\n",
       "      <td>NaN</td>\n",
       "      <td>289.0</td>\n",
       "    </tr>\n",
       "  </tbody>\n",
       "</table>\n",
       "<p>10 rows × 22 columns</p>\n",
       "</div>"
      ],
      "text/plain": [
       "   total_images  last_price  total_area first_day_exposition  rooms  \\\n",
       "0            20  13000000.0      108.00  2019-03-07T00:00:00      3   \n",
       "1             7   3350000.0       40.40  2018-12-04T00:00:00      1   \n",
       "2            10   5196000.0       56.00  2015-08-20T00:00:00      2   \n",
       "3             0  64900000.0      159.00  2015-07-24T00:00:00      3   \n",
       "4             2  10000000.0      100.00  2018-06-19T00:00:00      2   \n",
       "5            10   2890000.0       30.40  2018-09-10T00:00:00      1   \n",
       "6             6   3700000.0       37.30  2017-11-02T00:00:00      1   \n",
       "7             5   7915000.0       71.60  2019-04-18T00:00:00      2   \n",
       "8            20   2900000.0       33.16  2018-05-23T00:00:00      1   \n",
       "9            18   5400000.0       61.00  2017-02-26T00:00:00      3   \n",
       "\n",
       "   ceiling_height  floors_total  living_area  floor is_apartment  ...  \\\n",
       "0            2.70          16.0        51.00      8          NaN  ...   \n",
       "1             NaN          11.0        18.60      1          NaN  ...   \n",
       "2             NaN           5.0        34.30      4          NaN  ...   \n",
       "3             NaN          14.0          NaN      9          NaN  ...   \n",
       "4            3.03          14.0        32.00     13          NaN  ...   \n",
       "5             NaN          12.0        14.40      5          NaN  ...   \n",
       "6             NaN          26.0        10.60      6          NaN  ...   \n",
       "7             NaN          24.0          NaN     22          NaN  ...   \n",
       "8             NaN          27.0        15.43     26          NaN  ...   \n",
       "9            2.50           9.0        43.60      7          NaN  ...   \n",
       "\n",
       "   kitchen_area  balcony              locality_name  airports_nearest  \\\n",
       "0         25.00      NaN            Санкт-Петербург           18863.0   \n",
       "1         11.00      2.0             посёлок Шушары           12817.0   \n",
       "2          8.30      0.0            Санкт-Петербург           21741.0   \n",
       "3           NaN      0.0            Санкт-Петербург           28098.0   \n",
       "4         41.00      NaN            Санкт-Петербург           31856.0   \n",
       "5          9.10      NaN  городской посёлок Янино-1               NaN   \n",
       "6         14.40      1.0          посёлок Парголово           52996.0   \n",
       "7         18.90      2.0            Санкт-Петербург           23982.0   \n",
       "8          8.81      NaN             посёлок Мурино               NaN   \n",
       "9          6.50      2.0            Санкт-Петербург           50898.0   \n",
       "\n",
       "  cityCenters_nearest  parks_around3000  parks_nearest  ponds_around3000  \\\n",
       "0             16028.0               1.0          482.0               2.0   \n",
       "1             18603.0               0.0            NaN               0.0   \n",
       "2             13933.0               1.0           90.0               2.0   \n",
       "3              6800.0               2.0           84.0               3.0   \n",
       "4              8098.0               2.0          112.0               1.0   \n",
       "5                 NaN               NaN            NaN               NaN   \n",
       "6             19143.0               0.0            NaN               0.0   \n",
       "7             11634.0               0.0            NaN               0.0   \n",
       "8                 NaN               NaN            NaN               NaN   \n",
       "9             15008.0               0.0            NaN               0.0   \n",
       "\n",
       "   ponds_nearest  days_exposition  \n",
       "0          755.0              NaN  \n",
       "1            NaN             81.0  \n",
       "2          574.0            558.0  \n",
       "3          234.0            424.0  \n",
       "4           48.0            121.0  \n",
       "5            NaN             55.0  \n",
       "6            NaN            155.0  \n",
       "7            NaN              NaN  \n",
       "8            NaN            189.0  \n",
       "9            NaN            289.0  \n",
       "\n",
       "[10 rows x 22 columns]"
      ]
     },
     "execution_count": 1,
     "metadata": {},
     "output_type": "execute_result"
    }
   ],
   "source": [
    "import pandas as pd\n",
    "data_frame=pd.read_csv('real_estate_data.csv', sep='\\t')\n",
    "data_frame.info() \n",
    "data_frame.head(10)"
   ]
  },
  {
   "cell_type": "markdown",
   "metadata": {},
   "source": [
    "### Вывод"
   ]
  },
  {
   "cell_type": "markdown",
   "metadata": {},
   "source": [
    "Названия столбцов (`cityCenters_nearest`,`parks_around3000`,`ponds_around3000`) не соответствуют общему стилю. Много пропусков в разных столбцах.\n",
    "\n",
    "Определите и изучите пропущенные значения:\n",
    "Для некоторых пропущенных значений можно предположить логичную замену. Например, если человек не указал число балконов — скорее всего, их нет. Такие пропуски правильно заменить на 0. Для других типов данных нет подходящего значения на замену. В этом случае правильно оставить эти значения пустыми. Отсутствие значения — тоже важный сигнал, который не нужно прятать.\n",
    "Заполните пропуски, где это уместно. Опишите, почему вы решили заполнить пропуски именно в этих столбцах и как выбрали значения.\n",
    "Укажите причины, которые могли привести к пропускам в данных.\n",
    "Приведите данные к нужным типам:\n",
    "Поясните, в каких столбцах нужно изменить тип данных и почему."
   ]
  },
  {
   "cell_type": "markdown",
   "metadata": {},
   "source": [
    "## Предобработка данных"
   ]
  },
  {
   "cell_type": "code",
   "execution_count": 2,
   "metadata": {},
   "outputs": [
    {
     "data": {
      "text/plain": [
       "total_images                0\n",
       "last_price                  0\n",
       "total_area                  0\n",
       "first_day_exposition        0\n",
       "rooms                       0\n",
       "ceiling_height           9195\n",
       "floors_total               86\n",
       "living_area              1903\n",
       "floor                       0\n",
       "is_apartment            20924\n",
       "studio                      0\n",
       "open_plan                   0\n",
       "kitchen_area             2278\n",
       "balcony                 11519\n",
       "locality_name              49\n",
       "airports_nearest         5542\n",
       "city_centers_nearest     5519\n",
       "parks_around_3000        5518\n",
       "parks_nearest           15620\n",
       "ponds_around_3000        5518\n",
       "ponds_nearest           14589\n",
       "days_exposition          3181\n",
       "dtype: int64"
      ]
     },
     "metadata": {},
     "output_type": "display_data"
    },
    {
     "name": "stdout",
     "output_type": "stream",
     "text": [
      "Доля пропусков в столбце:\n",
      "total_images = 0.00%\n",
      "last_price = 0.00%\n",
      "total_area = 0.00%\n",
      "first_day_exposition = 0.00%\n",
      "rooms = 0.00%\n",
      "ceiling_height = 38.80%\n",
      "floors_total = 0.36%\n",
      "living_area = 8.03%\n",
      "floor = 0.00%\n",
      "is_apartment = 88.29%\n",
      "studio = 0.00%\n",
      "open_plan = 0.00%\n",
      "kitchen_area = 9.61%\n",
      "balcony = 48.61%\n",
      "locality_name = 0.21%\n",
      "airports_nearest = 23.38%\n",
      "city_centers_nearest = 23.29%\n",
      "parks_around_3000 = 23.28%\n",
      "parks_nearest = 65.91%\n",
      "ponds_around_3000 = 23.28%\n",
      "ponds_nearest = 61.56%\n",
      "days_exposition = 13.42%\n"
     ]
    }
   ],
   "source": [
    "data_frame = data_frame.rename(columns={\n",
    "'cityCenters_nearest': 'city_centers_nearest',\n",
    "'parks_around3000': 'parks_around_3000',\n",
    "'ponds_around3000': 'ponds_around_3000',}) \n",
    "\n",
    "null_data_columns=data_frame.isna().sum() \n",
    "columns_data=list(data_frame.columns) \n",
    "display(null_data_columns)\n",
    "\n",
    "print('Доля пропусков в столбце:') \n",
    "for i in range(len(columns_data)): \n",
    "    rezul=1-(len(data_frame)-null_data_columns[i])/len(data_frame)\n",
    "    print(columns_data[i], '=', f'{rezul:.2%}' )"
   ]
  },
  {
   "cell_type": "markdown",
   "metadata": {},
   "source": [
    "### Выводы\n",
    "\n",
    "1. Для около 39%  квартир отсутствует информация о высоте потолков в столбце `ceiling_height`. Данные в этом столбце исправить не получится т.к. мы не можем получить эту информацию из других источников\n",
    "2. Не указанные значения общего количества этажей очень малы в столбце `floors_total`. Данные в этом столбце исправить не получится т.к. мы не можем получить эту информацию из других источников\n",
    "3. Не указанная жилая площадь в столбце `living_area` имеет малый процент, но заменить эти данные нечем, поэтому оставляем как есть.\n",
    "4. В столбце апартаменты  `is_apartment` очень большое количетво отсутствующих значений, предположительно, что все пропуски соответствуют False (нет)\n",
    "5. У около 10% недвижимости в колонке `kitchen_area` не указана площадь кухни, эти данные мы исправить не можем. Возможно это студии. (нет)\n",
    "6. У практически 50% отсутствует информация в колонке `balcony` о наличии балкона, отсутствие значения скорее всего подразумевает отсутствие балкона\n",
    "7. У некоторых объектов не указан начеленный пункт в колонке `locality_name`, исправить ни как нельзя, предется удалить\n",
    "8. У  практически четверти недвижимости не указано расстояние до ближайшего аэропорта `airports_nearest`, скорее всего аэропорт очень далеко (пригород) \n",
    "9. расстояние до центра города так же отсутствует у четверти недвижимости  в колонке `city_centers_nearest`, что скорее всего говорить о большой удаленности до центра города \n",
    "10. Отсутствие числа парков в радиусе `parks_around_3000` говорит о их отсутствии\n",
    "11. Отсутствие расстояния до парка `parks_nearest` говорит о отсутствии парка по близости\n",
    "12.  Отсутствие числа водоемов в радиусе`ponds_around_3000` говорит о их отсутствии\n",
    "13. Отсутствие времени расположения недвижимости на площадкев колонке  `days_exposition`,  может говорить о размещении объявления и его удалении следом, подозрительные махинации, можно удалить."
   ]
  },
  {
   "cell_type": "code",
   "execution_count": 3,
   "metadata": {},
   "outputs": [
    {
     "name": "stdout",
     "output_type": "stream",
     "text": [
      "Дубликатов  0\n"
     ]
    }
   ],
   "source": [
    "data_frame['is_apartment']=data_frame['is_apartment'].astype('bool')  #должно быть логическое значение \"да\" или \"нет\"\n",
    "data_frame['balcony']=data_frame['balcony'].fillna(0) #NaN заменено на 0\n",
    "data_frame['parks_around_3000']=data_frame['parks_around_3000'].fillna(0) #NaN заменено на 0\n",
    "data_frame['parks_nearest']=data_frame['parks_nearest'].fillna(0) #NaN заменено на 0\n",
    "data_frame['ponds_around_3000']=data_frame['ponds_around_3000'].fillna(0) #NaN заменено на 0\n",
    "data_frame['ponds_nearest']=data_frame['ponds_nearest'].fillna(0) #NaN заменено на 0 \n",
    "data_frame = data_frame.dropna(subset=['locality_name']) #Удалние строк\n",
    "data_frame = data_frame.dropna(subset=['days_exposition']) #Удалние строк\n",
    "\n",
    "print('Дубликатов ', data_frame.duplicated().sum()) #Проверка на дубликаты"
   ]
  },
  {
   "cell_type": "markdown",
   "metadata": {},
   "source": [
    "**Вывод**\n",
    "У перечисленных в списке городов нет расстояния до центра и до аэтопорта, потому что они достаточно далеко удалены от данных объектов. Предлагаю удалить все строки с пропущенными значениями"
   ]
  },
  {
   "cell_type": "code",
   "execution_count": 4,
   "metadata": {},
   "outputs": [
    {
     "data": {
      "text/plain": [
       "total_images               0\n",
       "last_price                 0\n",
       "total_area                 0\n",
       "first_day_exposition       0\n",
       "rooms                      0\n",
       "ceiling_height          8433\n",
       "floors_total              76\n",
       "living_area             1700\n",
       "floor                      0\n",
       "is_apartment               0\n",
       "studio                     0\n",
       "open_plan                  0\n",
       "kitchen_area            2066\n",
       "balcony                    0\n",
       "locality_name              0\n",
       "airports_nearest        4668\n",
       "city_centers_nearest    4646\n",
       "parks_around_3000          0\n",
       "parks_nearest              0\n",
       "ponds_around_3000          0\n",
       "ponds_nearest              0\n",
       "days_exposition            0\n",
       "dtype: int64"
      ]
     },
     "metadata": {},
     "output_type": "display_data"
    }
   ],
   "source": [
    "null_data_columns=data_frame.isna().sum()\n",
    "display(null_data_columns) #проверка"
   ]
  },
  {
   "cell_type": "markdown",
   "metadata": {},
   "source": [
    "## Расчёты и добавление результатов в таблицу"
   ]
  },
  {
   "cell_type": "code",
   "execution_count": 5,
   "metadata": {},
   "outputs": [
    {
     "data": {
      "text/html": [
       "<div>\n",
       "<style scoped>\n",
       "    .dataframe tbody tr th:only-of-type {\n",
       "        vertical-align: middle;\n",
       "    }\n",
       "\n",
       "    .dataframe tbody tr th {\n",
       "        vertical-align: top;\n",
       "    }\n",
       "\n",
       "    .dataframe thead th {\n",
       "        text-align: right;\n",
       "    }\n",
       "</style>\n",
       "<table border=\"1\" class=\"dataframe\">\n",
       "  <thead>\n",
       "    <tr style=\"text-align: right;\">\n",
       "      <th></th>\n",
       "      <th>total_images</th>\n",
       "      <th>last_price</th>\n",
       "      <th>total_area</th>\n",
       "      <th>first_day_exposition</th>\n",
       "      <th>rooms</th>\n",
       "      <th>ceiling_height</th>\n",
       "      <th>floors_total</th>\n",
       "      <th>living_area</th>\n",
       "      <th>floor</th>\n",
       "      <th>is_apartment</th>\n",
       "      <th>...</th>\n",
       "      <th>parks_nearest</th>\n",
       "      <th>ponds_around_3000</th>\n",
       "      <th>ponds_nearest</th>\n",
       "      <th>days_exposition</th>\n",
       "      <th>m^2</th>\n",
       "      <th>day</th>\n",
       "      <th>year</th>\n",
       "      <th>floor_app</th>\n",
       "      <th>living_ar/total_area</th>\n",
       "      <th>kitchen_ar/total_area</th>\n",
       "    </tr>\n",
       "  </thead>\n",
       "  <tbody>\n",
       "    <tr>\n",
       "      <th>1</th>\n",
       "      <td>7</td>\n",
       "      <td>3350000.0</td>\n",
       "      <td>40.40</td>\n",
       "      <td>2018-12-04</td>\n",
       "      <td>1</td>\n",
       "      <td>NaN</td>\n",
       "      <td>11.0</td>\n",
       "      <td>18.60</td>\n",
       "      <td>1</td>\n",
       "      <td>True</td>\n",
       "      <td>...</td>\n",
       "      <td>0.0</td>\n",
       "      <td>0.0</td>\n",
       "      <td>0.0</td>\n",
       "      <td>81.0</td>\n",
       "      <td>82920.792079</td>\n",
       "      <td>1</td>\n",
       "      <td>2018</td>\n",
       "      <td>первый</td>\n",
       "      <td>0.460396</td>\n",
       "      <td>0.272277</td>\n",
       "    </tr>\n",
       "    <tr>\n",
       "      <th>2</th>\n",
       "      <td>10</td>\n",
       "      <td>5196000.0</td>\n",
       "      <td>56.00</td>\n",
       "      <td>2015-08-20</td>\n",
       "      <td>2</td>\n",
       "      <td>NaN</td>\n",
       "      <td>5.0</td>\n",
       "      <td>34.30</td>\n",
       "      <td>4</td>\n",
       "      <td>True</td>\n",
       "      <td>...</td>\n",
       "      <td>90.0</td>\n",
       "      <td>2.0</td>\n",
       "      <td>574.0</td>\n",
       "      <td>558.0</td>\n",
       "      <td>92785.714286</td>\n",
       "      <td>3</td>\n",
       "      <td>2015</td>\n",
       "      <td>другой</td>\n",
       "      <td>0.612500</td>\n",
       "      <td>0.148214</td>\n",
       "    </tr>\n",
       "    <tr>\n",
       "      <th>3</th>\n",
       "      <td>0</td>\n",
       "      <td>64900000.0</td>\n",
       "      <td>159.00</td>\n",
       "      <td>2015-07-24</td>\n",
       "      <td>3</td>\n",
       "      <td>NaN</td>\n",
       "      <td>14.0</td>\n",
       "      <td>NaN</td>\n",
       "      <td>9</td>\n",
       "      <td>True</td>\n",
       "      <td>...</td>\n",
       "      <td>84.0</td>\n",
       "      <td>3.0</td>\n",
       "      <td>234.0</td>\n",
       "      <td>424.0</td>\n",
       "      <td>408176.100629</td>\n",
       "      <td>4</td>\n",
       "      <td>2015</td>\n",
       "      <td>другой</td>\n",
       "      <td>NaN</td>\n",
       "      <td>NaN</td>\n",
       "    </tr>\n",
       "    <tr>\n",
       "      <th>4</th>\n",
       "      <td>2</td>\n",
       "      <td>10000000.0</td>\n",
       "      <td>100.00</td>\n",
       "      <td>2018-06-19</td>\n",
       "      <td>2</td>\n",
       "      <td>3.03</td>\n",
       "      <td>14.0</td>\n",
       "      <td>32.00</td>\n",
       "      <td>13</td>\n",
       "      <td>True</td>\n",
       "      <td>...</td>\n",
       "      <td>112.0</td>\n",
       "      <td>1.0</td>\n",
       "      <td>48.0</td>\n",
       "      <td>121.0</td>\n",
       "      <td>100000.000000</td>\n",
       "      <td>1</td>\n",
       "      <td>2018</td>\n",
       "      <td>другой</td>\n",
       "      <td>0.320000</td>\n",
       "      <td>0.410000</td>\n",
       "    </tr>\n",
       "    <tr>\n",
       "      <th>5</th>\n",
       "      <td>10</td>\n",
       "      <td>2890000.0</td>\n",
       "      <td>30.40</td>\n",
       "      <td>2018-09-10</td>\n",
       "      <td>1</td>\n",
       "      <td>NaN</td>\n",
       "      <td>12.0</td>\n",
       "      <td>14.40</td>\n",
       "      <td>5</td>\n",
       "      <td>True</td>\n",
       "      <td>...</td>\n",
       "      <td>0.0</td>\n",
       "      <td>0.0</td>\n",
       "      <td>0.0</td>\n",
       "      <td>55.0</td>\n",
       "      <td>95065.789474</td>\n",
       "      <td>0</td>\n",
       "      <td>2018</td>\n",
       "      <td>другой</td>\n",
       "      <td>0.473684</td>\n",
       "      <td>0.299342</td>\n",
       "    </tr>\n",
       "    <tr>\n",
       "      <th>6</th>\n",
       "      <td>6</td>\n",
       "      <td>3700000.0</td>\n",
       "      <td>37.30</td>\n",
       "      <td>2017-11-02</td>\n",
       "      <td>1</td>\n",
       "      <td>NaN</td>\n",
       "      <td>26.0</td>\n",
       "      <td>10.60</td>\n",
       "      <td>6</td>\n",
       "      <td>True</td>\n",
       "      <td>...</td>\n",
       "      <td>0.0</td>\n",
       "      <td>0.0</td>\n",
       "      <td>0.0</td>\n",
       "      <td>155.0</td>\n",
       "      <td>99195.710456</td>\n",
       "      <td>3</td>\n",
       "      <td>2017</td>\n",
       "      <td>другой</td>\n",
       "      <td>0.284182</td>\n",
       "      <td>0.386059</td>\n",
       "    </tr>\n",
       "    <tr>\n",
       "      <th>8</th>\n",
       "      <td>20</td>\n",
       "      <td>2900000.0</td>\n",
       "      <td>33.16</td>\n",
       "      <td>2018-05-23</td>\n",
       "      <td>1</td>\n",
       "      <td>NaN</td>\n",
       "      <td>27.0</td>\n",
       "      <td>15.43</td>\n",
       "      <td>26</td>\n",
       "      <td>True</td>\n",
       "      <td>...</td>\n",
       "      <td>0.0</td>\n",
       "      <td>0.0</td>\n",
       "      <td>0.0</td>\n",
       "      <td>189.0</td>\n",
       "      <td>87454.764777</td>\n",
       "      <td>2</td>\n",
       "      <td>2018</td>\n",
       "      <td>другой</td>\n",
       "      <td>0.465320</td>\n",
       "      <td>0.265682</td>\n",
       "    </tr>\n",
       "    <tr>\n",
       "      <th>9</th>\n",
       "      <td>18</td>\n",
       "      <td>5400000.0</td>\n",
       "      <td>61.00</td>\n",
       "      <td>2017-02-26</td>\n",
       "      <td>3</td>\n",
       "      <td>2.50</td>\n",
       "      <td>9.0</td>\n",
       "      <td>43.60</td>\n",
       "      <td>7</td>\n",
       "      <td>True</td>\n",
       "      <td>...</td>\n",
       "      <td>0.0</td>\n",
       "      <td>0.0</td>\n",
       "      <td>0.0</td>\n",
       "      <td>289.0</td>\n",
       "      <td>88524.590164</td>\n",
       "      <td>6</td>\n",
       "      <td>2017</td>\n",
       "      <td>другой</td>\n",
       "      <td>0.714754</td>\n",
       "      <td>0.106557</td>\n",
       "    </tr>\n",
       "    <tr>\n",
       "      <th>10</th>\n",
       "      <td>5</td>\n",
       "      <td>5050000.0</td>\n",
       "      <td>39.60</td>\n",
       "      <td>2017-11-16</td>\n",
       "      <td>1</td>\n",
       "      <td>2.67</td>\n",
       "      <td>12.0</td>\n",
       "      <td>20.30</td>\n",
       "      <td>3</td>\n",
       "      <td>True</td>\n",
       "      <td>...</td>\n",
       "      <td>310.0</td>\n",
       "      <td>2.0</td>\n",
       "      <td>553.0</td>\n",
       "      <td>137.0</td>\n",
       "      <td>127525.252525</td>\n",
       "      <td>3</td>\n",
       "      <td>2017</td>\n",
       "      <td>другой</td>\n",
       "      <td>0.512626</td>\n",
       "      <td>0.214646</td>\n",
       "    </tr>\n",
       "    <tr>\n",
       "      <th>11</th>\n",
       "      <td>9</td>\n",
       "      <td>3300000.0</td>\n",
       "      <td>44.00</td>\n",
       "      <td>2018-08-27</td>\n",
       "      <td>2</td>\n",
       "      <td>NaN</td>\n",
       "      <td>5.0</td>\n",
       "      <td>31.00</td>\n",
       "      <td>4</td>\n",
       "      <td>False</td>\n",
       "      <td>...</td>\n",
       "      <td>0.0</td>\n",
       "      <td>0.0</td>\n",
       "      <td>0.0</td>\n",
       "      <td>7.0</td>\n",
       "      <td>75000.000000</td>\n",
       "      <td>0</td>\n",
       "      <td>2018</td>\n",
       "      <td>другой</td>\n",
       "      <td>0.704545</td>\n",
       "      <td>0.136364</td>\n",
       "    </tr>\n",
       "  </tbody>\n",
       "</table>\n",
       "<p>10 rows × 28 columns</p>\n",
       "</div>"
      ],
      "text/plain": [
       "    total_images  last_price  total_area first_day_exposition  rooms  \\\n",
       "1              7   3350000.0       40.40           2018-12-04      1   \n",
       "2             10   5196000.0       56.00           2015-08-20      2   \n",
       "3              0  64900000.0      159.00           2015-07-24      3   \n",
       "4              2  10000000.0      100.00           2018-06-19      2   \n",
       "5             10   2890000.0       30.40           2018-09-10      1   \n",
       "6              6   3700000.0       37.30           2017-11-02      1   \n",
       "8             20   2900000.0       33.16           2018-05-23      1   \n",
       "9             18   5400000.0       61.00           2017-02-26      3   \n",
       "10             5   5050000.0       39.60           2017-11-16      1   \n",
       "11             9   3300000.0       44.00           2018-08-27      2   \n",
       "\n",
       "    ceiling_height  floors_total  living_area  floor  is_apartment  ...  \\\n",
       "1              NaN          11.0        18.60      1          True  ...   \n",
       "2              NaN           5.0        34.30      4          True  ...   \n",
       "3              NaN          14.0          NaN      9          True  ...   \n",
       "4             3.03          14.0        32.00     13          True  ...   \n",
       "5              NaN          12.0        14.40      5          True  ...   \n",
       "6              NaN          26.0        10.60      6          True  ...   \n",
       "8              NaN          27.0        15.43     26          True  ...   \n",
       "9             2.50           9.0        43.60      7          True  ...   \n",
       "10            2.67          12.0        20.30      3          True  ...   \n",
       "11             NaN           5.0        31.00      4         False  ...   \n",
       "\n",
       "    parks_nearest  ponds_around_3000  ponds_nearest  days_exposition  \\\n",
       "1             0.0                0.0            0.0             81.0   \n",
       "2            90.0                2.0          574.0            558.0   \n",
       "3            84.0                3.0          234.0            424.0   \n",
       "4           112.0                1.0           48.0            121.0   \n",
       "5             0.0                0.0            0.0             55.0   \n",
       "6             0.0                0.0            0.0            155.0   \n",
       "8             0.0                0.0            0.0            189.0   \n",
       "9             0.0                0.0            0.0            289.0   \n",
       "10          310.0                2.0          553.0            137.0   \n",
       "11            0.0                0.0            0.0              7.0   \n",
       "\n",
       "              m^2  day  year  floor_app  living_ar/total_area  \\\n",
       "1    82920.792079    1  2018     первый              0.460396   \n",
       "2    92785.714286    3  2015     другой              0.612500   \n",
       "3   408176.100629    4  2015     другой                   NaN   \n",
       "4   100000.000000    1  2018     другой              0.320000   \n",
       "5    95065.789474    0  2018     другой              0.473684   \n",
       "6    99195.710456    3  2017     другой              0.284182   \n",
       "8    87454.764777    2  2018     другой              0.465320   \n",
       "9    88524.590164    6  2017     другой              0.714754   \n",
       "10  127525.252525    3  2017     другой              0.512626   \n",
       "11   75000.000000    0  2018     другой              0.704545   \n",
       "\n",
       "    kitchen_ar/total_area  \n",
       "1                0.272277  \n",
       "2                0.148214  \n",
       "3                     NaN  \n",
       "4                0.410000  \n",
       "5                0.299342  \n",
       "6                0.386059  \n",
       "8                0.265682  \n",
       "9                0.106557  \n",
       "10               0.214646  \n",
       "11               0.136364  \n",
       "\n",
       "[10 rows x 28 columns]"
      ]
     },
     "metadata": {},
     "output_type": "display_data"
    }
   ],
   "source": [
    "data_frame['m^2']= data_frame['last_price']/data_frame['total_area'] #Цена 1 метра квадратного\n",
    "# даты \n",
    "data_frame['first_day_exposition']= pd.to_datetime(data_frame['first_day_exposition'], format='%Y%m%dT') #Перевод времени\n",
    "data_frame['day']=data_frame['first_day_exposition'].dt.weekday\n",
    "data_frame['year']=data_frame['first_day_exposition'].dt.year\n",
    "\n",
    "#классификация по этажу\n",
    "data_frame['floor_app']='другой' \n",
    "data_frame.loc[data_frame['floor']==1,'floor_app' ]='первый'\n",
    "data_frame.loc[data_frame['floor']==data_frame['floors_total'],'floor_app' ]='последний'\n",
    "\n",
    "data_frame['living_ar/total_area']= data_frame['living_area']/data_frame['total_area'] #соотношение жилой и общей площади\n",
    "data_frame['kitchen_ar/total_area']= data_frame['kitchen_area']/data_frame['total_area'] #отношение площади кухни к общей\n",
    "display(data_frame.head(10))\n",
    "\n",
    "data_frame_good = data_frame.dropna(subset=['city_centers_nearest','airports_nearest']) #Удалние строк\n",
    "null_data_columns=data_frame_good.isna().sum()"
   ]
  },
  {
   "cell_type": "markdown",
   "metadata": {},
   "source": [
    "## Исследовательский анализ данных"
   ]
  },
  {
   "cell_type": "markdown",
   "metadata": {},
   "source": [
    "### Зависимость количества квартир от площади "
   ]
  },
  {
   "cell_type": "code",
   "execution_count": 6,
   "metadata": {},
   "outputs": [
    {
     "data": {
      "text/plain": [
       "<AxesSubplot:ylabel='Frequency'>"
      ]
     },
     "execution_count": 6,
     "metadata": {},
     "output_type": "execute_result"
    },
    {
     "data": {
      "image/png": "[encoded data removed]",
      "text/plain": [
       "<Figure size 864x432 with 1 Axes>"
      ]
     },
     "metadata": {
      "needs_background": "light"
     },
     "output_type": "display_data"
    }
   ],
   "source": [
    "data_frame.plot(kind='hist', y='total_area',bins=100,range=[data_frame['total_area'].min(), 200],grid=True, label='total_area_count',figsize=(12, 6))"
   ]
  },
  {
   "cell_type": "markdown",
   "metadata": {},
   "source": [
    "**Вывод**\n",
    "\n",
    "Из графика хорошо видно, что больше всего продаваемых квартир имеют площадь от 30 до 45 квадратным метров. Больше всего квартир сдается с площадью 40 квадратных метров"
   ]
  },
  {
   "cell_type": "markdown",
   "metadata": {},
   "source": [
    "### Зависимость количества квартир от цены "
   ]
  },
  {
   "cell_type": "code",
   "execution_count": 7,
   "metadata": {},
   "outputs": [
    {
     "data": {
      "text/plain": [
       "<AxesSubplot:ylabel='Frequency'>"
      ]
     },
     "execution_count": 7,
     "metadata": {},
     "output_type": "execute_result"
    },
    {
     "data": {
      "image/png": "[encoded data removed]",
      "text/plain": [
       "<Figure size 864x432 with 1 Axes>"
      ]
     },
     "metadata": {
      "needs_background": "light"
     },
     "output_type": "display_data"
    }
   ],
   "source": [
    "data_frame.plot(kind='hist', y='last_price',bins=100,range=[data_frame['last_price'].min(), 10000000],grid=True, label='last_price_count',figsize=(12, 6))"
   ]
  },
  {
   "cell_type": "markdown",
   "metadata": {},
   "source": [
    "**Вывод**\n",
    "По графику можно сказать, что больше всего квартир продается с ценой в районе 4млн. и предела цены практически нет т.к. по графику справа большой хвот примерно до 80 млн."
   ]
  },
  {
   "cell_type": "markdown",
   "metadata": {},
   "source": [
    "### Зависимость количества квартир от числа комнат"
   ]
  },
  {
   "cell_type": "code",
   "execution_count": 8,
   "metadata": {},
   "outputs": [
    {
     "data": {
      "text/plain": [
       "<AxesSubplot:ylabel='Frequency'>"
      ]
     },
     "execution_count": 8,
     "metadata": {},
     "output_type": "execute_result"
    },
    {
     "data": {
      "image/png": "[encoded data removed]",
      "text/plain": [
       "<Figure size 864x432 with 1 Axes>"
      ]
     },
     "metadata": {
      "needs_background": "light"
     },
     "output_type": "display_data"
    }
   ],
   "source": [
    "data_frame.plot(kind='hist', y='rooms',bins=10,range=[data_frame['rooms'].min(), 10],grid=True, label='rooms_count',figsize=(12, 6))"
   ]
  },
  {
   "cell_type": "markdown",
   "metadata": {},
   "source": [
    "**Вывод**\n",
    "По графику можно сказать, что больше всего продается 1-о и 2-х комнатных, притом их количество практически одинаковое. Примерно на 30% меньше продается 3-х комнатных, а с  большим количеством комнат квартир продается очень мало по сравнению с основной массой."
   ]
  },
  {
   "cell_type": "markdown",
   "metadata": {},
   "source": [
    "### Зависимость количества квартир от высота потолков"
   ]
  },
  {
   "cell_type": "code",
   "execution_count": 9,
   "metadata": {},
   "outputs": [
    {
     "data": {
      "text/plain": [
       "<AxesSubplot:ylabel='Frequency'>"
      ]
     },
     "execution_count": 9,
     "metadata": {},
     "output_type": "execute_result"
    },
    {
     "data": {
      "image/png": "[encoded data removed]",
      "text/plain": [
       "<Figure size 864x432 with 1 Axes>"
      ]
     },
     "metadata": {
      "needs_background": "light"
     },
     "output_type": "display_data"
    }
   ],
   "source": [
    "data_frame.plot(kind='hist', y='ceiling_height',bins=12,range=[data_frame['ceiling_height'].min(), 3.5],grid=True, label='height_count',figsize=(12, 6))"
   ]
  },
  {
   "cell_type": "markdown",
   "metadata": {},
   "source": [
    "**Вывод**\n",
    "По графику можно сказать, что больше всего квартир с высотой потолков 2.5 метра, квартир с высотой потолка 3 метра примерно в 2 раза меньше. Более 3-х метров, высокие потолки редкость."
   ]
  },
  {
   "cell_type": "markdown",
   "metadata": {},
   "source": [
    "### Зависимость количества квартир проданных за опреденное количество дней"
   ]
  },
  {
   "cell_type": "code",
   "execution_count": 10,
   "metadata": {},
   "outputs": [
    {
     "data": {
      "text/plain": [
       "<AxesSubplot:ylabel='Frequency'>"
      ]
     },
     "execution_count": 10,
     "metadata": {},
     "output_type": "execute_result"
    },
    {
     "data": {
      "image/png": "[encoded data removed]",
      "text/plain": [
       "<Figure size 864x432 with 1 Axes>"
      ]
     },
     "metadata": {
      "needs_background": "light"
     },
     "output_type": "display_data"
    }
   ],
   "source": [
    "data_frame.plot(kind='hist', y='days_exposition',bins=100,range=[data_frame['days_exposition'].min(), 1000],grid=True, label='days_exposition',figsize=(12, 6))"
   ]
  },
  {
   "cell_type": "markdown",
   "metadata": {},
   "source": [
    "**Вывод**\n",
    "По графику можно сказать, что больше всего квартир продается за 45-60 дней, так же у графика присутствует очень большой хвост уходящий в право и так же достаточно большое количество квартир продается за время близкое к 0."
   ]
  },
  {
   "cell_type": "markdown",
   "metadata": {},
   "source": [
    "Устранение выбросов из распределения"
   ]
  },
  {
   "cell_type": "code",
   "execution_count": 11,
   "metadata": {},
   "outputs": [
    {
     "name": "stdout",
     "output_type": "stream",
     "text": [
      "count    20470.000000\n",
      "mean       180.753200\n",
      "std        219.777916\n",
      "min          1.000000\n",
      "25%         45.000000\n",
      "50%         95.000000\n",
      "75%        231.000000\n",
      "max       1580.000000\n",
      "Name: days_exposition, dtype: float64\n"
     ]
    }
   ],
   "source": [
    "delta=data_frame['days_exposition'].describe()#получаем распределение\n",
    "print(delta)"
   ]
  },
  {
   "cell_type": "markdown",
   "metadata": {},
   "source": [
    "**Вывод**\n",
    "\n",
    "Значения меньше 1 и больше  280 являются выбросами"
   ]
  },
  {
   "cell_type": "code",
   "execution_count": 12,
   "metadata": {},
   "outputs": [
    {
     "name": "stdout",
     "output_type": "stream",
     "text": [
      "count    2.047000e+04\n",
      "mean     6.264805e+06\n",
      "std      1.087355e+07\n",
      "min      1.219000e+04\n",
      "25%      3.400000e+06\n",
      "50%      4.500000e+06\n",
      "75%      6.500000e+06\n",
      "max      7.630000e+08\n",
      "Name: last_price, dtype: float64\n"
     ]
    }
   ],
   "source": [
    "delta=data_frame['last_price'].describe()#получаем распределение\n",
    "print(delta)"
   ]
  },
  {
   "cell_type": "code",
   "execution_count": 27,
   "metadata": {},
   "outputs": [
    {
     "name": "stdout",
     "output_type": "stream",
     "text": [
      "count    20470.000000\n",
      "mean        58.845355\n",
      "std         34.080771\n",
      "min         12.000000\n",
      "25%         39.500000\n",
      "50%         50.800000\n",
      "75%         67.800000\n",
      "max        900.000000\n",
      "Name: total_area, dtype: float64\n"
     ]
    }
   ],
   "source": [
    "delta=data_frame['total_area'].describe()#получаем распределение\n",
    "print(delta)"
   ]
  },
  {
   "cell_type": "code",
   "execution_count": 13,
   "metadata": {},
   "outputs": [
    {
     "name": "stdout",
     "output_type": "stream",
     "text": [
      "count    16247.000000\n",
      "mean        89.119345\n",
      "std         70.309503\n",
      "min          2.000000\n",
      "25%         34.000000\n",
      "50%         66.000000\n",
      "75%        133.000000\n",
      "max        279.000000\n",
      "Name: days_exposition, dtype: float64\n"
     ]
    },
    {
     "data": {
      "text/plain": [
       "<AxesSubplot:ylabel='Frequency'>"
      ]
     },
     "execution_count": 13,
     "metadata": {},
     "output_type": "execute_result"
    },
    {
     "data": {
      "image/png": "[encoded data removed]",
      "text/plain": [
       "<Figure size 864x432 with 1 Axes>"
      ]
     },
     "metadata": {
      "needs_background": "light"
     },
     "output_type": "display_data"
    }
   ],
   "source": [
    "day_set=data_frame.query('days_exposition >1 and days_exposition<280') #срез без выбросов\n",
    "print(day_set['days_exposition'].describe()) #получаем распределение\n",
    "day_set.plot(kind='hist', y='days_exposition',bins=28,range=[data_frame['days_exposition'].min(), 280],grid=True, label='days_exposition',figsize=(12, 6))"
   ]
  },
  {
   "cell_type": "markdown",
   "metadata": {},
   "source": [
    "**Вывод**  \n",
    "По графику можно сказать, что большенство квартир продается от 1 до 60 дней с просадкой в районе 40 дней, так же продажи более 280 дней можно считать очень долгой продажей. Продажи за 0 дней является аномальным значением."
   ]
  },
  {
   "cell_type": "code",
   "execution_count": 35,
   "metadata": {
    "scrolled": false
   },
   "outputs": [
    {
     "data": {
      "text/html": [
       "<div>\n",
       "<style scoped>\n",
       "    .dataframe tbody tr th:only-of-type {\n",
       "        vertical-align: middle;\n",
       "    }\n",
       "\n",
       "    .dataframe tbody tr th {\n",
       "        vertical-align: top;\n",
       "    }\n",
       "\n",
       "    .dataframe thead th {\n",
       "        text-align: right;\n",
       "    }\n",
       "</style>\n",
       "<table border=\"1\" class=\"dataframe\">\n",
       "  <thead>\n",
       "    <tr style=\"text-align: right;\">\n",
       "      <th></th>\n",
       "      <th>last_price</th>\n",
       "      <th>total_area</th>\n",
       "      <th>rooms</th>\n",
       "      <th>city_centers_nearest</th>\n",
       "    </tr>\n",
       "  </thead>\n",
       "  <tbody>\n",
       "    <tr>\n",
       "      <th>last_price</th>\n",
       "      <td>1.000000</td>\n",
       "      <td>0.771693</td>\n",
       "      <td>0.522206</td>\n",
       "      <td>-0.344541</td>\n",
       "    </tr>\n",
       "    <tr>\n",
       "      <th>total_area</th>\n",
       "      <td>0.771693</td>\n",
       "      <td>1.000000</td>\n",
       "      <td>0.801461</td>\n",
       "      <td>-0.118429</td>\n",
       "    </tr>\n",
       "    <tr>\n",
       "      <th>rooms</th>\n",
       "      <td>0.522206</td>\n",
       "      <td>0.801461</td>\n",
       "      <td>1.000000</td>\n",
       "      <td>-0.077325</td>\n",
       "    </tr>\n",
       "    <tr>\n",
       "      <th>city_centers_nearest</th>\n",
       "      <td>-0.344541</td>\n",
       "      <td>-0.118429</td>\n",
       "      <td>-0.077325</td>\n",
       "      <td>1.000000</td>\n",
       "    </tr>\n",
       "  </tbody>\n",
       "</table>\n",
       "</div>"
      ],
      "text/plain": [
       "                      last_price  total_area     rooms  city_centers_nearest\n",
       "last_price              1.000000    0.771693  0.522206             -0.344541\n",
       "total_area              0.771693    1.000000  0.801461             -0.118429\n",
       "rooms                   0.522206    0.801461  1.000000             -0.077325\n",
       "city_centers_nearest   -0.344541   -0.118429 -0.077325              1.000000"
      ]
     },
     "execution_count": 35,
     "metadata": {},
     "output_type": "execute_result"
    },
    {
     "data": {
      "image/png": "[encoded data removed]",
      "text/plain": [
       "<Figure size 648x648 with 16 Axes>"
      ]
     },
     "metadata": {
      "needs_background": "light"
     },
     "output_type": "display_data"
    }
   ],
   "source": [
    "data_corr_set=data_frame_good[['last_price', 'total_area', 'rooms', 'city_centers_nearest']]\n",
    "data_corr_set=data_corr_set.query('last_price <11150000') #срез без выбросов\n",
    "data_corr_set2=data_corr_set1.query('total_area <110.25') #срез без выбросов\n",
    "pd.plotting.scatter_matrix(data_corr_set, figsize=(9, 9))  # гарафики взаимной корреляции величин\n",
    "data_corr_set.corr() #числовые значения корреляции"
   ]
  },
  {
   "cell_type": "markdown",
   "metadata": {},
   "source": [
    "**Вывод**  \n",
    "Хорошо заметна корреляция стоимости квартиры от общей площади, так же хорошо замента зависимость общей площади от количества комнат. В обих случаях зависимость положительная, т.е. чем больше площадь, тем больше стоимость и тем больше комнат. Закономерности цены от удаленности от центра особо не наблюдается, даже есть небольшая обратная кореляция."
   ]
  },
  {
   "cell_type": "code",
   "execution_count": 15,
   "metadata": {},
   "outputs": [
    {
     "data": {
      "text/html": [
       "<div>\n",
       "<style scoped>\n",
       "    .dataframe tbody tr th:only-of-type {\n",
       "        vertical-align: middle;\n",
       "    }\n",
       "\n",
       "    .dataframe tbody tr th {\n",
       "        vertical-align: top;\n",
       "    }\n",
       "\n",
       "    .dataframe thead th {\n",
       "        text-align: right;\n",
       "    }\n",
       "</style>\n",
       "<table border=\"1\" class=\"dataframe\">\n",
       "  <thead>\n",
       "    <tr style=\"text-align: right;\">\n",
       "      <th></th>\n",
       "      <th>last_price</th>\n",
       "      <th>parks_around_3000</th>\n",
       "      <th>parks_nearest</th>\n",
       "      <th>ponds_nearest</th>\n",
       "    </tr>\n",
       "  </thead>\n",
       "  <tbody>\n",
       "    <tr>\n",
       "      <th>last_price</th>\n",
       "      <td>1.000000</td>\n",
       "      <td>0.136074</td>\n",
       "      <td>0.070225</td>\n",
       "      <td>0.031751</td>\n",
       "    </tr>\n",
       "    <tr>\n",
       "      <th>parks_around_3000</th>\n",
       "      <td>0.136074</td>\n",
       "      <td>1.000000</td>\n",
       "      <td>0.529807</td>\n",
       "      <td>0.082358</td>\n",
       "    </tr>\n",
       "    <tr>\n",
       "      <th>parks_nearest</th>\n",
       "      <td>0.070225</td>\n",
       "      <td>0.529807</td>\n",
       "      <td>1.000000</td>\n",
       "      <td>0.081197</td>\n",
       "    </tr>\n",
       "    <tr>\n",
       "      <th>ponds_nearest</th>\n",
       "      <td>0.031751</td>\n",
       "      <td>0.082358</td>\n",
       "      <td>0.081197</td>\n",
       "      <td>1.000000</td>\n",
       "    </tr>\n",
       "  </tbody>\n",
       "</table>\n",
       "</div>"
      ],
      "text/plain": [
       "                   last_price  parks_around_3000  parks_nearest  ponds_nearest\n",
       "last_price           1.000000           0.136074       0.070225       0.031751\n",
       "parks_around_3000    0.136074           1.000000       0.529807       0.082358\n",
       "parks_nearest        0.070225           0.529807       1.000000       0.081197\n",
       "ponds_nearest        0.031751           0.082358       0.081197       1.000000"
      ]
     },
     "execution_count": 15,
     "metadata": {},
     "output_type": "execute_result"
    },
    {
     "data": {
      "image/png": "[encoded data removed]",
      "text/plain": [
       "<Figure size 648x648 with 16 Axes>"
      ]
     },
     "metadata": {
      "needs_background": "light"
     },
     "output_type": "display_data"
    }
   ],
   "source": [
    "data_corr_set=data_frame_good[['last_price', 'parks_around_3000', 'parks_nearest', 'ponds_nearest']]\n",
    "pd.plotting.scatter_matrix(data_corr_set, figsize=(9, 9))  # гарафики взаимной корреляции величин\n",
    "data_corr_set.corr()"
   ]
  },
  {
   "cell_type": "markdown",
   "metadata": {},
   "source": [
    "**Вывод**  \n",
    "Ни какой закономерности между ценой и количеством рядом распологающихся парков и прудов не наблюдается."
   ]
  },
  {
   "cell_type": "code",
   "execution_count": 16,
   "metadata": {},
   "outputs": [
    {
     "name": "stdout",
     "output_type": "stream",
     "text": [
      "floor_app\n",
      "другой       5200000.0\n",
      "первый       4400000.0\n",
      "последний    5020000.0\n",
      "Name: last_price, dtype: float64\n"
     ]
    }
   ],
   "source": [
    "group_price=data_frame_good.groupby(['floor_app'])['last_price'].median() \n",
    "print(group_price)"
   ]
  },
  {
   "cell_type": "markdown",
   "metadata": {},
   "source": [
    "**Вывод**  \n",
    "На первом  и последнем этаже в большенстве случаев квартиры дешевле, чем на других этажах"
   ]
  },
  {
   "cell_type": "code",
   "execution_count": 17,
   "metadata": {},
   "outputs": [
    {
     "data": {
      "image/png": "[encoded data removed]",
      "text/plain": [
       "<Figure size 864x432 with 1 Axes>"
      ]
     },
     "metadata": {
      "needs_background": "light"
     },
     "output_type": "display_data"
    }
   ],
   "source": [
    "group_price=data_frame_good.groupby(['floor'])['m^2'].mean().plot(x='floor', y='m^2',style='o-' ,grid=True, label='m^2',figsize=(12, 6))"
   ]
  },
  {
   "cell_type": "markdown",
   "metadata": {},
   "source": [
    "**Вывод**  \n",
    "Ни какой закономерности между ценой за квадратный метр особо нет, разве, что наиболее выгодно брать 1комнатные квартиры"
   ]
  },
  {
   "cell_type": "code",
   "execution_count": 18,
   "metadata": {},
   "outputs": [
    {
     "data": {
      "image/png": "[encoded data removed]",
      "text/plain": [
       "<Figure size 864x432 with 1 Axes>"
      ]
     },
     "metadata": {
      "needs_background": "light"
     },
     "output_type": "display_data"
    }
   ],
   "source": [
    "group_price=data_frame_good.groupby(['total_area'])['last_price'].mean().plot(x='total_area', y='last_price',style='o-' ,grid=True, label='m^2',figsize=(12, 6))\n"
   ]
  },
  {
   "cell_type": "markdown",
   "metadata": {},
   "source": [
    "**Вывод**  \n",
    "Цена несколько растет с ростом общей площади что логично, есть аномальные значения."
   ]
  },
  {
   "cell_type": "code",
   "execution_count": 19,
   "metadata": {},
   "outputs": [
    {
     "data": {
      "text/plain": [
       "<AxesSubplot:ylabel='Frequency'>"
      ]
     },
     "execution_count": 19,
     "metadata": {},
     "output_type": "execute_result"
    },
    {
     "data": {
      "image/png": "[encoded data removed]",
      "text/plain": [
       "<Figure size 864x432 with 1 Axes>"
      ]
     },
     "metadata": {
      "needs_background": "light"
     },
     "output_type": "display_data"
    }
   ],
   "source": [
    "data_frame.plot(kind='hist', y='day',bins=28,grid=True, label='day',figsize=(12, 6))"
   ]
  },
  {
   "cell_type": "markdown",
   "metadata": {},
   "source": [
    "**Вывод** \n",
    "В течении недели доля размещений квартир на прощадке практически равномерное, в выходные (суббота и воскресение) размещений примерно в 2 раза меньше."
   ]
  },
  {
   "cell_type": "code",
   "execution_count": 20,
   "metadata": {
    "scrolled": true
   },
   "outputs": [
    {
     "data": {
      "text/plain": [
       "<AxesSubplot:ylabel='Frequency'>"
      ]
     },
     "execution_count": 20,
     "metadata": {},
     "output_type": "execute_result"
    },
    {
     "data": {
      "image/png": "[encoded data removed]",
      "text/plain": [
       "<Figure size 864x432 with 1 Axes>"
      ]
     },
     "metadata": {
      "needs_background": "light"
     },
     "output_type": "display_data"
    }
   ],
   "source": [
    "data_frame.plot(kind='hist', y='year',bins=28,grid=True, label='year',figsize=(12, 6))"
   ]
  },
  {
   "cell_type": "markdown",
   "metadata": {},
   "source": [
    "**Вывод** \n",
    "Количество размещений по годам не равномерное в 2017 и 2018 годы большой всплеск размещений на продажу квартир."
   ]
  },
  {
   "cell_type": "markdown",
   "metadata": {},
   "source": [
    "Первые 10 населенных пунктов с наибольшим числом продаваемых квартир"
   ]
  },
  {
   "cell_type": "code",
   "execution_count": 21,
   "metadata": {},
   "outputs": [
    {
     "name": "stdout",
     "output_type": "stream",
     "text": [
      "locality_name\n",
      "Санкт-Петербург      13591\n",
      "посёлок Шушары         404\n",
      "Колпино                307\n",
      "Пушкин                 307\n",
      "посёлок Парголово      302\n",
      "Петергоф               176\n",
      "Сестрорецк             163\n",
      "Красное Село           157\n",
      "Ломоносов              113\n",
      "Кронштадт               86\n",
      "Name: last_price, dtype: int64\n"
     ]
    }
   ],
   "source": [
    "group_top=data_frame_good.groupby(['locality_name'])['last_price'].count() \n",
    "group_top=group_top.sort_values(ascending=False)\n",
    "top_city=list(group_top.index[0:10])\n",
    "print(group_top.head(10))\n"
   ]
  },
  {
   "cell_type": "code",
   "execution_count": 22,
   "metadata": {},
   "outputs": [
    {
     "name": "stdout",
     "output_type": "stream",
     "text": [
      "средняя цена 1 метра кв. в Санкт-Петербург = 73856.67427295595\n",
      "средняя цена 1 метра кв. в посёлок Шушары = 69356.43739184688\n",
      "средняя цена 1 метра кв. в Колпино = 78171.4693228163\n",
      "средняя цена 1 метра кв. в Пушкин = 69830.64798598949\n",
      "средняя цена 1 метра кв. в посёлок Парголово = 84148.21862416962\n",
      "средняя цена 1 метра кв. в Петергоф = 103676.11792533347\n",
      "средняя цена 1 метра кв. в Сестрорецк = 121481.99654400155\n",
      "средняя цена 1 метра кв. в Красное Село = 99306.41181161729\n",
      "средняя цена 1 метра кв. в Ломоносов = 86431.2535176403\n",
      "средняя цена 1 метра кв. в Кронштадт = 75515.25300812663\n"
     ]
    }
   ],
   "source": [
    "\n",
    "for i in range(len(top_city)):\n",
    "    top_city_i=top_city[i]\n",
    "    sum_price_city=data_frame_good.query('locality_name ==@top_city').pivot_table(index='locality_name', values='last_price', aggfunc= 'sum')\n",
    "    sum_area=data_frame_good.query('locality_name == @top_city').pivot_table(index='locality_name', values='total_area', aggfunc= 'sum')\n",
    "    avg_price_m=sum_price_city['last_price'][i]/sum_area['total_area'][i]\n",
    "    print('средняя цена 1 метра кв. в {} = {}'.format(top_city_i, avg_price_m))\n"
   ]
  },
  {
   "cell_type": "markdown",
   "metadata": {},
   "source": [
    "**Вывод**  Самые низкие цены за квадратный метр в Пушкин и Шушары среди первых 10 городов по колличеству объявлений, самым дорогим квадратный метр оказался в Сестрорецке"
   ]
  },
  {
   "cell_type": "markdown",
   "metadata": {},
   "source": [
    "Зависимость цены от удаления от центра "
   ]
  },
  {
   "cell_type": "code",
   "execution_count": 23,
   "metadata": {},
   "outputs": [
    {
     "name": "stderr",
     "output_type": "stream",
     "text": [
      "C:\\Users\\Putnik\\AppData\\Local\\Temp/ipykernel_19292/1196240743.py:2: SettingWithCopyWarning: \n",
      "A value is trying to be set on a copy of a slice from a DataFrame.\n",
      "Try using .loc[row_indexer,col_indexer] = value instead\n",
      "\n",
      "See the caveats in the documentation: https://pandas.pydata.org/pandas-docs/stable/user_guide/indexing.html#returning-a-view-versus-a-copy\n",
      "  SPB_loc['city_centers_nearest_km']=(SPB_loc['city_centers_nearest']/1000).astype(int)\n"
     ]
    },
    {
     "data": {
      "text/plain": [
       "<AxesSubplot:xlabel='city_centers_nearest_km'>"
      ]
     },
     "execution_count": 23,
     "metadata": {},
     "output_type": "execute_result"
    },
    {
     "data": {
      "image/png": "[encoded data removed]",
      "text/plain": [
       "<Figure size 864x432 with 1 Axes>"
      ]
     },
     "metadata": {
      "needs_background": "light"
     },
     "output_type": "display_data"
    }
   ],
   "source": [
    "SPB_loc=data_frame_good.query('locality_name ==\"Санкт-Петербург\"')\n",
    "SPB_loc['city_centers_nearest_km']=(SPB_loc['city_centers_nearest']/1000).astype(int)\n",
    "SPB_loc_gr=SPB_loc.groupby(['city_centers_nearest_km'])['m^2'].mean() \n",
    "SPB_loc_gr.plot(x='city_centers_nearest_km', y='m^2',style='o-' ,grid=True, label='m^2',figsize=(12, 6))"
   ]
  },
  {
   "cell_type": "markdown",
   "metadata": {},
   "source": [
    "**Вывод** \n",
    "Центральная зона составляет 9 км"
   ]
  },
  {
   "cell_type": "code",
   "execution_count": 24,
   "metadata": {},
   "outputs": [],
   "source": [
    "SPB_loc=SPB_loc.query('city_centers_nearest_km <=9')"
   ]
  },
  {
   "cell_type": "code",
   "execution_count": 25,
   "metadata": {},
   "outputs": [
    {
     "data": {
      "text/html": [
       "<div>\n",
       "<style scoped>\n",
       "    .dataframe tbody tr th:only-of-type {\n",
       "        vertical-align: middle;\n",
       "    }\n",
       "\n",
       "    .dataframe tbody tr th {\n",
       "        vertical-align: top;\n",
       "    }\n",
       "\n",
       "    .dataframe thead th {\n",
       "        text-align: right;\n",
       "    }\n",
       "</style>\n",
       "<table border=\"1\" class=\"dataframe\">\n",
       "  <thead>\n",
       "    <tr style=\"text-align: right;\">\n",
       "      <th></th>\n",
       "      <th>last_price</th>\n",
       "      <th>total_area</th>\n",
       "      <th>rooms</th>\n",
       "      <th>city_centers_nearest_km</th>\n",
       "      <th>year</th>\n",
       "      <th>ceiling_height</th>\n",
       "    </tr>\n",
       "  </thead>\n",
       "  <tbody>\n",
       "    <tr>\n",
       "      <th>last_price</th>\n",
       "      <td>1.000000</td>\n",
       "      <td>0.642662</td>\n",
       "      <td>0.355275</td>\n",
       "      <td>-0.143310</td>\n",
       "      <td>-0.074155</td>\n",
       "      <td>0.044965</td>\n",
       "    </tr>\n",
       "    <tr>\n",
       "      <th>total_area</th>\n",
       "      <td>0.642662</td>\n",
       "      <td>1.000000</td>\n",
       "      <td>0.764426</td>\n",
       "      <td>-0.259688</td>\n",
       "      <td>-0.130692</td>\n",
       "      <td>0.041265</td>\n",
       "    </tr>\n",
       "    <tr>\n",
       "      <th>rooms</th>\n",
       "      <td>0.355275</td>\n",
       "      <td>0.764426</td>\n",
       "      <td>1.000000</td>\n",
       "      <td>-0.284178</td>\n",
       "      <td>-0.115100</td>\n",
       "      <td>0.025257</td>\n",
       "    </tr>\n",
       "    <tr>\n",
       "      <th>city_centers_nearest_km</th>\n",
       "      <td>-0.143310</td>\n",
       "      <td>-0.259688</td>\n",
       "      <td>-0.284178</td>\n",
       "      <td>1.000000</td>\n",
       "      <td>0.111461</td>\n",
       "      <td>-0.051163</td>\n",
       "    </tr>\n",
       "    <tr>\n",
       "      <th>year</th>\n",
       "      <td>-0.074155</td>\n",
       "      <td>-0.130692</td>\n",
       "      <td>-0.115100</td>\n",
       "      <td>0.111461</td>\n",
       "      <td>1.000000</td>\n",
       "      <td>-0.004071</td>\n",
       "    </tr>\n",
       "    <tr>\n",
       "      <th>ceiling_height</th>\n",
       "      <td>0.044965</td>\n",
       "      <td>0.041265</td>\n",
       "      <td>0.025257</td>\n",
       "      <td>-0.051163</td>\n",
       "      <td>-0.004071</td>\n",
       "      <td>1.000000</td>\n",
       "    </tr>\n",
       "  </tbody>\n",
       "</table>\n",
       "</div>"
      ],
      "text/plain": [
       "                         last_price  total_area     rooms  \\\n",
       "last_price                 1.000000    0.642662  0.355275   \n",
       "total_area                 0.642662    1.000000  0.764426   \n",
       "rooms                      0.355275    0.764426  1.000000   \n",
       "city_centers_nearest_km   -0.143310   -0.259688 -0.284178   \n",
       "year                      -0.074155   -0.130692 -0.115100   \n",
       "ceiling_height             0.044965    0.041265  0.025257   \n",
       "\n",
       "                         city_centers_nearest_km      year  ceiling_height  \n",
       "last_price                             -0.143310 -0.074155        0.044965  \n",
       "total_area                             -0.259688 -0.130692        0.041265  \n",
       "rooms                                  -0.284178 -0.115100        0.025257  \n",
       "city_centers_nearest_km                 1.000000  0.111461       -0.051163  \n",
       "year                                    0.111461  1.000000       -0.004071  \n",
       "ceiling_height                         -0.051163 -0.004071        1.000000  "
      ]
     },
     "execution_count": 25,
     "metadata": {},
     "output_type": "execute_result"
    },
    {
     "data": {
      "image/png": "[encoded data removed]",
      "text/plain": [
       "<Figure size 864x648 with 36 Axes>"
      ]
     },
     "metadata": {
      "needs_background": "light"
     },
     "output_type": "display_data"
    }
   ],
   "source": [
    "data_corr_set=SPB_loc[['last_price', 'total_area', 'rooms', 'city_centers_nearest_km','year','ceiling_height']]\n",
    "pd.plotting.scatter_matrix(data_corr_set, figsize=(12, 9))  # гарафики взаимной корреляции величин\n",
    "data_corr_set.corr() "
   ]
  },
  {
   "cell_type": "markdown",
   "metadata": {},
   "source": [
    "**Вывод** \n",
    "    В центральной части Питера цена растет ростом общей площади. Цена так же слабо растет с ростом числа комнат, но это связано с ростом обще площади. Цена понижается с удалением от центра."
   ]
  }
 ],
 "metadata": {
  "ExecuteTimeLog": [
   {
    "duration": 2858,
    "start_time": "2022-03-14T19:05:02.553Z"
   },
   {
    "duration": 118,
    "start_time": "2022-03-14T19:05:48.170Z"
   },
   {
    "duration": 280,
    "start_time": "2022-03-14T19:07:31.290Z"
   },
   {
    "duration": 24,
    "start_time": "2022-03-14T19:17:06.769Z"
   },
   {
    "duration": 5,
    "start_time": "2022-03-14T19:18:46.254Z"
   },
   {
    "duration": 50,
    "start_time": "2022-03-14T19:22:25.769Z"
   },
   {
    "duration": 277,
    "start_time": "2022-03-14T19:22:55.886Z"
   },
   {
    "duration": 260,
    "start_time": "2022-03-14T19:23:06.525Z"
   },
   {
    "duration": 88,
    "start_time": "2022-03-14T19:23:09.981Z"
   },
   {
    "duration": 290,
    "start_time": "2022-03-14T19:23:30.477Z"
   },
   {
    "duration": 257,
    "start_time": "2022-03-14T19:23:49.345Z"
   },
   {
    "duration": 289,
    "start_time": "2022-03-14T19:24:03.445Z"
   },
   {
    "duration": 273,
    "start_time": "2022-03-14T19:24:11.165Z"
   },
   {
    "duration": 33,
    "start_time": "2022-03-14T19:26:52.037Z"
   },
   {
    "duration": 35,
    "start_time": "2022-03-14T19:26:57.377Z"
   },
   {
    "duration": 278,
    "start_time": "2022-03-14T19:41:06.500Z"
   },
   {
    "duration": 116,
    "start_time": "2022-03-14T19:41:20.292Z"
   },
   {
    "duration": 24,
    "start_time": "2022-03-14T19:41:21.816Z"
   },
   {
    "duration": 43,
    "start_time": "2022-03-14T19:41:22.588Z"
   },
   {
    "duration": 982,
    "start_time": "2022-03-14T19:41:26.780Z"
   },
   {
    "duration": 25,
    "start_time": "2022-03-14T19:41:47.999Z"
   },
   {
    "duration": 40,
    "start_time": "2022-03-14T19:42:04.544Z"
   },
   {
    "duration": 264,
    "start_time": "2022-03-14T19:43:58.948Z"
   },
   {
    "duration": 603,
    "start_time": "2022-03-14T19:44:49.244Z"
   },
   {
    "duration": 438,
    "start_time": "2022-03-14T19:49:28.743Z"
   },
   {
    "duration": 595,
    "start_time": "2022-03-14T19:49:56.275Z"
   },
   {
    "duration": 449,
    "start_time": "2022-03-14T19:50:15.565Z"
   },
   {
    "duration": 635,
    "start_time": "2022-03-14T19:50:41.191Z"
   },
   {
    "duration": 607,
    "start_time": "2022-03-14T19:51:53.457Z"
   },
   {
    "duration": 626,
    "start_time": "2022-03-14T19:51:58.359Z"
   },
   {
    "duration": 600,
    "start_time": "2022-03-14T19:52:05.687Z"
   },
   {
    "duration": 683,
    "start_time": "2022-03-14T19:52:10.323Z"
   },
   {
    "duration": 613,
    "start_time": "2022-03-14T19:52:20.007Z"
   },
   {
    "duration": 3,
    "start_time": "2022-03-14T19:56:58.648Z"
   },
   {
    "duration": 97,
    "start_time": "2022-03-14T19:57:40.919Z"
   },
   {
    "duration": 101,
    "start_time": "2022-03-14T19:58:05.290Z"
   },
   {
    "duration": 559,
    "start_time": "2022-03-14T19:58:30.911Z"
   },
   {
    "duration": 540,
    "start_time": "2022-03-14T19:58:41.559Z"
   },
   {
    "duration": 551,
    "start_time": "2022-03-14T19:58:47.250Z"
   },
   {
    "duration": 317,
    "start_time": "2022-03-14T19:58:51.771Z"
   },
   {
    "duration": 323,
    "start_time": "2022-03-14T19:58:57.744Z"
   },
   {
    "duration": 394,
    "start_time": "2022-03-14T19:59:38.959Z"
   },
   {
    "duration": 324,
    "start_time": "2022-03-14T19:59:42.553Z"
   },
   {
    "duration": 316,
    "start_time": "2022-03-14T19:59:46.426Z"
   },
   {
    "duration": 284,
    "start_time": "2022-03-14T20:06:19.451Z"
   },
   {
    "duration": 347,
    "start_time": "2022-03-14T20:06:29.131Z"
   },
   {
    "duration": 298,
    "start_time": "2022-03-14T20:06:41.983Z"
   },
   {
    "duration": 354,
    "start_time": "2022-03-14T20:06:46.727Z"
   },
   {
    "duration": 342,
    "start_time": "2022-03-14T20:06:55.491Z"
   },
   {
    "duration": 370,
    "start_time": "2022-03-14T20:07:04.795Z"
   },
   {
    "duration": 330,
    "start_time": "2022-03-14T20:07:08.744Z"
   },
   {
    "duration": 322,
    "start_time": "2022-03-14T20:08:05.778Z"
   },
   {
    "duration": 324,
    "start_time": "2022-03-14T20:08:22.519Z"
   },
   {
    "duration": 322,
    "start_time": "2022-03-14T20:08:27.510Z"
   },
   {
    "duration": 5,
    "start_time": "2022-03-15T18:53:35.821Z"
   },
   {
    "duration": 233,
    "start_time": "2022-03-15T18:55:08.873Z"
   },
   {
    "duration": 909,
    "start_time": "2022-03-15T18:55:16.360Z"
   },
   {
    "duration": 37,
    "start_time": "2022-03-15T18:55:19.758Z"
   },
   {
    "duration": 75,
    "start_time": "2022-03-15T18:55:20.777Z"
   },
   {
    "duration": 79,
    "start_time": "2022-03-15T18:55:21.778Z"
   },
   {
    "duration": 874,
    "start_time": "2022-03-15T18:55:23.774Z"
   },
   {
    "duration": 794,
    "start_time": "2022-03-15T18:55:26.690Z"
   },
   {
    "duration": 433,
    "start_time": "2022-03-15T18:55:28.978Z"
   },
   {
    "duration": 544,
    "start_time": "2022-03-15T18:55:30.765Z"
   },
   {
    "duration": 56,
    "start_time": "2022-03-15T18:55:32.121Z"
   },
   {
    "duration": 434,
    "start_time": "2022-03-15T18:55:39.774Z"
   },
   {
    "duration": 718,
    "start_time": "2022-03-15T18:55:52.005Z"
   },
   {
    "duration": 765,
    "start_time": "2022-03-15T18:56:02.686Z"
   },
   {
    "duration": 820,
    "start_time": "2022-03-15T18:56:31.285Z"
   },
   {
    "duration": 814,
    "start_time": "2022-03-15T18:56:58.207Z"
   },
   {
    "duration": 227,
    "start_time": "2022-03-15T19:04:53.685Z"
   },
   {
    "duration": 6,
    "start_time": "2022-03-15T19:04:59.513Z"
   },
   {
    "duration": 12,
    "start_time": "2022-03-15T19:06:12.837Z"
   },
   {
    "duration": 20,
    "start_time": "2022-03-15T19:08:40.605Z"
   },
   {
    "duration": 56,
    "start_time": "2022-03-15T19:08:52.555Z"
   },
   {
    "duration": 185,
    "start_time": "2022-03-15T19:09:26.237Z"
   },
   {
    "duration": 169,
    "start_time": "2022-03-15T19:09:41.901Z"
   },
   {
    "duration": 12,
    "start_time": "2022-03-15T19:09:55.171Z"
   },
   {
    "duration": 8,
    "start_time": "2022-03-15T19:10:12.617Z"
   },
   {
    "duration": 8,
    "start_time": "2022-03-15T19:24:19.152Z"
   },
   {
    "duration": 241,
    "start_time": "2022-03-15T19:28:24.560Z"
   },
   {
    "duration": 48,
    "start_time": "2022-03-15T19:28:55.493Z"
   },
   {
    "duration": 46,
    "start_time": "2022-03-15T19:29:47.100Z"
   },
   {
    "duration": 24,
    "start_time": "2022-03-15T19:30:13.352Z"
   },
   {
    "duration": 865,
    "start_time": "2022-03-15T19:30:42.261Z"
   },
   {
    "duration": 786,
    "start_time": "2022-03-15T19:30:48.976Z"
   },
   {
    "duration": 1239,
    "start_time": "2022-03-15T19:51:14.434Z"
   },
   {
    "duration": 10,
    "start_time": "2022-03-15T20:16:53.272Z"
   },
   {
    "duration": 945,
    "start_time": "2022-03-15T20:28:26.960Z"
   },
   {
    "duration": 780,
    "start_time": "2022-03-15T20:29:12.412Z"
   },
   {
    "duration": 884,
    "start_time": "2022-03-15T20:29:29.213Z"
   },
   {
    "duration": 52,
    "start_time": "2022-03-15T20:30:34.764Z"
   },
   {
    "duration": 73,
    "start_time": "2022-03-15T20:31:01.344Z"
   },
   {
    "duration": 53,
    "start_time": "2022-03-15T20:31:04.868Z"
   },
   {
    "duration": 57,
    "start_time": "2022-03-15T20:31:24.848Z"
   },
   {
    "duration": 53,
    "start_time": "2022-03-15T20:31:35.705Z"
   },
   {
    "duration": 52,
    "start_time": "2022-03-15T20:32:24.376Z"
   },
   {
    "duration": 758,
    "start_time": "2022-03-15T20:32:48.224Z"
   },
   {
    "duration": 528,
    "start_time": "2022-03-15T20:33:13.520Z"
   },
   {
    "duration": 60,
    "start_time": "2022-03-15T20:45:43.779Z"
   },
   {
    "duration": 55,
    "start_time": "2022-03-15T20:45:52.439Z"
   },
   {
    "duration": 513,
    "start_time": "2022-03-15T20:45:58.379Z"
   },
   {
    "duration": 505,
    "start_time": "2022-03-15T20:48:22.099Z"
   },
   {
    "duration": 516,
    "start_time": "2022-03-15T20:48:36.738Z"
   },
   {
    "duration": 739,
    "start_time": "2022-03-15T20:48:53.239Z"
   },
   {
    "duration": 839,
    "start_time": "2022-03-15T20:49:02.307Z"
   },
   {
    "duration": 54,
    "start_time": "2022-03-15T20:51:45.262Z"
   },
   {
    "duration": 330,
    "start_time": "2022-03-15T20:53:20.723Z"
   },
   {
    "duration": 607,
    "start_time": "2022-03-15T20:54:03.891Z"
   },
   {
    "duration": 467,
    "start_time": "2022-03-15T20:54:23.779Z"
   },
   {
    "duration": 450,
    "start_time": "2022-03-15T20:55:21.439Z"
   },
   {
    "duration": 559,
    "start_time": "2022-03-15T20:56:06.171Z"
   },
   {
    "duration": 486,
    "start_time": "2022-03-15T20:56:13.943Z"
   },
   {
    "duration": 187,
    "start_time": "2022-03-15T21:00:08.963Z"
   },
   {
    "duration": 4161,
    "start_time": "2022-03-15T21:00:51.090Z"
   },
   {
    "duration": 4524,
    "start_time": "2022-03-15T21:01:15.095Z"
   },
   {
    "duration": 5298,
    "start_time": "2022-03-15T21:01:53.447Z"
   },
   {
    "duration": 182,
    "start_time": "2022-03-15T21:02:04.255Z"
   },
   {
    "duration": 19,
    "start_time": "2022-03-15T21:02:50.775Z"
   },
   {
    "duration": 2873,
    "start_time": "2022-03-16T18:35:49.805Z"
   },
   {
    "duration": 987,
    "start_time": "2022-03-16T18:36:03.955Z"
   },
   {
    "duration": 33,
    "start_time": "2022-03-16T18:36:04.946Z"
   },
   {
    "duration": 96,
    "start_time": "2022-03-16T18:36:04.982Z"
   },
   {
    "duration": 79,
    "start_time": "2022-03-16T18:36:05.082Z"
   },
   {
    "duration": 865,
    "start_time": "2022-03-16T18:36:05.164Z"
   },
   {
    "duration": 765,
    "start_time": "2022-03-16T18:36:06.031Z"
   },
   {
    "duration": 448,
    "start_time": "2022-03-16T18:36:06.799Z"
   },
   {
    "duration": 420,
    "start_time": "2022-03-16T18:36:07.250Z"
   },
   {
    "duration": 708,
    "start_time": "2022-03-16T18:36:07.672Z"
   },
   {
    "duration": 11,
    "start_time": "2022-03-16T18:36:08.383Z"
   },
   {
    "duration": 474,
    "start_time": "2022-03-16T18:36:08.396Z"
   },
   {
    "duration": 362,
    "start_time": "2022-03-16T18:36:08.873Z"
   },
   {
    "duration": -2057,
    "start_time": "2022-03-16T18:36:11.295Z"
   },
   {
    "duration": 22,
    "start_time": "2022-03-16T18:36:18.696Z"
   },
   {
    "duration": 4115,
    "start_time": "2022-03-16T18:37:12.164Z"
   },
   {
    "duration": 3666,
    "start_time": "2022-03-16T18:39:56.964Z"
   },
   {
    "duration": 431,
    "start_time": "2022-03-16T18:51:54.348Z"
   },
   {
    "duration": 321,
    "start_time": "2022-03-16T18:52:12.728Z"
   },
   {
    "duration": 415,
    "start_time": "2022-03-16T18:52:17.855Z"
   },
   {
    "duration": 156,
    "start_time": "2022-03-16T18:52:22.628Z"
   },
   {
    "duration": 40,
    "start_time": "2022-03-16T18:52:24.427Z"
   },
   {
    "duration": 71,
    "start_time": "2022-03-16T18:52:25.312Z"
   },
   {
    "duration": 2104,
    "start_time": "2022-03-16T18:53:15.036Z"
   },
   {
    "duration": 50,
    "start_time": "2022-03-16T18:53:27.883Z"
   },
   {
    "duration": 66,
    "start_time": "2022-03-16T18:53:32.167Z"
   },
   {
    "duration": 132,
    "start_time": "2022-03-16T18:53:40.639Z"
   },
   {
    "duration": 38,
    "start_time": "2022-03-16T18:53:42.472Z"
   },
   {
    "duration": 53,
    "start_time": "2022-03-16T18:53:43.847Z"
   },
   {
    "duration": 80,
    "start_time": "2022-03-16T18:54:05.068Z"
   },
   {
    "duration": 107,
    "start_time": "2022-03-16T18:56:47.828Z"
   },
   {
    "duration": 457,
    "start_time": "2022-03-16T18:57:05.307Z"
   },
   {
    "duration": 597,
    "start_time": "2022-03-16T18:57:30.432Z"
   },
   {
    "duration": 573,
    "start_time": "2022-03-16T18:57:40.255Z"
   },
   {
    "duration": 1157,
    "start_time": "2022-03-16T19:01:42.652Z"
   },
   {
    "duration": 665,
    "start_time": "2022-03-16T19:01:50.779Z"
   },
   {
    "duration": 584,
    "start_time": "2022-03-16T19:02:09.127Z"
   },
   {
    "duration": 800,
    "start_time": "2022-03-16T19:04:42.899Z"
   },
   {
    "duration": 319,
    "start_time": "2022-03-16T19:07:12.455Z"
   },
   {
    "duration": 320,
    "start_time": "2022-03-16T19:07:19.555Z"
   },
   {
    "duration": 346,
    "start_time": "2022-03-16T19:07:50.215Z"
   },
   {
    "duration": 331,
    "start_time": "2022-03-16T19:08:12.859Z"
   },
   {
    "duration": 358,
    "start_time": "2022-03-16T19:08:18.279Z"
   },
   {
    "duration": 854,
    "start_time": "2022-03-16T19:09:12.856Z"
   },
   {
    "duration": 674,
    "start_time": "2022-03-16T19:09:23.825Z"
   },
   {
    "duration": 513,
    "start_time": "2022-03-16T19:09:30.779Z"
   },
   {
    "duration": 321,
    "start_time": "2022-03-16T19:10:09.607Z"
   },
   {
    "duration": 312,
    "start_time": "2022-03-16T19:11:21.479Z"
   },
   {
    "duration": 323,
    "start_time": "2022-03-16T19:11:37.183Z"
   },
   {
    "duration": 144,
    "start_time": "2022-03-16T19:11:46.466Z"
   },
   {
    "duration": 30,
    "start_time": "2022-03-16T19:11:48.159Z"
   },
   {
    "duration": 332,
    "start_time": "2022-03-16T19:11:48.996Z"
   },
   {
    "duration": 348,
    "start_time": "2022-03-16T19:12:00.611Z"
   },
   {
    "duration": 132,
    "start_time": "2022-03-16T19:12:05.794Z"
   },
   {
    "duration": 32,
    "start_time": "2022-03-16T19:12:08.380Z"
   },
   {
    "duration": 358,
    "start_time": "2022-03-16T19:12:08.843Z"
   },
   {
    "duration": 332,
    "start_time": "2022-03-16T19:12:16.311Z"
   },
   {
    "duration": 325,
    "start_time": "2022-03-16T19:12:19.950Z"
   },
   {
    "duration": 322,
    "start_time": "2022-03-16T19:12:24.679Z"
   },
   {
    "duration": 484,
    "start_time": "2022-03-16T19:13:02.275Z"
   },
   {
    "duration": 499,
    "start_time": "2022-03-16T19:13:06.495Z"
   },
   {
    "duration": 481,
    "start_time": "2022-03-16T19:13:09.335Z"
   },
   {
    "duration": 57,
    "start_time": "2022-03-16T19:31:57.362Z"
   },
   {
    "duration": 74,
    "start_time": "2022-03-16T19:32:46.042Z"
   },
   {
    "duration": 65,
    "start_time": "2022-03-16T19:33:44.489Z"
   },
   {
    "duration": 623,
    "start_time": "2022-03-16T19:34:51.750Z"
   },
   {
    "duration": 137,
    "start_time": "2022-03-16T19:34:57.018Z"
   },
   {
    "duration": 34,
    "start_time": "2022-03-16T19:34:58.918Z"
   },
   {
    "duration": 733,
    "start_time": "2022-03-16T19:34:59.862Z"
   },
   {
    "duration": 62,
    "start_time": "2022-03-16T19:35:05.966Z"
   },
   {
    "duration": 60,
    "start_time": "2022-03-16T19:35:26.206Z"
   },
   {
    "duration": 61,
    "start_time": "2022-03-16T19:37:03.506Z"
   },
   {
    "duration": 13,
    "start_time": "2022-03-16T19:37:40.953Z"
   },
   {
    "duration": 133,
    "start_time": "2022-03-16T19:37:56.754Z"
   },
   {
    "duration": 31,
    "start_time": "2022-03-16T19:37:58.822Z"
   },
   {
    "duration": 727,
    "start_time": "2022-03-16T19:38:06.342Z"
   },
   {
    "duration": 56,
    "start_time": "2022-03-16T19:38:09.112Z"
   },
   {
    "duration": 12,
    "start_time": "2022-03-16T19:38:10.910Z"
   },
   {
    "duration": 11,
    "start_time": "2022-03-16T19:38:33.242Z"
   },
   {
    "duration": 24,
    "start_time": "2022-03-16T19:38:52.738Z"
   },
   {
    "duration": 17,
    "start_time": "2022-03-16T19:39:22.798Z"
   },
   {
    "duration": 7244,
    "start_time": "2022-03-16T19:41:02.338Z"
   },
   {
    "duration": 10810,
    "start_time": "2022-03-16T19:43:14.290Z"
   },
   {
    "duration": 196,
    "start_time": "2022-03-16T20:00:15.190Z"
   },
   {
    "duration": 34,
    "start_time": "2022-03-16T20:00:18.470Z"
   },
   {
    "duration": 9103,
    "start_time": "2022-03-16T20:00:21.141Z"
   },
   {
    "duration": 736,
    "start_time": "2022-03-16T20:02:54.914Z"
   },
   {
    "duration": 519,
    "start_time": "2022-03-16T20:06:33.982Z"
   },
   {
    "duration": 29,
    "start_time": "2022-03-16T20:06:40.009Z"
   },
   {
    "duration": 788,
    "start_time": "2022-03-16T20:10:12.213Z"
   },
   {
    "duration": 785,
    "start_time": "2022-03-16T20:10:29.925Z"
   },
   {
    "duration": 554,
    "start_time": "2022-03-16T20:10:36.162Z"
   },
   {
    "duration": 548,
    "start_time": "2022-03-16T20:12:56.573Z"
   },
   {
    "duration": 27,
    "start_time": "2022-03-16T20:13:00.421Z"
   },
   {
    "duration": 5241,
    "start_time": "2022-03-16T20:13:32.922Z"
   },
   {
    "duration": 132,
    "start_time": "2022-03-16T20:13:38.034Z"
   },
   {
    "duration": 5229,
    "start_time": "2022-03-16T20:13:44.577Z"
   },
   {
    "duration": 46,
    "start_time": "2022-03-16T20:13:49.763Z"
   },
   {
    "duration": 25,
    "start_time": "2022-03-16T20:14:20.957Z"
   },
   {
    "duration": 77,
    "start_time": "2022-03-16T20:15:21.401Z"
   },
   {
    "duration": 191,
    "start_time": "2022-03-16T20:15:33.721Z"
   },
   {
    "duration": 41,
    "start_time": "2022-03-16T20:15:36.046Z"
   },
   {
    "duration": 7704,
    "start_time": "2022-03-16T20:15:39.081Z"
   },
   {
    "duration": 8628,
    "start_time": "2022-03-16T20:17:23.433Z"
   },
   {
    "duration": 118,
    "start_time": "2022-03-16T20:17:38.177Z"
   },
   {
    "duration": 64,
    "start_time": "2022-03-16T20:17:46.461Z"
   },
   {
    "duration": 59,
    "start_time": "2022-03-16T20:18:41.917Z"
   },
   {
    "duration": 27,
    "start_time": "2022-03-16T20:18:51.089Z"
   },
   {
    "duration": 66,
    "start_time": "2022-03-16T20:18:55.885Z"
   },
   {
    "duration": 887,
    "start_time": "2022-03-16T20:19:02.241Z"
   },
   {
    "duration": 726,
    "start_time": "2022-03-16T20:19:04.661Z"
   },
   {
    "duration": 432,
    "start_time": "2022-03-16T20:19:06.885Z"
   },
   {
    "duration": 462,
    "start_time": "2022-03-16T20:19:08.673Z"
   },
   {
    "duration": 834,
    "start_time": "2022-03-16T20:19:10.701Z"
   },
   {
    "duration": 11,
    "start_time": "2022-03-16T20:19:13.537Z"
   },
   {
    "duration": 12,
    "start_time": "2022-03-16T20:20:18.829Z"
   },
   {
    "duration": 374,
    "start_time": "2022-03-16T20:20:33.445Z"
   },
   {
    "duration": 11,
    "start_time": "2022-03-16T20:20:39.273Z"
   },
   {
    "duration": 10,
    "start_time": "2022-03-16T20:20:42.885Z"
   },
   {
    "duration": 13,
    "start_time": "2022-03-16T20:21:09.953Z"
   },
   {
    "duration": 12,
    "start_time": "2022-03-16T20:21:17.901Z"
   },
   {
    "duration": 428,
    "start_time": "2022-03-16T20:22:15.021Z"
   },
   {
    "duration": 378,
    "start_time": "2022-03-16T20:23:19.805Z"
   },
   {
    "duration": 363,
    "start_time": "2022-03-16T20:23:42.957Z"
   },
   {
    "duration": 212,
    "start_time": "2022-03-16T20:24:53.581Z"
   },
   {
    "duration": 521,
    "start_time": "2022-03-16T20:25:39.213Z"
   },
   {
    "duration": 318,
    "start_time": "2022-03-16T20:32:33.805Z"
   },
   {
    "duration": 6885,
    "start_time": "2022-03-16T20:33:06.329Z"
   },
   {
    "duration": 8373,
    "start_time": "2022-03-16T20:47:45.062Z"
   },
   {
    "duration": 75,
    "start_time": "2022-03-16T20:49:08.621Z"
   },
   {
    "duration": 1022,
    "start_time": "2022-03-16T20:49:11.325Z"
   },
   {
    "duration": 867,
    "start_time": "2022-03-16T20:49:12.350Z"
   },
   {
    "duration": 408,
    "start_time": "2022-03-16T20:49:14.749Z"
   },
   {
    "duration": 515,
    "start_time": "2022-03-16T20:49:16.306Z"
   },
   {
    "duration": 833,
    "start_time": "2022-03-16T20:49:17.805Z"
   },
   {
    "duration": 14,
    "start_time": "2022-03-16T20:49:19.277Z"
   },
   {
    "duration": 530,
    "start_time": "2022-03-16T20:49:20.066Z"
   },
   {
    "duration": 7006,
    "start_time": "2022-03-16T20:49:22.630Z"
   },
   {
    "duration": 7277,
    "start_time": "2022-03-16T20:49:29.639Z"
   },
   {
    "duration": 378,
    "start_time": "2022-03-16T20:49:36.919Z"
   },
   {
    "duration": 321,
    "start_time": "2022-03-16T20:49:44.093Z"
   },
   {
    "duration": 305,
    "start_time": "2022-03-16T20:52:31.573Z"
   },
   {
    "duration": 354,
    "start_time": "2022-03-16T20:52:43.674Z"
   },
   {
    "duration": 569,
    "start_time": "2022-03-16T20:52:57.137Z"
   },
   {
    "duration": 43,
    "start_time": "2022-03-16T20:53:31.029Z"
   },
   {
    "duration": 393,
    "start_time": "2022-03-16T20:54:45.589Z"
   },
   {
    "duration": 53,
    "start_time": "2022-03-16T20:54:54.941Z"
   },
   {
    "duration": 62,
    "start_time": "2022-03-16T20:55:10.509Z"
   },
   {
    "duration": 413,
    "start_time": "2022-03-16T20:58:00.769Z"
   },
   {
    "duration": 402,
    "start_time": "2022-03-16T20:58:19.777Z"
   },
   {
    "duration": 45,
    "start_time": "2022-03-17T08:53:20.439Z"
   },
   {
    "duration": 489,
    "start_time": "2022-03-17T08:53:27.514Z"
   },
   {
    "duration": 18,
    "start_time": "2022-03-17T08:53:30.190Z"
   },
   {
    "duration": 36,
    "start_time": "2022-03-17T08:53:31.562Z"
   },
   {
    "duration": 46,
    "start_time": "2022-03-17T08:55:01.430Z"
   },
   {
    "duration": 8,
    "start_time": "2022-03-17T08:55:31.323Z"
   },
   {
    "duration": 45,
    "start_time": "2022-03-17T08:58:13.081Z"
   },
   {
    "duration": 86,
    "start_time": "2022-03-17T09:11:06.270Z"
   },
   {
    "duration": 4,
    "start_time": "2022-03-17T09:22:27.144Z"
   },
   {
    "duration": 599,
    "start_time": "2022-03-17T09:22:35.013Z"
   },
   {
    "duration": 175,
    "start_time": "2022-03-17T09:29:07.718Z"
   },
   {
    "duration": 214,
    "start_time": "2022-03-17T09:34:22.769Z"
   },
   {
    "duration": 159,
    "start_time": "2022-03-17T09:35:46.369Z"
   },
   {
    "duration": 165,
    "start_time": "2022-03-17T09:36:12.052Z"
   },
   {
    "duration": 11,
    "start_time": "2022-03-17T10:06:25.578Z"
   },
   {
    "duration": 6,
    "start_time": "2022-03-17T10:08:39.730Z"
   },
   {
    "duration": 189,
    "start_time": "2022-03-17T10:08:42.318Z"
   },
   {
    "duration": 6,
    "start_time": "2022-03-17T10:10:15.602Z"
   },
   {
    "duration": 188,
    "start_time": "2022-03-17T10:10:17.702Z"
   },
   {
    "duration": 177,
    "start_time": "2022-03-17T10:10:18.742Z"
   },
   {
    "duration": 6,
    "start_time": "2022-03-17T10:13:00.814Z"
   },
   {
    "duration": 6,
    "start_time": "2022-03-17T10:14:16.554Z"
   },
   {
    "duration": 42,
    "start_time": "2022-03-17T10:14:28.542Z"
   },
   {
    "duration": 12,
    "start_time": "2022-03-17T10:15:26.946Z"
   },
   {
    "duration": 7,
    "start_time": "2022-03-17T10:17:14.509Z"
   },
   {
    "duration": 6,
    "start_time": "2022-03-17T10:17:18.493Z"
   },
   {
    "duration": 6,
    "start_time": "2022-03-17T10:17:23.837Z"
   },
   {
    "duration": 10,
    "start_time": "2022-03-17T10:22:27.721Z"
   },
   {
    "duration": 7,
    "start_time": "2022-03-17T10:23:48.700Z"
   },
   {
    "duration": 6,
    "start_time": "2022-03-17T10:23:54.744Z"
   },
   {
    "duration": 6,
    "start_time": "2022-03-17T10:24:05.281Z"
   },
   {
    "duration": 6,
    "start_time": "2022-03-17T10:24:27.688Z"
   },
   {
    "duration": 6,
    "start_time": "2022-03-17T10:24:38.345Z"
   },
   {
    "duration": 17,
    "start_time": "2022-03-17T11:19:46.880Z"
   },
   {
    "duration": 18,
    "start_time": "2022-03-17T11:20:11.521Z"
   },
   {
    "duration": 298,
    "start_time": "2022-03-17T11:20:23.669Z"
   },
   {
    "duration": 18,
    "start_time": "2022-03-17T11:20:26.048Z"
   },
   {
    "duration": 4,
    "start_time": "2022-03-17T11:20:55.356Z"
   },
   {
    "duration": 9,
    "start_time": "2022-03-17T11:21:04.033Z"
   },
   {
    "duration": 6,
    "start_time": "2022-03-17T11:22:06.485Z"
   },
   {
    "duration": 7,
    "start_time": "2022-03-17T11:22:16.929Z"
   },
   {
    "duration": 6,
    "start_time": "2022-03-17T11:22:24.913Z"
   },
   {
    "duration": 6,
    "start_time": "2022-03-17T11:22:34.576Z"
   },
   {
    "duration": 6,
    "start_time": "2022-03-17T11:22:43.696Z"
   },
   {
    "duration": 14,
    "start_time": "2022-03-17T11:26:33.633Z"
   },
   {
    "duration": 28,
    "start_time": "2022-03-17T11:29:52.100Z"
   },
   {
    "duration": 19,
    "start_time": "2022-03-17T11:30:07.172Z"
   },
   {
    "duration": 13,
    "start_time": "2022-03-17T11:31:04.592Z"
   },
   {
    "duration": 30,
    "start_time": "2022-03-17T11:35:05.752Z"
   },
   {
    "duration": 124,
    "start_time": "2022-03-17T11:35:28.308Z"
   },
   {
    "duration": 128,
    "start_time": "2022-03-17T11:36:12.199Z"
   },
   {
    "duration": 160,
    "start_time": "2022-03-17T11:36:29.264Z"
   },
   {
    "duration": 126,
    "start_time": "2022-03-17T11:37:20.881Z"
   },
   {
    "duration": 132,
    "start_time": "2022-03-17T11:37:31.608Z"
   },
   {
    "duration": 3532,
    "start_time": "2022-03-17T11:37:43.485Z"
   },
   {
    "duration": 3732,
    "start_time": "2022-03-17T11:37:48.108Z"
   },
   {
    "duration": 131,
    "start_time": "2022-03-17T11:37:56.033Z"
   },
   {
    "duration": 130,
    "start_time": "2022-03-17T11:38:13.613Z"
   },
   {
    "duration": 134,
    "start_time": "2022-03-17T11:38:27.216Z"
   },
   {
    "duration": 127,
    "start_time": "2022-03-17T11:38:33.461Z"
   },
   {
    "duration": 3529,
    "start_time": "2022-03-17T11:38:59.765Z"
   },
   {
    "duration": 3872,
    "start_time": "2022-03-17T11:39:05.233Z"
   },
   {
    "duration": 3687,
    "start_time": "2022-03-17T11:39:35.497Z"
   },
   {
    "duration": 15661,
    "start_time": "2022-03-17T11:40:04.050Z"
   },
   {
    "duration": 4673,
    "start_time": "2022-03-17T11:40:41.613Z"
   },
   {
    "duration": 4993,
    "start_time": "2022-03-17T11:40:51.033Z"
   },
   {
    "duration": 3851,
    "start_time": "2022-03-17T11:41:12.817Z"
   },
   {
    "duration": 3774,
    "start_time": "2022-03-17T11:41:29.533Z"
   },
   {
    "duration": 130,
    "start_time": "2022-03-17T11:41:41.813Z"
   },
   {
    "duration": 3549,
    "start_time": "2022-03-17T11:44:26.217Z"
   },
   {
    "duration": 3602,
    "start_time": "2022-03-17T11:44:35.296Z"
   },
   {
    "duration": 197,
    "start_time": "2022-03-17T11:45:52.633Z"
   },
   {
    "duration": 48,
    "start_time": "2022-03-17T11:46:06.249Z"
   },
   {
    "duration": 117,
    "start_time": "2022-03-17T11:46:22.485Z"
   },
   {
    "duration": 3544,
    "start_time": "2022-03-17T11:46:42.012Z"
   },
   {
    "duration": 3653,
    "start_time": "2022-03-17T11:46:57.289Z"
   },
   {
    "duration": 49,
    "start_time": "2022-03-17T11:47:46.141Z"
   },
   {
    "duration": 46,
    "start_time": "2022-03-17T11:48:01.393Z"
   },
   {
    "duration": 45,
    "start_time": "2022-03-17T11:53:55.269Z"
   },
   {
    "duration": 210,
    "start_time": "2022-03-17T12:01:50.113Z"
   },
   {
    "duration": 42,
    "start_time": "2022-03-17T12:01:57.944Z"
   },
   {
    "duration": 49,
    "start_time": "2022-03-17T12:07:53.854Z"
   },
   {
    "duration": 606,
    "start_time": "2022-03-17T12:08:27.355Z"
   },
   {
    "duration": 141,
    "start_time": "2022-03-17T12:10:17.989Z"
   },
   {
    "duration": 136,
    "start_time": "2022-03-17T12:10:44.030Z"
   },
   {
    "duration": 149,
    "start_time": "2022-03-17T12:11:01.582Z"
   },
   {
    "duration": 193,
    "start_time": "2022-03-17T12:12:15.952Z"
   },
   {
    "duration": 137,
    "start_time": "2022-03-17T12:12:29.522Z"
   },
   {
    "duration": 105,
    "start_time": "2022-03-17T13:07:00.245Z"
   },
   {
    "duration": 200,
    "start_time": "2022-03-17T13:07:35.301Z"
   },
   {
    "duration": 51,
    "start_time": "2022-03-17T13:08:44.452Z"
   },
   {
    "duration": 45,
    "start_time": "2022-03-17T13:09:24.037Z"
   },
   {
    "duration": 6,
    "start_time": "2022-03-17T13:09:35.605Z"
   },
   {
    "duration": 25,
    "start_time": "2022-03-17T13:10:40.996Z"
   },
   {
    "duration": 24,
    "start_time": "2022-03-17T13:11:23.176Z"
   },
   {
    "duration": 25,
    "start_time": "2022-03-17T13:11:51.984Z"
   },
   {
    "duration": 26,
    "start_time": "2022-03-17T13:12:15.624Z"
   },
   {
    "duration": 1014,
    "start_time": "2022-03-17T13:12:55.888Z"
   },
   {
    "duration": 193,
    "start_time": "2022-03-17T13:17:38.386Z"
   },
   {
    "duration": 202,
    "start_time": "2022-03-17T13:17:53.822Z"
   },
   {
    "duration": 188,
    "start_time": "2022-03-17T13:18:19.387Z"
   },
   {
    "duration": 3698,
    "start_time": "2022-03-17T13:18:31.267Z"
   },
   {
    "duration": 3701,
    "start_time": "2022-03-17T13:18:40.174Z"
   },
   {
    "duration": 3574,
    "start_time": "2022-03-17T13:19:35.566Z"
   },
   {
    "duration": 3650,
    "start_time": "2022-03-17T13:19:59.246Z"
   },
   {
    "duration": 35,
    "start_time": "2022-03-17T13:20:15.038Z"
   },
   {
    "duration": 26,
    "start_time": "2022-03-17T13:21:13.270Z"
   },
   {
    "duration": 32,
    "start_time": "2022-03-17T13:22:05.909Z"
   },
   {
    "duration": 3686,
    "start_time": "2022-03-17T13:22:44.610Z"
   },
   {
    "duration": 3402,
    "start_time": "2022-03-17T13:22:57.977Z"
   },
   {
    "duration": 4417,
    "start_time": "2022-03-17T13:23:18.609Z"
   },
   {
    "duration": 30,
    "start_time": "2022-03-17T13:24:14.249Z"
   },
   {
    "duration": 26,
    "start_time": "2022-03-17T13:24:22.521Z"
   },
   {
    "duration": 25,
    "start_time": "2022-03-17T13:25:19.641Z"
   },
   {
    "duration": 28,
    "start_time": "2022-03-17T13:25:24.317Z"
   },
   {
    "duration": 5,
    "start_time": "2022-03-17T13:27:38.032Z"
   },
   {
    "duration": 5,
    "start_time": "2022-03-17T13:28:03.552Z"
   },
   {
    "duration": 127,
    "start_time": "2022-03-17T13:29:20.503Z"
   },
   {
    "duration": 186,
    "start_time": "2022-03-17T13:30:05.691Z"
   },
   {
    "duration": 117,
    "start_time": "2022-03-17T13:31:15.742Z"
   },
   {
    "duration": 145,
    "start_time": "2022-03-17T13:34:01.301Z"
   },
   {
    "duration": 131,
    "start_time": "2022-03-17T13:35:17.304Z"
   },
   {
    "duration": 281,
    "start_time": "2022-03-17T13:36:26.517Z"
   },
   {
    "duration": 278,
    "start_time": "2022-03-17T13:38:09.776Z"
   },
   {
    "duration": 7,
    "start_time": "2022-03-17T13:40:43.760Z"
   },
   {
    "duration": 141,
    "start_time": "2022-03-17T13:41:10.640Z"
   },
   {
    "duration": 145,
    "start_time": "2022-03-17T13:41:16.836Z"
   },
   {
    "duration": 29,
    "start_time": "2022-03-17T13:42:09.196Z"
   },
   {
    "duration": 136,
    "start_time": "2022-03-17T13:43:38.691Z"
   },
   {
    "duration": 34,
    "start_time": "2022-03-17T13:44:08.315Z"
   },
   {
    "duration": 19,
    "start_time": "2022-03-17T13:45:29.927Z"
   },
   {
    "duration": 38,
    "start_time": "2022-03-17T13:45:37.179Z"
   },
   {
    "duration": 10,
    "start_time": "2022-03-17T13:45:38.707Z"
   },
   {
    "duration": 48,
    "start_time": "2022-03-17T13:45:44.011Z"
   },
   {
    "duration": 261,
    "start_time": "2022-03-17T13:45:50.834Z"
   },
   {
    "duration": 424,
    "start_time": "2022-03-17T13:45:55.250Z"
   },
   {
    "duration": 152,
    "start_time": "2022-03-17T13:45:58.291Z"
   },
   {
    "duration": 1666,
    "start_time": "2022-03-17T13:50:45.418Z"
   },
   {
    "duration": 1706,
    "start_time": "2022-03-17T13:53:23.341Z"
   },
   {
    "duration": 141,
    "start_time": "2022-03-17T14:02:49.994Z"
   },
   {
    "duration": 38,
    "start_time": "2022-03-17T14:02:53.695Z"
   },
   {
    "duration": 7,
    "start_time": "2022-03-17T14:02:58.959Z"
   },
   {
    "duration": 1705,
    "start_time": "2022-03-17T14:03:03.346Z"
   },
   {
    "duration": 6,
    "start_time": "2022-03-17T14:03:44.494Z"
   }
  ],
  "kernelspec": {
   "display_name": "Python 3 (ipykernel)",
   "language": "python",
   "name": "python3"
  },
  "language_info": {
   "codemirror_mode": {
    "name": "ipython",
    "version": 3
   },
   "file_extension": ".py",
   "mimetype": "text/x-python",
   "name": "python",
   "nbconvert_exporter": "python",
   "pygments_lexer": "ipython3",
   "version": "3.9.7"
  },
  "toc": {
   "base_numbering": 1,
   "nav_menu": {},
   "number_sections": true,
   "sideBar": true,
   "skip_h1_title": true,
   "title_cell": "Содержание",
   "title_sidebar": "Contents",
   "toc_cell": true,
   "toc_position": {
    "height": "calc(100% - 180px)",
    "left": "10px",
    "top": "150px",
    "width": "494.396px"
   },
   "toc_section_display": true,
   "toc_window_display": false
  }
 },
 "nbformat": 4,
 "nbformat_minor": 4
}

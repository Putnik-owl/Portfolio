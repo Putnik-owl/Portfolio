{
 "cells": [
  {
   "cell_type": "markdown",
   "metadata": {},
   "source": [
    "# Выбор локации для скважины"
   ]
  },
  {
   "cell_type": "code",
   "execution_count": 1,
   "metadata": {},
   "outputs": [],
   "source": [
    "import warnings\n",
    "warnings.filterwarnings(\"ignore\") \n",
    "import numpy as np \n",
    "import pandas as pd \n",
    "import scipy.stats\n",
    "\n",
    "from sklearn.model_selection import train_test_split \n",
    "\n",
    "import math \n",
    "from sklearn.linear_model import LinearRegression  \n",
    "from sklearn.metrics import mean_squared_error \n",
    "from numpy.random import RandomState "
   ]
  },
  {
   "cell_type": "code",
   "execution_count": 2,
   "metadata": {},
   "outputs": [
    {
     "name": "stdout",
     "output_type": "stream",
     "text": [
      "<class 'pandas.core.frame.DataFrame'>\n",
      "RangeIndex: 100000 entries, 0 to 99999\n",
      "Data columns (total 5 columns):\n",
      " #   Column   Non-Null Count   Dtype  \n",
      "---  ------   --------------   -----  \n",
      " 0   id       100000 non-null  object \n",
      " 1   f0       100000 non-null  float64\n",
      " 2   f1       100000 non-null  float64\n",
      " 3   f2       100000 non-null  float64\n",
      " 4   product  100000 non-null  float64\n",
      "dtypes: float64(4), object(1)\n",
      "memory usage: 3.8+ MB\n"
     ]
    },
    {
     "data": {
      "text/html": [
       "<div>\n",
       "<style scoped>\n",
       "    .dataframe tbody tr th:only-of-type {\n",
       "        vertical-align: middle;\n",
       "    }\n",
       "\n",
       "    .dataframe tbody tr th {\n",
       "        vertical-align: top;\n",
       "    }\n",
       "\n",
       "    .dataframe thead th {\n",
       "        text-align: right;\n",
       "    }\n",
       "</style>\n",
       "<table border=\"1\" class=\"dataframe\">\n",
       "  <thead>\n",
       "    <tr style=\"text-align: right;\">\n",
       "      <th></th>\n",
       "      <th>id</th>\n",
       "      <th>f0</th>\n",
       "      <th>f1</th>\n",
       "      <th>f2</th>\n",
       "      <th>product</th>\n",
       "    </tr>\n",
       "  </thead>\n",
       "  <tbody>\n",
       "    <tr>\n",
       "      <th>0</th>\n",
       "      <td>txEyH</td>\n",
       "      <td>0.705745</td>\n",
       "      <td>-0.497823</td>\n",
       "      <td>1.221170</td>\n",
       "      <td>105.280062</td>\n",
       "    </tr>\n",
       "    <tr>\n",
       "      <th>1</th>\n",
       "      <td>2acmU</td>\n",
       "      <td>1.334711</td>\n",
       "      <td>-0.340164</td>\n",
       "      <td>4.365080</td>\n",
       "      <td>73.037750</td>\n",
       "    </tr>\n",
       "    <tr>\n",
       "      <th>2</th>\n",
       "      <td>409Wp</td>\n",
       "      <td>1.022732</td>\n",
       "      <td>0.151990</td>\n",
       "      <td>1.419926</td>\n",
       "      <td>85.265647</td>\n",
       "    </tr>\n",
       "    <tr>\n",
       "      <th>3</th>\n",
       "      <td>iJLyR</td>\n",
       "      <td>-0.032172</td>\n",
       "      <td>0.139033</td>\n",
       "      <td>2.978566</td>\n",
       "      <td>168.620776</td>\n",
       "    </tr>\n",
       "    <tr>\n",
       "      <th>4</th>\n",
       "      <td>Xdl7t</td>\n",
       "      <td>1.988431</td>\n",
       "      <td>0.155413</td>\n",
       "      <td>4.751769</td>\n",
       "      <td>154.036647</td>\n",
       "    </tr>\n",
       "    <tr>\n",
       "      <th>5</th>\n",
       "      <td>wX4Hy</td>\n",
       "      <td>0.969570</td>\n",
       "      <td>0.489775</td>\n",
       "      <td>-0.735383</td>\n",
       "      <td>64.741541</td>\n",
       "    </tr>\n",
       "    <tr>\n",
       "      <th>6</th>\n",
       "      <td>tL6pL</td>\n",
       "      <td>0.645075</td>\n",
       "      <td>0.530656</td>\n",
       "      <td>1.780266</td>\n",
       "      <td>49.055285</td>\n",
       "    </tr>\n",
       "    <tr>\n",
       "      <th>7</th>\n",
       "      <td>BYPU6</td>\n",
       "      <td>-0.400648</td>\n",
       "      <td>0.808337</td>\n",
       "      <td>-5.624670</td>\n",
       "      <td>72.943292</td>\n",
       "    </tr>\n",
       "    <tr>\n",
       "      <th>8</th>\n",
       "      <td>j9Oui</td>\n",
       "      <td>0.643105</td>\n",
       "      <td>-0.551583</td>\n",
       "      <td>2.372141</td>\n",
       "      <td>113.356160</td>\n",
       "    </tr>\n",
       "    <tr>\n",
       "      <th>9</th>\n",
       "      <td>OLuZU</td>\n",
       "      <td>2.173381</td>\n",
       "      <td>0.563698</td>\n",
       "      <td>9.441852</td>\n",
       "      <td>127.910945</td>\n",
       "    </tr>\n",
       "  </tbody>\n",
       "</table>\n",
       "</div>"
      ],
      "text/plain": [
       "      id        f0        f1        f2     product\n",
       "0  txEyH  0.705745 -0.497823  1.221170  105.280062\n",
       "1  2acmU  1.334711 -0.340164  4.365080   73.037750\n",
       "2  409Wp  1.022732  0.151990  1.419926   85.265647\n",
       "3  iJLyR -0.032172  0.139033  2.978566  168.620776\n",
       "4  Xdl7t  1.988431  0.155413  4.751769  154.036647\n",
       "5  wX4Hy  0.969570  0.489775 -0.735383   64.741541\n",
       "6  tL6pL  0.645075  0.530656  1.780266   49.055285\n",
       "7  BYPU6 -0.400648  0.808337 -5.624670   72.943292\n",
       "8  j9Oui  0.643105 -0.551583  2.372141  113.356160\n",
       "9  OLuZU  2.173381  0.563698  9.441852  127.910945"
      ]
     },
     "metadata": {},
     "output_type": "display_data"
    }
   ],
   "source": [
    "df_0=pd.read_csv('/datasets/geo_data_0.csv') \n",
    "df_0.info()\n",
    "display(df_0.head(10))"
   ]
  },
  {
   "cell_type": "code",
   "execution_count": 3,
   "metadata": {},
   "outputs": [
    {
     "name": "stdout",
     "output_type": "stream",
     "text": [
      "Доля пропусков в столбце ,%:\n",
      "id         0.0\n",
      "f0         0.0\n",
      "f1         0.0\n",
      "f2         0.0\n",
      "product    0.0\n",
      "dtype: float64\n",
      "Дубликатов =  0\n"
     ]
    }
   ],
   "source": [
    "print('Доля пропусков в столбце ,%:') \n",
    "rezul=df_0.isna().mean() * 100\n",
    "print(rezul)\n",
    "print('Дубликатов = ',df_0.duplicated().sum()) "
   ]
  },
  {
   "cell_type": "code",
   "execution_count": 4,
   "metadata": {},
   "outputs": [
    {
     "name": "stdout",
     "output_type": "stream",
     "text": [
      "<class 'pandas.core.frame.DataFrame'>\n",
      "RangeIndex: 100000 entries, 0 to 99999\n",
      "Data columns (total 5 columns):\n",
      " #   Column   Non-Null Count   Dtype  \n",
      "---  ------   --------------   -----  \n",
      " 0   id       100000 non-null  object \n",
      " 1   f0       100000 non-null  float64\n",
      " 2   f1       100000 non-null  float64\n",
      " 3   f2       100000 non-null  float64\n",
      " 4   product  100000 non-null  float64\n",
      "dtypes: float64(4), object(1)\n",
      "memory usage: 3.8+ MB\n"
     ]
    },
    {
     "data": {
      "text/html": [
       "<div>\n",
       "<style scoped>\n",
       "    .dataframe tbody tr th:only-of-type {\n",
       "        vertical-align: middle;\n",
       "    }\n",
       "\n",
       "    .dataframe tbody tr th {\n",
       "        vertical-align: top;\n",
       "    }\n",
       "\n",
       "    .dataframe thead th {\n",
       "        text-align: right;\n",
       "    }\n",
       "</style>\n",
       "<table border=\"1\" class=\"dataframe\">\n",
       "  <thead>\n",
       "    <tr style=\"text-align: right;\">\n",
       "      <th></th>\n",
       "      <th>id</th>\n",
       "      <th>f0</th>\n",
       "      <th>f1</th>\n",
       "      <th>f2</th>\n",
       "      <th>product</th>\n",
       "    </tr>\n",
       "  </thead>\n",
       "  <tbody>\n",
       "    <tr>\n",
       "      <th>0</th>\n",
       "      <td>kBEdx</td>\n",
       "      <td>-15.001348</td>\n",
       "      <td>-8.276000</td>\n",
       "      <td>-0.005876</td>\n",
       "      <td>3.179103</td>\n",
       "    </tr>\n",
       "    <tr>\n",
       "      <th>1</th>\n",
       "      <td>62mP7</td>\n",
       "      <td>14.272088</td>\n",
       "      <td>-3.475083</td>\n",
       "      <td>0.999183</td>\n",
       "      <td>26.953261</td>\n",
       "    </tr>\n",
       "    <tr>\n",
       "      <th>2</th>\n",
       "      <td>vyE1P</td>\n",
       "      <td>6.263187</td>\n",
       "      <td>-5.948386</td>\n",
       "      <td>5.001160</td>\n",
       "      <td>134.766305</td>\n",
       "    </tr>\n",
       "    <tr>\n",
       "      <th>3</th>\n",
       "      <td>KcrkZ</td>\n",
       "      <td>-13.081196</td>\n",
       "      <td>-11.506057</td>\n",
       "      <td>4.999415</td>\n",
       "      <td>137.945408</td>\n",
       "    </tr>\n",
       "    <tr>\n",
       "      <th>4</th>\n",
       "      <td>AHL4O</td>\n",
       "      <td>12.702195</td>\n",
       "      <td>-8.147433</td>\n",
       "      <td>5.004363</td>\n",
       "      <td>134.766305</td>\n",
       "    </tr>\n",
       "    <tr>\n",
       "      <th>5</th>\n",
       "      <td>HHckp</td>\n",
       "      <td>-3.327590</td>\n",
       "      <td>-2.205276</td>\n",
       "      <td>3.003647</td>\n",
       "      <td>84.038886</td>\n",
       "    </tr>\n",
       "    <tr>\n",
       "      <th>6</th>\n",
       "      <td>h5Ujo</td>\n",
       "      <td>-11.142655</td>\n",
       "      <td>-10.133399</td>\n",
       "      <td>4.002382</td>\n",
       "      <td>110.992147</td>\n",
       "    </tr>\n",
       "    <tr>\n",
       "      <th>7</th>\n",
       "      <td>muH9x</td>\n",
       "      <td>4.234715</td>\n",
       "      <td>-0.001354</td>\n",
       "      <td>2.004588</td>\n",
       "      <td>53.906522</td>\n",
       "    </tr>\n",
       "    <tr>\n",
       "      <th>8</th>\n",
       "      <td>YiRkx</td>\n",
       "      <td>13.355129</td>\n",
       "      <td>-0.332068</td>\n",
       "      <td>4.998647</td>\n",
       "      <td>134.766305</td>\n",
       "    </tr>\n",
       "    <tr>\n",
       "      <th>9</th>\n",
       "      <td>jG6Gi</td>\n",
       "      <td>1.069227</td>\n",
       "      <td>-11.025667</td>\n",
       "      <td>4.997844</td>\n",
       "      <td>137.945408</td>\n",
       "    </tr>\n",
       "  </tbody>\n",
       "</table>\n",
       "</div>"
      ],
      "text/plain": [
       "      id         f0         f1        f2     product\n",
       "0  kBEdx -15.001348  -8.276000 -0.005876    3.179103\n",
       "1  62mP7  14.272088  -3.475083  0.999183   26.953261\n",
       "2  vyE1P   6.263187  -5.948386  5.001160  134.766305\n",
       "3  KcrkZ -13.081196 -11.506057  4.999415  137.945408\n",
       "4  AHL4O  12.702195  -8.147433  5.004363  134.766305\n",
       "5  HHckp  -3.327590  -2.205276  3.003647   84.038886\n",
       "6  h5Ujo -11.142655 -10.133399  4.002382  110.992147\n",
       "7  muH9x   4.234715  -0.001354  2.004588   53.906522\n",
       "8  YiRkx  13.355129  -0.332068  4.998647  134.766305\n",
       "9  jG6Gi   1.069227 -11.025667  4.997844  137.945408"
      ]
     },
     "metadata": {},
     "output_type": "display_data"
    }
   ],
   "source": [
    "df_1=pd.read_csv('/datasets/geo_data_1.csv') \n",
    "df_1.info()\n",
    "display(df_1.head(10))\n"
   ]
  },
  {
   "cell_type": "code",
   "execution_count": 5,
   "metadata": {},
   "outputs": [
    {
     "name": "stdout",
     "output_type": "stream",
     "text": [
      "Доля пропусков в столбце ,%:\n",
      "id         0.0\n",
      "f0         0.0\n",
      "f1         0.0\n",
      "f2         0.0\n",
      "product    0.0\n",
      "dtype: float64\n",
      "Дубликатов =  0\n"
     ]
    }
   ],
   "source": [
    "print('Доля пропусков в столбце ,%:') \n",
    "rezul=df_1.isna().mean() * 100\n",
    "print(rezul)\n",
    "print('Дубликатов = ',df_1.duplicated().sum()) "
   ]
  },
  {
   "cell_type": "code",
   "execution_count": 6,
   "metadata": {},
   "outputs": [
    {
     "name": "stdout",
     "output_type": "stream",
     "text": [
      "<class 'pandas.core.frame.DataFrame'>\n",
      "RangeIndex: 100000 entries, 0 to 99999\n",
      "Data columns (total 5 columns):\n",
      " #   Column   Non-Null Count   Dtype  \n",
      "---  ------   --------------   -----  \n",
      " 0   id       100000 non-null  object \n",
      " 1   f0       100000 non-null  float64\n",
      " 2   f1       100000 non-null  float64\n",
      " 3   f2       100000 non-null  float64\n",
      " 4   product  100000 non-null  float64\n",
      "dtypes: float64(4), object(1)\n",
      "memory usage: 3.8+ MB\n"
     ]
    },
    {
     "data": {
      "text/html": [
       "<div>\n",
       "<style scoped>\n",
       "    .dataframe tbody tr th:only-of-type {\n",
       "        vertical-align: middle;\n",
       "    }\n",
       "\n",
       "    .dataframe tbody tr th {\n",
       "        vertical-align: top;\n",
       "    }\n",
       "\n",
       "    .dataframe thead th {\n",
       "        text-align: right;\n",
       "    }\n",
       "</style>\n",
       "<table border=\"1\" class=\"dataframe\">\n",
       "  <thead>\n",
       "    <tr style=\"text-align: right;\">\n",
       "      <th></th>\n",
       "      <th>id</th>\n",
       "      <th>f0</th>\n",
       "      <th>f1</th>\n",
       "      <th>f2</th>\n",
       "      <th>product</th>\n",
       "    </tr>\n",
       "  </thead>\n",
       "  <tbody>\n",
       "    <tr>\n",
       "      <th>0</th>\n",
       "      <td>fwXo0</td>\n",
       "      <td>-1.146987</td>\n",
       "      <td>0.963328</td>\n",
       "      <td>-0.828965</td>\n",
       "      <td>27.758673</td>\n",
       "    </tr>\n",
       "    <tr>\n",
       "      <th>1</th>\n",
       "      <td>WJtFt</td>\n",
       "      <td>0.262778</td>\n",
       "      <td>0.269839</td>\n",
       "      <td>-2.530187</td>\n",
       "      <td>56.069697</td>\n",
       "    </tr>\n",
       "    <tr>\n",
       "      <th>2</th>\n",
       "      <td>ovLUW</td>\n",
       "      <td>0.194587</td>\n",
       "      <td>0.289035</td>\n",
       "      <td>-5.586433</td>\n",
       "      <td>62.871910</td>\n",
       "    </tr>\n",
       "    <tr>\n",
       "      <th>3</th>\n",
       "      <td>q6cA6</td>\n",
       "      <td>2.236060</td>\n",
       "      <td>-0.553760</td>\n",
       "      <td>0.930038</td>\n",
       "      <td>114.572842</td>\n",
       "    </tr>\n",
       "    <tr>\n",
       "      <th>4</th>\n",
       "      <td>WPMUX</td>\n",
       "      <td>-0.515993</td>\n",
       "      <td>1.716266</td>\n",
       "      <td>5.899011</td>\n",
       "      <td>149.600746</td>\n",
       "    </tr>\n",
       "    <tr>\n",
       "      <th>5</th>\n",
       "      <td>LzZXx</td>\n",
       "      <td>-0.758092</td>\n",
       "      <td>0.710691</td>\n",
       "      <td>2.585887</td>\n",
       "      <td>90.222465</td>\n",
       "    </tr>\n",
       "    <tr>\n",
       "      <th>6</th>\n",
       "      <td>WBHRv</td>\n",
       "      <td>-0.574891</td>\n",
       "      <td>0.317727</td>\n",
       "      <td>1.773745</td>\n",
       "      <td>45.641478</td>\n",
       "    </tr>\n",
       "    <tr>\n",
       "      <th>7</th>\n",
       "      <td>XO8fn</td>\n",
       "      <td>-1.906649</td>\n",
       "      <td>-2.458350</td>\n",
       "      <td>-0.177097</td>\n",
       "      <td>72.480640</td>\n",
       "    </tr>\n",
       "    <tr>\n",
       "      <th>8</th>\n",
       "      <td>ybmQ5</td>\n",
       "      <td>1.776292</td>\n",
       "      <td>-0.279356</td>\n",
       "      <td>3.004156</td>\n",
       "      <td>106.616832</td>\n",
       "    </tr>\n",
       "    <tr>\n",
       "      <th>9</th>\n",
       "      <td>OilcN</td>\n",
       "      <td>-1.214452</td>\n",
       "      <td>-0.439314</td>\n",
       "      <td>5.922514</td>\n",
       "      <td>52.954532</td>\n",
       "    </tr>\n",
       "  </tbody>\n",
       "</table>\n",
       "</div>"
      ],
      "text/plain": [
       "      id        f0        f1        f2     product\n",
       "0  fwXo0 -1.146987  0.963328 -0.828965   27.758673\n",
       "1  WJtFt  0.262778  0.269839 -2.530187   56.069697\n",
       "2  ovLUW  0.194587  0.289035 -5.586433   62.871910\n",
       "3  q6cA6  2.236060 -0.553760  0.930038  114.572842\n",
       "4  WPMUX -0.515993  1.716266  5.899011  149.600746\n",
       "5  LzZXx -0.758092  0.710691  2.585887   90.222465\n",
       "6  WBHRv -0.574891  0.317727  1.773745   45.641478\n",
       "7  XO8fn -1.906649 -2.458350 -0.177097   72.480640\n",
       "8  ybmQ5  1.776292 -0.279356  3.004156  106.616832\n",
       "9  OilcN -1.214452 -0.439314  5.922514   52.954532"
      ]
     },
     "metadata": {},
     "output_type": "display_data"
    }
   ],
   "source": [
    "df_2=pd.read_csv('/datasets/geo_data_2.csv') \n",
    "df_2.info()\n",
    "display(df_2.head(10))"
   ]
  },
  {
   "cell_type": "code",
   "execution_count": 7,
   "metadata": {},
   "outputs": [
    {
     "name": "stdout",
     "output_type": "stream",
     "text": [
      "Доля пропусков в столбце ,%:\n",
      "id         0.0\n",
      "f0         0.0\n",
      "f1         0.0\n",
      "f2         0.0\n",
      "product    0.0\n",
      "dtype: float64\n",
      "Дубликатов =  0\n"
     ]
    }
   ],
   "source": [
    "print('Доля пропусков в столбце ,%:') \n",
    "rezul=df_2.isna().mean() * 100\n",
    "print(rezul)\n",
    "print('Дубликатов = ',df_2.duplicated().sum()) "
   ]
  },
  {
   "cell_type": "code",
   "execution_count": 8,
   "metadata": {},
   "outputs": [],
   "source": [
    "df_0 = df_0.drop(['id'], axis=1) \n",
    "df_1 = df_1.drop(['id'], axis=1) \n",
    "df_2 = df_2.drop(['id'], axis=1) "
   ]
  },
  {
   "cell_type": "markdown",
   "metadata": {},
   "source": [
    "## Обучение и проверка модели"
   ]
  },
  {
   "cell_type": "code",
   "execution_count": 9,
   "metadata": {},
   "outputs": [],
   "source": [
    "features_0 =df_0.drop(['product',], axis=1) \n",
    "target_0 =df_0['product']  \n",
    "target_0 = pd.Series(target_0) \n",
    "\n",
    "features_1 =df_1.drop(['product',], axis=1) \n",
    "target_1 =df_1['product']  \n",
    "target_1 = pd.Series(target_1) \n",
    "\n",
    "features_2 =df_2.drop(['product',], axis=1) \n",
    "target_2 =df_2['product']  \n",
    "target_2 = pd.Series(target_2) \n",
    "\n",
    "# разделяем на выборку для обучения и тестирования, 25% данных для валидации (теста)\n",
    "features_train_0, features_valid_0, target_train_0, target_valid_0 = train_test_split(features_0, target_0, test_size=0.25, random_state=2504)\n",
    "features_train_1, features_valid_1, target_train_1, target_valid_1 = train_test_split(features_1, target_1, test_size=0.25, random_state=2504)\n",
    "features_train_2, features_valid_2, target_train_2, target_valid_2 = train_test_split(features_2, target_2, test_size=0.25, random_state=2504)"
   ]
  },
  {
   "cell_type": "code",
   "execution_count": 10,
   "metadata": {},
   "outputs": [
    {
     "name": "stdout",
     "output_type": "stream",
     "text": [
      "Средний запас сырья в регионе 0 = 92.5536068080489\n",
      "RMSE = 37.68797312271404\n"
     ]
    }
   ],
   "source": [
    "model_0 = LinearRegression() \n",
    "model_0.fit(features_train_0, target_train_0) \n",
    "predictions_0 = model_0.predict(features_valid_0)\n",
    "result_0=math.sqrt(mean_squared_error( target_valid_0, predictions_0,squared=True)) \n",
    "print('Средний запас сырья в регионе 0 =', predictions_0.mean())\n",
    "print('RMSE =', result_0) "
   ]
  },
  {
   "cell_type": "code",
   "execution_count": 11,
   "metadata": {},
   "outputs": [
    {
     "name": "stdout",
     "output_type": "stream",
     "text": [
      "Средний запас сырья в регионе 1 = 69.22428166460364\n",
      "RMSE = 0.8963537624826772\n"
     ]
    }
   ],
   "source": [
    "model_1 = LinearRegression() \n",
    "model_1.fit(features_train_1, target_train_1) \n",
    "predictions_1 = model_1.predict(features_valid_1)\n",
    "result_1 =math.sqrt(mean_squared_error(target_valid_1, predictions_1,squared=True)) \n",
    "print('Средний запас сырья в регионе 1 =', predictions_1.mean())\n",
    "print('RMSE =', result_1) "
   ]
  },
  {
   "cell_type": "code",
   "execution_count": 12,
   "metadata": {},
   "outputs": [
    {
     "name": "stdout",
     "output_type": "stream",
     "text": [
      "Средний запас сырья в регионе 2 = 94.94685045023044\n",
      "RMSE 39.86197791046957\n"
     ]
    }
   ],
   "source": [
    "model_2  = LinearRegression() \n",
    "model_2.fit(features_train_2, target_train_2) \n",
    "predictions_2 = model_2.predict(features_valid_2)\n",
    "result_2 =math.sqrt(mean_squared_error(target_valid_2, predictions_2,squared=True))\n",
    "print('Средний запас сырья в регионе 2 =', predictions_2.mean())\n",
    "print('RMSE', result_2) "
   ]
  },
  {
   "cell_type": "markdown",
   "metadata": {},
   "source": [
    "**Вывод**\n",
    "Наименьшая ошибка предсказания получилась для региона 1, но в данном регионе наименьшее количество запасов нефти. Наибольшее количество запасов в регионах 0 и 2, но ошибка предсказания значительно больше. Для выбора региона необходимо оценить прибыль и риски."
   ]
  },
  {
   "cell_type": "markdown",
   "metadata": {},
   "source": [
    "## Подготовка к расчёту прибыли"
   ]
  },
  {
   "cell_type": "markdown",
   "metadata": {},
   "source": [
    "Достаточный объём сырья для безубыточной разработки новой скважины"
   ]
  },
  {
   "cell_type": "code",
   "execution_count": 13,
   "metadata": {},
   "outputs": [
    {
     "name": "stdout",
     "output_type": "stream",
     "text": [
      "Минимальный объем месторождений в регионе 111.11111111111111\n"
     ]
    }
   ],
   "source": [
    "TOTAL_MANY=pow(10,10) \n",
    "PRICE_OIL=4.5*pow(10,5) \n",
    "BOREHOLE=200 \n",
    "Q=TOTAL_MANY/(PRICE_OIL*BOREHOLE) \n",
    "print('Минимальный объем месторождений в регионе', Q)"
   ]
  },
  {
   "cell_type": "markdown",
   "metadata": {},
   "source": [
    "**Вывод**\n",
    "Во всех регионах среднее значение объемов нефти меньше минимального значения для окупаемовсти, но необходимо рассмотреть и выбрать 200 месторождений со значением выше 111 тыс. барелей."
   ]
  },
  {
   "cell_type": "markdown",
   "metadata": {},
   "source": [
    "## Расчёт прибыли и рисков "
   ]
  },
  {
   "cell_type": "code",
   "execution_count": 14,
   "metadata": {},
   "outputs": [],
   "source": [
    "# Функция расчета дохада от предсказаний и по геологоразведке\n",
    "def Out_many (Q , features, target, model_pr):  \n",
    "    summa_df=0\n",
    "    summa_predict=0 \n",
    "    spisok_skvagin=[]\n",
    "    \n",
    "    data_pr = model_pr.predict(features)\n",
    "    data_pr=pd.Series(data_pr) \n",
    "    data_pr_f=data_pr.sort_values(ascending=False) \n",
    "    data_pr_f= data_pr_f[0:BOREHOLE] \n",
    "    summa_predict= data_pr_f.sum()*PRICE_OIL \n",
    "\n",
    "    spisok_skvagin=target[data_pr_f.index] \n",
    "    summa_df=spisok_skvagin.sum()*PRICE_OIL   \n",
    "    \n",
    "    return  summa_predict, summa_df,data_pr"
   ]
  },
  {
   "cell_type": "markdown",
   "metadata": {},
   "source": [
    "### Доход и прибиль в регионе 0"
   ]
  },
  {
   "cell_type": "code",
   "execution_count": 15,
   "metadata": {},
   "outputs": [
    {
     "name": "stdout",
     "output_type": "stream",
     "text": [
      "Регион 0\n",
      "Доход с наилучших 200 скважин по предсказанию модели 14.69 млрд. руб.\n",
      "Доход с тех же 200 скважин, по результатам геологоразведки 13.49 млрд. руб.\n",
      "Прибль с тех же 200 скважин 1.198 млрд. руб.\n",
      "Разница предсказания модели по отношекнию к геологоразведке составляет 8.88 %\n"
     ]
    }
   ],
   "source": [
    "many_predict, many_df,data_pedict_0=Out_many(Q,features_0,target_0,model_0)\n",
    "print('Регион 0')\n",
    "print(f'Доход с наилучших 200 скважин по предсказанию модели {many_predict/pow(10,9):.4} млрд. руб.')\n",
    "print(f'Доход с тех же 200 скважин, по результатам геологоразведки {many_df/pow(10,9):.4} млрд. руб.')\n",
    "print(f'Прибль с тех же 200 скважин {(many_predict-many_df)/pow(10,9):.4} млрд. руб.')\n",
    "print(f'Разница предсказания модели по отношекнию к геологоразведке составляет {abs((many_predict-many_df)/many_df)*100:.3} %')"
   ]
  },
  {
   "cell_type": "markdown",
   "metadata": {},
   "source": [
    "### Доход и прибиль в регионе 1"
   ]
  },
  {
   "cell_type": "code",
   "execution_count": 16,
   "metadata": {},
   "outputs": [
    {
     "name": "stdout",
     "output_type": "stream",
     "text": [
      "Регион 1\n",
      "Доход с наилучших 200 скважин по предсказанию модели 12.52 млрд. руб.\n",
      "Доход с тех же 200 скважин, по результатам геологоразведки 12.42 млрд. руб.\n",
      "Прибль с тех же 200 скважин  0.1092 млрд. руб.\n",
      "Разница предсказания модели по отношекнию к геологоразведке составляет  0.88 %\n"
     ]
    }
   ],
   "source": [
    "many_predict,many_df,data_pedict_1=Out_many(Q,features_1,target_1,model_1)\n",
    "print('Регион 1')\n",
    "print(f'Доход с наилучших 200 скважин по предсказанию модели {many_predict/pow(10,9):.4} млрд. руб.')\n",
    "print(f'Доход с тех же 200 скважин, по результатам геологоразведки {many_df/pow(10,9):.4} млрд. руб.')\n",
    "print(f'Прибль с тех же 200 скважин  {(many_predict-many_df)/pow(10,9):.4} млрд. руб.')\n",
    "print(f'Разница предсказания модели по отношекнию к геологоразведке составляет  {abs((many_predict-many_df)/many_df)*100:.3} %')"
   ]
  },
  {
   "cell_type": "markdown",
   "metadata": {},
   "source": [
    "### Доход и прибиль в регионе 2"
   ]
  },
  {
   "cell_type": "code",
   "execution_count": 17,
   "metadata": {},
   "outputs": [
    {
     "name": "stdout",
     "output_type": "stream",
     "text": [
      "Регион 2\n",
      "Доход с наилучших 200 скважин по предсказанию модели 14.09 млрд. руб.\n",
      "Доход с тех же 200 скважин, по результатам геологоразведки 12.62 млрд. руб.\n",
      "Прибль с тех же 200 скважин 1.4710423460156155:.4 млрд. руб.\n",
      "Разница предсказания модели по отношекнию к геологоразведке составляет 11.7 %\n"
     ]
    }
   ],
   "source": [
    "many_predict,many_df,data_pedict_2=Out_many(Q,features_2,target_2,model_2)\n",
    "print('Регион 2')\n",
    "print(f'Доход с наилучших 200 скважин по предсказанию модели {many_predict/pow(10,9):.4} млрд. руб.')\n",
    "print(f'Доход с тех же 200 скважин, по результатам геологоразведки {many_df/pow(10,9):.4} млрд. руб.')\n",
    "print(f'Прибль с тех же 200 скважин {(many_predict-many_df)/pow(10,9)}:.4 млрд. руб.')\n",
    "print(f'Разница предсказания модели по отношекнию к геологоразведке составляет {abs((many_predict-many_df)/many_df)*100:.3} %')"
   ]
  },
  {
   "cell_type": "markdown",
   "metadata": {},
   "source": [
    "### Процедура *Bootstrap*"
   ]
  },
  {
   "cell_type": "code",
   "execution_count": 18,
   "metadata": {},
   "outputs": [],
   "source": [
    "\n",
    "def revenue(target, predictions, wells):\n",
    "    predictions_sorted = predictions.sort_values(ascending=False)\n",
    "    selected = target[predictions_sorted.index][:wells].sum() \n",
    "    return (selected*PRICE_OIL -TOTAL_MANY)"
   ]
  },
  {
   "cell_type": "markdown",
   "metadata": {},
   "source": [
    "#### Регион 0"
   ]
  },
  {
   "cell_type": "code",
   "execution_count": 33,
   "metadata": {},
   "outputs": [],
   "source": [
    "# функиция посчнта параметров для анализа региона\n",
    "def score (target,data_pedict,number): \n",
    "    state = np.random.RandomState(2504)\n",
    "    values = []\n",
    "    coun_positiv=0\n",
    "    bootstrap_samples = 1000\n",
    "    for i in range(bootstrap_samples):\n",
    "        target_sub_sample = target.sample(n=500, random_state=state,replace=True)\n",
    "        predict_sub_sample=data_pedict[target_sub_sample.index] \n",
    "        profit = revenue(target_sub_sample, predict_sub_sample, 200)/pow(10,9)\n",
    "        if profit>0:\n",
    "            coun_positiv+=1\n",
    "        values.append(profit) \n",
    "    values = pd.Series(values)\n",
    "    lower =values.quantile(0.025)\n",
    "    upper =values.quantile(0.975)\n",
    "    print('Для региона',number)\n",
    "    print('Средняя прибль',values.mean(),'млрд руб')\n",
    "    print(f'95%-ый доверительный интервал {lower:.4} , {upper:.4} млрд руб')\n",
    "    print('Вероятность убытков',(1-(coun_positiv/len(values)))*100,'%')"
   ]
  },
  {
   "cell_type": "code",
   "execution_count": 34,
   "metadata": {},
   "outputs": [
    {
     "name": "stdout",
     "output_type": "stream",
     "text": [
      "Для региона 0\n",
      "Средняя прибль 0.428507952928524 млрд руб\n",
      "95%-ый доверительный интервал -0.08182 , 0.9331 млрд руб\n",
      "Вероятность убытков 5.200000000000005 %\n"
     ]
    }
   ],
   "source": [
    "score(target_0,data_pedict_0,0)"
   ]
  },
  {
   "cell_type": "markdown",
   "metadata": {},
   "source": [
    "#### Регион 1"
   ]
  },
  {
   "cell_type": "code",
   "execution_count": 35,
   "metadata": {},
   "outputs": [
    {
     "name": "stdout",
     "output_type": "stream",
     "text": [
      "Для региона 1\n",
      "Средняя прибль 0.46812449998383326 млрд руб\n",
      "95%-ый доверительный интервал 0.07034 , 0.9086 млрд руб\n",
      "Вероятность убытков 1.100000000000001 %\n"
     ]
    }
   ],
   "source": [
    "score(target_1,data_pedict_1,1)"
   ]
  },
  {
   "cell_type": "markdown",
   "metadata": {},
   "source": [
    "#### Регион 2"
   ]
  },
  {
   "cell_type": "code",
   "execution_count": 36,
   "metadata": {},
   "outputs": [
    {
     "name": "stdout",
     "output_type": "stream",
     "text": [
      "Для региона 2\n",
      "Средняя прибль 0.3725070551973921 млрд руб\n",
      "95%-ый доверительный интервал -0.1808 , 0.8471 млрд руб\n",
      "Вероятность убытков 8.099999999999996 %\n"
     ]
    }
   ],
   "source": [
    "score(target_2,data_pedict_2,2)"
   ]
  },
  {
   "cell_type": "markdown",
   "metadata": {},
   "source": [
    "## **Вывод**\n",
    "По полученным результатам видно, что вероятность убытков меньше всего в регионе 1. В регионах 0 и 2 вероятность убытков значительно выше. Так же в регионе 1 модель предсказания имеет наименьшую ошибку. Стоит обратить внимание, что в регионах 0 и 2 потенциальная прибль выше, но так же значительно выше риски."
   ]
  }
 ],
 "metadata": {
  "ExecuteTimeLog": [
   {
    "duration": 1658,
    "start_time": "2022-05-24T19:27:17.554Z"
   },
   {
    "duration": 873,
    "start_time": "2022-05-24T19:27:19.650Z"
   },
   {
    "duration": 325,
    "start_time": "2022-05-24T19:27:20.525Z"
   },
   {
    "duration": 399,
    "start_time": "2022-05-24T19:27:20.852Z"
   },
   {
    "duration": 378,
    "start_time": "2022-05-24T19:57:28.691Z"
   },
   {
    "duration": 18,
    "start_time": "2022-05-24T19:57:57.189Z"
   },
   {
    "duration": 21,
    "start_time": "2022-05-24T19:58:06.391Z"
   },
   {
    "duration": 4,
    "start_time": "2022-05-24T20:29:10.323Z"
   },
   {
    "duration": 4,
    "start_time": "2022-05-24T20:30:32.159Z"
   },
   {
    "duration": 79,
    "start_time": "2022-05-25T19:39:15.033Z"
   },
   {
    "duration": 1241,
    "start_time": "2022-05-25T19:39:20.108Z"
   },
   {
    "duration": 948,
    "start_time": "2022-05-25T19:39:21.350Z"
   },
   {
    "duration": 13,
    "start_time": "2022-05-25T19:39:22.299Z"
   },
   {
    "duration": 664,
    "start_time": "2022-05-25T19:39:22.314Z"
   },
   {
    "duration": 9,
    "start_time": "2022-05-25T19:39:22.980Z"
   },
   {
    "duration": 625,
    "start_time": "2022-05-25T19:39:22.990Z"
   },
   {
    "duration": 12,
    "start_time": "2022-05-25T19:39:23.617Z"
   },
   {
    "duration": 22,
    "start_time": "2022-05-25T19:39:23.631Z"
   },
   {
    "duration": 6,
    "start_time": "2022-05-25T20:02:36.387Z"
   },
   {
    "duration": 67,
    "start_time": "2022-05-25T20:02:39.392Z"
   },
   {
    "duration": 6,
    "start_time": "2022-05-25T20:02:44.449Z"
   },
   {
    "duration": 162,
    "start_time": "2022-05-25T20:02:44.804Z"
   },
   {
    "duration": 13,
    "start_time": "2022-05-25T20:02:45.096Z"
   },
   {
    "duration": 147,
    "start_time": "2022-05-25T20:02:45.404Z"
   },
   {
    "duration": 14,
    "start_time": "2022-05-25T20:02:45.683Z"
   },
   {
    "duration": 167,
    "start_time": "2022-05-25T20:02:45.962Z"
   },
   {
    "duration": 19,
    "start_time": "2022-05-25T20:02:46.250Z"
   },
   {
    "duration": 18,
    "start_time": "2022-05-25T20:02:46.548Z"
   },
   {
    "duration": 50,
    "start_time": "2022-05-25T20:02:48.221Z"
   },
   {
    "duration": 34,
    "start_time": "2022-05-25T20:02:49.978Z"
   },
   {
    "duration": 45,
    "start_time": "2022-05-25T20:04:30.987Z"
   },
   {
    "duration": 43,
    "start_time": "2022-05-25T20:04:43.054Z"
   },
   {
    "duration": 21,
    "start_time": "2022-05-25T20:04:44.556Z"
   },
   {
    "duration": 39,
    "start_time": "2022-05-25T20:06:15.885Z"
   },
   {
    "duration": 32,
    "start_time": "2022-05-25T20:06:21.177Z"
   },
   {
    "duration": 18,
    "start_time": "2022-05-25T20:06:23.028Z"
   },
   {
    "duration": 13,
    "start_time": "2022-05-25T20:07:03.475Z"
   },
   {
    "duration": 12,
    "start_time": "2022-05-25T20:08:46.845Z"
   },
   {
    "duration": 20,
    "start_time": "2022-05-25T20:10:22.612Z"
   },
   {
    "duration": 19,
    "start_time": "2022-05-25T20:12:12.579Z"
   },
   {
    "duration": 42,
    "start_time": "2022-05-25T20:18:27.791Z"
   },
   {
    "duration": 214,
    "start_time": "2022-05-25T20:18:48.047Z"
   },
   {
    "duration": 201,
    "start_time": "2022-05-25T20:18:54.242Z"
   },
   {
    "duration": 156,
    "start_time": "2022-05-25T20:19:14.294Z"
   },
   {
    "duration": 163,
    "start_time": "2022-05-25T20:19:21.918Z"
   },
   {
    "duration": 189,
    "start_time": "2022-05-25T20:20:08.554Z"
   },
   {
    "duration": 157,
    "start_time": "2022-05-25T20:20:28.573Z"
   },
   {
    "duration": 47,
    "start_time": "2022-05-25T20:20:30.282Z"
   },
   {
    "duration": 40,
    "start_time": "2022-05-25T20:20:39.229Z"
   },
   {
    "duration": 4,
    "start_time": "2022-05-25T20:27:45.273Z"
   },
   {
    "duration": 160,
    "start_time": "2022-05-25T20:27:45.624Z"
   },
   {
    "duration": 48,
    "start_time": "2022-05-25T20:27:45.912Z"
   },
   {
    "duration": 151,
    "start_time": "2022-05-25T20:27:46.256Z"
   },
   {
    "duration": 50,
    "start_time": "2022-05-25T20:27:46.520Z"
   },
   {
    "duration": 169,
    "start_time": "2022-05-25T20:27:46.800Z"
   },
   {
    "duration": 58,
    "start_time": "2022-05-25T20:27:47.119Z"
   },
   {
    "duration": 15,
    "start_time": "2022-05-25T20:27:47.472Z"
   },
   {
    "duration": 29,
    "start_time": "2022-05-25T20:27:48.177Z"
   },
   {
    "duration": 12,
    "start_time": "2022-05-25T20:27:49.915Z"
   },
   {
    "duration": 10,
    "start_time": "2022-05-25T20:28:04.374Z"
   },
   {
    "duration": 4,
    "start_time": "2022-05-25T20:28:11.944Z"
   },
   {
    "duration": 157,
    "start_time": "2022-05-25T20:28:12.156Z"
   },
   {
    "duration": 53,
    "start_time": "2022-05-25T20:28:12.339Z"
   },
   {
    "duration": 157,
    "start_time": "2022-05-25T20:28:12.540Z"
   },
   {
    "duration": 48,
    "start_time": "2022-05-25T20:28:12.736Z"
   },
   {
    "duration": 150,
    "start_time": "2022-05-25T20:28:12.924Z"
   },
   {
    "duration": 47,
    "start_time": "2022-05-25T20:28:13.104Z"
   },
   {
    "duration": 16,
    "start_time": "2022-05-25T20:28:13.289Z"
   },
   {
    "duration": 29,
    "start_time": "2022-05-25T20:28:13.700Z"
   },
   {
    "duration": 10,
    "start_time": "2022-05-25T20:28:13.892Z"
   },
   {
    "duration": 10,
    "start_time": "2022-05-25T20:28:25.216Z"
   },
   {
    "duration": 14,
    "start_time": "2022-05-25T20:28:44.360Z"
   },
   {
    "duration": 57,
    "start_time": "2022-05-25T20:28:50.276Z"
   },
   {
    "duration": 9,
    "start_time": "2022-05-25T20:28:55.744Z"
   },
   {
    "duration": 15,
    "start_time": "2022-05-25T20:29:00.396Z"
   },
   {
    "duration": 21,
    "start_time": "2022-05-25T20:29:09.379Z"
   },
   {
    "duration": 4,
    "start_time": "2022-05-25T20:30:18.907Z"
   },
   {
    "duration": 43,
    "start_time": "2022-05-25T20:30:22.833Z"
   },
   {
    "duration": 87,
    "start_time": "2022-05-25T20:30:23.777Z"
   },
   {
    "duration": 3,
    "start_time": "2022-05-25T20:31:15.703Z"
   },
   {
    "duration": 30,
    "start_time": "2022-05-25T20:31:18.877Z"
   },
   {
    "duration": 59,
    "start_time": "2022-05-25T20:31:19.203Z"
   },
   {
    "duration": 16,
    "start_time": "2022-05-25T20:31:52.399Z"
   },
   {
    "duration": 13,
    "start_time": "2022-05-25T20:32:22.895Z"
   },
   {
    "duration": 13,
    "start_time": "2022-05-25T20:32:27.431Z"
   },
   {
    "duration": 66,
    "start_time": "2022-05-25T20:39:30.738Z"
   },
   {
    "duration": 4,
    "start_time": "2022-05-25T20:41:11.229Z"
   },
   {
    "duration": 3,
    "start_time": "2022-05-25T20:41:57.274Z"
   },
   {
    "duration": 3,
    "start_time": "2022-05-25T20:42:03.557Z"
   },
   {
    "duration": 3,
    "start_time": "2022-05-25T20:44:46.333Z"
   },
   {
    "duration": 3,
    "start_time": "2022-05-25T20:44:50.041Z"
   },
   {
    "duration": 3,
    "start_time": "2022-05-25T20:44:54.141Z"
   },
   {
    "duration": 3,
    "start_time": "2022-05-25T20:45:41.433Z"
   },
   {
    "duration": 4,
    "start_time": "2022-05-25T20:46:00.970Z"
   },
   {
    "duration": 3,
    "start_time": "2022-05-25T20:53:37.740Z"
   },
   {
    "duration": 55,
    "start_time": "2022-05-28T13:14:41.291Z"
   },
   {
    "duration": 1078,
    "start_time": "2022-05-28T13:14:46.131Z"
   },
   {
    "duration": 600,
    "start_time": "2022-05-28T13:14:47.211Z"
   },
   {
    "duration": 52,
    "start_time": "2022-05-28T13:14:47.813Z"
   },
   {
    "duration": 618,
    "start_time": "2022-05-28T13:14:47.878Z"
   },
   {
    "duration": 44,
    "start_time": "2022-05-28T13:14:48.498Z"
   },
   {
    "duration": 627,
    "start_time": "2022-05-28T13:14:48.544Z"
   },
   {
    "duration": 60,
    "start_time": "2022-05-28T13:14:49.172Z"
   },
   {
    "duration": 15,
    "start_time": "2022-05-28T13:14:49.234Z"
   },
   {
    "duration": 60,
    "start_time": "2022-05-28T13:14:49.251Z"
   },
   {
    "duration": 16,
    "start_time": "2022-05-28T13:14:49.313Z"
   },
   {
    "duration": 67,
    "start_time": "2022-05-28T13:14:49.331Z"
   },
   {
    "duration": 120,
    "start_time": "2022-05-28T13:14:49.476Z"
   },
   {
    "duration": 96,
    "start_time": "2022-05-28T13:14:56.191Z"
   },
   {
    "duration": 26,
    "start_time": "2022-05-28T13:15:17.344Z"
   },
   {
    "duration": 3,
    "start_time": "2022-05-28T13:17:59.139Z"
   },
   {
    "duration": 4,
    "start_time": "2022-05-28T13:18:01.612Z"
   },
   {
    "duration": 455,
    "start_time": "2022-05-28T13:18:16.975Z"
   },
   {
    "duration": 586,
    "start_time": "2022-05-28T13:18:37.775Z"
   },
   {
    "duration": 8,
    "start_time": "2022-05-28T13:23:02.055Z"
   },
   {
    "duration": 10,
    "start_time": "2022-05-28T13:23:15.484Z"
   },
   {
    "duration": 6,
    "start_time": "2022-05-28T13:24:51.010Z"
   },
   {
    "duration": 41,
    "start_time": "2022-05-28T13:26:52.984Z"
   },
   {
    "duration": 32,
    "start_time": "2022-05-28T13:26:58.959Z"
   },
   {
    "duration": 10,
    "start_time": "2022-05-28T13:27:57.435Z"
   },
   {
    "duration": 15,
    "start_time": "2022-05-28T13:28:11.263Z"
   },
   {
    "duration": 69,
    "start_time": "2022-05-28T13:31:32.010Z"
   },
   {
    "duration": 10,
    "start_time": "2022-05-28T13:31:48.174Z"
   },
   {
    "duration": 105,
    "start_time": "2022-05-28T13:33:00.970Z"
   },
   {
    "duration": 20,
    "start_time": "2022-05-28T13:33:12.830Z"
   },
   {
    "duration": 74,
    "start_time": "2022-05-28T13:34:24.206Z"
   },
   {
    "duration": 17,
    "start_time": "2022-05-28T13:34:29.857Z"
   },
   {
    "duration": 61,
    "start_time": "2022-05-28T13:37:41.829Z"
   },
   {
    "duration": 95,
    "start_time": "2022-05-28T13:38:05.486Z"
   },
   {
    "duration": 19,
    "start_time": "2022-05-28T13:38:12.257Z"
   },
   {
    "duration": 90,
    "start_time": "2022-05-28T13:38:22.486Z"
   },
   {
    "duration": 88,
    "start_time": "2022-05-28T13:38:32.790Z"
   },
   {
    "duration": 35,
    "start_time": "2022-05-28T13:38:37.315Z"
   },
   {
    "duration": 17,
    "start_time": "2022-05-28T13:38:39.937Z"
   },
   {
    "duration": 90,
    "start_time": "2022-05-28T13:38:48.193Z"
   },
   {
    "duration": 20,
    "start_time": "2022-05-28T13:39:25.229Z"
   },
   {
    "duration": 64,
    "start_time": "2022-05-28T13:39:34.420Z"
   },
   {
    "duration": 19,
    "start_time": "2022-05-28T13:39:38.896Z"
   },
   {
    "duration": 31,
    "start_time": "2022-05-28T13:39:41.829Z"
   },
   {
    "duration": 16,
    "start_time": "2022-05-28T13:39:44.386Z"
   },
   {
    "duration": 71,
    "start_time": "2022-05-28T13:39:50.309Z"
   },
   {
    "duration": 92,
    "start_time": "2022-05-28T13:41:40.796Z"
   },
   {
    "duration": 36,
    "start_time": "2022-05-28T13:41:45.362Z"
   },
   {
    "duration": 56,
    "start_time": "2022-05-28T13:41:59.540Z"
   },
   {
    "duration": 38,
    "start_time": "2022-05-28T13:42:09.448Z"
   },
   {
    "duration": 33,
    "start_time": "2022-05-28T13:42:59.781Z"
   },
   {
    "duration": 197,
    "start_time": "2022-05-28T13:43:13.488Z"
   },
   {
    "duration": 137,
    "start_time": "2022-05-28T13:43:48.240Z"
   },
   {
    "duration": 102,
    "start_time": "2022-05-28T13:44:24.496Z"
   },
   {
    "duration": 32,
    "start_time": "2022-05-28T13:45:29.856Z"
   },
   {
    "duration": 82,
    "start_time": "2022-05-28T13:45:41.904Z"
   },
   {
    "duration": 25,
    "start_time": "2022-05-28T13:49:57.995Z"
   },
   {
    "duration": 53,
    "start_time": "2022-05-28T13:50:06.087Z"
   },
   {
    "duration": 27,
    "start_time": "2022-05-28T13:50:21.584Z"
   },
   {
    "duration": 34,
    "start_time": "2022-05-28T13:50:42.391Z"
   },
   {
    "duration": 122,
    "start_time": "2022-05-28T13:51:15.755Z"
   },
   {
    "duration": 118,
    "start_time": "2022-05-28T13:51:24.471Z"
   },
   {
    "duration": 160,
    "start_time": "2022-05-28T13:53:12.016Z"
   },
   {
    "duration": 85,
    "start_time": "2022-05-28T13:53:20.299Z"
   },
   {
    "duration": 183,
    "start_time": "2022-05-28T13:53:59.795Z"
   },
   {
    "duration": 63,
    "start_time": "2022-05-28T13:54:33.023Z"
   },
   {
    "duration": 124,
    "start_time": "2022-05-28T13:55:20.163Z"
   },
   {
    "duration": 34,
    "start_time": "2022-05-28T14:02:38.651Z"
   },
   {
    "duration": 200,
    "start_time": "2022-05-28T14:02:46.879Z"
   },
   {
    "duration": 63,
    "start_time": "2022-05-28T14:05:27.717Z"
   },
   {
    "duration": 195,
    "start_time": "2022-05-28T14:05:38.786Z"
   },
   {
    "duration": 169,
    "start_time": "2022-05-28T14:06:14.114Z"
   },
   {
    "duration": 144,
    "start_time": "2022-05-28T14:06:44.341Z"
   },
   {
    "duration": 99,
    "start_time": "2022-05-28T14:13:35.600Z"
   },
   {
    "duration": 83,
    "start_time": "2022-05-28T14:15:23.795Z"
   },
   {
    "duration": 39,
    "start_time": "2022-05-28T14:18:20.343Z"
   },
   {
    "duration": 179,
    "start_time": "2022-05-28T14:20:40.201Z"
   },
   {
    "duration": 18,
    "start_time": "2022-05-28T14:21:51.114Z"
   },
   {
    "duration": 25,
    "start_time": "2022-05-28T14:22:03.651Z"
   },
   {
    "duration": 53,
    "start_time": "2022-05-28T14:22:22.731Z"
   },
   {
    "duration": 9,
    "start_time": "2022-05-28T14:23:19.770Z"
   },
   {
    "duration": 16,
    "start_time": "2022-05-28T14:23:21.602Z"
   },
   {
    "duration": 18,
    "start_time": "2022-05-28T14:23:33.718Z"
   },
   {
    "duration": 16,
    "start_time": "2022-05-28T14:23:42.402Z"
   },
   {
    "duration": 17,
    "start_time": "2022-05-28T14:24:36.690Z"
   },
   {
    "duration": 18,
    "start_time": "2022-05-28T14:24:45.450Z"
   },
   {
    "duration": 22,
    "start_time": "2022-05-28T14:24:55.662Z"
   },
   {
    "duration": 17,
    "start_time": "2022-05-28T14:24:56.038Z"
   },
   {
    "duration": 18,
    "start_time": "2022-05-28T14:24:56.402Z"
   },
   {
    "duration": 3,
    "start_time": "2022-05-28T14:36:49.217Z"
   },
   {
    "duration": 6,
    "start_time": "2022-05-28T14:36:50.729Z"
   },
   {
    "duration": 37,
    "start_time": "2022-05-28T14:48:03.643Z"
   },
   {
    "duration": 23,
    "start_time": "2022-05-28T14:48:15.848Z"
   },
   {
    "duration": 19,
    "start_time": "2022-05-28T14:49:10.451Z"
   },
   {
    "duration": 19,
    "start_time": "2022-05-28T14:49:11.099Z"
   },
   {
    "duration": 19,
    "start_time": "2022-05-28T14:49:11.590Z"
   },
   {
    "duration": 23,
    "start_time": "2022-05-28T15:01:37.966Z"
   },
   {
    "duration": 29,
    "start_time": "2022-05-28T15:08:16.430Z"
   },
   {
    "duration": 37,
    "start_time": "2022-05-28T15:09:21.814Z"
   },
   {
    "duration": 36,
    "start_time": "2022-05-28T15:10:57.513Z"
   },
   {
    "duration": 188,
    "start_time": "2022-05-28T15:11:19.205Z"
   },
   {
    "duration": 152,
    "start_time": "2022-05-28T15:14:48.454Z"
   },
   {
    "duration": 8,
    "start_time": "2022-05-28T15:15:05.751Z"
   },
   {
    "duration": 120,
    "start_time": "2022-05-28T15:15:06.675Z"
   },
   {
    "duration": 81,
    "start_time": "2022-05-28T15:16:16.511Z"
   },
   {
    "duration": 56,
    "start_time": "2022-05-28T15:16:28.359Z"
   },
   {
    "duration": 128,
    "start_time": "2022-05-28T15:19:08.766Z"
   },
   {
    "duration": 31,
    "start_time": "2022-05-28T15:19:16.657Z"
   },
   {
    "duration": 123,
    "start_time": "2022-05-28T15:19:22.461Z"
   },
   {
    "duration": 181,
    "start_time": "2022-05-28T15:19:57.101Z"
   },
   {
    "duration": 198,
    "start_time": "2022-05-28T15:20:13.578Z"
   },
   {
    "duration": 39,
    "start_time": "2022-05-28T15:24:27.060Z"
   },
   {
    "duration": 84,
    "start_time": "2022-05-28T15:24:39.995Z"
   },
   {
    "duration": 29,
    "start_time": "2022-05-28T15:24:58.546Z"
   },
   {
    "duration": 33,
    "start_time": "2022-05-28T15:25:27.025Z"
   },
   {
    "duration": 26,
    "start_time": "2022-05-28T15:25:29.313Z"
   },
   {
    "duration": 29,
    "start_time": "2022-05-28T15:25:39.285Z"
   },
   {
    "duration": 24,
    "start_time": "2022-05-28T15:25:51.362Z"
   },
   {
    "duration": 51,
    "start_time": "2022-05-28T15:25:58.960Z"
   },
   {
    "duration": 93,
    "start_time": "2022-05-28T15:26:11.398Z"
   },
   {
    "duration": 17,
    "start_time": "2022-05-28T15:26:23.758Z"
   },
   {
    "duration": 5,
    "start_time": "2022-05-28T15:26:32.659Z"
   },
   {
    "duration": 25,
    "start_time": "2022-05-28T15:26:36.563Z"
   },
   {
    "duration": 581,
    "start_time": "2022-05-28T15:28:43.953Z"
   },
   {
    "duration": 91,
    "start_time": "2022-05-28T15:31:17.789Z"
   },
   {
    "duration": 28,
    "start_time": "2022-05-28T15:32:41.761Z"
   },
   {
    "duration": 19,
    "start_time": "2022-05-28T15:32:52.049Z"
   },
   {
    "duration": 799,
    "start_time": "2022-05-28T15:33:06.123Z"
   },
   {
    "duration": 234,
    "start_time": "2022-05-28T15:33:06.924Z"
   },
   {
    "duration": 78,
    "start_time": "2022-05-28T15:33:07.159Z"
   },
   {
    "duration": 163,
    "start_time": "2022-05-28T15:33:07.239Z"
   },
   {
    "duration": 46,
    "start_time": "2022-05-28T15:33:07.403Z"
   },
   {
    "duration": 152,
    "start_time": "2022-05-28T15:33:07.450Z"
   },
   {
    "duration": 59,
    "start_time": "2022-05-28T15:33:07.604Z"
   },
   {
    "duration": 27,
    "start_time": "2022-05-28T15:33:07.665Z"
   },
   {
    "duration": 43,
    "start_time": "2022-05-28T15:33:07.694Z"
   },
   {
    "duration": 45,
    "start_time": "2022-05-28T15:33:07.740Z"
   },
   {
    "duration": 107,
    "start_time": "2022-05-28T15:33:07.792Z"
   },
   {
    "duration": 119,
    "start_time": "2022-05-28T15:33:07.977Z"
   },
   {
    "duration": 81,
    "start_time": "2022-05-28T15:33:08.098Z"
   },
   {
    "duration": 111,
    "start_time": "2022-05-28T15:33:08.181Z"
   },
   {
    "duration": 272,
    "start_time": "2022-05-28T15:33:08.293Z"
   },
   {
    "duration": 0,
    "start_time": "2022-05-28T15:33:08.566Z"
   },
   {
    "duration": 0,
    "start_time": "2022-05-28T15:33:08.568Z"
   },
   {
    "duration": 0,
    "start_time": "2022-05-28T15:33:08.578Z"
   },
   {
    "duration": 0,
    "start_time": "2022-05-28T15:33:08.579Z"
   },
   {
    "duration": 85,
    "start_time": "2022-05-28T15:33:27.195Z"
   },
   {
    "duration": 5,
    "start_time": "2022-05-28T15:34:07.915Z"
   },
   {
    "duration": 186,
    "start_time": "2022-05-28T15:34:09.093Z"
   },
   {
    "duration": 51,
    "start_time": "2022-05-28T15:34:20.248Z"
   },
   {
    "duration": 168,
    "start_time": "2022-05-28T15:34:40.810Z"
   },
   {
    "duration": 141,
    "start_time": "2022-05-28T15:34:55.050Z"
   },
   {
    "duration": 147,
    "start_time": "2022-05-28T15:34:59.553Z"
   },
   {
    "duration": 45,
    "start_time": "2022-05-28T15:37:27.855Z"
   },
   {
    "duration": 41,
    "start_time": "2022-05-28T15:37:28.546Z"
   },
   {
    "duration": 63,
    "start_time": "2022-05-28T15:37:28.927Z"
   },
   {
    "duration": 90,
    "start_time": "2022-05-28T15:38:54.006Z"
   },
   {
    "duration": 167,
    "start_time": "2022-05-28T15:38:57.614Z"
   },
   {
    "duration": 125,
    "start_time": "2022-05-28T15:39:06.657Z"
   },
   {
    "duration": 93,
    "start_time": "2022-05-28T15:39:08.299Z"
   },
   {
    "duration": 139,
    "start_time": "2022-05-28T15:39:08.561Z"
   },
   {
    "duration": 47,
    "start_time": "2022-05-28T15:47:54.893Z"
   },
   {
    "duration": 29,
    "start_time": "2022-05-28T15:48:03.195Z"
   },
   {
    "duration": 9,
    "start_time": "2022-05-28T15:48:14.785Z"
   },
   {
    "duration": 208,
    "start_time": "2022-05-28T15:48:57.972Z"
   },
   {
    "duration": 7,
    "start_time": "2022-05-28T15:49:26.313Z"
   },
   {
    "duration": 80,
    "start_time": "2022-05-28T15:49:27.215Z"
   },
   {
    "duration": 58,
    "start_time": "2022-05-28T15:49:31.825Z"
   },
   {
    "duration": 122,
    "start_time": "2022-05-28T15:49:58.193Z"
   },
   {
    "duration": 88,
    "start_time": "2022-05-28T15:50:00.919Z"
   },
   {
    "duration": 10,
    "start_time": "2022-05-28T15:51:28.331Z"
   },
   {
    "duration": 15,
    "start_time": "2022-05-28T15:51:43.520Z"
   },
   {
    "duration": 180,
    "start_time": "2022-05-28T15:51:50.106Z"
   },
   {
    "duration": 5,
    "start_time": "2022-05-28T16:02:57.432Z"
   },
   {
    "duration": 180,
    "start_time": "2022-05-28T16:02:58.608Z"
   },
   {
    "duration": 196,
    "start_time": "2022-05-28T16:03:07.782Z"
   },
   {
    "duration": 10,
    "start_time": "2022-05-28T16:03:40.185Z"
   },
   {
    "duration": 90,
    "start_time": "2022-05-28T16:03:41.085Z"
   },
   {
    "duration": 6,
    "start_time": "2022-05-28T16:03:50.688Z"
   },
   {
    "duration": 56,
    "start_time": "2022-05-28T16:03:52.436Z"
   },
   {
    "duration": 5,
    "start_time": "2022-05-28T16:05:23.924Z"
   },
   {
    "duration": 9,
    "start_time": "2022-05-28T16:05:49.470Z"
   },
   {
    "duration": 94,
    "start_time": "2022-05-28T16:05:50.300Z"
   },
   {
    "duration": 7,
    "start_time": "2022-05-28T16:06:01.606Z"
   },
   {
    "duration": 204,
    "start_time": "2022-05-28T16:06:02.692Z"
   },
   {
    "duration": 199,
    "start_time": "2022-05-28T16:06:14.500Z"
   },
   {
    "duration": 149,
    "start_time": "2022-05-28T16:06:17.164Z"
   },
   {
    "duration": 15,
    "start_time": "2022-05-28T16:06:29.062Z"
   },
   {
    "duration": 171,
    "start_time": "2022-05-28T16:06:45.163Z"
   },
   {
    "duration": 218,
    "start_time": "2022-05-28T16:06:52.066Z"
   },
   {
    "duration": 6,
    "start_time": "2022-05-28T16:07:04.729Z"
   },
   {
    "duration": 198,
    "start_time": "2022-05-28T16:07:05.396Z"
   },
   {
    "duration": 8,
    "start_time": "2022-05-28T16:07:17.101Z"
   },
   {
    "duration": 164,
    "start_time": "2022-05-28T16:07:17.928Z"
   },
   {
    "duration": 18,
    "start_time": "2022-05-28T16:07:32.303Z"
   },
   {
    "duration": 203,
    "start_time": "2022-05-28T16:07:38.997Z"
   },
   {
    "duration": 14,
    "start_time": "2022-05-28T16:09:59.972Z"
   },
   {
    "duration": 12,
    "start_time": "2022-05-28T16:10:05.293Z"
   },
   {
    "duration": 143,
    "start_time": "2022-05-28T16:10:05.863Z"
   },
   {
    "duration": 194,
    "start_time": "2022-05-28T16:10:12.503Z"
   },
   {
    "duration": 4,
    "start_time": "2022-05-28T16:10:17.856Z"
   },
   {
    "duration": 183,
    "start_time": "2022-05-28T16:10:18.209Z"
   },
   {
    "duration": 888,
    "start_time": "2022-05-28T16:10:42.321Z"
   },
   {
    "duration": 229,
    "start_time": "2022-05-28T16:10:43.215Z"
   },
   {
    "duration": 66,
    "start_time": "2022-05-28T16:10:43.445Z"
   },
   {
    "duration": 140,
    "start_time": "2022-05-28T16:10:43.513Z"
   },
   {
    "duration": 58,
    "start_time": "2022-05-28T16:10:43.654Z"
   },
   {
    "duration": 140,
    "start_time": "2022-05-28T16:10:43.713Z"
   },
   {
    "duration": 71,
    "start_time": "2022-05-28T16:10:43.855Z"
   },
   {
    "duration": 15,
    "start_time": "2022-05-28T16:10:43.927Z"
   },
   {
    "duration": 61,
    "start_time": "2022-05-28T16:10:43.944Z"
   },
   {
    "duration": 78,
    "start_time": "2022-05-28T16:10:44.009Z"
   },
   {
    "duration": 121,
    "start_time": "2022-05-28T16:10:44.089Z"
   },
   {
    "duration": 171,
    "start_time": "2022-05-28T16:10:44.213Z"
   },
   {
    "duration": 115,
    "start_time": "2022-05-28T16:10:44.393Z"
   },
   {
    "duration": 7,
    "start_time": "2022-05-28T16:10:44.510Z"
   },
   {
    "duration": 282,
    "start_time": "2022-05-28T16:10:44.518Z"
   },
   {
    "duration": 0,
    "start_time": "2022-05-28T16:10:44.802Z"
   },
   {
    "duration": 0,
    "start_time": "2022-05-28T16:10:44.803Z"
   },
   {
    "duration": 0,
    "start_time": "2022-05-28T16:10:44.804Z"
   },
   {
    "duration": 0,
    "start_time": "2022-05-28T16:10:44.809Z"
   },
   {
    "duration": 0,
    "start_time": "2022-05-28T16:10:44.811Z"
   },
   {
    "duration": 5,
    "start_time": "2022-05-28T16:14:50.826Z"
   },
   {
    "duration": 185,
    "start_time": "2022-05-28T16:14:52.315Z"
   },
   {
    "duration": 158,
    "start_time": "2022-05-28T16:15:12.974Z"
   },
   {
    "duration": 179,
    "start_time": "2022-05-28T16:15:59.169Z"
   },
   {
    "duration": 4,
    "start_time": "2022-05-28T16:20:44.661Z"
   },
   {
    "duration": 187,
    "start_time": "2022-05-28T16:20:44.903Z"
   },
   {
    "duration": 49,
    "start_time": "2022-05-28T16:20:45.122Z"
   },
   {
    "duration": 163,
    "start_time": "2022-05-28T16:20:45.363Z"
   },
   {
    "duration": 46,
    "start_time": "2022-05-28T16:20:45.611Z"
   },
   {
    "duration": 155,
    "start_time": "2022-05-28T16:20:45.880Z"
   },
   {
    "duration": 71,
    "start_time": "2022-05-28T16:20:46.115Z"
   },
   {
    "duration": 16,
    "start_time": "2022-05-28T16:20:46.396Z"
   },
   {
    "duration": 35,
    "start_time": "2022-05-28T16:20:46.923Z"
   },
   {
    "duration": 94,
    "start_time": "2022-05-28T16:20:47.188Z"
   },
   {
    "duration": 27,
    "start_time": "2022-05-28T16:20:47.469Z"
   },
   {
    "duration": 14,
    "start_time": "2022-05-28T16:20:47.735Z"
   },
   {
    "duration": 3,
    "start_time": "2022-05-28T16:20:49.415Z"
   },
   {
    "duration": 4,
    "start_time": "2022-05-28T16:20:50.543Z"
   },
   {
    "duration": 161,
    "start_time": "2022-05-28T16:20:51.319Z"
   },
   {
    "duration": 5,
    "start_time": "2022-05-28T16:22:27.735Z"
   },
   {
    "duration": 159,
    "start_time": "2022-05-28T16:22:28.423Z"
   },
   {
    "duration": 5,
    "start_time": "2022-05-28T16:25:53.731Z"
   },
   {
    "duration": 83,
    "start_time": "2022-05-28T16:25:54.719Z"
   },
   {
    "duration": 7,
    "start_time": "2022-05-28T16:27:18.012Z"
   },
   {
    "duration": 182,
    "start_time": "2022-05-28T16:27:18.703Z"
   },
   {
    "duration": 59,
    "start_time": "2022-05-28T16:27:36.956Z"
   },
   {
    "duration": 4,
    "start_time": "2022-05-28T16:31:15.420Z"
   },
   {
    "duration": 134,
    "start_time": "2022-05-28T16:31:17.648Z"
   },
   {
    "duration": 69,
    "start_time": "2022-05-28T16:31:23.972Z"
   },
   {
    "duration": 67,
    "start_time": "2022-05-28T16:31:26.051Z"
   },
   {
    "duration": 6,
    "start_time": "2022-05-28T16:31:50.050Z"
   },
   {
    "duration": 173,
    "start_time": "2022-05-28T16:31:50.413Z"
   },
   {
    "duration": 9,
    "start_time": "2022-05-28T16:31:55.608Z"
   },
   {
    "duration": 155,
    "start_time": "2022-05-28T16:32:00.924Z"
   },
   {
    "duration": 6,
    "start_time": "2022-05-28T16:34:44.420Z"
   },
   {
    "duration": 178,
    "start_time": "2022-05-28T16:34:44.899Z"
   },
   {
    "duration": 6,
    "start_time": "2022-05-28T16:35:21.692Z"
   },
   {
    "duration": 13,
    "start_time": "2022-05-28T16:35:29.772Z"
   },
   {
    "duration": 167,
    "start_time": "2022-05-28T16:35:30.812Z"
   },
   {
    "duration": 7,
    "start_time": "2022-05-28T16:36:17.932Z"
   },
   {
    "duration": 77,
    "start_time": "2022-05-28T16:36:18.323Z"
   },
   {
    "duration": 15,
    "start_time": "2022-05-28T16:37:27.752Z"
   },
   {
    "duration": 129,
    "start_time": "2022-05-28T16:37:32.864Z"
   },
   {
    "duration": 168,
    "start_time": "2022-05-28T16:38:07.314Z"
   },
   {
    "duration": 181,
    "start_time": "2022-05-28T16:38:27.516Z"
   },
   {
    "duration": 20,
    "start_time": "2022-05-28T16:49:20.767Z"
   },
   {
    "duration": 164,
    "start_time": "2022-05-28T16:49:43.344Z"
   },
   {
    "duration": 119,
    "start_time": "2022-05-28T16:50:08.159Z"
   },
   {
    "duration": 45,
    "start_time": "2022-05-28T16:50:49.176Z"
   },
   {
    "duration": 70,
    "start_time": "2022-05-28T16:50:56.532Z"
   },
   {
    "duration": 192,
    "start_time": "2022-05-28T16:51:16.099Z"
   },
   {
    "duration": 8,
    "start_time": "2022-05-28T16:56:19.680Z"
   },
   {
    "duration": 107,
    "start_time": "2022-05-28T16:56:21.688Z"
   },
   {
    "duration": 42,
    "start_time": "2022-05-28T16:56:23.348Z"
   },
   {
    "duration": 10,
    "start_time": "2022-05-28T16:56:44.560Z"
   },
   {
    "duration": 189,
    "start_time": "2022-05-28T16:56:46.411Z"
   },
   {
    "duration": 875,
    "start_time": "2022-05-28T16:56:59.289Z"
   },
   {
    "duration": 280,
    "start_time": "2022-05-28T16:57:00.166Z"
   },
   {
    "duration": 75,
    "start_time": "2022-05-28T16:57:00.447Z"
   },
   {
    "duration": 190,
    "start_time": "2022-05-28T16:57:00.524Z"
   },
   {
    "duration": 66,
    "start_time": "2022-05-28T16:57:00.716Z"
   },
   {
    "duration": 151,
    "start_time": "2022-05-28T16:57:00.785Z"
   },
   {
    "duration": 70,
    "start_time": "2022-05-28T16:57:00.937Z"
   },
   {
    "duration": 18,
    "start_time": "2022-05-28T16:57:01.010Z"
   },
   {
    "duration": 62,
    "start_time": "2022-05-28T16:57:01.029Z"
   },
   {
    "duration": 27,
    "start_time": "2022-05-28T16:57:01.093Z"
   },
   {
    "duration": 121,
    "start_time": "2022-05-28T16:57:01.175Z"
   },
   {
    "duration": 195,
    "start_time": "2022-05-28T16:57:01.304Z"
   },
   {
    "duration": 194,
    "start_time": "2022-05-28T16:57:01.505Z"
   },
   {
    "duration": 14,
    "start_time": "2022-05-28T16:57:01.702Z"
   },
   {
    "duration": 277,
    "start_time": "2022-05-28T16:57:01.718Z"
   },
   {
    "duration": 0,
    "start_time": "2022-05-28T16:57:01.997Z"
   },
   {
    "duration": 0,
    "start_time": "2022-05-28T16:57:01.998Z"
   },
   {
    "duration": 0,
    "start_time": "2022-05-28T16:57:01.998Z"
   },
   {
    "duration": 0,
    "start_time": "2022-05-28T16:57:02.000Z"
   },
   {
    "duration": 0,
    "start_time": "2022-05-28T16:57:02.004Z"
   },
   {
    "duration": 5,
    "start_time": "2022-05-28T16:57:43.355Z"
   },
   {
    "duration": 166,
    "start_time": "2022-05-28T16:57:44.827Z"
   },
   {
    "duration": 151,
    "start_time": "2022-05-28T16:57:54.659Z"
   },
   {
    "duration": 185,
    "start_time": "2022-05-28T16:58:50.415Z"
   },
   {
    "duration": 146,
    "start_time": "2022-05-28T16:59:42.035Z"
   },
   {
    "duration": 7,
    "start_time": "2022-05-28T16:59:47.496Z"
   },
   {
    "duration": 150,
    "start_time": "2022-05-28T16:59:48.162Z"
   },
   {
    "duration": 174,
    "start_time": "2022-05-28T16:59:56.917Z"
   },
   {
    "duration": 205,
    "start_time": "2022-05-28T17:00:14.288Z"
   },
   {
    "duration": 5,
    "start_time": "2022-05-28T17:02:00.535Z"
   },
   {
    "duration": 117,
    "start_time": "2022-05-28T17:02:00.959Z"
   },
   {
    "duration": 189,
    "start_time": "2022-05-28T17:02:01.691Z"
   },
   {
    "duration": 70,
    "start_time": "2022-05-28T17:02:24.316Z"
   },
   {
    "duration": 33,
    "start_time": "2022-05-28T17:02:24.952Z"
   },
   {
    "duration": 4,
    "start_time": "2022-05-28T17:20:13.322Z"
   },
   {
    "duration": 15,
    "start_time": "2022-05-28T17:20:14.270Z"
   },
   {
    "duration": 79,
    "start_time": "2022-05-28T17:23:34.710Z"
   },
   {
    "duration": 7,
    "start_time": "2022-05-28T17:23:59.058Z"
   },
   {
    "duration": 180,
    "start_time": "2022-05-28T17:24:00.796Z"
   },
   {
    "duration": 109,
    "start_time": "2022-05-28T17:24:25.782Z"
   },
   {
    "duration": 15,
    "start_time": "2022-05-28T17:24:36.285Z"
   },
   {
    "duration": 10,
    "start_time": "2022-05-28T17:24:44.750Z"
   },
   {
    "duration": 4,
    "start_time": "2022-05-28T17:24:49.005Z"
   },
   {
    "duration": 74,
    "start_time": "2022-05-28T17:24:49.418Z"
   },
   {
    "duration": 41,
    "start_time": "2022-05-28T17:25:06.455Z"
   },
   {
    "duration": 39,
    "start_time": "2022-05-28T17:25:16.753Z"
   },
   {
    "duration": 5,
    "start_time": "2022-05-28T17:27:00.188Z"
   },
   {
    "duration": 190,
    "start_time": "2022-05-28T17:27:00.486Z"
   },
   {
    "duration": 5,
    "start_time": "2022-05-28T17:27:02.255Z"
   },
   {
    "duration": 5,
    "start_time": "2022-05-28T17:27:02.718Z"
   },
   {
    "duration": 70,
    "start_time": "2022-05-28T17:27:03.010Z"
   },
   {
    "duration": 84,
    "start_time": "2022-05-28T17:27:03.606Z"
   },
   {
    "duration": 109,
    "start_time": "2022-05-28T17:27:03.874Z"
   },
   {
    "duration": 208,
    "start_time": "2022-05-28T18:11:56.668Z"
   },
   {
    "duration": 113,
    "start_time": "2022-05-28T18:12:20.568Z"
   },
   {
    "duration": 195,
    "start_time": "2022-05-28T18:18:30.781Z"
   },
   {
    "duration": 91,
    "start_time": "2022-05-28T18:18:45.693Z"
   },
   {
    "duration": 93,
    "start_time": "2022-05-28T18:20:26.489Z"
   },
   {
    "duration": 102,
    "start_time": "2022-05-28T18:20:53.881Z"
   },
   {
    "duration": 36,
    "start_time": "2022-05-28T18:21:19.345Z"
   },
   {
    "duration": 13,
    "start_time": "2022-05-28T18:59:07.267Z"
   },
   {
    "duration": 15,
    "start_time": "2022-05-28T18:59:41.167Z"
   },
   {
    "duration": 16,
    "start_time": "2022-05-28T19:01:53.635Z"
   },
   {
    "duration": 38,
    "start_time": "2022-05-28T19:03:11.747Z"
   },
   {
    "duration": 14,
    "start_time": "2022-05-28T19:03:13.423Z"
   },
   {
    "duration": 5,
    "start_time": "2022-05-28T19:06:13.143Z"
   },
   {
    "duration": 8,
    "start_time": "2022-05-28T19:06:57.330Z"
   },
   {
    "duration": 10,
    "start_time": "2022-05-28T19:07:14.840Z"
   },
   {
    "duration": 19,
    "start_time": "2022-05-28T19:07:35.085Z"
   },
   {
    "duration": 8,
    "start_time": "2022-05-28T19:07:50.027Z"
   },
   {
    "duration": 14,
    "start_time": "2022-05-28T19:07:54.527Z"
   },
   {
    "duration": 17,
    "start_time": "2022-05-28T19:08:00.768Z"
   },
   {
    "duration": 24,
    "start_time": "2022-05-28T19:08:50.237Z"
   },
   {
    "duration": 23,
    "start_time": "2022-05-28T19:09:09.184Z"
   },
   {
    "duration": 131,
    "start_time": "2022-05-28T19:14:27.749Z"
   },
   {
    "duration": 5,
    "start_time": "2022-05-28T19:14:31.689Z"
   },
   {
    "duration": 187,
    "start_time": "2022-05-28T19:14:32.197Z"
   },
   {
    "duration": 4,
    "start_time": "2022-05-28T19:14:43.661Z"
   },
   {
    "duration": 133,
    "start_time": "2022-05-28T19:14:44.649Z"
   },
   {
    "duration": 3,
    "start_time": "2022-05-28T19:14:51.157Z"
   },
   {
    "duration": 144,
    "start_time": "2022-05-28T19:14:51.541Z"
   },
   {
    "duration": 53,
    "start_time": "2022-05-28T19:14:51.928Z"
   },
   {
    "duration": 128,
    "start_time": "2022-05-28T19:14:52.288Z"
   },
   {
    "duration": 47,
    "start_time": "2022-05-28T19:14:52.676Z"
   },
   {
    "duration": 148,
    "start_time": "2022-05-28T19:14:53.036Z"
   },
   {
    "duration": 48,
    "start_time": "2022-05-28T19:14:53.372Z"
   },
   {
    "duration": 13,
    "start_time": "2022-05-28T19:14:53.731Z"
   },
   {
    "duration": 27,
    "start_time": "2022-05-28T19:14:54.428Z"
   },
   {
    "duration": 20,
    "start_time": "2022-05-28T19:14:54.730Z"
   },
   {
    "duration": 15,
    "start_time": "2022-05-28T19:14:55.065Z"
   },
   {
    "duration": 16,
    "start_time": "2022-05-28T19:14:55.424Z"
   },
   {
    "duration": 3,
    "start_time": "2022-05-28T19:14:56.881Z"
   },
   {
    "duration": 6,
    "start_time": "2022-05-28T19:14:58.181Z"
   },
   {
    "duration": 4,
    "start_time": "2022-05-28T19:14:58.729Z"
   },
   {
    "duration": 54,
    "start_time": "2022-05-28T19:14:59.331Z"
   },
   {
    "duration": 145,
    "start_time": "2022-05-28T19:15:34.331Z"
   },
   {
    "duration": 59,
    "start_time": "2022-05-28T19:15:39.330Z"
   },
   {
    "duration": 38,
    "start_time": "2022-05-28T19:16:15.253Z"
   },
   {
    "duration": 145,
    "start_time": "2022-05-28T19:16:26.931Z"
   },
   {
    "duration": 17,
    "start_time": "2022-05-28T19:16:35.937Z"
   },
   {
    "duration": 966,
    "start_time": "2022-05-29T16:41:44.669Z"
   },
   {
    "duration": 532,
    "start_time": "2022-05-29T16:41:45.637Z"
   },
   {
    "duration": 63,
    "start_time": "2022-05-29T16:41:46.171Z"
   },
   {
    "duration": 246,
    "start_time": "2022-05-29T16:41:46.237Z"
   },
   {
    "duration": 54,
    "start_time": "2022-05-29T16:41:46.485Z"
   },
   {
    "duration": 260,
    "start_time": "2022-05-29T16:41:46.541Z"
   },
   {
    "duration": 57,
    "start_time": "2022-05-29T16:41:46.803Z"
   },
   {
    "duration": 27,
    "start_time": "2022-05-29T16:41:46.862Z"
   },
   {
    "duration": 44,
    "start_time": "2022-05-29T16:41:46.890Z"
   },
   {
    "duration": 130,
    "start_time": "2022-05-29T16:41:46.937Z"
   },
   {
    "duration": 116,
    "start_time": "2022-05-29T16:41:47.069Z"
   },
   {
    "duration": 188,
    "start_time": "2022-05-29T16:41:47.189Z"
   },
   {
    "duration": 4,
    "start_time": "2022-05-29T16:41:47.382Z"
   },
   {
    "duration": 31,
    "start_time": "2022-05-29T16:41:47.464Z"
   },
   {
    "duration": 12,
    "start_time": "2022-05-29T16:41:47.496Z"
   },
   {
    "duration": 163,
    "start_time": "2022-05-29T16:41:47.510Z"
   },
   {
    "duration": 195,
    "start_time": "2022-05-29T16:41:47.675Z"
   },
   {
    "duration": 111,
    "start_time": "2022-05-29T16:41:47.874Z"
   },
   {
    "duration": 214,
    "start_time": "2022-05-29T16:41:47.987Z"
   },
   {
    "duration": 6,
    "start_time": "2022-05-29T16:49:56.627Z"
   },
   {
    "duration": 18,
    "start_time": "2022-05-29T16:50:15.955Z"
   },
   {
    "duration": 27,
    "start_time": "2022-05-29T16:50:44.452Z"
   },
   {
    "duration": 213,
    "start_time": "2022-05-29T16:52:02.164Z"
   },
   {
    "duration": 12,
    "start_time": "2022-05-29T16:52:45.963Z"
   },
   {
    "duration": 19,
    "start_time": "2022-05-29T16:53:46.428Z"
   },
   {
    "duration": 26,
    "start_time": "2022-05-29T16:54:09.207Z"
   },
   {
    "duration": 21,
    "start_time": "2022-05-29T16:54:36.963Z"
   },
   {
    "duration": 15,
    "start_time": "2022-05-29T16:54:49.948Z"
   },
   {
    "duration": 54,
    "start_time": "2022-05-29T16:57:02.095Z"
   },
   {
    "duration": 45,
    "start_time": "2022-05-29T16:57:13.662Z"
   },
   {
    "duration": 24,
    "start_time": "2022-05-29T16:57:17.563Z"
   },
   {
    "duration": 17,
    "start_time": "2022-05-29T16:57:46.891Z"
   },
   {
    "duration": 30,
    "start_time": "2022-05-29T16:58:01.669Z"
   },
   {
    "duration": 10,
    "start_time": "2022-05-29T16:58:10.744Z"
   },
   {
    "duration": 9,
    "start_time": "2022-05-29T16:58:33.182Z"
   },
   {
    "duration": 62,
    "start_time": "2022-05-29T17:05:55.791Z"
   },
   {
    "duration": 20,
    "start_time": "2022-05-29T17:06:04.878Z"
   },
   {
    "duration": 17,
    "start_time": "2022-05-29T17:07:31.302Z"
   },
   {
    "duration": 28,
    "start_time": "2022-05-29T17:07:41.186Z"
   },
   {
    "duration": 11,
    "start_time": "2022-05-29T17:08:03.826Z"
   },
   {
    "duration": 13,
    "start_time": "2022-05-29T17:08:31.594Z"
   },
   {
    "duration": 15,
    "start_time": "2022-05-29T17:09:01.654Z"
   },
   {
    "duration": 3,
    "start_time": "2022-05-29T17:09:37.318Z"
   },
   {
    "duration": 15,
    "start_time": "2022-05-29T17:10:00.518Z"
   },
   {
    "duration": 826,
    "start_time": "2022-05-29T17:10:10.826Z"
   },
   {
    "duration": 15,
    "start_time": "2022-05-29T17:10:30.880Z"
   },
   {
    "duration": 9,
    "start_time": "2022-05-29T17:10:50.126Z"
   },
   {
    "duration": 816,
    "start_time": "2022-05-29T17:11:01.471Z"
   },
   {
    "duration": 4,
    "start_time": "2022-05-29T17:11:08.830Z"
   },
   {
    "duration": 28,
    "start_time": "2022-05-29T17:13:40.094Z"
   },
   {
    "duration": 36,
    "start_time": "2022-05-29T17:14:05.119Z"
   },
   {
    "duration": 34,
    "start_time": "2022-05-29T17:14:19.170Z"
   },
   {
    "duration": 21,
    "start_time": "2022-05-29T17:14:25.979Z"
   },
   {
    "duration": 54,
    "start_time": "2022-05-29T17:14:42.830Z"
   },
   {
    "duration": 22,
    "start_time": "2022-05-29T17:15:42.722Z"
   },
   {
    "duration": 24,
    "start_time": "2022-05-29T17:15:49.780Z"
   },
   {
    "duration": 20,
    "start_time": "2022-05-29T17:16:23.446Z"
   },
   {
    "duration": 4,
    "start_time": "2022-05-29T17:26:04.201Z"
   },
   {
    "duration": 156,
    "start_time": "2022-05-29T17:26:17.617Z"
   },
   {
    "duration": 4,
    "start_time": "2022-05-29T17:26:33.225Z"
   },
   {
    "duration": 431,
    "start_time": "2022-05-29T17:26:33.543Z"
   },
   {
    "duration": 55,
    "start_time": "2022-05-29T17:26:33.978Z"
   },
   {
    "duration": 155,
    "start_time": "2022-05-29T17:26:34.129Z"
   },
   {
    "duration": 56,
    "start_time": "2022-05-29T17:26:34.444Z"
   },
   {
    "duration": 183,
    "start_time": "2022-05-29T17:26:34.746Z"
   },
   {
    "duration": 64,
    "start_time": "2022-05-29T17:26:35.066Z"
   },
   {
    "duration": 14,
    "start_time": "2022-05-29T17:26:35.377Z"
   },
   {
    "duration": 34,
    "start_time": "2022-05-29T17:26:36.060Z"
   },
   {
    "duration": 22,
    "start_time": "2022-05-29T17:26:36.409Z"
   },
   {
    "duration": 19,
    "start_time": "2022-05-29T17:26:36.777Z"
   },
   {
    "duration": 15,
    "start_time": "2022-05-29T17:26:37.221Z"
   },
   {
    "duration": 7,
    "start_time": "2022-05-29T17:26:38.670Z"
   },
   {
    "duration": 5,
    "start_time": "2022-05-29T17:26:39.789Z"
   },
   {
    "duration": 16,
    "start_time": "2022-05-29T17:26:40.365Z"
   },
   {
    "duration": 192,
    "start_time": "2022-05-29T17:26:40.879Z"
   },
   {
    "duration": 193,
    "start_time": "2022-05-29T17:27:07.374Z"
   },
   {
    "duration": 186,
    "start_time": "2022-05-29T17:27:13.580Z"
   },
   {
    "duration": 133,
    "start_time": "2022-05-29T17:27:19.655Z"
   },
   {
    "duration": 77,
    "start_time": "2022-05-29T17:27:32.709Z"
   },
   {
    "duration": 51,
    "start_time": "2022-05-29T17:27:38.729Z"
   },
   {
    "duration": 13,
    "start_time": "2022-05-29T17:36:42.207Z"
   },
   {
    "duration": 4,
    "start_time": "2022-05-29T17:36:46.035Z"
   },
   {
    "duration": 24,
    "start_time": "2022-05-29T17:36:46.711Z"
   },
   {
    "duration": 223,
    "start_time": "2022-05-29T17:36:52.152Z"
   },
   {
    "duration": 7,
    "start_time": "2022-05-29T17:36:52.399Z"
   },
   {
    "duration": 13,
    "start_time": "2022-05-29T17:36:52.682Z"
   },
   {
    "duration": 5,
    "start_time": "2022-05-29T17:36:52.981Z"
   },
   {
    "duration": 16,
    "start_time": "2022-05-29T17:36:53.297Z"
   },
   {
    "duration": 4,
    "start_time": "2022-05-29T17:36:54.203Z"
   },
   {
    "duration": 16,
    "start_time": "2022-05-29T17:36:54.679Z"
   },
   {
    "duration": 4,
    "start_time": "2022-05-29T17:40:05.714Z"
   },
   {
    "duration": 18,
    "start_time": "2022-05-29T17:40:06.611Z"
   },
   {
    "duration": 5,
    "start_time": "2022-05-29T17:40:25.974Z"
   },
   {
    "duration": 21,
    "start_time": "2022-05-29T17:40:26.663Z"
   },
   {
    "duration": 3,
    "start_time": "2022-05-29T17:41:43.348Z"
   },
   {
    "duration": 18,
    "start_time": "2022-05-29T17:41:43.943Z"
   },
   {
    "duration": 5,
    "start_time": "2022-05-29T17:42:21.191Z"
   },
   {
    "duration": 21,
    "start_time": "2022-05-29T17:42:21.850Z"
   },
   {
    "duration": 4,
    "start_time": "2022-05-29T17:42:59.891Z"
   },
   {
    "duration": 30,
    "start_time": "2022-05-29T17:43:00.355Z"
   },
   {
    "duration": 4,
    "start_time": "2022-05-29T17:45:01.323Z"
   },
   {
    "duration": 21,
    "start_time": "2022-05-29T17:45:02.458Z"
   },
   {
    "duration": 4,
    "start_time": "2022-05-29T17:46:15.106Z"
   },
   {
    "duration": 17,
    "start_time": "2022-05-29T17:46:15.986Z"
   },
   {
    "duration": 27,
    "start_time": "2022-05-29T17:52:08.614Z"
   },
   {
    "duration": 5,
    "start_time": "2022-05-29T17:52:20.455Z"
   },
   {
    "duration": 17,
    "start_time": "2022-05-29T17:52:21.792Z"
   },
   {
    "duration": 8,
    "start_time": "2022-05-29T17:52:41.903Z"
   },
   {
    "duration": 229,
    "start_time": "2022-05-29T17:52:42.150Z"
   },
   {
    "duration": 65,
    "start_time": "2022-05-29T17:52:42.387Z"
   },
   {
    "duration": 200,
    "start_time": "2022-05-29T17:52:42.618Z"
   },
   {
    "duration": 69,
    "start_time": "2022-05-29T17:52:42.888Z"
   },
   {
    "duration": 236,
    "start_time": "2022-05-29T17:52:43.144Z"
   },
   {
    "duration": 85,
    "start_time": "2022-05-29T17:52:43.406Z"
   },
   {
    "duration": 20,
    "start_time": "2022-05-29T17:52:43.685Z"
   },
   {
    "duration": 43,
    "start_time": "2022-05-29T17:52:44.262Z"
   },
   {
    "duration": 39,
    "start_time": "2022-05-29T17:52:44.750Z"
   },
   {
    "duration": 36,
    "start_time": "2022-05-29T17:52:45.154Z"
   },
   {
    "duration": 66,
    "start_time": "2022-05-29T17:52:46.308Z"
   },
   {
    "duration": 5,
    "start_time": "2022-05-29T17:52:48.039Z"
   },
   {
    "duration": 5,
    "start_time": "2022-05-29T17:52:52.246Z"
   },
   {
    "duration": 159,
    "start_time": "2022-05-29T17:52:54.218Z"
   },
   {
    "duration": 143,
    "start_time": "2022-05-29T17:52:54.946Z"
   },
   {
    "duration": 63,
    "start_time": "2022-05-29T17:52:55.322Z"
   },
   {
    "duration": 4,
    "start_time": "2022-05-29T17:52:58.501Z"
   },
   {
    "duration": 16,
    "start_time": "2022-05-29T17:52:59.506Z"
   },
   {
    "duration": 3,
    "start_time": "2022-05-29T17:55:13.110Z"
   },
   {
    "duration": 16,
    "start_time": "2022-05-29T17:55:13.882Z"
   },
   {
    "duration": 3,
    "start_time": "2022-05-29T17:55:29.738Z"
   },
   {
    "duration": 4379,
    "start_time": "2022-05-29T17:55:30.422Z"
   },
   {
    "duration": 5,
    "start_time": "2022-05-29T17:57:20.058Z"
   },
   {
    "duration": 17,
    "start_time": "2022-05-29T17:57:20.836Z"
   },
   {
    "duration": 7,
    "start_time": "2022-05-29T17:57:44.579Z"
   },
   {
    "duration": 17,
    "start_time": "2022-05-29T17:57:45.302Z"
   },
   {
    "duration": 4,
    "start_time": "2022-05-29T17:58:01.617Z"
   },
   {
    "duration": 166,
    "start_time": "2022-05-29T17:58:02.094Z"
   },
   {
    "duration": 54,
    "start_time": "2022-05-29T17:58:02.406Z"
   },
   {
    "duration": 155,
    "start_time": "2022-05-29T17:58:02.770Z"
   },
   {
    "duration": 53,
    "start_time": "2022-05-29T17:58:03.090Z"
   },
   {
    "duration": 178,
    "start_time": "2022-05-29T17:58:03.506Z"
   },
   {
    "duration": 60,
    "start_time": "2022-05-29T17:58:03.806Z"
   },
   {
    "duration": 16,
    "start_time": "2022-05-29T17:58:04.513Z"
   },
   {
    "duration": 33,
    "start_time": "2022-05-29T17:58:05.037Z"
   },
   {
    "duration": 116,
    "start_time": "2022-05-29T17:58:05.361Z"
   },
   {
    "duration": 55,
    "start_time": "2022-05-29T17:58:06.722Z"
   },
   {
    "duration": 52,
    "start_time": "2022-05-29T17:58:07.218Z"
   },
   {
    "duration": 5,
    "start_time": "2022-05-29T17:58:08.437Z"
   },
   {
    "duration": 5,
    "start_time": "2022-05-29T17:58:12.414Z"
   },
   {
    "duration": 161,
    "start_time": "2022-05-29T17:58:12.710Z"
   },
   {
    "duration": 123,
    "start_time": "2022-05-29T17:58:13.154Z"
   },
   {
    "duration": 200,
    "start_time": "2022-05-29T17:58:13.365Z"
   },
   {
    "duration": 4,
    "start_time": "2022-05-29T17:58:15.936Z"
   },
   {
    "duration": 17,
    "start_time": "2022-05-29T17:58:18.054Z"
   },
   {
    "duration": 3,
    "start_time": "2022-05-29T17:58:35.837Z"
   },
   {
    "duration": 16,
    "start_time": "2022-05-29T17:58:36.514Z"
   },
   {
    "duration": 3,
    "start_time": "2022-05-29T17:59:15.558Z"
   },
   {
    "duration": 2588,
    "start_time": "2022-05-29T17:59:16.140Z"
   },
   {
    "duration": 12,
    "start_time": "2022-05-29T17:59:54.170Z"
   },
   {
    "duration": 5,
    "start_time": "2022-05-29T18:00:04.010Z"
   },
   {
    "duration": 19,
    "start_time": "2022-05-29T18:00:04.550Z"
   },
   {
    "duration": 18,
    "start_time": "2022-05-29T18:01:37.980Z"
   },
   {
    "duration": 3,
    "start_time": "2022-05-29T18:02:14.637Z"
   },
   {
    "duration": 9,
    "start_time": "2022-05-29T18:02:15.114Z"
   },
   {
    "duration": 26,
    "start_time": "2022-05-29T18:04:51.015Z"
   },
   {
    "duration": 5,
    "start_time": "2022-05-29T18:04:59.383Z"
   },
   {
    "duration": 168,
    "start_time": "2022-05-29T18:04:59.690Z"
   },
   {
    "duration": 58,
    "start_time": "2022-05-29T18:04:59.980Z"
   },
   {
    "duration": 175,
    "start_time": "2022-05-29T18:05:00.254Z"
   },
   {
    "duration": 88,
    "start_time": "2022-05-29T18:05:00.567Z"
   },
   {
    "duration": 177,
    "start_time": "2022-05-29T18:05:00.851Z"
   },
   {
    "duration": 63,
    "start_time": "2022-05-29T18:05:01.890Z"
   },
   {
    "duration": 22,
    "start_time": "2022-05-29T18:05:04.454Z"
   },
   {
    "duration": 16,
    "start_time": "2022-05-29T18:05:07.714Z"
   },
   {
    "duration": 35,
    "start_time": "2022-05-29T18:05:31.422Z"
   },
   {
    "duration": 31,
    "start_time": "2022-05-29T18:05:32.838Z"
   },
   {
    "duration": 24,
    "start_time": "2022-05-29T18:05:33.898Z"
   },
   {
    "duration": 50,
    "start_time": "2022-05-29T18:06:22.458Z"
   },
   {
    "duration": 27,
    "start_time": "2022-05-29T18:06:22.872Z"
   },
   {
    "duration": 23,
    "start_time": "2022-05-29T18:06:23.350Z"
   },
   {
    "duration": 17,
    "start_time": "2022-05-29T18:06:24.794Z"
   },
   {
    "duration": 4,
    "start_time": "2022-05-29T18:06:26.914Z"
   },
   {
    "duration": 5,
    "start_time": "2022-05-29T18:06:29.151Z"
   },
   {
    "duration": 194,
    "start_time": "2022-05-29T18:06:30.477Z"
   },
   {
    "duration": 5,
    "start_time": "2022-05-29T18:07:14.954Z"
   },
   {
    "duration": 195,
    "start_time": "2022-05-29T18:07:16.386Z"
   },
   {
    "duration": 5,
    "start_time": "2022-05-29T18:07:39.754Z"
   },
   {
    "duration": 112,
    "start_time": "2022-05-29T18:07:40.554Z"
   },
   {
    "duration": 5,
    "start_time": "2022-05-29T18:08:13.538Z"
   },
   {
    "duration": 63,
    "start_time": "2022-05-29T18:08:13.914Z"
   },
   {
    "duration": 170,
    "start_time": "2022-05-29T18:08:36.499Z"
   },
   {
    "duration": 118,
    "start_time": "2022-05-29T18:08:37.254Z"
   },
   {
    "duration": 118,
    "start_time": "2022-05-29T18:08:38.250Z"
   },
   {
    "duration": 5,
    "start_time": "2022-05-29T18:10:00.593Z"
   },
   {
    "duration": 8,
    "start_time": "2022-05-29T18:10:01.618Z"
   },
   {
    "duration": 4,
    "start_time": "2022-05-29T18:10:38.062Z"
   },
   {
    "duration": 9,
    "start_time": "2022-05-29T18:10:41.838Z"
   },
   {
    "duration": 19,
    "start_time": "2022-05-29T19:21:36.867Z"
   },
   {
    "duration": 13,
    "start_time": "2022-05-29T19:23:50.718Z"
   },
   {
    "duration": 24,
    "start_time": "2022-05-29T19:23:58.837Z"
   },
   {
    "duration": 4,
    "start_time": "2022-05-29T19:26:38.034Z"
   },
   {
    "duration": 11,
    "start_time": "2022-05-29T19:28:25.674Z"
   },
   {
    "duration": 12,
    "start_time": "2022-05-29T19:28:57.630Z"
   },
   {
    "duration": 9,
    "start_time": "2022-05-29T19:29:53.210Z"
   },
   {
    "duration": 1438,
    "start_time": "2022-05-29T19:30:11.129Z"
   },
   {
    "duration": 1514,
    "start_time": "2022-05-29T19:30:18.810Z"
   },
   {
    "duration": 1495,
    "start_time": "2022-05-29T19:32:47.026Z"
   },
   {
    "duration": 1534,
    "start_time": "2022-05-29T19:37:07.467Z"
   },
   {
    "duration": 1518,
    "start_time": "2022-05-29T19:38:31.002Z"
   },
   {
    "duration": 1439,
    "start_time": "2022-05-29T19:39:29.679Z"
   },
   {
    "duration": 1577,
    "start_time": "2022-05-29T19:39:58.332Z"
   },
   {
    "duration": 1003,
    "start_time": "2022-05-29T19:40:31.746Z"
   },
   {
    "duration": 253,
    "start_time": "2022-05-29T19:40:32.752Z"
   },
   {
    "duration": 73,
    "start_time": "2022-05-29T19:40:33.007Z"
   },
   {
    "duration": 155,
    "start_time": "2022-05-29T19:40:33.083Z"
   },
   {
    "duration": 70,
    "start_time": "2022-05-29T19:40:33.240Z"
   },
   {
    "duration": 169,
    "start_time": "2022-05-29T19:40:33.312Z"
   },
   {
    "duration": 57,
    "start_time": "2022-05-29T19:40:33.483Z"
   },
   {
    "duration": 31,
    "start_time": "2022-05-29T19:40:33.542Z"
   },
   {
    "duration": 52,
    "start_time": "2022-05-29T19:40:33.581Z"
   },
   {
    "duration": 40,
    "start_time": "2022-05-29T19:40:33.636Z"
   },
   {
    "duration": 193,
    "start_time": "2022-05-29T19:40:33.681Z"
   },
   {
    "duration": 116,
    "start_time": "2022-05-29T19:40:33.877Z"
   },
   {
    "duration": 192,
    "start_time": "2022-05-29T19:40:33.997Z"
   },
   {
    "duration": 12,
    "start_time": "2022-05-29T19:40:34.190Z"
   },
   {
    "duration": 18,
    "start_time": "2022-05-29T19:40:34.204Z"
   },
   {
    "duration": 144,
    "start_time": "2022-05-29T19:40:34.224Z"
   },
   {
    "duration": 118,
    "start_time": "2022-05-29T19:40:34.370Z"
   },
   {
    "duration": 194,
    "start_time": "2022-05-29T19:40:34.490Z"
   },
   {
    "duration": 98,
    "start_time": "2022-05-29T19:40:34.686Z"
   },
   {
    "duration": 1566,
    "start_time": "2022-05-29T19:40:34.786Z"
   },
   {
    "duration": 1477,
    "start_time": "2022-05-29T19:40:36.354Z"
   },
   {
    "duration": 1499,
    "start_time": "2022-05-29T19:40:37.833Z"
   },
   {
    "duration": 26,
    "start_time": "2022-05-31T08:32:23.817Z"
   },
   {
    "duration": 4,
    "start_time": "2022-05-31T08:35:30.752Z"
   },
   {
    "duration": 5,
    "start_time": "2022-05-31T08:40:29.989Z"
   },
   {
    "duration": 195,
    "start_time": "2022-05-31T08:40:30.879Z"
   },
   {
    "duration": 48,
    "start_time": "2022-05-31T08:40:52.337Z"
   },
   {
    "duration": 123,
    "start_time": "2022-05-31T08:41:29.941Z"
   },
   {
    "duration": 141,
    "start_time": "2022-05-31T08:41:37.441Z"
   },
   {
    "duration": 75,
    "start_time": "2022-05-31T08:42:49.006Z"
   },
   {
    "duration": 118,
    "start_time": "2022-05-31T08:44:45.450Z"
   },
   {
    "duration": 114,
    "start_time": "2022-05-31T08:46:07.860Z"
   },
   {
    "duration": 61,
    "start_time": "2022-05-31T08:47:43.254Z"
   },
   {
    "duration": 132,
    "start_time": "2022-05-31T08:47:48.639Z"
   },
   {
    "duration": 6,
    "start_time": "2022-05-31T08:49:12.462Z"
   },
   {
    "duration": 4,
    "start_time": "2022-05-31T08:54:52.507Z"
   },
   {
    "duration": 7,
    "start_time": "2022-05-31T08:59:36.599Z"
   },
   {
    "duration": 1448,
    "start_time": "2022-05-31T08:59:36.970Z"
   },
   {
    "duration": 1402,
    "start_time": "2022-05-31T08:59:51.135Z"
   },
   {
    "duration": 5,
    "start_time": "2022-05-31T09:00:19.883Z"
   },
   {
    "duration": 5,
    "start_time": "2022-05-31T09:00:21.184Z"
   },
   {
    "duration": 4,
    "start_time": "2022-05-31T09:00:24.715Z"
   },
   {
    "duration": 176,
    "start_time": "2022-05-31T09:00:24.951Z"
   },
   {
    "duration": 57,
    "start_time": "2022-05-31T09:00:25.203Z"
   },
   {
    "duration": 156,
    "start_time": "2022-05-31T09:00:25.459Z"
   },
   {
    "duration": 54,
    "start_time": "2022-05-31T09:00:25.696Z"
   },
   {
    "duration": 184,
    "start_time": "2022-05-31T09:00:25.959Z"
   },
   {
    "duration": 60,
    "start_time": "2022-05-31T09:00:26.219Z"
   },
   {
    "duration": 18,
    "start_time": "2022-05-31T09:00:26.463Z"
   },
   {
    "duration": 44,
    "start_time": "2022-05-31T09:00:26.980Z"
   },
   {
    "duration": 24,
    "start_time": "2022-05-31T09:00:27.219Z"
   },
   {
    "duration": 21,
    "start_time": "2022-05-31T09:00:27.491Z"
   },
   {
    "duration": 21,
    "start_time": "2022-05-31T09:00:27.732Z"
   },
   {
    "duration": 4,
    "start_time": "2022-05-31T09:00:28.743Z"
   },
   {
    "duration": 5,
    "start_time": "2022-05-31T09:00:30.251Z"
   },
   {
    "duration": 174,
    "start_time": "2022-05-31T09:00:30.803Z"
   },
   {
    "duration": 130,
    "start_time": "2022-05-31T09:00:31.455Z"
   },
   {
    "duration": 104,
    "start_time": "2022-05-31T09:00:32.676Z"
   },
   {
    "duration": 163,
    "start_time": "2022-05-31T09:00:44.317Z"
   },
   {
    "duration": 160,
    "start_time": "2022-05-31T09:01:01.321Z"
   },
   {
    "duration": 4,
    "start_time": "2022-05-31T09:01:39.423Z"
   },
   {
    "duration": 215,
    "start_time": "2022-05-31T09:01:40.867Z"
   },
   {
    "duration": 5,
    "start_time": "2022-05-31T09:02:09.055Z"
   },
   {
    "duration": 167,
    "start_time": "2022-05-31T09:02:11.315Z"
   },
   {
    "duration": 69,
    "start_time": "2022-05-31T09:02:12.048Z"
   },
   {
    "duration": 169,
    "start_time": "2022-05-31T09:02:12.911Z"
   },
   {
    "duration": 60,
    "start_time": "2022-05-31T09:02:15.119Z"
   },
   {
    "duration": 160,
    "start_time": "2022-05-31T09:02:15.573Z"
   },
   {
    "duration": 4,
    "start_time": "2022-05-31T09:03:40.828Z"
   },
   {
    "duration": 173,
    "start_time": "2022-05-31T09:03:41.207Z"
   },
   {
    "duration": 54,
    "start_time": "2022-05-31T09:03:41.595Z"
   },
   {
    "duration": 152,
    "start_time": "2022-05-31T09:03:42.003Z"
   },
   {
    "duration": 59,
    "start_time": "2022-05-31T09:03:42.339Z"
   },
   {
    "duration": 184,
    "start_time": "2022-05-31T09:03:42.711Z"
   },
   {
    "duration": 60,
    "start_time": "2022-05-31T09:03:43.056Z"
   },
   {
    "duration": 14,
    "start_time": "2022-05-31T09:03:43.495Z"
   },
   {
    "duration": 33,
    "start_time": "2022-05-31T09:03:45.000Z"
   },
   {
    "duration": 17,
    "start_time": "2022-05-31T09:03:46.519Z"
   },
   {
    "duration": 17,
    "start_time": "2022-05-31T09:03:47.177Z"
   },
   {
    "duration": 19,
    "start_time": "2022-05-31T09:03:47.873Z"
   },
   {
    "duration": 5,
    "start_time": "2022-05-31T09:03:50.833Z"
   },
   {
    "duration": 6,
    "start_time": "2022-05-31T09:03:53.263Z"
   },
   {
    "duration": 4,
    "start_time": "2022-05-31T09:04:35.655Z"
   },
   {
    "duration": 66,
    "start_time": "2022-05-31T09:08:28.403Z"
   },
   {
    "duration": 16,
    "start_time": "2022-05-31T09:08:31.708Z"
   },
   {
    "duration": 29,
    "start_time": "2022-05-31T09:08:35.464Z"
   },
   {
    "duration": 4,
    "start_time": "2022-05-31T09:08:40.536Z"
   },
   {
    "duration": 5,
    "start_time": "2022-05-31T09:08:42.494Z"
   },
   {
    "duration": 145,
    "start_time": "2022-05-31T09:09:02.755Z"
   },
   {
    "duration": 5,
    "start_time": "2022-05-31T09:09:28.791Z"
   },
   {
    "duration": 115,
    "start_time": "2022-05-31T09:09:29.851Z"
   },
   {
    "duration": 5,
    "start_time": "2022-05-31T09:09:50.335Z"
   },
   {
    "duration": 185,
    "start_time": "2022-05-31T09:09:51.291Z"
   },
   {
    "duration": 66,
    "start_time": "2022-05-31T09:09:52.523Z"
   },
   {
    "duration": 57,
    "start_time": "2022-05-31T09:09:54.111Z"
   },
   {
    "duration": 4,
    "start_time": "2022-05-31T09:10:12.086Z"
   },
   {
    "duration": 7,
    "start_time": "2022-05-31T09:10:13.090Z"
   },
   {
    "duration": 1496,
    "start_time": "2022-05-31T09:10:13.532Z"
   },
   {
    "duration": 1469,
    "start_time": "2022-05-31T09:10:20.490Z"
   },
   {
    "duration": 77,
    "start_time": "2022-05-31T09:11:56.355Z"
   },
   {
    "duration": 6,
    "start_time": "2022-05-31T09:12:01.846Z"
   },
   {
    "duration": 1559,
    "start_time": "2022-05-31T09:12:03.607Z"
   },
   {
    "duration": 1508,
    "start_time": "2022-05-31T09:12:14.956Z"
   },
   {
    "duration": 1503,
    "start_time": "2022-05-31T09:12:22.011Z"
   },
   {
    "duration": 4,
    "start_time": "2022-05-31T09:15:31.514Z"
   },
   {
    "duration": 1448,
    "start_time": "2022-05-31T09:16:50.283Z"
   },
   {
    "duration": 4,
    "start_time": "2022-05-31T09:17:17.145Z"
   },
   {
    "duration": 185,
    "start_time": "2022-05-31T09:17:17.441Z"
   },
   {
    "duration": 81,
    "start_time": "2022-05-31T09:17:17.757Z"
   },
   {
    "duration": 166,
    "start_time": "2022-05-31T09:17:18.049Z"
   },
   {
    "duration": 63,
    "start_time": "2022-05-31T09:17:18.328Z"
   },
   {
    "duration": 185,
    "start_time": "2022-05-31T09:17:18.609Z"
   },
   {
    "duration": 73,
    "start_time": "2022-05-31T09:17:18.897Z"
   },
   {
    "duration": 23,
    "start_time": "2022-05-31T09:17:19.157Z"
   },
   {
    "duration": 29,
    "start_time": "2022-05-31T09:17:19.802Z"
   },
   {
    "duration": 15,
    "start_time": "2022-05-31T09:17:20.092Z"
   },
   {
    "duration": 17,
    "start_time": "2022-05-31T09:17:20.429Z"
   },
   {
    "duration": 16,
    "start_time": "2022-05-31T09:17:20.813Z"
   },
   {
    "duration": 4,
    "start_time": "2022-05-31T09:17:22.103Z"
   },
   {
    "duration": 13,
    "start_time": "2022-05-31T09:17:24.166Z"
   },
   {
    "duration": 168,
    "start_time": "2022-05-31T09:17:25.305Z"
   },
   {
    "duration": 73,
    "start_time": "2022-05-31T09:17:25.910Z"
   },
   {
    "duration": 89,
    "start_time": "2022-05-31T09:17:26.892Z"
   },
   {
    "duration": 3,
    "start_time": "2022-05-31T09:17:29.425Z"
   },
   {
    "duration": 6,
    "start_time": "2022-05-31T09:17:31.892Z"
   },
   {
    "duration": 1449,
    "start_time": "2022-05-31T09:17:34.113Z"
   },
   {
    "duration": 1582,
    "start_time": "2022-05-31T09:17:48.097Z"
   },
   {
    "duration": 4,
    "start_time": "2022-05-31T09:18:23.709Z"
   },
   {
    "duration": 6,
    "start_time": "2022-05-31T09:18:26.408Z"
   },
   {
    "duration": 1465,
    "start_time": "2022-05-31T09:18:26.829Z"
   },
   {
    "duration": 1450,
    "start_time": "2022-05-31T09:18:51.112Z"
   },
   {
    "duration": 1586,
    "start_time": "2022-05-31T09:19:07.920Z"
   },
   {
    "duration": 1485,
    "start_time": "2022-05-31T09:19:09.508Z"
   },
   {
    "duration": 122,
    "start_time": "2022-05-31T09:20:28.955Z"
   },
   {
    "duration": 93,
    "start_time": "2022-05-31T09:20:39.795Z"
   },
   {
    "duration": 3,
    "start_time": "2022-05-31T09:21:11.999Z"
   },
   {
    "duration": 6,
    "start_time": "2022-05-31T09:22:08.654Z"
   },
   {
    "duration": 4,
    "start_time": "2022-05-31T09:22:53.743Z"
   },
   {
    "duration": 6,
    "start_time": "2022-05-31T09:23:21.091Z"
   },
   {
    "duration": 4,
    "start_time": "2022-05-31T09:23:27.334Z"
   },
   {
    "duration": 4,
    "start_time": "2022-05-31T09:23:41.746Z"
   },
   {
    "duration": 5,
    "start_time": "2022-05-31T09:23:50.393Z"
   },
   {
    "duration": 145,
    "start_time": "2022-05-31T09:23:53.626Z"
   },
   {
    "duration": 5,
    "start_time": "2022-05-31T09:23:56.806Z"
   },
   {
    "duration": 82,
    "start_time": "2022-05-31T09:23:58.802Z"
   },
   {
    "duration": 36,
    "start_time": "2022-05-31T09:24:10.354Z"
   },
   {
    "duration": 56,
    "start_time": "2022-05-31T09:24:12.718Z"
   },
   {
    "duration": 8,
    "start_time": "2022-05-31T09:24:54.066Z"
   },
   {
    "duration": 6,
    "start_time": "2022-05-31T09:24:56.041Z"
   },
   {
    "duration": 1462,
    "start_time": "2022-05-31T09:24:56.533Z"
   },
   {
    "duration": 1492,
    "start_time": "2022-05-31T09:25:04.597Z"
   },
   {
    "duration": 7,
    "start_time": "2022-05-31T09:25:58.601Z"
   },
   {
    "duration": 1794,
    "start_time": "2022-05-31T09:25:59.021Z"
   },
   {
    "duration": 1526,
    "start_time": "2022-05-31T09:26:08.609Z"
   },
   {
    "duration": 1408,
    "start_time": "2022-05-31T09:27:17.025Z"
   },
   {
    "duration": 1111,
    "start_time": "2022-06-01T19:18:38.096Z"
   },
   {
    "duration": 418,
    "start_time": "2022-06-01T19:18:39.208Z"
   },
   {
    "duration": 43,
    "start_time": "2022-06-01T19:18:39.627Z"
   },
   {
    "duration": 187,
    "start_time": "2022-06-01T19:18:39.675Z"
   },
   {
    "duration": 41,
    "start_time": "2022-06-01T19:18:39.864Z"
   },
   {
    "duration": 189,
    "start_time": "2022-06-01T19:18:40.092Z"
   },
   {
    "duration": 43,
    "start_time": "2022-06-01T19:18:40.516Z"
   },
   {
    "duration": 15,
    "start_time": "2022-06-01T19:18:40.917Z"
   },
   {
    "duration": 35,
    "start_time": "2022-06-01T19:18:41.763Z"
   },
   {
    "duration": 15,
    "start_time": "2022-06-01T19:18:42.165Z"
   },
   {
    "duration": 14,
    "start_time": "2022-06-01T19:18:42.640Z"
   },
   {
    "duration": 14,
    "start_time": "2022-06-01T19:18:43.100Z"
   },
   {
    "duration": 3,
    "start_time": "2022-06-01T19:18:44.963Z"
   },
   {
    "duration": 4,
    "start_time": "2022-06-01T19:18:47.916Z"
   },
   {
    "duration": 25,
    "start_time": "2022-06-01T19:18:52.760Z"
   },
   {
    "duration": 68,
    "start_time": "2022-06-01T19:18:53.508Z"
   },
   {
    "duration": 111,
    "start_time": "2022-06-01T19:18:54.366Z"
   },
   {
    "duration": 3,
    "start_time": "2022-06-01T19:18:55.904Z"
   },
   {
    "duration": 6,
    "start_time": "2022-06-01T19:19:01.472Z"
   },
   {
    "duration": 5,
    "start_time": "2022-06-01T19:20:39.736Z"
   },
   {
    "duration": 1094,
    "start_time": "2022-06-01T19:20:40.563Z"
   },
   {
    "duration": 5,
    "start_time": "2022-06-01T19:20:59.408Z"
   },
   {
    "duration": 1161,
    "start_time": "2022-06-01T19:21:00.496Z"
   },
   {
    "duration": 6,
    "start_time": "2022-06-01T19:23:03.400Z"
   },
   {
    "duration": 1309,
    "start_time": "2022-06-01T19:23:06.763Z"
   },
   {
    "duration": 5,
    "start_time": "2022-06-01T19:23:27.228Z"
   },
   {
    "duration": 1132,
    "start_time": "2022-06-01T19:23:28.097Z"
   },
   {
    "duration": 5,
    "start_time": "2022-06-01T19:24:34.153Z"
   },
   {
    "duration": 1099,
    "start_time": "2022-06-01T19:24:35.668Z"
   },
   {
    "duration": 1086,
    "start_time": "2022-06-01T19:29:16.532Z"
   },
   {
    "duration": 5,
    "start_time": "2022-06-01T19:29:18.104Z"
   },
   {
    "duration": 1071,
    "start_time": "2022-06-01T19:29:19.041Z"
   },
   {
    "duration": 6,
    "start_time": "2022-06-01T19:29:35.020Z"
   },
   {
    "duration": 1459,
    "start_time": "2022-06-01T19:29:36.444Z"
   },
   {
    "duration": 1449,
    "start_time": "2022-06-01T19:29:39.996Z"
   },
   {
    "duration": 1510,
    "start_time": "2022-06-01T19:29:41.447Z"
   }
  ],
  "kernelspec": {
   "display_name": "Python 3 (ipykernel)",
   "language": "python",
   "name": "python3"
  },
  "language_info": {
   "codemirror_mode": {
    "name": "ipython",
    "version": 3
   },
   "file_extension": ".py",
   "mimetype": "text/x-python",
   "name": "python",
   "nbconvert_exporter": "python",
   "pygments_lexer": "ipython3",
   "version": "3.9.7"
  },
  "toc": {
   "base_numbering": 1,
   "nav_menu": {},
   "number_sections": true,
   "sideBar": true,
   "skip_h1_title": true,
   "title_cell": "Table of Contents",
   "title_sidebar": "Contents",
   "toc_cell": false,
   "toc_position": {},
   "toc_section_display": true,
   "toc_window_display": false
  }
 },
 "nbformat": 4,
 "nbformat_minor": 2
}

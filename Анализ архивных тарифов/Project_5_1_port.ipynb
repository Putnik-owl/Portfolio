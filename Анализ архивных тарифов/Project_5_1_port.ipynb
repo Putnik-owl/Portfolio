{
 "cells": [
  {
   "cell_type": "markdown",
   "id": "3e9a52a5",
   "metadata": {},
   "source": [
    "## Анализ поведения клиентов и оценка каким клиентам предложить1 из новых тарифов: «Смарт» или «Ультра»."
   ]
  },
  {
   "cell_type": "code",
   "execution_count": 2,
   "id": "71952e7a",
   "metadata": {},
   "outputs": [],
   "source": [
    "import warnings\n",
    "warnings.filterwarnings(\"ignore\") \n",
    "import pandas as pd \n",
    "from sklearn.model_selection import train_test_split \n",
    "from sklearn.metrics import accuracy_score \n",
    "from sklearn.tree import DecisionTreeClassifier \n",
    "from sklearn.ensemble import RandomForestClassifier  \n",
    "from sklearn.linear_model import LogisticRegression  \n",
    "from sklearn.dummy import DummyClassifier "
   ]
  },
  {
   "cell_type": "markdown",
   "id": "892bdde6",
   "metadata": {},
   "source": [
    "## Обзор данных"
   ]
  },
  {
   "cell_type": "markdown",
   "id": "36d67617",
   "metadata": {},
   "source": [
    "описание данных:\n",
    "1. сalls — количество звонков\n",
    "2. minutes — суммарная длительность звонков в минутах,\n",
    "3. messages — количество sms-сообщений,\n",
    "4. mb_used — израсходованный интернет-трафик в Мб,\n",
    "5. is_ultra — каким тарифом пользовался в течение месяца («Ультра» — 1, «Смарт» — 0)"
   ]
  },
  {
   "cell_type": "code",
   "execution_count": 6,
   "id": "be988523",
   "metadata": {},
   "outputs": [
    {
     "name": "stdout",
     "output_type": "stream",
     "text": [
      "<class 'pandas.core.frame.DataFrame'>\n",
      "RangeIndex: 3214 entries, 0 to 3213\n",
      "Data columns (total 5 columns):\n",
      " #   Column    Non-Null Count  Dtype  \n",
      "---  ------    --------------  -----  \n",
      " 0   calls     3214 non-null   float64\n",
      " 1   minutes   3214 non-null   float64\n",
      " 2   messages  3214 non-null   float64\n",
      " 3   mb_used   3214 non-null   float64\n",
      " 4   is_ultra  3214 non-null   int64  \n",
      "dtypes: float64(4), int64(1)\n",
      "memory usage: 125.7 KB\n"
     ]
    },
    {
     "data": {
      "text/html": [
       "<div>\n",
       "<style scoped>\n",
       "    .dataframe tbody tr th:only-of-type {\n",
       "        vertical-align: middle;\n",
       "    }\n",
       "\n",
       "    .dataframe tbody tr th {\n",
       "        vertical-align: top;\n",
       "    }\n",
       "\n",
       "    .dataframe thead th {\n",
       "        text-align: right;\n",
       "    }\n",
       "</style>\n",
       "<table border=\"1\" class=\"dataframe\">\n",
       "  <thead>\n",
       "    <tr style=\"text-align: right;\">\n",
       "      <th></th>\n",
       "      <th>calls</th>\n",
       "      <th>minutes</th>\n",
       "      <th>messages</th>\n",
       "      <th>mb_used</th>\n",
       "      <th>is_ultra</th>\n",
       "    </tr>\n",
       "  </thead>\n",
       "  <tbody>\n",
       "    <tr>\n",
       "      <th>0</th>\n",
       "      <td>40.0</td>\n",
       "      <td>311.90</td>\n",
       "      <td>83.0</td>\n",
       "      <td>19915.42</td>\n",
       "      <td>0</td>\n",
       "    </tr>\n",
       "    <tr>\n",
       "      <th>1</th>\n",
       "      <td>85.0</td>\n",
       "      <td>516.75</td>\n",
       "      <td>56.0</td>\n",
       "      <td>22696.96</td>\n",
       "      <td>0</td>\n",
       "    </tr>\n",
       "    <tr>\n",
       "      <th>2</th>\n",
       "      <td>77.0</td>\n",
       "      <td>467.66</td>\n",
       "      <td>86.0</td>\n",
       "      <td>21060.45</td>\n",
       "      <td>0</td>\n",
       "    </tr>\n",
       "    <tr>\n",
       "      <th>3</th>\n",
       "      <td>106.0</td>\n",
       "      <td>745.53</td>\n",
       "      <td>81.0</td>\n",
       "      <td>8437.39</td>\n",
       "      <td>1</td>\n",
       "    </tr>\n",
       "    <tr>\n",
       "      <th>4</th>\n",
       "      <td>66.0</td>\n",
       "      <td>418.74</td>\n",
       "      <td>1.0</td>\n",
       "      <td>14502.75</td>\n",
       "      <td>0</td>\n",
       "    </tr>\n",
       "    <tr>\n",
       "      <th>5</th>\n",
       "      <td>58.0</td>\n",
       "      <td>344.56</td>\n",
       "      <td>21.0</td>\n",
       "      <td>15823.37</td>\n",
       "      <td>0</td>\n",
       "    </tr>\n",
       "    <tr>\n",
       "      <th>6</th>\n",
       "      <td>57.0</td>\n",
       "      <td>431.64</td>\n",
       "      <td>20.0</td>\n",
       "      <td>3738.90</td>\n",
       "      <td>1</td>\n",
       "    </tr>\n",
       "    <tr>\n",
       "      <th>7</th>\n",
       "      <td>15.0</td>\n",
       "      <td>132.40</td>\n",
       "      <td>6.0</td>\n",
       "      <td>21911.60</td>\n",
       "      <td>0</td>\n",
       "    </tr>\n",
       "    <tr>\n",
       "      <th>8</th>\n",
       "      <td>7.0</td>\n",
       "      <td>43.39</td>\n",
       "      <td>3.0</td>\n",
       "      <td>2538.67</td>\n",
       "      <td>1</td>\n",
       "    </tr>\n",
       "    <tr>\n",
       "      <th>9</th>\n",
       "      <td>90.0</td>\n",
       "      <td>665.41</td>\n",
       "      <td>38.0</td>\n",
       "      <td>17358.61</td>\n",
       "      <td>0</td>\n",
       "    </tr>\n",
       "  </tbody>\n",
       "</table>\n",
       "</div>"
      ],
      "text/plain": [
       "   calls  minutes  messages   mb_used  is_ultra\n",
       "0   40.0   311.90      83.0  19915.42         0\n",
       "1   85.0   516.75      56.0  22696.96         0\n",
       "2   77.0   467.66      86.0  21060.45         0\n",
       "3  106.0   745.53      81.0   8437.39         1\n",
       "4   66.0   418.74       1.0  14502.75         0\n",
       "5   58.0   344.56      21.0  15823.37         0\n",
       "6   57.0   431.64      20.0   3738.90         1\n",
       "7   15.0   132.40       6.0  21911.60         0\n",
       "8    7.0    43.39       3.0   2538.67         1\n",
       "9   90.0   665.41      38.0  17358.61         0"
      ]
     },
     "execution_count": 6,
     "metadata": {},
     "output_type": "execute_result"
    }
   ],
   "source": [
    "#data_frame=pd.read_csv('users_behavior.csv')\n",
    "data_frame=pd.read_csv('/datasets/users_behavior.csv')\n",
    "\n",
    "data_frame.info()\n",
    "data_frame.head(10) "
   ]
  },
  {
   "cell_type": "markdown",
   "id": "f0f50f67",
   "metadata": {},
   "source": [
    "## Предподгатовка"
   ]
  },
  {
   "cell_type": "code",
   "execution_count": 7,
   "id": "fd947d1c",
   "metadata": {
    "scrolled": true
   },
   "outputs": [
    {
     "data": {
      "text/plain": [
       "calls       0\n",
       "minutes     0\n",
       "messages    0\n",
       "mb_used     0\n",
       "is_ultra    0\n",
       "dtype: int64"
      ]
     },
     "metadata": {},
     "output_type": "display_data"
    },
    {
     "name": "stdout",
     "output_type": "stream",
     "text": [
      "Доля пропусков в столбце:\n",
      "calls = 0.00%\n",
      "minutes = 0.00%\n",
      "messages = 0.00%\n",
      "mb_used = 0.00%\n",
      "is_ultra = 0.00%\n"
     ]
    }
   ],
   "source": [
    "null_data_columns=data_frame.isna().sum() \n",
    "columns_data_old=list(data_frame.columns) \n",
    "display(null_data_columns)\n",
    "null_data_columns=list(null_data_columns) \n",
    "\n",
    "print('Доля пропусков в столбце:') \n",
    "for i in range(len(columns_data_old)): \n",
    "    rezul=1-(len(data_frame)-null_data_columns[i])/len(data_frame)\n",
    "    print(columns_data_old[i], '=', f'{rezul:.2%}' )\n",
    "  "
   ]
  },
  {
   "cell_type": "code",
   "execution_count": 8,
   "id": "b45e0eb0",
   "metadata": {},
   "outputs": [],
   "source": [
    "features =data_frame.drop(['is_ultra',], axis=1) \n",
    "target =data_frame['is_ultra']  \n",
    "# разделяем на выборку для обучения и тестирования, 25% данных для валидации (теста)\n",
    "features_train, features_data, target_train, target_data = train_test_split(features, target, test_size=0.5, random_state=2504)\n",
    "features_test, features_valid, target_test, target_valid = train_test_split( features_data, target_data, test_size=0.5, random_state=2504)"
   ]
  },
  {
   "cell_type": "markdown",
   "id": "ca1b6e03",
   "metadata": {},
   "source": [
    "## Исследование разных моделей машинного обучения"
   ]
  },
  {
   "cell_type": "markdown",
   "id": "fd96ba07",
   "metadata": {},
   "source": [
    "### Дерево решений"
   ]
  },
  {
   "cell_type": "code",
   "execution_count": 9,
   "id": "2e4907ba",
   "metadata": {},
   "outputs": [
    {
     "name": "stdout",
     "output_type": "stream",
     "text": [
      "Точность лучшей модели: 0.8072139303482587\n",
      "Параметры лучшей модели  DecisionTreeClassifier(max_depth=5, random_state=2504)\n",
      "CPU times: user 93.9 ms, sys: 0 ns, total: 93.9 ms\n",
      "Wall time: 98.2 ms\n"
     ]
    }
   ],
   "source": [
    "%%time\n",
    "best_model_DecisionTree = None\n",
    "best_result = 0\n",
    "for depth in range(1, 11):\n",
    "    model = DecisionTreeClassifier(random_state=2504, max_depth=depth).fit(features_train,target_train) \n",
    "    predictions = model.predict(features_valid) \n",
    "    result = accuracy_score( target_valid, predictions) \n",
    "    if result > best_result:\n",
    "        best_model_DecisionTree = model\n",
    "        best_result = result\n",
    "print(\"Точность лучшей модели:\", best_result)\n",
    "print(\"Параметры лучшей модели \",best_model_DecisionTree) \n",
    "                                               "
   ]
  },
  {
   "cell_type": "markdown",
   "id": "242dfbc7",
   "metadata": {},
   "source": [
    "Тест модели"
   ]
  },
  {
   "cell_type": "code",
   "execution_count": 10,
   "id": "3c7701c5",
   "metadata": {},
   "outputs": [
    {
     "name": "stdout",
     "output_type": "stream",
     "text": [
      "Точность лучшей модели на тестовых данных: 0.7932752179327521\n"
     ]
    }
   ],
   "source": [
    "predictions=best_model_DecisionTree.predict(features_test)\n",
    "result = accuracy_score(target_test, predictions) \n",
    "print(\"Точность лучшей модели на тестовых данных:\",result)"
   ]
  },
  {
   "cell_type": "markdown",
   "id": "72245bc8",
   "metadata": {},
   "source": [
    "**Вывод**\n",
    "\n",
    "Лучший результат показала модель с параметрами, глубина обучения 5, а точность модели составила: 0.793 на тестовых данных"
   ]
  },
  {
   "cell_type": "markdown",
   "id": "db2aa4c6",
   "metadata": {},
   "source": [
    "### Случайный лес"
   ]
  },
  {
   "cell_type": "code",
   "execution_count": 11,
   "id": "9efbdaa2",
   "metadata": {},
   "outputs": [
    {
     "name": "stdout",
     "output_type": "stream",
     "text": [
      "Точность лучшей модели: 0.8171641791044776\n",
      "Параметры лучшей модели  RandomForestClassifier(max_depth=9, n_estimators=10, random_state=2504)\n",
      "CPU times: user 59.2 s, sys: 286 ms, total: 59.4 s\n",
      "Wall time: 1min\n"
     ]
    }
   ],
   "source": [
    "%%time\n",
    "best_model_RandomFores = None\n",
    "best_result = 0\n",
    "for estima in range(10, 101, 5):\n",
    "    for depth in range(1, 16):\n",
    "       \n",
    "        model = RandomForestClassifier(random_state=2504, max_depth=depth, n_estimators=estima).fit(features_train,target_train)\n",
    "        predictions = model.predict(features_valid)\n",
    "        result = accuracy_score( target_valid, predictions) \n",
    "        if result > best_result:\n",
    "            best_model_RandomFores = model\n",
    "            best_result = result\n",
    "print(\"Точность лучшей модели:\", best_result)\n",
    "print(\"Параметры лучшей модели \",best_model_RandomFores)\n"
   ]
  },
  {
   "cell_type": "markdown",
   "id": "9704742d",
   "metadata": {},
   "source": [
    "Тест модели"
   ]
  },
  {
   "cell_type": "code",
   "execution_count": 12,
   "id": "be1d54c5",
   "metadata": {},
   "outputs": [
    {
     "name": "stdout",
     "output_type": "stream",
     "text": [
      "Точность лучшей модели на тестовых данных: 0.7895392278953923\n"
     ]
    }
   ],
   "source": [
    "predictions=best_model_RandomFores.predict(features_test)\n",
    "result = accuracy_score(target_test, predictions) \n",
    "print(\"Точность лучшей модели на тестовых данных:\",result)"
   ]
  },
  {
   "cell_type": "markdown",
   "id": "e89b00b9",
   "metadata": {},
   "source": [
    "**Вывод**\n",
    "\n",
    "Лучший результат показала модель с параметрами, глубина обучения 10, количество деревьев 60, а точность модели составила: 0.789 на тестовых данных"
   ]
  },
  {
   "cell_type": "markdown",
   "id": "26793897",
   "metadata": {},
   "source": [
    "### Логическая регресия"
   ]
  },
  {
   "cell_type": "code",
   "execution_count": 13,
   "id": "6e491d5d",
   "metadata": {},
   "outputs": [
    {
     "name": "stdout",
     "output_type": "stream",
     "text": [
      "Точность лучшей модели: 0.7761194029850746\n",
      "Параметры лучшей модели  LogisticRegression(random_state=2504)\n",
      "CPU times: user 42.7 ms, sys: 34 µs, total: 42.8 ms\n",
      "Wall time: 40.4 ms\n"
     ]
    }
   ],
   "source": [
    "%%time\n",
    "best_model_LogcRegres = None\n",
    "best_result = 0\n",
    "model = LogisticRegression(random_state=2504).fit(features_train,target_train)   \n",
    "predictions = model.predict(features_valid) \n",
    "result = accuracy_score( target_valid, predictions) \n",
    "print(\"Точность лучшей модели:\", result)\n",
    "print(\"Параметры лучшей модели \",model)"
   ]
  },
  {
   "cell_type": "markdown",
   "id": "9fb9eb39",
   "metadata": {},
   "source": [
    "Тест модели"
   ]
  },
  {
   "cell_type": "code",
   "execution_count": 15,
   "id": "516c0d69",
   "metadata": {},
   "outputs": [
    {
     "name": "stdout",
     "output_type": "stream",
     "text": [
      "Точность лучшей модели на тестовых данных: 0.7334993773349938\n"
     ]
    }
   ],
   "source": [
    "predictions=model.predict(features_test)\n",
    "result = accuracy_score(target_test, predictions) \n",
    "print(\"Точность лучшей модели на тестовых данных:\",result)"
   ]
  },
  {
   "cell_type": "markdown",
   "id": "c5768ed2",
   "metadata": {},
   "source": [
    "**Вывод**\n",
    "\n",
    "1. Для логической регрессии точность модели составила: 0.733, что ниже порогового значения в 0.75. Таким образом данная модель не подходит. \n",
    "2. Лучшие результаты точности (выше 0.75) показали модели дерево решений и случайный лес."
   ]
  },
  {
   "cell_type": "markdown",
   "id": "3d4475a0",
   "metadata": {},
   "source": [
    "### Сравнение скорости обучения "
   ]
  },
  {
   "cell_type": "code",
   "execution_count": 16,
   "id": "e615407c",
   "metadata": {},
   "outputs": [
    {
     "name": "stdout",
     "output_type": "stream",
     "text": [
      "Точность лучшей модели: 0.8072139303482587\n",
      "Параметры лучшей модели  DecisionTreeClassifier(max_depth=5, random_state=2504)\n",
      "CPU times: user 14.1 ms, sys: 26 µs, total: 14.1 ms\n",
      "Wall time: 11.7 ms\n"
     ]
    }
   ],
   "source": [
    "%%time\n",
    "model = DecisionTreeClassifier(random_state=2504, max_depth=5).fit(features_train,target_train)\n",
    "predictions = model.predict(features_valid) \n",
    "result = accuracy_score( target_valid, predictions) \n",
    "print(\"Точность лучшей модели:\", result)\n",
    "print(\"Параметры лучшей модели \",best_model_DecisionTree) "
   ]
  },
  {
   "cell_type": "code",
   "execution_count": 17,
   "id": "df31b261",
   "metadata": {},
   "outputs": [
    {
     "name": "stdout",
     "output_type": "stream",
     "text": [
      "Точность лучшей модели: 0.7972636815920398\n",
      "Параметры лучшей модели  RandomForestClassifier(max_depth=9, n_estimators=10, random_state=2504)\n",
      "CPU times: user 245 ms, sys: 8 µs, total: 245 ms\n",
      "Wall time: 242 ms\n"
     ]
    }
   ],
   "source": [
    "%%time\n",
    "model = RandomForestClassifier(random_state=2504, max_depth=10, n_estimators=60).fit(features_train,target_train) \n",
    "predictions = model.predict(features_valid) \n",
    "result = accuracy_score( target_valid, predictions) \n",
    "print(\"Точность лучшей модели:\", result)\n",
    "print(\"Параметры лучшей модели \",best_model_RandomFores)\n"
   ]
  },
  {
   "cell_type": "markdown",
   "id": "5f0e530f",
   "metadata": {},
   "source": [
    "**Вывод**\n",
    "\n",
    "Модель \"дерево решений\" имеет точность предсказания меньше на 0,016, чем модель \"случейного леса\", но скорость обучения модели \"случайного леса\" примерно в 20 раз меньше, чем у модели \"дерева решений\". Таким образом логичнее использовать модель \"дерева решений\"."
   ]
  },
  {
   "cell_type": "markdown",
   "id": "73542daa",
   "metadata": {},
   "source": [
    "### Сравнение моделей "
   ]
  },
  {
   "cell_type": "code",
   "execution_count": 18,
   "id": "a147d3ea",
   "metadata": {},
   "outputs": [
    {
     "name": "stdout",
     "output_type": "stream",
     "text": [
      "Точность лучшей модели: 0.7338308457711443\n",
      "Параметры лучшей модели  DummyClassifier(strategy='most_frequent')\n"
     ]
    }
   ],
   "source": [
    "model_dummy =  DummyClassifier(strategy='most_frequent').fit(features_train,target_train) \n",
    "predictions = model_dummy.predict(features_valid) \n",
    "result = accuracy_score( target_valid, predictions) \n",
    "print(\"Точность лучшей модели:\", result)\n",
    "print(\"Параметры лучшей модели \",model_dummy)"
   ]
  }
 ],
 "metadata": {
  "ExecuteTimeLog": [
   {
    "duration": 1599,
    "start_time": "2022-05-04T16:25:56.691Z"
   },
   {
    "duration": 229,
    "start_time": "2022-05-04T16:25:58.602Z"
   },
   {
    "duration": 63,
    "start_time": "2022-05-04T16:26:08.996Z"
   },
   {
    "duration": 4,
    "start_time": "2022-05-04T16:26:16.971Z"
   },
   {
    "duration": 73,
    "start_time": "2022-05-04T16:26:19.267Z"
   },
   {
    "duration": 56,
    "start_time": "2022-05-04T16:26:27.431Z"
   },
   {
    "duration": 13,
    "start_time": "2022-05-04T16:26:35.610Z"
   },
   {
    "duration": 10,
    "start_time": "2022-05-04T16:26:39.247Z"
   },
   {
    "duration": 104,
    "start_time": "2022-05-04T16:26:42.815Z"
   },
   {
    "duration": 8,
    "start_time": "2022-05-04T16:30:57.854Z"
   },
   {
    "duration": 60807,
    "start_time": "2022-05-04T16:31:53.966Z"
   },
   {
    "duration": 15,
    "start_time": "2022-05-04T16:32:54.782Z"
   },
   {
    "duration": 47,
    "start_time": "2022-05-04T16:35:47.979Z"
   },
   {
    "duration": 155,
    "start_time": "2022-05-04T16:35:48.770Z"
   },
   {
    "duration": 9,
    "start_time": "2022-05-04T16:36:32.783Z"
   },
   {
    "duration": 17,
    "start_time": "2022-05-04T16:37:46.915Z"
   },
   {
    "duration": 249,
    "start_time": "2022-05-04T16:37:48.963Z"
   },
   {
    "duration": 8,
    "start_time": "2022-05-04T16:38:16.443Z"
   }
  ],
  "kernelspec": {
   "display_name": "Python 3 (ipykernel)",
   "language": "python",
   "name": "python3"
  },
  "language_info": {
   "codemirror_mode": {
    "name": "ipython",
    "version": 3
   },
   "file_extension": ".py",
   "mimetype": "text/x-python",
   "name": "python",
   "nbconvert_exporter": "python",
   "pygments_lexer": "ipython3",
   "version": "3.9.7"
  },
  "toc": {
   "base_numbering": 1,
   "nav_menu": {},
   "number_sections": true,
   "sideBar": true,
   "skip_h1_title": true,
   "title_cell": "Table of Contents",
   "title_sidebar": "Contents",
   "toc_cell": false,
   "toc_position": {},
   "toc_section_display": true,
   "toc_window_display": false
  }
 },
 "nbformat": 4,
 "nbformat_minor": 5
}

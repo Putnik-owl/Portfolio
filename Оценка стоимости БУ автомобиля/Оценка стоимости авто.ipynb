{
 "cells": [
  {
   "cell_type": "markdown",
   "metadata": {},
   "source": [
    "# Определение стоимости автомобилей"
   ]
  },
  {
   "cell_type": "markdown",
   "metadata": {},
   "source": [
    "\n",
    "1. DateCrawled — дата скачивания анкеты из базы\n",
    "2. VehicleType — тип автомобильного кузова\n",
    "3. RegistrationYear — год регистрации автомобиля\n",
    "4. Gearbox — тип коробки передач\n",
    "5. Power — мощность (л. с.)\n",
    "6. Model — модель автомобиля\n",
    "7. Kilometer — пробег (км)\n",
    "8. RegistrationMonth — месяц регистрации автомобиля\n",
    "9. FuelType — тип топлива\n",
    "10. Brand — марка автомобиля\n",
    "11. NotRepaired — была машина в ремонте или нет\n",
    "12. DateCreated — дата создания анкеты\n",
    "13. NumberOfPictures — количество фотографий автомобиля\n",
    "14. PostalCode — почтовый индекс владельца анкеты (пользователя)\n",
    "15. LastSeen — дата последней активности пользователя\n",
    "\n",
    "Price — цена (евро)"
   ]
  },
  {
   "cell_type": "markdown",
   "metadata": {},
   "source": [
    "## Подготовка данных"
   ]
  },
  {
   "cell_type": "code",
   "execution_count": 1,
   "metadata": {},
   "outputs": [],
   "source": [
    "import warnings\n",
    "warnings.filterwarnings(\"ignore\") \n",
    "import pandas as pd \n",
    "import numpy as np \n",
    "import math \n",
    "\n",
    "from sklearn.model_selection import train_test_split \n",
    "from sklearn.preprocessing import StandardScaler \n",
    "from sklearn.metrics import mean_squared_error \n",
    "\n",
    "from sklearn.linear_model import LinearRegression  \n",
    "from sklearn.tree import DecisionTreeRegressor \n",
    "\n",
    "from sklearn.preprocessing import OrdinalEncoder  \n",
    "\n",
    "from sklearn.model_selection import GridSearchCV \n",
    "from sklearn.preprocessing import StandardScaler  \n",
    "\n",
    "from sklearn.model_selection import cross_val_score \n",
    "from catboost import Pool, CatBoostRegressor, cv \n",
    "from lightgbm import LGBMRegressor"
   ]
  },
  {
   "cell_type": "code",
   "execution_count": 2,
   "metadata": {},
   "outputs": [
    {
     "name": "stdout",
     "output_type": "stream",
     "text": [
      "<class 'pandas.core.frame.DataFrame'>\n",
      "RangeIndex: 354369 entries, 0 to 354368\n",
      "Data columns (total 16 columns):\n",
      " #   Column             Non-Null Count   Dtype \n",
      "---  ------             --------------   ----- \n",
      " 0   DateCrawled        354369 non-null  object\n",
      " 1   Price              354369 non-null  int64 \n",
      " 2   VehicleType        316879 non-null  object\n",
      " 3   RegistrationYear   354369 non-null  int64 \n",
      " 4   Gearbox            334536 non-null  object\n",
      " 5   Power              354369 non-null  int64 \n",
      " 6   Model              334664 non-null  object\n",
      " 7   Kilometer          354369 non-null  int64 \n",
      " 8   RegistrationMonth  354369 non-null  int64 \n",
      " 9   FuelType           321474 non-null  object\n",
      " 10  Brand              354369 non-null  object\n",
      " 11  NotRepaired        283215 non-null  object\n",
      " 12  DateCreated        354369 non-null  object\n",
      " 13  NumberOfPictures   354369 non-null  int64 \n",
      " 14  PostalCode         354369 non-null  int64 \n",
      " 15  LastSeen           354369 non-null  object\n",
      "dtypes: int64(7), object(9)\n",
      "memory usage: 43.3+ MB\n"
     ]
    },
    {
     "data": {
      "text/html": [
       "<div>\n",
       "<style scoped>\n",
       "    .dataframe tbody tr th:only-of-type {\n",
       "        vertical-align: middle;\n",
       "    }\n",
       "\n",
       "    .dataframe tbody tr th {\n",
       "        vertical-align: top;\n",
       "    }\n",
       "\n",
       "    .dataframe thead th {\n",
       "        text-align: right;\n",
       "    }\n",
       "</style>\n",
       "<table border=\"1\" class=\"dataframe\">\n",
       "  <thead>\n",
       "    <tr style=\"text-align: right;\">\n",
       "      <th></th>\n",
       "      <th>DateCrawled</th>\n",
       "      <th>Price</th>\n",
       "      <th>VehicleType</th>\n",
       "      <th>RegistrationYear</th>\n",
       "      <th>Gearbox</th>\n",
       "      <th>Power</th>\n",
       "      <th>Model</th>\n",
       "      <th>Kilometer</th>\n",
       "      <th>RegistrationMonth</th>\n",
       "      <th>FuelType</th>\n",
       "      <th>Brand</th>\n",
       "      <th>NotRepaired</th>\n",
       "      <th>DateCreated</th>\n",
       "      <th>NumberOfPictures</th>\n",
       "      <th>PostalCode</th>\n",
       "      <th>LastSeen</th>\n",
       "    </tr>\n",
       "  </thead>\n",
       "  <tbody>\n",
       "    <tr>\n",
       "      <th>0</th>\n",
       "      <td>2016-03-24 11:52:17</td>\n",
       "      <td>480</td>\n",
       "      <td>NaN</td>\n",
       "      <td>1993</td>\n",
       "      <td>manual</td>\n",
       "      <td>0</td>\n",
       "      <td>golf</td>\n",
       "      <td>150000</td>\n",
       "      <td>0</td>\n",
       "      <td>petrol</td>\n",
       "      <td>volkswagen</td>\n",
       "      <td>NaN</td>\n",
       "      <td>2016-03-24 00:00:00</td>\n",
       "      <td>0</td>\n",
       "      <td>70435</td>\n",
       "      <td>2016-04-07 03:16:57</td>\n",
       "    </tr>\n",
       "    <tr>\n",
       "      <th>1</th>\n",
       "      <td>2016-03-24 10:58:45</td>\n",
       "      <td>18300</td>\n",
       "      <td>coupe</td>\n",
       "      <td>2011</td>\n",
       "      <td>manual</td>\n",
       "      <td>190</td>\n",
       "      <td>NaN</td>\n",
       "      <td>125000</td>\n",
       "      <td>5</td>\n",
       "      <td>gasoline</td>\n",
       "      <td>audi</td>\n",
       "      <td>yes</td>\n",
       "      <td>2016-03-24 00:00:00</td>\n",
       "      <td>0</td>\n",
       "      <td>66954</td>\n",
       "      <td>2016-04-07 01:46:50</td>\n",
       "    </tr>\n",
       "    <tr>\n",
       "      <th>2</th>\n",
       "      <td>2016-03-14 12:52:21</td>\n",
       "      <td>9800</td>\n",
       "      <td>suv</td>\n",
       "      <td>2004</td>\n",
       "      <td>auto</td>\n",
       "      <td>163</td>\n",
       "      <td>grand</td>\n",
       "      <td>125000</td>\n",
       "      <td>8</td>\n",
       "      <td>gasoline</td>\n",
       "      <td>jeep</td>\n",
       "      <td>NaN</td>\n",
       "      <td>2016-03-14 00:00:00</td>\n",
       "      <td>0</td>\n",
       "      <td>90480</td>\n",
       "      <td>2016-04-05 12:47:46</td>\n",
       "    </tr>\n",
       "    <tr>\n",
       "      <th>3</th>\n",
       "      <td>2016-03-17 16:54:04</td>\n",
       "      <td>1500</td>\n",
       "      <td>small</td>\n",
       "      <td>2001</td>\n",
       "      <td>manual</td>\n",
       "      <td>75</td>\n",
       "      <td>golf</td>\n",
       "      <td>150000</td>\n",
       "      <td>6</td>\n",
       "      <td>petrol</td>\n",
       "      <td>volkswagen</td>\n",
       "      <td>no</td>\n",
       "      <td>2016-03-17 00:00:00</td>\n",
       "      <td>0</td>\n",
       "      <td>91074</td>\n",
       "      <td>2016-03-17 17:40:17</td>\n",
       "    </tr>\n",
       "    <tr>\n",
       "      <th>4</th>\n",
       "      <td>2016-03-31 17:25:20</td>\n",
       "      <td>3600</td>\n",
       "      <td>small</td>\n",
       "      <td>2008</td>\n",
       "      <td>manual</td>\n",
       "      <td>69</td>\n",
       "      <td>fabia</td>\n",
       "      <td>90000</td>\n",
       "      <td>7</td>\n",
       "      <td>gasoline</td>\n",
       "      <td>skoda</td>\n",
       "      <td>no</td>\n",
       "      <td>2016-03-31 00:00:00</td>\n",
       "      <td>0</td>\n",
       "      <td>60437</td>\n",
       "      <td>2016-04-06 10:17:21</td>\n",
       "    </tr>\n",
       "    <tr>\n",
       "      <th>5</th>\n",
       "      <td>2016-04-04 17:36:23</td>\n",
       "      <td>650</td>\n",
       "      <td>sedan</td>\n",
       "      <td>1995</td>\n",
       "      <td>manual</td>\n",
       "      <td>102</td>\n",
       "      <td>3er</td>\n",
       "      <td>150000</td>\n",
       "      <td>10</td>\n",
       "      <td>petrol</td>\n",
       "      <td>bmw</td>\n",
       "      <td>yes</td>\n",
       "      <td>2016-04-04 00:00:00</td>\n",
       "      <td>0</td>\n",
       "      <td>33775</td>\n",
       "      <td>2016-04-06 19:17:07</td>\n",
       "    </tr>\n",
       "    <tr>\n",
       "      <th>6</th>\n",
       "      <td>2016-04-01 20:48:51</td>\n",
       "      <td>2200</td>\n",
       "      <td>convertible</td>\n",
       "      <td>2004</td>\n",
       "      <td>manual</td>\n",
       "      <td>109</td>\n",
       "      <td>2_reihe</td>\n",
       "      <td>150000</td>\n",
       "      <td>8</td>\n",
       "      <td>petrol</td>\n",
       "      <td>peugeot</td>\n",
       "      <td>no</td>\n",
       "      <td>2016-04-01 00:00:00</td>\n",
       "      <td>0</td>\n",
       "      <td>67112</td>\n",
       "      <td>2016-04-05 18:18:39</td>\n",
       "    </tr>\n",
       "    <tr>\n",
       "      <th>7</th>\n",
       "      <td>2016-03-21 18:54:38</td>\n",
       "      <td>0</td>\n",
       "      <td>sedan</td>\n",
       "      <td>1980</td>\n",
       "      <td>manual</td>\n",
       "      <td>50</td>\n",
       "      <td>other</td>\n",
       "      <td>40000</td>\n",
       "      <td>7</td>\n",
       "      <td>petrol</td>\n",
       "      <td>volkswagen</td>\n",
       "      <td>no</td>\n",
       "      <td>2016-03-21 00:00:00</td>\n",
       "      <td>0</td>\n",
       "      <td>19348</td>\n",
       "      <td>2016-03-25 16:47:58</td>\n",
       "    </tr>\n",
       "    <tr>\n",
       "      <th>8</th>\n",
       "      <td>2016-04-04 23:42:13</td>\n",
       "      <td>14500</td>\n",
       "      <td>bus</td>\n",
       "      <td>2014</td>\n",
       "      <td>manual</td>\n",
       "      <td>125</td>\n",
       "      <td>c_max</td>\n",
       "      <td>30000</td>\n",
       "      <td>8</td>\n",
       "      <td>petrol</td>\n",
       "      <td>ford</td>\n",
       "      <td>NaN</td>\n",
       "      <td>2016-04-04 00:00:00</td>\n",
       "      <td>0</td>\n",
       "      <td>94505</td>\n",
       "      <td>2016-04-04 23:42:13</td>\n",
       "    </tr>\n",
       "    <tr>\n",
       "      <th>9</th>\n",
       "      <td>2016-03-17 10:53:50</td>\n",
       "      <td>999</td>\n",
       "      <td>small</td>\n",
       "      <td>1998</td>\n",
       "      <td>manual</td>\n",
       "      <td>101</td>\n",
       "      <td>golf</td>\n",
       "      <td>150000</td>\n",
       "      <td>0</td>\n",
       "      <td>NaN</td>\n",
       "      <td>volkswagen</td>\n",
       "      <td>NaN</td>\n",
       "      <td>2016-03-17 00:00:00</td>\n",
       "      <td>0</td>\n",
       "      <td>27472</td>\n",
       "      <td>2016-03-31 17:17:06</td>\n",
       "    </tr>\n",
       "  </tbody>\n",
       "</table>\n",
       "</div>"
      ],
      "text/plain": [
       "           DateCrawled  Price  VehicleType  RegistrationYear Gearbox  Power  \\\n",
       "0  2016-03-24 11:52:17    480          NaN              1993  manual      0   \n",
       "1  2016-03-24 10:58:45  18300        coupe              2011  manual    190   \n",
       "2  2016-03-14 12:52:21   9800          suv              2004    auto    163   \n",
       "3  2016-03-17 16:54:04   1500        small              2001  manual     75   \n",
       "4  2016-03-31 17:25:20   3600        small              2008  manual     69   \n",
       "5  2016-04-04 17:36:23    650        sedan              1995  manual    102   \n",
       "6  2016-04-01 20:48:51   2200  convertible              2004  manual    109   \n",
       "7  2016-03-21 18:54:38      0        sedan              1980  manual     50   \n",
       "8  2016-04-04 23:42:13  14500          bus              2014  manual    125   \n",
       "9  2016-03-17 10:53:50    999        small              1998  manual    101   \n",
       "\n",
       "     Model  Kilometer  RegistrationMonth  FuelType       Brand NotRepaired  \\\n",
       "0     golf     150000                  0    petrol  volkswagen         NaN   \n",
       "1      NaN     125000                  5  gasoline        audi         yes   \n",
       "2    grand     125000                  8  gasoline        jeep         NaN   \n",
       "3     golf     150000                  6    petrol  volkswagen          no   \n",
       "4    fabia      90000                  7  gasoline       skoda          no   \n",
       "5      3er     150000                 10    petrol         bmw         yes   \n",
       "6  2_reihe     150000                  8    petrol     peugeot          no   \n",
       "7    other      40000                  7    petrol  volkswagen          no   \n",
       "8    c_max      30000                  8    petrol        ford         NaN   \n",
       "9     golf     150000                  0       NaN  volkswagen         NaN   \n",
       "\n",
       "           DateCreated  NumberOfPictures  PostalCode             LastSeen  \n",
       "0  2016-03-24 00:00:00                 0       70435  2016-04-07 03:16:57  \n",
       "1  2016-03-24 00:00:00                 0       66954  2016-04-07 01:46:50  \n",
       "2  2016-03-14 00:00:00                 0       90480  2016-04-05 12:47:46  \n",
       "3  2016-03-17 00:00:00                 0       91074  2016-03-17 17:40:17  \n",
       "4  2016-03-31 00:00:00                 0       60437  2016-04-06 10:17:21  \n",
       "5  2016-04-04 00:00:00                 0       33775  2016-04-06 19:17:07  \n",
       "6  2016-04-01 00:00:00                 0       67112  2016-04-05 18:18:39  \n",
       "7  2016-03-21 00:00:00                 0       19348  2016-03-25 16:47:58  \n",
       "8  2016-04-04 00:00:00                 0       94505  2016-04-04 23:42:13  \n",
       "9  2016-03-17 00:00:00                 0       27472  2016-03-31 17:17:06  "
      ]
     },
     "metadata": {},
     "output_type": "display_data"
    }
   ],
   "source": [
    "df_car=pd.read_csv('/datasets/autos.csv')\n",
    "df_car.info()\n",
    "display(df_car.head(10))"
   ]
  },
  {
   "cell_type": "code",
   "execution_count": 3,
   "metadata": {},
   "outputs": [
    {
     "name": "stdout",
     "output_type": "stream",
     "text": [
      "Доля пропусков в столбце ,%:\n",
      "DateCrawled           0.000000\n",
      "Price                 0.000000\n",
      "VehicleType          10.579368\n",
      "RegistrationYear      0.000000\n",
      "Gearbox               5.596709\n",
      "Power                 0.000000\n",
      "Model                 5.560588\n",
      "Kilometer             0.000000\n",
      "RegistrationMonth     0.000000\n",
      "FuelType              9.282697\n",
      "Brand                 0.000000\n",
      "NotRepaired          20.079070\n",
      "DateCreated           0.000000\n",
      "NumberOfPictures      0.000000\n",
      "PostalCode            0.000000\n",
      "LastSeen              0.000000\n",
      "dtype: float64\n",
      "Дубликатов =  4\n"
     ]
    }
   ],
   "source": [
    "print('Доля пропусков в столбце ,%:') \n",
    "rezul=df_car.isna().mean() * 100\n",
    "print(rezul)\n",
    "print('Дубликатов = ',df_car.duplicated().sum()) "
   ]
  },
  {
   "cell_type": "markdown",
   "metadata": {},
   "source": [
    "**Имеются пропуски в данных и несколько дубликатов. Необходимо определить признаки которые влияют на цена автомобиля**\n",
    "\n",
    "1. VehicleType — тип автомобильного кузова\n",
    "2. RegistrationYear — год регистрации автомобиля\n",
    "3. Gearbox — тип коробки передач\n",
    "4. Power — мощность (л. с.)\n",
    "5. Model — модель автомобиля\n",
    "6. Kilometer — пробег (км)\n",
    "7. FuelType — тип топлива\n",
    "8. Brand — марка автомобиля\n",
    "9. NotRepaired — была машина в ремонте или нет\n",
    "\n",
    " "
   ]
  },
  {
   "cell_type": "code",
   "execution_count": 4,
   "metadata": {},
   "outputs": [
    {
     "name": "stdout",
     "output_type": "stream",
     "text": [
      "Дубликатов =  0\n"
     ]
    }
   ],
   "source": [
    "df_car= df_car.drop_duplicates().reset_index(drop=True) \n",
    "print('Дубликатов = ',df_car.duplicated().sum()) "
   ]
  },
  {
   "cell_type": "code",
   "execution_count": 5,
   "metadata": {},
   "outputs": [
    {
     "name": "stdout",
     "output_type": "stream",
     "text": [
      "<class 'pandas.core.frame.DataFrame'>\n",
      "RangeIndex: 354365 entries, 0 to 354364\n",
      "Data columns (total 16 columns):\n",
      " #   Column             Non-Null Count   Dtype \n",
      "---  ------             --------------   ----- \n",
      " 0   DateCrawled        354365 non-null  object\n",
      " 1   Price              354365 non-null  int32 \n",
      " 2   VehicleType        316875 non-null  object\n",
      " 3   RegistrationYear   354365 non-null  int16 \n",
      " 4   Gearbox            334532 non-null  object\n",
      " 5   Power              354365 non-null  int16 \n",
      " 6   Model              334660 non-null  object\n",
      " 7   Kilometer          354365 non-null  int32 \n",
      " 8   RegistrationMonth  354365 non-null  int64 \n",
      " 9   FuelType           321470 non-null  object\n",
      " 10  Brand              354365 non-null  object\n",
      " 11  NotRepaired        283211 non-null  object\n",
      " 12  DateCreated        354365 non-null  object\n",
      " 13  NumberOfPictures   354365 non-null  int64 \n",
      " 14  PostalCode         354365 non-null  int64 \n",
      " 15  LastSeen           354365 non-null  object\n",
      "dtypes: int16(2), int32(2), int64(3), object(9)\n",
      "memory usage: 36.5+ MB\n"
     ]
    }
   ],
   "source": [
    "df_car['Price']=df_car['Price'].astype('int32') \n",
    "df_car['RegistrationYear']=df_car['RegistrationYear'].astype('int16') \n",
    "df_car['Power']=df_car['Power'].astype('int16') \n",
    "df_car['Kilometer']=df_car['Kilometer'].astype('int32')\n",
    "df_car.info()"
   ]
  },
  {
   "cell_type": "code",
   "execution_count": 6,
   "metadata": {},
   "outputs": [
    {
     "name": "stdout",
     "output_type": "stream",
     "text": [
      "<class 'pandas.core.frame.DataFrame'>\n",
      "RangeIndex: 354365 entries, 0 to 354364\n",
      "Data columns (total 10 columns):\n",
      " #   Column            Non-Null Count   Dtype \n",
      "---  ------            --------------   ----- \n",
      " 0   Price             354365 non-null  int32 \n",
      " 1   VehicleType       316875 non-null  object\n",
      " 2   RegistrationYear  354365 non-null  int16 \n",
      " 3   Gearbox           334532 non-null  object\n",
      " 4   Power             354365 non-null  int16 \n",
      " 5   Brand             354365 non-null  object\n",
      " 6   Model             334660 non-null  object\n",
      " 7   Kilometer         354365 non-null  int32 \n",
      " 8   FuelType          321470 non-null  object\n",
      " 9   NotRepaired       283211 non-null  object\n",
      "dtypes: int16(2), int32(2), object(6)\n",
      "memory usage: 20.3+ MB\n"
     ]
    }
   ],
   "source": [
    "df_car_work=df_car[['Price','VehicleType','RegistrationYear','Gearbox','Power','Brand','Model','Kilometer','FuelType','NotRepaired']]\n",
    "df_car_work.info()"
   ]
  },
  {
   "cell_type": "markdown",
   "metadata": {},
   "source": [
    "Перевод столбцов в целочисленный тип данных с разным размером, ни как не отразится  на данных, но позволит сэкономить память. Так же исключены не нужные столбцы, рабочий размер данных в памяти уменьшился в 2-е"
   ]
  },
  {
   "cell_type": "code",
   "execution_count": 7,
   "metadata": {
    "scrolled": true
   },
   "outputs": [
    {
     "name": "stdout",
     "output_type": "stream",
     "text": [
      "столбец Price\n"
     ]
    },
    {
     "data": {
      "text/plain": [
       "array([    0,     1,     2, ..., 19998, 19999, 20000], dtype=int32)"
      ]
     },
     "metadata": {},
     "output_type": "display_data"
    },
    {
     "name": "stdout",
     "output_type": "stream",
     "text": [
      "столбец VehicleType\n"
     ]
    },
    {
     "data": {
      "text/plain": [
       "array(['bus', 'convertible', 'coupe', 'other', 'sedan', 'small', 'suv',\n",
       "       'wagon', nan], dtype=object)"
      ]
     },
     "metadata": {},
     "output_type": "display_data"
    },
    {
     "name": "stdout",
     "output_type": "stream",
     "text": [
      "столбец RegistrationYear\n"
     ]
    },
    {
     "data": {
      "text/plain": [
       "array([1000, 1001, 1039, 1111, 1200, 1234, 1253, 1255, 1300, 1400, 1500,\n",
       "       1600, 1602, 1688, 1800, 1910, 1915, 1919, 1920, 1923, 1925, 1927,\n",
       "       1928, 1929, 1930, 1931, 1932, 1933, 1934, 1935, 1936, 1937, 1938,\n",
       "       1940, 1941, 1942, 1943, 1944, 1945, 1946, 1947, 1948, 1949, 1950,\n",
       "       1951, 1952, 1953, 1954, 1955, 1956, 1957, 1958, 1959, 1960, 1961,\n",
       "       1962, 1963, 1964, 1965, 1966, 1967, 1968, 1969, 1970, 1971, 1972,\n",
       "       1973, 1974, 1975, 1976, 1977, 1978, 1979, 1980, 1981, 1982, 1983,\n",
       "       1984, 1985, 1986, 1987, 1988, 1989, 1990, 1991, 1992, 1993, 1994,\n",
       "       1995, 1996, 1997, 1998, 1999, 2000, 2001, 2002, 2003, 2004, 2005,\n",
       "       2006, 2007, 2008, 2009, 2010, 2011, 2012, 2013, 2014, 2015, 2016,\n",
       "       2017, 2018, 2019, 2066, 2200, 2222, 2290, 2500, 2800, 2900, 3000,\n",
       "       3200, 3500, 3700, 3800, 4000, 4100, 4500, 4800, 5000, 5300, 5555,\n",
       "       5600, 5900, 5911, 6000, 6500, 7000, 7100, 7500, 7800, 8000, 8200,\n",
       "       8455, 8500, 8888, 9000, 9229, 9450, 9996, 9999], dtype=int16)"
      ]
     },
     "metadata": {},
     "output_type": "display_data"
    },
    {
     "name": "stdout",
     "output_type": "stream",
     "text": [
      "столбец Gearbox\n"
     ]
    },
    {
     "data": {
      "text/plain": [
       "array(['auto', 'manual', nan], dtype=object)"
      ]
     },
     "metadata": {},
     "output_type": "display_data"
    },
    {
     "name": "stdout",
     "output_type": "stream",
     "text": [
      "столбец Power\n"
     ]
    },
    {
     "data": {
      "text/plain": [
       "array([    0,     1,     2,     3,     4,     5,     6,     7,     8,\n",
       "           9,    10,    11,    12,    13,    14,    15,    16,    17,\n",
       "          18,    19,    20,    21,    22,    23,    24,    25,    26,\n",
       "          27,    28,    29,    30,    31,    32,    33,    34,    35,\n",
       "          36,    37,    38,    39,    40,    41,    42,    43,    44,\n",
       "          45,    46,    47,    48,    49,    50,    51,    52,    53,\n",
       "          54,    55,    56,    57,    58,    59,    60,    61,    62,\n",
       "          63,    64,    65,    66,    67,    68,    69,    70,    71,\n",
       "          72,    73,    74,    75,    76,    77,    78,    79,    80,\n",
       "          81,    82,    83,    84,    85,    86,    87,    88,    89,\n",
       "          90,    91,    92,    93,    94,    95,    96,    97,    98,\n",
       "          99,   100,   101,   102,   103,   104,   105,   106,   107,\n",
       "         108,   109,   110,   111,   112,   113,   114,   115,   116,\n",
       "         117,   118,   119,   120,   121,   122,   123,   124,   125,\n",
       "         126,   127,   128,   129,   130,   131,   132,   133,   134,\n",
       "         135,   136,   137,   138,   139,   140,   141,   142,   143,\n",
       "         144,   145,   146,   147,   148,   149,   150,   151,   152,\n",
       "         153,   154,   155,   156,   157,   158,   159,   160,   161,\n",
       "         162,   163,   164,   165,   166,   167,   168,   169,   170,\n",
       "         171,   172,   173,   174,   175,   176,   177,   178,   179,\n",
       "         180,   181,   182,   183,   184,   185,   186,   187,   188,\n",
       "         189,   190,   191,   192,   193,   194,   195,   196,   197,\n",
       "         198,   199,   200,   201,   202,   203,   204,   205,   206,\n",
       "         207,   208,   209,   210,   211,   212,   213,   214,   215,\n",
       "         216,   217,   218,   219,   220,   221,   222,   223,   224,\n",
       "         225,   226,   227,   228,   229,   230,   231,   232,   233,\n",
       "         234,   235,   236,   237,   238,   239,   240,   241,   242,\n",
       "         243,   244,   245,   246,   247,   248,   249,   250,   251,\n",
       "         252,   253,   254,   255,   256,   257,   258,   259,   260,\n",
       "         261,   262,   264,   265,   266,   267,   268,   269,   270,\n",
       "         271,   272,   273,   274,   275,   276,   277,   278,   279,\n",
       "         280,   281,   282,   283,   284,   285,   286,   287,   288,\n",
       "         289,   290,   292,   293,   294,   295,   296,   297,   298,\n",
       "         299,   300,   301,   303,   304,   305,   306,   307,   308,\n",
       "         309,   310,   311,   313,   314,   315,   316,   317,   318,\n",
       "         320,   321,   322,   323,   324,   325,   326,   327,   328,\n",
       "         329,   330,   331,   332,   333,   334,   335,   336,   337,\n",
       "         338,   339,   340,   341,   343,   344,   345,   346,   347,\n",
       "         348,   349,   350,   351,   352,   353,   354,   355,   356,\n",
       "         357,   358,   360,   361,   362,   363,   364,   365,   367,\n",
       "         368,   370,   371,   374,   375,   376,   377,   379,   380,\n",
       "         381,   382,   385,   386,   387,   388,   390,   392,   394,\n",
       "         396,   398,   399,   400,   401,   402,   405,   408,   409,\n",
       "         411,   416,   420,   421,   425,   426,   428,   430,   431,\n",
       "         435,   440,   442,   445,   449,   450,   454,   457,   459,\n",
       "         460,   475,   476,   485,   487,   489,   490,   500,   504,\n",
       "         505,   507,   508,   510,   514,   515,   517,   519,   520,\n",
       "         521,   525,   530,   540,   541,   544,   550,   551,   553,\n",
       "         560,   572,   574,   579,   580,   584,   585,   599,   600,\n",
       "         601,   602,   603,   604,   606,   607,   610,   612,   620,\n",
       "         640,   645,   650,   651,   671,   678,   682,   685,   696,\n",
       "         700,   702,   703,   732,   743,   750,   751,   754,   771,\n",
       "         776,   800,   805,   808,   850,   851,   871,   900,   901,\n",
       "         902,   903,   907,   909,   923,   950,   952,   953,   960,\n",
       "         998,   999,  1000,  1001,  1002,  1003,  1004,  1005,  1011,\n",
       "        1012,  1016,  1017,  1021,  1024,  1054,  1055,  1056,  1062,\n",
       "        1079,  1082,  1090,  1100,  1102,  1103,  1105,  1111,  1115,\n",
       "        1120,  1149,  1151,  1158,  1160,  1162,  1164,  1199,  1200,\n",
       "        1202,  1221,  1223,  1230,  1239,  1240,  1241,  1250,  1252,\n",
       "        1256,  1275,  1288,  1299,  1300,  1312,  1317,  1324,  1339,\n",
       "        1351,  1360,  1362,  1363,  1367,  1390,  1394,  1398,  1399,\n",
       "        1400,  1401,  1403,  1405,  1416,  1432,  1433,  1436,  1500,\n",
       "        1501,  1502,  1503,  1506,  1521,  1548,  1595,  1596,  1597,\n",
       "        1598,  1600,  1625,  1631,  1653,  1659,  1689,  1700,  1701,\n",
       "        1703,  1704,  1707,  1753,  1771,  1779,  1780,  1781,  1783,\n",
       "        1793,  1796,  1799,  1800,  1801,  1870,  1895,  1896,  1900,\n",
       "        1910,  1920,  1922,  1933,  1937,  1968,  1986,  1988,  1992,\n",
       "        1993,  1995,  1998,  1999,  2000,  2004,  2005,  2007,  2009,\n",
       "        2016,  2017,  2018,  2172,  2200,  2201,  2331,  2340,  2389,\n",
       "        2402,  2461,  2598,  2729,  2789,  2792,  2799,  3000,  3199,\n",
       "        3454,  3500,  3750,  4400,  4507,  4700,  5000,  5411,  5420,\n",
       "        5575,  5809,  5815,  5867,  6006,  6010,  6011,  6012,  6018,\n",
       "        6045,  6062,  6226,  6512,  6920,  7508,  7511,  7512,  7515,\n",
       "        7518,  7529,  7544,  8011,  8259,  8404,  8500,  9000,  9007,\n",
       "        9010,  9011,  9012,  9013,  9710, 10000, 10110, 10218, 10311,\n",
       "       10317, 10520, 10522, 10710, 10910, 10912, 11011, 11025, 11111,\n",
       "       11509, 11530, 11635, 12012, 12510, 12512, 12684, 13616, 13636,\n",
       "       14009, 15001, 15016, 15017, 15020, 15033, 16011, 16051, 16311,\n",
       "       16312, 17011, 17019, 17410, 17700, 17932, 19208, 19211, 19312,\n",
       "       20000], dtype=int16)"
      ]
     },
     "metadata": {},
     "output_type": "display_data"
    },
    {
     "name": "stdout",
     "output_type": "stream",
     "text": [
      "столбец Brand\n"
     ]
    },
    {
     "data": {
      "text/plain": [
       "array(['alfa_romeo', 'audi', 'bmw', 'chevrolet', 'chrysler', 'citroen',\n",
       "       'dacia', 'daewoo', 'daihatsu', 'fiat', 'ford', 'honda', 'hyundai',\n",
       "       'jaguar', 'jeep', 'kia', 'lada', 'lancia', 'land_rover', 'mazda',\n",
       "       'mercedes_benz', 'mini', 'mitsubishi', 'nissan', 'opel', 'peugeot',\n",
       "       'porsche', 'renault', 'rover', 'saab', 'seat', 'skoda', 'smart',\n",
       "       'sonstige_autos', 'subaru', 'suzuki', 'toyota', 'trabant',\n",
       "       'volkswagen', 'volvo'], dtype=object)"
      ]
     },
     "metadata": {},
     "output_type": "display_data"
    },
    {
     "name": "stdout",
     "output_type": "stream",
     "text": [
      "столбец Model\n"
     ]
    },
    {
     "data": {
      "text/plain": [
       "array(['100', '145', '147', '156', '159', '1_reihe', '1er', '200',\n",
       "       '2_reihe', '300c', '3_reihe', '3er', '4_reihe', '500', '5_reihe',\n",
       "       '5er', '601', '6_reihe', '6er', '7er', '80', '850', '90', '900',\n",
       "       '9000', '911', 'a1', 'a2', 'a3', 'a4', 'a5', 'a6', 'a8',\n",
       "       'a_klasse', 'accord', 'agila', 'alhambra', 'almera', 'altea',\n",
       "       'amarok', 'antara', 'arosa', 'astra', 'auris', 'avensis', 'aveo',\n",
       "       'aygo', 'b_klasse', 'b_max', 'beetle', 'berlingo', 'bora',\n",
       "       'boxster', 'bravo', 'c1', 'c2', 'c3', 'c4', 'c5', 'c_klasse',\n",
       "       'c_max', 'c_reihe', 'caddy', 'calibra', 'captiva', 'carisma',\n",
       "       'carnival', 'cayenne', 'cc', 'ceed', 'charade', 'cherokee',\n",
       "       'citigo', 'civic', 'cl', 'clio', 'clk', 'clubman', 'colt', 'combo',\n",
       "       'cooper', 'cordoba', 'corolla', 'corsa', 'cr_reihe', 'croma',\n",
       "       'crossfire', 'cuore', 'cx_reihe', 'defender', 'delta', 'discovery',\n",
       "       'doblo', 'ducato', 'duster', 'e_klasse', 'elefantino', 'eos',\n",
       "       'escort', 'espace', 'exeo', 'fabia', 'fiesta', 'focus', 'forester',\n",
       "       'forfour', 'fortwo', 'fox', 'freelander', 'fusion', 'g_klasse',\n",
       "       'galant', 'galaxy', 'getz', 'gl', 'glk', 'golf', 'grand', 'i3',\n",
       "       'i_reihe', 'ibiza', 'impreza', 'insignia', 'jazz', 'jetta',\n",
       "       'jimny', 'juke', 'justy', 'ka', 'kadett', 'kaefer', 'kalina',\n",
       "       'kalos', 'kangoo', 'kappa', 'kuga', 'laguna', 'lancer', 'lanos',\n",
       "       'legacy', 'leon', 'lodgy', 'logan', 'lupo', 'lybra', 'm_klasse',\n",
       "       'm_reihe', 'materia', 'matiz', 'megane', 'meriva', 'micra', 'mii',\n",
       "       'modus', 'mondeo', 'move', 'musa', 'mustang', 'mx_reihe', 'navara',\n",
       "       'niva', 'note', 'nubira', 'octavia', 'omega', 'one', 'other',\n",
       "       'outlander', 'pajero', 'panda', 'passat', 'phaeton', 'picanto',\n",
       "       'polo', 'primera', 'ptcruiser', 'punto', 'q3', 'q5', 'q7',\n",
       "       'qashqai', 'r19', 'range_rover', 'range_rover_evoque',\n",
       "       'range_rover_sport', 'rangerover', 'rav', 'rio', 'roadster',\n",
       "       'roomster', 'rx_reihe', 's60', 's_klasse', 's_max', 's_type',\n",
       "       'samara', 'sandero', 'santa', 'scenic', 'scirocco', 'seicento',\n",
       "       'serie_1', 'serie_2', 'serie_3', 'sharan', 'signum', 'sirion',\n",
       "       'sl', 'slk', 'sorento', 'spark', 'spider', 'sportage', 'sprinter',\n",
       "       'stilo', 'superb', 'swift', 'terios', 'tigra', 'tiguan', 'toledo',\n",
       "       'touareg', 'touran', 'transit', 'transporter', 'tt', 'tucson',\n",
       "       'twingo', 'up', 'v40', 'v50', 'v60', 'v70', 'v_klasse', 'vectra',\n",
       "       'verso', 'viano', 'vito', 'vivaro', 'voyager', 'wrangler',\n",
       "       'x_reihe', 'x_trail', 'x_type', 'xc_reihe', 'yaris', 'yeti',\n",
       "       'ypsilon', 'z_reihe', 'zafira', nan], dtype=object)"
      ]
     },
     "metadata": {},
     "output_type": "display_data"
    },
    {
     "name": "stdout",
     "output_type": "stream",
     "text": [
      "столбец Kilometer\n"
     ]
    },
    {
     "data": {
      "text/plain": [
       "array([  5000,  10000,  20000,  30000,  40000,  50000,  60000,  70000,\n",
       "        80000,  90000, 100000, 125000, 150000], dtype=int32)"
      ]
     },
     "metadata": {},
     "output_type": "display_data"
    },
    {
     "name": "stdout",
     "output_type": "stream",
     "text": [
      "столбец FuelType\n"
     ]
    },
    {
     "data": {
      "text/plain": [
       "array(['cng', 'electric', 'gasoline', 'hybrid', 'lpg', 'other', 'petrol',\n",
       "       nan], dtype=object)"
      ]
     },
     "metadata": {},
     "output_type": "display_data"
    },
    {
     "name": "stdout",
     "output_type": "stream",
     "text": [
      "столбец NotRepaired\n"
     ]
    },
    {
     "data": {
      "text/plain": [
       "array(['no', 'yes', nan], dtype=object)"
      ]
     },
     "metadata": {},
     "output_type": "display_data"
    }
   ],
   "source": [
    "for i in df_car_work.columns:\n",
    "    colum_value=df_car_work[i].sort_values().unique() \n",
    "    print('столбец',i)\n",
    "    display(colum_value)"
   ]
  },
  {
   "cell_type": "markdown",
   "metadata": {},
   "source": [
    "Среди данных много достаточно странных значений, например дата регистрации 1000 или 2066  и т.д."
   ]
  },
  {
   "cell_type": "code",
   "execution_count": 8,
   "metadata": {},
   "outputs": [
    {
     "name": "stdout",
     "output_type": "stream",
     "text": [
      "Доля пропусков в столбце ,%:\n",
      "Price                0.000000\n",
      "VehicleType         10.579487\n",
      "RegistrationYear     0.000000\n",
      "Gearbox              0.000000\n",
      "Power                0.000000\n",
      "Brand                0.000000\n",
      "Model                5.560651\n",
      "Kilometer            0.000000\n",
      "FuelType             9.282802\n",
      "NotRepaired          0.000000\n",
      "dtype: float64\n"
     ]
    }
   ],
   "source": [
    "df_car_work.fillna({'Gearbox':'manual', \n",
    "                           'NotRepaired':'yes'},\n",
    "                          inplace=True)\n",
    "print('Доля пропусков в столбце ,%:') # проверка на пропуски\n",
    "rezul=df_car_work.isna().mean() * 100\n",
    "print(rezul)"
   ]
  },
  {
   "cell_type": "markdown",
   "metadata": {},
   "source": [
    "**Восстановить  тип двигателя и соответственно используемого топлива не представляется возможным, поэтому пропуски просто удаляем**"
   ]
  },
  {
   "cell_type": "code",
   "execution_count": 9,
   "metadata": {},
   "outputs": [],
   "source": [
    "df_car_work['FuelType'] = df_car_work['FuelType'].fillna('unknown')"
   ]
  },
  {
   "cell_type": "code",
   "execution_count": 10,
   "metadata": {},
   "outputs": [
    {
     "name": "stdout",
     "output_type": "stream",
     "text": [
      "Доля пропусков в столбце ,%:\n",
      "Price                0.000000\n",
      "VehicleType         10.579487\n",
      "RegistrationYear     0.000000\n",
      "Gearbox              0.000000\n",
      "Power                0.000000\n",
      "Brand                0.000000\n",
      "Model                5.560651\n",
      "Kilometer            0.000000\n",
      "FuelType             0.000000\n",
      "NotRepaired          0.000000\n",
      "dtype: float64\n",
      "Доля потерянных данных ,%:\n",
      "0.0\n"
     ]
    }
   ],
   "source": [
    "print('Доля пропусков в столбце ,%:') # проверка на пропуски\n",
    "rezul=df_car_work.isna().mean() * 100\n",
    "print(rezul)\n",
    "print('Доля потерянных данных ,%:')\n",
    "delta=(len(df_car)-len(df_car_work))/len(df_car)\n",
    "print(delta)\n"
   ]
  },
  {
   "cell_type": "markdown",
   "metadata": {},
   "source": [
    "**Теперь можно обработать аномальные значения**"
   ]
  },
  {
   "cell_type": "code",
   "execution_count": 11,
   "metadata": {
    "scrolled": true
   },
   "outputs": [
    {
     "name": "stdout",
     "output_type": "stream",
     "text": [
      "столбец Price\n"
     ]
    },
    {
     "data": {
      "text/plain": [
       "array([    0,     1,     2, ..., 19998, 19999, 20000], dtype=int32)"
      ]
     },
     "metadata": {},
     "output_type": "display_data"
    },
    {
     "name": "stdout",
     "output_type": "stream",
     "text": [
      "столбец VehicleType\n"
     ]
    },
    {
     "data": {
      "text/plain": [
       "array(['bus', 'convertible', 'coupe', 'other', 'sedan', 'small', 'suv',\n",
       "       'wagon', nan], dtype=object)"
      ]
     },
     "metadata": {},
     "output_type": "display_data"
    },
    {
     "name": "stdout",
     "output_type": "stream",
     "text": [
      "столбец RegistrationYear\n"
     ]
    },
    {
     "data": {
      "text/plain": [
       "array([1000, 1001, 1039, 1111, 1200, 1234, 1253, 1255, 1300, 1400, 1500,\n",
       "       1600, 1602, 1688, 1800, 1910, 1915, 1919, 1920, 1923, 1925, 1927,\n",
       "       1928, 1929, 1930, 1931, 1932, 1933, 1934, 1935, 1936, 1937, 1938,\n",
       "       1940, 1941, 1942, 1943, 1944, 1945, 1946, 1947, 1948, 1949, 1950,\n",
       "       1951, 1952, 1953, 1954, 1955, 1956, 1957, 1958, 1959, 1960, 1961,\n",
       "       1962, 1963, 1964, 1965, 1966, 1967, 1968, 1969, 1970, 1971, 1972,\n",
       "       1973, 1974, 1975, 1976, 1977, 1978, 1979, 1980, 1981, 1982, 1983,\n",
       "       1984, 1985, 1986, 1987, 1988, 1989, 1990, 1991, 1992, 1993, 1994,\n",
       "       1995, 1996, 1997, 1998, 1999, 2000, 2001, 2002, 2003, 2004, 2005,\n",
       "       2006, 2007, 2008, 2009, 2010, 2011, 2012, 2013, 2014, 2015, 2016,\n",
       "       2017, 2018, 2019, 2066, 2200, 2222, 2290, 2500, 2800, 2900, 3000,\n",
       "       3200, 3500, 3700, 3800, 4000, 4100, 4500, 4800, 5000, 5300, 5555,\n",
       "       5600, 5900, 5911, 6000, 6500, 7000, 7100, 7500, 7800, 8000, 8200,\n",
       "       8455, 8500, 8888, 9000, 9229, 9450, 9996, 9999], dtype=int16)"
      ]
     },
     "metadata": {},
     "output_type": "display_data"
    },
    {
     "name": "stdout",
     "output_type": "stream",
     "text": [
      "столбец Gearbox\n"
     ]
    },
    {
     "data": {
      "text/plain": [
       "array(['auto', 'manual'], dtype=object)"
      ]
     },
     "metadata": {},
     "output_type": "display_data"
    },
    {
     "name": "stdout",
     "output_type": "stream",
     "text": [
      "столбец Power\n"
     ]
    },
    {
     "data": {
      "text/plain": [
       "array([    0,     1,     2,     3,     4,     5,     6,     7,     8,\n",
       "           9,    10,    11,    12,    13,    14,    15,    16,    17,\n",
       "          18,    19,    20,    21,    22,    23,    24,    25,    26,\n",
       "          27,    28,    29,    30,    31,    32,    33,    34,    35,\n",
       "          36,    37,    38,    39,    40,    41,    42,    43,    44,\n",
       "          45,    46,    47,    48,    49,    50,    51,    52,    53,\n",
       "          54,    55,    56,    57,    58,    59,    60,    61,    62,\n",
       "          63,    64,    65,    66,    67,    68,    69,    70,    71,\n",
       "          72,    73,    74,    75,    76,    77,    78,    79,    80,\n",
       "          81,    82,    83,    84,    85,    86,    87,    88,    89,\n",
       "          90,    91,    92,    93,    94,    95,    96,    97,    98,\n",
       "          99,   100,   101,   102,   103,   104,   105,   106,   107,\n",
       "         108,   109,   110,   111,   112,   113,   114,   115,   116,\n",
       "         117,   118,   119,   120,   121,   122,   123,   124,   125,\n",
       "         126,   127,   128,   129,   130,   131,   132,   133,   134,\n",
       "         135,   136,   137,   138,   139,   140,   141,   142,   143,\n",
       "         144,   145,   146,   147,   148,   149,   150,   151,   152,\n",
       "         153,   154,   155,   156,   157,   158,   159,   160,   161,\n",
       "         162,   163,   164,   165,   166,   167,   168,   169,   170,\n",
       "         171,   172,   173,   174,   175,   176,   177,   178,   179,\n",
       "         180,   181,   182,   183,   184,   185,   186,   187,   188,\n",
       "         189,   190,   191,   192,   193,   194,   195,   196,   197,\n",
       "         198,   199,   200,   201,   202,   203,   204,   205,   206,\n",
       "         207,   208,   209,   210,   211,   212,   213,   214,   215,\n",
       "         216,   217,   218,   219,   220,   221,   222,   223,   224,\n",
       "         225,   226,   227,   228,   229,   230,   231,   232,   233,\n",
       "         234,   235,   236,   237,   238,   239,   240,   241,   242,\n",
       "         243,   244,   245,   246,   247,   248,   249,   250,   251,\n",
       "         252,   253,   254,   255,   256,   257,   258,   259,   260,\n",
       "         261,   262,   264,   265,   266,   267,   268,   269,   270,\n",
       "         271,   272,   273,   274,   275,   276,   277,   278,   279,\n",
       "         280,   281,   282,   283,   284,   285,   286,   287,   288,\n",
       "         289,   290,   292,   293,   294,   295,   296,   297,   298,\n",
       "         299,   300,   301,   303,   304,   305,   306,   307,   308,\n",
       "         309,   310,   311,   313,   314,   315,   316,   317,   318,\n",
       "         320,   321,   322,   323,   324,   325,   326,   327,   328,\n",
       "         329,   330,   331,   332,   333,   334,   335,   336,   337,\n",
       "         338,   339,   340,   341,   343,   344,   345,   346,   347,\n",
       "         348,   349,   350,   351,   352,   353,   354,   355,   356,\n",
       "         357,   358,   360,   361,   362,   363,   364,   365,   367,\n",
       "         368,   370,   371,   374,   375,   376,   377,   379,   380,\n",
       "         381,   382,   385,   386,   387,   388,   390,   392,   394,\n",
       "         396,   398,   399,   400,   401,   402,   405,   408,   409,\n",
       "         411,   416,   420,   421,   425,   426,   428,   430,   431,\n",
       "         435,   440,   442,   445,   449,   450,   454,   457,   459,\n",
       "         460,   475,   476,   485,   487,   489,   490,   500,   504,\n",
       "         505,   507,   508,   510,   514,   515,   517,   519,   520,\n",
       "         521,   525,   530,   540,   541,   544,   550,   551,   553,\n",
       "         560,   572,   574,   579,   580,   584,   585,   599,   600,\n",
       "         601,   602,   603,   604,   606,   607,   610,   612,   620,\n",
       "         640,   645,   650,   651,   671,   678,   682,   685,   696,\n",
       "         700,   702,   703,   732,   743,   750,   751,   754,   771,\n",
       "         776,   800,   805,   808,   850,   851,   871,   900,   901,\n",
       "         902,   903,   907,   909,   923,   950,   952,   953,   960,\n",
       "         998,   999,  1000,  1001,  1002,  1003,  1004,  1005,  1011,\n",
       "        1012,  1016,  1017,  1021,  1024,  1054,  1055,  1056,  1062,\n",
       "        1079,  1082,  1090,  1100,  1102,  1103,  1105,  1111,  1115,\n",
       "        1120,  1149,  1151,  1158,  1160,  1162,  1164,  1199,  1200,\n",
       "        1202,  1221,  1223,  1230,  1239,  1240,  1241,  1250,  1252,\n",
       "        1256,  1275,  1288,  1299,  1300,  1312,  1317,  1324,  1339,\n",
       "        1351,  1360,  1362,  1363,  1367,  1390,  1394,  1398,  1399,\n",
       "        1400,  1401,  1403,  1405,  1416,  1432,  1433,  1436,  1500,\n",
       "        1501,  1502,  1503,  1506,  1521,  1548,  1595,  1596,  1597,\n",
       "        1598,  1600,  1625,  1631,  1653,  1659,  1689,  1700,  1701,\n",
       "        1703,  1704,  1707,  1753,  1771,  1779,  1780,  1781,  1783,\n",
       "        1793,  1796,  1799,  1800,  1801,  1870,  1895,  1896,  1900,\n",
       "        1910,  1920,  1922,  1933,  1937,  1968,  1986,  1988,  1992,\n",
       "        1993,  1995,  1998,  1999,  2000,  2004,  2005,  2007,  2009,\n",
       "        2016,  2017,  2018,  2172,  2200,  2201,  2331,  2340,  2389,\n",
       "        2402,  2461,  2598,  2729,  2789,  2792,  2799,  3000,  3199,\n",
       "        3454,  3500,  3750,  4400,  4507,  4700,  5000,  5411,  5420,\n",
       "        5575,  5809,  5815,  5867,  6006,  6010,  6011,  6012,  6018,\n",
       "        6045,  6062,  6226,  6512,  6920,  7508,  7511,  7512,  7515,\n",
       "        7518,  7529,  7544,  8011,  8259,  8404,  8500,  9000,  9007,\n",
       "        9010,  9011,  9012,  9013,  9710, 10000, 10110, 10218, 10311,\n",
       "       10317, 10520, 10522, 10710, 10910, 10912, 11011, 11025, 11111,\n",
       "       11509, 11530, 11635, 12012, 12510, 12512, 12684, 13616, 13636,\n",
       "       14009, 15001, 15016, 15017, 15020, 15033, 16011, 16051, 16311,\n",
       "       16312, 17011, 17019, 17410, 17700, 17932, 19208, 19211, 19312,\n",
       "       20000], dtype=int16)"
      ]
     },
     "metadata": {},
     "output_type": "display_data"
    },
    {
     "name": "stdout",
     "output_type": "stream",
     "text": [
      "столбец Brand\n"
     ]
    },
    {
     "data": {
      "text/plain": [
       "array(['alfa_romeo', 'audi', 'bmw', 'chevrolet', 'chrysler', 'citroen',\n",
       "       'dacia', 'daewoo', 'daihatsu', 'fiat', 'ford', 'honda', 'hyundai',\n",
       "       'jaguar', 'jeep', 'kia', 'lada', 'lancia', 'land_rover', 'mazda',\n",
       "       'mercedes_benz', 'mini', 'mitsubishi', 'nissan', 'opel', 'peugeot',\n",
       "       'porsche', 'renault', 'rover', 'saab', 'seat', 'skoda', 'smart',\n",
       "       'sonstige_autos', 'subaru', 'suzuki', 'toyota', 'trabant',\n",
       "       'volkswagen', 'volvo'], dtype=object)"
      ]
     },
     "metadata": {},
     "output_type": "display_data"
    },
    {
     "name": "stdout",
     "output_type": "stream",
     "text": [
      "столбец Model\n"
     ]
    },
    {
     "data": {
      "text/plain": [
       "array(['100', '145', '147', '156', '159', '1_reihe', '1er', '200',\n",
       "       '2_reihe', '300c', '3_reihe', '3er', '4_reihe', '500', '5_reihe',\n",
       "       '5er', '601', '6_reihe', '6er', '7er', '80', '850', '90', '900',\n",
       "       '9000', '911', 'a1', 'a2', 'a3', 'a4', 'a5', 'a6', 'a8',\n",
       "       'a_klasse', 'accord', 'agila', 'alhambra', 'almera', 'altea',\n",
       "       'amarok', 'antara', 'arosa', 'astra', 'auris', 'avensis', 'aveo',\n",
       "       'aygo', 'b_klasse', 'b_max', 'beetle', 'berlingo', 'bora',\n",
       "       'boxster', 'bravo', 'c1', 'c2', 'c3', 'c4', 'c5', 'c_klasse',\n",
       "       'c_max', 'c_reihe', 'caddy', 'calibra', 'captiva', 'carisma',\n",
       "       'carnival', 'cayenne', 'cc', 'ceed', 'charade', 'cherokee',\n",
       "       'citigo', 'civic', 'cl', 'clio', 'clk', 'clubman', 'colt', 'combo',\n",
       "       'cooper', 'cordoba', 'corolla', 'corsa', 'cr_reihe', 'croma',\n",
       "       'crossfire', 'cuore', 'cx_reihe', 'defender', 'delta', 'discovery',\n",
       "       'doblo', 'ducato', 'duster', 'e_klasse', 'elefantino', 'eos',\n",
       "       'escort', 'espace', 'exeo', 'fabia', 'fiesta', 'focus', 'forester',\n",
       "       'forfour', 'fortwo', 'fox', 'freelander', 'fusion', 'g_klasse',\n",
       "       'galant', 'galaxy', 'getz', 'gl', 'glk', 'golf', 'grand', 'i3',\n",
       "       'i_reihe', 'ibiza', 'impreza', 'insignia', 'jazz', 'jetta',\n",
       "       'jimny', 'juke', 'justy', 'ka', 'kadett', 'kaefer', 'kalina',\n",
       "       'kalos', 'kangoo', 'kappa', 'kuga', 'laguna', 'lancer', 'lanos',\n",
       "       'legacy', 'leon', 'lodgy', 'logan', 'lupo', 'lybra', 'm_klasse',\n",
       "       'm_reihe', 'materia', 'matiz', 'megane', 'meriva', 'micra', 'mii',\n",
       "       'modus', 'mondeo', 'move', 'musa', 'mustang', 'mx_reihe', 'navara',\n",
       "       'niva', 'note', 'nubira', 'octavia', 'omega', 'one', 'other',\n",
       "       'outlander', 'pajero', 'panda', 'passat', 'phaeton', 'picanto',\n",
       "       'polo', 'primera', 'ptcruiser', 'punto', 'q3', 'q5', 'q7',\n",
       "       'qashqai', 'r19', 'range_rover', 'range_rover_evoque',\n",
       "       'range_rover_sport', 'rangerover', 'rav', 'rio', 'roadster',\n",
       "       'roomster', 'rx_reihe', 's60', 's_klasse', 's_max', 's_type',\n",
       "       'samara', 'sandero', 'santa', 'scenic', 'scirocco', 'seicento',\n",
       "       'serie_1', 'serie_2', 'serie_3', 'sharan', 'signum', 'sirion',\n",
       "       'sl', 'slk', 'sorento', 'spark', 'spider', 'sportage', 'sprinter',\n",
       "       'stilo', 'superb', 'swift', 'terios', 'tigra', 'tiguan', 'toledo',\n",
       "       'touareg', 'touran', 'transit', 'transporter', 'tt', 'tucson',\n",
       "       'twingo', 'up', 'v40', 'v50', 'v60', 'v70', 'v_klasse', 'vectra',\n",
       "       'verso', 'viano', 'vito', 'vivaro', 'voyager', 'wrangler',\n",
       "       'x_reihe', 'x_trail', 'x_type', 'xc_reihe', 'yaris', 'yeti',\n",
       "       'ypsilon', 'z_reihe', 'zafira', nan], dtype=object)"
      ]
     },
     "metadata": {},
     "output_type": "display_data"
    },
    {
     "name": "stdout",
     "output_type": "stream",
     "text": [
      "столбец Kilometer\n"
     ]
    },
    {
     "data": {
      "text/plain": [
       "array([  5000,  10000,  20000,  30000,  40000,  50000,  60000,  70000,\n",
       "        80000,  90000, 100000, 125000, 150000], dtype=int32)"
      ]
     },
     "metadata": {},
     "output_type": "display_data"
    },
    {
     "name": "stdout",
     "output_type": "stream",
     "text": [
      "столбец FuelType\n"
     ]
    },
    {
     "data": {
      "text/plain": [
       "array(['cng', 'electric', 'gasoline', 'hybrid', 'lpg', 'other', 'petrol',\n",
       "       'unknown'], dtype=object)"
      ]
     },
     "metadata": {},
     "output_type": "display_data"
    },
    {
     "name": "stdout",
     "output_type": "stream",
     "text": [
      "столбец NotRepaired\n"
     ]
    },
    {
     "data": {
      "text/plain": [
       "array(['no', 'yes'], dtype=object)"
      ]
     },
     "metadata": {},
     "output_type": "display_data"
    }
   ],
   "source": [
    "for i in df_car_work.columns:\n",
    "    colum_value=df_car_work[i].sort_values().unique() # Вывод всех уникальных значений  по столбцам\n",
    "    print('столбец',i)\n",
    "    display(colum_value)"
   ]
  },
  {
   "cell_type": "markdown",
   "metadata": {},
   "source": [
    "**Удаление пропусков улучшило ситуацию со странными значнениями, их стало значительно меньше.**"
   ]
  },
  {
   "cell_type": "code",
   "execution_count": 12,
   "metadata": {},
   "outputs": [
    {
     "data": {
      "text/plain": [
       "0        10772\n",
       "500       5670\n",
       "1500      5394\n",
       "1000      4648\n",
       "1200      4594\n",
       "         ...  \n",
       "13180        1\n",
       "10879        1\n",
       "2683         1\n",
       "634          1\n",
       "8188         1\n",
       "Name: Price, Length: 3731, dtype: int64"
      ]
     },
     "execution_count": 12,
     "metadata": {},
     "output_type": "execute_result"
    }
   ],
   "source": [
    "df_car_work['Price'].value_counts() "
   ]
  },
  {
   "cell_type": "markdown",
   "metadata": {},
   "source": [
    "**Сильно искажают данные 10772 машины со стоимистью 0, для обучения модели эти данные стоит удалить**"
   ]
  },
  {
   "cell_type": "code",
   "execution_count": 13,
   "metadata": {},
   "outputs": [
    {
     "data": {
      "text/plain": [
       "count    354365.000000\n",
       "mean       4416.679830\n",
       "std        4514.176349\n",
       "min           0.000000\n",
       "25%        1050.000000\n",
       "50%        2700.000000\n",
       "75%        6400.000000\n",
       "max       20000.000000\n",
       "Name: Price, dtype: float64"
      ]
     },
     "execution_count": 13,
     "metadata": {},
     "output_type": "execute_result"
    },
    {
     "data": {
      "image/png": "[encoded data removed]",
      "text/plain": [
       "<Figure size 1440x720 with 1 Axes>"
      ]
     },
     "metadata": {
      "needs_background": "light"
     },
     "output_type": "display_data"
    }
   ],
   "source": [
    "df_car_work['Price'].hist(bins=100, figsize=(20,10)) \n",
    "df_car_work['Price'].describe() "
   ]
  },
  {
   "cell_type": "markdown",
   "metadata": {},
   "source": [
    "**Столбец Price имеет достаточно много подозрительно низких цен, цен равных 0 или близких к этому значению не должно быть**"
   ]
  },
  {
   "cell_type": "code",
   "execution_count": 14,
   "metadata": {},
   "outputs": [
    {
     "name": "stdout",
     "output_type": "stream",
     "text": [
      "0.05      200.0\n",
      "1.00    20000.0\n",
      "Name: Price, dtype: float64\n"
     ]
    }
   ],
   "source": [
    "n1=len(df_car_work)\n",
    "hi_filter_price=1 # верхний порог фильтрации\n",
    "low_filter_price=0.05 # нижний порог фильтрации\n",
    "filter_price=df_car_work['Price'].quantile([low_filter_price, hi_filter_price]) # Выделим квантили\n",
    "print(filter_price)"
   ]
  },
  {
   "cell_type": "code",
   "execution_count": 15,
   "metadata": {},
   "outputs": [],
   "source": [
    "df_car_work = df_car_work.query('@filter_price[@low_filter_price]<= Price <= @filter_price[@hi_filter_price]') \n",
    "n2=len(df_car_work)"
   ]
  },
  {
   "cell_type": "code",
   "execution_count": 16,
   "metadata": {},
   "outputs": [
    {
     "name": "stdout",
     "output_type": "stream",
     "text": [
      "4.927687553793405\n"
     ]
    }
   ],
   "source": [
    "print(((n1-n2)/n1)*100) # Доля потерянных данных "
   ]
  },
  {
   "cell_type": "markdown",
   "metadata": {},
   "source": [
    "**Столбец Price теперь имеет адекватные значения**"
   ]
  },
  {
   "cell_type": "code",
   "execution_count": 17,
   "metadata": {},
   "outputs": [
    {
     "data": {
      "text/plain": [
       "Timestamp('2016-04-07 14:36:58')"
      ]
     },
     "execution_count": 17,
     "metadata": {},
     "output_type": "execute_result"
    }
   ],
   "source": [
    "date = pd.to_datetime(df_car['DateCrawled']) \n",
    "date.max()"
   ]
  },
  {
   "cell_type": "markdown",
   "metadata": {},
   "source": [
    "**Таким образом дата регистрации не может быть больше 2016 года**"
   ]
  },
  {
   "cell_type": "code",
   "execution_count": 18,
   "metadata": {
    "scrolled": true
   },
   "outputs": [
    {
     "data": {
      "image/png": "[encoded data removed]",
      "text/plain": [
       "<Figure size 1440x720 with 1 Axes>"
      ]
     },
     "metadata": {
      "needs_background": "light"
     },
     "output_type": "display_data"
    }
   ],
   "source": [
    "df_car_work['RegistrationYear'].hist(bins=50, figsize=(20,10))\n",
    "df_car_work['RegistrationYear'].describe()\n",
    "n1=len(df_car_work)"
   ]
  },
  {
   "cell_type": "markdown",
   "metadata": {},
   "source": [
    "**Распределение не вызывает ни каких сомнений, но если мы разрабатываем модель для оценки машин массового сегмента, то раритеты стоит отбросить, что бы не создавать больших ошибок при их оценке. Раритетом можно считать автомобиль возрастом более 40 лет**"
   ]
  },
  {
   "cell_type": "code",
   "execution_count": 19,
   "metadata": {},
   "outputs": [
    {
     "name": "stdout",
     "output_type": "stream",
     "text": [
      "4.688589890858793\n"
     ]
    }
   ],
   "source": [
    "df_car_work = df_car_work.query('1976 <= RegistrationYear <= 2016')\n",
    "n2=len(df_car_work)\n",
    "print(((n1-n2)/n1)*100) "
   ]
  },
  {
   "cell_type": "code",
   "execution_count": 20,
   "metadata": {},
   "outputs": [
    {
     "data": {
      "text/plain": [
       "count    321107.000000\n",
       "mean       2002.918653\n",
       "std           6.121751\n",
       "min        1976.000000\n",
       "25%        1999.000000\n",
       "50%        2003.000000\n",
       "75%        2007.000000\n",
       "max        2016.000000\n",
       "Name: RegistrationYear, dtype: float64"
      ]
     },
     "execution_count": 20,
     "metadata": {},
     "output_type": "execute_result"
    },
    {
     "data": {
      "image/png": "[encoded data removed]",
      "text/plain": [
       "<Figure size 1440x720 with 1 Axes>"
      ]
     },
     "metadata": {
      "needs_background": "light"
     },
     "output_type": "display_data"
    }
   ],
   "source": [
    "df_car_work['RegistrationYear'].hist(bins=30, figsize=(20,10))\n",
    "df_car_work['RegistrationYear'].describe()"
   ]
  },
  {
   "cell_type": "code",
   "execution_count": 21,
   "metadata": {},
   "outputs": [
    {
     "data": {
      "image/png": "[encoded data removed]",
      "text/plain": [
       "<Figure size 1440x720 with 1 Axes>"
      ]
     },
     "metadata": {
      "needs_background": "light"
     },
     "output_type": "display_data"
    }
   ],
   "source": [
    "df_car_work['Power'].hist(bins=10, figsize=(20,10))\n",
    "value=df_car_work['Power'].describe()"
   ]
  },
  {
   "cell_type": "markdown",
   "metadata": {},
   "source": [
    "**Распределение мощности автомобилей очень странное, есть авто с мощностью 0 и 20000 л.с.**"
   ]
  },
  {
   "cell_type": "code",
   "execution_count": 22,
   "metadata": {},
   "outputs": [
    {
     "data": {
      "text/plain": [
       "count    291018.000000\n",
       "mean        121.331986\n",
       "std          53.752828\n",
       "min          12.000000\n",
       "25%          80.000000\n",
       "50%         114.000000\n",
       "75%         150.000000\n",
       "max         651.000000\n",
       "Name: Power, dtype: float64"
      ]
     },
     "execution_count": 22,
     "metadata": {},
     "output_type": "execute_result"
    },
    {
     "data": {
      "image/png": "[encoded data removed]",
      "text/plain": [
       "<Figure size 1440x720 with 1 Axes>"
      ]
     },
     "metadata": {
      "needs_background": "light"
     },
     "output_type": "display_data"
    }
   ],
   "source": [
    "power_max=value['mean']+3*value['std'] #макс мощность\n",
    "power_min=value['mean']/10# мин мощность\n",
    "df_car_work = df_car_work.query('@power_min < Power <= @power_max') # Отфильтровали столбец по условию\n",
    "df_car_work['Power'].hist(bins=50, figsize=(20,10))\n",
    "df_car_work['Power'].describe()"
   ]
  },
  {
   "cell_type": "markdown",
   "metadata": {},
   "source": [
    "**Диапазон выбран из соображений статистики**"
   ]
  },
  {
   "cell_type": "code",
   "execution_count": 23,
   "metadata": {},
   "outputs": [
    {
     "name": "stdout",
     "output_type": "stream",
     "text": [
      "Доля пропусков в столбце ,%:\n",
      "Price               0.000000\n",
      "VehicleType         3.540331\n",
      "RegistrationYear    0.000000\n",
      "Gearbox             0.000000\n",
      "Power               0.000000\n",
      "Brand               0.000000\n",
      "Model               3.561979\n",
      "Kilometer           0.000000\n",
      "FuelType            0.000000\n",
      "NotRepaired         0.000000\n",
      "dtype: float64\n"
     ]
    }
   ],
   "source": [
    "print('Доля пропусков в столбце ,%:') \n",
    "rezul= df_car_work.isna().mean() * 100\n",
    "print(rezul)"
   ]
  },
  {
   "cell_type": "code",
   "execution_count": 24,
   "metadata": {},
   "outputs": [
    {
     "data": {
      "text/html": [
       "<div>\n",
       "<style scoped>\n",
       "    .dataframe tbody tr th:only-of-type {\n",
       "        vertical-align: middle;\n",
       "    }\n",
       "\n",
       "    .dataframe tbody tr th {\n",
       "        vertical-align: top;\n",
       "    }\n",
       "\n",
       "    .dataframe thead th {\n",
       "        text-align: right;\n",
       "    }\n",
       "</style>\n",
       "<table border=\"1\" class=\"dataframe\">\n",
       "  <thead>\n",
       "    <tr style=\"text-align: right;\">\n",
       "      <th></th>\n",
       "      <th>Price</th>\n",
       "      <th>VehicleType</th>\n",
       "      <th>RegistrationYear</th>\n",
       "      <th>Gearbox</th>\n",
       "      <th>Power</th>\n",
       "      <th>Brand</th>\n",
       "      <th>Model</th>\n",
       "      <th>Kilometer</th>\n",
       "      <th>FuelType</th>\n",
       "      <th>NotRepaired</th>\n",
       "    </tr>\n",
       "  </thead>\n",
       "  <tbody>\n",
       "    <tr>\n",
       "      <th>0</th>\n",
       "      <td>18300</td>\n",
       "      <td>coupe</td>\n",
       "      <td>2011</td>\n",
       "      <td>manual</td>\n",
       "      <td>190</td>\n",
       "      <td>audi</td>\n",
       "      <td>NaN</td>\n",
       "      <td>125000</td>\n",
       "      <td>gasoline</td>\n",
       "      <td>yes</td>\n",
       "    </tr>\n",
       "    <tr>\n",
       "      <th>1</th>\n",
       "      <td>9800</td>\n",
       "      <td>suv</td>\n",
       "      <td>2004</td>\n",
       "      <td>auto</td>\n",
       "      <td>163</td>\n",
       "      <td>jeep</td>\n",
       "      <td>grand</td>\n",
       "      <td>125000</td>\n",
       "      <td>gasoline</td>\n",
       "      <td>yes</td>\n",
       "    </tr>\n",
       "    <tr>\n",
       "      <th>2</th>\n",
       "      <td>1500</td>\n",
       "      <td>small</td>\n",
       "      <td>2001</td>\n",
       "      <td>manual</td>\n",
       "      <td>75</td>\n",
       "      <td>volkswagen</td>\n",
       "      <td>golf</td>\n",
       "      <td>150000</td>\n",
       "      <td>petrol</td>\n",
       "      <td>no</td>\n",
       "    </tr>\n",
       "    <tr>\n",
       "      <th>3</th>\n",
       "      <td>3600</td>\n",
       "      <td>small</td>\n",
       "      <td>2008</td>\n",
       "      <td>manual</td>\n",
       "      <td>69</td>\n",
       "      <td>skoda</td>\n",
       "      <td>fabia</td>\n",
       "      <td>90000</td>\n",
       "      <td>gasoline</td>\n",
       "      <td>no</td>\n",
       "    </tr>\n",
       "    <tr>\n",
       "      <th>4</th>\n",
       "      <td>650</td>\n",
       "      <td>sedan</td>\n",
       "      <td>1995</td>\n",
       "      <td>manual</td>\n",
       "      <td>102</td>\n",
       "      <td>bmw</td>\n",
       "      <td>3er</td>\n",
       "      <td>150000</td>\n",
       "      <td>petrol</td>\n",
       "      <td>yes</td>\n",
       "    </tr>\n",
       "    <tr>\n",
       "      <th>5</th>\n",
       "      <td>2200</td>\n",
       "      <td>convertible</td>\n",
       "      <td>2004</td>\n",
       "      <td>manual</td>\n",
       "      <td>109</td>\n",
       "      <td>peugeot</td>\n",
       "      <td>2_reihe</td>\n",
       "      <td>150000</td>\n",
       "      <td>petrol</td>\n",
       "      <td>no</td>\n",
       "    </tr>\n",
       "    <tr>\n",
       "      <th>6</th>\n",
       "      <td>14500</td>\n",
       "      <td>bus</td>\n",
       "      <td>2014</td>\n",
       "      <td>manual</td>\n",
       "      <td>125</td>\n",
       "      <td>ford</td>\n",
       "      <td>c_max</td>\n",
       "      <td>30000</td>\n",
       "      <td>petrol</td>\n",
       "      <td>yes</td>\n",
       "    </tr>\n",
       "    <tr>\n",
       "      <th>7</th>\n",
       "      <td>999</td>\n",
       "      <td>small</td>\n",
       "      <td>1998</td>\n",
       "      <td>manual</td>\n",
       "      <td>101</td>\n",
       "      <td>volkswagen</td>\n",
       "      <td>golf</td>\n",
       "      <td>150000</td>\n",
       "      <td>unknown</td>\n",
       "      <td>yes</td>\n",
       "    </tr>\n",
       "    <tr>\n",
       "      <th>8</th>\n",
       "      <td>2000</td>\n",
       "      <td>sedan</td>\n",
       "      <td>2004</td>\n",
       "      <td>manual</td>\n",
       "      <td>105</td>\n",
       "      <td>mazda</td>\n",
       "      <td>3_reihe</td>\n",
       "      <td>150000</td>\n",
       "      <td>petrol</td>\n",
       "      <td>no</td>\n",
       "    </tr>\n",
       "    <tr>\n",
       "      <th>9</th>\n",
       "      <td>2799</td>\n",
       "      <td>wagon</td>\n",
       "      <td>2005</td>\n",
       "      <td>manual</td>\n",
       "      <td>140</td>\n",
       "      <td>volkswagen</td>\n",
       "      <td>passat</td>\n",
       "      <td>150000</td>\n",
       "      <td>gasoline</td>\n",
       "      <td>yes</td>\n",
       "    </tr>\n",
       "    <tr>\n",
       "      <th>10</th>\n",
       "      <td>999</td>\n",
       "      <td>wagon</td>\n",
       "      <td>1995</td>\n",
       "      <td>manual</td>\n",
       "      <td>115</td>\n",
       "      <td>volkswagen</td>\n",
       "      <td>passat</td>\n",
       "      <td>150000</td>\n",
       "      <td>petrol</td>\n",
       "      <td>yes</td>\n",
       "    </tr>\n",
       "    <tr>\n",
       "      <th>11</th>\n",
       "      <td>2500</td>\n",
       "      <td>wagon</td>\n",
       "      <td>2004</td>\n",
       "      <td>manual</td>\n",
       "      <td>131</td>\n",
       "      <td>volkswagen</td>\n",
       "      <td>passat</td>\n",
       "      <td>150000</td>\n",
       "      <td>unknown</td>\n",
       "      <td>no</td>\n",
       "    </tr>\n",
       "    <tr>\n",
       "      <th>12</th>\n",
       "      <td>17999</td>\n",
       "      <td>suv</td>\n",
       "      <td>2011</td>\n",
       "      <td>manual</td>\n",
       "      <td>190</td>\n",
       "      <td>nissan</td>\n",
       "      <td>navara</td>\n",
       "      <td>70000</td>\n",
       "      <td>gasoline</td>\n",
       "      <td>no</td>\n",
       "    </tr>\n",
       "    <tr>\n",
       "      <th>13</th>\n",
       "      <td>300</td>\n",
       "      <td>NaN</td>\n",
       "      <td>2016</td>\n",
       "      <td>manual</td>\n",
       "      <td>60</td>\n",
       "      <td>volkswagen</td>\n",
       "      <td>polo</td>\n",
       "      <td>150000</td>\n",
       "      <td>petrol</td>\n",
       "      <td>yes</td>\n",
       "    </tr>\n",
       "    <tr>\n",
       "      <th>14</th>\n",
       "      <td>1750</td>\n",
       "      <td>small</td>\n",
       "      <td>2004</td>\n",
       "      <td>auto</td>\n",
       "      <td>75</td>\n",
       "      <td>renault</td>\n",
       "      <td>twingo</td>\n",
       "      <td>150000</td>\n",
       "      <td>petrol</td>\n",
       "      <td>no</td>\n",
       "    </tr>\n",
       "    <tr>\n",
       "      <th>15</th>\n",
       "      <td>7550</td>\n",
       "      <td>bus</td>\n",
       "      <td>2007</td>\n",
       "      <td>manual</td>\n",
       "      <td>136</td>\n",
       "      <td>ford</td>\n",
       "      <td>c_max</td>\n",
       "      <td>150000</td>\n",
       "      <td>gasoline</td>\n",
       "      <td>no</td>\n",
       "    </tr>\n",
       "    <tr>\n",
       "      <th>16</th>\n",
       "      <td>1850</td>\n",
       "      <td>bus</td>\n",
       "      <td>2004</td>\n",
       "      <td>manual</td>\n",
       "      <td>102</td>\n",
       "      <td>mercedes_benz</td>\n",
       "      <td>a_klasse</td>\n",
       "      <td>150000</td>\n",
       "      <td>petrol</td>\n",
       "      <td>no</td>\n",
       "    </tr>\n",
       "    <tr>\n",
       "      <th>17</th>\n",
       "      <td>10400</td>\n",
       "      <td>coupe</td>\n",
       "      <td>2009</td>\n",
       "      <td>manual</td>\n",
       "      <td>160</td>\n",
       "      <td>volkswagen</td>\n",
       "      <td>scirocco</td>\n",
       "      <td>100000</td>\n",
       "      <td>petrol</td>\n",
       "      <td>no</td>\n",
       "    </tr>\n",
       "    <tr>\n",
       "      <th>18</th>\n",
       "      <td>3699</td>\n",
       "      <td>sedan</td>\n",
       "      <td>2002</td>\n",
       "      <td>auto</td>\n",
       "      <td>231</td>\n",
       "      <td>bmw</td>\n",
       "      <td>5er</td>\n",
       "      <td>150000</td>\n",
       "      <td>petrol</td>\n",
       "      <td>no</td>\n",
       "    </tr>\n",
       "    <tr>\n",
       "      <th>19</th>\n",
       "      <td>450</td>\n",
       "      <td>small</td>\n",
       "      <td>1997</td>\n",
       "      <td>manual</td>\n",
       "      <td>50</td>\n",
       "      <td>seat</td>\n",
       "      <td>arosa</td>\n",
       "      <td>150000</td>\n",
       "      <td>petrol</td>\n",
       "      <td>no</td>\n",
       "    </tr>\n",
       "    <tr>\n",
       "      <th>20</th>\n",
       "      <td>500</td>\n",
       "      <td>sedan</td>\n",
       "      <td>1990</td>\n",
       "      <td>manual</td>\n",
       "      <td>118</td>\n",
       "      <td>mercedes_benz</td>\n",
       "      <td>other</td>\n",
       "      <td>150000</td>\n",
       "      <td>petrol</td>\n",
       "      <td>yes</td>\n",
       "    </tr>\n",
       "    <tr>\n",
       "      <th>21</th>\n",
       "      <td>2500</td>\n",
       "      <td>wagon</td>\n",
       "      <td>2002</td>\n",
       "      <td>auto</td>\n",
       "      <td>193</td>\n",
       "      <td>bmw</td>\n",
       "      <td>5er</td>\n",
       "      <td>150000</td>\n",
       "      <td>gasoline</td>\n",
       "      <td>yes</td>\n",
       "    </tr>\n",
       "    <tr>\n",
       "      <th>22</th>\n",
       "      <td>6900</td>\n",
       "      <td>sedan</td>\n",
       "      <td>2008</td>\n",
       "      <td>manual</td>\n",
       "      <td>99</td>\n",
       "      <td>honda</td>\n",
       "      <td>civic</td>\n",
       "      <td>60000</td>\n",
       "      <td>petrol</td>\n",
       "      <td>no</td>\n",
       "    </tr>\n",
       "    <tr>\n",
       "      <th>23</th>\n",
       "      <td>1990</td>\n",
       "      <td>bus</td>\n",
       "      <td>1981</td>\n",
       "      <td>manual</td>\n",
       "      <td>50</td>\n",
       "      <td>volkswagen</td>\n",
       "      <td>transporter</td>\n",
       "      <td>5000</td>\n",
       "      <td>petrol</td>\n",
       "      <td>no</td>\n",
       "    </tr>\n",
       "    <tr>\n",
       "      <th>24</th>\n",
       "      <td>690</td>\n",
       "      <td>small</td>\n",
       "      <td>2003</td>\n",
       "      <td>manual</td>\n",
       "      <td>60</td>\n",
       "      <td>fiat</td>\n",
       "      <td>punto</td>\n",
       "      <td>150000</td>\n",
       "      <td>petrol</td>\n",
       "      <td>no</td>\n",
       "    </tr>\n",
       "    <tr>\n",
       "      <th>25</th>\n",
       "      <td>3300</td>\n",
       "      <td>sedan</td>\n",
       "      <td>1995</td>\n",
       "      <td>auto</td>\n",
       "      <td>113</td>\n",
       "      <td>mercedes_benz</td>\n",
       "      <td>e_klasse</td>\n",
       "      <td>150000</td>\n",
       "      <td>gasoline</td>\n",
       "      <td>no</td>\n",
       "    </tr>\n",
       "    <tr>\n",
       "      <th>26</th>\n",
       "      <td>899</td>\n",
       "      <td>NaN</td>\n",
       "      <td>2016</td>\n",
       "      <td>manual</td>\n",
       "      <td>60</td>\n",
       "      <td>renault</td>\n",
       "      <td>clio</td>\n",
       "      <td>150000</td>\n",
       "      <td>petrol</td>\n",
       "      <td>yes</td>\n",
       "    </tr>\n",
       "    <tr>\n",
       "      <th>27</th>\n",
       "      <td>18000</td>\n",
       "      <td>sedan</td>\n",
       "      <td>2007</td>\n",
       "      <td>auto</td>\n",
       "      <td>218</td>\n",
       "      <td>bmw</td>\n",
       "      <td>3er</td>\n",
       "      <td>20000</td>\n",
       "      <td>petrol</td>\n",
       "      <td>no</td>\n",
       "    </tr>\n",
       "    <tr>\n",
       "      <th>28</th>\n",
       "      <td>3500</td>\n",
       "      <td>sedan</td>\n",
       "      <td>2004</td>\n",
       "      <td>auto</td>\n",
       "      <td>122</td>\n",
       "      <td>mercedes_benz</td>\n",
       "      <td>e_klasse</td>\n",
       "      <td>150000</td>\n",
       "      <td>gasoline</td>\n",
       "      <td>no</td>\n",
       "    </tr>\n",
       "    <tr>\n",
       "      <th>29</th>\n",
       "      <td>350</td>\n",
       "      <td>NaN</td>\n",
       "      <td>2016</td>\n",
       "      <td>manual</td>\n",
       "      <td>75</td>\n",
       "      <td>volkswagen</td>\n",
       "      <td>golf</td>\n",
       "      <td>150000</td>\n",
       "      <td>petrol</td>\n",
       "      <td>no</td>\n",
       "    </tr>\n",
       "  </tbody>\n",
       "</table>\n",
       "</div>"
      ],
      "text/plain": [
       "    Price  VehicleType  RegistrationYear Gearbox  Power          Brand  \\\n",
       "0   18300        coupe              2011  manual    190           audi   \n",
       "1    9800          suv              2004    auto    163           jeep   \n",
       "2    1500        small              2001  manual     75     volkswagen   \n",
       "3    3600        small              2008  manual     69          skoda   \n",
       "4     650        sedan              1995  manual    102            bmw   \n",
       "5    2200  convertible              2004  manual    109        peugeot   \n",
       "6   14500          bus              2014  manual    125           ford   \n",
       "7     999        small              1998  manual    101     volkswagen   \n",
       "8    2000        sedan              2004  manual    105          mazda   \n",
       "9    2799        wagon              2005  manual    140     volkswagen   \n",
       "10    999        wagon              1995  manual    115     volkswagen   \n",
       "11   2500        wagon              2004  manual    131     volkswagen   \n",
       "12  17999          suv              2011  manual    190         nissan   \n",
       "13    300          NaN              2016  manual     60     volkswagen   \n",
       "14   1750        small              2004    auto     75        renault   \n",
       "15   7550          bus              2007  manual    136           ford   \n",
       "16   1850          bus              2004  manual    102  mercedes_benz   \n",
       "17  10400        coupe              2009  manual    160     volkswagen   \n",
       "18   3699        sedan              2002    auto    231            bmw   \n",
       "19    450        small              1997  manual     50           seat   \n",
       "20    500        sedan              1990  manual    118  mercedes_benz   \n",
       "21   2500        wagon              2002    auto    193            bmw   \n",
       "22   6900        sedan              2008  manual     99          honda   \n",
       "23   1990          bus              1981  manual     50     volkswagen   \n",
       "24    690        small              2003  manual     60           fiat   \n",
       "25   3300        sedan              1995    auto    113  mercedes_benz   \n",
       "26    899          NaN              2016  manual     60        renault   \n",
       "27  18000        sedan              2007    auto    218            bmw   \n",
       "28   3500        sedan              2004    auto    122  mercedes_benz   \n",
       "29    350          NaN              2016  manual     75     volkswagen   \n",
       "\n",
       "          Model  Kilometer  FuelType NotRepaired  \n",
       "0           NaN     125000  gasoline         yes  \n",
       "1         grand     125000  gasoline         yes  \n",
       "2          golf     150000    petrol          no  \n",
       "3         fabia      90000  gasoline          no  \n",
       "4           3er     150000    petrol         yes  \n",
       "5       2_reihe     150000    petrol          no  \n",
       "6         c_max      30000    petrol         yes  \n",
       "7          golf     150000   unknown         yes  \n",
       "8       3_reihe     150000    petrol          no  \n",
       "9        passat     150000  gasoline         yes  \n",
       "10       passat     150000    petrol         yes  \n",
       "11       passat     150000   unknown          no  \n",
       "12       navara      70000  gasoline          no  \n",
       "13         polo     150000    petrol         yes  \n",
       "14       twingo     150000    petrol          no  \n",
       "15        c_max     150000  gasoline          no  \n",
       "16     a_klasse     150000    petrol          no  \n",
       "17     scirocco     100000    petrol          no  \n",
       "18          5er     150000    petrol          no  \n",
       "19        arosa     150000    petrol          no  \n",
       "20        other     150000    petrol         yes  \n",
       "21          5er     150000  gasoline         yes  \n",
       "22        civic      60000    petrol          no  \n",
       "23  transporter       5000    petrol          no  \n",
       "24        punto     150000    petrol          no  \n",
       "25     e_klasse     150000  gasoline          no  \n",
       "26         clio     150000    petrol         yes  \n",
       "27          3er      20000    petrol          no  \n",
       "28     e_klasse     150000  gasoline          no  \n",
       "29         golf     150000    petrol          no  "
      ]
     },
     "metadata": {},
     "output_type": "display_data"
    }
   ],
   "source": [
    "df_car_work=df_car_work.reset_index(drop=True)\n",
    "display(df_car_work.head(30))"
   ]
  },
  {
   "cell_type": "markdown",
   "metadata": {},
   "source": [
    "**заменим пропуски в столбце VehicleType на наиболее частое значение для бренда**"
   ]
  },
  {
   "cell_type": "code",
   "execution_count": 25,
   "metadata": {},
   "outputs": [],
   "source": [
    "def get_key(d, value): #поик ключа  по значению\n",
    "    for k, v in d.items():\n",
    "        if v == value:\n",
    "            return k"
   ]
  },
  {
   "cell_type": "code",
   "execution_count": 26,
   "metadata": {},
   "outputs": [],
   "source": [
    "df_car_work['VehicleType']= df_car_work['VehicleType'].fillna('No')\n",
    "\n",
    "df_value=df_car_work[['Brand','VehicleType']]\n",
    "brand=df_value['Brand'].unique()\n",
    "for ij in brand:\n",
    "    df_brand=df_value.query('Brand ==@ij') #срез по марке\n",
    "\n",
    "    brand_model=df_brand.groupby('VehicleType')['VehicleType'].count()\n",
    "    \n",
    "    brand_max=brand_model.max()\n",
    "    model=get_key(brand_model,brand_max)\n",
    "\n",
    "    for i in range(len(df_car_work)):\n",
    "        if df_car_work['Brand'][i]==ij:\n",
    "            if df_car_work['VehicleType'][i]=='No':\n",
    "   \n",
    "                df_car_work['VehicleType'][i]=model\n"
   ]
  },
  {
   "cell_type": "markdown",
   "metadata": {},
   "source": [
    "**заменим пропуски в столбце Model на наиболее частое значение для бренда**"
   ]
  },
  {
   "cell_type": "code",
   "execution_count": 27,
   "metadata": {},
   "outputs": [],
   "source": [
    "df_car_work['Model']= df_car_work['Model'].fillna('No')\n",
    "\n",
    "df_value=df_car_work[['Brand','Model']]\n",
    "brand=df_value['Brand'].unique()\n",
    "for ij in brand:\n",
    "    df_brand=df_value.query('Brand ==@ij') #срез по марке\n",
    "\n",
    "    brand_model=df_brand.groupby('Model')['Model'].count()\n",
    "\n",
    "    brand_max=brand_model.max()\n",
    "    model=get_key(brand_model,brand_max)\n",
    "\n",
    "    for i in range(len(df_car_work)):\n",
    "        if df_car_work['Brand'][i]==ij:\n",
    "            if df_car_work['Model'][i]=='No':\n",
    "            #print('y NaN')\n",
    "                df_car_work['Model'][i]=model"
   ]
  },
  {
   "cell_type": "code",
   "execution_count": 28,
   "metadata": {},
   "outputs": [
    {
     "name": "stdout",
     "output_type": "stream",
     "text": [
      "Доля пропусков в столбце ,%:\n",
      "Price               0.0\n",
      "VehicleType         0.0\n",
      "RegistrationYear    0.0\n",
      "Gearbox             0.0\n",
      "Power               0.0\n",
      "Brand               0.0\n",
      "Model               0.0\n",
      "Kilometer           0.0\n",
      "FuelType            0.0\n",
      "NotRepaired         0.0\n",
      "dtype: float64\n"
     ]
    }
   ],
   "source": [
    "print('Доля пропусков в столбце ,%:') \n",
    "rezul= df_car_work.isna().mean() * 100\n",
    "print(rezul)"
   ]
  },
  {
   "cell_type": "code",
   "execution_count": 29,
   "metadata": {},
   "outputs": [],
   "source": []
  },
  {
   "cell_type": "code",
   "execution_count": 30,
   "metadata": {},
   "outputs": [
    {
     "name": "stdout",
     "output_type": "stream",
     "text": [
      "Осталось данных от первоначального объема\n",
      "0.8212379890790569\n"
     ]
    }
   ],
   "source": [
    "print(\"Осталось данных от первоначального объема\")\n",
    "delta=1-(len(df_car)-len(df_car_work))/len(df_car)\n",
    "print(delta)\n"
   ]
  },
  {
   "cell_type": "markdown",
   "metadata": {},
   "source": [
    "## Обучение моделей"
   ]
  },
  {
   "cell_type": "markdown",
   "metadata": {},
   "source": [
    "Выберем следующие регрессоры для обучения модели:\n",
    "\n",
    "1. LinearRegression\n",
    "2. DecisionTreeRegressor\n",
    "3. CatBoostRegressor\n",
    "4. LGBMRegressor\n"
   ]
  },
  {
   "cell_type": "markdown",
   "metadata": {},
   "source": [
    "**Так как признаки Gearbox и NotRepaired бинарные, то их можно преобразовать в 0 и 1**"
   ]
  },
  {
   "cell_type": "code",
   "execution_count": 31,
   "metadata": {},
   "outputs": [],
   "source": [
    "df_car_work= pd.get_dummies(df_car_work, columns=['Gearbox', 'NotRepaired'],drop_first=True) # дамми преобразование"
   ]
  },
  {
   "cell_type": "code",
   "execution_count": 32,
   "metadata": {},
   "outputs": [
    {
     "data": {
      "text/html": [
       "<div>\n",
       "<style scoped>\n",
       "    .dataframe tbody tr th:only-of-type {\n",
       "        vertical-align: middle;\n",
       "    }\n",
       "\n",
       "    .dataframe tbody tr th {\n",
       "        vertical-align: top;\n",
       "    }\n",
       "\n",
       "    .dataframe thead th {\n",
       "        text-align: right;\n",
       "    }\n",
       "</style>\n",
       "<table border=\"1\" class=\"dataframe\">\n",
       "  <thead>\n",
       "    <tr style=\"text-align: right;\">\n",
       "      <th></th>\n",
       "      <th>Price</th>\n",
       "      <th>VehicleType</th>\n",
       "      <th>RegistrationYear</th>\n",
       "      <th>Power</th>\n",
       "      <th>Brand</th>\n",
       "      <th>Model</th>\n",
       "      <th>Kilometer</th>\n",
       "      <th>FuelType</th>\n",
       "      <th>Gearbox_manual</th>\n",
       "      <th>NotRepaired_yes</th>\n",
       "    </tr>\n",
       "  </thead>\n",
       "  <tbody>\n",
       "    <tr>\n",
       "      <th>0</th>\n",
       "      <td>18300</td>\n",
       "      <td>coupe</td>\n",
       "      <td>2011</td>\n",
       "      <td>190</td>\n",
       "      <td>audi</td>\n",
       "      <td>a4</td>\n",
       "      <td>125000</td>\n",
       "      <td>gasoline</td>\n",
       "      <td>1</td>\n",
       "      <td>1</td>\n",
       "    </tr>\n",
       "    <tr>\n",
       "      <th>1</th>\n",
       "      <td>9800</td>\n",
       "      <td>suv</td>\n",
       "      <td>2004</td>\n",
       "      <td>163</td>\n",
       "      <td>jeep</td>\n",
       "      <td>grand</td>\n",
       "      <td>125000</td>\n",
       "      <td>gasoline</td>\n",
       "      <td>0</td>\n",
       "      <td>1</td>\n",
       "    </tr>\n",
       "    <tr>\n",
       "      <th>2</th>\n",
       "      <td>1500</td>\n",
       "      <td>small</td>\n",
       "      <td>2001</td>\n",
       "      <td>75</td>\n",
       "      <td>volkswagen</td>\n",
       "      <td>golf</td>\n",
       "      <td>150000</td>\n",
       "      <td>petrol</td>\n",
       "      <td>1</td>\n",
       "      <td>0</td>\n",
       "    </tr>\n",
       "    <tr>\n",
       "      <th>3</th>\n",
       "      <td>3600</td>\n",
       "      <td>small</td>\n",
       "      <td>2008</td>\n",
       "      <td>69</td>\n",
       "      <td>skoda</td>\n",
       "      <td>fabia</td>\n",
       "      <td>90000</td>\n",
       "      <td>gasoline</td>\n",
       "      <td>1</td>\n",
       "      <td>0</td>\n",
       "    </tr>\n",
       "    <tr>\n",
       "      <th>4</th>\n",
       "      <td>650</td>\n",
       "      <td>sedan</td>\n",
       "      <td>1995</td>\n",
       "      <td>102</td>\n",
       "      <td>bmw</td>\n",
       "      <td>3er</td>\n",
       "      <td>150000</td>\n",
       "      <td>petrol</td>\n",
       "      <td>1</td>\n",
       "      <td>1</td>\n",
       "    </tr>\n",
       "    <tr>\n",
       "      <th>...</th>\n",
       "      <td>...</td>\n",
       "      <td>...</td>\n",
       "      <td>...</td>\n",
       "      <td>...</td>\n",
       "      <td>...</td>\n",
       "      <td>...</td>\n",
       "      <td>...</td>\n",
       "      <td>...</td>\n",
       "      <td>...</td>\n",
       "      <td>...</td>\n",
       "    </tr>\n",
       "    <tr>\n",
       "      <th>291013</th>\n",
       "      <td>5250</td>\n",
       "      <td>sedan</td>\n",
       "      <td>2016</td>\n",
       "      <td>150</td>\n",
       "      <td>alfa_romeo</td>\n",
       "      <td>159</td>\n",
       "      <td>150000</td>\n",
       "      <td>unknown</td>\n",
       "      <td>0</td>\n",
       "      <td>0</td>\n",
       "    </tr>\n",
       "    <tr>\n",
       "      <th>291014</th>\n",
       "      <td>3200</td>\n",
       "      <td>sedan</td>\n",
       "      <td>2004</td>\n",
       "      <td>225</td>\n",
       "      <td>seat</td>\n",
       "      <td>leon</td>\n",
       "      <td>150000</td>\n",
       "      <td>petrol</td>\n",
       "      <td>1</td>\n",
       "      <td>1</td>\n",
       "    </tr>\n",
       "    <tr>\n",
       "      <th>291015</th>\n",
       "      <td>1199</td>\n",
       "      <td>convertible</td>\n",
       "      <td>2000</td>\n",
       "      <td>101</td>\n",
       "      <td>smart</td>\n",
       "      <td>fortwo</td>\n",
       "      <td>125000</td>\n",
       "      <td>petrol</td>\n",
       "      <td>0</td>\n",
       "      <td>0</td>\n",
       "    </tr>\n",
       "    <tr>\n",
       "      <th>291016</th>\n",
       "      <td>9200</td>\n",
       "      <td>bus</td>\n",
       "      <td>1996</td>\n",
       "      <td>102</td>\n",
       "      <td>volkswagen</td>\n",
       "      <td>transporter</td>\n",
       "      <td>150000</td>\n",
       "      <td>gasoline</td>\n",
       "      <td>1</td>\n",
       "      <td>0</td>\n",
       "    </tr>\n",
       "    <tr>\n",
       "      <th>291017</th>\n",
       "      <td>3400</td>\n",
       "      <td>wagon</td>\n",
       "      <td>2002</td>\n",
       "      <td>100</td>\n",
       "      <td>volkswagen</td>\n",
       "      <td>golf</td>\n",
       "      <td>150000</td>\n",
       "      <td>gasoline</td>\n",
       "      <td>1</td>\n",
       "      <td>1</td>\n",
       "    </tr>\n",
       "  </tbody>\n",
       "</table>\n",
       "<p>291018 rows × 10 columns</p>\n",
       "</div>"
      ],
      "text/plain": [
       "        Price  VehicleType  RegistrationYear  Power       Brand        Model  \\\n",
       "0       18300        coupe              2011    190        audi           a4   \n",
       "1        9800          suv              2004    163        jeep        grand   \n",
       "2        1500        small              2001     75  volkswagen         golf   \n",
       "3        3600        small              2008     69       skoda        fabia   \n",
       "4         650        sedan              1995    102         bmw          3er   \n",
       "...       ...          ...               ...    ...         ...          ...   \n",
       "291013   5250        sedan              2016    150  alfa_romeo          159   \n",
       "291014   3200        sedan              2004    225        seat         leon   \n",
       "291015   1199  convertible              2000    101       smart       fortwo   \n",
       "291016   9200          bus              1996    102  volkswagen  transporter   \n",
       "291017   3400        wagon              2002    100  volkswagen         golf   \n",
       "\n",
       "        Kilometer  FuelType  Gearbox_manual  NotRepaired_yes  \n",
       "0          125000  gasoline               1                1  \n",
       "1          125000  gasoline               0                1  \n",
       "2          150000    petrol               1                0  \n",
       "3           90000  gasoline               1                0  \n",
       "4          150000    petrol               1                1  \n",
       "...           ...       ...             ...              ...  \n",
       "291013     150000   unknown               0                0  \n",
       "291014     150000    petrol               1                1  \n",
       "291015     125000    petrol               0                0  \n",
       "291016     150000  gasoline               1                0  \n",
       "291017     150000  gasoline               1                1  \n",
       "\n",
       "[291018 rows x 10 columns]"
      ]
     },
     "metadata": {},
     "output_type": "display_data"
    }
   ],
   "source": [
    "display(df_car_work)"
   ]
  },
  {
   "cell_type": "code",
   "execution_count": 33,
   "metadata": {},
   "outputs": [
    {
     "data": {
      "text/html": [
       "<div>\n",
       "<style scoped>\n",
       "    .dataframe tbody tr th:only-of-type {\n",
       "        vertical-align: middle;\n",
       "    }\n",
       "\n",
       "    .dataframe tbody tr th {\n",
       "        vertical-align: top;\n",
       "    }\n",
       "\n",
       "    .dataframe thead th {\n",
       "        text-align: right;\n",
       "    }\n",
       "</style>\n",
       "<table border=\"1\" class=\"dataframe\">\n",
       "  <thead>\n",
       "    <tr style=\"text-align: right;\">\n",
       "      <th></th>\n",
       "      <th>VehicleType</th>\n",
       "      <th>RegistrationYear</th>\n",
       "      <th>Power</th>\n",
       "      <th>Brand</th>\n",
       "      <th>Model</th>\n",
       "      <th>Kilometer</th>\n",
       "      <th>FuelType</th>\n",
       "      <th>Gearbox_manual</th>\n",
       "      <th>NotRepaired_yes</th>\n",
       "    </tr>\n",
       "  </thead>\n",
       "  <tbody>\n",
       "    <tr>\n",
       "      <th>0</th>\n",
       "      <td>coupe</td>\n",
       "      <td>2011</td>\n",
       "      <td>190</td>\n",
       "      <td>audi</td>\n",
       "      <td>a4</td>\n",
       "      <td>125000</td>\n",
       "      <td>gasoline</td>\n",
       "      <td>1</td>\n",
       "      <td>1</td>\n",
       "    </tr>\n",
       "    <tr>\n",
       "      <th>1</th>\n",
       "      <td>suv</td>\n",
       "      <td>2004</td>\n",
       "      <td>163</td>\n",
       "      <td>jeep</td>\n",
       "      <td>grand</td>\n",
       "      <td>125000</td>\n",
       "      <td>gasoline</td>\n",
       "      <td>0</td>\n",
       "      <td>1</td>\n",
       "    </tr>\n",
       "    <tr>\n",
       "      <th>2</th>\n",
       "      <td>small</td>\n",
       "      <td>2001</td>\n",
       "      <td>75</td>\n",
       "      <td>volkswagen</td>\n",
       "      <td>golf</td>\n",
       "      <td>150000</td>\n",
       "      <td>petrol</td>\n",
       "      <td>1</td>\n",
       "      <td>0</td>\n",
       "    </tr>\n",
       "    <tr>\n",
       "      <th>3</th>\n",
       "      <td>small</td>\n",
       "      <td>2008</td>\n",
       "      <td>69</td>\n",
       "      <td>skoda</td>\n",
       "      <td>fabia</td>\n",
       "      <td>90000</td>\n",
       "      <td>gasoline</td>\n",
       "      <td>1</td>\n",
       "      <td>0</td>\n",
       "    </tr>\n",
       "    <tr>\n",
       "      <th>4</th>\n",
       "      <td>sedan</td>\n",
       "      <td>1995</td>\n",
       "      <td>102</td>\n",
       "      <td>bmw</td>\n",
       "      <td>3er</td>\n",
       "      <td>150000</td>\n",
       "      <td>petrol</td>\n",
       "      <td>1</td>\n",
       "      <td>1</td>\n",
       "    </tr>\n",
       "    <tr>\n",
       "      <th>5</th>\n",
       "      <td>convertible</td>\n",
       "      <td>2004</td>\n",
       "      <td>109</td>\n",
       "      <td>peugeot</td>\n",
       "      <td>2_reihe</td>\n",
       "      <td>150000</td>\n",
       "      <td>petrol</td>\n",
       "      <td>1</td>\n",
       "      <td>0</td>\n",
       "    </tr>\n",
       "    <tr>\n",
       "      <th>6</th>\n",
       "      <td>bus</td>\n",
       "      <td>2014</td>\n",
       "      <td>125</td>\n",
       "      <td>ford</td>\n",
       "      <td>c_max</td>\n",
       "      <td>30000</td>\n",
       "      <td>petrol</td>\n",
       "      <td>1</td>\n",
       "      <td>1</td>\n",
       "    </tr>\n",
       "    <tr>\n",
       "      <th>7</th>\n",
       "      <td>small</td>\n",
       "      <td>1998</td>\n",
       "      <td>101</td>\n",
       "      <td>volkswagen</td>\n",
       "      <td>golf</td>\n",
       "      <td>150000</td>\n",
       "      <td>unknown</td>\n",
       "      <td>1</td>\n",
       "      <td>1</td>\n",
       "    </tr>\n",
       "    <tr>\n",
       "      <th>8</th>\n",
       "      <td>sedan</td>\n",
       "      <td>2004</td>\n",
       "      <td>105</td>\n",
       "      <td>mazda</td>\n",
       "      <td>3_reihe</td>\n",
       "      <td>150000</td>\n",
       "      <td>petrol</td>\n",
       "      <td>1</td>\n",
       "      <td>0</td>\n",
       "    </tr>\n",
       "    <tr>\n",
       "      <th>9</th>\n",
       "      <td>wagon</td>\n",
       "      <td>2005</td>\n",
       "      <td>140</td>\n",
       "      <td>volkswagen</td>\n",
       "      <td>passat</td>\n",
       "      <td>150000</td>\n",
       "      <td>gasoline</td>\n",
       "      <td>1</td>\n",
       "      <td>1</td>\n",
       "    </tr>\n",
       "  </tbody>\n",
       "</table>\n",
       "</div>"
      ],
      "text/plain": [
       "   VehicleType  RegistrationYear  Power       Brand    Model  Kilometer  \\\n",
       "0        coupe              2011    190        audi       a4     125000   \n",
       "1          suv              2004    163        jeep    grand     125000   \n",
       "2        small              2001     75  volkswagen     golf     150000   \n",
       "3        small              2008     69       skoda    fabia      90000   \n",
       "4        sedan              1995    102         bmw      3er     150000   \n",
       "5  convertible              2004    109     peugeot  2_reihe     150000   \n",
       "6          bus              2014    125        ford    c_max      30000   \n",
       "7        small              1998    101  volkswagen     golf     150000   \n",
       "8        sedan              2004    105       mazda  3_reihe     150000   \n",
       "9        wagon              2005    140  volkswagen   passat     150000   \n",
       "\n",
       "   FuelType  Gearbox_manual  NotRepaired_yes  \n",
       "0  gasoline               1                1  \n",
       "1  gasoline               0                1  \n",
       "2    petrol               1                0  \n",
       "3  gasoline               1                0  \n",
       "4    petrol               1                1  \n",
       "5    petrol               1                0  \n",
       "6    petrol               1                1  \n",
       "7   unknown               1                1  \n",
       "8    petrol               1                0  \n",
       "9  gasoline               1                1  "
      ]
     },
     "metadata": {},
     "output_type": "display_data"
    }
   ],
   "source": [
    "\n",
    "features= df_car_work.drop('Price', axis=1)\n",
    "\n",
    "target =df_car_work['Price']\n",
    "display(features.head(10)) "
   ]
  },
  {
   "cell_type": "code",
   "execution_count": 34,
   "metadata": {},
   "outputs": [],
   "source": [
    "# разделяем на выборку для обучения и тестирования, 25% данных для валидации (теста)\n",
    "features_train_OE, features_test_OE, target_train_OE, target_test_OE = train_test_split(features, target, test_size=0.25, random_state=2504)"
   ]
  },
  {
   "cell_type": "code",
   "execution_count": 35,
   "metadata": {},
   "outputs": [
    {
     "data": {
      "text/html": [
       "<div>\n",
       "<style scoped>\n",
       "    .dataframe tbody tr th:only-of-type {\n",
       "        vertical-align: middle;\n",
       "    }\n",
       "\n",
       "    .dataframe tbody tr th {\n",
       "        vertical-align: top;\n",
       "    }\n",
       "\n",
       "    .dataframe thead th {\n",
       "        text-align: right;\n",
       "    }\n",
       "</style>\n",
       "<table border=\"1\" class=\"dataframe\">\n",
       "  <thead>\n",
       "    <tr style=\"text-align: right;\">\n",
       "      <th></th>\n",
       "      <th>VehicleType</th>\n",
       "      <th>RegistrationYear</th>\n",
       "      <th>Power</th>\n",
       "      <th>Brand</th>\n",
       "      <th>Model</th>\n",
       "      <th>Kilometer</th>\n",
       "      <th>FuelType</th>\n",
       "      <th>Gearbox_manual</th>\n",
       "      <th>NotRepaired_yes</th>\n",
       "    </tr>\n",
       "  </thead>\n",
       "  <tbody>\n",
       "    <tr>\n",
       "      <th>62989</th>\n",
       "      <td>4.0</td>\n",
       "      <td>1994</td>\n",
       "      <td>60</td>\n",
       "      <td>38.0</td>\n",
       "      <td>174.0</td>\n",
       "      <td>150000</td>\n",
       "      <td>6.0</td>\n",
       "      <td>1</td>\n",
       "      <td>0</td>\n",
       "    </tr>\n",
       "    <tr>\n",
       "      <th>174452</th>\n",
       "      <td>5.0</td>\n",
       "      <td>2001</td>\n",
       "      <td>60</td>\n",
       "      <td>23.0</td>\n",
       "      <td>152.0</td>\n",
       "      <td>150000</td>\n",
       "      <td>6.0</td>\n",
       "      <td>1</td>\n",
       "      <td>1</td>\n",
       "    </tr>\n",
       "    <tr>\n",
       "      <th>207462</th>\n",
       "      <td>5.0</td>\n",
       "      <td>2010</td>\n",
       "      <td>68</td>\n",
       "      <td>36.0</td>\n",
       "      <td>47.0</td>\n",
       "      <td>70000</td>\n",
       "      <td>6.0</td>\n",
       "      <td>1</td>\n",
       "      <td>0</td>\n",
       "    </tr>\n",
       "    <tr>\n",
       "      <th>92669</th>\n",
       "      <td>4.0</td>\n",
       "      <td>1999</td>\n",
       "      <td>75</td>\n",
       "      <td>38.0</td>\n",
       "      <td>117.0</td>\n",
       "      <td>150000</td>\n",
       "      <td>6.0</td>\n",
       "      <td>1</td>\n",
       "      <td>0</td>\n",
       "    </tr>\n",
       "    <tr>\n",
       "      <th>97574</th>\n",
       "      <td>4.0</td>\n",
       "      <td>1999</td>\n",
       "      <td>75</td>\n",
       "      <td>24.0</td>\n",
       "      <td>43.0</td>\n",
       "      <td>150000</td>\n",
       "      <td>6.0</td>\n",
       "      <td>1</td>\n",
       "      <td>0</td>\n",
       "    </tr>\n",
       "    <tr>\n",
       "      <th>65307</th>\n",
       "      <td>4.0</td>\n",
       "      <td>2007</td>\n",
       "      <td>163</td>\n",
       "      <td>2.0</td>\n",
       "      <td>11.0</td>\n",
       "      <td>150000</td>\n",
       "      <td>2.0</td>\n",
       "      <td>0</td>\n",
       "      <td>0</td>\n",
       "    </tr>\n",
       "    <tr>\n",
       "      <th>187437</th>\n",
       "      <td>1.0</td>\n",
       "      <td>1995</td>\n",
       "      <td>75</td>\n",
       "      <td>24.0</td>\n",
       "      <td>43.0</td>\n",
       "      <td>150000</td>\n",
       "      <td>7.0</td>\n",
       "      <td>1</td>\n",
       "      <td>0</td>\n",
       "    </tr>\n",
       "    <tr>\n",
       "      <th>119263</th>\n",
       "      <td>4.0</td>\n",
       "      <td>2003</td>\n",
       "      <td>116</td>\n",
       "      <td>20.0</td>\n",
       "      <td>60.0</td>\n",
       "      <td>150000</td>\n",
       "      <td>2.0</td>\n",
       "      <td>1</td>\n",
       "      <td>1</td>\n",
       "    </tr>\n",
       "    <tr>\n",
       "      <th>21468</th>\n",
       "      <td>7.0</td>\n",
       "      <td>2012</td>\n",
       "      <td>140</td>\n",
       "      <td>38.0</td>\n",
       "      <td>171.0</td>\n",
       "      <td>150000</td>\n",
       "      <td>2.0</td>\n",
       "      <td>0</td>\n",
       "      <td>0</td>\n",
       "    </tr>\n",
       "    <tr>\n",
       "      <th>95519</th>\n",
       "      <td>4.0</td>\n",
       "      <td>2003</td>\n",
       "      <td>102</td>\n",
       "      <td>38.0</td>\n",
       "      <td>117.0</td>\n",
       "      <td>150000</td>\n",
       "      <td>6.0</td>\n",
       "      <td>0</td>\n",
       "      <td>0</td>\n",
       "    </tr>\n",
       "  </tbody>\n",
       "</table>\n",
       "</div>"
      ],
      "text/plain": [
       "        VehicleType  RegistrationYear  Power  Brand  Model  Kilometer  \\\n",
       "62989           4.0              1994     60   38.0  174.0     150000   \n",
       "174452          5.0              2001     60   23.0  152.0     150000   \n",
       "207462          5.0              2010     68   36.0   47.0      70000   \n",
       "92669           4.0              1999     75   38.0  117.0     150000   \n",
       "97574           4.0              1999     75   24.0   43.0     150000   \n",
       "65307           4.0              2007    163    2.0   11.0     150000   \n",
       "187437          1.0              1995     75   24.0   43.0     150000   \n",
       "119263          4.0              2003    116   20.0   60.0     150000   \n",
       "21468           7.0              2012    140   38.0  171.0     150000   \n",
       "95519           4.0              2003    102   38.0  117.0     150000   \n",
       "\n",
       "        FuelType  Gearbox_manual  NotRepaired_yes  \n",
       "62989        6.0               1                0  \n",
       "174452       6.0               1                1  \n",
       "207462       6.0               1                0  \n",
       "92669        6.0               1                0  \n",
       "97574        6.0               1                0  \n",
       "65307        2.0               0                0  \n",
       "187437       7.0               1                0  \n",
       "119263       2.0               1                1  \n",
       "21468        2.0               0                0  \n",
       "95519        6.0               0                0  "
      ]
     },
     "metadata": {},
     "output_type": "display_data"
    }
   ],
   "source": [
    "categorii_columns = ['VehicleType','Brand','Model','FuelType']  #Категориальные признаки \n",
    "encoder = OrdinalEncoder() #Порядковое кодирование\n",
    "features_train_OE[categorii_columns]=encoder.fit_transform(features_train_OE[categorii_columns]) # шифруем категориальные признаки\n",
    "features_test_OE[categorii_columns]=encoder.transform(features_test_OE[categorii_columns])\n",
    "display(features_train_OE.head(10))"
   ]
  },
  {
   "cell_type": "markdown",
   "metadata": {},
   "source": [
    "### Линейная регрессия"
   ]
  },
  {
   "cell_type": "code",
   "execution_count": 37,
   "metadata": {},
   "outputs": [],
   "source": [
    "# Так как для линейной регрессии не подходит порядковое кодирование признаков используем прямое кодирование (OHE )\n",
    "ohe_features = pd.get_dummies(features, drop_first=True)\n",
    "# разделяем на выборку для обучения и тестирования, 25% данных для валидации (теста)\n",
    "features_train_OHE, features_test_OHE, target_train_OHE, target_test_OHE = train_test_split(ohe_features, target, test_size=0.25, random_state=2504)\n"
   ]
  },
  {
   "cell_type": "code",
   "execution_count": 87,
   "metadata": {},
   "outputs": [
    {
     "name": "stdout",
     "output_type": "stream",
     "text": [
      "Cреднеквадратичная ошибка RMSE при кросс валидации = 2.494e+03\n",
      "CPU times: user 1min 1s, sys: 1min 14s, total: 2min 15s\n",
      "Wall time: 2min 16s\n"
     ]
    }
   ],
   "source": [
    "%%time\n",
    "model_line = LinearRegression()\n",
    "line_regess_CVS = (cross_val_score(model_line, \n",
    "                             features_train_OHE, \n",
    "                             target_train_OHE, \n",
    "                             cv=5, \n",
    "                             scoring='neg_mean_squared_error'))\n",
    "                            \n",
    "result_1=math.sqrt(-line_regess_CVS.mean())\n",
    "print(f'Cреднеквадратичная ошибка RMSE при кросс валидации = {result_1:.4}') "
   ]
  },
  {
   "cell_type": "markdown",
   "metadata": {},
   "source": [
    "### Модель, дерево решений"
   ]
  },
  {
   "cell_type": "markdown",
   "metadata": {},
   "source": [
    "**Порядковое кодирование признаков**"
   ]
  },
  {
   "cell_type": "code",
   "execution_count": 88,
   "metadata": {
    "scrolled": false
   },
   "outputs": [
    {
     "name": "stdout",
     "output_type": "stream",
     "text": [
      "Cреднеквадратичная ошибка RMSE при кросс валидации\n",
      "3625.108387 for {'criterion': 'mse', 'max_depth': 1, 'random_state': 2504}\n",
      "3152.929954 for {'criterion': 'mse', 'max_depth': 2, 'random_state': 2504}\n",
      "2878.260040 for {'criterion': 'mse', 'max_depth': 3, 'random_state': 2504}\n",
      "2557.345993 for {'criterion': 'mse', 'max_depth': 4, 'random_state': 2504}\n",
      "2381.214588 for {'criterion': 'mse', 'max_depth': 5, 'random_state': 2504}\n",
      "2240.768924 for {'criterion': 'mse', 'max_depth': 6, 'random_state': 2504}\n",
      "2136.670499 for {'criterion': 'mse', 'max_depth': 7, 'random_state': 2504}\n",
      "2051.742359 for {'criterion': 'mse', 'max_depth': 8, 'random_state': 2504}\n",
      "1995.066849 for {'criterion': 'mse', 'max_depth': 9, 'random_state': 2504}\n",
      "1940.650277 for {'criterion': 'mse', 'max_depth': 10, 'random_state': 2504}\n",
      "1899.665998 for {'criterion': 'mse', 'max_depth': 11, 'random_state': 2504}\n",
      "1867.445986 for {'criterion': 'mse', 'max_depth': 12, 'random_state': 2504}\n",
      "1856.670242 for {'criterion': 'mse', 'max_depth': 13, 'random_state': 2504}\n",
      "1850.225448 for {'criterion': 'mse', 'max_depth': 14, 'random_state': 2504}\n",
      "1855.011729 for {'criterion': 'mse', 'max_depth': 15, 'random_state': 2504}\n",
      "1860.700827 for {'criterion': 'mse', 'max_depth': 16, 'random_state': 2504}\n",
      "1870.088327 for {'criterion': 'mse', 'max_depth': 17, 'random_state': 2504}\n",
      "1884.050851 for {'criterion': 'mse', 'max_depth': 18, 'random_state': 2504}\n",
      "1895.421847 for {'criterion': 'mse', 'max_depth': 19, 'random_state': 2504}\n",
      "1905.631419 for {'criterion': 'mse', 'max_depth': 20, 'random_state': 2504}\n",
      "1915.370992 for {'criterion': 'mse', 'max_depth': 21, 'random_state': 2504}\n",
      "1916.647096 for {'criterion': 'mse', 'max_depth': 22, 'random_state': 2504}\n",
      "1921.739856 for {'criterion': 'mse', 'max_depth': 23, 'random_state': 2504}\n",
      "1922.628856 for {'criterion': 'mse', 'max_depth': 24, 'random_state': 2504}\n",
      "1921.244040 for {'criterion': 'mse', 'max_depth': 25, 'random_state': 2504}\n",
      "1926.272356 for {'criterion': 'mse', 'max_depth': 26, 'random_state': 2504}\n",
      "1927.864938 for {'criterion': 'mse', 'max_depth': 27, 'random_state': 2504}\n",
      "1932.453696 for {'criterion': 'mse', 'max_depth': 28, 'random_state': 2504}\n",
      "1930.017072 for {'criterion': 'mse', 'max_depth': 29, 'random_state': 2504}\n",
      "\n",
      "Наилучшие найденые параметры:\n",
      "\n",
      "{'criterion': 'mse', 'max_depth': 14, 'random_state': 2504}\n",
      "CPU times: user 52.3 s, sys: 0 ns, total: 52.3 s\n",
      "Wall time: 52.6 s\n"
     ]
    }
   ],
   "source": [
    "%%time\n",
    "model_DTR = DecisionTreeRegressor() # модель\n",
    "parametrs=[{ \n",
    "    'max_depth':range(1,30,1),  \n",
    "    'criterion':['mse'],  \n",
    "    'random_state':[2504] \n",
    "}]\n",
    "search_best_param=GridSearchCV(model_DTR, \n",
    "                               parametrs, \n",
    "                                cv=5, \n",
    "                               scoring='neg_mean_squared_error') \n",
    "search_best_param.fit(features_train_OE,  target_train_OE) \n",
    "print('Cреднеквадратичная ошибка RMSE при кросс валидации')\n",
    "means =search_best_param.cv_results_['mean_test_score']\n",
    "stds = search_best_param.cv_results_['std_test_score']\n",
    "for mean, std, params in zip(means, stds, search_best_param.cv_results_['params']):\n",
    "    print(\"%0.6f for %r\"% ((mean*-1)** 0.5, params))\n",
    "print()\n",
    "print(\"Наилучшие найденые параметры:\")\n",
    "print()\n",
    "print(search_best_param.best_params_)\n"
   ]
  },
  {
   "cell_type": "markdown",
   "metadata": {},
   "source": [
    "**Прямое кодирование (OHE ) признаков**"
   ]
  },
  {
   "cell_type": "code",
   "execution_count": 89,
   "metadata": {},
   "outputs": [
    {
     "name": "stdout",
     "output_type": "stream",
     "text": [
      "Cреднеквадратичная ошибка RMSE при кросс валидации\n",
      "3625.108387 for {'criterion': 'mse', 'max_depth': 1, 'random_state': 2504}\n",
      "3152.929954 for {'criterion': 'mse', 'max_depth': 2, 'random_state': 2504}\n",
      "2878.260040 for {'criterion': 'mse', 'max_depth': 3, 'random_state': 2504}\n",
      "2559.662066 for {'criterion': 'mse', 'max_depth': 4, 'random_state': 2504}\n",
      "2386.294542 for {'criterion': 'mse', 'max_depth': 5, 'random_state': 2504}\n",
      "2237.626427 for {'criterion': 'mse', 'max_depth': 6, 'random_state': 2504}\n",
      "2137.699070 for {'criterion': 'mse', 'max_depth': 7, 'random_state': 2504}\n",
      "2058.388056 for {'criterion': 'mse', 'max_depth': 8, 'random_state': 2504}\n",
      "2001.258007 for {'criterion': 'mse', 'max_depth': 9, 'random_state': 2504}\n",
      "1948.566157 for {'criterion': 'mse', 'max_depth': 10, 'random_state': 2504}\n",
      "1905.154734 for {'criterion': 'mse', 'max_depth': 11, 'random_state': 2504}\n",
      "1873.738509 for {'criterion': 'mse', 'max_depth': 12, 'random_state': 2504}\n",
      "1853.352304 for {'criterion': 'mse', 'max_depth': 13, 'random_state': 2504}\n",
      "1833.631827 for {'criterion': 'mse', 'max_depth': 14, 'random_state': 2504}\n",
      "1826.168399 for {'criterion': 'mse', 'max_depth': 15, 'random_state': 2504}\n",
      "1821.765858 for {'criterion': 'mse', 'max_depth': 16, 'random_state': 2504}\n",
      "1824.707482 for {'criterion': 'mse', 'max_depth': 17, 'random_state': 2504}\n",
      "1825.667332 for {'criterion': 'mse', 'max_depth': 18, 'random_state': 2504}\n",
      "1827.668390 for {'criterion': 'mse', 'max_depth': 19, 'random_state': 2504}\n",
      "1833.743974 for {'criterion': 'mse', 'max_depth': 20, 'random_state': 2504}\n",
      "1832.362914 for {'criterion': 'mse', 'max_depth': 21, 'random_state': 2504}\n",
      "1837.398049 for {'criterion': 'mse', 'max_depth': 22, 'random_state': 2504}\n",
      "1841.329922 for {'criterion': 'mse', 'max_depth': 23, 'random_state': 2504}\n",
      "1845.858749 for {'criterion': 'mse', 'max_depth': 24, 'random_state': 2504}\n",
      "1848.017513 for {'criterion': 'mse', 'max_depth': 25, 'random_state': 2504}\n",
      "1852.893644 for {'criterion': 'mse', 'max_depth': 26, 'random_state': 2504}\n",
      "1850.026615 for {'criterion': 'mse', 'max_depth': 27, 'random_state': 2504}\n",
      "1856.900010 for {'criterion': 'mse', 'max_depth': 28, 'random_state': 2504}\n",
      "1859.538433 for {'criterion': 'mse', 'max_depth': 29, 'random_state': 2504}\n",
      "\n",
      "Наилучшие найденые параметры:\n",
      "\n",
      "{'criterion': 'mse', 'max_depth': 16, 'random_state': 2504}\n",
      "CPU times: user 8min 10s, sys: 25 s, total: 8min 35s\n",
      "Wall time: 8min 36s\n"
     ]
    }
   ],
   "source": [
    " %%time\n",
    "model_DTR = DecisionTreeRegressor() # модель\n",
    "parametrs=[{ \n",
    "    'max_depth':range(1,30,1),  \n",
    "    'criterion':['mse'],  \n",
    "    'random_state':[2504] \n",
    "}]\n",
    "search_best_param=GridSearchCV(model_DTR,  \n",
    "                               parametrs, \n",
    "                                cv=5, \n",
    "                               scoring='neg_mean_squared_error')  \n",
    "search_best_param.fit(features_train_OHE,  target_train_OHE) \n",
    "print('Cреднеквадратичная ошибка RMSE при кросс валидации')\n",
    "means =search_best_param.cv_results_['mean_test_score']\n",
    "stds = search_best_param.cv_results_['std_test_score']\n",
    "for mean, std, params in zip(means, stds, search_best_param.cv_results_['params']):\n",
    "    print(\"%0.6f for %r\"% ((mean*-1)** 0.5, params))\n",
    "print()\n",
    "print(\"Наилучшие найденые параметры:\")\n",
    "print()\n",
    "print(search_best_param.best_params_)"
   ]
  },
  {
   "cell_type": "markdown",
   "metadata": {},
   "source": [
    "**Вывод  модель дерева решений для OE и OHE  замены категориальных признаков имют RMSE очень близкое и лучший результат при глубине дерева 14 и 16 соответственно. Обе модели достигли показателя RMSE в 1859 и 1821 соответственно**"
   ]
  },
  {
   "cell_type": "markdown",
   "metadata": {},
   "source": [
    "### Модель,  CatBoostRegressor регрессия"
   ]
  },
  {
   "cell_type": "markdown",
   "metadata": {},
   "source": [
    "**Так как CatBoost позволяет не преобразовывать категориальные признаки, будем использовать не преобразованные данные**"
   ]
  },
  {
   "cell_type": "code",
   "execution_count": 41,
   "metadata": {},
   "outputs": [],
   "source": [
    "# разделяем на выборку для обучения и тестирования, 25% данных для валидации (теста)\n",
    "features_train_original, features_test_original, target_train_original, target_test_original = train_test_split(features, target, test_size=0.25, random_state=2504)"
   ]
  },
  {
   "cell_type": "code",
   "execution_count": 42,
   "metadata": {},
   "outputs": [
    {
     "name": "stdout",
     "output_type": "stream",
     "text": [
      "CPU times: user 5min 28s, sys: 1.32 s, total: 5min 29s\n",
      "Wall time: 5min 42s\n"
     ]
    },
    {
     "data": {
      "text/plain": [
       "GridSearchCV(estimator=<catboost.core.CatBoostRegressor object at 0x7f0ddfbf8d30>,\n",
       "             param_grid=[{'cat_features': [['VehicleType', 'Brand', 'Model',\n",
       "                                            'FuelType']],\n",
       "                          'depth': [5], 'iterations': [200],\n",
       "                          'learning_rate': [0.3, 0.5, 0.7],\n",
       "                          'random_state': [2504], 'verbose': [False]}],\n",
       "             scoring='neg_mean_squared_error')"
      ]
     },
     "execution_count": 42,
     "metadata": {},
     "output_type": "execute_result"
    }
   ],
   "source": [
    "%%time\n",
    "model_CatBR = CatBoostRegressor()\n",
    "parametrs=[{'learning_rate':[0.3,0.5,0.7], \n",
    "                              'iterations': [200], \n",
    "                              'depth': [5], \n",
    "                              'random_state':[2504], \n",
    "                              'verbose':[False], \n",
    "                              'cat_features':[categorii_columns]}] \n",
    "search_best_param_CatBR=GridSearchCV(model_CatBR,parametrs,scoring='neg_mean_squared_error')\n",
    "search_best_param_CatBR.fit(features_train_original, \n",
    "                                target_train_original) "
   ]
  },
  {
   "cell_type": "code",
   "execution_count": 43,
   "metadata": {},
   "outputs": [
    {
     "name": "stdout",
     "output_type": "stream",
     "text": [
      "[{'cat_features': ['VehicleType', 'Brand', 'Model', 'FuelType'], 'depth': 5, 'iterations': 200, 'learning_rate': 0.3, 'random_state': 2504, 'verbose': False}, {'cat_features': ['VehicleType', 'Brand', 'Model', 'FuelType'], 'depth': 5, 'iterations': 200, 'learning_rate': 0.5, 'random_state': 2504, 'verbose': False}, {'cat_features': ['VehicleType', 'Brand', 'Model', 'FuelType'], 'depth': 5, 'iterations': 200, 'learning_rate': 0.7, 'random_state': 2504, 'verbose': False}]\n"
     ]
    }
   ],
   "source": [
    "print(search_best_param_CatBR.cv_results_['params'])"
   ]
  },
  {
   "cell_type": "code",
   "execution_count": 44,
   "metadata": {},
   "outputs": [
    {
     "name": "stdout",
     "output_type": "stream",
     "text": [
      "1632.950156 for [{'learning_rate': [0.3, 0.5, 0.7], 'iterations': [200], 'depth': [5], 'random_state': [2504], 'verbose': [False], 'cat_features': [['VehicleType', 'Brand', 'Model', 'FuelType']]}]\n",
      "1618.786505 for [{'learning_rate': [0.3, 0.5, 0.7], 'iterations': [200], 'depth': [5], 'random_state': [2504], 'verbose': [False], 'cat_features': [['VehicleType', 'Brand', 'Model', 'FuelType']]}]\n",
      "1621.707410 for [{'learning_rate': [0.3, 0.5, 0.7], 'iterations': [200], 'depth': [5], 'random_state': [2504], 'verbose': [False], 'cat_features': [['VehicleType', 'Brand', 'Model', 'FuelType']]}]\n",
      "\n",
      "Mean RMSE from CV of CatBoostRegressor = GridSearchCV(estimator=<catboost.core.CatBoostRegressor object at 0x7f0ddfbf8d30>,\n",
      "             param_grid=[{'cat_features': [['VehicleType', 'Brand', 'Model',\n",
      "                                            'FuelType']],\n",
      "                          'depth': [5], 'iterations': [200],\n",
      "                          'learning_rate': [0.3, 0.5, 0.7],\n",
      "                          'random_state': [2504], 'verbose': [False]}],\n",
      "             scoring='neg_mean_squared_error')\n",
      "GridSearchCV(estimator=<catboost.core.CatBoostRegressor object at 0x7f0ddfbf8d30>,\n",
      "             param_grid=[{'cat_features': [['VehicleType', 'Brand', 'Model',\n",
      "                                            'FuelType']],\n",
      "                          'depth': [5], 'iterations': [200],\n",
      "                          'learning_rate': [0.3, 0.5, 0.7],\n",
      "                          'random_state': [2504], 'verbose': [False]}],\n",
      "             scoring='neg_mean_squared_error')\n"
     ]
    }
   ],
   "source": [
    "means = search_best_param_CatBR.cv_results_['mean_test_score']\n",
    "for mean, params in zip(means, search_best_param_CatBR.cv_results_['params']):\n",
    "    print(\"%0.6f for %r\"% ((mean*-1)** 0.5,parametrs))\n",
    "print()                       \n",
    "print('Mean RMSE from CV of CatBoostRegressor =', search_best_param_CatBR)\n",
    "print(search_best_param_CatBR)"
   ]
  },
  {
   "cell_type": "code",
   "execution_count": 45,
   "metadata": {},
   "outputs": [],
   "source": [
    "model_CatBR = CatBoostRegressor(learning_rate= 0.5, \n",
    "                              iterations= 200,\n",
    "                              depth= 5,\n",
    "                             random_state= 2504, \n",
    "                              verbose=False, \n",
    "                              cat_features=categorii_columns)\n",
    "cross_val_score_CatBR= cross_val_score(model_CatBR, \n",
    "                                              features_train_original, \n",
    "                                target_train_original, \n",
    "                                              cv=5,\n",
    "                                       scoring='neg_mean_squared_error').mean()"
   ]
  },
  {
   "cell_type": "code",
   "execution_count": 76,
   "metadata": {},
   "outputs": [
    {
     "name": "stdout",
     "output_type": "stream",
     "text": [
      "Cреднеквадратичная ошибка RMSE после кросс валидации = 1.619e+03\n"
     ]
    }
   ],
   "source": [
    "print(f'Cреднеквадратичная ошибка RMSE после кросс валидации = {(cross_val_score_CatBR*-1)** 0.5:.4}')"
   ]
  },
  {
   "cell_type": "markdown",
   "metadata": {},
   "source": [
    "**Вывод**\n",
    "Модель показала хорошую скорость работы и не требует преобразования категориальных данных, 1619 RMSE для лучшего варианта параметров "
   ]
  },
  {
   "cell_type": "markdown",
   "metadata": {},
   "source": [
    "### Модель LGBMRegressor"
   ]
  },
  {
   "cell_type": "code",
   "execution_count": 47,
   "metadata": {},
   "outputs": [
    {
     "name": "stdout",
     "output_type": "stream",
     "text": [
      "{'max_depth': 7, 'num_iterations': 1000, 'random_state': 2504}\n",
      "CPU times: user 1h 19min 14s, sys: 48.4 s, total: 1h 20min 3s\n",
      "Wall time: 1h 20min 32s\n"
     ]
    }
   ],
   "source": [
    "%%time\n",
    "model_LGBMR = LGBMRegressor() \n",
    "params = [{'num_iterations': [10, 50, 100, 500, 1000],\n",
    "            'max_depth': [3, 5, 7],\n",
    "            'random_state':[2504]}]\n",
    "search_best_param_LGBMR = GridSearchCV(model_LGBMR, params, scoring='neg_mean_squared_error')\n",
    "search_best_param_LGBMR.fit(features_train_OE, target_train_OE)\n",
    "print(search_best_param_LGBMR.best_params_)"
   ]
  },
  {
   "cell_type": "code",
   "execution_count": 48,
   "metadata": {},
   "outputs": [
    {
     "name": "stdout",
     "output_type": "stream",
     "text": [
      "2937.147547 for {'max_depth': 3, 'num_iterations': 10, 'random_state': 2504}\n",
      "2024.833130 for {'max_depth': 3, 'num_iterations': 50, 'random_state': 2504}\n",
      "1886.049396 for {'max_depth': 3, 'num_iterations': 100, 'random_state': 2504}\n",
      "1710.123392 for {'max_depth': 3, 'num_iterations': 500, 'random_state': 2504}\n",
      "1661.684987 for {'max_depth': 3, 'num_iterations': 1000, 'random_state': 2504}\n",
      "2624.343839 for {'max_depth': 5, 'num_iterations': 10, 'random_state': 2504}\n",
      "1804.945034 for {'max_depth': 5, 'num_iterations': 50, 'random_state': 2504}\n",
      "1717.142144 for {'max_depth': 5, 'num_iterations': 100, 'random_state': 2504}\n",
      "1594.109311 for {'max_depth': 5, 'num_iterations': 500, 'random_state': 2504}\n",
      "1563.600738 for {'max_depth': 5, 'num_iterations': 1000, 'random_state': 2504}\n",
      "2603.306392 for {'max_depth': 7, 'num_iterations': 10, 'random_state': 2504}\n",
      "1764.592865 for {'max_depth': 7, 'num_iterations': 50, 'random_state': 2504}\n",
      "1681.840763 for {'max_depth': 7, 'num_iterations': 100, 'random_state': 2504}\n",
      "1567.607278 for {'max_depth': 7, 'num_iterations': 500, 'random_state': 2504}\n",
      "1540.862320 for {'max_depth': 7, 'num_iterations': 1000, 'random_state': 2504}\n",
      "\n"
     ]
    }
   ],
   "source": [
    "means = search_best_param_LGBMR.cv_results_['mean_test_score']\n",
    "stds = search_best_param_LGBMR.cv_results_['std_test_score']\n",
    "for mean, std, params in zip(means, stds, search_best_param_LGBMR.cv_results_['params']):\n",
    "    print(\"%0.6f for %r\"% ((mean*-1)** 0.5, params))\n",
    "print()\n",
    "cv_RMSE_LGBMR = (max(means)*-1) ** 0.5"
   ]
  },
  {
   "cell_type": "markdown",
   "metadata": {},
   "source": [
    "**кросс валидация**"
   ]
  },
  {
   "cell_type": "code",
   "execution_count": 82,
   "metadata": {},
   "outputs": [],
   "source": [
    "model_LGBMR = LGBMRegressor(num_iterations= 1000,\n",
    "            max_depth= 7,\n",
    "            random_state=2504) \n",
    "cross_val_score_LGBMR= cross_val_score(model_LGBMR, \n",
    "                                             features_train_OE,\n",
    "                                       target_train_OE, \n",
    "                                        cv=5,\n",
    "                                       scoring='neg_mean_squared_error').mean()"
   ]
  },
  {
   "cell_type": "code",
   "execution_count": 86,
   "metadata": {},
   "outputs": [
    {
     "name": "stdout",
     "output_type": "stream",
     "text": [
      "Cреднеквадратичная ошибка RMSE после кросс валидации = 1.541e+03\n"
     ]
    }
   ],
   "source": [
    "print(f'Cреднеквадратичная ошибка RMSE после кросс валидации = {(cross_val_score_LGBMR*-1)** 0.5:.4}')\n"
   ]
  },
  {
   "cell_type": "markdown",
   "metadata": {},
   "source": [
    "## Анализ моделей по времени предсказания"
   ]
  },
  {
   "cell_type": "markdown",
   "metadata": {},
   "source": [
    "### Линейная регрессия"
   ]
  },
  {
   "cell_type": "code",
   "execution_count": 68,
   "metadata": {},
   "outputs": [
    {
     "name": "stdout",
     "output_type": "stream",
     "text": [
      "CPU times: user 14.7 s, sys: 15 s, total: 29.6 s\n",
      "Wall time: 29.9 s\n"
     ]
    },
    {
     "data": {
      "text/plain": [
       "LinearRegression()"
      ]
     },
     "execution_count": 68,
     "metadata": {},
     "output_type": "execute_result"
    }
   ],
   "source": [
    "%%time\n",
    "model_line.fit(features_train_OHE, target_train_OHE)  # обучение модели"
   ]
  },
  {
   "cell_type": "code",
   "execution_count": 70,
   "metadata": {},
   "outputs": [
    {
     "name": "stdout",
     "output_type": "stream",
     "text": [
      "CPU times: user 109 ms, sys: 103 ms, total: 212 ms\n",
      "Wall time: 203 ms\n"
     ]
    }
   ],
   "source": [
    "%%time \n",
    "predictions_line = model_line.predict(features_test_OHE) # результаты предсказания модели"
   ]
  },
  {
   "cell_type": "markdown",
   "metadata": {},
   "source": [
    "### Модель, дерево решений"
   ]
  },
  {
   "cell_type": "markdown",
   "metadata": {},
   "source": [
    "**Порядковое кодирование признаков**"
   ]
  },
  {
   "cell_type": "code",
   "execution_count": 71,
   "metadata": {},
   "outputs": [
    {
     "name": "stdout",
     "output_type": "stream",
     "text": [
      "CPU times: user 521 ms, sys: 0 ns, total: 521 ms\n",
      "Wall time: 524 ms\n"
     ]
    }
   ],
   "source": [
    "%%time \n",
    "\n",
    "model_DTR_1 = DecisionTreeRegressor(random_state=2504, max_depth=14).fit(features_train_OE,  target_train_OE) "
   ]
  },
  {
   "cell_type": "code",
   "execution_count": 72,
   "metadata": {},
   "outputs": [],
   "source": [
    "predictions_DTR_1 = model_DTR_1.predict(features_test_OE)"
   ]
  },
  {
   "cell_type": "markdown",
   "metadata": {},
   "source": [
    "**Прямое кодирование (OHE ) признаков**"
   ]
  },
  {
   "cell_type": "code",
   "execution_count": 57,
   "metadata": {},
   "outputs": [
    {
     "name": "stdout",
     "output_type": "stream",
     "text": [
      "CPU times: user 5.32 s, sys: 130 ms, total: 5.45 s\n",
      "Wall time: 5.46 s\n"
     ]
    }
   ],
   "source": [
    "%%time \n",
    "\n",
    "model_DTR_2 = DecisionTreeRegressor(random_state=2504, max_depth=19).fit(features_train_OHE,  target_train_OHE) "
   ]
  },
  {
   "cell_type": "code",
   "execution_count": 58,
   "metadata": {},
   "outputs": [
    {
     "name": "stdout",
     "output_type": "stream",
     "text": [
      "CPU times: user 51.4 ms, sys: 51.4 ms, total: 103 ms\n",
      "Wall time: 111 ms\n"
     ]
    }
   ],
   "source": [
    "%%time \n",
    "predictions_DTR_2 = model_DTR_2.predict(features_test_OHE) "
   ]
  },
  {
   "cell_type": "markdown",
   "metadata": {},
   "source": [
    "### Модель,  CatBoostRegressor регрессия"
   ]
  },
  {
   "cell_type": "code",
   "execution_count": 60,
   "metadata": {},
   "outputs": [
    {
     "name": "stdout",
     "output_type": "stream",
     "text": [
      "CPU times: user 24 s, sys: 82.8 ms, total: 24.1 s\n",
      "Wall time: 24.8 s\n"
     ]
    },
    {
     "data": {
      "text/plain": [
       "<catboost.core.CatBoostRegressor at 0x7f0dcf308a90>"
      ]
     },
     "execution_count": 60,
     "metadata": {},
     "output_type": "execute_result"
    }
   ],
   "source": [
    "%%time \n",
    "model_CatBR = CatBoostRegressor(learning_rate=0.5, \n",
    "                                \n",
    "                              iterations=200, \n",
    "                            \n",
    "                              depth=5, \n",
    "                              random_state=2504, \n",
    "                              verbose=False, \n",
    "                              cat_features=categorii_columns) \n",
    "model_CatBR.fit(features_train_original,target_train_original) "
   ]
  },
  {
   "cell_type": "code",
   "execution_count": 61,
   "metadata": {},
   "outputs": [
    {
     "name": "stdout",
     "output_type": "stream",
     "text": [
      "CPU times: user 124 ms, sys: 4.13 ms, total: 128 ms\n",
      "Wall time: 130 ms\n"
     ]
    }
   ],
   "source": [
    "%%time \n",
    "predictions_CatBR = model_CatBR.predict(features_test_original)"
   ]
  },
  {
   "cell_type": "markdown",
   "metadata": {},
   "source": [
    "### Модель LGBMRegressor"
   ]
  },
  {
   "cell_type": "code",
   "execution_count": 92,
   "metadata": {},
   "outputs": [
    {
     "name": "stdout",
     "output_type": "stream",
     "text": [
      "CPU times: user 47min 9s, sys: 29.4 s, total: 47min 38s\n",
      "Wall time: 47min 54s\n"
     ]
    },
    {
     "data": {
      "text/plain": [
       "LGBMRegressor(max_depth=7, num_iterations=1000, random_state=2504)"
      ]
     },
     "execution_count": 92,
     "metadata": {},
     "output_type": "execute_result"
    }
   ],
   "source": [
    "%%time\n",
    "model_LGBMR = LGBMRegressor(num_iterations=1000,\n",
    "            max_depth= 7,\n",
    "            random_state=2504)\n",
    "model_LGBMR.fit(features_train_OE, target_train_OE) "
   ]
  },
  {
   "cell_type": "code",
   "execution_count": 93,
   "metadata": {},
   "outputs": [
    {
     "name": "stdout",
     "output_type": "stream",
     "text": [
      "CPU times: user 7.79 s, sys: 64.4 ms, total: 7.85 s\n",
      "Wall time: 7.88 s\n"
     ]
    }
   ],
   "source": [
    "%%time\n",
    "predictions_LGBMR = model_LGBMR.predict(features_test_OE) "
   ]
  },
  {
   "cell_type": "markdown",
   "metadata": {},
   "source": [
    "### Вывод\n",
    "\n",
    "1. Более сложные модели машинного обучения требуют большего времени на обучение, но достигают лучшей точности в предсказании\n",
    "2. Гипер параметры  сильно влияют на время обучения, но могут не значительно оказывать влияние на результат\n",
    "3. Наиболее успешными моделями из 4-х рассмотренных стали LGBMRegressor и CatBoostRegressor\n",
    "4. CatBoostRegressor не требует преобразований категориальных переменных и иметт достаточно хорошую скорость обучения в сравнении с   моделью LGBMRegressor\n",
    "5. Наилучший результат по показателям RSME, показала модель LGBMRegressor, соответственно ее в дальнейшем и будем использовать."
   ]
  },
  {
   "cell_type": "markdown",
   "metadata": {},
   "source": [
    "## Тест выбранной модели, LGBMRegressor"
   ]
  },
  {
   "cell_type": "code",
   "execution_count": 94,
   "metadata": {},
   "outputs": [
    {
     "name": "stdout",
     "output_type": "stream",
     "text": [
      "Cреднеквадратичная ошибка RMSE = 1.542e+03\n",
      "CPU times: user 7.9 s, sys: 6.58 ms, total: 7.9 s\n",
      "Wall time: 7.91 s\n"
     ]
    }
   ],
   "source": [
    "%%time \n",
    "predictions_LGBMR = model_LGBMR.predict(features_test_OE)\n",
    "result_LGBMR =math.sqrt(mean_squared_error(target_test_OE, predictions_LGBMR,squared=True)) \n",
    "print(f'Cреднеквадратичная ошибка RMSE = {result_LGBMR:.4}') # среднеквадратичная ошибка\n"
   ]
  }
 ],
 "metadata": {
  "ExecuteTimeLog": [
   {
    "duration": 1117,
    "start_time": "2022-06-27T18:06:01.394Z"
   },
   {
    "duration": 1180,
    "start_time": "2022-06-27T18:06:39.694Z"
   },
   {
    "duration": 90,
    "start_time": "2022-06-27T18:09:50.815Z"
   },
   {
    "duration": 13,
    "start_time": "2022-06-27T18:09:57.307Z"
   },
   {
    "duration": 7,
    "start_time": "2022-06-27T18:11:37.410Z"
   },
   {
    "duration": 8,
    "start_time": "2022-06-27T18:11:52.178Z"
   },
   {
    "duration": 12,
    "start_time": "2022-06-27T18:12:02.366Z"
   },
   {
    "duration": 11,
    "start_time": "2022-06-27T18:12:37.046Z"
   },
   {
    "duration": 3,
    "start_time": "2022-06-27T18:12:46.402Z"
   },
   {
    "duration": 9,
    "start_time": "2022-06-27T18:12:54.783Z"
   },
   {
    "duration": 13,
    "start_time": "2022-06-27T18:13:07.342Z"
   },
   {
    "duration": 12,
    "start_time": "2022-06-27T18:13:11.790Z"
   },
   {
    "duration": 12,
    "start_time": "2022-06-27T18:13:17.954Z"
   },
   {
    "duration": 12,
    "start_time": "2022-06-27T18:13:22.166Z"
   },
   {
    "duration": 14,
    "start_time": "2022-06-27T18:13:24.350Z"
   },
   {
    "duration": 12,
    "start_time": "2022-06-27T18:13:27.190Z"
   },
   {
    "duration": 11,
    "start_time": "2022-06-27T18:13:33.414Z"
   },
   {
    "duration": 12,
    "start_time": "2022-06-27T18:13:36.334Z"
   },
   {
    "duration": 13,
    "start_time": "2022-06-27T18:13:36.770Z"
   },
   {
    "duration": 13,
    "start_time": "2022-06-27T18:13:40.686Z"
   },
   {
    "duration": 13,
    "start_time": "2022-06-27T18:13:41.270Z"
   },
   {
    "duration": 12,
    "start_time": "2022-06-27T18:13:43.478Z"
   },
   {
    "duration": 12,
    "start_time": "2022-06-27T18:13:43.874Z"
   },
   {
    "duration": 12,
    "start_time": "2022-06-27T18:13:46.110Z"
   },
   {
    "duration": 13,
    "start_time": "2022-06-27T18:13:46.498Z"
   },
   {
    "duration": 14,
    "start_time": "2022-06-27T18:13:53.602Z"
   },
   {
    "duration": 12,
    "start_time": "2022-06-27T18:13:55.118Z"
   },
   {
    "duration": 14,
    "start_time": "2022-06-27T18:13:55.474Z"
   },
   {
    "duration": 13,
    "start_time": "2022-06-27T18:13:57.678Z"
   },
   {
    "duration": 17,
    "start_time": "2022-06-27T18:13:57.950Z"
   },
   {
    "duration": 15,
    "start_time": "2022-06-27T18:13:59.779Z"
   },
   {
    "duration": 14,
    "start_time": "2022-06-27T18:14:00.094Z"
   },
   {
    "duration": 15,
    "start_time": "2022-06-27T18:14:02.735Z"
   },
   {
    "duration": 12,
    "start_time": "2022-06-27T18:14:03.026Z"
   },
   {
    "duration": 13,
    "start_time": "2022-06-27T18:14:26.106Z"
   },
   {
    "duration": 17,
    "start_time": "2022-06-27T18:14:29.251Z"
   },
   {
    "duration": 17,
    "start_time": "2022-06-27T18:14:29.507Z"
   },
   {
    "duration": 13,
    "start_time": "2022-06-27T18:14:33.669Z"
   },
   {
    "duration": 13,
    "start_time": "2022-06-27T18:14:33.997Z"
   },
   {
    "duration": 12,
    "start_time": "2022-06-27T18:14:41.422Z"
   },
   {
    "duration": 12,
    "start_time": "2022-06-27T18:14:41.866Z"
   },
   {
    "duration": 13,
    "start_time": "2022-06-27T18:14:45.681Z"
   },
   {
    "duration": 13,
    "start_time": "2022-06-27T18:14:46.057Z"
   },
   {
    "duration": 13,
    "start_time": "2022-06-27T18:14:56.862Z"
   },
   {
    "duration": 12,
    "start_time": "2022-06-27T18:14:59.179Z"
   },
   {
    "duration": 15,
    "start_time": "2022-06-27T18:15:05.210Z"
   },
   {
    "duration": 15,
    "start_time": "2022-06-27T18:15:05.534Z"
   },
   {
    "duration": 27,
    "start_time": "2022-06-27T18:15:11.787Z"
   },
   {
    "duration": 15,
    "start_time": "2022-06-27T18:15:15.165Z"
   },
   {
    "duration": 12,
    "start_time": "2022-06-27T18:15:36.478Z"
   },
   {
    "duration": 12,
    "start_time": "2022-06-27T18:15:36.922Z"
   },
   {
    "duration": 915,
    "start_time": "2022-06-27T18:19:20.794Z"
   },
   {
    "duration": 0,
    "start_time": "2022-06-27T18:19:21.711Z"
   },
   {
    "duration": 0,
    "start_time": "2022-06-27T18:19:21.712Z"
   },
   {
    "duration": 12,
    "start_time": "2022-06-27T18:19:26.710Z"
   },
   {
    "duration": 12,
    "start_time": "2022-06-27T18:19:28.370Z"
   },
   {
    "duration": 13,
    "start_time": "2022-06-27T18:19:32.142Z"
   },
   {
    "duration": 11,
    "start_time": "2022-06-27T18:19:33.990Z"
   },
   {
    "duration": 12,
    "start_time": "2022-06-27T18:19:34.406Z"
   },
   {
    "duration": 641,
    "start_time": "2022-06-27T18:21:40.846Z"
   },
   {
    "duration": 10,
    "start_time": "2022-06-27T18:28:03.926Z"
   },
   {
    "duration": 9,
    "start_time": "2022-06-27T18:28:45.418Z"
   },
   {
    "duration": 4,
    "start_time": "2022-06-27T18:28:50.826Z"
   },
   {
    "duration": 794,
    "start_time": "2022-06-27T18:28:51.294Z"
   },
   {
    "duration": 486,
    "start_time": "2022-06-27T18:28:53.038Z"
   },
   {
    "duration": 767,
    "start_time": "2022-06-27T18:29:11.670Z"
   },
   {
    "duration": 871,
    "start_time": "2022-06-27T18:29:24.509Z"
   },
   {
    "duration": 954,
    "start_time": "2022-06-27T18:39:59.810Z"
   },
   {
    "duration": 18,
    "start_time": "2022-06-27T18:41:38.662Z"
   },
   {
    "duration": 104,
    "start_time": "2022-06-27T18:41:48.626Z"
   },
   {
    "duration": 46,
    "start_time": "2022-06-27T18:42:58.408Z"
   },
   {
    "duration": 804,
    "start_time": "2022-06-27T20:44:05.322Z"
   },
   {
    "duration": 716,
    "start_time": "2022-06-27T20:48:34.737Z"
   },
   {
    "duration": 686,
    "start_time": "2022-06-27T20:48:43.765Z"
   },
   {
    "duration": 79,
    "start_time": "2022-06-27T20:49:05.737Z"
   },
   {
    "duration": 97,
    "start_time": "2022-06-27T20:49:19.201Z"
   },
   {
    "duration": 91,
    "start_time": "2022-06-27T20:49:31.889Z"
   },
   {
    "duration": 82,
    "start_time": "2022-06-27T20:49:41.985Z"
   },
   {
    "duration": 53,
    "start_time": "2022-06-28T19:23:50.580Z"
   },
   {
    "duration": 1121,
    "start_time": "2022-06-28T19:23:56.601Z"
   },
   {
    "duration": 2878,
    "start_time": "2022-06-28T19:23:57.724Z"
   },
   {
    "duration": 564,
    "start_time": "2022-06-28T19:24:00.604Z"
   },
   {
    "duration": 1022,
    "start_time": "2022-06-28T19:24:01.170Z"
   },
   {
    "duration": 124,
    "start_time": "2022-06-28T19:24:02.194Z"
   },
   {
    "duration": 110,
    "start_time": "2022-06-28T19:24:02.320Z"
   },
   {
    "duration": 91,
    "start_time": "2022-06-28T19:24:02.431Z"
   },
   {
    "duration": 1450,
    "start_time": "2022-06-28T19:24:59.279Z"
   },
   {
    "duration": 3269,
    "start_time": "2022-06-28T19:26:27.178Z"
   },
   {
    "duration": 1507,
    "start_time": "2022-06-28T19:36:42.642Z"
   },
   {
    "duration": 85,
    "start_time": "2022-06-28T19:36:48.426Z"
   },
   {
    "duration": 993,
    "start_time": "2022-06-28T19:36:48.992Z"
   },
   {
    "duration": 94,
    "start_time": "2022-06-28T19:49:29.186Z"
   },
   {
    "duration": 8,
    "start_time": "2022-06-28T19:51:37.122Z"
   },
   {
    "duration": 93,
    "start_time": "2022-06-28T19:54:43.406Z"
   },
   {
    "duration": 766,
    "start_time": "2022-06-28T19:55:47.806Z"
   },
   {
    "duration": 279,
    "start_time": "2022-06-28T19:55:59.154Z"
   },
   {
    "duration": 381,
    "start_time": "2022-06-28T19:56:48.001Z"
   },
   {
    "duration": 23,
    "start_time": "2022-06-28T20:02:07.301Z"
   },
   {
    "duration": 9,
    "start_time": "2022-06-28T20:02:31.686Z"
   },
   {
    "duration": 9,
    "start_time": "2022-06-28T20:02:52.142Z"
   },
   {
    "duration": 10,
    "start_time": "2022-06-28T20:03:13.953Z"
   },
   {
    "duration": 9,
    "start_time": "2022-06-28T20:03:17.946Z"
   },
   {
    "duration": 10,
    "start_time": "2022-06-28T20:04:07.367Z"
   },
   {
    "duration": 12,
    "start_time": "2022-06-28T20:04:16.871Z"
   },
   {
    "duration": 9,
    "start_time": "2022-06-28T20:04:49.067Z"
   },
   {
    "duration": 8,
    "start_time": "2022-06-28T20:06:14.393Z"
   },
   {
    "duration": 9,
    "start_time": "2022-06-28T20:06:25.545Z"
   },
   {
    "duration": 9,
    "start_time": "2022-06-28T20:06:32.826Z"
   },
   {
    "duration": 9,
    "start_time": "2022-06-28T20:06:39.373Z"
   },
   {
    "duration": 1441,
    "start_time": "2022-06-28T20:06:51.270Z"
   },
   {
    "duration": 8,
    "start_time": "2022-06-28T20:06:55.405Z"
   },
   {
    "duration": 1398,
    "start_time": "2022-06-28T20:06:58.613Z"
   },
   {
    "duration": 1433,
    "start_time": "2022-06-28T20:07:04.517Z"
   },
   {
    "duration": 8,
    "start_time": "2022-06-28T20:07:08.389Z"
   },
   {
    "duration": 9,
    "start_time": "2022-06-28T20:07:14.357Z"
   },
   {
    "duration": 1357,
    "start_time": "2022-06-28T20:07:33.709Z"
   },
   {
    "duration": 7,
    "start_time": "2022-06-28T20:07:38.281Z"
   },
   {
    "duration": 37,
    "start_time": "2022-06-28T20:10:19.425Z"
   },
   {
    "duration": 8,
    "start_time": "2022-06-28T20:10:27.369Z"
   },
   {
    "duration": 27,
    "start_time": "2022-06-28T20:10:59.393Z"
   },
   {
    "duration": 10,
    "start_time": "2022-06-28T20:11:12.089Z"
   },
   {
    "duration": 7,
    "start_time": "2022-06-28T20:12:03.800Z"
   },
   {
    "duration": 46,
    "start_time": "2022-06-28T20:12:05.354Z"
   },
   {
    "duration": 53,
    "start_time": "2022-06-28T20:13:26.821Z"
   },
   {
    "duration": 10,
    "start_time": "2022-06-28T20:13:57.913Z"
   },
   {
    "duration": 874,
    "start_time": "2022-06-28T20:14:22.532Z"
   },
   {
    "duration": 37,
    "start_time": "2022-06-28T20:15:18.770Z"
   },
   {
    "duration": 88,
    "start_time": "2022-06-28T20:19:45.179Z"
   },
   {
    "duration": 11,
    "start_time": "2022-06-28T20:19:48.676Z"
   },
   {
    "duration": 53,
    "start_time": "2022-06-28T20:19:52.049Z"
   },
   {
    "duration": 47,
    "start_time": "2022-06-28T20:19:57.213Z"
   },
   {
    "duration": 69,
    "start_time": "2022-06-28T20:23:45.186Z"
   },
   {
    "duration": 92,
    "start_time": "2022-06-28T20:24:20.199Z"
   },
   {
    "duration": 54,
    "start_time": "2022-06-28T20:25:20.488Z"
   },
   {
    "duration": 49,
    "start_time": "2022-06-28T20:25:35.316Z"
   },
   {
    "duration": 55,
    "start_time": "2022-06-28T20:25:40.076Z"
   },
   {
    "duration": 59,
    "start_time": "2022-06-28T20:25:44.076Z"
   },
   {
    "duration": 58,
    "start_time": "2022-06-28T20:25:54.544Z"
   },
   {
    "duration": 47,
    "start_time": "2022-06-28T20:25:59.944Z"
   },
   {
    "duration": 21,
    "start_time": "2022-06-28T20:26:53.757Z"
   },
   {
    "duration": 226,
    "start_time": "2022-06-28T20:29:13.900Z"
   },
   {
    "duration": 239,
    "start_time": "2022-06-28T20:30:04.896Z"
   },
   {
    "duration": 340,
    "start_time": "2022-06-28T20:30:14.545Z"
   },
   {
    "duration": 8,
    "start_time": "2022-06-28T20:30:18.471Z"
   },
   {
    "duration": 37,
    "start_time": "2022-06-28T20:30:19.028Z"
   },
   {
    "duration": 280,
    "start_time": "2022-06-28T20:46:18.704Z"
   },
   {
    "duration": 18,
    "start_time": "2022-06-28T20:46:47.627Z"
   },
   {
    "duration": 259,
    "start_time": "2022-06-28T20:46:57.770Z"
   },
   {
    "duration": 214,
    "start_time": "2022-06-28T20:47:16.949Z"
   },
   {
    "duration": 256,
    "start_time": "2022-06-28T20:47:25.700Z"
   },
   {
    "duration": 829,
    "start_time": "2022-06-28T20:48:27.952Z"
   },
   {
    "duration": 256,
    "start_time": "2022-06-28T20:53:13.620Z"
   },
   {
    "duration": 358,
    "start_time": "2022-06-28T20:53:47.458Z"
   },
   {
    "duration": 346,
    "start_time": "2022-06-28T20:53:52.511Z"
   },
   {
    "duration": 232,
    "start_time": "2022-06-28T20:53:57.875Z"
   },
   {
    "duration": 206,
    "start_time": "2022-06-28T20:54:10.911Z"
   },
   {
    "duration": 93,
    "start_time": "2022-06-28T20:55:16.179Z"
   },
   {
    "duration": 222,
    "start_time": "2022-06-28T20:56:02.983Z"
   },
   {
    "duration": 251,
    "start_time": "2022-06-28T20:56:11.739Z"
   },
   {
    "duration": 245,
    "start_time": "2022-06-28T20:56:18.487Z"
   },
   {
    "duration": 272,
    "start_time": "2022-06-28T20:56:30.256Z"
   },
   {
    "duration": 285,
    "start_time": "2022-06-28T20:57:40.380Z"
   },
   {
    "duration": 217,
    "start_time": "2022-06-28T20:57:45.575Z"
   },
   {
    "duration": 356,
    "start_time": "2022-06-28T20:57:50.755Z"
   },
   {
    "duration": 271,
    "start_time": "2022-06-28T20:58:01.715Z"
   },
   {
    "duration": 269,
    "start_time": "2022-06-28T20:58:05.791Z"
   },
   {
    "duration": 303,
    "start_time": "2022-06-28T20:59:13.497Z"
   },
   {
    "duration": 287,
    "start_time": "2022-06-28T20:59:20.959Z"
   },
   {
    "duration": 268,
    "start_time": "2022-06-28T21:01:43.891Z"
   },
   {
    "duration": 265,
    "start_time": "2022-06-28T21:02:00.061Z"
   },
   {
    "duration": 3,
    "start_time": "2022-06-28T21:03:05.667Z"
   },
   {
    "duration": 3,
    "start_time": "2022-06-28T21:03:16.358Z"
   },
   {
    "duration": 46,
    "start_time": "2022-06-28T21:04:04.491Z"
   },
   {
    "duration": 52,
    "start_time": "2022-06-28T21:04:14.943Z"
   },
   {
    "duration": 4,
    "start_time": "2022-06-28T21:07:40.383Z"
   },
   {
    "duration": 928,
    "start_time": "2022-06-28T21:07:40.853Z"
   },
   {
    "duration": 527,
    "start_time": "2022-06-28T21:07:41.783Z"
   },
   {
    "duration": 967,
    "start_time": "2022-06-28T21:07:42.312Z"
   },
   {
    "duration": 137,
    "start_time": "2022-06-28T21:07:43.683Z"
   },
   {
    "duration": 95,
    "start_time": "2022-06-28T21:07:44.160Z"
   },
   {
    "duration": 1690,
    "start_time": "2022-06-28T21:07:46.139Z"
   },
   {
    "duration": 88,
    "start_time": "2022-06-28T21:07:48.075Z"
   },
   {
    "duration": 86,
    "start_time": "2022-06-28T21:07:54.787Z"
   },
   {
    "duration": 147,
    "start_time": "2022-06-28T21:09:51.059Z"
   },
   {
    "duration": 137,
    "start_time": "2022-06-28T21:10:05.890Z"
   },
   {
    "duration": 1179,
    "start_time": "2022-06-28T21:10:26.407Z"
   },
   {
    "duration": 121,
    "start_time": "2022-06-28T21:11:15.903Z"
   },
   {
    "duration": 59,
    "start_time": "2022-06-28T21:11:17.068Z"
   },
   {
    "duration": 61,
    "start_time": "2022-06-28T21:11:21.755Z"
   },
   {
    "duration": 1019,
    "start_time": "2022-06-28T21:11:22.535Z"
   },
   {
    "duration": 9,
    "start_time": "2022-06-28T21:11:54.405Z"
   },
   {
    "duration": 330,
    "start_time": "2022-06-28T21:11:55.127Z"
   },
   {
    "duration": 8,
    "start_time": "2022-06-28T21:11:56.165Z"
   },
   {
    "duration": 33,
    "start_time": "2022-06-28T21:11:56.475Z"
   },
   {
    "duration": 58,
    "start_time": "2022-06-28T21:11:57.155Z"
   },
   {
    "duration": 248,
    "start_time": "2022-06-28T21:11:58.071Z"
   },
   {
    "duration": 18,
    "start_time": "2022-06-28T21:11:59.458Z"
   },
   {
    "duration": 234,
    "start_time": "2022-06-28T21:11:59.891Z"
   },
   {
    "duration": 321,
    "start_time": "2022-06-28T21:12:01.199Z"
   },
   {
    "duration": 288,
    "start_time": "2022-06-28T21:12:03.198Z"
   },
   {
    "duration": 233,
    "start_time": "2022-06-28T21:12:04.480Z"
   },
   {
    "duration": 4,
    "start_time": "2022-06-28T21:12:05.970Z"
   },
   {
    "duration": 866,
    "start_time": "2022-06-28T21:13:33.607Z"
   },
   {
    "duration": 945,
    "start_time": "2022-06-28T21:14:20.919Z"
   },
   {
    "duration": 867,
    "start_time": "2022-06-28T21:16:20.443Z"
   },
   {
    "duration": 507,
    "start_time": "2022-06-28T21:16:26.119Z"
   },
   {
    "duration": 891,
    "start_time": "2022-06-28T21:16:48.072Z"
   },
   {
    "duration": 134,
    "start_time": "2022-06-28T21:16:52.688Z"
   },
   {
    "duration": 91,
    "start_time": "2022-06-28T21:16:53.635Z"
   },
   {
    "duration": 1470,
    "start_time": "2022-06-28T21:16:58.343Z"
   },
   {
    "duration": 146,
    "start_time": "2022-06-28T21:17:04.639Z"
   },
   {
    "duration": 98,
    "start_time": "2022-06-28T21:17:27.991Z"
   },
   {
    "duration": 142,
    "start_time": "2022-06-28T21:19:59.554Z"
   },
   {
    "duration": 13,
    "start_time": "2022-06-28T21:23:50.572Z"
   },
   {
    "duration": 31,
    "start_time": "2022-06-28T21:25:16.043Z"
   },
   {
    "duration": 4,
    "start_time": "2022-06-28T21:25:18.047Z"
   },
   {
    "duration": 52,
    "start_time": "2022-06-28T21:25:31.672Z"
   },
   {
    "duration": 55,
    "start_time": "2022-06-28T21:26:58.247Z"
   },
   {
    "duration": 1165,
    "start_time": "2022-06-28T21:27:57.604Z"
   },
   {
    "duration": 9,
    "start_time": "2022-06-28T21:27:59.631Z"
   },
   {
    "duration": 311,
    "start_time": "2022-06-28T21:28:06.291Z"
   },
   {
    "duration": 9,
    "start_time": "2022-06-28T21:28:15.103Z"
   },
   {
    "duration": 34,
    "start_time": "2022-06-28T21:28:15.880Z"
   },
   {
    "duration": 72,
    "start_time": "2022-06-28T21:28:18.383Z"
   },
   {
    "duration": 228,
    "start_time": "2022-06-28T21:28:20.507Z"
   },
   {
    "duration": 21,
    "start_time": "2022-06-28T21:28:48.512Z"
   },
   {
    "duration": 248,
    "start_time": "2022-06-28T21:28:50.323Z"
   },
   {
    "duration": 191,
    "start_time": "2022-06-28T21:28:54.587Z"
   },
   {
    "duration": 193,
    "start_time": "2022-06-28T21:30:48.508Z"
   },
   {
    "duration": 90,
    "start_time": "2022-06-28T21:31:02.387Z"
   },
   {
    "duration": 247,
    "start_time": "2022-06-28T21:31:07.345Z"
   },
   {
    "duration": 288,
    "start_time": "2022-06-28T21:31:13.284Z"
   },
   {
    "duration": 193,
    "start_time": "2022-06-28T21:31:33.487Z"
   },
   {
    "duration": 31,
    "start_time": "2022-06-28T21:34:30.271Z"
   },
   {
    "duration": 237,
    "start_time": "2022-06-28T21:34:34.480Z"
   },
   {
    "duration": 249,
    "start_time": "2022-06-28T21:35:15.190Z"
   },
   {
    "duration": 29,
    "start_time": "2022-06-28T21:36:41.988Z"
   },
   {
    "duration": 243,
    "start_time": "2022-06-28T21:36:45.932Z"
   },
   {
    "duration": 3,
    "start_time": "2022-06-28T21:37:21.970Z"
   },
   {
    "duration": 4,
    "start_time": "2022-06-28T21:38:05.970Z"
   },
   {
    "duration": 49,
    "start_time": "2022-06-28T21:39:52.179Z"
   },
   {
    "duration": 3,
    "start_time": "2022-06-28T21:45:06.139Z"
   },
   {
    "duration": 52,
    "start_time": "2022-06-28T21:45:26.819Z"
   },
   {
    "duration": 1347,
    "start_time": "2022-06-29T19:24:48.344Z"
   },
   {
    "duration": 1135,
    "start_time": "2022-06-29T19:24:49.693Z"
   },
   {
    "duration": 560,
    "start_time": "2022-06-29T19:24:50.830Z"
   },
   {
    "duration": 1014,
    "start_time": "2022-06-29T19:24:51.392Z"
   },
   {
    "duration": 129,
    "start_time": "2022-06-29T19:24:52.407Z"
   },
   {
    "duration": 89,
    "start_time": "2022-06-29T19:24:52.539Z"
   },
   {
    "duration": 1402,
    "start_time": "2022-06-29T19:24:52.630Z"
   },
   {
    "duration": 97,
    "start_time": "2022-06-29T19:24:54.034Z"
   },
   {
    "duration": 49,
    "start_time": "2022-06-29T19:24:54.133Z"
   },
   {
    "duration": 60,
    "start_time": "2022-06-29T19:24:54.185Z"
   },
   {
    "duration": 1338,
    "start_time": "2022-06-29T19:24:54.247Z"
   },
   {
    "duration": 9,
    "start_time": "2022-06-29T19:24:55.587Z"
   },
   {
    "duration": 871,
    "start_time": "2022-06-29T19:24:55.598Z"
   },
   {
    "duration": 8,
    "start_time": "2022-06-29T19:24:56.472Z"
   },
   {
    "duration": 133,
    "start_time": "2022-06-29T19:24:56.482Z"
   },
   {
    "duration": 0,
    "start_time": "2022-06-29T19:24:56.617Z"
   },
   {
    "duration": 0,
    "start_time": "2022-06-29T19:24:56.618Z"
   },
   {
    "duration": 0,
    "start_time": "2022-06-29T19:24:56.619Z"
   },
   {
    "duration": 210,
    "start_time": "2022-06-29T19:24:56.895Z"
   },
   {
    "duration": 60,
    "start_time": "2022-06-29T19:24:57.200Z"
   },
   {
    "duration": 10,
    "start_time": "2022-06-29T19:24:57.899Z"
   },
   {
    "duration": 76,
    "start_time": "2022-06-29T19:24:58.784Z"
   },
   {
    "duration": 42,
    "start_time": "2022-06-29T19:25:01.011Z"
   },
   {
    "duration": 41,
    "start_time": "2022-06-29T19:28:15.607Z"
   },
   {
    "duration": 48,
    "start_time": "2022-06-29T19:28:29.867Z"
   },
   {
    "duration": 42,
    "start_time": "2022-06-29T19:29:49.943Z"
   },
   {
    "duration": 48,
    "start_time": "2022-06-29T19:30:07.967Z"
   },
   {
    "duration": 10,
    "start_time": "2022-06-29T19:30:36.299Z"
   },
   {
    "duration": 66,
    "start_time": "2022-06-29T19:30:44.423Z"
   },
   {
    "duration": 197,
    "start_time": "2022-06-29T19:30:51.811Z"
   },
   {
    "duration": 191,
    "start_time": "2022-06-29T19:30:55.971Z"
   },
   {
    "duration": 363,
    "start_time": "2022-06-29T19:30:59.008Z"
   },
   {
    "duration": 57,
    "start_time": "2022-06-29T19:31:08.287Z"
   },
   {
    "duration": 52,
    "start_time": "2022-06-29T19:31:10.523Z"
   },
   {
    "duration": 28,
    "start_time": "2022-06-29T19:31:29.744Z"
   },
   {
    "duration": 9,
    "start_time": "2022-06-29T19:31:42.571Z"
   },
   {
    "duration": 32,
    "start_time": "2022-06-29T19:31:43.043Z"
   },
   {
    "duration": 4,
    "start_time": "2022-06-29T19:32:14.427Z"
   },
   {
    "duration": 861,
    "start_time": "2022-06-29T19:32:14.907Z"
   },
   {
    "duration": 489,
    "start_time": "2022-06-29T19:32:15.770Z"
   },
   {
    "duration": 844,
    "start_time": "2022-06-29T19:32:16.260Z"
   },
   {
    "duration": 126,
    "start_time": "2022-06-29T19:32:17.167Z"
   },
   {
    "duration": 85,
    "start_time": "2022-06-29T19:32:18.000Z"
   },
   {
    "duration": 1382,
    "start_time": "2022-06-29T19:32:19.343Z"
   },
   {
    "duration": 95,
    "start_time": "2022-06-29T19:32:20.726Z"
   },
   {
    "duration": 36,
    "start_time": "2022-06-29T19:32:21.795Z"
   },
   {
    "duration": 60,
    "start_time": "2022-06-29T19:32:22.191Z"
   },
   {
    "duration": 1321,
    "start_time": "2022-06-29T19:32:23.311Z"
   },
   {
    "duration": 11,
    "start_time": "2022-06-29T19:32:24.679Z"
   },
   {
    "duration": 302,
    "start_time": "2022-06-29T19:32:25.583Z"
   },
   {
    "duration": 9,
    "start_time": "2022-06-29T19:32:27.066Z"
   },
   {
    "duration": 44,
    "start_time": "2022-06-29T19:32:28.239Z"
   },
   {
    "duration": 65,
    "start_time": "2022-06-29T19:32:29.819Z"
   },
   {
    "duration": 226,
    "start_time": "2022-06-29T19:32:31.299Z"
   },
   {
    "duration": 22,
    "start_time": "2022-06-29T19:32:32.499Z"
   },
   {
    "duration": 218,
    "start_time": "2022-06-29T19:32:32.932Z"
   },
   {
    "duration": 194,
    "start_time": "2022-06-29T19:32:33.351Z"
   },
   {
    "duration": 280,
    "start_time": "2022-06-29T19:32:34.471Z"
   },
   {
    "duration": 65,
    "start_time": "2022-06-29T19:32:35.564Z"
   },
   {
    "duration": 34,
    "start_time": "2022-06-29T19:32:37.219Z"
   },
   {
    "duration": 98,
    "start_time": "2022-06-29T19:33:13.519Z"
   },
   {
    "duration": 46,
    "start_time": "2022-06-29T19:33:33.967Z"
   },
   {
    "duration": 46,
    "start_time": "2022-06-29T19:34:00.627Z"
   },
   {
    "duration": 244,
    "start_time": "2022-06-29T19:34:20.476Z"
   },
   {
    "duration": 251,
    "start_time": "2022-06-29T19:34:24.879Z"
   },
   {
    "duration": 50,
    "start_time": "2022-06-29T19:34:30.523Z"
   },
   {
    "duration": 64,
    "start_time": "2022-06-29T19:35:21.379Z"
   },
   {
    "duration": 4,
    "start_time": "2022-06-29T19:35:22.367Z"
   },
   {
    "duration": 321,
    "start_time": "2022-06-29T19:35:31.607Z"
   },
   {
    "duration": 318,
    "start_time": "2022-06-29T19:35:44.947Z"
   },
   {
    "duration": 335,
    "start_time": "2022-06-29T19:36:03.083Z"
   },
   {
    "duration": 394,
    "start_time": "2022-06-29T19:36:18.864Z"
   },
   {
    "duration": 358,
    "start_time": "2022-06-29T19:36:55.795Z"
   },
   {
    "duration": 374,
    "start_time": "2022-06-29T19:37:11.503Z"
   },
   {
    "duration": 448,
    "start_time": "2022-06-29T19:38:38.839Z"
   },
   {
    "duration": 400,
    "start_time": "2022-06-29T19:38:48.266Z"
   },
   {
    "duration": 412,
    "start_time": "2022-06-29T19:39:10.095Z"
   },
   {
    "duration": 406,
    "start_time": "2022-06-29T19:41:29.667Z"
   },
   {
    "duration": 3,
    "start_time": "2022-06-29T19:50:46.596Z"
   },
   {
    "duration": 70,
    "start_time": "2022-06-29T20:30:29.374Z"
   },
   {
    "duration": 73,
    "start_time": "2022-06-29T20:30:32.950Z"
   },
   {
    "duration": 64,
    "start_time": "2022-06-29T20:30:43.419Z"
   },
   {
    "duration": 46,
    "start_time": "2022-06-29T20:30:59.735Z"
   },
   {
    "duration": 66,
    "start_time": "2022-06-29T20:31:02.026Z"
   },
   {
    "duration": 4,
    "start_time": "2022-06-29T20:31:17.502Z"
   },
   {
    "duration": 1073,
    "start_time": "2022-06-29T20:31:22.398Z"
   },
   {
    "duration": 4,
    "start_time": "2022-06-29T20:31:57.960Z"
   },
   {
    "duration": 1014,
    "start_time": "2022-06-29T20:32:02.386Z"
   },
   {
    "duration": 1052,
    "start_time": "2022-06-29T20:33:16.218Z"
   },
   {
    "duration": 940,
    "start_time": "2022-06-29T20:33:44.134Z"
   },
   {
    "duration": 965,
    "start_time": "2022-06-29T20:34:06.210Z"
   },
   {
    "duration": 1185,
    "start_time": "2022-06-29T20:34:11.982Z"
   },
   {
    "duration": 2086,
    "start_time": "2022-06-29T20:37:38.897Z"
   },
   {
    "duration": 939,
    "start_time": "2022-06-29T20:45:05.129Z"
   },
   {
    "duration": 823,
    "start_time": "2022-06-29T20:45:20.460Z"
   },
   {
    "duration": 78,
    "start_time": "2022-06-29T21:09:19.289Z"
   },
   {
    "duration": 40,
    "start_time": "2022-06-29T21:09:40.793Z"
   },
   {
    "duration": 158488,
    "start_time": "2022-06-29T21:09:44.325Z"
   },
   {
    "duration": 151434,
    "start_time": "2022-06-29T21:16:44.450Z"
   },
   {
    "duration": 9,
    "start_time": "2022-06-29T21:22:57.857Z"
   },
   {
    "duration": 1262,
    "start_time": "2022-06-30T19:42:14.341Z"
   },
   {
    "duration": 3094,
    "start_time": "2022-06-30T19:42:15.605Z"
   },
   {
    "duration": 694,
    "start_time": "2022-06-30T19:42:18.701Z"
   },
   {
    "duration": 1180,
    "start_time": "2022-06-30T19:42:19.398Z"
   },
   {
    "duration": 147,
    "start_time": "2022-06-30T19:42:20.582Z"
   },
   {
    "duration": 137,
    "start_time": "2022-06-30T19:42:20.731Z"
   },
   {
    "duration": 1785,
    "start_time": "2022-06-30T19:42:20.870Z"
   },
   {
    "duration": 136,
    "start_time": "2022-06-30T19:42:22.657Z"
   },
   {
    "duration": 71,
    "start_time": "2022-06-30T19:42:22.795Z"
   },
   {
    "duration": 113,
    "start_time": "2022-06-30T19:42:22.869Z"
   },
   {
    "duration": 1605,
    "start_time": "2022-06-30T19:42:22.984Z"
   },
   {
    "duration": 12,
    "start_time": "2022-06-30T19:42:24.591Z"
   },
   {
    "duration": 883,
    "start_time": "2022-06-30T19:42:24.606Z"
   },
   {
    "duration": 10,
    "start_time": "2022-06-30T19:42:25.492Z"
   },
   {
    "duration": 181,
    "start_time": "2022-06-30T19:42:25.504Z"
   },
   {
    "duration": 93,
    "start_time": "2022-06-30T19:42:25.688Z"
   },
   {
    "duration": 288,
    "start_time": "2022-06-30T19:42:25.783Z"
   },
   {
    "duration": 27,
    "start_time": "2022-06-30T19:42:26.072Z"
   },
   {
    "duration": 297,
    "start_time": "2022-06-30T19:42:26.101Z"
   },
   {
    "duration": 349,
    "start_time": "2022-06-30T19:42:26.401Z"
   },
   {
    "duration": 402,
    "start_time": "2022-06-30T19:42:26.758Z"
   },
   {
    "duration": 57,
    "start_time": "2022-06-30T19:42:27.162Z"
   },
   {
    "duration": 112,
    "start_time": "2022-06-30T19:42:27.221Z"
   },
   {
    "duration": 8,
    "start_time": "2022-06-30T19:42:27.336Z"
   },
   {
    "duration": 476,
    "start_time": "2022-06-30T19:42:27.347Z"
   },
   {
    "duration": 53,
    "start_time": "2022-06-30T19:42:27.824Z"
   },
   {
    "duration": 71,
    "start_time": "2022-06-30T19:42:27.880Z"
   },
   {
    "duration": 1100,
    "start_time": "2022-06-30T19:42:27.955Z"
   },
   {
    "duration": 171720,
    "start_time": "2022-06-30T19:42:29.057Z"
   },
   {
    "duration": 14,
    "start_time": "2022-06-30T19:45:20.780Z"
   },
   {
    "duration": 46,
    "start_time": "2022-06-30T19:46:25.355Z"
   },
   {
    "duration": 84,
    "start_time": "2022-06-30T19:49:18.205Z"
   },
   {
    "duration": 114,
    "start_time": "2022-06-30T19:49:48.919Z"
   },
   {
    "duration": 4513,
    "start_time": "2022-06-30T19:50:36.458Z"
   },
   {
    "duration": 1148,
    "start_time": "2022-06-30T19:51:04.870Z"
   },
   {
    "duration": 1089,
    "start_time": "2022-06-30T19:51:06.020Z"
   },
   {
    "duration": 660,
    "start_time": "2022-06-30T19:51:07.111Z"
   },
   {
    "duration": 1088,
    "start_time": "2022-06-30T19:51:07.773Z"
   },
   {
    "duration": 140,
    "start_time": "2022-06-30T19:51:08.863Z"
   },
   {
    "duration": 103,
    "start_time": "2022-06-30T19:51:09.005Z"
   },
   {
    "duration": 1597,
    "start_time": "2022-06-30T19:51:09.109Z"
   },
   {
    "duration": 116,
    "start_time": "2022-06-30T19:51:10.708Z"
   },
   {
    "duration": 68,
    "start_time": "2022-06-30T19:51:10.826Z"
   },
   {
    "duration": 72,
    "start_time": "2022-06-30T19:51:10.898Z"
   },
   {
    "duration": 1626,
    "start_time": "2022-06-30T19:51:10.973Z"
   },
   {
    "duration": 10,
    "start_time": "2022-06-30T19:51:12.601Z"
   },
   {
    "duration": 685,
    "start_time": "2022-06-30T19:51:12.612Z"
   },
   {
    "duration": 9,
    "start_time": "2022-06-30T19:51:13.299Z"
   },
   {
    "duration": 158,
    "start_time": "2022-06-30T19:51:13.311Z"
   },
   {
    "duration": 81,
    "start_time": "2022-06-30T19:51:13.471Z"
   },
   {
    "duration": 289,
    "start_time": "2022-06-30T19:51:13.554Z"
   },
   {
    "duration": 23,
    "start_time": "2022-06-30T19:51:13.845Z"
   },
   {
    "duration": 292,
    "start_time": "2022-06-30T19:51:13.870Z"
   },
   {
    "duration": 228,
    "start_time": "2022-06-30T19:51:14.164Z"
   },
   {
    "duration": 381,
    "start_time": "2022-06-30T19:51:14.394Z"
   },
   {
    "duration": 51,
    "start_time": "2022-06-30T19:51:14.777Z"
   },
   {
    "duration": 79,
    "start_time": "2022-06-30T19:51:14.830Z"
   },
   {
    "duration": 4,
    "start_time": "2022-06-30T19:51:14.910Z"
   },
   {
    "duration": 428,
    "start_time": "2022-06-30T19:51:14.916Z"
   },
   {
    "duration": 37,
    "start_time": "2022-06-30T19:51:15.346Z"
   },
   {
    "duration": 90,
    "start_time": "2022-06-30T19:51:15.385Z"
   },
   {
    "duration": 965,
    "start_time": "2022-06-30T19:51:15.478Z"
   },
   {
    "duration": 4454,
    "start_time": "2022-06-30T19:51:16.445Z"
   },
   {
    "duration": 14,
    "start_time": "2022-06-30T19:51:20.902Z"
   },
   {
    "duration": 6,
    "start_time": "2022-06-30T19:52:58.901Z"
   },
   {
    "duration": 12,
    "start_time": "2022-06-30T19:53:45.202Z"
   },
   {
    "duration": 28172,
    "start_time": "2022-06-30T19:57:52.409Z"
   },
   {
    "duration": 18056,
    "start_time": "2022-06-30T19:59:21.002Z"
   },
   {
    "duration": 18519,
    "start_time": "2022-06-30T20:01:23.342Z"
   },
   {
    "duration": 18314,
    "start_time": "2022-06-30T20:04:22.968Z"
   },
   {
    "duration": 55542,
    "start_time": "2022-06-30T20:06:14.050Z"
   },
   {
    "duration": 88,
    "start_time": "2022-06-30T20:08:02.070Z"
   },
   {
    "duration": 53836,
    "start_time": "2022-06-30T20:12:17.334Z"
   },
   {
    "duration": 23,
    "start_time": "2022-06-30T20:17:39.758Z"
   },
   {
    "duration": 30,
    "start_time": "2022-06-30T20:20:23.159Z"
   },
   {
    "duration": 22,
    "start_time": "2022-06-30T20:20:35.069Z"
   },
   {
    "duration": 61,
    "start_time": "2022-06-30T20:20:46.744Z"
   },
   {
    "duration": 21,
    "start_time": "2022-06-30T20:20:47.710Z"
   },
   {
    "duration": 23,
    "start_time": "2022-06-30T20:21:04.380Z"
   },
   {
    "duration": 28,
    "start_time": "2022-06-30T20:21:15.133Z"
   },
   {
    "duration": 4,
    "start_time": "2022-06-30T20:22:38.770Z"
   },
   {
    "duration": 974,
    "start_time": "2022-06-30T20:22:39.091Z"
   },
   {
    "duration": 565,
    "start_time": "2022-06-30T20:22:40.067Z"
   },
   {
    "duration": 971,
    "start_time": "2022-06-30T20:22:40.634Z"
   },
   {
    "duration": 153,
    "start_time": "2022-06-30T20:22:41.607Z"
   },
   {
    "duration": 104,
    "start_time": "2022-06-30T20:22:41.762Z"
   },
   {
    "duration": 1664,
    "start_time": "2022-06-30T20:22:41.868Z"
   },
   {
    "duration": 125,
    "start_time": "2022-06-30T20:22:43.534Z"
   },
   {
    "duration": 39,
    "start_time": "2022-06-30T20:22:43.662Z"
   },
   {
    "duration": 94,
    "start_time": "2022-06-30T20:22:43.703Z"
   },
   {
    "duration": 1629,
    "start_time": "2022-06-30T20:22:43.799Z"
   },
   {
    "duration": 27,
    "start_time": "2022-06-30T20:22:45.431Z"
   },
   {
    "duration": 380,
    "start_time": "2022-06-30T20:22:45.460Z"
   },
   {
    "duration": 13,
    "start_time": "2022-06-30T20:22:45.845Z"
   },
   {
    "duration": 39,
    "start_time": "2022-06-30T20:22:46.177Z"
   },
   {
    "duration": 72,
    "start_time": "2022-06-30T20:22:47.105Z"
   },
   {
    "duration": 258,
    "start_time": "2022-06-30T20:22:48.574Z"
   },
   {
    "duration": 24,
    "start_time": "2022-06-30T20:22:49.765Z"
   },
   {
    "duration": 261,
    "start_time": "2022-06-30T20:22:50.213Z"
   },
   {
    "duration": 214,
    "start_time": "2022-06-30T20:22:50.693Z"
   },
   {
    "duration": 287,
    "start_time": "2022-06-30T20:22:51.633Z"
   },
   {
    "duration": 62,
    "start_time": "2022-06-30T20:22:52.633Z"
   },
   {
    "duration": 83,
    "start_time": "2022-06-30T20:22:53.356Z"
   },
   {
    "duration": 4,
    "start_time": "2022-06-30T20:22:54.037Z"
   },
   {
    "duration": 436,
    "start_time": "2022-06-30T20:23:03.166Z"
   },
   {
    "duration": 38,
    "start_time": "2022-06-30T20:23:10.093Z"
   },
   {
    "duration": 28,
    "start_time": "2022-06-30T20:23:10.642Z"
   },
   {
    "duration": 458,
    "start_time": "2022-06-30T20:24:32.273Z"
   },
   {
    "duration": 5,
    "start_time": "2022-06-30T20:24:36.809Z"
   },
   {
    "duration": 1015,
    "start_time": "2022-06-30T20:24:37.098Z"
   },
   {
    "duration": 580,
    "start_time": "2022-06-30T20:24:38.115Z"
   },
   {
    "duration": 936,
    "start_time": "2022-06-30T20:24:38.697Z"
   },
   {
    "duration": 141,
    "start_time": "2022-06-30T20:24:39.635Z"
   },
   {
    "duration": 116,
    "start_time": "2022-06-30T20:24:39.778Z"
   },
   {
    "duration": 1702,
    "start_time": "2022-06-30T20:24:39.896Z"
   },
   {
    "duration": 107,
    "start_time": "2022-06-30T20:24:41.601Z"
   },
   {
    "duration": 50,
    "start_time": "2022-06-30T20:24:41.710Z"
   },
   {
    "duration": 67,
    "start_time": "2022-06-30T20:24:41.762Z"
   },
   {
    "duration": 1575,
    "start_time": "2022-06-30T20:24:41.845Z"
   },
   {
    "duration": 21,
    "start_time": "2022-06-30T20:24:43.422Z"
   },
   {
    "duration": 362,
    "start_time": "2022-06-30T20:24:43.449Z"
   },
   {
    "duration": 10,
    "start_time": "2022-06-30T20:24:43.814Z"
   },
   {
    "duration": 58,
    "start_time": "2022-06-30T20:24:43.826Z"
   },
   {
    "duration": 74,
    "start_time": "2022-06-30T20:24:43.906Z"
   },
   {
    "duration": 275,
    "start_time": "2022-06-30T20:24:44.481Z"
   },
   {
    "duration": 40,
    "start_time": "2022-06-30T20:24:45.121Z"
   },
   {
    "duration": 393,
    "start_time": "2022-06-30T20:24:45.494Z"
   },
   {
    "duration": 228,
    "start_time": "2022-06-30T20:24:45.889Z"
   },
   {
    "duration": 377,
    "start_time": "2022-06-30T20:24:46.689Z"
   },
   {
    "duration": 64,
    "start_time": "2022-06-30T20:24:47.697Z"
   },
   {
    "duration": 71,
    "start_time": "2022-06-30T20:24:50.189Z"
   },
   {
    "duration": 6,
    "start_time": "2022-06-30T20:24:50.541Z"
   },
   {
    "duration": 23,
    "start_time": "2022-06-30T20:26:41.909Z"
   },
   {
    "duration": 23,
    "start_time": "2022-06-30T20:26:50.974Z"
   },
   {
    "duration": 388,
    "start_time": "2022-06-30T20:29:19.101Z"
   },
   {
    "duration": 464,
    "start_time": "2022-06-30T20:30:55.626Z"
   },
   {
    "duration": 19,
    "start_time": "2022-06-30T20:31:13.913Z"
   },
   {
    "duration": 461,
    "start_time": "2022-06-30T20:31:27.978Z"
   },
   {
    "duration": 19,
    "start_time": "2022-06-30T20:31:30.497Z"
   },
   {
    "duration": 205,
    "start_time": "2022-06-30T20:31:42.761Z"
   },
   {
    "duration": 25,
    "start_time": "2022-06-30T20:31:44.937Z"
   },
   {
    "duration": 9,
    "start_time": "2022-06-30T20:34:24.634Z"
   },
   {
    "duration": 1021,
    "start_time": "2022-06-30T20:34:24.863Z"
   },
   {
    "duration": 590,
    "start_time": "2022-06-30T20:34:25.886Z"
   },
   {
    "duration": 1129,
    "start_time": "2022-06-30T20:34:26.478Z"
   },
   {
    "duration": 153,
    "start_time": "2022-06-30T20:34:27.610Z"
   },
   {
    "duration": 124,
    "start_time": "2022-06-30T20:34:27.765Z"
   },
   {
    "duration": 1716,
    "start_time": "2022-06-30T20:34:27.891Z"
   },
   {
    "duration": 112,
    "start_time": "2022-06-30T20:34:29.609Z"
   },
   {
    "duration": 56,
    "start_time": "2022-06-30T20:34:29.723Z"
   },
   {
    "duration": 84,
    "start_time": "2022-06-30T20:34:29.781Z"
   },
   {
    "duration": 1585,
    "start_time": "2022-06-30T20:34:29.867Z"
   },
   {
    "duration": 14,
    "start_time": "2022-06-30T20:34:31.457Z"
   },
   {
    "duration": 365,
    "start_time": "2022-06-30T20:34:31.473Z"
   },
   {
    "duration": 10,
    "start_time": "2022-06-30T20:34:31.841Z"
   },
   {
    "duration": 49,
    "start_time": "2022-06-30T20:34:31.855Z"
   },
   {
    "duration": 80,
    "start_time": "2022-06-30T20:34:31.906Z"
   },
   {
    "duration": 287,
    "start_time": "2022-06-30T20:34:31.988Z"
   },
   {
    "duration": 23,
    "start_time": "2022-06-30T20:34:32.277Z"
   },
   {
    "duration": 294,
    "start_time": "2022-06-30T20:34:32.302Z"
   },
   {
    "duration": 225,
    "start_time": "2022-06-30T20:34:32.598Z"
   },
   {
    "duration": 347,
    "start_time": "2022-06-30T20:34:32.825Z"
   },
   {
    "duration": 80,
    "start_time": "2022-06-30T20:34:33.174Z"
   },
   {
    "duration": 68,
    "start_time": "2022-06-30T20:34:33.260Z"
   },
   {
    "duration": 4,
    "start_time": "2022-06-30T20:34:34.821Z"
   },
   {
    "duration": 38,
    "start_time": "2022-06-30T20:34:37.425Z"
   },
   {
    "duration": 417,
    "start_time": "2022-06-30T20:34:40.069Z"
   },
   {
    "duration": 453,
    "start_time": "2022-06-30T20:35:02.155Z"
   },
   {
    "duration": 434,
    "start_time": "2022-06-30T20:35:20.721Z"
   },
   {
    "duration": 424,
    "start_time": "2022-06-30T20:35:27.985Z"
   },
   {
    "duration": 20,
    "start_time": "2022-06-30T20:35:39.106Z"
   },
   {
    "duration": 55,
    "start_time": "2022-06-30T20:36:18.013Z"
   },
   {
    "duration": 29,
    "start_time": "2022-06-30T20:36:18.556Z"
   },
   {
    "duration": 799,
    "start_time": "2022-06-30T20:36:20.289Z"
   },
   {
    "duration": 18,
    "start_time": "2022-06-30T20:36:22.709Z"
   },
   {
    "duration": 853,
    "start_time": "2022-06-30T20:36:27.817Z"
   },
   {
    "duration": 25,
    "start_time": "2022-06-30T20:36:41.181Z"
   },
   {
    "duration": 825,
    "start_time": "2022-06-30T20:36:49.509Z"
   },
   {
    "duration": 142862,
    "start_time": "2022-06-30T20:36:55.382Z"
   },
   {
    "duration": 468270,
    "start_time": "2022-06-30T20:39:18.250Z"
   },
   {
    "duration": 34,
    "start_time": "2022-06-30T20:47:06.523Z"
   },
   {
    "duration": 1490,
    "start_time": "2022-07-02T09:39:51.054Z"
   },
   {
    "duration": 2614,
    "start_time": "2022-07-02T09:39:52.547Z"
   },
   {
    "duration": 829,
    "start_time": "2022-07-02T09:39:55.165Z"
   },
   {
    "duration": 1414,
    "start_time": "2022-07-02T09:39:55.996Z"
   },
   {
    "duration": 261,
    "start_time": "2022-07-02T09:39:57.417Z"
   },
   {
    "duration": 139,
    "start_time": "2022-07-02T09:39:57.680Z"
   },
   {
    "duration": 2630,
    "start_time": "2022-07-02T09:39:57.821Z"
   },
   {
    "duration": 201,
    "start_time": "2022-07-02T09:40:00.454Z"
   },
   {
    "duration": 65,
    "start_time": "2022-07-02T09:40:00.658Z"
   },
   {
    "duration": 141,
    "start_time": "2022-07-02T09:40:00.730Z"
   },
   {
    "duration": 2511,
    "start_time": "2022-07-02T09:40:00.873Z"
   },
   {
    "duration": 13,
    "start_time": "2022-07-02T09:40:03.386Z"
   },
   {
    "duration": 1201,
    "start_time": "2022-07-02T09:40:03.401Z"
   },
   {
    "duration": 10,
    "start_time": "2022-07-02T09:40:04.605Z"
   },
   {
    "duration": 344,
    "start_time": "2022-07-02T09:40:04.616Z"
   },
   {
    "duration": 114,
    "start_time": "2022-07-02T09:40:04.962Z"
   },
   {
    "duration": 338,
    "start_time": "2022-07-02T09:40:05.084Z"
   },
   {
    "duration": 58,
    "start_time": "2022-07-02T09:40:05.424Z"
   },
   {
    "duration": 308,
    "start_time": "2022-07-02T09:40:05.487Z"
   },
   {
    "duration": 415,
    "start_time": "2022-07-02T09:40:05.797Z"
   },
   {
    "duration": 419,
    "start_time": "2022-07-02T09:40:06.214Z"
   },
   {
    "duration": 117,
    "start_time": "2022-07-02T09:40:06.639Z"
   },
   {
    "duration": 181,
    "start_time": "2022-07-02T09:40:06.760Z"
   },
   {
    "duration": 9,
    "start_time": "2022-07-02T09:40:06.944Z"
   },
   {
    "duration": 54,
    "start_time": "2022-07-02T09:40:06.968Z"
   },
   {
    "duration": 736,
    "start_time": "2022-07-02T09:40:07.025Z"
   },
   {
    "duration": 55,
    "start_time": "2022-07-02T09:40:07.766Z"
   },
   {
    "duration": 996,
    "start_time": "2022-07-02T09:40:07.823Z"
   },
   {
    "duration": 299312,
    "start_time": "2022-07-02T09:40:08.820Z"
   },
   {
    "duration": 6558,
    "start_time": "2022-07-02T09:45:08.137Z"
   },
   {
    "duration": 271820,
    "start_time": "2022-07-02T09:45:14.697Z"
   },
   {
    "duration": 33,
    "start_time": "2022-07-02T09:49:46.519Z"
   },
   {
    "duration": 0,
    "start_time": "2022-07-02T09:49:46.554Z"
   },
   {
    "duration": 0,
    "start_time": "2022-07-02T09:49:46.556Z"
   },
   {
    "duration": 5,
    "start_time": "2022-07-02T09:50:30.701Z"
   },
   {
    "duration": 1303,
    "start_time": "2022-07-02T09:50:30.898Z"
   },
   {
    "duration": 876,
    "start_time": "2022-07-02T09:50:32.203Z"
   },
   {
    "duration": 1468,
    "start_time": "2022-07-02T09:50:33.081Z"
   },
   {
    "duration": 261,
    "start_time": "2022-07-02T09:50:34.551Z"
   },
   {
    "duration": 203,
    "start_time": "2022-07-02T09:50:34.815Z"
   },
   {
    "duration": 3122,
    "start_time": "2022-07-02T09:50:35.022Z"
   },
   {
    "duration": 219,
    "start_time": "2022-07-02T09:50:38.146Z"
   },
   {
    "duration": 66,
    "start_time": "2022-07-02T09:50:38.368Z"
   },
   {
    "duration": 163,
    "start_time": "2022-07-02T09:50:38.436Z"
   },
   {
    "duration": 2772,
    "start_time": "2022-07-02T09:50:38.602Z"
   },
   {
    "duration": 19,
    "start_time": "2022-07-02T09:50:41.378Z"
   },
   {
    "duration": 497,
    "start_time": "2022-07-02T09:50:41.404Z"
   },
   {
    "duration": 13,
    "start_time": "2022-07-02T09:50:41.903Z"
   },
   {
    "duration": 108,
    "start_time": "2022-07-02T09:50:41.919Z"
   },
   {
    "duration": 139,
    "start_time": "2022-07-02T09:50:42.032Z"
   },
   {
    "duration": 372,
    "start_time": "2022-07-02T09:50:42.172Z"
   },
   {
    "duration": 29,
    "start_time": "2022-07-02T09:50:42.551Z"
   },
   {
    "duration": 404,
    "start_time": "2022-07-02T09:50:42.587Z"
   },
   {
    "duration": 260,
    "start_time": "2022-07-02T09:50:42.993Z"
   },
   {
    "duration": 348,
    "start_time": "2022-07-02T09:50:43.255Z"
   },
   {
    "duration": 108,
    "start_time": "2022-07-02T09:50:43.609Z"
   },
   {
    "duration": 184,
    "start_time": "2022-07-02T09:50:43.720Z"
   },
   {
    "duration": 7,
    "start_time": "2022-07-02T09:50:43.909Z"
   },
   {
    "duration": 65,
    "start_time": "2022-07-02T09:50:47.350Z"
   },
   {
    "duration": 692,
    "start_time": "2022-07-02T09:50:49.323Z"
   },
   {
    "duration": 79,
    "start_time": "2022-07-02T09:50:51.849Z"
   },
   {
    "duration": 1126,
    "start_time": "2022-07-02T09:50:55.494Z"
   },
   {
    "duration": 21,
    "start_time": "2022-07-02T09:57:11.161Z"
   },
   {
    "duration": 67,
    "start_time": "2022-07-02T09:57:34.870Z"
   },
   {
    "duration": 1899,
    "start_time": "2022-07-02T10:02:53.391Z"
   },
   {
    "duration": 1768,
    "start_time": "2022-07-02T10:03:27.314Z"
   },
   {
    "duration": 1949,
    "start_time": "2022-07-02T10:03:44.344Z"
   },
   {
    "duration": 1905,
    "start_time": "2022-07-02T10:03:56.309Z"
   },
   {
    "duration": 1755,
    "start_time": "2022-07-02T10:04:03.264Z"
   },
   {
    "duration": 6,
    "start_time": "2022-07-02T10:04:14.776Z"
   },
   {
    "duration": 1525,
    "start_time": "2022-07-02T10:04:15.008Z"
   },
   {
    "duration": 957,
    "start_time": "2022-07-02T10:04:16.535Z"
   },
   {
    "duration": 1398,
    "start_time": "2022-07-02T10:04:17.495Z"
   },
   {
    "duration": 323,
    "start_time": "2022-07-02T10:04:18.898Z"
   },
   {
    "duration": 240,
    "start_time": "2022-07-02T10:04:19.223Z"
   },
   {
    "duration": 3108,
    "start_time": "2022-07-02T10:04:19.465Z"
   },
   {
    "duration": 234,
    "start_time": "2022-07-02T10:04:22.577Z"
   },
   {
    "duration": 102,
    "start_time": "2022-07-02T10:04:22.813Z"
   },
   {
    "duration": 176,
    "start_time": "2022-07-02T10:04:22.921Z"
   },
   {
    "duration": 2978,
    "start_time": "2022-07-02T10:04:23.100Z"
   },
   {
    "duration": 21,
    "start_time": "2022-07-02T10:04:26.084Z"
   },
   {
    "duration": 697,
    "start_time": "2022-07-02T10:04:26.111Z"
   },
   {
    "duration": 13,
    "start_time": "2022-07-02T10:04:26.817Z"
   },
   {
    "duration": 288,
    "start_time": "2022-07-02T10:04:26.837Z"
   },
   {
    "duration": 166,
    "start_time": "2022-07-02T10:04:27.132Z"
   },
   {
    "duration": 647,
    "start_time": "2022-07-02T10:04:27.313Z"
   },
   {
    "duration": 28,
    "start_time": "2022-07-02T10:04:27.966Z"
   },
   {
    "duration": 552,
    "start_time": "2022-07-02T10:04:28.000Z"
   },
   {
    "duration": 389,
    "start_time": "2022-07-02T10:04:28.559Z"
   },
   {
    "duration": 451,
    "start_time": "2022-07-02T10:04:28.955Z"
   },
   {
    "duration": 138,
    "start_time": "2022-07-02T10:04:29.411Z"
   },
   {
    "duration": 196,
    "start_time": "2022-07-02T10:04:29.556Z"
   },
   {
    "duration": 86,
    "start_time": "2022-07-02T10:04:29.761Z"
   },
   {
    "duration": 216,
    "start_time": "2022-07-02T10:04:29.862Z"
   },
   {
    "duration": 2431,
    "start_time": "2022-07-02T10:04:30.089Z"
   },
   {
    "duration": 1807,
    "start_time": "2022-07-02T10:04:51.504Z"
   },
   {
    "duration": 2246,
    "start_time": "2022-07-02T10:05:23.273Z"
   },
   {
    "duration": 58,
    "start_time": "2022-07-02T10:05:51.152Z"
   },
   {
    "duration": 58,
    "start_time": "2022-07-02T10:06:34.564Z"
   },
   {
    "duration": 44,
    "start_time": "2022-07-02T10:06:40.884Z"
   },
   {
    "duration": 101,
    "start_time": "2022-07-02T10:06:49.904Z"
   },
   {
    "duration": 1489,
    "start_time": "2022-07-02T10:07:13.321Z"
   },
   {
    "duration": 1625,
    "start_time": "2022-07-02T10:07:43.820Z"
   },
   {
    "duration": 1871,
    "start_time": "2022-07-02T10:10:26.643Z"
   },
   {
    "duration": 1520,
    "start_time": "2022-07-02T10:10:57.595Z"
   },
   {
    "duration": 17,
    "start_time": "2022-07-02T10:11:06.395Z"
   },
   {
    "duration": 6,
    "start_time": "2022-07-02T10:11:15.197Z"
   },
   {
    "duration": 1408,
    "start_time": "2022-07-02T10:11:15.460Z"
   },
   {
    "duration": 932,
    "start_time": "2022-07-02T10:11:16.873Z"
   },
   {
    "duration": 1354,
    "start_time": "2022-07-02T10:11:17.818Z"
   },
   {
    "duration": 251,
    "start_time": "2022-07-02T10:11:19.175Z"
   },
   {
    "duration": 183,
    "start_time": "2022-07-02T10:11:19.429Z"
   },
   {
    "duration": 3031,
    "start_time": "2022-07-02T10:11:19.613Z"
   },
   {
    "duration": 226,
    "start_time": "2022-07-02T10:11:22.646Z"
   },
   {
    "duration": 64,
    "start_time": "2022-07-02T10:11:22.874Z"
   },
   {
    "duration": 144,
    "start_time": "2022-07-02T10:11:22.940Z"
   },
   {
    "duration": 2880,
    "start_time": "2022-07-02T10:11:23.088Z"
   },
   {
    "duration": 17,
    "start_time": "2022-07-02T10:11:25.974Z"
   },
   {
    "duration": 527,
    "start_time": "2022-07-02T10:11:25.995Z"
   },
   {
    "duration": 24,
    "start_time": "2022-07-02T10:11:26.524Z"
   },
   {
    "duration": 80,
    "start_time": "2022-07-02T10:11:26.550Z"
   },
   {
    "duration": 124,
    "start_time": "2022-07-02T10:11:26.632Z"
   },
   {
    "duration": 503,
    "start_time": "2022-07-02T10:11:26.759Z"
   },
   {
    "duration": 45,
    "start_time": "2022-07-02T10:11:27.264Z"
   },
   {
    "duration": 386,
    "start_time": "2022-07-02T10:11:27.311Z"
   },
   {
    "duration": 344,
    "start_time": "2022-07-02T10:11:27.703Z"
   },
   {
    "duration": 367,
    "start_time": "2022-07-02T10:11:28.057Z"
   },
   {
    "duration": 137,
    "start_time": "2022-07-02T10:11:28.427Z"
   },
   {
    "duration": 167,
    "start_time": "2022-07-02T10:11:28.567Z"
   },
   {
    "duration": 5,
    "start_time": "2022-07-02T10:11:28.737Z"
   },
   {
    "duration": 81,
    "start_time": "2022-07-02T10:11:28.744Z"
   },
   {
    "duration": 97,
    "start_time": "2022-07-02T10:11:28.827Z"
   },
   {
    "duration": 87,
    "start_time": "2022-07-02T10:11:34.300Z"
   },
   {
    "duration": 97,
    "start_time": "2022-07-02T10:11:37.624Z"
   },
   {
    "duration": 411,
    "start_time": "2022-07-02T10:11:38.486Z"
   },
   {
    "duration": 1323,
    "start_time": "2022-07-02T10:11:40.481Z"
   },
   {
    "duration": 65,
    "start_time": "2022-07-02T10:12:00.941Z"
   },
   {
    "duration": 1247,
    "start_time": "2022-07-02T10:12:21.317Z"
   },
   {
    "duration": 685,
    "start_time": "2022-07-02T10:12:22.566Z"
   },
   {
    "duration": 1181,
    "start_time": "2022-07-02T10:12:23.260Z"
   },
   {
    "duration": 258,
    "start_time": "2022-07-02T10:12:24.446Z"
   },
   {
    "duration": 201,
    "start_time": "2022-07-02T10:12:24.706Z"
   },
   {
    "duration": 3009,
    "start_time": "2022-07-02T10:12:24.912Z"
   },
   {
    "duration": 196,
    "start_time": "2022-07-02T10:12:27.923Z"
   },
   {
    "duration": 64,
    "start_time": "2022-07-02T10:12:28.133Z"
   },
   {
    "duration": 175,
    "start_time": "2022-07-02T10:12:28.200Z"
   },
   {
    "duration": 2721,
    "start_time": "2022-07-02T10:12:28.387Z"
   },
   {
    "duration": 10,
    "start_time": "2022-07-02T10:12:31.110Z"
   },
   {
    "duration": 647,
    "start_time": "2022-07-02T10:12:31.122Z"
   },
   {
    "duration": 17,
    "start_time": "2022-07-02T10:12:31.776Z"
   },
   {
    "duration": 81,
    "start_time": "2022-07-02T10:12:31.800Z"
   },
   {
    "duration": 190,
    "start_time": "2022-07-02T10:12:31.884Z"
   },
   {
    "duration": 469,
    "start_time": "2022-07-02T10:12:32.082Z"
   },
   {
    "duration": 36,
    "start_time": "2022-07-02T10:12:32.559Z"
   },
   {
    "duration": 471,
    "start_time": "2022-07-02T10:12:32.598Z"
   },
   {
    "duration": 280,
    "start_time": "2022-07-02T10:12:33.071Z"
   },
   {
    "duration": 365,
    "start_time": "2022-07-02T10:12:33.354Z"
   },
   {
    "duration": 114,
    "start_time": "2022-07-02T10:12:33.725Z"
   },
   {
    "duration": 172,
    "start_time": "2022-07-02T10:12:34.501Z"
   },
   {
    "duration": 12,
    "start_time": "2022-07-02T10:12:34.929Z"
   },
   {
    "duration": 46,
    "start_time": "2022-07-02T10:12:36.420Z"
   },
   {
    "duration": 132,
    "start_time": "2022-07-02T10:12:38.178Z"
   },
   {
    "duration": 83,
    "start_time": "2022-07-02T10:12:41.339Z"
   },
   {
    "duration": 1726,
    "start_time": "2022-07-02T10:12:43.017Z"
   },
   {
    "duration": 43,
    "start_time": "2022-07-02T10:12:50.463Z"
   },
   {
    "duration": 1724,
    "start_time": "2022-07-02T10:12:51.705Z"
   },
   {
    "duration": 1672,
    "start_time": "2022-07-02T10:13:07.596Z"
   },
   {
    "duration": 947,
    "start_time": "2022-07-02T10:13:09.271Z"
   },
   {
    "duration": 1377,
    "start_time": "2022-07-02T10:13:10.220Z"
   },
   {
    "duration": 247,
    "start_time": "2022-07-02T10:13:11.600Z"
   },
   {
    "duration": 181,
    "start_time": "2022-07-02T10:13:11.852Z"
   },
   {
    "duration": 2744,
    "start_time": "2022-07-02T10:13:12.041Z"
   },
   {
    "duration": 207,
    "start_time": "2022-07-02T10:13:14.788Z"
   },
   {
    "duration": 55,
    "start_time": "2022-07-02T10:13:14.997Z"
   },
   {
    "duration": 147,
    "start_time": "2022-07-02T10:13:15.060Z"
   },
   {
    "duration": 2515,
    "start_time": "2022-07-02T10:13:15.210Z"
   },
   {
    "duration": 14,
    "start_time": "2022-07-02T10:13:17.727Z"
   },
   {
    "duration": 428,
    "start_time": "2022-07-02T10:13:17.743Z"
   },
   {
    "duration": 10,
    "start_time": "2022-07-02T10:13:18.178Z"
   },
   {
    "duration": 34,
    "start_time": "2022-07-02T10:13:18.190Z"
   },
   {
    "duration": 88,
    "start_time": "2022-07-02T10:13:18.226Z"
   },
   {
    "duration": 296,
    "start_time": "2022-07-02T10:13:18.316Z"
   },
   {
    "duration": 31,
    "start_time": "2022-07-02T10:13:18.614Z"
   },
   {
    "duration": 292,
    "start_time": "2022-07-02T10:13:18.651Z"
   },
   {
    "duration": 240,
    "start_time": "2022-07-02T10:13:18.948Z"
   },
   {
    "duration": 303,
    "start_time": "2022-07-02T10:13:19.194Z"
   },
   {
    "duration": 96,
    "start_time": "2022-07-02T10:13:19.498Z"
   },
   {
    "duration": 153,
    "start_time": "2022-07-02T10:13:19.597Z"
   },
   {
    "duration": 25,
    "start_time": "2022-07-02T10:13:19.760Z"
   },
   {
    "duration": 31,
    "start_time": "2022-07-02T10:13:19.788Z"
   },
   {
    "duration": 85,
    "start_time": "2022-07-02T10:13:19.821Z"
   },
   {
    "duration": 446,
    "start_time": "2022-07-02T10:13:19.908Z"
   },
   {
    "duration": 1775,
    "start_time": "2022-07-02T10:13:44.661Z"
   },
   {
    "duration": 1352,
    "start_time": "2022-07-02T10:13:54.321Z"
   },
   {
    "duration": 794,
    "start_time": "2022-07-02T10:13:55.675Z"
   },
   {
    "duration": 1469,
    "start_time": "2022-07-02T10:13:56.471Z"
   },
   {
    "duration": 295,
    "start_time": "2022-07-02T10:13:57.948Z"
   },
   {
    "duration": 265,
    "start_time": "2022-07-02T10:13:58.249Z"
   },
   {
    "duration": 3602,
    "start_time": "2022-07-02T10:13:58.517Z"
   },
   {
    "duration": 278,
    "start_time": "2022-07-02T10:14:02.122Z"
   },
   {
    "duration": 47,
    "start_time": "2022-07-02T10:14:02.406Z"
   },
   {
    "duration": 222,
    "start_time": "2022-07-02T10:14:02.455Z"
   },
   {
    "duration": 2925,
    "start_time": "2022-07-02T10:14:02.688Z"
   },
   {
    "duration": 31,
    "start_time": "2022-07-02T10:14:05.615Z"
   },
   {
    "duration": 753,
    "start_time": "2022-07-02T10:14:05.648Z"
   },
   {
    "duration": 13,
    "start_time": "2022-07-02T10:14:06.403Z"
   },
   {
    "duration": 163,
    "start_time": "2022-07-02T10:14:06.418Z"
   },
   {
    "duration": 120,
    "start_time": "2022-07-02T10:14:06.583Z"
   },
   {
    "duration": 377,
    "start_time": "2022-07-02T10:14:06.705Z"
   },
   {
    "duration": 27,
    "start_time": "2022-07-02T10:14:07.084Z"
   },
   {
    "duration": 393,
    "start_time": "2022-07-02T10:14:07.113Z"
   },
   {
    "duration": 292,
    "start_time": "2022-07-02T10:14:07.508Z"
   },
   {
    "duration": 389,
    "start_time": "2022-07-02T10:14:07.802Z"
   },
   {
    "duration": 142,
    "start_time": "2022-07-02T10:14:08.197Z"
   },
   {
    "duration": 162,
    "start_time": "2022-07-02T10:14:08.341Z"
   },
   {
    "duration": 4,
    "start_time": "2022-07-02T10:14:08.507Z"
   },
   {
    "duration": 64,
    "start_time": "2022-07-02T10:14:08.516Z"
   },
   {
    "duration": 88,
    "start_time": "2022-07-02T10:14:08.592Z"
   },
   {
    "duration": 619,
    "start_time": "2022-07-02T10:16:12.990Z"
   },
   {
    "duration": 1217,
    "start_time": "2022-07-02T10:19:14.587Z"
   },
   {
    "duration": 904,
    "start_time": "2022-07-02T10:19:15.809Z"
   },
   {
    "duration": 1405,
    "start_time": "2022-07-02T10:19:16.715Z"
   },
   {
    "duration": 261,
    "start_time": "2022-07-02T10:19:18.123Z"
   },
   {
    "duration": 180,
    "start_time": "2022-07-02T10:19:18.386Z"
   },
   {
    "duration": 2813,
    "start_time": "2022-07-02T10:19:18.570Z"
   },
   {
    "duration": 189,
    "start_time": "2022-07-02T10:19:21.385Z"
   },
   {
    "duration": 51,
    "start_time": "2022-07-02T10:19:21.576Z"
   },
   {
    "duration": 155,
    "start_time": "2022-07-02T10:19:21.629Z"
   },
   {
    "duration": 2651,
    "start_time": "2022-07-02T10:19:21.789Z"
   },
   {
    "duration": 20,
    "start_time": "2022-07-02T10:19:24.443Z"
   },
   {
    "duration": 498,
    "start_time": "2022-07-02T10:19:24.465Z"
   },
   {
    "duration": 11,
    "start_time": "2022-07-02T10:19:24.965Z"
   },
   {
    "duration": 140,
    "start_time": "2022-07-02T10:19:24.978Z"
   },
   {
    "duration": 154,
    "start_time": "2022-07-02T10:19:25.121Z"
   },
   {
    "duration": 410,
    "start_time": "2022-07-02T10:19:25.278Z"
   },
   {
    "duration": 29,
    "start_time": "2022-07-02T10:19:25.690Z"
   },
   {
    "duration": 354,
    "start_time": "2022-07-02T10:19:25.726Z"
   },
   {
    "duration": 292,
    "start_time": "2022-07-02T10:19:26.086Z"
   },
   {
    "duration": 570,
    "start_time": "2022-07-02T10:19:26.383Z"
   },
   {
    "duration": 131,
    "start_time": "2022-07-02T10:19:26.956Z"
   },
   {
    "duration": 175,
    "start_time": "2022-07-02T10:19:27.090Z"
   },
   {
    "duration": 60,
    "start_time": "2022-07-02T10:19:27.268Z"
   },
   {
    "duration": 78,
    "start_time": "2022-07-02T10:20:21.101Z"
   },
   {
    "duration": 1790,
    "start_time": "2022-07-02T10:20:24.513Z"
   },
   {
    "duration": 11,
    "start_time": "2022-07-02T10:21:00.554Z"
   },
   {
    "duration": 2019,
    "start_time": "2022-07-02T10:21:47.878Z"
   },
   {
    "duration": 37,
    "start_time": "2022-07-02T10:24:22.453Z"
   },
   {
    "duration": 13,
    "start_time": "2022-07-02T10:24:48.358Z"
   },
   {
    "duration": 1380,
    "start_time": "2022-07-02T10:25:08.804Z"
   },
   {
    "duration": 1362,
    "start_time": "2022-07-02T10:25:32.359Z"
   },
   {
    "duration": 12,
    "start_time": "2022-07-02T10:25:45.600Z"
   },
   {
    "duration": 1096,
    "start_time": "2022-07-02T10:25:52.983Z"
   },
   {
    "duration": 683,
    "start_time": "2022-07-02T10:25:54.081Z"
   },
   {
    "duration": 1155,
    "start_time": "2022-07-02T10:25:54.768Z"
   },
   {
    "duration": 201,
    "start_time": "2022-07-02T10:25:55.928Z"
   },
   {
    "duration": 167,
    "start_time": "2022-07-02T10:25:56.131Z"
   },
   {
    "duration": 2320,
    "start_time": "2022-07-02T10:25:56.300Z"
   },
   {
    "duration": 161,
    "start_time": "2022-07-02T10:25:58.628Z"
   },
   {
    "duration": 46,
    "start_time": "2022-07-02T10:25:58.790Z"
   },
   {
    "duration": 107,
    "start_time": "2022-07-02T10:25:58.839Z"
   },
   {
    "duration": 2132,
    "start_time": "2022-07-02T10:25:58.948Z"
   },
   {
    "duration": 9,
    "start_time": "2022-07-02T10:26:01.081Z"
   },
   {
    "duration": 372,
    "start_time": "2022-07-02T10:26:01.092Z"
   },
   {
    "duration": 17,
    "start_time": "2022-07-02T10:26:01.465Z"
   },
   {
    "duration": 44,
    "start_time": "2022-07-02T10:26:01.484Z"
   },
   {
    "duration": 82,
    "start_time": "2022-07-02T10:26:01.531Z"
   },
   {
    "duration": 294,
    "start_time": "2022-07-02T10:26:01.615Z"
   },
   {
    "duration": 38,
    "start_time": "2022-07-02T10:26:01.911Z"
   },
   {
    "duration": 261,
    "start_time": "2022-07-02T10:26:01.957Z"
   },
   {
    "duration": 224,
    "start_time": "2022-07-02T10:26:02.220Z"
   },
   {
    "duration": 292,
    "start_time": "2022-07-02T10:26:02.446Z"
   },
   {
    "duration": 75,
    "start_time": "2022-07-02T10:26:02.746Z"
   },
   {
    "duration": 81,
    "start_time": "2022-07-02T10:26:02.881Z"
   },
   {
    "duration": 4,
    "start_time": "2022-07-02T10:26:03.105Z"
   },
   {
    "duration": 46,
    "start_time": "2022-07-02T10:26:07.189Z"
   },
   {
    "duration": 15,
    "start_time": "2022-07-02T10:26:09.566Z"
   },
   {
    "duration": 1526,
    "start_time": "2022-07-02T10:26:30.743Z"
   },
   {
    "duration": 26,
    "start_time": "2022-07-02T10:26:48.416Z"
   },
   {
    "duration": 29,
    "start_time": "2022-07-02T10:27:01.753Z"
   },
   {
    "duration": 13,
    "start_time": "2022-07-02T10:27:39.676Z"
   },
   {
    "duration": 7,
    "start_time": "2022-07-02T10:27:46.300Z"
   },
   {
    "duration": 62,
    "start_time": "2022-07-02T10:27:57.733Z"
   },
   {
    "duration": 718,
    "start_time": "2022-07-02T10:27:58.649Z"
   },
   {
    "duration": 220295,
    "start_time": "2022-07-02T10:27:59.887Z"
   },
   {
    "duration": 5967,
    "start_time": "2022-07-02T10:31:40.233Z"
   },
   {
    "duration": 14,
    "start_time": "2022-07-02T10:37:34.377Z"
   },
   {
    "duration": 506,
    "start_time": "2022-07-02T10:39:06.343Z"
   },
   {
    "duration": 20,
    "start_time": "2022-07-02T10:39:10.591Z"
   },
   {
    "duration": 495,
    "start_time": "2022-07-02T10:39:11.258Z"
   },
   {
    "duration": 53,
    "start_time": "2022-07-02T10:39:18.302Z"
   },
   {
    "duration": 22,
    "start_time": "2022-07-02T10:39:20.368Z"
   },
   {
    "duration": 519,
    "start_time": "2022-07-02T10:39:39.147Z"
   },
   {
    "duration": 32,
    "start_time": "2022-07-02T10:39:41.494Z"
   },
   {
    "duration": 28,
    "start_time": "2022-07-02T10:39:43.259Z"
   },
   {
    "duration": 66200,
    "start_time": "2022-07-02T10:40:04.775Z"
   },
   {
    "duration": 466912,
    "start_time": "2022-07-02T10:41:10.979Z"
   },
   {
    "duration": 80,
    "start_time": "2022-07-02T11:02:30.710Z"
   },
   {
    "duration": 158,
    "start_time": "2022-07-02T11:08:04.505Z"
   },
   {
    "duration": 5,
    "start_time": "2022-07-02T11:08:43.701Z"
   },
   {
    "duration": 56,
    "start_time": "2022-07-02T11:08:48.550Z"
   },
   {
    "duration": 45,
    "start_time": "2022-07-02T11:08:53.513Z"
   },
   {
    "duration": 2354,
    "start_time": "2022-07-02T11:08:55.525Z"
   },
   {
    "duration": 4161,
    "start_time": "2022-07-02T11:10:29.909Z"
   },
   {
    "duration": 4895,
    "start_time": "2022-07-02T11:10:46.369Z"
   },
   {
    "duration": 3480,
    "start_time": "2022-07-02T11:11:04.901Z"
   },
   {
    "duration": 3710,
    "start_time": "2022-07-02T11:11:29.601Z"
   },
   {
    "duration": 62797,
    "start_time": "2022-07-02T11:12:35.582Z"
   },
   {
    "duration": 1282,
    "start_time": "2022-07-02T11:24:03.787Z"
   },
   {
    "duration": 1130,
    "start_time": "2022-07-02T11:24:18.436Z"
   },
   {
    "duration": 1146,
    "start_time": "2022-07-02T11:24:48.427Z"
   },
   {
    "duration": 98111,
    "start_time": "2022-07-02T11:24:56.654Z"
   },
   {
    "duration": 86380,
    "start_time": "2022-07-02T12:18:30.711Z"
   },
   {
    "duration": 86087,
    "start_time": "2022-07-02T12:20:07.723Z"
   },
   {
    "duration": 1260,
    "start_time": "2022-07-03T09:00:41.350Z"
   },
   {
    "duration": 1447,
    "start_time": "2022-07-03T09:00:42.614Z"
   },
   {
    "duration": 641,
    "start_time": "2022-07-03T09:00:44.064Z"
   },
   {
    "duration": 1080,
    "start_time": "2022-07-03T09:00:44.707Z"
   },
   {
    "duration": 182,
    "start_time": "2022-07-03T09:00:45.789Z"
   },
   {
    "duration": 191,
    "start_time": "2022-07-03T09:00:45.972Z"
   },
   {
    "duration": 1856,
    "start_time": "2022-07-03T09:00:46.165Z"
   },
   {
    "duration": 149,
    "start_time": "2022-07-03T09:00:48.022Z"
   },
   {
    "duration": 56,
    "start_time": "2022-07-03T09:00:48.173Z"
   },
   {
    "duration": 78,
    "start_time": "2022-07-03T09:00:48.241Z"
   },
   {
    "duration": 1664,
    "start_time": "2022-07-03T09:00:48.336Z"
   },
   {
    "duration": 9,
    "start_time": "2022-07-03T09:00:50.001Z"
   },
   {
    "duration": 795,
    "start_time": "2022-07-03T09:00:50.012Z"
   },
   {
    "duration": 10,
    "start_time": "2022-07-03T09:00:50.809Z"
   },
   {
    "duration": 161,
    "start_time": "2022-07-03T09:00:50.820Z"
   },
   {
    "duration": 87,
    "start_time": "2022-07-03T09:00:50.983Z"
   },
   {
    "duration": 271,
    "start_time": "2022-07-03T09:00:51.072Z"
   },
   {
    "duration": 31,
    "start_time": "2022-07-03T09:00:51.347Z"
   },
   {
    "duration": 395,
    "start_time": "2022-07-03T09:00:51.380Z"
   },
   {
    "duration": 217,
    "start_time": "2022-07-03T09:00:51.777Z"
   },
   {
    "duration": 294,
    "start_time": "2022-07-03T09:00:51.995Z"
   },
   {
    "duration": 74,
    "start_time": "2022-07-03T09:00:52.290Z"
   },
   {
    "duration": 95,
    "start_time": "2022-07-03T09:00:52.366Z"
   },
   {
    "duration": 4,
    "start_time": "2022-07-03T09:00:52.463Z"
   },
   {
    "duration": 78,
    "start_time": "2022-07-03T09:00:52.469Z"
   },
   {
    "duration": 15,
    "start_time": "2022-07-03T09:00:52.549Z"
   },
   {
    "duration": 23,
    "start_time": "2022-07-03T09:00:52.566Z"
   },
   {
    "duration": 366,
    "start_time": "2022-07-03T09:00:52.592Z"
   },
   {
    "duration": 32,
    "start_time": "2022-07-03T09:00:52.960Z"
   },
   {
    "duration": 716,
    "start_time": "2022-07-03T09:00:52.994Z"
   },
   {
    "duration": 154433,
    "start_time": "2022-07-03T09:00:53.711Z"
   },
   {
    "duration": 48496,
    "start_time": "2022-07-03T09:03:28.146Z"
   },
   {
    "duration": 430203,
    "start_time": "2022-07-03T09:04:16.647Z"
   },
   {
    "duration": 38,
    "start_time": "2022-07-03T09:11:26.851Z"
   },
   {
    "duration": 97581,
    "start_time": "2022-07-03T09:11:26.891Z"
   },
   {
    "duration": 2,
    "start_time": "2022-07-03T09:13:04.474Z"
   },
   {
    "duration": 27,
    "start_time": "2022-07-03T09:13:04.478Z"
   },
   {
    "duration": 22,
    "start_time": "2022-07-03T09:13:04.507Z"
   },
   {
    "duration": 50,
    "start_time": "2022-07-03T09:18:16.952Z"
   },
   {
    "duration": 2916,
    "start_time": "2022-07-03T09:19:35.786Z"
   },
   {
    "duration": 4109,
    "start_time": "2022-07-03T09:20:01.453Z"
   },
   {
    "duration": 2253,
    "start_time": "2022-07-03T09:20:45.249Z"
   },
   {
    "duration": 2407,
    "start_time": "2022-07-03T09:20:53.747Z"
   },
   {
    "duration": 2240,
    "start_time": "2022-07-03T09:21:07.375Z"
   },
   {
    "duration": 66,
    "start_time": "2022-07-03T09:29:17.926Z"
   },
   {
    "duration": 40,
    "start_time": "2022-07-03T09:29:39.146Z"
   },
   {
    "duration": 1241,
    "start_time": "2022-07-03T09:30:29.881Z"
   },
   {
    "duration": 43,
    "start_time": "2022-07-03T09:30:45.060Z"
   },
   {
    "duration": 45,
    "start_time": "2022-07-03T09:31:37.002Z"
   },
   {
    "duration": 81,
    "start_time": "2022-07-03T09:33:04.618Z"
   },
   {
    "duration": 36,
    "start_time": "2022-07-03T09:33:15.162Z"
   },
   {
    "duration": 132,
    "start_time": "2022-07-03T09:33:36.214Z"
   },
   {
    "duration": 115,
    "start_time": "2022-07-03T09:34:04.183Z"
   },
   {
    "duration": 178,
    "start_time": "2022-07-03T09:34:39.918Z"
   },
   {
    "duration": 128,
    "start_time": "2022-07-03T09:35:22.346Z"
   },
   {
    "duration": 117,
    "start_time": "2022-07-03T09:35:27.789Z"
   },
   {
    "duration": 375,
    "start_time": "2022-07-03T09:36:19.083Z"
   },
   {
    "duration": 5939,
    "start_time": "2022-07-03T09:36:26.354Z"
   },
   {
    "duration": 1296,
    "start_time": "2022-07-03T09:36:58.698Z"
   },
   {
    "duration": 1126,
    "start_time": "2022-07-03T09:37:12.960Z"
   },
   {
    "duration": 89,
    "start_time": "2022-07-03T09:37:48.802Z"
   },
   {
    "duration": 615552,
    "start_time": "2022-07-03T09:37:58.719Z"
   },
   {
    "duration": 218,
    "start_time": "2022-07-03T09:50:31.994Z"
   },
   {
    "duration": 5,
    "start_time": "2022-07-03T09:51:43.603Z"
   },
   {
    "duration": 8,
    "start_time": "2022-07-03T09:52:47.877Z"
   },
   {
    "duration": 84,
    "start_time": "2022-07-03T09:56:09.490Z"
   },
   {
    "duration": 94,
    "start_time": "2022-07-03T09:56:23.122Z"
   },
   {
    "duration": 27,
    "start_time": "2022-07-03T09:57:47.607Z"
   },
   {
    "duration": 2249301,
    "start_time": "2022-07-03T09:58:18.777Z"
   },
   {
    "duration": 597703,
    "start_time": "2022-07-03T10:36:03.755Z"
   },
   {
    "duration": 765525,
    "start_time": "2022-07-03T10:46:52.968Z"
   },
   {
    "duration": 6862746,
    "start_time": "2022-07-03T11:03:33.204Z"
   },
   {
    "duration": 50,
    "start_time": "2022-07-03T14:53:23.842Z"
   },
   {
    "duration": 1138,
    "start_time": "2022-07-03T14:53:33.782Z"
   },
   {
    "duration": 1213,
    "start_time": "2022-07-03T14:53:34.922Z"
   },
   {
    "duration": 526,
    "start_time": "2022-07-03T14:53:36.136Z"
   },
   {
    "duration": 1007,
    "start_time": "2022-07-03T14:53:36.664Z"
   },
   {
    "duration": 130,
    "start_time": "2022-07-03T14:53:37.678Z"
   },
   {
    "duration": 96,
    "start_time": "2022-07-03T14:53:37.810Z"
   },
   {
    "duration": 1502,
    "start_time": "2022-07-03T14:53:37.908Z"
   },
   {
    "duration": 105,
    "start_time": "2022-07-03T14:53:39.412Z"
   },
   {
    "duration": 50,
    "start_time": "2022-07-03T14:53:39.519Z"
   },
   {
    "duration": 68,
    "start_time": "2022-07-03T14:53:39.577Z"
   },
   {
    "duration": 1422,
    "start_time": "2022-07-03T14:53:39.647Z"
   },
   {
    "duration": 11,
    "start_time": "2022-07-03T14:53:41.070Z"
   },
   {
    "duration": 731,
    "start_time": "2022-07-03T14:53:41.082Z"
   },
   {
    "duration": 10,
    "start_time": "2022-07-03T14:53:41.818Z"
   },
   {
    "duration": 219,
    "start_time": "2022-07-03T14:53:41.830Z"
   },
   {
    "duration": 93,
    "start_time": "2022-07-03T14:53:42.051Z"
   },
   {
    "duration": 317,
    "start_time": "2022-07-03T14:53:42.146Z"
   },
   {
    "duration": 29,
    "start_time": "2022-07-03T14:53:42.467Z"
   },
   {
    "duration": 334,
    "start_time": "2022-07-03T14:53:42.497Z"
   },
   {
    "duration": 204,
    "start_time": "2022-07-03T14:53:42.832Z"
   },
   {
    "duration": 277,
    "start_time": "2022-07-03T14:53:43.038Z"
   },
   {
    "duration": 58,
    "start_time": "2022-07-03T14:53:43.317Z"
   },
   {
    "duration": 71,
    "start_time": "2022-07-03T14:53:43.377Z"
   },
   {
    "duration": 15,
    "start_time": "2022-07-03T14:53:43.450Z"
   },
   {
    "duration": 65,
    "start_time": "2022-07-03T14:53:43.468Z"
   },
   {
    "duration": 16,
    "start_time": "2022-07-03T14:53:43.534Z"
   },
   {
    "duration": 21,
    "start_time": "2022-07-03T14:53:43.552Z"
   },
   {
    "duration": 319,
    "start_time": "2022-07-03T14:53:43.574Z"
   },
   {
    "duration": 33,
    "start_time": "2022-07-03T14:53:43.895Z"
   },
   {
    "duration": 822,
    "start_time": "2022-07-03T14:53:43.929Z"
   },
   {
    "duration": 208,
    "start_time": "2022-07-03T14:53:44.753Z"
   },
   {
    "duration": 25367,
    "start_time": "2022-07-03T14:53:44.963Z"
   },
   {
    "duration": 1260,
    "start_time": "2022-07-03T14:54:16.283Z"
   },
   {
    "duration": 994,
    "start_time": "2022-07-03T14:54:17.545Z"
   },
   {
    "duration": 635,
    "start_time": "2022-07-03T14:54:18.541Z"
   },
   {
    "duration": 994,
    "start_time": "2022-07-03T14:54:19.178Z"
   },
   {
    "duration": 137,
    "start_time": "2022-07-03T14:54:20.175Z"
   },
   {
    "duration": 97,
    "start_time": "2022-07-03T14:54:20.314Z"
   },
   {
    "duration": 1431,
    "start_time": "2022-07-03T14:54:20.412Z"
   },
   {
    "duration": 98,
    "start_time": "2022-07-03T14:54:21.844Z"
   },
   {
    "duration": 44,
    "start_time": "2022-07-03T14:54:21.944Z"
   },
   {
    "duration": 63,
    "start_time": "2022-07-03T14:54:21.990Z"
   },
   {
    "duration": 1394,
    "start_time": "2022-07-03T14:54:22.066Z"
   },
   {
    "duration": 10,
    "start_time": "2022-07-03T14:54:23.468Z"
   },
   {
    "duration": 490,
    "start_time": "2022-07-03T14:54:23.480Z"
   },
   {
    "duration": 10,
    "start_time": "2022-07-03T14:54:23.973Z"
   },
   {
    "duration": 167,
    "start_time": "2022-07-03T14:54:23.985Z"
   },
   {
    "duration": 75,
    "start_time": "2022-07-03T14:54:24.154Z"
   },
   {
    "duration": 283,
    "start_time": "2022-07-03T14:54:24.231Z"
   },
   {
    "duration": 21,
    "start_time": "2022-07-03T14:54:24.517Z"
   },
   {
    "duration": 352,
    "start_time": "2022-07-03T14:54:24.540Z"
   },
   {
    "duration": 208,
    "start_time": "2022-07-03T14:54:24.894Z"
   },
   {
    "duration": 259,
    "start_time": "2022-07-03T14:54:25.104Z"
   },
   {
    "duration": 51,
    "start_time": "2022-07-03T14:54:25.367Z"
   },
   {
    "duration": 80,
    "start_time": "2022-07-03T14:54:25.420Z"
   },
   {
    "duration": 4,
    "start_time": "2022-07-03T14:54:25.502Z"
   },
   {
    "duration": 41,
    "start_time": "2022-07-03T14:54:25.507Z"
   },
   {
    "duration": 32,
    "start_time": "2022-07-03T14:54:25.550Z"
   },
   {
    "duration": 31,
    "start_time": "2022-07-03T14:54:25.584Z"
   },
   {
    "duration": 267,
    "start_time": "2022-07-03T14:54:25.616Z"
   },
   {
    "duration": 31,
    "start_time": "2022-07-03T14:54:25.884Z"
   },
   {
    "duration": 722,
    "start_time": "2022-07-03T14:54:25.917Z"
   },
   {
    "duration": 74728,
    "start_time": "2022-07-03T14:54:26.640Z"
   },
   {
    "duration": 48812,
    "start_time": "2022-07-03T14:55:41.370Z"
   },
   {
    "duration": 456791,
    "start_time": "2022-07-03T14:56:30.185Z"
   },
   {
    "duration": 39,
    "start_time": "2022-07-03T15:04:06.978Z"
   },
   {
    "duration": 881,
    "start_time": "2022-07-03T15:04:07.019Z"
   },
   {
    "duration": 463622,
    "start_time": "2022-07-03T15:04:07.902Z"
   },
   {
    "duration": 4,
    "start_time": "2022-07-03T15:11:51.526Z"
   },
   {
    "duration": 398343,
    "start_time": "2022-07-03T15:11:51.532Z"
   },
   {
    "duration": 5,
    "start_time": "2022-07-03T15:18:29.877Z"
   },
   {
    "duration": 24,
    "start_time": "2022-07-03T15:18:29.883Z"
   },
   {
    "duration": 0,
    "start_time": "2022-07-03T15:18:29.909Z"
   },
   {
    "duration": 0,
    "start_time": "2022-07-03T15:18:29.967Z"
   },
   {
    "duration": 0,
    "start_time": "2022-07-03T15:18:29.969Z"
   },
   {
    "duration": 0,
    "start_time": "2022-07-03T15:18:29.970Z"
   },
   {
    "duration": 3448924,
    "start_time": "2022-07-03T15:23:05.161Z"
   },
   {
    "duration": 6,
    "start_time": "2022-07-03T16:20:34.087Z"
   },
   {
    "duration": 29204,
    "start_time": "2022-07-03T16:44:45.179Z"
   },
   {
    "duration": 489,
    "start_time": "2022-07-03T16:49:12.107Z"
   },
   {
    "duration": 4717,
    "start_time": "2022-07-03T16:49:36.266Z"
   },
   {
    "duration": 24741,
    "start_time": "2022-07-03T16:52:46.691Z"
   },
   {
    "duration": 482,
    "start_time": "2022-07-03T16:53:11.435Z"
   },
   {
    "duration": 4851,
    "start_time": "2022-07-03T16:54:01.610Z"
   },
   {
    "duration": 24004,
    "start_time": "2022-07-03T16:54:06.463Z"
   },
   {
    "duration": 72,
    "start_time": "2022-07-03T16:55:34.649Z"
   },
   {
    "duration": 36281,
    "start_time": "2022-07-03T16:56:19.874Z"
   },
   {
    "duration": 37437,
    "start_time": "2022-07-03T16:57:50.446Z"
   },
   {
    "duration": 57,
    "start_time": "2022-07-03T17:03:57.585Z"
   },
   {
    "duration": 59,
    "start_time": "2022-07-03T17:04:12.894Z"
   },
   {
    "duration": 4,
    "start_time": "2022-07-03T17:04:24.505Z"
   },
   {
    "duration": 50,
    "start_time": "2022-07-03T17:10:39.593Z"
   },
   {
    "duration": 4,
    "start_time": "2022-07-03T17:10:50.850Z"
   },
   {
    "duration": 91,
    "start_time": "2022-07-03T17:11:08.697Z"
   },
   {
    "duration": 65,
    "start_time": "2022-07-03T17:11:25.742Z"
   },
   {
    "duration": 78,
    "start_time": "2022-07-03T17:11:32.093Z"
   },
   {
    "duration": 35,
    "start_time": "2022-07-03T17:11:34.447Z"
   },
   {
    "duration": 6,
    "start_time": "2022-07-03T17:11:38.889Z"
   },
   {
    "duration": 119,
    "start_time": "2022-07-03T17:11:50.163Z"
   },
   {
    "duration": 121,
    "start_time": "2022-07-03T17:11:56.083Z"
   },
   {
    "duration": 50,
    "start_time": "2022-07-04T17:28:57.149Z"
   },
   {
    "duration": 1312,
    "start_time": "2022-07-04T17:29:04.189Z"
   },
   {
    "duration": 1492,
    "start_time": "2022-07-04T17:29:05.503Z"
   },
   {
    "duration": 718,
    "start_time": "2022-07-04T17:29:06.997Z"
   },
   {
    "duration": 1252,
    "start_time": "2022-07-04T17:29:07.722Z"
   },
   {
    "duration": 180,
    "start_time": "2022-07-04T17:29:08.976Z"
   },
   {
    "duration": 129,
    "start_time": "2022-07-04T17:29:09.158Z"
   },
   {
    "duration": 1911,
    "start_time": "2022-07-04T17:29:09.289Z"
   },
   {
    "duration": 130,
    "start_time": "2022-07-04T17:29:11.202Z"
   },
   {
    "duration": 48,
    "start_time": "2022-07-04T17:29:11.335Z"
   },
   {
    "duration": 101,
    "start_time": "2022-07-04T17:29:11.386Z"
   },
   {
    "duration": 1894,
    "start_time": "2022-07-04T17:29:11.489Z"
   },
   {
    "duration": 8,
    "start_time": "2022-07-04T17:29:13.384Z"
   },
   {
    "duration": 740,
    "start_time": "2022-07-04T17:29:13.393Z"
   },
   {
    "duration": 19,
    "start_time": "2022-07-04T17:29:14.136Z"
   },
   {
    "duration": 165,
    "start_time": "2022-07-04T17:29:14.157Z"
   },
   {
    "duration": 106,
    "start_time": "2022-07-04T17:29:14.325Z"
   },
   {
    "duration": 313,
    "start_time": "2022-07-04T17:29:14.434Z"
   },
   {
    "duration": 31,
    "start_time": "2022-07-04T17:29:14.750Z"
   },
   {
    "duration": 407,
    "start_time": "2022-07-04T17:29:14.783Z"
   },
   {
    "duration": 235,
    "start_time": "2022-07-04T17:29:15.191Z"
   },
   {
    "duration": 323,
    "start_time": "2022-07-04T17:29:15.430Z"
   },
   {
    "duration": 72,
    "start_time": "2022-07-04T17:29:15.755Z"
   },
   {
    "duration": 77,
    "start_time": "2022-07-04T17:29:15.829Z"
   },
   {
    "duration": 16,
    "start_time": "2022-07-04T17:29:15.908Z"
   },
   {
    "duration": 56,
    "start_time": "2022-07-04T17:29:15.925Z"
   },
   {
    "duration": 16,
    "start_time": "2022-07-04T17:29:15.983Z"
   },
   {
    "duration": 41,
    "start_time": "2022-07-04T17:29:16.001Z"
   },
   {
    "duration": 312,
    "start_time": "2022-07-04T17:29:16.049Z"
   },
   {
    "duration": 31,
    "start_time": "2022-07-04T17:29:16.363Z"
   },
   {
    "duration": 875,
    "start_time": "2022-07-04T17:29:16.395Z"
   },
   {
    "duration": 215900,
    "start_time": "2022-07-04T17:29:17.272Z"
   },
   {
    "duration": 62262,
    "start_time": "2022-07-04T17:32:53.234Z"
   },
   {
    "duration": 479247,
    "start_time": "2022-07-04T17:33:55.498Z"
   },
   {
    "duration": 44,
    "start_time": "2022-07-04T17:41:54.748Z"
   },
   {
    "duration": 3,
    "start_time": "2022-07-04T17:41:54.794Z"
   },
   {
    "duration": 524600,
    "start_time": "2022-07-04T17:41:54.798Z"
   },
   {
    "duration": 5,
    "start_time": "2022-07-04T17:50:39.399Z"
   },
   {
    "duration": 1474632,
    "start_time": "2022-07-04T17:50:39.406Z"
   },
   {
    "duration": 90,
    "start_time": "2022-07-04T18:15:14.039Z"
   },
   {
    "duration": 18192,
    "start_time": "2022-07-04T18:15:14.131Z"
   },
   {
    "duration": 525,
    "start_time": "2022-07-04T18:15:32.325Z"
   },
   {
    "duration": 5024,
    "start_time": "2022-07-04T18:15:32.852Z"
   },
   {
    "duration": 24648,
    "start_time": "2022-07-04T18:15:37.877Z"
   },
   {
    "duration": 0,
    "start_time": "2022-07-04T18:39:00.511Z"
   },
   {
    "duration": 0,
    "start_time": "2022-07-04T18:39:00.512Z"
   },
   {
    "duration": 0,
    "start_time": "2022-07-04T18:39:00.513Z"
   },
   {
    "duration": 0,
    "start_time": "2022-07-04T18:39:00.514Z"
   },
   {
    "duration": 0,
    "start_time": "2022-07-04T18:39:00.515Z"
   },
   {
    "duration": 0,
    "start_time": "2022-07-04T18:39:00.517Z"
   },
   {
    "duration": 0,
    "start_time": "2022-07-04T18:39:00.518Z"
   },
   {
    "duration": 0,
    "start_time": "2022-07-04T18:39:00.519Z"
   },
   {
    "duration": 0,
    "start_time": "2022-07-04T18:39:00.520Z"
   },
   {
    "duration": 0,
    "start_time": "2022-07-04T18:39:00.521Z"
   },
   {
    "duration": 0,
    "start_time": "2022-07-04T18:39:00.523Z"
   },
   {
    "duration": 0,
    "start_time": "2022-07-04T18:39:00.525Z"
   },
   {
    "duration": 0,
    "start_time": "2022-07-04T18:39:00.526Z"
   },
   {
    "duration": 0,
    "start_time": "2022-07-04T18:39:00.527Z"
   },
   {
    "duration": 0,
    "start_time": "2022-07-04T18:39:00.528Z"
   },
   {
    "duration": 0,
    "start_time": "2022-07-04T18:39:00.529Z"
   },
   {
    "duration": 0,
    "start_time": "2022-07-04T18:39:00.530Z"
   },
   {
    "duration": 0,
    "start_time": "2022-07-04T18:39:00.531Z"
   },
   {
    "duration": 0,
    "start_time": "2022-07-04T18:39:00.532Z"
   },
   {
    "duration": 0,
    "start_time": "2022-07-04T18:39:00.535Z"
   },
   {
    "duration": 0,
    "start_time": "2022-07-04T18:39:00.537Z"
   },
   {
    "duration": 0,
    "start_time": "2022-07-04T18:39:00.539Z"
   },
   {
    "duration": 0,
    "start_time": "2022-07-04T18:39:00.540Z"
   },
   {
    "duration": 0,
    "start_time": "2022-07-04T18:39:00.542Z"
   },
   {
    "duration": 0,
    "start_time": "2022-07-04T18:39:00.545Z"
   },
   {
    "duration": 0,
    "start_time": "2022-07-04T18:39:00.546Z"
   },
   {
    "duration": 8,
    "start_time": "2022-07-04T18:44:47.341Z"
   },
   {
    "duration": 1035,
    "start_time": "2022-07-04T18:44:49.058Z"
   },
   {
    "duration": 585,
    "start_time": "2022-07-04T18:44:51.241Z"
   },
   {
    "duration": 1108,
    "start_time": "2022-07-04T18:44:54.030Z"
   },
   {
    "duration": 154,
    "start_time": "2022-07-04T18:44:56.113Z"
   },
   {
    "duration": 104,
    "start_time": "2022-07-04T18:44:56.872Z"
   },
   {
    "duration": 1717,
    "start_time": "2022-07-04T18:44:57.337Z"
   },
   {
    "duration": 129,
    "start_time": "2022-07-04T18:44:59.056Z"
   },
   {
    "duration": 42,
    "start_time": "2022-07-04T18:44:59.974Z"
   },
   {
    "duration": 82,
    "start_time": "2022-07-04T18:45:01.637Z"
   },
   {
    "duration": 1897,
    "start_time": "2022-07-04T18:45:04.130Z"
   },
   {
    "duration": 13,
    "start_time": "2022-07-04T18:45:06.029Z"
   },
   {
    "duration": 392,
    "start_time": "2022-07-04T18:45:09.120Z"
   },
   {
    "duration": 12,
    "start_time": "2022-07-04T18:45:10.453Z"
   },
   {
    "duration": 39,
    "start_time": "2022-07-04T18:45:10.873Z"
   },
   {
    "duration": 73,
    "start_time": "2022-07-04T18:45:12.113Z"
   },
   {
    "duration": 268,
    "start_time": "2022-07-04T18:45:15.373Z"
   },
   {
    "duration": 23,
    "start_time": "2022-07-04T18:45:19.200Z"
   },
   {
    "duration": 267,
    "start_time": "2022-07-04T18:45:20.229Z"
   },
   {
    "duration": 278,
    "start_time": "2022-07-04T18:45:21.926Z"
   },
   {
    "duration": 282,
    "start_time": "2022-07-04T18:45:22.717Z"
   },
   {
    "duration": 66,
    "start_time": "2022-07-04T18:45:28.560Z"
   },
   {
    "duration": 88,
    "start_time": "2022-07-04T18:45:29.105Z"
   },
   {
    "duration": 5,
    "start_time": "2022-07-04T18:45:29.708Z"
   },
   {
    "duration": 46,
    "start_time": "2022-07-04T18:45:38.760Z"
   },
   {
    "duration": 56,
    "start_time": "2022-07-04T18:45:44.212Z"
   },
   {
    "duration": 15,
    "start_time": "2022-07-04T18:45:44.745Z"
   },
   {
    "duration": 17,
    "start_time": "2022-07-04T18:46:03.542Z"
   },
   {
    "duration": 63,
    "start_time": "2022-07-04T18:46:26.219Z"
   },
   {
    "duration": 31,
    "start_time": "2022-07-04T18:49:32.018Z"
   },
   {
    "duration": 14,
    "start_time": "2022-07-04T18:51:11.406Z"
   },
   {
    "duration": 1018,
    "start_time": "2022-07-04T18:51:25.906Z"
   },
   {
    "duration": 633,
    "start_time": "2022-07-04T18:51:26.927Z"
   },
   {
    "duration": 1058,
    "start_time": "2022-07-04T18:51:27.561Z"
   },
   {
    "duration": 175,
    "start_time": "2022-07-04T18:51:28.623Z"
   },
   {
    "duration": 115,
    "start_time": "2022-07-04T18:51:28.799Z"
   },
   {
    "duration": 1840,
    "start_time": "2022-07-04T18:51:28.915Z"
   },
   {
    "duration": 123,
    "start_time": "2022-07-04T18:51:30.757Z"
   },
   {
    "duration": 50,
    "start_time": "2022-07-04T18:51:30.882Z"
   },
   {
    "duration": 91,
    "start_time": "2022-07-04T18:51:31.301Z"
   },
   {
    "duration": 1622,
    "start_time": "2022-07-04T18:51:31.765Z"
   },
   {
    "duration": 12,
    "start_time": "2022-07-04T18:51:33.389Z"
   },
   {
    "duration": 452,
    "start_time": "2022-07-04T18:51:33.403Z"
   },
   {
    "duration": 10,
    "start_time": "2022-07-04T18:51:33.857Z"
   },
   {
    "duration": 47,
    "start_time": "2022-07-04T18:51:34.465Z"
   },
   {
    "duration": 70,
    "start_time": "2022-07-04T18:51:35.773Z"
   },
   {
    "duration": 264,
    "start_time": "2022-07-04T18:51:38.546Z"
   },
   {
    "duration": 27,
    "start_time": "2022-07-04T18:51:40.441Z"
   },
   {
    "duration": 266,
    "start_time": "2022-07-04T18:51:41.809Z"
   },
   {
    "duration": 235,
    "start_time": "2022-07-04T18:51:42.150Z"
   },
   {
    "duration": 308,
    "start_time": "2022-07-04T18:51:43.290Z"
   },
   {
    "duration": 79,
    "start_time": "2022-07-04T18:51:44.113Z"
   },
   {
    "duration": 121,
    "start_time": "2022-07-04T18:51:44.382Z"
   },
   {
    "duration": 5,
    "start_time": "2022-07-04T18:51:47.417Z"
   },
   {
    "duration": 68,
    "start_time": "2022-07-04T18:51:51.801Z"
   },
   {
    "duration": 20,
    "start_time": "2022-07-04T18:51:53.181Z"
   },
   {
    "duration": 35,
    "start_time": "2022-07-04T18:53:18.897Z"
   },
   {
    "duration": 280,
    "start_time": "2022-07-04T18:53:19.535Z"
   },
   {
    "duration": 12,
    "start_time": "2022-07-04T19:42:42.897Z"
   },
   {
    "duration": 21,
    "start_time": "2022-07-04T19:46:07.365Z"
   },
   {
    "duration": 32,
    "start_time": "2022-07-04T19:46:07.782Z"
   },
   {
    "duration": 37,
    "start_time": "2022-07-04T19:46:33.925Z"
   },
   {
    "duration": 5,
    "start_time": "2022-07-04T19:46:44.409Z"
   },
   {
    "duration": 925,
    "start_time": "2022-07-04T19:46:44.777Z"
   },
   {
    "duration": 567,
    "start_time": "2022-07-04T19:46:45.704Z"
   },
   {
    "duration": 961,
    "start_time": "2022-07-04T19:46:46.273Z"
   },
   {
    "duration": 166,
    "start_time": "2022-07-04T19:46:47.236Z"
   },
   {
    "duration": 132,
    "start_time": "2022-07-04T19:46:47.405Z"
   },
   {
    "duration": 1593,
    "start_time": "2022-07-04T19:46:47.540Z"
   },
   {
    "duration": 121,
    "start_time": "2022-07-04T19:46:49.135Z"
   },
   {
    "duration": 45,
    "start_time": "2022-07-04T19:46:49.259Z"
   },
   {
    "duration": 73,
    "start_time": "2022-07-04T19:46:49.701Z"
   },
   {
    "duration": 1491,
    "start_time": "2022-07-04T19:46:50.085Z"
   },
   {
    "duration": 10,
    "start_time": "2022-07-04T19:46:51.579Z"
   },
   {
    "duration": 323,
    "start_time": "2022-07-04T19:46:51.591Z"
   },
   {
    "duration": 11,
    "start_time": "2022-07-04T19:46:51.936Z"
   },
   {
    "duration": 40,
    "start_time": "2022-07-04T19:46:53.856Z"
   },
   {
    "duration": 84,
    "start_time": "2022-07-04T19:46:54.489Z"
   },
   {
    "duration": 216,
    "start_time": "2022-07-04T19:46:55.041Z"
   },
   {
    "duration": 23,
    "start_time": "2022-07-04T19:46:56.165Z"
   },
   {
    "duration": 224,
    "start_time": "2022-07-04T19:46:57.329Z"
   },
   {
    "duration": 199,
    "start_time": "2022-07-04T19:46:57.665Z"
   },
   {
    "duration": 238,
    "start_time": "2022-07-04T19:46:58.949Z"
   },
   {
    "duration": 65,
    "start_time": "2022-07-04T19:47:00.965Z"
   },
   {
    "duration": 75,
    "start_time": "2022-07-04T19:47:02.073Z"
   },
   {
    "duration": 4,
    "start_time": "2022-07-04T19:47:02.448Z"
   },
   {
    "duration": 53,
    "start_time": "2022-07-04T19:47:10.005Z"
   },
   {
    "duration": 17,
    "start_time": "2022-07-04T19:47:10.437Z"
   },
   {
    "duration": 29,
    "start_time": "2022-07-04T19:47:14.064Z"
   },
   {
    "duration": 38,
    "start_time": "2022-07-04T19:47:19.712Z"
   },
   {
    "duration": 51,
    "start_time": "2022-07-04T19:47:46.221Z"
   },
   {
    "duration": 1003,
    "start_time": "2022-07-04T19:49:05.301Z"
   },
   {
    "duration": 974,
    "start_time": "2022-07-04T19:50:11.265Z"
   },
   {
    "duration": 963,
    "start_time": "2022-07-04T19:50:38.845Z"
   },
   {
    "duration": 834,
    "start_time": "2022-07-04T19:50:58.541Z"
   },
   {
    "duration": 858,
    "start_time": "2022-07-04T19:51:13.005Z"
   },
   {
    "duration": 11,
    "start_time": "2022-07-04T19:51:21.821Z"
   },
   {
    "duration": 16,
    "start_time": "2022-07-04T19:52:40.484Z"
   },
   {
    "duration": 751,
    "start_time": "2022-07-04T19:52:49.229Z"
   },
   {
    "duration": 750,
    "start_time": "2022-07-04T19:53:24.505Z"
   },
   {
    "duration": 142,
    "start_time": "2022-07-04T19:53:38.380Z"
   },
   {
    "duration": 364,
    "start_time": "2022-07-04T19:53:50.625Z"
   },
   {
    "duration": 874,
    "start_time": "2022-07-04T19:54:40.056Z"
   },
   {
    "duration": 553,
    "start_time": "2022-07-04T19:54:40.931Z"
   },
   {
    "duration": 1113,
    "start_time": "2022-07-04T19:54:41.486Z"
   },
   {
    "duration": 156,
    "start_time": "2022-07-04T19:54:42.601Z"
   },
   {
    "duration": 110,
    "start_time": "2022-07-04T19:54:42.759Z"
   },
   {
    "duration": 1796,
    "start_time": "2022-07-04T19:54:42.871Z"
   },
   {
    "duration": 135,
    "start_time": "2022-07-04T19:54:44.669Z"
   },
   {
    "duration": 44,
    "start_time": "2022-07-04T19:54:44.806Z"
   },
   {
    "duration": 76,
    "start_time": "2022-07-04T19:54:45.209Z"
   },
   {
    "duration": 1570,
    "start_time": "2022-07-04T19:54:45.717Z"
   },
   {
    "duration": 9,
    "start_time": "2022-07-04T19:54:47.289Z"
   },
   {
    "duration": 370,
    "start_time": "2022-07-04T19:54:47.300Z"
   },
   {
    "duration": 11,
    "start_time": "2022-07-04T19:54:47.753Z"
   },
   {
    "duration": 36,
    "start_time": "2022-07-04T19:54:48.268Z"
   },
   {
    "duration": 57,
    "start_time": "2022-07-04T19:54:49.341Z"
   },
   {
    "duration": 233,
    "start_time": "2022-07-04T19:54:50.956Z"
   },
   {
    "duration": 22,
    "start_time": "2022-07-04T19:54:51.513Z"
   },
   {
    "duration": 224,
    "start_time": "2022-07-04T19:54:52.112Z"
   },
   {
    "duration": 201,
    "start_time": "2022-07-04T19:54:52.521Z"
   },
   {
    "duration": 257,
    "start_time": "2022-07-04T19:54:53.644Z"
   },
   {
    "duration": 58,
    "start_time": "2022-07-04T19:54:55.276Z"
   },
   {
    "duration": 86,
    "start_time": "2022-07-04T19:54:56.353Z"
   },
   {
    "duration": 4,
    "start_time": "2022-07-04T19:54:56.653Z"
   },
   {
    "duration": 81,
    "start_time": "2022-07-04T19:54:59.944Z"
   },
   {
    "duration": 17,
    "start_time": "2022-07-04T19:55:00.324Z"
   },
   {
    "duration": 28,
    "start_time": "2022-07-04T19:55:04.688Z"
   },
   {
    "duration": 44,
    "start_time": "2022-07-04T19:55:06.338Z"
   },
   {
    "duration": 347,
    "start_time": "2022-07-04T19:55:09.556Z"
   },
   {
    "duration": 42,
    "start_time": "2022-07-04T19:55:15.180Z"
   },
   {
    "duration": 4,
    "start_time": "2022-07-04T19:56:05.728Z"
   },
   {
    "duration": 3,
    "start_time": "2022-07-04T19:57:06.228Z"
   },
   {
    "duration": 713,
    "start_time": "2022-07-04T19:57:07.200Z"
   },
   {
    "duration": 75752,
    "start_time": "2022-07-04T19:57:10.076Z"
   },
   {
    "duration": 15864,
    "start_time": "2022-07-04T20:19:27.362Z"
   },
   {
    "duration": 16675,
    "start_time": "2022-07-04T20:21:39.055Z"
   },
   {
    "duration": 63718,
    "start_time": "2022-07-04T20:23:19.206Z"
   },
   {
    "duration": 45690,
    "start_time": "2022-07-04T20:25:13.235Z"
   },
   {
    "duration": 430763,
    "start_time": "2022-07-04T20:25:58.927Z"
   },
   {
    "duration": 44,
    "start_time": "2022-07-04T20:33:09.692Z"
   },
   {
    "duration": 2,
    "start_time": "2022-07-04T20:33:09.738Z"
   },
   {
    "duration": 463338,
    "start_time": "2022-07-04T20:33:09.741Z"
   },
   {
    "duration": 53,
    "start_time": "2022-07-04T21:23:45.622Z"
   },
   {
    "duration": 7,
    "start_time": "2022-07-04T21:24:18.746Z"
   },
   {
    "duration": 65,
    "start_time": "2022-07-04T21:24:40.205Z"
   },
   {
    "duration": 72,
    "start_time": "2022-07-04T21:24:52.710Z"
   },
   {
    "duration": 51,
    "start_time": "2022-07-04T21:25:58.310Z"
   },
   {
    "duration": 12,
    "start_time": "2022-07-04T21:26:03.998Z"
   },
   {
    "duration": 11,
    "start_time": "2022-07-04T21:26:18.358Z"
   },
   {
    "duration": 1159,
    "start_time": "2022-07-05T18:08:08.265Z"
   },
   {
    "duration": 1224,
    "start_time": "2022-07-05T18:08:09.425Z"
   },
   {
    "duration": 558,
    "start_time": "2022-07-05T18:08:10.651Z"
   },
   {
    "duration": 984,
    "start_time": "2022-07-05T18:08:11.211Z"
   },
   {
    "duration": 164,
    "start_time": "2022-07-05T18:08:12.197Z"
   },
   {
    "duration": 110,
    "start_time": "2022-07-05T18:08:12.363Z"
   },
   {
    "duration": 1515,
    "start_time": "2022-07-05T18:08:12.672Z"
   },
   {
    "duration": 131,
    "start_time": "2022-07-05T18:08:14.189Z"
   },
   {
    "duration": 39,
    "start_time": "2022-07-05T18:08:15.724Z"
   },
   {
    "duration": 71,
    "start_time": "2022-07-05T18:08:25.848Z"
   },
   {
    "duration": 1457,
    "start_time": "2022-07-05T18:08:29.966Z"
   },
   {
    "duration": 1489,
    "start_time": "2022-07-05T18:08:36.336Z"
   },
   {
    "duration": 10,
    "start_time": "2022-07-05T18:08:42.271Z"
   },
   {
    "duration": 621,
    "start_time": "2022-07-05T18:08:45.841Z"
   },
   {
    "duration": 11,
    "start_time": "2022-07-05T18:12:51.615Z"
   },
   {
    "duration": 977,
    "start_time": "2022-07-05T18:12:58.544Z"
   },
   {
    "duration": 555,
    "start_time": "2022-07-05T18:12:59.525Z"
   },
   {
    "duration": 969,
    "start_time": "2022-07-05T18:13:00.083Z"
   },
   {
    "duration": 209,
    "start_time": "2022-07-05T18:13:01.054Z"
   },
   {
    "duration": 129,
    "start_time": "2022-07-05T18:13:01.266Z"
   },
   {
    "duration": 1769,
    "start_time": "2022-07-05T18:13:01.398Z"
   },
   {
    "duration": 133,
    "start_time": "2022-07-05T18:13:03.169Z"
   },
   {
    "duration": 49,
    "start_time": "2022-07-05T18:13:03.304Z"
   },
   {
    "duration": 97,
    "start_time": "2022-07-05T18:13:03.355Z"
   },
   {
    "duration": 1774,
    "start_time": "2022-07-05T18:13:03.563Z"
   },
   {
    "duration": 12,
    "start_time": "2022-07-05T18:13:05.339Z"
   },
   {
    "duration": 330,
    "start_time": "2022-07-05T18:13:05.353Z"
   },
   {
    "duration": 11,
    "start_time": "2022-07-05T18:13:05.685Z"
   },
   {
    "duration": 145,
    "start_time": "2022-07-05T18:13:06.035Z"
   },
   {
    "duration": 10,
    "start_time": "2022-07-05T18:13:42.179Z"
   },
   {
    "duration": 10,
    "start_time": "2022-07-05T18:13:48.690Z"
   },
   {
    "duration": 122,
    "start_time": "2022-07-05T18:13:50.183Z"
   },
   {
    "duration": 3,
    "start_time": "2022-07-05T18:14:09.655Z"
   },
   {
    "duration": 3,
    "start_time": "2022-07-05T18:14:40.686Z"
   },
   {
    "duration": 4,
    "start_time": "2022-07-05T18:14:45.678Z"
   },
   {
    "duration": 9,
    "start_time": "2022-07-05T18:14:54.938Z"
   },
   {
    "duration": 4,
    "start_time": "2022-07-05T18:15:07.874Z"
   },
   {
    "duration": 892,
    "start_time": "2022-07-05T18:15:08.402Z"
   },
   {
    "duration": 509,
    "start_time": "2022-07-05T18:15:09.296Z"
   },
   {
    "duration": 842,
    "start_time": "2022-07-05T18:15:09.894Z"
   },
   {
    "duration": 135,
    "start_time": "2022-07-05T18:15:10.980Z"
   },
   {
    "duration": 99,
    "start_time": "2022-07-05T18:15:11.542Z"
   },
   {
    "duration": 1558,
    "start_time": "2022-07-05T18:15:12.126Z"
   },
   {
    "duration": 120,
    "start_time": "2022-07-05T18:15:13.686Z"
   },
   {
    "duration": 36,
    "start_time": "2022-07-05T18:15:14.055Z"
   },
   {
    "duration": 74,
    "start_time": "2022-07-05T18:15:14.994Z"
   },
   {
    "duration": 1512,
    "start_time": "2022-07-05T18:15:16.618Z"
   },
   {
    "duration": 9,
    "start_time": "2022-07-05T18:15:18.728Z"
   },
   {
    "duration": 304,
    "start_time": "2022-07-05T18:15:19.578Z"
   },
   {
    "duration": 10,
    "start_time": "2022-07-05T18:15:21.570Z"
   },
   {
    "duration": 35,
    "start_time": "2022-07-05T18:15:23.326Z"
   },
   {
    "duration": 4,
    "start_time": "2022-07-05T18:15:24.610Z"
   },
   {
    "duration": 9,
    "start_time": "2022-07-05T18:15:36.350Z"
   },
   {
    "duration": 833,
    "start_time": "2022-07-05T18:15:39.902Z"
   },
   {
    "duration": 504,
    "start_time": "2022-07-05T18:15:40.737Z"
   },
   {
    "duration": 828,
    "start_time": "2022-07-05T18:15:41.243Z"
   },
   {
    "duration": 149,
    "start_time": "2022-07-05T18:15:42.074Z"
   },
   {
    "duration": 113,
    "start_time": "2022-07-05T18:15:42.225Z"
   },
   {
    "duration": 1546,
    "start_time": "2022-07-05T18:15:42.340Z"
   },
   {
    "duration": 119,
    "start_time": "2022-07-05T18:15:43.888Z"
   },
   {
    "duration": 39,
    "start_time": "2022-07-05T18:15:44.009Z"
   },
   {
    "duration": 79,
    "start_time": "2022-07-05T18:15:44.827Z"
   },
   {
    "duration": 1442,
    "start_time": "2022-07-05T18:15:45.374Z"
   },
   {
    "duration": 12,
    "start_time": "2022-07-05T18:15:46.818Z"
   },
   {
    "duration": 302,
    "start_time": "2022-07-05T18:15:46.831Z"
   },
   {
    "duration": 14,
    "start_time": "2022-07-05T18:15:47.406Z"
   },
   {
    "duration": 35,
    "start_time": "2022-07-05T18:15:51.578Z"
   },
   {
    "duration": 3,
    "start_time": "2022-07-05T18:15:51.898Z"
   },
   {
    "duration": 10,
    "start_time": "2022-07-05T18:16:07.096Z"
   },
   {
    "duration": 36,
    "start_time": "2022-07-05T18:16:08.566Z"
   },
   {
    "duration": 3,
    "start_time": "2022-07-05T18:16:08.879Z"
   },
   {
    "duration": 9,
    "start_time": "2022-07-05T18:16:20.502Z"
   },
   {
    "duration": 931,
    "start_time": "2022-07-05T18:16:26.438Z"
   },
   {
    "duration": 524,
    "start_time": "2022-07-05T18:16:27.372Z"
   },
   {
    "duration": 856,
    "start_time": "2022-07-05T18:16:27.897Z"
   },
   {
    "duration": 139,
    "start_time": "2022-07-05T18:16:28.755Z"
   },
   {
    "duration": 108,
    "start_time": "2022-07-05T18:16:28.896Z"
   },
   {
    "duration": 1584,
    "start_time": "2022-07-05T18:16:29.006Z"
   },
   {
    "duration": 116,
    "start_time": "2022-07-05T18:16:30.592Z"
   },
   {
    "duration": 45,
    "start_time": "2022-07-05T18:16:30.710Z"
   },
   {
    "duration": 72,
    "start_time": "2022-07-05T18:16:31.530Z"
   },
   {
    "duration": 1459,
    "start_time": "2022-07-05T18:16:32.306Z"
   },
   {
    "duration": 9,
    "start_time": "2022-07-05T18:16:33.767Z"
   },
   {
    "duration": 310,
    "start_time": "2022-07-05T18:16:33.882Z"
   },
   {
    "duration": 10,
    "start_time": "2022-07-05T18:16:36.134Z"
   },
   {
    "duration": 10,
    "start_time": "2022-07-05T18:16:40.960Z"
   },
   {
    "duration": 40,
    "start_time": "2022-07-05T18:16:42.102Z"
   },
   {
    "duration": 4,
    "start_time": "2022-07-05T18:16:42.485Z"
   },
   {
    "duration": 9,
    "start_time": "2022-07-05T18:19:59.327Z"
   },
   {
    "duration": 34,
    "start_time": "2022-07-05T18:19:59.594Z"
   },
   {
    "duration": 3,
    "start_time": "2022-07-05T18:19:59.830Z"
   },
   {
    "duration": 62,
    "start_time": "2022-07-05T18:20:00.934Z"
   },
   {
    "duration": 822,
    "start_time": "2022-07-05T18:20:11.893Z"
   },
   {
    "duration": 479,
    "start_time": "2022-07-05T18:20:12.723Z"
   },
   {
    "duration": 825,
    "start_time": "2022-07-05T18:20:13.204Z"
   },
   {
    "duration": 142,
    "start_time": "2022-07-05T18:20:14.031Z"
   },
   {
    "duration": 107,
    "start_time": "2022-07-05T18:20:14.175Z"
   },
   {
    "duration": 1596,
    "start_time": "2022-07-05T18:20:14.284Z"
   },
   {
    "duration": 116,
    "start_time": "2022-07-05T18:20:15.882Z"
   },
   {
    "duration": 40,
    "start_time": "2022-07-05T18:20:15.999Z"
   },
   {
    "duration": 82,
    "start_time": "2022-07-05T18:20:16.298Z"
   },
   {
    "duration": 1484,
    "start_time": "2022-07-05T18:20:16.993Z"
   },
   {
    "duration": 9,
    "start_time": "2022-07-05T18:20:18.478Z"
   },
   {
    "duration": 305,
    "start_time": "2022-07-05T18:20:18.733Z"
   },
   {
    "duration": 9,
    "start_time": "2022-07-05T18:20:20.133Z"
   },
   {
    "duration": 34,
    "start_time": "2022-07-05T18:20:20.593Z"
   },
   {
    "duration": 3,
    "start_time": "2022-07-05T18:20:21.137Z"
   },
   {
    "duration": 59,
    "start_time": "2022-07-05T18:20:26.497Z"
   },
   {
    "duration": 242,
    "start_time": "2022-07-05T18:20:28.894Z"
   },
   {
    "duration": 22,
    "start_time": "2022-07-05T18:20:30.433Z"
   },
   {
    "duration": 218,
    "start_time": "2022-07-05T18:20:31.585Z"
   },
   {
    "duration": 187,
    "start_time": "2022-07-05T18:20:31.893Z"
   },
   {
    "duration": 343,
    "start_time": "2022-07-05T18:20:33.041Z"
   },
   {
    "duration": 243,
    "start_time": "2022-07-05T18:21:11.973Z"
   },
   {
    "duration": 254,
    "start_time": "2022-07-05T18:21:15.801Z"
   },
   {
    "duration": 245,
    "start_time": "2022-07-05T18:21:24.297Z"
   },
   {
    "duration": 5,
    "start_time": "2022-07-05T18:21:33.289Z"
   },
   {
    "duration": 855,
    "start_time": "2022-07-05T18:21:33.757Z"
   },
   {
    "duration": 520,
    "start_time": "2022-07-05T18:21:34.614Z"
   },
   {
    "duration": 818,
    "start_time": "2022-07-05T18:21:35.136Z"
   },
   {
    "duration": 145,
    "start_time": "2022-07-05T18:21:35.956Z"
   },
   {
    "duration": 111,
    "start_time": "2022-07-05T18:21:36.103Z"
   },
   {
    "duration": 1578,
    "start_time": "2022-07-05T18:21:36.215Z"
   },
   {
    "duration": 112,
    "start_time": "2022-07-05T18:21:37.795Z"
   },
   {
    "duration": 42,
    "start_time": "2022-07-05T18:21:37.909Z"
   },
   {
    "duration": 85,
    "start_time": "2022-07-05T18:21:38.759Z"
   },
   {
    "duration": 1454,
    "start_time": "2022-07-05T18:21:39.525Z"
   },
   {
    "duration": 9,
    "start_time": "2022-07-05T18:21:41.357Z"
   },
   {
    "duration": 301,
    "start_time": "2022-07-05T18:21:42.233Z"
   },
   {
    "duration": 10,
    "start_time": "2022-07-05T18:21:44.533Z"
   },
   {
    "duration": 37,
    "start_time": "2022-07-05T18:21:44.941Z"
   },
   {
    "duration": 3,
    "start_time": "2022-07-05T18:21:45.213Z"
   },
   {
    "duration": 57,
    "start_time": "2022-07-05T18:21:46.001Z"
   },
   {
    "duration": 272,
    "start_time": "2022-07-05T18:21:47.305Z"
   },
   {
    "duration": 21,
    "start_time": "2022-07-05T18:21:49.041Z"
   },
   {
    "duration": 220,
    "start_time": "2022-07-05T18:21:49.509Z"
   },
   {
    "duration": 199,
    "start_time": "2022-07-05T18:21:49.731Z"
   },
   {
    "duration": 253,
    "start_time": "2022-07-05T18:21:50.277Z"
   },
   {
    "duration": 51,
    "start_time": "2022-07-05T18:21:50.941Z"
   },
   {
    "duration": 61,
    "start_time": "2022-07-05T18:21:51.673Z"
   },
   {
    "duration": 64,
    "start_time": "2022-07-05T18:23:43.734Z"
   },
   {
    "duration": 98,
    "start_time": "2022-07-05T18:23:44.481Z"
   },
   {
    "duration": 3,
    "start_time": "2022-07-05T18:23:45.149Z"
   },
   {
    "duration": 5,
    "start_time": "2022-07-05T18:25:10.157Z"
   },
   {
    "duration": 862,
    "start_time": "2022-07-05T18:25:11.038Z"
   },
   {
    "duration": 550,
    "start_time": "2022-07-05T18:25:11.902Z"
   },
   {
    "duration": 883,
    "start_time": "2022-07-05T18:25:12.454Z"
   },
   {
    "duration": 154,
    "start_time": "2022-07-05T18:25:13.339Z"
   },
   {
    "duration": 115,
    "start_time": "2022-07-05T18:25:13.495Z"
   },
   {
    "duration": 1703,
    "start_time": "2022-07-05T18:25:13.956Z"
   },
   {
    "duration": 132,
    "start_time": "2022-07-05T18:25:15.661Z"
   },
   {
    "duration": 50,
    "start_time": "2022-07-05T18:25:15.795Z"
   },
   {
    "duration": 80,
    "start_time": "2022-07-05T18:25:16.572Z"
   },
   {
    "duration": 1633,
    "start_time": "2022-07-05T18:25:17.092Z"
   },
   {
    "duration": 13,
    "start_time": "2022-07-05T18:25:18.728Z"
   },
   {
    "duration": 449,
    "start_time": "2022-07-05T18:25:18.743Z"
   },
   {
    "duration": 10,
    "start_time": "2022-07-05T18:25:19.194Z"
   },
   {
    "duration": 52,
    "start_time": "2022-07-05T18:25:19.206Z"
   },
   {
    "duration": 4,
    "start_time": "2022-07-05T18:25:19.292Z"
   },
   {
    "duration": 67,
    "start_time": "2022-07-05T18:25:20.189Z"
   },
   {
    "duration": 240,
    "start_time": "2022-07-05T18:25:21.801Z"
   },
   {
    "duration": 20,
    "start_time": "2022-07-05T18:25:22.997Z"
   },
   {
    "duration": 236,
    "start_time": "2022-07-05T18:25:24.009Z"
   },
   {
    "duration": 212,
    "start_time": "2022-07-05T18:25:24.345Z"
   },
   {
    "duration": 271,
    "start_time": "2022-07-05T18:25:25.109Z"
   },
   {
    "duration": 68,
    "start_time": "2022-07-05T18:25:26.909Z"
   },
   {
    "duration": 100,
    "start_time": "2022-07-05T18:25:27.476Z"
   },
   {
    "duration": 4,
    "start_time": "2022-07-05T18:25:35.669Z"
   },
   {
    "duration": 874,
    "start_time": "2022-07-05T18:25:36.337Z"
   },
   {
    "duration": 590,
    "start_time": "2022-07-05T18:25:37.213Z"
   },
   {
    "duration": 923,
    "start_time": "2022-07-05T18:25:37.805Z"
   },
   {
    "duration": 157,
    "start_time": "2022-07-05T18:25:38.984Z"
   },
   {
    "duration": 106,
    "start_time": "2022-07-05T18:25:40.873Z"
   },
   {
    "duration": 1684,
    "start_time": "2022-07-05T18:25:41.964Z"
   },
   {
    "duration": 120,
    "start_time": "2022-07-05T18:25:43.716Z"
   },
   {
    "duration": 45,
    "start_time": "2022-07-05T18:25:44.700Z"
   },
   {
    "duration": 80,
    "start_time": "2022-07-05T18:25:45.429Z"
   },
   {
    "duration": 1575,
    "start_time": "2022-07-05T18:25:47.812Z"
   },
   {
    "duration": 8,
    "start_time": "2022-07-05T18:25:49.389Z"
   },
   {
    "duration": 329,
    "start_time": "2022-07-05T18:25:51.564Z"
   },
   {
    "duration": 11,
    "start_time": "2022-07-05T18:25:58.212Z"
   },
   {
    "duration": 33,
    "start_time": "2022-07-05T18:26:58.712Z"
   },
   {
    "duration": 4,
    "start_time": "2022-07-05T18:26:59.140Z"
   },
   {
    "duration": 64,
    "start_time": "2022-07-05T18:27:18.572Z"
   },
   {
    "duration": 248,
    "start_time": "2022-07-05T18:27:54.660Z"
   },
   {
    "duration": 23,
    "start_time": "2022-07-05T18:28:56.596Z"
   },
   {
    "duration": 897,
    "start_time": "2022-07-05T18:29:36.156Z"
   },
   {
    "duration": 680,
    "start_time": "2022-07-05T18:29:37.056Z"
   },
   {
    "duration": 940,
    "start_time": "2022-07-05T18:29:37.741Z"
   },
   {
    "duration": 177,
    "start_time": "2022-07-05T18:29:38.683Z"
   },
   {
    "duration": 128,
    "start_time": "2022-07-05T18:29:38.862Z"
   },
   {
    "duration": 1767,
    "start_time": "2022-07-05T18:29:38.992Z"
   },
   {
    "duration": 123,
    "start_time": "2022-07-05T18:29:40.761Z"
   },
   {
    "duration": 46,
    "start_time": "2022-07-05T18:29:40.886Z"
   },
   {
    "duration": 82,
    "start_time": "2022-07-05T18:29:41.316Z"
   },
   {
    "duration": 1550,
    "start_time": "2022-07-05T18:29:41.852Z"
   },
   {
    "duration": 9,
    "start_time": "2022-07-05T18:29:43.404Z"
   },
   {
    "duration": 328,
    "start_time": "2022-07-05T18:29:43.414Z"
   },
   {
    "duration": 10,
    "start_time": "2022-07-05T18:29:43.744Z"
   },
   {
    "duration": 28,
    "start_time": "2022-07-05T18:29:43.972Z"
   },
   {
    "duration": 3,
    "start_time": "2022-07-05T18:29:45.579Z"
   },
   {
    "duration": 72,
    "start_time": "2022-07-05T18:29:48.280Z"
   },
   {
    "duration": 3,
    "start_time": "2022-07-05T18:30:39.695Z"
   },
   {
    "duration": 48,
    "start_time": "2022-07-05T18:30:40.548Z"
   },
   {
    "duration": 226,
    "start_time": "2022-07-05T18:30:41.980Z"
   },
   {
    "duration": 27,
    "start_time": "2022-07-05T18:30:44.339Z"
   },
   {
    "duration": 432,
    "start_time": "2022-07-05T18:33:54.787Z"
   },
   {
    "duration": 245,
    "start_time": "2022-07-05T18:33:56.087Z"
   },
   {
    "duration": 299,
    "start_time": "2022-07-05T18:33:58.448Z"
   },
   {
    "duration": 64,
    "start_time": "2022-07-05T18:34:09.842Z"
   },
   {
    "duration": 13,
    "start_time": "2022-07-05T18:34:41.351Z"
   },
   {
    "duration": 9,
    "start_time": "2022-07-05T18:39:42.012Z"
   },
   {
    "duration": 41,
    "start_time": "2022-07-05T18:39:42.376Z"
   },
   {
    "duration": 5,
    "start_time": "2022-07-05T18:39:43.725Z"
   },
   {
    "duration": 61,
    "start_time": "2022-07-05T18:39:45.813Z"
   },
   {
    "duration": 262,
    "start_time": "2022-07-05T18:39:49.297Z"
   },
   {
    "duration": 21,
    "start_time": "2022-07-05T18:39:52.481Z"
   },
   {
    "duration": 247,
    "start_time": "2022-07-05T18:39:54.749Z"
   },
   {
    "duration": 208,
    "start_time": "2022-07-05T18:39:56.085Z"
   },
   {
    "duration": 293,
    "start_time": "2022-07-05T18:40:00.145Z"
   },
   {
    "duration": 980,
    "start_time": "2022-07-05T18:40:06.585Z"
   },
   {
    "duration": 649,
    "start_time": "2022-07-05T18:40:07.567Z"
   },
   {
    "duration": 993,
    "start_time": "2022-07-05T18:40:08.224Z"
   },
   {
    "duration": 166,
    "start_time": "2022-07-05T18:40:09.219Z"
   },
   {
    "duration": 125,
    "start_time": "2022-07-05T18:40:09.387Z"
   },
   {
    "duration": 1784,
    "start_time": "2022-07-05T18:40:09.514Z"
   },
   {
    "duration": 152,
    "start_time": "2022-07-05T18:40:11.300Z"
   },
   {
    "duration": 69,
    "start_time": "2022-07-05T18:40:11.455Z"
   },
   {
    "duration": 105,
    "start_time": "2022-07-05T18:40:11.526Z"
   },
   {
    "duration": 1622,
    "start_time": "2022-07-05T18:40:11.633Z"
   },
   {
    "duration": 9,
    "start_time": "2022-07-05T18:40:13.257Z"
   },
   {
    "duration": 340,
    "start_time": "2022-07-05T18:40:13.269Z"
   },
   {
    "duration": 19,
    "start_time": "2022-07-05T18:40:13.611Z"
   },
   {
    "duration": 39,
    "start_time": "2022-07-05T18:40:13.632Z"
   },
   {
    "duration": 4,
    "start_time": "2022-07-05T18:40:13.672Z"
   },
   {
    "duration": 89,
    "start_time": "2022-07-05T18:40:13.677Z"
   },
   {
    "duration": 239,
    "start_time": "2022-07-05T18:40:13.768Z"
   },
   {
    "duration": 22,
    "start_time": "2022-07-05T18:40:14.053Z"
   },
   {
    "duration": 379,
    "start_time": "2022-07-05T18:40:14.601Z"
   },
   {
    "duration": 216,
    "start_time": "2022-07-05T18:40:14.982Z"
   },
   {
    "duration": 262,
    "start_time": "2022-07-05T18:40:16.638Z"
   },
   {
    "duration": 64,
    "start_time": "2022-07-05T18:40:20.139Z"
   },
   {
    "duration": 28,
    "start_time": "2022-07-05T18:43:57.759Z"
   },
   {
    "duration": 49,
    "start_time": "2022-07-05T18:44:00.719Z"
   },
   {
    "duration": 107,
    "start_time": "2022-07-05T18:45:14.844Z"
   },
   {
    "duration": 23,
    "start_time": "2022-07-05T18:49:16.982Z"
   },
   {
    "duration": 34,
    "start_time": "2022-07-05T18:53:20.130Z"
   },
   {
    "duration": 33,
    "start_time": "2022-07-05T18:53:28.602Z"
   },
   {
    "duration": 18,
    "start_time": "2022-07-05T18:53:51.934Z"
   },
   {
    "duration": 19,
    "start_time": "2022-07-05T18:54:02.605Z"
   },
   {
    "duration": 30,
    "start_time": "2022-07-05T18:54:07.710Z"
   },
   {
    "duration": 3,
    "start_time": "2022-07-05T18:55:19.212Z"
   },
   {
    "duration": 5,
    "start_time": "2022-07-05T18:55:48.547Z"
   },
   {
    "duration": 4,
    "start_time": "2022-07-05T18:56:02.618Z"
   },
   {
    "duration": 910,
    "start_time": "2022-07-05T18:56:08.647Z"
   },
   {
    "duration": 555,
    "start_time": "2022-07-05T18:56:09.559Z"
   },
   {
    "duration": 940,
    "start_time": "2022-07-05T18:56:10.124Z"
   },
   {
    "duration": 152,
    "start_time": "2022-07-05T18:56:11.066Z"
   },
   {
    "duration": 108,
    "start_time": "2022-07-05T18:56:11.219Z"
   },
   {
    "duration": 1622,
    "start_time": "2022-07-05T18:56:11.329Z"
   },
   {
    "duration": 118,
    "start_time": "2022-07-05T18:56:12.953Z"
   },
   {
    "duration": 36,
    "start_time": "2022-07-05T18:56:13.073Z"
   },
   {
    "duration": 74,
    "start_time": "2022-07-05T18:56:13.170Z"
   },
   {
    "duration": 1537,
    "start_time": "2022-07-05T18:56:13.586Z"
   },
   {
    "duration": 8,
    "start_time": "2022-07-05T18:56:15.126Z"
   },
   {
    "duration": 329,
    "start_time": "2022-07-05T18:56:15.135Z"
   },
   {
    "duration": 10,
    "start_time": "2022-07-05T18:56:15.468Z"
   },
   {
    "duration": 52,
    "start_time": "2022-07-05T18:56:15.480Z"
   },
   {
    "duration": 3,
    "start_time": "2022-07-05T18:56:15.534Z"
   },
   {
    "duration": 63,
    "start_time": "2022-07-05T18:56:16.619Z"
   },
   {
    "duration": 228,
    "start_time": "2022-07-05T18:56:17.727Z"
   },
   {
    "duration": 23,
    "start_time": "2022-07-05T18:56:18.274Z"
   },
   {
    "duration": 236,
    "start_time": "2022-07-05T18:56:19.422Z"
   },
   {
    "duration": 199,
    "start_time": "2022-07-05T18:56:19.914Z"
   },
   {
    "duration": 257,
    "start_time": "2022-07-05T18:56:20.854Z"
   },
   {
    "duration": 68,
    "start_time": "2022-07-05T18:56:24.303Z"
   },
   {
    "duration": 12,
    "start_time": "2022-07-05T18:56:24.870Z"
   },
   {
    "duration": 19,
    "start_time": "2022-07-05T18:56:26.367Z"
   },
   {
    "duration": 5,
    "start_time": "2022-07-05T18:56:28.334Z"
   },
   {
    "duration": 4,
    "start_time": "2022-07-05T18:56:29.379Z"
   },
   {
    "duration": 4,
    "start_time": "2022-07-05T18:56:58.794Z"
   },
   {
    "duration": 9,
    "start_time": "2022-07-05T18:56:59.410Z"
   },
   {
    "duration": 9,
    "start_time": "2022-07-05T18:59:20.914Z"
   },
   {
    "duration": 3,
    "start_time": "2022-07-05T18:59:24.691Z"
   },
   {
    "duration": 5,
    "start_time": "2022-07-05T18:59:25.083Z"
   },
   {
    "duration": 93,
    "start_time": "2022-07-05T19:03:39.855Z"
   },
   {
    "duration": 21,
    "start_time": "2022-07-05T19:09:48.884Z"
   },
   {
    "duration": 48,
    "start_time": "2022-07-05T19:09:52.183Z"
   },
   {
    "duration": 2166,
    "start_time": "2022-07-05T19:09:52.799Z"
   },
   {
    "duration": 55,
    "start_time": "2022-07-05T19:11:11.223Z"
   },
   {
    "duration": 50,
    "start_time": "2022-07-05T19:13:23.883Z"
   },
   {
    "duration": 86,
    "start_time": "2022-07-05T19:13:38.740Z"
   },
   {
    "duration": 61,
    "start_time": "2022-07-05T19:14:02.487Z"
   },
   {
    "duration": 59,
    "start_time": "2022-07-05T19:14:06.942Z"
   },
   {
    "duration": 78,
    "start_time": "2022-07-05T19:14:10.941Z"
   },
   {
    "duration": 870,
    "start_time": "2022-07-05T19:14:25.866Z"
   },
   {
    "duration": 581,
    "start_time": "2022-07-05T19:14:26.738Z"
   },
   {
    "duration": 919,
    "start_time": "2022-07-05T19:14:27.324Z"
   },
   {
    "duration": 161,
    "start_time": "2022-07-05T19:14:28.246Z"
   },
   {
    "duration": 106,
    "start_time": "2022-07-05T19:14:28.409Z"
   },
   {
    "duration": 1611,
    "start_time": "2022-07-05T19:14:28.517Z"
   },
   {
    "duration": 120,
    "start_time": "2022-07-05T19:14:30.130Z"
   },
   {
    "duration": 37,
    "start_time": "2022-07-05T19:14:30.252Z"
   },
   {
    "duration": 73,
    "start_time": "2022-07-05T19:14:31.111Z"
   },
   {
    "duration": 1510,
    "start_time": "2022-07-05T19:14:31.707Z"
   },
   {
    "duration": 10,
    "start_time": "2022-07-05T19:14:33.220Z"
   },
   {
    "duration": 368,
    "start_time": "2022-07-05T19:14:33.414Z"
   },
   {
    "duration": 11,
    "start_time": "2022-07-05T19:14:34.083Z"
   },
   {
    "duration": 38,
    "start_time": "2022-07-05T19:14:34.380Z"
   },
   {
    "duration": 3,
    "start_time": "2022-07-05T19:14:35.319Z"
   },
   {
    "duration": 59,
    "start_time": "2022-07-05T19:14:36.683Z"
   },
   {
    "duration": 348,
    "start_time": "2022-07-05T19:14:38.338Z"
   },
   {
    "duration": 22,
    "start_time": "2022-07-05T19:14:39.278Z"
   },
   {
    "duration": 257,
    "start_time": "2022-07-05T19:14:46.287Z"
   },
   {
    "duration": 187,
    "start_time": "2022-07-05T19:14:47.174Z"
   },
   {
    "duration": 261,
    "start_time": "2022-07-05T19:15:02.771Z"
   },
   {
    "duration": 87,
    "start_time": "2022-07-05T19:15:04.558Z"
   },
   {
    "duration": 12,
    "start_time": "2022-07-05T19:15:05.135Z"
   },
   {
    "duration": 82,
    "start_time": "2022-07-05T19:15:05.694Z"
   },
   {
    "duration": 49,
    "start_time": "2022-07-05T19:26:51.378Z"
   },
   {
    "duration": 51,
    "start_time": "2022-07-05T19:27:48.278Z"
   },
   {
    "duration": 72,
    "start_time": "2022-07-05T19:28:38.394Z"
   },
   {
    "duration": 2121,
    "start_time": "2022-07-05T19:33:47.498Z"
   },
   {
    "duration": 12,
    "start_time": "2022-07-05T19:34:30.898Z"
   },
   {
    "duration": 813,
    "start_time": "2022-07-05T19:36:28.081Z"
   },
   {
    "duration": 70,
    "start_time": "2022-07-05T19:36:42.574Z"
   },
   {
    "duration": 828,
    "start_time": "2022-07-05T19:39:31.029Z"
   },
   {
    "duration": 518,
    "start_time": "2022-07-05T19:39:31.859Z"
   },
   {
    "duration": 828,
    "start_time": "2022-07-05T19:39:32.379Z"
   },
   {
    "duration": 139,
    "start_time": "2022-07-05T19:39:33.209Z"
   },
   {
    "duration": 109,
    "start_time": "2022-07-05T19:39:33.349Z"
   },
   {
    "duration": 1565,
    "start_time": "2022-07-05T19:39:33.460Z"
   },
   {
    "duration": 114,
    "start_time": "2022-07-05T19:39:35.027Z"
   },
   {
    "duration": 37,
    "start_time": "2022-07-05T19:39:35.313Z"
   },
   {
    "duration": 78,
    "start_time": "2022-07-05T19:39:36.105Z"
   },
   {
    "duration": 1485,
    "start_time": "2022-07-05T19:39:36.657Z"
   },
   {
    "duration": 10,
    "start_time": "2022-07-05T19:39:38.145Z"
   },
   {
    "duration": 339,
    "start_time": "2022-07-05T19:39:38.157Z"
   },
   {
    "duration": 25,
    "start_time": "2022-07-05T19:39:38.499Z"
   },
   {
    "duration": 37,
    "start_time": "2022-07-05T19:39:38.526Z"
   },
   {
    "duration": 3,
    "start_time": "2022-07-05T19:39:39.190Z"
   },
   {
    "duration": 60,
    "start_time": "2022-07-05T19:39:40.265Z"
   },
   {
    "duration": 235,
    "start_time": "2022-07-05T19:39:42.250Z"
   },
   {
    "duration": 23,
    "start_time": "2022-07-05T19:39:43.926Z"
   },
   {
    "duration": 231,
    "start_time": "2022-07-05T19:39:44.866Z"
   },
   {
    "duration": 202,
    "start_time": "2022-07-05T19:39:45.099Z"
   },
   {
    "duration": 244,
    "start_time": "2022-07-05T19:39:45.533Z"
   },
   {
    "duration": 84,
    "start_time": "2022-07-05T19:39:46.313Z"
   },
   {
    "duration": 13,
    "start_time": "2022-07-05T19:39:46.510Z"
   },
   {
    "duration": 81,
    "start_time": "2022-07-05T19:39:46.705Z"
   },
   {
    "duration": 2106,
    "start_time": "2022-07-05T19:39:47.254Z"
   },
   {
    "duration": 80,
    "start_time": "2022-07-05T19:39:49.362Z"
   },
   {
    "duration": 57,
    "start_time": "2022-07-05T19:39:49.444Z"
   },
   {
    "duration": 0,
    "start_time": "2022-07-05T19:39:49.503Z"
   },
   {
    "duration": 51,
    "start_time": "2022-07-05T19:39:49.705Z"
   },
   {
    "duration": 892,
    "start_time": "2022-07-05T19:40:06.941Z"
   },
   {
    "duration": 495,
    "start_time": "2022-07-05T19:40:07.835Z"
   },
   {
    "duration": 876,
    "start_time": "2022-07-05T19:40:08.332Z"
   },
   {
    "duration": 143,
    "start_time": "2022-07-05T19:40:09.210Z"
   },
   {
    "duration": 100,
    "start_time": "2022-07-05T19:40:09.354Z"
   },
   {
    "duration": 1541,
    "start_time": "2022-07-05T19:40:09.456Z"
   },
   {
    "duration": 108,
    "start_time": "2022-07-05T19:40:10.999Z"
   },
   {
    "duration": 44,
    "start_time": "2022-07-05T19:40:11.109Z"
   },
   {
    "duration": 81,
    "start_time": "2022-07-05T19:40:11.155Z"
   },
   {
    "duration": 1424,
    "start_time": "2022-07-05T19:40:11.413Z"
   },
   {
    "duration": 8,
    "start_time": "2022-07-05T19:40:12.839Z"
   },
   {
    "duration": 411,
    "start_time": "2022-07-05T19:40:12.848Z"
   },
   {
    "duration": 10,
    "start_time": "2022-07-05T19:40:13.421Z"
   },
   {
    "duration": 35,
    "start_time": "2022-07-05T19:40:13.737Z"
   },
   {
    "duration": 4,
    "start_time": "2022-07-05T19:40:15.505Z"
   },
   {
    "duration": 58,
    "start_time": "2022-07-05T19:40:16.189Z"
   },
   {
    "duration": 241,
    "start_time": "2022-07-05T19:40:17.373Z"
   },
   {
    "duration": 23,
    "start_time": "2022-07-05T19:40:18.434Z"
   },
   {
    "duration": 242,
    "start_time": "2022-07-05T19:40:19.581Z"
   },
   {
    "duration": 201,
    "start_time": "2022-07-05T19:40:19.825Z"
   },
   {
    "duration": 243,
    "start_time": "2022-07-05T19:40:20.149Z"
   },
   {
    "duration": 61,
    "start_time": "2022-07-05T19:40:23.070Z"
   },
   {
    "duration": 13,
    "start_time": "2022-07-05T19:40:25.629Z"
   },
   {
    "duration": 76,
    "start_time": "2022-07-05T19:40:29.373Z"
   },
   {
    "duration": 2092,
    "start_time": "2022-07-05T19:40:30.601Z"
   },
   {
    "duration": 76,
    "start_time": "2022-07-05T19:40:33.725Z"
   },
   {
    "duration": 48,
    "start_time": "2022-07-05T19:40:36.309Z"
   },
   {
    "duration": 56,
    "start_time": "2022-07-05T19:40:45.370Z"
   },
   {
    "duration": 12,
    "start_time": "2022-07-05T19:40:46.601Z"
   },
   {
    "duration": 76,
    "start_time": "2022-07-05T19:43:09.321Z"
   },
   {
    "duration": 850,
    "start_time": "2022-07-05T19:43:16.157Z"
   },
   {
    "duration": 619,
    "start_time": "2022-07-05T19:43:17.009Z"
   },
   {
    "duration": 945,
    "start_time": "2022-07-05T19:43:17.629Z"
   },
   {
    "duration": 148,
    "start_time": "2022-07-05T19:43:18.576Z"
   },
   {
    "duration": 106,
    "start_time": "2022-07-05T19:43:18.725Z"
   },
   {
    "duration": 1577,
    "start_time": "2022-07-05T19:43:18.833Z"
   },
   {
    "duration": 135,
    "start_time": "2022-07-05T19:43:20.413Z"
   },
   {
    "duration": 36,
    "start_time": "2022-07-05T19:43:20.551Z"
   },
   {
    "duration": 75,
    "start_time": "2022-07-05T19:43:20.961Z"
   },
   {
    "duration": 1495,
    "start_time": "2022-07-05T19:43:21.610Z"
   },
   {
    "duration": 21,
    "start_time": "2022-07-05T19:43:23.107Z"
   },
   {
    "duration": 339,
    "start_time": "2022-07-05T19:43:23.149Z"
   },
   {
    "duration": 11,
    "start_time": "2022-07-05T19:43:23.690Z"
   },
   {
    "duration": 39,
    "start_time": "2022-07-05T19:43:24.739Z"
   },
   {
    "duration": 4,
    "start_time": "2022-07-05T19:43:25.237Z"
   },
   {
    "duration": 61,
    "start_time": "2022-07-05T19:43:26.101Z"
   },
   {
    "duration": 224,
    "start_time": "2022-07-05T19:43:27.953Z"
   },
   {
    "duration": 23,
    "start_time": "2022-07-05T19:43:29.661Z"
   },
   {
    "duration": 257,
    "start_time": "2022-07-05T19:43:30.589Z"
   },
   {
    "duration": 197,
    "start_time": "2022-07-05T19:43:31.414Z"
   },
   {
    "duration": 253,
    "start_time": "2022-07-05T19:43:32.762Z"
   },
   {
    "duration": 72,
    "start_time": "2022-07-05T19:43:36.277Z"
   },
   {
    "duration": 19,
    "start_time": "2022-07-05T19:43:37.858Z"
   },
   {
    "duration": 85,
    "start_time": "2022-07-05T19:43:41.138Z"
   },
   {
    "duration": 5,
    "start_time": "2022-07-05T19:52:44.341Z"
   },
   {
    "duration": 2298,
    "start_time": "2022-07-05T19:53:11.426Z"
   },
   {
    "duration": 45,
    "start_time": "2022-07-05T19:54:45.434Z"
   },
   {
    "duration": 949,
    "start_time": "2022-07-05T19:55:47.558Z"
   },
   {
    "duration": 562,
    "start_time": "2022-07-05T19:55:48.509Z"
   },
   {
    "duration": 877,
    "start_time": "2022-07-05T19:55:49.073Z"
   },
   {
    "duration": 152,
    "start_time": "2022-07-05T19:55:49.952Z"
   },
   {
    "duration": 103,
    "start_time": "2022-07-05T19:55:50.106Z"
   },
   {
    "duration": 1717,
    "start_time": "2022-07-05T19:55:50.211Z"
   },
   {
    "duration": 126,
    "start_time": "2022-07-05T19:55:51.931Z"
   },
   {
    "duration": 37,
    "start_time": "2022-07-05T19:55:52.059Z"
   },
   {
    "duration": 87,
    "start_time": "2022-07-05T19:55:52.098Z"
   },
   {
    "duration": 1528,
    "start_time": "2022-07-05T19:55:52.187Z"
   },
   {
    "duration": 10,
    "start_time": "2022-07-05T19:55:53.723Z"
   },
   {
    "duration": 322,
    "start_time": "2022-07-05T19:55:53.735Z"
   },
   {
    "duration": 10,
    "start_time": "2022-07-05T19:55:54.059Z"
   },
   {
    "duration": 37,
    "start_time": "2022-07-05T19:55:54.071Z"
   },
   {
    "duration": 15,
    "start_time": "2022-07-05T19:55:54.110Z"
   },
   {
    "duration": 61,
    "start_time": "2022-07-05T19:55:54.237Z"
   },
   {
    "duration": 232,
    "start_time": "2022-07-05T19:55:54.782Z"
   },
   {
    "duration": 23,
    "start_time": "2022-07-05T19:55:55.125Z"
   },
   {
    "duration": 253,
    "start_time": "2022-07-05T19:55:55.678Z"
   },
   {
    "duration": 203,
    "start_time": "2022-07-05T19:55:55.933Z"
   },
   {
    "duration": 265,
    "start_time": "2022-07-05T19:55:56.722Z"
   },
   {
    "duration": 64,
    "start_time": "2022-07-05T19:55:58.702Z"
   },
   {
    "duration": 13,
    "start_time": "2022-07-05T19:55:59.406Z"
   },
   {
    "duration": 80,
    "start_time": "2022-07-05T19:55:59.814Z"
   },
   {
    "duration": 12,
    "start_time": "2022-07-05T19:56:15.674Z"
   },
   {
    "duration": 13,
    "start_time": "2022-07-05T19:58:02.053Z"
   },
   {
    "duration": 27,
    "start_time": "2022-07-05T19:59:13.417Z"
   },
   {
    "duration": 31,
    "start_time": "2022-07-05T20:00:50.749Z"
   },
   {
    "duration": 34,
    "start_time": "2022-07-05T20:01:17.358Z"
   },
   {
    "duration": 27,
    "start_time": "2022-07-05T20:01:25.362Z"
   },
   {
    "duration": 27,
    "start_time": "2022-07-05T20:01:42.074Z"
   },
   {
    "duration": 40,
    "start_time": "2022-07-05T20:02:58.885Z"
   },
   {
    "duration": 99,
    "start_time": "2022-07-05T20:03:23.174Z"
   },
   {
    "duration": 72,
    "start_time": "2022-07-05T20:03:29.554Z"
   },
   {
    "duration": 55,
    "start_time": "2022-07-05T20:06:20.846Z"
   },
   {
    "duration": 44,
    "start_time": "2022-07-05T20:09:50.214Z"
   },
   {
    "duration": 56,
    "start_time": "2022-07-05T20:10:17.594Z"
   },
   {
    "duration": 47,
    "start_time": "2022-07-05T20:10:58.344Z"
   },
   {
    "duration": 44,
    "start_time": "2022-07-05T20:11:18.022Z"
   },
   {
    "duration": 51,
    "start_time": "2022-07-05T20:11:33.626Z"
   },
   {
    "duration": 52,
    "start_time": "2022-07-05T20:11:41.554Z"
   },
   {
    "duration": 44,
    "start_time": "2022-07-05T20:14:21.606Z"
   },
   {
    "duration": 41,
    "start_time": "2022-07-05T20:14:44.717Z"
   },
   {
    "duration": 43,
    "start_time": "2022-07-05T20:15:01.254Z"
   },
   {
    "duration": 42,
    "start_time": "2022-07-05T20:15:33.794Z"
   },
   {
    "duration": 46,
    "start_time": "2022-07-05T20:16:51.110Z"
   },
   {
    "duration": 41,
    "start_time": "2022-07-05T20:17:25.838Z"
   },
   {
    "duration": 53,
    "start_time": "2022-07-05T20:17:53.718Z"
   },
   {
    "duration": 44,
    "start_time": "2022-07-05T20:18:07.869Z"
   },
   {
    "duration": 52,
    "start_time": "2022-07-05T20:18:44.842Z"
   },
   {
    "duration": 36,
    "start_time": "2022-07-05T20:18:48.807Z"
   },
   {
    "duration": 44,
    "start_time": "2022-07-05T20:19:03.398Z"
   },
   {
    "duration": 47,
    "start_time": "2022-07-05T20:19:07.419Z"
   },
   {
    "duration": 49,
    "start_time": "2022-07-05T20:19:26.306Z"
   },
   {
    "duration": 45,
    "start_time": "2022-07-05T20:19:36.150Z"
   },
   {
    "duration": 1130,
    "start_time": "2022-07-05T20:20:02.878Z"
   },
   {
    "duration": 867,
    "start_time": "2022-07-05T20:20:24.266Z"
   },
   {
    "duration": 829,
    "start_time": "2022-07-05T20:20:29.546Z"
   },
   {
    "duration": 37,
    "start_time": "2022-07-05T20:20:48.790Z"
   },
   {
    "duration": 44,
    "start_time": "2022-07-05T20:21:12.502Z"
   },
   {
    "duration": 44,
    "start_time": "2022-07-05T20:21:17.506Z"
   },
   {
    "duration": 39,
    "start_time": "2022-07-05T20:22:42.975Z"
   },
   {
    "duration": 42,
    "start_time": "2022-07-05T20:22:50.449Z"
   },
   {
    "duration": 46,
    "start_time": "2022-07-05T20:24:04.706Z"
   },
   {
    "duration": 74,
    "start_time": "2022-07-05T20:24:59.287Z"
   },
   {
    "duration": 49,
    "start_time": "2022-07-05T20:25:12.002Z"
   },
   {
    "duration": 43,
    "start_time": "2022-07-05T20:25:20.418Z"
   },
   {
    "duration": 839,
    "start_time": "2022-07-05T20:25:34.522Z"
   },
   {
    "duration": 51,
    "start_time": "2022-07-05T20:25:46.558Z"
   },
   {
    "duration": 55,
    "start_time": "2022-07-05T20:26:10.290Z"
   },
   {
    "duration": 763,
    "start_time": "2022-07-05T20:27:10.259Z"
   },
   {
    "duration": 964,
    "start_time": "2022-07-05T20:27:18.649Z"
   },
   {
    "duration": 814,
    "start_time": "2022-07-05T20:27:22.414Z"
   },
   {
    "duration": 845,
    "start_time": "2022-07-05T20:27:33.954Z"
   },
   {
    "duration": 46,
    "start_time": "2022-07-05T20:27:54.062Z"
   },
   {
    "duration": 49,
    "start_time": "2022-07-05T20:28:02.750Z"
   },
   {
    "duration": 47,
    "start_time": "2022-07-05T20:28:06.686Z"
   },
   {
    "duration": 854,
    "start_time": "2022-07-05T20:28:21.226Z"
   },
   {
    "duration": 52,
    "start_time": "2022-07-05T20:29:21.093Z"
   },
   {
    "duration": 55,
    "start_time": "2022-07-05T20:29:33.070Z"
   },
   {
    "duration": 55,
    "start_time": "2022-07-05T20:29:51.470Z"
   },
   {
    "duration": 50,
    "start_time": "2022-07-05T20:29:56.102Z"
   },
   {
    "duration": 52,
    "start_time": "2022-07-05T20:30:19.233Z"
   },
   {
    "duration": 53,
    "start_time": "2022-07-05T20:30:50.038Z"
   },
   {
    "duration": 45,
    "start_time": "2022-07-05T20:31:12.986Z"
   },
   {
    "duration": 811,
    "start_time": "2022-07-05T20:31:32.837Z"
   },
   {
    "duration": 757,
    "start_time": "2022-07-05T20:31:38.378Z"
   },
   {
    "duration": 828,
    "start_time": "2022-07-05T20:31:41.946Z"
   },
   {
    "duration": 63,
    "start_time": "2022-07-05T20:32:29.610Z"
   },
   {
    "duration": 35,
    "start_time": "2022-07-05T20:32:37.941Z"
   },
   {
    "duration": 34,
    "start_time": "2022-07-05T20:33:11.988Z"
   },
   {
    "duration": 36,
    "start_time": "2022-07-05T20:33:30.550Z"
   },
   {
    "duration": 38,
    "start_time": "2022-07-05T20:33:57.449Z"
   },
   {
    "duration": 34,
    "start_time": "2022-07-05T20:34:02.981Z"
   },
   {
    "duration": 37,
    "start_time": "2022-07-05T20:34:34.905Z"
   },
   {
    "duration": 39,
    "start_time": "2022-07-05T20:34:53.014Z"
   },
   {
    "duration": 42,
    "start_time": "2022-07-05T20:35:03.178Z"
   },
   {
    "duration": 790,
    "start_time": "2022-07-05T20:36:19.309Z"
   },
   {
    "duration": 36,
    "start_time": "2022-07-05T20:36:25.394Z"
   },
   {
    "duration": 42,
    "start_time": "2022-07-05T20:37:07.198Z"
   },
   {
    "duration": 41,
    "start_time": "2022-07-05T20:37:13.721Z"
   },
   {
    "duration": 65,
    "start_time": "2022-07-05T20:41:04.610Z"
   },
   {
    "duration": 41,
    "start_time": "2022-07-05T20:41:16.118Z"
   },
   {
    "duration": 42,
    "start_time": "2022-07-05T20:41:53.802Z"
   },
   {
    "duration": 4,
    "start_time": "2022-07-05T20:43:03.705Z"
   },
   {
    "duration": 39,
    "start_time": "2022-07-05T20:43:47.565Z"
   },
   {
    "duration": 36,
    "start_time": "2022-07-05T20:44:35.310Z"
   },
   {
    "duration": 39,
    "start_time": "2022-07-05T20:45:24.446Z"
   },
   {
    "duration": 42,
    "start_time": "2022-07-05T20:46:28.722Z"
   },
   {
    "duration": 37,
    "start_time": "2022-07-05T20:46:50.474Z"
   },
   {
    "duration": 758,
    "start_time": "2022-07-05T20:49:56.833Z"
   },
   {
    "duration": 54,
    "start_time": "2022-07-05T20:52:51.845Z"
   },
   {
    "duration": 44,
    "start_time": "2022-07-05T20:53:08.218Z"
   },
   {
    "duration": 67,
    "start_time": "2022-07-05T20:53:21.785Z"
   },
   {
    "duration": 56,
    "start_time": "2022-07-05T20:53:47.353Z"
   },
   {
    "duration": 61,
    "start_time": "2022-07-05T20:54:24.770Z"
   },
   {
    "duration": 58,
    "start_time": "2022-07-05T20:54:35.510Z"
   },
   {
    "duration": 39,
    "start_time": "2022-07-05T20:54:57.305Z"
   },
   {
    "duration": 63,
    "start_time": "2022-07-05T20:55:02.829Z"
   },
   {
    "duration": 71,
    "start_time": "2022-07-05T20:55:17.901Z"
   },
   {
    "duration": 57,
    "start_time": "2022-07-05T20:55:24.986Z"
   },
   {
    "duration": 48,
    "start_time": "2022-07-05T20:57:15.116Z"
   },
   {
    "duration": 61,
    "start_time": "2022-07-05T20:57:57.955Z"
   },
   {
    "duration": 53,
    "start_time": "2022-07-05T20:58:36.348Z"
   },
   {
    "duration": 58,
    "start_time": "2022-07-05T20:59:26.907Z"
   },
   {
    "duration": 14,
    "start_time": "2022-07-05T20:59:46.603Z"
   },
   {
    "duration": 57,
    "start_time": "2022-07-05T21:00:12.815Z"
   },
   {
    "duration": 853,
    "start_time": "2022-07-05T21:03:40.709Z"
   },
   {
    "duration": 37,
    "start_time": "2022-07-05T21:03:59.917Z"
   },
   {
    "duration": 35,
    "start_time": "2022-07-05T21:04:27.717Z"
   },
   {
    "duration": 53,
    "start_time": "2022-07-05T21:05:58.777Z"
   },
   {
    "duration": 56,
    "start_time": "2022-07-05T21:06:22.720Z"
   },
   {
    "duration": 66,
    "start_time": "2022-07-05T21:07:10.076Z"
   },
   {
    "duration": 833,
    "start_time": "2022-07-05T21:07:21.144Z"
   },
   {
    "duration": 21,
    "start_time": "2022-07-05T21:09:25.628Z"
   },
   {
    "duration": 19,
    "start_time": "2022-07-05T21:09:38.224Z"
   },
   {
    "duration": 1140,
    "start_time": "2022-07-05T21:09:51.787Z"
   },
   {
    "duration": 4303,
    "start_time": "2022-07-05T21:10:34.247Z"
   },
   {
    "duration": 1102,
    "start_time": "2022-07-05T21:10:51.091Z"
   },
   {
    "duration": 42,
    "start_time": "2022-07-05T21:11:02.564Z"
   },
   {
    "duration": 1124,
    "start_time": "2022-07-05T21:11:08.359Z"
   },
   {
    "duration": 1147,
    "start_time": "2022-07-05T21:11:23.612Z"
   },
   {
    "duration": 1087,
    "start_time": "2022-07-05T21:11:48.383Z"
   },
   {
    "duration": 55,
    "start_time": "2022-07-05T21:12:54.987Z"
   },
   {
    "duration": 11,
    "start_time": "2022-07-05T21:13:26.567Z"
   },
   {
    "duration": 873,
    "start_time": "2022-07-05T21:13:57.370Z"
   },
   {
    "duration": 514,
    "start_time": "2022-07-05T21:13:58.246Z"
   },
   {
    "duration": 862,
    "start_time": "2022-07-05T21:13:58.762Z"
   },
   {
    "duration": 141,
    "start_time": "2022-07-05T21:13:59.626Z"
   },
   {
    "duration": 101,
    "start_time": "2022-07-05T21:13:59.769Z"
   },
   {
    "duration": 1566,
    "start_time": "2022-07-05T21:13:59.872Z"
   },
   {
    "duration": 123,
    "start_time": "2022-07-05T21:14:01.440Z"
   },
   {
    "duration": 37,
    "start_time": "2022-07-05T21:14:01.565Z"
   },
   {
    "duration": 85,
    "start_time": "2022-07-05T21:14:01.604Z"
   },
   {
    "duration": 1552,
    "start_time": "2022-07-05T21:14:01.690Z"
   },
   {
    "duration": 7,
    "start_time": "2022-07-05T21:14:03.244Z"
   },
   {
    "duration": 326,
    "start_time": "2022-07-05T21:14:03.253Z"
   },
   {
    "duration": 10,
    "start_time": "2022-07-05T21:14:03.580Z"
   },
   {
    "duration": 53,
    "start_time": "2022-07-05T21:14:03.591Z"
   },
   {
    "duration": 4,
    "start_time": "2022-07-05T21:14:03.646Z"
   },
   {
    "duration": 56,
    "start_time": "2022-07-05T21:14:04.170Z"
   },
   {
    "duration": 222,
    "start_time": "2022-07-05T21:14:04.991Z"
   },
   {
    "duration": 34,
    "start_time": "2022-07-05T21:14:05.550Z"
   },
   {
    "duration": 233,
    "start_time": "2022-07-05T21:14:06.159Z"
   },
   {
    "duration": 305,
    "start_time": "2022-07-05T21:14:06.394Z"
   },
   {
    "duration": 313,
    "start_time": "2022-07-05T21:14:07.323Z"
   },
   {
    "duration": 104,
    "start_time": "2022-07-05T21:14:09.447Z"
   },
   {
    "duration": 23,
    "start_time": "2022-07-05T21:14:10.491Z"
   },
   {
    "duration": 78,
    "start_time": "2022-07-05T21:14:13.703Z"
   },
   {
    "duration": 3,
    "start_time": "2022-07-05T21:14:15.583Z"
   },
   {
    "duration": 1809,
    "start_time": "2022-07-05T21:14:16.979Z"
   },
   {
    "duration": 1143,
    "start_time": "2022-07-05T21:14:25.571Z"
   },
   {
    "duration": 5,
    "start_time": "2022-07-05T21:23:27.777Z"
   },
   {
    "duration": 36,
    "start_time": "2022-07-05T21:24:25.713Z"
   },
   {
    "duration": 4,
    "start_time": "2022-07-05T21:25:03.345Z"
   },
   {
    "duration": 49,
    "start_time": "2022-07-05T21:25:04.273Z"
   },
   {
    "duration": 4,
    "start_time": "2022-07-05T21:25:35.535Z"
   },
   {
    "duration": 46,
    "start_time": "2022-07-05T21:25:36.401Z"
   },
   {
    "duration": 6,
    "start_time": "2022-07-05T21:25:42.721Z"
   },
   {
    "duration": 35,
    "start_time": "2022-07-05T21:25:43.773Z"
   },
   {
    "duration": 4,
    "start_time": "2022-07-05T21:25:56.957Z"
   },
   {
    "duration": 52,
    "start_time": "2022-07-05T21:25:57.422Z"
   },
   {
    "duration": 1156,
    "start_time": "2022-07-05T21:26:52.633Z"
   },
   {
    "duration": 4,
    "start_time": "2022-07-05T21:27:34.765Z"
   },
   {
    "duration": 44,
    "start_time": "2022-07-05T21:27:35.480Z"
   },
   {
    "duration": 4,
    "start_time": "2022-07-05T21:27:46.993Z"
   },
   {
    "duration": 43,
    "start_time": "2022-07-05T21:27:48.021Z"
   },
   {
    "duration": 4,
    "start_time": "2022-07-05T21:28:51.485Z"
   },
   {
    "duration": 49,
    "start_time": "2022-07-05T21:28:52.018Z"
   },
   {
    "duration": 4,
    "start_time": "2022-07-05T21:29:07.150Z"
   },
   {
    "duration": 878,
    "start_time": "2022-07-05T21:29:07.517Z"
   },
   {
    "duration": 571,
    "start_time": "2022-07-05T21:29:08.397Z"
   },
   {
    "duration": 905,
    "start_time": "2022-07-05T21:29:08.970Z"
   },
   {
    "duration": 151,
    "start_time": "2022-07-05T21:29:09.877Z"
   },
   {
    "duration": 110,
    "start_time": "2022-07-05T21:29:10.030Z"
   },
   {
    "duration": 1585,
    "start_time": "2022-07-05T21:29:10.142Z"
   },
   {
    "duration": 123,
    "start_time": "2022-07-05T21:29:11.729Z"
   },
   {
    "duration": 36,
    "start_time": "2022-07-05T21:29:11.854Z"
   },
   {
    "duration": 88,
    "start_time": "2022-07-05T21:29:11.891Z"
   },
   {
    "duration": 1697,
    "start_time": "2022-07-05T21:29:11.980Z"
   },
   {
    "duration": 10,
    "start_time": "2022-07-05T21:29:13.679Z"
   },
   {
    "duration": 436,
    "start_time": "2022-07-05T21:29:13.691Z"
   },
   {
    "duration": 14,
    "start_time": "2022-07-05T21:29:14.129Z"
   },
   {
    "duration": 39,
    "start_time": "2022-07-05T21:29:14.145Z"
   },
   {
    "duration": 4,
    "start_time": "2022-07-05T21:29:14.186Z"
   },
   {
    "duration": 109,
    "start_time": "2022-07-05T21:29:14.192Z"
   },
   {
    "duration": 231,
    "start_time": "2022-07-05T21:29:14.818Z"
   },
   {
    "duration": 26,
    "start_time": "2022-07-05T21:29:15.517Z"
   },
   {
    "duration": 236,
    "start_time": "2022-07-05T21:29:16.389Z"
   },
   {
    "duration": 186,
    "start_time": "2022-07-05T21:29:17.873Z"
   },
   {
    "duration": 256,
    "start_time": "2022-07-05T21:29:18.486Z"
   },
   {
    "duration": 62,
    "start_time": "2022-07-05T21:29:22.393Z"
   },
   {
    "duration": 22,
    "start_time": "2022-07-05T21:29:22.945Z"
   },
   {
    "duration": 2,
    "start_time": "2022-07-05T21:29:30.478Z"
   },
   {
    "duration": 4,
    "start_time": "2022-07-05T21:29:33.422Z"
   },
   {
    "duration": 42,
    "start_time": "2022-07-05T21:29:34.286Z"
   },
   {
    "duration": 4,
    "start_time": "2022-07-05T21:29:59.182Z"
   },
   {
    "duration": 41,
    "start_time": "2022-07-05T21:30:00.298Z"
   },
   {
    "duration": 25,
    "start_time": "2022-07-05T21:31:08.523Z"
   },
   {
    "duration": 554,
    "start_time": "2022-07-05T21:31:28.171Z"
   },
   {
    "duration": 16,
    "start_time": "2022-07-05T21:31:57.035Z"
   },
   {
    "duration": 32,
    "start_time": "2022-07-05T21:32:07.388Z"
   },
   {
    "duration": 15,
    "start_time": "2022-07-05T21:32:15.667Z"
   },
   {
    "duration": 15,
    "start_time": "2022-07-05T21:32:18.727Z"
   },
   {
    "duration": 15,
    "start_time": "2022-07-05T21:32:24.163Z"
   },
   {
    "duration": 16,
    "start_time": "2022-07-05T21:32:28.982Z"
   },
   {
    "duration": 586,
    "start_time": "2022-07-05T21:33:00.008Z"
   },
   {
    "duration": 10,
    "start_time": "2022-07-05T21:37:12.797Z"
   },
   {
    "duration": 52,
    "start_time": "2022-07-05T21:37:30.933Z"
   },
   {
    "duration": 59,
    "start_time": "2022-07-05T21:37:37.316Z"
   },
   {
    "duration": 62,
    "start_time": "2022-07-05T21:37:48.249Z"
   },
   {
    "duration": 715,
    "start_time": "2022-07-05T21:37:57.437Z"
   },
   {
    "duration": 1323,
    "start_time": "2022-07-06T07:19:27.776Z"
   },
   {
    "duration": 1337,
    "start_time": "2022-07-06T07:19:29.101Z"
   },
   {
    "duration": 600,
    "start_time": "2022-07-06T07:19:30.440Z"
   },
   {
    "duration": 1046,
    "start_time": "2022-07-06T07:19:31.042Z"
   },
   {
    "duration": 153,
    "start_time": "2022-07-06T07:19:32.089Z"
   },
   {
    "duration": 105,
    "start_time": "2022-07-06T07:19:32.243Z"
   },
   {
    "duration": 1678,
    "start_time": "2022-07-06T07:19:32.350Z"
   },
   {
    "duration": 115,
    "start_time": "2022-07-06T07:19:34.030Z"
   },
   {
    "duration": 50,
    "start_time": "2022-07-06T07:19:34.147Z"
   },
   {
    "duration": 96,
    "start_time": "2022-07-06T07:19:34.199Z"
   },
   {
    "duration": 1524,
    "start_time": "2022-07-06T07:19:34.296Z"
   },
   {
    "duration": 9,
    "start_time": "2022-07-06T07:19:35.821Z"
   },
   {
    "duration": 635,
    "start_time": "2022-07-06T07:19:35.832Z"
   },
   {
    "duration": 10,
    "start_time": "2022-07-06T07:19:36.469Z"
   },
   {
    "duration": 196,
    "start_time": "2022-07-06T07:19:36.481Z"
   },
   {
    "duration": 3,
    "start_time": "2022-07-06T07:19:36.679Z"
   },
   {
    "duration": 71,
    "start_time": "2022-07-06T07:19:42.807Z"
   },
   {
    "duration": 224,
    "start_time": "2022-07-06T07:19:44.276Z"
   },
   {
    "duration": 26,
    "start_time": "2022-07-06T07:19:45.632Z"
   },
   {
    "duration": 247,
    "start_time": "2022-07-06T07:19:47.804Z"
   },
   {
    "duration": 280,
    "start_time": "2022-07-06T07:19:48.268Z"
   },
   {
    "duration": 262,
    "start_time": "2022-07-06T07:19:49.065Z"
   },
   {
    "duration": 62,
    "start_time": "2022-07-06T07:19:51.156Z"
   },
   {
    "duration": 23,
    "start_time": "2022-07-06T07:19:51.608Z"
   },
   {
    "duration": 85,
    "start_time": "2022-07-06T07:19:53.428Z"
   },
   {
    "duration": 2,
    "start_time": "2022-07-06T07:20:07.056Z"
   },
   {
    "duration": 3,
    "start_time": "2022-07-06T07:20:13.012Z"
   },
   {
    "duration": 59,
    "start_time": "2022-07-06T07:20:25.316Z"
   },
   {
    "duration": 54,
    "start_time": "2022-07-06T07:20:33.256Z"
   },
   {
    "duration": 56,
    "start_time": "2022-07-06T07:20:51.872Z"
   },
   {
    "duration": 46,
    "start_time": "2022-07-06T07:23:33.152Z"
   },
   {
    "duration": 55,
    "start_time": "2022-07-06T07:23:40.116Z"
   },
   {
    "duration": 56,
    "start_time": "2022-07-06T07:24:20.328Z"
   },
   {
    "duration": 48844,
    "start_time": "2022-07-06T07:24:28.556Z"
   },
   {
    "duration": 2,
    "start_time": "2022-07-06T07:25:24.560Z"
   },
   {
    "duration": 62,
    "start_time": "2022-07-06T07:25:51.276Z"
   },
   {
    "duration": 55,
    "start_time": "2022-07-06T07:27:49.284Z"
   },
   {
    "duration": 46957,
    "start_time": "2022-07-06T07:29:30.964Z"
   },
   {
    "duration": 71,
    "start_time": "2022-07-06T07:31:56.980Z"
   },
   {
    "duration": 9,
    "start_time": "2022-07-06T07:32:28.964Z"
   },
   {
    "duration": 68,
    "start_time": "2022-07-06T07:33:13.189Z"
   },
   {
    "duration": 17,
    "start_time": "2022-07-06T07:33:13.855Z"
   },
   {
    "duration": 29,
    "start_time": "2022-07-06T07:33:19.759Z"
   },
   {
    "duration": 42,
    "start_time": "2022-07-06T07:33:25.439Z"
   },
   {
    "duration": 376,
    "start_time": "2022-07-06T07:33:27.559Z"
   },
   {
    "duration": 1195,
    "start_time": "2022-07-06T07:34:00.164Z"
   },
   {
    "duration": 73607,
    "start_time": "2022-07-06T07:34:01.361Z"
   },
   {
    "duration": 156,
    "start_time": "2022-07-06T07:35:14.971Z"
   },
   {
    "duration": 55996,
    "start_time": "2022-07-06T07:43:51.279Z"
   },
   {
    "duration": 494147,
    "start_time": "2022-07-06T07:53:11.480Z"
   },
   {
    "duration": 41,
    "start_time": "2022-07-06T08:06:46.928Z"
   },
   {
    "duration": 3,
    "start_time": "2022-07-06T08:06:47.915Z"
   },
   {
    "duration": 327538,
    "start_time": "2022-07-06T08:06:50.543Z"
   },
   {
    "duration": 6,
    "start_time": "2022-07-06T08:32:00.568Z"
   },
   {
    "duration": 37,
    "start_time": "2022-07-06T08:35:19.860Z"
   },
   {
    "duration": 55,
    "start_time": "2022-07-06T08:36:04.508Z"
   },
   {
    "duration": 56,
    "start_time": "2022-07-06T08:36:15.904Z"
   },
   {
    "duration": 62,
    "start_time": "2022-07-06T08:36:27.180Z"
   },
   {
    "duration": 27,
    "start_time": "2022-07-06T08:39:39.964Z"
   },
   {
    "duration": 30,
    "start_time": "2022-07-06T08:40:18.032Z"
   },
   {
    "duration": 57,
    "start_time": "2022-07-06T08:40:24.348Z"
   },
   {
    "duration": 3,
    "start_time": "2022-07-06T08:40:24.724Z"
   },
   {
    "duration": 5,
    "start_time": "2022-07-06T08:40:31.413Z"
   },
   {
    "duration": 62,
    "start_time": "2022-07-06T08:41:04.000Z"
   },
   {
    "duration": 1232006,
    "start_time": "2022-07-06T08:41:21.580Z"
   },
   {
    "duration": 5,
    "start_time": "2022-07-06T09:01:53.665Z"
   },
   {
    "duration": 62,
    "start_time": "2022-07-06T10:30:56.262Z"
   },
   {
    "duration": 5,
    "start_time": "2022-07-06T10:31:06.862Z"
   },
   {
    "duration": 53,
    "start_time": "2022-07-06T10:31:18.507Z"
   },
   {
    "duration": 5,
    "start_time": "2022-07-06T10:31:18.985Z"
   },
   {
    "duration": 92,
    "start_time": "2022-07-06T10:36:41.208Z"
   },
   {
    "duration": 250410,
    "start_time": "2022-07-06T10:37:11.558Z"
   },
   {
    "duration": 123,
    "start_time": "2022-07-06T10:41:21.977Z"
   },
   {
    "duration": 36325,
    "start_time": "2022-07-06T10:43:00.968Z"
   },
   {
    "duration": 373,
    "start_time": "2022-07-06T10:43:37.296Z"
   },
   {
    "duration": 10,
    "start_time": "2022-07-06T10:43:37.674Z"
   },
   {
    "duration": 61,
    "start_time": "2022-07-06T10:44:18.677Z"
   },
   {
    "duration": 584,
    "start_time": "2022-07-06T10:46:42.569Z"
   },
   {
    "duration": 105,
    "start_time": "2022-07-06T10:46:54.080Z"
   },
   {
    "duration": 17,
    "start_time": "2022-07-06T10:46:54.464Z"
   },
   {
    "duration": 486,
    "start_time": "2022-07-06T10:52:55.132Z"
   },
   {
    "duration": 26,
    "start_time": "2022-07-06T10:53:01.977Z"
   },
   {
    "duration": 17,
    "start_time": "2022-07-06T10:53:03.859Z"
   },
   {
    "duration": 8,
    "start_time": "2022-07-06T10:53:19.760Z"
   },
   {
    "duration": 6426,
    "start_time": "2022-07-06T10:54:45.964Z"
   },
   {
    "duration": 123,
    "start_time": "2022-07-06T10:54:52.395Z"
   },
   {
    "duration": 4,
    "start_time": "2022-07-06T10:54:52.520Z"
   },
   {
    "duration": 27237,
    "start_time": "2022-07-06T10:59:03.376Z"
   },
   {
    "duration": 156,
    "start_time": "2022-07-06T10:59:30.615Z"
   },
   {
    "duration": 7,
    "start_time": "2022-07-06T10:59:30.773Z"
   },
   {
    "duration": 66,
    "start_time": "2022-07-06T11:01:18.489Z"
   },
   {
    "duration": 98014,
    "start_time": "2022-07-06T11:01:32.465Z"
   },
   {
    "duration": 8183,
    "start_time": "2022-07-06T11:03:10.481Z"
   },
   {
    "duration": 7,
    "start_time": "2022-07-06T11:03:18.666Z"
   },
   {
    "duration": 19978,
    "start_time": "2022-07-06T11:22:07.887Z"
   },
   {
    "duration": 26,
    "start_time": "2022-07-06T11:22:27.868Z"
   },
   {
    "duration": 6,
    "start_time": "2022-07-06T11:22:27.896Z"
   },
   {
    "duration": 465,
    "start_time": "2022-07-06T11:27:07.118Z"
   },
   {
    "duration": 16,
    "start_time": "2022-07-06T11:27:08.290Z"
   },
   {
    "duration": 5,
    "start_time": "2022-07-06T11:27:21.887Z"
   },
   {
    "duration": 5995,
    "start_time": "2022-07-06T11:28:30.643Z"
   },
   {
    "duration": 109,
    "start_time": "2022-07-06T11:28:36.640Z"
   },
   {
    "duration": 12,
    "start_time": "2022-07-06T11:28:36.751Z"
   },
   {
    "duration": 24784,
    "start_time": "2022-07-06T11:29:55.556Z"
   },
   {
    "duration": 139,
    "start_time": "2022-07-06T11:30:20.341Z"
   },
   {
    "duration": 6,
    "start_time": "2022-07-06T11:30:20.481Z"
   },
   {
    "duration": 82173,
    "start_time": "2022-07-06T11:31:23.603Z"
   },
   {
    "duration": 8433,
    "start_time": "2022-07-06T11:32:45.779Z"
   },
   {
    "duration": 5,
    "start_time": "2022-07-06T11:32:54.214Z"
   },
   {
    "duration": 51,
    "start_time": "2022-07-06T11:34:49.577Z"
   },
   {
    "duration": 1490,
    "start_time": "2022-07-07T11:09:50.244Z"
   },
   {
    "duration": 3227,
    "start_time": "2022-07-07T11:09:51.737Z"
   },
   {
    "duration": 651,
    "start_time": "2022-07-07T11:09:54.966Z"
   },
   {
    "duration": 1020,
    "start_time": "2022-07-07T11:09:55.619Z"
   },
   {
    "duration": 174,
    "start_time": "2022-07-07T11:09:56.641Z"
   },
   {
    "duration": 100,
    "start_time": "2022-07-07T11:09:56.817Z"
   },
   {
    "duration": 1511,
    "start_time": "2022-07-07T11:09:56.918Z"
   },
   {
    "duration": 145,
    "start_time": "2022-07-07T11:09:58.431Z"
   },
   {
    "duration": 51,
    "start_time": "2022-07-07T11:09:58.578Z"
   },
   {
    "duration": 106,
    "start_time": "2022-07-07T11:09:58.632Z"
   },
   {
    "duration": 1589,
    "start_time": "2022-07-07T11:09:58.740Z"
   },
   {
    "duration": 10,
    "start_time": "2022-07-07T11:10:00.331Z"
   },
   {
    "duration": 808,
    "start_time": "2022-07-07T11:10:00.343Z"
   },
   {
    "duration": 15,
    "start_time": "2022-07-07T11:10:01.155Z"
   },
   {
    "duration": 211,
    "start_time": "2022-07-07T11:10:01.172Z"
   },
   {
    "duration": 4,
    "start_time": "2022-07-07T11:10:01.385Z"
   },
   {
    "duration": 106,
    "start_time": "2022-07-07T11:10:01.403Z"
   },
   {
    "duration": 354,
    "start_time": "2022-07-07T11:10:01.511Z"
   },
   {
    "duration": 42,
    "start_time": "2022-07-07T11:10:01.867Z"
   },
   {
    "duration": 441,
    "start_time": "2022-07-07T11:10:01.913Z"
   },
   {
    "duration": 264,
    "start_time": "2022-07-07T11:10:02.357Z"
   },
   {
    "duration": 311,
    "start_time": "2022-07-07T11:10:02.623Z"
   },
   {
    "duration": 81,
    "start_time": "2022-07-07T11:10:02.936Z"
   },
   {
    "duration": 34,
    "start_time": "2022-07-07T11:10:03.018Z"
   },
   {
    "duration": 3,
    "start_time": "2022-07-07T11:10:03.053Z"
   },
   {
    "duration": 18,
    "start_time": "2022-07-07T11:10:03.058Z"
   },
   {
    "duration": 52209,
    "start_time": "2022-07-07T11:10:03.078Z"
   },
   {
    "duration": 55820,
    "start_time": "2022-07-07T11:10:55.290Z"
   },
   {
    "duration": 56,
    "start_time": "2022-07-07T11:11:51.112Z"
   },
   {
    "duration": 12,
    "start_time": "2022-07-07T11:11:51.170Z"
   },
   {
    "duration": 16,
    "start_time": "2022-07-07T11:11:51.184Z"
   },
   {
    "duration": 86,
    "start_time": "2022-07-07T11:11:51.204Z"
   },
   {
    "duration": 23,
    "start_time": "2022-07-07T11:11:51.292Z"
   },
   {
    "duration": 38,
    "start_time": "2022-07-07T11:11:51.317Z"
   },
   {
    "duration": 55,
    "start_time": "2022-07-07T11:11:51.357Z"
   },
   {
    "duration": 520,
    "start_time": "2022-07-07T11:11:51.414Z"
   },
   {
    "duration": 4,
    "start_time": "2022-07-07T11:11:51.936Z"
   },
   {
    "duration": 26,
    "start_time": "2022-07-07T11:11:51.942Z"
   },
   {
    "duration": 27,
    "start_time": "2022-07-07T11:11:51.970Z"
   },
   {
    "duration": 42,
    "start_time": "2022-07-07T11:12:40.071Z"
   },
   {
    "duration": 89,
    "start_time": "2022-07-07T11:12:42.916Z"
   },
   {
    "duration": 6,
    "start_time": "2022-07-07T11:12:46.172Z"
   },
   {
    "duration": 57,
    "start_time": "2022-07-07T11:13:34.603Z"
   },
   {
    "duration": 3,
    "start_time": "2022-07-07T11:13:35.502Z"
   },
   {
    "duration": 10,
    "start_time": "2022-07-07T11:14:00.404Z"
   },
   {
    "duration": 22,
    "start_time": "2022-07-07T11:14:07.337Z"
   },
   {
    "duration": 18,
    "start_time": "2022-07-07T11:14:48.570Z"
   },
   {
    "duration": 15,
    "start_time": "2022-07-07T11:15:09.852Z"
   },
   {
    "duration": 1066,
    "start_time": "2022-07-07T11:16:09.071Z"
   },
   {
    "duration": 14296,
    "start_time": "2022-07-07T11:16:23.437Z"
   },
   {
    "duration": 120,
    "start_time": "2022-07-07T14:44:03.867Z"
   },
   {
    "duration": 1415,
    "start_time": "2022-07-07T14:53:55.422Z"
   },
   {
    "duration": 3371,
    "start_time": "2022-07-07T14:53:56.839Z"
   },
   {
    "duration": 607,
    "start_time": "2022-07-07T14:54:00.212Z"
   },
   {
    "duration": 1018,
    "start_time": "2022-07-07T14:54:00.822Z"
   },
   {
    "duration": 123,
    "start_time": "2022-07-07T14:54:03.908Z"
   },
   {
    "duration": 98,
    "start_time": "2022-07-07T14:54:06.419Z"
   },
   {
    "duration": 1625,
    "start_time": "2022-07-07T14:54:07.995Z"
   },
   {
    "duration": 105,
    "start_time": "2022-07-07T14:54:09.715Z"
   },
   {
    "duration": 20,
    "start_time": "2022-07-07T14:54:13.995Z"
   },
   {
    "duration": 76,
    "start_time": "2022-07-07T14:54:18.715Z"
   },
   {
    "duration": 1573,
    "start_time": "2022-07-07T14:54:33.060Z"
   },
   {
    "duration": 13,
    "start_time": "2022-07-07T14:54:47.019Z"
   },
   {
    "duration": 717,
    "start_time": "2022-07-07T14:55:06.116Z"
   },
   {
    "duration": 13,
    "start_time": "2022-07-07T14:55:08.847Z"
   },
   {
    "duration": 168,
    "start_time": "2022-07-07T14:55:09.610Z"
   },
   {
    "duration": 4,
    "start_time": "2022-07-07T14:55:10.566Z"
   },
   {
    "duration": 76,
    "start_time": "2022-07-07T14:55:23.298Z"
   },
   {
    "duration": 254,
    "start_time": "2022-07-07T14:55:26.227Z"
   },
   {
    "duration": 32,
    "start_time": "2022-07-07T14:55:28.250Z"
   },
   {
    "duration": 344,
    "start_time": "2022-07-07T14:55:31.672Z"
   },
   {
    "duration": 213,
    "start_time": "2022-07-07T14:55:33.227Z"
   },
   {
    "duration": 305,
    "start_time": "2022-07-07T14:55:36.378Z"
   },
   {
    "duration": 83,
    "start_time": "2022-07-07T14:55:40.561Z"
   },
   {
    "duration": 24,
    "start_time": "2022-07-07T14:55:41.979Z"
   },
   {
    "duration": 2,
    "start_time": "2022-07-07T14:55:44.475Z"
   },
   {
    "duration": 2,
    "start_time": "2022-07-07T14:55:47.449Z"
   },
   {
    "duration": 58888,
    "start_time": "2022-07-07T14:55:47.819Z"
   },
   {
    "duration": 55811,
    "start_time": "2022-07-07T15:08:53.008Z"
   },
   {
    "duration": 55,
    "start_time": "2022-07-07T15:09:48.821Z"
   },
   {
    "duration": 2,
    "start_time": "2022-07-07T15:09:48.877Z"
   },
   {
    "duration": 9,
    "start_time": "2022-07-07T15:09:48.881Z"
   },
   {
    "duration": 61,
    "start_time": "2022-07-07T15:11:52.466Z"
   },
   {
    "duration": 18,
    "start_time": "2022-07-07T15:11:53.658Z"
   },
   {
    "duration": 31,
    "start_time": "2022-07-07T15:11:58.225Z"
   },
   {
    "duration": 56,
    "start_time": "2022-07-07T15:12:00.722Z"
   },
   {
    "duration": 51,
    "start_time": "2022-07-07T15:12:25.458Z"
   },
   {
    "duration": 489,
    "start_time": "2022-07-07T15:12:32.593Z"
   },
   {
    "duration": 2,
    "start_time": "2022-07-07T15:12:35.722Z"
   },
   {
    "duration": 2,
    "start_time": "2022-07-07T15:13:21.648Z"
   },
   {
    "duration": 842,
    "start_time": "2022-07-07T15:13:40.714Z"
   },
   {
    "duration": 86592,
    "start_time": "2022-07-07T15:13:53.361Z"
   },
   {
    "duration": 56497,
    "start_time": "2022-07-07T15:15:19.955Z"
   },
   {
    "duration": 535243,
    "start_time": "2022-07-07T15:16:16.453Z"
   },
   {
    "duration": 39,
    "start_time": "2022-07-07T15:42:48.441Z"
   },
   {
    "duration": 331209,
    "start_time": "2022-07-07T15:43:20.150Z"
   },
   {
    "duration": 6,
    "start_time": "2022-07-07T15:49:25.390Z"
   },
   {
    "duration": 3,
    "start_time": "2022-07-07T15:49:41.904Z"
   },
   {
    "duration": 6,
    "start_time": "2022-07-07T15:51:26.277Z"
   },
   {
    "duration": 103829,
    "start_time": "2022-07-07T15:51:42.960Z"
   },
   {
    "duration": 3,
    "start_time": "2022-07-07T15:53:46.925Z"
   },
   {
    "duration": 1153,
    "start_time": "2022-07-08T18:10:19.165Z"
   },
   {
    "duration": 1299,
    "start_time": "2022-07-08T18:10:20.320Z"
   },
   {
    "duration": 520,
    "start_time": "2022-07-08T18:10:21.620Z"
   },
   {
    "duration": 957,
    "start_time": "2022-07-08T18:10:22.145Z"
   },
   {
    "duration": 129,
    "start_time": "2022-07-08T18:10:23.103Z"
   },
   {
    "duration": 87,
    "start_time": "2022-07-08T18:10:23.234Z"
   },
   {
    "duration": 1533,
    "start_time": "2022-07-08T18:10:23.323Z"
   },
   {
    "duration": 109,
    "start_time": "2022-07-08T18:10:24.858Z"
   },
   {
    "duration": 17,
    "start_time": "2022-07-08T18:10:24.969Z"
   },
   {
    "duration": 72,
    "start_time": "2022-07-08T18:10:24.989Z"
   },
   {
    "duration": 1518,
    "start_time": "2022-07-08T18:10:25.063Z"
   },
   {
    "duration": 9,
    "start_time": "2022-07-08T18:10:26.582Z"
   },
   {
    "duration": 666,
    "start_time": "2022-07-08T18:10:26.592Z"
   },
   {
    "duration": 11,
    "start_time": "2022-07-08T18:10:27.260Z"
   },
   {
    "duration": 162,
    "start_time": "2022-07-08T18:10:27.273Z"
   },
   {
    "duration": 6,
    "start_time": "2022-07-08T18:10:27.437Z"
   },
   {
    "duration": 85,
    "start_time": "2022-07-08T18:10:27.448Z"
   },
   {
    "duration": 253,
    "start_time": "2022-07-08T18:10:27.535Z"
   },
   {
    "duration": 28,
    "start_time": "2022-07-08T18:10:27.790Z"
   },
   {
    "duration": 344,
    "start_time": "2022-07-08T18:10:27.820Z"
   },
   {
    "duration": 209,
    "start_time": "2022-07-08T18:10:28.166Z"
   },
   {
    "duration": 279,
    "start_time": "2022-07-08T18:10:28.377Z"
   },
   {
    "duration": 53,
    "start_time": "2022-07-08T18:10:28.658Z"
   },
   {
    "duration": 45,
    "start_time": "2022-07-08T18:10:28.713Z"
   },
   {
    "duration": 3,
    "start_time": "2022-07-08T18:10:28.760Z"
   },
   {
    "duration": 56336,
    "start_time": "2022-07-08T18:10:28.765Z"
   },
   {
    "duration": 57463,
    "start_time": "2022-07-08T18:11:25.103Z"
   },
   {
    "duration": 53,
    "start_time": "2022-07-08T18:12:22.570Z"
   },
   {
    "duration": 3,
    "start_time": "2022-07-08T18:12:22.625Z"
   },
   {
    "duration": 6,
    "start_time": "2022-07-08T18:12:22.648Z"
   },
   {
    "duration": 62,
    "start_time": "2022-07-08T18:12:22.658Z"
   },
   {
    "duration": 31,
    "start_time": "2022-07-08T18:12:22.722Z"
   },
   {
    "duration": 29,
    "start_time": "2022-07-08T18:12:22.755Z"
   },
   {
    "duration": 67,
    "start_time": "2022-07-08T18:12:22.786Z"
   },
   {
    "duration": 501,
    "start_time": "2022-07-08T18:12:22.854Z"
   },
   {
    "duration": 3,
    "start_time": "2022-07-08T18:12:23.357Z"
   },
   {
    "duration": 851,
    "start_time": "2022-07-08T18:12:23.361Z"
   },
   {
    "duration": 162752,
    "start_time": "2022-07-08T18:12:24.214Z"
   },
   {
    "duration": 57545,
    "start_time": "2022-07-08T18:15:07.042Z"
   },
   {
    "duration": 534468,
    "start_time": "2022-07-08T18:16:04.589Z"
   },
   {
    "duration": 47,
    "start_time": "2022-07-08T18:24:59.059Z"
   },
   {
    "duration": 342426,
    "start_time": "2022-07-08T18:24:59.108Z"
   },
   {
    "duration": 3,
    "start_time": "2022-07-08T18:30:41.536Z"
   },
   {
    "duration": 57,
    "start_time": "2022-07-08T18:30:41.540Z"
   },
   {
    "duration": 109365,
    "start_time": "2022-07-08T18:30:41.598Z"
   },
   {
    "duration": 4,
    "start_time": "2022-07-08T18:32:30.965Z"
   },
   {
    "duration": 4832389,
    "start_time": "2022-07-08T18:32:30.970Z"
   },
   {
    "duration": 5,
    "start_time": "2022-07-08T19:53:03.361Z"
   },
   {
    "duration": 1113,
    "start_time": "2022-07-08T19:53:03.367Z"
   },
   {
    "duration": 6,
    "start_time": "2022-07-08T19:53:04.482Z"
   },
   {
    "duration": 29767,
    "start_time": "2022-07-08T19:53:04.489Z"
   },
   {
    "duration": 54,
    "start_time": "2022-07-08T19:53:34.257Z"
   },
   {
    "duration": 6,
    "start_time": "2022-07-08T19:53:34.343Z"
   },
   {
    "duration": 531,
    "start_time": "2022-07-08T19:53:34.350Z"
   },
   {
    "duration": 16,
    "start_time": "2022-07-08T19:53:34.883Z"
   },
   {
    "duration": 2,
    "start_time": "2022-07-08T19:53:34.900Z"
   },
   {
    "duration": 5466,
    "start_time": "2022-07-08T19:53:34.904Z"
   },
   {
    "duration": 115,
    "start_time": "2022-07-08T19:53:40.371Z"
   },
   {
    "duration": 2,
    "start_time": "2022-07-08T19:53:40.488Z"
   },
   {
    "duration": 24782,
    "start_time": "2022-07-08T19:53:40.492Z"
   },
   {
    "duration": 134,
    "start_time": "2022-07-08T19:54:05.275Z"
   },
   {
    "duration": 2,
    "start_time": "2022-07-08T19:54:05.411Z"
   },
   {
    "duration": 141038,
    "start_time": "2022-07-08T19:54:05.415Z"
   },
   {
    "duration": 7604,
    "start_time": "2022-07-08T19:56:26.454Z"
   },
   {
    "duration": 3,
    "start_time": "2022-07-08T19:56:34.059Z"
   },
   {
    "duration": 3,
    "start_time": "2022-07-08T20:02:25.861Z"
   },
   {
    "duration": 53,
    "start_time": "2022-07-08T20:04:20.870Z"
   },
   {
    "duration": 29869,
    "start_time": "2022-07-08T20:04:32.686Z"
   },
   {
    "duration": 51,
    "start_time": "2022-07-08T20:05:08.374Z"
   },
   {
    "duration": 222,
    "start_time": "2022-07-08T20:05:14.837Z"
   },
   {
    "duration": 527,
    "start_time": "2022-07-08T20:19:01.297Z"
   },
   {
    "duration": 31,
    "start_time": "2022-07-08T20:19:01.826Z"
   },
   {
    "duration": 134,
    "start_time": "2022-07-08T20:23:48.307Z"
   },
   {
    "duration": 49,
    "start_time": "2022-07-08T20:25:52.486Z"
   },
   {
    "duration": 3,
    "start_time": "2022-07-08T20:28:49.330Z"
   },
   {
    "duration": 4,
    "start_time": "2022-07-08T20:29:15.722Z"
   },
   {
    "duration": 912,
    "start_time": "2022-07-08T20:30:13.426Z"
   },
   {
    "duration": 3,
    "start_time": "2022-07-08T20:30:15.174Z"
   },
   {
    "duration": 1123,
    "start_time": "2022-07-08T20:30:32.854Z"
   },
   {
    "duration": 4,
    "start_time": "2022-07-08T20:30:34.663Z"
   },
   {
    "duration": 1003,
    "start_time": "2022-07-08T20:30:57.358Z"
   },
   {
    "duration": 630903,
    "start_time": "2022-07-08T20:32:06.165Z"
   },
   {
    "duration": 135,
    "start_time": "2022-07-08T20:42:37.074Z"
   },
   {
    "duration": 3,
    "start_time": "2022-07-08T20:43:12.098Z"
   },
   {
    "duration": 3,
    "start_time": "2022-07-08T20:43:23.019Z"
   },
   {
    "duration": 136057,
    "start_time": "2022-07-08T20:48:16.109Z"
   },
   {
    "duration": 52600,
    "start_time": "2022-07-08T20:50:32.168Z"
   },
   {
    "duration": 516360,
    "start_time": "2022-07-08T20:51:24.770Z"
   },
   {
    "duration": 67,
    "start_time": "2022-07-08T21:10:36.068Z"
   },
   {
    "duration": 75,
    "start_time": "2022-07-08T21:10:40.370Z"
   },
   {
    "duration": 2874561,
    "start_time": "2022-07-08T21:10:44.420Z"
   },
   {
    "duration": 7887,
    "start_time": "2022-07-08T21:58:38.984Z"
   },
   {
    "duration": 7917,
    "start_time": "2022-07-08T21:58:46.874Z"
   }
  ],
  "kernelspec": {
   "display_name": "Python 3 (ipykernel)",
   "language": "python",
   "name": "python3"
  },
  "language_info": {
   "codemirror_mode": {
    "name": "ipython",
    "version": 3
   },
   "file_extension": ".py",
   "mimetype": "text/x-python",
   "name": "python",
   "nbconvert_exporter": "python",
   "pygments_lexer": "ipython3",
   "version": "3.9.7"
  },
  "toc": {
   "base_numbering": 1,
   "nav_menu": {},
   "number_sections": true,
   "sideBar": true,
   "skip_h1_title": true,
   "title_cell": "Table of Contents",
   "title_sidebar": "Contents",
   "toc_cell": false,
   "toc_position": {},
   "toc_section_display": true,
   "toc_window_display": false
  }
 },
 "nbformat": 4,
 "nbformat_minor": 2
}

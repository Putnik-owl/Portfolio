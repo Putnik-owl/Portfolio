{
 "cells": [
  {
   "cell_type": "markdown",
   "id": "b4bc52db",
   "metadata": {},
   "source": [
    "# Исследование надежности заемщиков."
   ]
  },
  {
   "cell_type": "markdown",
   "id": "09b9f487",
   "metadata": {},
   "source": [
    "## Обзор данных"
   ]
  },
  {
   "cell_type": "code",
   "execution_count": 64,
   "id": "69949094",
   "metadata": {},
   "outputs": [],
   "source": [
    "import pandas as pd"
   ]
  },
  {
   "cell_type": "code",
   "execution_count": 65,
   "id": "ac1f96b8",
   "metadata": {},
   "outputs": [
    {
     "name": "stdout",
     "output_type": "stream",
     "text": [
      "<class 'pandas.core.frame.DataFrame'>\n",
      "RangeIndex: 21525 entries, 0 to 21524\n",
      "Data columns (total 12 columns):\n",
      "children            21525 non-null int64\n",
      "days_employed       19351 non-null float64\n",
      "dob_years           21525 non-null int64\n",
      "education           21525 non-null object\n",
      "education_id        21525 non-null int64\n",
      "family_status       21525 non-null object\n",
      "family_status_id    21525 non-null int64\n",
      "gender              21525 non-null object\n",
      "income_type         21525 non-null object\n",
      "debt                21525 non-null int64\n",
      "total_income        19351 non-null float64\n",
      "purpose             21525 non-null object\n",
      "dtypes: float64(2), int64(5), object(5)\n",
      "memory usage: 2.0+ MB\n"
     ]
    },
    {
     "data": {
      "text/html": [
       "<div>\n",
       "<style scoped>\n",
       "    .dataframe tbody tr th:only-of-type {\n",
       "        vertical-align: middle;\n",
       "    }\n",
       "\n",
       "    .dataframe tbody tr th {\n",
       "        vertical-align: top;\n",
       "    }\n",
       "\n",
       "    .dataframe thead th {\n",
       "        text-align: right;\n",
       "    }\n",
       "</style>\n",
       "<table border=\"1\" class=\"dataframe\">\n",
       "  <thead>\n",
       "    <tr style=\"text-align: right;\">\n",
       "      <th></th>\n",
       "      <th>children</th>\n",
       "      <th>days_employed</th>\n",
       "      <th>dob_years</th>\n",
       "      <th>education</th>\n",
       "      <th>education_id</th>\n",
       "      <th>family_status</th>\n",
       "      <th>family_status_id</th>\n",
       "      <th>gender</th>\n",
       "      <th>income_type</th>\n",
       "      <th>debt</th>\n",
       "      <th>total_income</th>\n",
       "      <th>purpose</th>\n",
       "    </tr>\n",
       "  </thead>\n",
       "  <tbody>\n",
       "    <tr>\n",
       "      <td>0</td>\n",
       "      <td>1</td>\n",
       "      <td>-8437.673028</td>\n",
       "      <td>42</td>\n",
       "      <td>высшее</td>\n",
       "      <td>0</td>\n",
       "      <td>женат / замужем</td>\n",
       "      <td>0</td>\n",
       "      <td>F</td>\n",
       "      <td>сотрудник</td>\n",
       "      <td>0</td>\n",
       "      <td>253875.639453</td>\n",
       "      <td>покупка жилья</td>\n",
       "    </tr>\n",
       "    <tr>\n",
       "      <td>1</td>\n",
       "      <td>1</td>\n",
       "      <td>-4024.803754</td>\n",
       "      <td>36</td>\n",
       "      <td>среднее</td>\n",
       "      <td>1</td>\n",
       "      <td>женат / замужем</td>\n",
       "      <td>0</td>\n",
       "      <td>F</td>\n",
       "      <td>сотрудник</td>\n",
       "      <td>0</td>\n",
       "      <td>112080.014102</td>\n",
       "      <td>приобретение автомобиля</td>\n",
       "    </tr>\n",
       "    <tr>\n",
       "      <td>2</td>\n",
       "      <td>0</td>\n",
       "      <td>-5623.422610</td>\n",
       "      <td>33</td>\n",
       "      <td>Среднее</td>\n",
       "      <td>1</td>\n",
       "      <td>женат / замужем</td>\n",
       "      <td>0</td>\n",
       "      <td>M</td>\n",
       "      <td>сотрудник</td>\n",
       "      <td>0</td>\n",
       "      <td>145885.952297</td>\n",
       "      <td>покупка жилья</td>\n",
       "    </tr>\n",
       "    <tr>\n",
       "      <td>3</td>\n",
       "      <td>3</td>\n",
       "      <td>-4124.747207</td>\n",
       "      <td>32</td>\n",
       "      <td>среднее</td>\n",
       "      <td>1</td>\n",
       "      <td>женат / замужем</td>\n",
       "      <td>0</td>\n",
       "      <td>M</td>\n",
       "      <td>сотрудник</td>\n",
       "      <td>0</td>\n",
       "      <td>267628.550329</td>\n",
       "      <td>дополнительное образование</td>\n",
       "    </tr>\n",
       "    <tr>\n",
       "      <td>4</td>\n",
       "      <td>0</td>\n",
       "      <td>340266.072047</td>\n",
       "      <td>53</td>\n",
       "      <td>среднее</td>\n",
       "      <td>1</td>\n",
       "      <td>гражданский брак</td>\n",
       "      <td>1</td>\n",
       "      <td>F</td>\n",
       "      <td>пенсионер</td>\n",
       "      <td>0</td>\n",
       "      <td>158616.077870</td>\n",
       "      <td>сыграть свадьбу</td>\n",
       "    </tr>\n",
       "    <tr>\n",
       "      <td>5</td>\n",
       "      <td>0</td>\n",
       "      <td>-926.185831</td>\n",
       "      <td>27</td>\n",
       "      <td>высшее</td>\n",
       "      <td>0</td>\n",
       "      <td>гражданский брак</td>\n",
       "      <td>1</td>\n",
       "      <td>M</td>\n",
       "      <td>компаньон</td>\n",
       "      <td>0</td>\n",
       "      <td>255763.565419</td>\n",
       "      <td>покупка жилья</td>\n",
       "    </tr>\n",
       "    <tr>\n",
       "      <td>6</td>\n",
       "      <td>0</td>\n",
       "      <td>-2879.202052</td>\n",
       "      <td>43</td>\n",
       "      <td>высшее</td>\n",
       "      <td>0</td>\n",
       "      <td>женат / замужем</td>\n",
       "      <td>0</td>\n",
       "      <td>F</td>\n",
       "      <td>компаньон</td>\n",
       "      <td>0</td>\n",
       "      <td>240525.971920</td>\n",
       "      <td>операции с жильем</td>\n",
       "    </tr>\n",
       "    <tr>\n",
       "      <td>7</td>\n",
       "      <td>0</td>\n",
       "      <td>-152.779569</td>\n",
       "      <td>50</td>\n",
       "      <td>СРЕДНЕЕ</td>\n",
       "      <td>1</td>\n",
       "      <td>женат / замужем</td>\n",
       "      <td>0</td>\n",
       "      <td>M</td>\n",
       "      <td>сотрудник</td>\n",
       "      <td>0</td>\n",
       "      <td>135823.934197</td>\n",
       "      <td>образование</td>\n",
       "    </tr>\n",
       "    <tr>\n",
       "      <td>8</td>\n",
       "      <td>2</td>\n",
       "      <td>-6929.865299</td>\n",
       "      <td>35</td>\n",
       "      <td>ВЫСШЕЕ</td>\n",
       "      <td>0</td>\n",
       "      <td>гражданский брак</td>\n",
       "      <td>1</td>\n",
       "      <td>F</td>\n",
       "      <td>сотрудник</td>\n",
       "      <td>0</td>\n",
       "      <td>95856.832424</td>\n",
       "      <td>на проведение свадьбы</td>\n",
       "    </tr>\n",
       "    <tr>\n",
       "      <td>9</td>\n",
       "      <td>0</td>\n",
       "      <td>-2188.756445</td>\n",
       "      <td>41</td>\n",
       "      <td>среднее</td>\n",
       "      <td>1</td>\n",
       "      <td>женат / замужем</td>\n",
       "      <td>0</td>\n",
       "      <td>M</td>\n",
       "      <td>сотрудник</td>\n",
       "      <td>0</td>\n",
       "      <td>144425.938277</td>\n",
       "      <td>покупка жилья для семьи</td>\n",
       "    </tr>\n",
       "  </tbody>\n",
       "</table>\n",
       "</div>"
      ],
      "text/plain": [
       "   children  days_employed  dob_years education  education_id  \\\n",
       "0         1   -8437.673028         42    высшее             0   \n",
       "1         1   -4024.803754         36   среднее             1   \n",
       "2         0   -5623.422610         33   Среднее             1   \n",
       "3         3   -4124.747207         32   среднее             1   \n",
       "4         0  340266.072047         53   среднее             1   \n",
       "5         0    -926.185831         27    высшее             0   \n",
       "6         0   -2879.202052         43    высшее             0   \n",
       "7         0    -152.779569         50   СРЕДНЕЕ             1   \n",
       "8         2   -6929.865299         35    ВЫСШЕЕ             0   \n",
       "9         0   -2188.756445         41   среднее             1   \n",
       "\n",
       "      family_status  family_status_id gender income_type  debt   total_income  \\\n",
       "0   женат / замужем                 0      F   сотрудник     0  253875.639453   \n",
       "1   женат / замужем                 0      F   сотрудник     0  112080.014102   \n",
       "2   женат / замужем                 0      M   сотрудник     0  145885.952297   \n",
       "3   женат / замужем                 0      M   сотрудник     0  267628.550329   \n",
       "4  гражданский брак                 1      F   пенсионер     0  158616.077870   \n",
       "5  гражданский брак                 1      M   компаньон     0  255763.565419   \n",
       "6   женат / замужем                 0      F   компаньон     0  240525.971920   \n",
       "7   женат / замужем                 0      M   сотрудник     0  135823.934197   \n",
       "8  гражданский брак                 1      F   сотрудник     0   95856.832424   \n",
       "9   женат / замужем                 0      M   сотрудник     0  144425.938277   \n",
       "\n",
       "                      purpose  \n",
       "0               покупка жилья  \n",
       "1     приобретение автомобиля  \n",
       "2               покупка жилья  \n",
       "3  дополнительное образование  \n",
       "4             сыграть свадьбу  \n",
       "5               покупка жилья  \n",
       "6           операции с жильем  \n",
       "7                 образование  \n",
       "8       на проведение свадьбы  \n",
       "9     покупка жилья для семьи  "
      ]
     },
     "execution_count": 65,
     "metadata": {},
     "output_type": "execute_result"
    }
   ],
   "source": [
    "data_frame=pd.read_csv('/datasets/data.csv')\n",
    "data_frame.info()\n",
    "data_frame.head(10)"
   ]
  },
  {
   "cell_type": "markdown",
   "id": "be42222a",
   "metadata": {},
   "source": [
    "## Предобработка данных"
   ]
  },
  {
   "cell_type": "markdown",
   "id": "d272e2ef",
   "metadata": {},
   "source": [
    "### Заполнение пропусков"
   ]
  },
  {
   "cell_type": "code",
   "execution_count": 66,
   "id": "983eaa41",
   "metadata": {},
   "outputs": [
    {
     "data": {
      "text/plain": [
       "children               0\n",
       "days_employed       2174\n",
       "dob_years              0\n",
       "education              0\n",
       "education_id           0\n",
       "family_status          0\n",
       "family_status_id       0\n",
       "gender                 0\n",
       "income_type            0\n",
       "debt                   0\n",
       "total_income        2174\n",
       "purpose                0\n",
       "dtype: int64"
      ]
     },
     "metadata": {},
     "output_type": "display_data"
    }
   ],
   "source": [
    "Null_data_columns=data_frame.isna().sum() \n",
    "columns_data=list(data_frame.columns) \n",
    "display(Null_data_columns)\n",
    "Null_data_columns=list(Null_data_columns) "
   ]
  },
  {
   "cell_type": "markdown",
   "id": "a8438cf9",
   "metadata": {},
   "source": [
    "Оценка количества пропущенных значений"
   ]
  },
  {
   "cell_type": "code",
   "execution_count": 67,
   "id": "195ebb2a",
   "metadata": {},
   "outputs": [
    {
     "name": "stdout",
     "output_type": "stream",
     "text": [
      "Доля пропусков в столбце:\n",
      "children = 0.00%\n",
      "days_employed = 10.10%\n",
      "dob_years = 0.00%\n",
      "education = 0.00%\n",
      "education_id = 0.00%\n",
      "family_status = 0.00%\n",
      "family_status_id = 0.00%\n",
      "gender = 0.00%\n",
      "income_type = 0.00%\n",
      "debt = 0.00%\n",
      "total_income = 10.10%\n",
      "purpose = 0.00%\n"
     ]
    }
   ],
   "source": [
    "print('Доля пропусков в столбце:') \n",
    "for i in range(len(columns_data)): # цикл для расчета доли пропусков в каждом столбце\n",
    "    rezul=1-(len(data_frame)-Null_data_columns[i])/len(data_frame)\n",
    "    print(columns_data[i], '=', f'{rezul:.2%}' )"
   ]
  },
  {
   "cell_type": "markdown",
   "id": "6d9b6e4a",
   "metadata": {},
   "source": [
    "Доля пропусков в столбце ` days_employed` и `total_income` более 10%, что достаточно много"
   ]
  },
  {
   "cell_type": "code",
   "execution_count": 68,
   "id": "c94c3155",
   "metadata": {},
   "outputs": [
    {
     "name": "stderr",
     "output_type": "stream",
     "text": [
      "/opt/conda/lib/python3.7/site-packages/ipykernel_launcher.py:8: SettingWithCopyWarning: \n",
      "A value is trying to be set on a copy of a slice from a DataFrame\n",
      "\n",
      "See the caveats in the documentation: http://pandas.pydata.org/pandas-docs/stable/user_guide/indexing.html#returning-a-view-versus-a-copy\n",
      "  \n"
     ]
    }
   ],
   "source": [
    "mean_total_income=data_frame.groupby('income_type')['total_income'].mean()\n",
    "data_frame['total_income']=data_frame['total_income'].fillna(0) \n",
    "name_income=list(mean_total_income.index.unique()) \n",
    "\n",
    "for i in range(len(name_income)):  \n",
    "    for it in range(len(data_frame)):\n",
    "        if data_frame['income_type'][it]==name_income[i] and data_frame['total_income'][it]==0: \n",
    "            data_frame['total_income'][it]=mean_total_income[i]"
   ]
  },
  {
   "cell_type": "markdown",
   "id": "dcc2840e",
   "metadata": {},
   "source": [
    "### Проверка данных на аномалии и исправления."
   ]
  },
  {
   "cell_type": "code",
   "execution_count": 69,
   "id": "108bc46f",
   "metadata": {},
   "outputs": [
    {
     "name": "stdout",
     "output_type": "stream",
     "text": [
      "столбец children\n"
     ]
    },
    {
     "data": {
      "text/plain": [
       "array([-1,  0,  1,  2,  3,  4,  5, 20])"
      ]
     },
     "metadata": {},
     "output_type": "display_data"
    },
    {
     "name": "stdout",
     "output_type": "stream",
     "text": [
      "столбец days_employed\n"
     ]
    },
    {
     "data": {
      "text/plain": [
       "array([-18388.94990057, -17615.56326563, -16593.47281726, ...,\n",
       "       401715.81174889, 401755.40047533,             nan])"
      ]
     },
     "metadata": {},
     "output_type": "display_data"
    },
    {
     "name": "stdout",
     "output_type": "stream",
     "text": [
      "столбец dob_years\n"
     ]
    },
    {
     "data": {
      "text/plain": [
       "array([ 0, 19, 20, 21, 22, 23, 24, 25, 26, 27, 28, 29, 30, 31, 32, 33, 34,\n",
       "       35, 36, 37, 38, 39, 40, 41, 42, 43, 44, 45, 46, 47, 48, 49, 50, 51,\n",
       "       52, 53, 54, 55, 56, 57, 58, 59, 60, 61, 62, 63, 64, 65, 66, 67, 68,\n",
       "       69, 70, 71, 72, 73, 74, 75])"
      ]
     },
     "metadata": {},
     "output_type": "display_data"
    },
    {
     "name": "stdout",
     "output_type": "stream",
     "text": [
      "столбец education\n"
     ]
    },
    {
     "data": {
      "text/plain": [
       "array(['ВЫСШЕЕ', 'Высшее', 'НАЧАЛЬНОЕ', 'НЕОКОНЧЕННОЕ ВЫСШЕЕ',\n",
       "       'Начальное', 'Неоконченное высшее', 'СРЕДНЕЕ', 'Среднее',\n",
       "       'УЧЕНАЯ СТЕПЕНЬ', 'Ученая степень', 'высшее', 'начальное',\n",
       "       'неоконченное высшее', 'среднее', 'ученая степень'], dtype=object)"
      ]
     },
     "metadata": {},
     "output_type": "display_data"
    },
    {
     "name": "stdout",
     "output_type": "stream",
     "text": [
      "столбец education_id\n"
     ]
    },
    {
     "data": {
      "text/plain": [
       "array([0, 1, 2, 3, 4])"
      ]
     },
     "metadata": {},
     "output_type": "display_data"
    },
    {
     "name": "stdout",
     "output_type": "stream",
     "text": [
      "столбец family_status\n"
     ]
    },
    {
     "data": {
      "text/plain": [
       "array(['Не женат / не замужем', 'в разводе', 'вдовец / вдова',\n",
       "       'гражданский брак', 'женат / замужем'], dtype=object)"
      ]
     },
     "metadata": {},
     "output_type": "display_data"
    },
    {
     "name": "stdout",
     "output_type": "stream",
     "text": [
      "столбец family_status_id\n"
     ]
    },
    {
     "data": {
      "text/plain": [
       "array([0, 1, 2, 3, 4])"
      ]
     },
     "metadata": {},
     "output_type": "display_data"
    },
    {
     "name": "stdout",
     "output_type": "stream",
     "text": [
      "столбец gender\n"
     ]
    },
    {
     "data": {
      "text/plain": [
       "array(['F', 'M', 'XNA'], dtype=object)"
      ]
     },
     "metadata": {},
     "output_type": "display_data"
    },
    {
     "name": "stdout",
     "output_type": "stream",
     "text": [
      "столбец income_type\n"
     ]
    },
    {
     "data": {
      "text/plain": [
       "array(['безработный', 'в декрете', 'госслужащий', 'компаньон',\n",
       "       'пенсионер', 'предприниматель', 'сотрудник', 'студент'],\n",
       "      dtype=object)"
      ]
     },
     "metadata": {},
     "output_type": "display_data"
    },
    {
     "name": "stdout",
     "output_type": "stream",
     "text": [
      "столбец debt\n"
     ]
    },
    {
     "data": {
      "text/plain": [
       "array([0, 1])"
      ]
     },
     "metadata": {},
     "output_type": "display_data"
    },
    {
     "name": "stdout",
     "output_type": "stream",
     "text": [
      "столбец total_income\n"
     ]
    },
    {
     "data": {
      "text/plain": [
       "array([  20667.26379327,   21205.28056622,   21367.64835649, ...,\n",
       "       1726276.01433167, 2200852.2102589 , 2265604.02872274])"
      ]
     },
     "metadata": {},
     "output_type": "display_data"
    },
    {
     "name": "stdout",
     "output_type": "stream",
     "text": [
      "столбец purpose\n"
     ]
    },
    {
     "data": {
      "text/plain": [
       "array(['автомобили', 'автомобиль', 'высшее образование',\n",
       "       'дополнительное образование', 'жилье',\n",
       "       'заняться высшим образованием', 'заняться образованием',\n",
       "       'на покупку автомобиля', 'на покупку подержанного автомобиля',\n",
       "       'на покупку своего автомобиля', 'на проведение свадьбы',\n",
       "       'недвижимость', 'образование', 'операции с жильем',\n",
       "       'операции с коммерческой недвижимостью',\n",
       "       'операции с недвижимостью', 'операции со своей недвижимостью',\n",
       "       'покупка жилой недвижимости', 'покупка жилья',\n",
       "       'покупка жилья для сдачи', 'покупка жилья для семьи',\n",
       "       'покупка коммерческой недвижимости', 'покупка недвижимости',\n",
       "       'покупка своего жилья', 'получение высшего образования',\n",
       "       'получение дополнительного образования', 'получение образования',\n",
       "       'приобретение автомобиля', 'профильное образование',\n",
       "       'ремонт жилью', 'свадьба', 'свой автомобиль',\n",
       "       'сделка с автомобилем', 'сделка с подержанным автомобилем',\n",
       "       'строительство жилой недвижимости', 'строительство недвижимости',\n",
       "       'строительство собственной недвижимости', 'сыграть свадьбу'],\n",
       "      dtype=object)"
      ]
     },
     "metadata": {},
     "output_type": "display_data"
    }
   ],
   "source": [
    "for i in columns_data:\n",
    "    colum_value=data_frame[i].sort_values().unique() # Вывод всех уникальных значений  по столбцам\n",
    "    print('столбец',i)\n",
    "    display(colum_value)"
   ]
  },
  {
   "cell_type": "code",
   "execution_count": 70,
   "id": "d849f3d9",
   "metadata": {},
   "outputs": [
    {
     "data": {
      "text/plain": [
       "income_type\n",
       "безработный        395302.838654\n",
       "в декрете            3296.759962\n",
       "госслужащий         15193.032201\n",
       "компаньон           17615.563266\n",
       "пенсионер          401755.400475\n",
       "предприниматель       520.848083\n",
       "сотрудник           18388.949901\n",
       "студент               578.751554\n",
       "Name: days_employed, dtype: float64"
      ]
     },
     "metadata": {},
     "output_type": "display_data"
    }
   ],
   "source": [
    "data_frame['days_employed']=abs(data_frame['days_employed'])\n",
    "group_days_employed=data_frame.groupby('income_type')['days_employed'].max() \n",
    "display(group_days_employed)\n"
   ]
  },
  {
   "cell_type": "markdown",
   "id": "dac23ee0",
   "metadata": {},
   "source": [
    "Анамально большие значения стажа выявлены у `безработный` и `пенсионер`"
   ]
  },
  {
   "cell_type": "code",
   "execution_count": 71,
   "id": "8c26978e",
   "metadata": {},
   "outputs": [
    {
     "name": "stderr",
     "output_type": "stream",
     "text": [
      "/opt/conda/lib/python3.7/site-packages/ipykernel_launcher.py:3: SettingWithCopyWarning: \n",
      "A value is trying to be set on a copy of a slice from a DataFrame\n",
      "\n",
      "See the caveats in the documentation: http://pandas.pydata.org/pandas-docs/stable/user_guide/indexing.html#returning-a-view-versus-a-copy\n",
      "  This is separate from the ipykernel package so we can avoid doing imports until\n"
     ]
    },
    {
     "data": {
      "text/plain": [
       "income_type\n",
       "безработный            2\n",
       "в декрете              1\n",
       "госслужащий         1459\n",
       "компаньон           5085\n",
       "пенсионер           3856\n",
       "предприниматель        2\n",
       "сотрудник          11119\n",
       "студент                1\n",
       "Name: income_type, dtype: int64"
      ]
     },
     "metadata": {},
     "output_type": "display_data"
    },
    {
     "data": {
      "text/plain": [
       "income_type\n",
       "безработный                NaN\n",
       "в декрете          3296.759962\n",
       "госслужащий        3399.896902\n",
       "компаньон          2111.524398\n",
       "пенсионер                  NaN\n",
       "предприниматель     520.848083\n",
       "сотрудник          2324.895056\n",
       "студент             578.751554\n",
       "Name: days_employed, dtype: float64"
      ]
     },
     "metadata": {},
     "output_type": "display_data"
    }
   ],
   "source": [
    "for i in range(len(data_frame)): \n",
    "    if (data_frame['days_employed'][i]>18250):\n",
    "        data_frame['days_employed'][i]='NaN'\n",
    "group_days_employed=data_frame.groupby('income_type')['income_type'].count() \n",
    "display(group_days_employed) \n",
    "group_days_employed=data_frame.groupby('income_type')['days_employed'].mean() \n",
    "display(group_days_employed)\n"
   ]
  },
  {
   "cell_type": "markdown",
   "id": "379e155a",
   "metadata": {},
   "source": [
    "**Вывод** Из полученных данных видно, что данных в группе  `безработный `,  `в декрете ` `предприниматель `,`студент` очень мало. Пропуски в данных строках ни как не должны повлиять на ответы на вопросы. А вот `пенсионер ` имеет достаточное количество данных и все они имеют не верное значение стажа, но ошибки в значении стажа не окажут влияния на ответ на поставленные вопросы. Поэтому заменим их нулями."
   ]
  },
  {
   "cell_type": "code",
   "execution_count": 72,
   "id": "84186826",
   "metadata": {},
   "outputs": [
    {
     "data": {
      "text/plain": [
       "children            0\n",
       "days_employed       0\n",
       "dob_years           0\n",
       "education           0\n",
       "education_id        0\n",
       "family_status       0\n",
       "family_status_id    0\n",
       "gender              0\n",
       "income_type         0\n",
       "debt                0\n",
       "total_income        0\n",
       "purpose             0\n",
       "dtype: int64"
      ]
     },
     "metadata": {},
     "output_type": "display_data"
    }
   ],
   "source": [
    "data_frame['days_employed']=data_frame['days_employed'].fillna(0)\n",
    "Null_data_columns=data_frame.isna().sum() \n",
    "display(Null_data_columns)  "
   ]
  },
  {
   "cell_type": "markdown",
   "id": "69f02f80",
   "metadata": {},
   "source": [
    "### Изменение типов данных."
   ]
  },
  {
   "cell_type": "code",
   "execution_count": 73,
   "id": "99065995",
   "metadata": {},
   "outputs": [],
   "source": [
    "data_frame['total_income']=data_frame['total_income'].astype('int')\n",
    "data_frame['children']=abs(data_frame['children'])"
   ]
  },
  {
   "cell_type": "code",
   "execution_count": 74,
   "id": "9d1a8de4",
   "metadata": {},
   "outputs": [
    {
     "data": {
      "text/plain": [
       "71"
      ]
     },
     "execution_count": 74,
     "metadata": {},
     "output_type": "execute_result"
    }
   ],
   "source": [
    "data_frame['education'] = data_frame['education'].str.lower()\n",
    "data_frame.duplicated().sum()"
   ]
  },
  {
   "cell_type": "code",
   "execution_count": 75,
   "id": "d9597f0a",
   "metadata": {},
   "outputs": [
    {
     "data": {
      "text/plain": [
       "0"
      ]
     },
     "execution_count": 75,
     "metadata": {},
     "output_type": "execute_result"
    }
   ],
   "source": [
    "data_frame = data_frame.drop_duplicates().reset_index(drop=True)  \n",
    "data_frame.duplicated().sum()"
   ]
  },
  {
   "cell_type": "markdown",
   "id": "d95d493b",
   "metadata": {},
   "source": [
    "### Формирование дополнительных датафреймов словарей, декомпозиция исходного датафрейма."
   ]
  },
  {
   "cell_type": "code",
   "execution_count": 76,
   "id": "09f9b29f",
   "metadata": {
    "scrolled": true
   },
   "outputs": [
    {
     "data": {
      "text/html": [
       "<div>\n",
       "<style scoped>\n",
       "    .dataframe tbody tr th:only-of-type {\n",
       "        vertical-align: middle;\n",
       "    }\n",
       "\n",
       "    .dataframe tbody tr th {\n",
       "        vertical-align: top;\n",
       "    }\n",
       "\n",
       "    .dataframe thead th {\n",
       "        text-align: right;\n",
       "    }\n",
       "</style>\n",
       "<table border=\"1\" class=\"dataframe\">\n",
       "  <thead>\n",
       "    <tr style=\"text-align: right;\">\n",
       "      <th></th>\n",
       "      <th>education</th>\n",
       "      <th>education_id</th>\n",
       "    </tr>\n",
       "  </thead>\n",
       "  <tbody>\n",
       "    <tr>\n",
       "      <td>0</td>\n",
       "      <td>высшее</td>\n",
       "      <td>0</td>\n",
       "    </tr>\n",
       "    <tr>\n",
       "      <td>1</td>\n",
       "      <td>среднее</td>\n",
       "      <td>1</td>\n",
       "    </tr>\n",
       "    <tr>\n",
       "      <td>2</td>\n",
       "      <td>неоконченное высшее</td>\n",
       "      <td>2</td>\n",
       "    </tr>\n",
       "    <tr>\n",
       "      <td>3</td>\n",
       "      <td>начальное</td>\n",
       "      <td>3</td>\n",
       "    </tr>\n",
       "    <tr>\n",
       "      <td>4</td>\n",
       "      <td>ученая степень</td>\n",
       "      <td>4</td>\n",
       "    </tr>\n",
       "  </tbody>\n",
       "</table>\n",
       "</div>"
      ],
      "text/plain": [
       "             education  education_id\n",
       "0               высшее             0\n",
       "1              среднее             1\n",
       "2  неоконченное высшее             2\n",
       "3            начальное             3\n",
       "4       ученая степень             4"
      ]
     },
     "metadata": {},
     "output_type": "display_data"
    },
    {
     "data": {
      "text/html": [
       "<div>\n",
       "<style scoped>\n",
       "    .dataframe tbody tr th:only-of-type {\n",
       "        vertical-align: middle;\n",
       "    }\n",
       "\n",
       "    .dataframe tbody tr th {\n",
       "        vertical-align: top;\n",
       "    }\n",
       "\n",
       "    .dataframe thead th {\n",
       "        text-align: right;\n",
       "    }\n",
       "</style>\n",
       "<table border=\"1\" class=\"dataframe\">\n",
       "  <thead>\n",
       "    <tr style=\"text-align: right;\">\n",
       "      <th></th>\n",
       "      <th>family_status</th>\n",
       "      <th>family_status_id</th>\n",
       "    </tr>\n",
       "  </thead>\n",
       "  <tbody>\n",
       "    <tr>\n",
       "      <td>0</td>\n",
       "      <td>женат / замужем</td>\n",
       "      <td>0</td>\n",
       "    </tr>\n",
       "    <tr>\n",
       "      <td>1</td>\n",
       "      <td>гражданский брак</td>\n",
       "      <td>1</td>\n",
       "    </tr>\n",
       "    <tr>\n",
       "      <td>2</td>\n",
       "      <td>вдовец / вдова</td>\n",
       "      <td>2</td>\n",
       "    </tr>\n",
       "    <tr>\n",
       "      <td>3</td>\n",
       "      <td>в разводе</td>\n",
       "      <td>3</td>\n",
       "    </tr>\n",
       "    <tr>\n",
       "      <td>4</td>\n",
       "      <td>Не женат / не замужем</td>\n",
       "      <td>4</td>\n",
       "    </tr>\n",
       "  </tbody>\n",
       "</table>\n",
       "</div>"
      ],
      "text/plain": [
       "           family_status  family_status_id\n",
       "0        женат / замужем                 0\n",
       "1       гражданский брак                 1\n",
       "2         вдовец / вдова                 2\n",
       "3              в разводе                 3\n",
       "4  Не женат / не замужем                 4"
      ]
     },
     "metadata": {},
     "output_type": "display_data"
    }
   ],
   "source": [
    "df_education=data_frame[['education','education_id']] #словари значений\n",
    "df_education= df_education.drop_duplicates().reset_index(drop=True)\n",
    "display(df_education)\n",
    "df_family=data_frame[['family_status','family_status_id']]\n",
    "df_family= df_family.drop_duplicates().reset_index(drop=True)\n",
    "display(df_family)"
   ]
  },
  {
   "cell_type": "markdown",
   "id": "12b214a0",
   "metadata": {},
   "source": [
    "### Категоризация дохода."
   ]
  },
  {
   "cell_type": "code",
   "execution_count": 77,
   "id": "6e19d81e",
   "metadata": {},
   "outputs": [
    {
     "data": {
      "text/html": [
       "<div>\n",
       "<style scoped>\n",
       "    .dataframe tbody tr th:only-of-type {\n",
       "        vertical-align: middle;\n",
       "    }\n",
       "\n",
       "    .dataframe tbody tr th {\n",
       "        vertical-align: top;\n",
       "    }\n",
       "\n",
       "    .dataframe thead th {\n",
       "        text-align: right;\n",
       "    }\n",
       "</style>\n",
       "<table border=\"1\" class=\"dataframe\">\n",
       "  <thead>\n",
       "    <tr style=\"text-align: right;\">\n",
       "      <th></th>\n",
       "      <th>children</th>\n",
       "      <th>days_employed</th>\n",
       "      <th>dob_years</th>\n",
       "      <th>education</th>\n",
       "      <th>education_id</th>\n",
       "      <th>family_status</th>\n",
       "      <th>family_status_id</th>\n",
       "      <th>gender</th>\n",
       "      <th>income_type</th>\n",
       "      <th>debt</th>\n",
       "      <th>total_income</th>\n",
       "      <th>purpose</th>\n",
       "      <th>total_income_category</th>\n",
       "    </tr>\n",
       "  </thead>\n",
       "  <tbody>\n",
       "    <tr>\n",
       "      <td>0</td>\n",
       "      <td>1</td>\n",
       "      <td>8437.673028</td>\n",
       "      <td>42</td>\n",
       "      <td>высшее</td>\n",
       "      <td>0</td>\n",
       "      <td>женат / замужем</td>\n",
       "      <td>0</td>\n",
       "      <td>F</td>\n",
       "      <td>сотрудник</td>\n",
       "      <td>0</td>\n",
       "      <td>253875</td>\n",
       "      <td>покупка жилья</td>\n",
       "      <td>B</td>\n",
       "    </tr>\n",
       "    <tr>\n",
       "      <td>1</td>\n",
       "      <td>1</td>\n",
       "      <td>4024.803754</td>\n",
       "      <td>36</td>\n",
       "      <td>среднее</td>\n",
       "      <td>1</td>\n",
       "      <td>женат / замужем</td>\n",
       "      <td>0</td>\n",
       "      <td>F</td>\n",
       "      <td>сотрудник</td>\n",
       "      <td>0</td>\n",
       "      <td>112080</td>\n",
       "      <td>приобретение автомобиля</td>\n",
       "      <td>C</td>\n",
       "    </tr>\n",
       "    <tr>\n",
       "      <td>2</td>\n",
       "      <td>0</td>\n",
       "      <td>5623.422610</td>\n",
       "      <td>33</td>\n",
       "      <td>среднее</td>\n",
       "      <td>1</td>\n",
       "      <td>женат / замужем</td>\n",
       "      <td>0</td>\n",
       "      <td>M</td>\n",
       "      <td>сотрудник</td>\n",
       "      <td>0</td>\n",
       "      <td>145885</td>\n",
       "      <td>покупка жилья</td>\n",
       "      <td>C</td>\n",
       "    </tr>\n",
       "    <tr>\n",
       "      <td>3</td>\n",
       "      <td>3</td>\n",
       "      <td>4124.747207</td>\n",
       "      <td>32</td>\n",
       "      <td>среднее</td>\n",
       "      <td>1</td>\n",
       "      <td>женат / замужем</td>\n",
       "      <td>0</td>\n",
       "      <td>M</td>\n",
       "      <td>сотрудник</td>\n",
       "      <td>0</td>\n",
       "      <td>267628</td>\n",
       "      <td>дополнительное образование</td>\n",
       "      <td>B</td>\n",
       "    </tr>\n",
       "    <tr>\n",
       "      <td>4</td>\n",
       "      <td>0</td>\n",
       "      <td>0.000000</td>\n",
       "      <td>53</td>\n",
       "      <td>среднее</td>\n",
       "      <td>1</td>\n",
       "      <td>гражданский брак</td>\n",
       "      <td>1</td>\n",
       "      <td>F</td>\n",
       "      <td>пенсионер</td>\n",
       "      <td>0</td>\n",
       "      <td>158616</td>\n",
       "      <td>сыграть свадьбу</td>\n",
       "      <td>C</td>\n",
       "    </tr>\n",
       "    <tr>\n",
       "      <td>5</td>\n",
       "      <td>0</td>\n",
       "      <td>926.185831</td>\n",
       "      <td>27</td>\n",
       "      <td>высшее</td>\n",
       "      <td>0</td>\n",
       "      <td>гражданский брак</td>\n",
       "      <td>1</td>\n",
       "      <td>M</td>\n",
       "      <td>компаньон</td>\n",
       "      <td>0</td>\n",
       "      <td>255763</td>\n",
       "      <td>покупка жилья</td>\n",
       "      <td>B</td>\n",
       "    </tr>\n",
       "    <tr>\n",
       "      <td>6</td>\n",
       "      <td>0</td>\n",
       "      <td>2879.202052</td>\n",
       "      <td>43</td>\n",
       "      <td>высшее</td>\n",
       "      <td>0</td>\n",
       "      <td>женат / замужем</td>\n",
       "      <td>0</td>\n",
       "      <td>F</td>\n",
       "      <td>компаньон</td>\n",
       "      <td>0</td>\n",
       "      <td>240525</td>\n",
       "      <td>операции с жильем</td>\n",
       "      <td>B</td>\n",
       "    </tr>\n",
       "    <tr>\n",
       "      <td>7</td>\n",
       "      <td>0</td>\n",
       "      <td>152.779569</td>\n",
       "      <td>50</td>\n",
       "      <td>среднее</td>\n",
       "      <td>1</td>\n",
       "      <td>женат / замужем</td>\n",
       "      <td>0</td>\n",
       "      <td>M</td>\n",
       "      <td>сотрудник</td>\n",
       "      <td>0</td>\n",
       "      <td>135823</td>\n",
       "      <td>образование</td>\n",
       "      <td>C</td>\n",
       "    </tr>\n",
       "    <tr>\n",
       "      <td>8</td>\n",
       "      <td>2</td>\n",
       "      <td>6929.865299</td>\n",
       "      <td>35</td>\n",
       "      <td>высшее</td>\n",
       "      <td>0</td>\n",
       "      <td>гражданский брак</td>\n",
       "      <td>1</td>\n",
       "      <td>F</td>\n",
       "      <td>сотрудник</td>\n",
       "      <td>0</td>\n",
       "      <td>95856</td>\n",
       "      <td>на проведение свадьбы</td>\n",
       "      <td>C</td>\n",
       "    </tr>\n",
       "    <tr>\n",
       "      <td>9</td>\n",
       "      <td>0</td>\n",
       "      <td>2188.756445</td>\n",
       "      <td>41</td>\n",
       "      <td>среднее</td>\n",
       "      <td>1</td>\n",
       "      <td>женат / замужем</td>\n",
       "      <td>0</td>\n",
       "      <td>M</td>\n",
       "      <td>сотрудник</td>\n",
       "      <td>0</td>\n",
       "      <td>144425</td>\n",
       "      <td>покупка жилья для семьи</td>\n",
       "      <td>C</td>\n",
       "    </tr>\n",
       "  </tbody>\n",
       "</table>\n",
       "</div>"
      ],
      "text/plain": [
       "   children  days_employed  dob_years education  education_id  \\\n",
       "0         1    8437.673028         42    высшее             0   \n",
       "1         1    4024.803754         36   среднее             1   \n",
       "2         0    5623.422610         33   среднее             1   \n",
       "3         3    4124.747207         32   среднее             1   \n",
       "4         0       0.000000         53   среднее             1   \n",
       "5         0     926.185831         27    высшее             0   \n",
       "6         0    2879.202052         43    высшее             0   \n",
       "7         0     152.779569         50   среднее             1   \n",
       "8         2    6929.865299         35    высшее             0   \n",
       "9         0    2188.756445         41   среднее             1   \n",
       "\n",
       "      family_status  family_status_id gender income_type  debt  total_income  \\\n",
       "0   женат / замужем                 0      F   сотрудник     0        253875   \n",
       "1   женат / замужем                 0      F   сотрудник     0        112080   \n",
       "2   женат / замужем                 0      M   сотрудник     0        145885   \n",
       "3   женат / замужем                 0      M   сотрудник     0        267628   \n",
       "4  гражданский брак                 1      F   пенсионер     0        158616   \n",
       "5  гражданский брак                 1      M   компаньон     0        255763   \n",
       "6   женат / замужем                 0      F   компаньон     0        240525   \n",
       "7   женат / замужем                 0      M   сотрудник     0        135823   \n",
       "8  гражданский брак                 1      F   сотрудник     0         95856   \n",
       "9   женат / замужем                 0      M   сотрудник     0        144425   \n",
       "\n",
       "                      purpose total_income_category  \n",
       "0               покупка жилья                     B  \n",
       "1     приобретение автомобиля                     C  \n",
       "2               покупка жилья                     C  \n",
       "3  дополнительное образование                     B  \n",
       "4             сыграть свадьбу                     C  \n",
       "5               покупка жилья                     B  \n",
       "6           операции с жильем                     B  \n",
       "7                 образование                     C  \n",
       "8       на проведение свадьбы                     C  \n",
       "9     покупка жилья для семьи                     C  "
      ]
     },
     "execution_count": 77,
     "metadata": {},
     "output_type": "execute_result"
    }
   ],
   "source": [
    "def income_category (data_frame): #функция для категоризации дахода\n",
    "    if data_frame<=30000:\n",
    "        return 'E' \n",
    "    elif data_frame >30001 and data_frame <=50000:\n",
    "        return 'D'\n",
    "    elif data_frame >50001 and data_frame <=200000:\n",
    "        return 'C'\n",
    "    elif data_frame >200001 and data_frame <=1000000:\n",
    "        return 'B'\n",
    "    else:\n",
    "        return 'A'\n",
    "\n",
    "data_frame['total_income_category']=data_frame['total_income'].apply(income_category) #Примение функции\n",
    "data_frame.head(10) #проверка результата "
   ]
  },
  {
   "cell_type": "markdown",
   "id": "1ef941b6",
   "metadata": {},
   "source": [
    "### Категоризация целей кредита."
   ]
  },
  {
   "cell_type": "code",
   "execution_count": 78,
   "id": "1a9ca751",
   "metadata": {},
   "outputs": [
    {
     "data": {
      "text/html": [
       "<div>\n",
       "<style scoped>\n",
       "    .dataframe tbody tr th:only-of-type {\n",
       "        vertical-align: middle;\n",
       "    }\n",
       "\n",
       "    .dataframe tbody tr th {\n",
       "        vertical-align: top;\n",
       "    }\n",
       "\n",
       "    .dataframe thead th {\n",
       "        text-align: right;\n",
       "    }\n",
       "</style>\n",
       "<table border=\"1\" class=\"dataframe\">\n",
       "  <thead>\n",
       "    <tr style=\"text-align: right;\">\n",
       "      <th></th>\n",
       "      <th>children</th>\n",
       "      <th>days_employed</th>\n",
       "      <th>dob_years</th>\n",
       "      <th>education</th>\n",
       "      <th>education_id</th>\n",
       "      <th>family_status</th>\n",
       "      <th>family_status_id</th>\n",
       "      <th>gender</th>\n",
       "      <th>income_type</th>\n",
       "      <th>debt</th>\n",
       "      <th>total_income</th>\n",
       "      <th>purpose</th>\n",
       "      <th>total_income_category</th>\n",
       "      <th>purpose_category</th>\n",
       "    </tr>\n",
       "  </thead>\n",
       "  <tbody>\n",
       "    <tr>\n",
       "      <td>0</td>\n",
       "      <td>1</td>\n",
       "      <td>8437.673028</td>\n",
       "      <td>42</td>\n",
       "      <td>высшее</td>\n",
       "      <td>0</td>\n",
       "      <td>женат / замужем</td>\n",
       "      <td>0</td>\n",
       "      <td>F</td>\n",
       "      <td>сотрудник</td>\n",
       "      <td>0</td>\n",
       "      <td>253875</td>\n",
       "      <td>покупка жилья</td>\n",
       "      <td>B</td>\n",
       "      <td>операции с недвижимостью</td>\n",
       "    </tr>\n",
       "    <tr>\n",
       "      <td>1</td>\n",
       "      <td>1</td>\n",
       "      <td>4024.803754</td>\n",
       "      <td>36</td>\n",
       "      <td>среднее</td>\n",
       "      <td>1</td>\n",
       "      <td>женат / замужем</td>\n",
       "      <td>0</td>\n",
       "      <td>F</td>\n",
       "      <td>сотрудник</td>\n",
       "      <td>0</td>\n",
       "      <td>112080</td>\n",
       "      <td>приобретение автомобиля</td>\n",
       "      <td>C</td>\n",
       "      <td>операции с автомобилем</td>\n",
       "    </tr>\n",
       "    <tr>\n",
       "      <td>2</td>\n",
       "      <td>0</td>\n",
       "      <td>5623.422610</td>\n",
       "      <td>33</td>\n",
       "      <td>среднее</td>\n",
       "      <td>1</td>\n",
       "      <td>женат / замужем</td>\n",
       "      <td>0</td>\n",
       "      <td>M</td>\n",
       "      <td>сотрудник</td>\n",
       "      <td>0</td>\n",
       "      <td>145885</td>\n",
       "      <td>покупка жилья</td>\n",
       "      <td>C</td>\n",
       "      <td>операции с недвижимостью</td>\n",
       "    </tr>\n",
       "    <tr>\n",
       "      <td>3</td>\n",
       "      <td>3</td>\n",
       "      <td>4124.747207</td>\n",
       "      <td>32</td>\n",
       "      <td>среднее</td>\n",
       "      <td>1</td>\n",
       "      <td>женат / замужем</td>\n",
       "      <td>0</td>\n",
       "      <td>M</td>\n",
       "      <td>сотрудник</td>\n",
       "      <td>0</td>\n",
       "      <td>267628</td>\n",
       "      <td>дополнительное образование</td>\n",
       "      <td>B</td>\n",
       "      <td>получение образования</td>\n",
       "    </tr>\n",
       "    <tr>\n",
       "      <td>4</td>\n",
       "      <td>0</td>\n",
       "      <td>0.000000</td>\n",
       "      <td>53</td>\n",
       "      <td>среднее</td>\n",
       "      <td>1</td>\n",
       "      <td>гражданский брак</td>\n",
       "      <td>1</td>\n",
       "      <td>F</td>\n",
       "      <td>пенсионер</td>\n",
       "      <td>0</td>\n",
       "      <td>158616</td>\n",
       "      <td>сыграть свадьбу</td>\n",
       "      <td>C</td>\n",
       "      <td>проведение свадьбы</td>\n",
       "    </tr>\n",
       "    <tr>\n",
       "      <td>5</td>\n",
       "      <td>0</td>\n",
       "      <td>926.185831</td>\n",
       "      <td>27</td>\n",
       "      <td>высшее</td>\n",
       "      <td>0</td>\n",
       "      <td>гражданский брак</td>\n",
       "      <td>1</td>\n",
       "      <td>M</td>\n",
       "      <td>компаньон</td>\n",
       "      <td>0</td>\n",
       "      <td>255763</td>\n",
       "      <td>покупка жилья</td>\n",
       "      <td>B</td>\n",
       "      <td>операции с недвижимостью</td>\n",
       "    </tr>\n",
       "    <tr>\n",
       "      <td>6</td>\n",
       "      <td>0</td>\n",
       "      <td>2879.202052</td>\n",
       "      <td>43</td>\n",
       "      <td>высшее</td>\n",
       "      <td>0</td>\n",
       "      <td>женат / замужем</td>\n",
       "      <td>0</td>\n",
       "      <td>F</td>\n",
       "      <td>компаньон</td>\n",
       "      <td>0</td>\n",
       "      <td>240525</td>\n",
       "      <td>операции с жильем</td>\n",
       "      <td>B</td>\n",
       "      <td>операции с недвижимостью</td>\n",
       "    </tr>\n",
       "    <tr>\n",
       "      <td>7</td>\n",
       "      <td>0</td>\n",
       "      <td>152.779569</td>\n",
       "      <td>50</td>\n",
       "      <td>среднее</td>\n",
       "      <td>1</td>\n",
       "      <td>женат / замужем</td>\n",
       "      <td>0</td>\n",
       "      <td>M</td>\n",
       "      <td>сотрудник</td>\n",
       "      <td>0</td>\n",
       "      <td>135823</td>\n",
       "      <td>образование</td>\n",
       "      <td>C</td>\n",
       "      <td>получение образования</td>\n",
       "    </tr>\n",
       "    <tr>\n",
       "      <td>8</td>\n",
       "      <td>2</td>\n",
       "      <td>6929.865299</td>\n",
       "      <td>35</td>\n",
       "      <td>высшее</td>\n",
       "      <td>0</td>\n",
       "      <td>гражданский брак</td>\n",
       "      <td>1</td>\n",
       "      <td>F</td>\n",
       "      <td>сотрудник</td>\n",
       "      <td>0</td>\n",
       "      <td>95856</td>\n",
       "      <td>на проведение свадьбы</td>\n",
       "      <td>C</td>\n",
       "      <td>проведение свадьбы</td>\n",
       "    </tr>\n",
       "    <tr>\n",
       "      <td>9</td>\n",
       "      <td>0</td>\n",
       "      <td>2188.756445</td>\n",
       "      <td>41</td>\n",
       "      <td>среднее</td>\n",
       "      <td>1</td>\n",
       "      <td>женат / замужем</td>\n",
       "      <td>0</td>\n",
       "      <td>M</td>\n",
       "      <td>сотрудник</td>\n",
       "      <td>0</td>\n",
       "      <td>144425</td>\n",
       "      <td>покупка жилья для семьи</td>\n",
       "      <td>C</td>\n",
       "      <td>операции с недвижимостью</td>\n",
       "    </tr>\n",
       "  </tbody>\n",
       "</table>\n",
       "</div>"
      ],
      "text/plain": [
       "   children  days_employed  dob_years education  education_id  \\\n",
       "0         1    8437.673028         42    высшее             0   \n",
       "1         1    4024.803754         36   среднее             1   \n",
       "2         0    5623.422610         33   среднее             1   \n",
       "3         3    4124.747207         32   среднее             1   \n",
       "4         0       0.000000         53   среднее             1   \n",
       "5         0     926.185831         27    высшее             0   \n",
       "6         0    2879.202052         43    высшее             0   \n",
       "7         0     152.779569         50   среднее             1   \n",
       "8         2    6929.865299         35    высшее             0   \n",
       "9         0    2188.756445         41   среднее             1   \n",
       "\n",
       "      family_status  family_status_id gender income_type  debt  total_income  \\\n",
       "0   женат / замужем                 0      F   сотрудник     0        253875   \n",
       "1   женат / замужем                 0      F   сотрудник     0        112080   \n",
       "2   женат / замужем                 0      M   сотрудник     0        145885   \n",
       "3   женат / замужем                 0      M   сотрудник     0        267628   \n",
       "4  гражданский брак                 1      F   пенсионер     0        158616   \n",
       "5  гражданский брак                 1      M   компаньон     0        255763   \n",
       "6   женат / замужем                 0      F   компаньон     0        240525   \n",
       "7   женат / замужем                 0      M   сотрудник     0        135823   \n",
       "8  гражданский брак                 1      F   сотрудник     0         95856   \n",
       "9   женат / замужем                 0      M   сотрудник     0        144425   \n",
       "\n",
       "                      purpose total_income_category          purpose_category  \n",
       "0               покупка жилья                     B  операции с недвижимостью  \n",
       "1     приобретение автомобиля                     C    операции с автомобилем  \n",
       "2               покупка жилья                     C  операции с недвижимостью  \n",
       "3  дополнительное образование                     B     получение образования  \n",
       "4             сыграть свадьбу                     C        проведение свадьбы  \n",
       "5               покупка жилья                     B  операции с недвижимостью  \n",
       "6           операции с жильем                     B  операции с недвижимостью  \n",
       "7                 образование                     C     получение образования  \n",
       "8       на проведение свадьбы                     C        проведение свадьбы  \n",
       "9     покупка жилья для семьи                     C  операции с недвижимостью  "
      ]
     },
     "metadata": {},
     "output_type": "display_data"
    }
   ],
   "source": [
    "\n",
    "def purpose_category(data_purpose): #функция по определению категории кредита \n",
    "    if  'авто' in data_purpose:\n",
    "        return 'операции с автомобилем'               \n",
    "    elif  'свадьб' in data_purpose:\n",
    "        return 'проведение свадьбы'\n",
    "    elif 'образован' in data_purpose:\n",
    "        return 'получение образования'\n",
    "    else:\n",
    "        return ('операции с недвижимостью')\n",
    "    \n",
    "data_frame['purpose_category']=data_frame['purpose'].apply(purpose_category)\n",
    "display(data_frame.head(10))"
   ]
  },
  {
   "cell_type": "markdown",
   "id": "94f9e7b6",
   "metadata": {},
   "source": [
    "Подсчет доли людей с задолжностями к людям без задолжности в зависимости от количества детей."
   ]
  },
  {
   "cell_type": "code",
   "execution_count": 79,
   "id": "c7125f26",
   "metadata": {},
   "outputs": [
    {
     "name": "stdout",
     "output_type": "stream",
     "text": [
      "Доля должников в зависимости от количества детей:\n",
      "количество детей 0     доля должников= 7.54%\n",
      "количество детей 1     доля должников= 9.17%\n",
      "количество детей 2     доля должников= 9.45%\n",
      "количество детей 3     доля должников= 8.18%\n",
      "количество детей 4     доля должников= 9.76%\n",
      "количество детей 5     доля должников= 0.00%\n",
      "количество детей 20     доля должников= 10.53%\n"
     ]
    }
   ],
   "source": [
    "grouped_debt = data_frame.pivot_table(index='children', columns = 'debt', values='family_status', aggfunc='count') \n",
    "grouped_debt = grouped_debt.fillna(0)\n",
    "value_children=data_frame['children'].sort_values().unique() \n",
    "print('Доля должников в зависимости от количества детей:')  \n",
    "for i in value_children: \n",
    "    rezul=grouped_debt[1][i]/(grouped_debt[1][i]+grouped_debt[0][i])\n",
    "    print('количество детей',i, '    доля должников=', f'{rezul:.2%}')\n"
   ]
  },
  {
   "cell_type": "code",
   "execution_count": 80,
   "id": "0d41e7ad",
   "metadata": {},
   "outputs": [
    {
     "name": "stdout",
     "output_type": "stream",
     "text": [
      "статус Не женат / не замужем     доля должников= 9.75%\n",
      "статус в разводе     доля должников= 7.11%\n",
      "статус вдовец / вдова     доля должников= 6.57%\n",
      "статус гражданский брак     доля должников= 9.35%\n",
      "статус женат / замужем     доля должников= 7.55%\n"
     ]
    }
   ],
   "source": [
    "grouped_debt = data_frame.pivot_table(index='family_status', columns = 'debt', values='income_type', aggfunc='count') \n",
    "value_family_status=data_frame['family_status'].sort_values().unique() \n",
    "\n",
    "for i in value_family_status: \n",
    "    rezul=grouped_debt[1][i]/(grouped_debt[1][i]+grouped_debt[0][i])\n",
    "    print('статус',i, '    доля должников=', f'{rezul:.2%}')"
   ]
  },
  {
   "cell_type": "code",
   "execution_count": 81,
   "id": "62df78b8",
   "metadata": {},
   "outputs": [
    {
     "name": "stdout",
     "output_type": "stream",
     "text": [
      "категория A     доля должников= 7.69%\n",
      "категория B     доля должников= 6.96%\n",
      "категория C     доля должников= 8.57%\n",
      "категория D     доля должников= 6.00%\n",
      "категория E     доля должников= 9.09%\n"
     ]
    }
   ],
   "source": [
    "grouped_income = data_frame.pivot_table(index='total_income_category', columns = 'debt', values='income_type', aggfunc='count')\n",
    "value_family_status=data_frame['total_income_category'].sort_values().unique()  \n",
    "for i in value_family_status:\n",
    "    rezul=grouped_income[1][i]/(grouped_income[1][i]+grouped_income[0][i])\n",
    "    print('категория',i, '    доля должников=', f'{rezul:.2%}')"
   ]
  },
  {
   "cell_type": "code",
   "execution_count": 84,
   "id": "b4436b5f",
   "metadata": {},
   "outputs": [
    {
     "name": "stdout",
     "output_type": "stream",
     "text": [
      "цель кредита:  операции с автомобилем     доля должников= 9.36%\n",
      "цель кредита:  операции с недвижимостью     доля должников= 7.23%\n",
      "цель кредита:  получение образования     доля должников= 9.22%\n",
      "цель кредита:  проведение свадьбы     доля должников= 8.00%\n"
     ]
    }
   ],
   "source": [
    "grouped_purpose = data_frame.pivot_table(index='purpose_category', columns = 'debt', values='income_type', aggfunc='count') \n",
    "value_purpose=data_frame['purpose_category'].sort_values().unique() \n",
    "for i in value_purpose: \n",
    "    rezul=grouped_purpose[1][i]/(grouped_purpose[1][i]+grouped_purpose[0][i])\n",
    "    print('цель кредита: ',i, '    доля должников=', f'{rezul:.2%}')"
   ]
  }
 ],
 "metadata": {
  "ExecuteTimeLog": [
   {
    "duration": 606,
    "start_time": "2022-02-23T08:38:57.940Z"
   },
   {
    "duration": 2,
    "start_time": "2022-02-23T09:13:52.887Z"
   },
   {
    "duration": 3,
    "start_time": "2022-02-23T09:15:54.591Z"
   },
   {
    "duration": 51,
    "start_time": "2022-02-23T09:54:25.670Z"
   },
   {
    "duration": 67,
    "start_time": "2022-02-23T09:54:50.941Z"
   },
   {
    "duration": 437,
    "start_time": "2022-02-23T09:56:31.274Z"
   },
   {
    "duration": 77,
    "start_time": "2022-02-23T09:56:39.666Z"
   },
   {
    "duration": 73,
    "start_time": "2022-02-23T09:59:51.230Z"
   },
   {
    "duration": 71,
    "start_time": "2022-02-23T10:10:12.069Z"
   },
   {
    "duration": 72,
    "start_time": "2022-02-23T10:10:32.710Z"
   },
   {
    "duration": 11,
    "start_time": "2022-02-23T10:15:09.831Z"
   },
   {
    "duration": 80,
    "start_time": "2022-02-23T12:17:33.094Z"
   },
   {
    "duration": 728,
    "start_time": "2022-02-23T12:49:47.951Z"
   },
   {
    "duration": 794,
    "start_time": "2022-02-23T12:50:01.963Z"
   },
   {
    "duration": 16,
    "start_time": "2022-02-23T12:51:49.431Z"
   },
   {
    "duration": 84,
    "start_time": "2022-02-23T12:52:37.098Z"
   },
   {
    "duration": 74,
    "start_time": "2022-02-23T12:52:58.158Z"
   },
   {
    "duration": 75,
    "start_time": "2022-02-23T12:54:27.374Z"
   },
   {
    "duration": 11,
    "start_time": "2022-02-23T12:57:43.672Z"
   },
   {
    "duration": 12,
    "start_time": "2022-02-23T12:58:01.804Z"
   },
   {
    "duration": 4,
    "start_time": "2022-02-23T13:00:20.144Z"
   },
   {
    "duration": 115,
    "start_time": "2022-02-23T13:00:34.716Z"
   },
   {
    "duration": 11,
    "start_time": "2022-02-23T13:00:55.268Z"
   },
   {
    "duration": 11,
    "start_time": "2022-02-23T13:01:05.359Z"
   },
   {
    "duration": 18,
    "start_time": "2022-02-23T13:04:04.504Z"
   },
   {
    "duration": 11,
    "start_time": "2022-02-23T13:04:16.768Z"
   },
   {
    "duration": 363,
    "start_time": "2022-02-23T13:11:01.989Z"
   },
   {
    "duration": 11,
    "start_time": "2022-02-23T13:11:26.256Z"
   },
   {
    "duration": 12,
    "start_time": "2022-02-23T13:11:42.488Z"
   },
   {
    "duration": 10,
    "start_time": "2022-02-23T13:11:44.656Z"
   },
   {
    "duration": 10,
    "start_time": "2022-02-23T13:12:27.308Z"
   },
   {
    "duration": 9,
    "start_time": "2022-02-23T13:19:54.208Z"
   },
   {
    "duration": 8,
    "start_time": "2022-02-23T13:20:05.221Z"
   },
   {
    "duration": 77,
    "start_time": "2022-02-23T13:26:55.640Z"
   },
   {
    "duration": 87,
    "start_time": "2022-02-23T13:27:07.892Z"
   },
   {
    "duration": 9,
    "start_time": "2022-02-23T13:27:32.260Z"
   },
   {
    "duration": 10,
    "start_time": "2022-02-23T13:27:38.200Z"
   },
   {
    "duration": 9,
    "start_time": "2022-02-23T13:27:43.676Z"
   },
   {
    "duration": 12,
    "start_time": "2022-02-23T13:27:47.456Z"
   },
   {
    "duration": 310,
    "start_time": "2022-02-23T13:27:56.788Z"
   },
   {
    "duration": 9,
    "start_time": "2022-02-23T13:28:02.356Z"
   },
   {
    "duration": 9,
    "start_time": "2022-02-23T13:28:06.412Z"
   },
   {
    "duration": 11,
    "start_time": "2022-02-23T13:28:18.568Z"
   },
   {
    "duration": 8,
    "start_time": "2022-02-23T13:29:09.268Z"
   },
   {
    "duration": 8,
    "start_time": "2022-02-23T13:29:12.328Z"
   },
   {
    "duration": 10,
    "start_time": "2022-02-23T13:29:39.304Z"
   },
   {
    "duration": 90,
    "start_time": "2022-02-23T13:30:12.824Z"
   },
   {
    "duration": 77,
    "start_time": "2022-02-23T13:30:17.400Z"
   },
   {
    "duration": 9,
    "start_time": "2022-02-23T13:30:21.115Z"
   },
   {
    "duration": 81,
    "start_time": "2022-02-23T13:39:03.132Z"
   },
   {
    "duration": 231,
    "start_time": "2022-02-23T13:55:09.699Z"
   },
   {
    "duration": 6,
    "start_time": "2022-02-23T13:56:51.095Z"
   },
   {
    "duration": 6,
    "start_time": "2022-02-23T14:19:16.042Z"
   },
   {
    "duration": 25,
    "start_time": "2022-02-23T14:19:22.278Z"
   },
   {
    "duration": 20,
    "start_time": "2022-02-23T14:19:39.534Z"
   },
   {
    "duration": 13,
    "start_time": "2022-02-23T14:20:39.346Z"
   },
   {
    "duration": 13,
    "start_time": "2022-02-23T14:32:21.722Z"
   },
   {
    "duration": 69,
    "start_time": "2022-02-23T14:42:21.305Z"
   },
   {
    "duration": 264,
    "start_time": "2022-02-23T14:42:34.382Z"
   },
   {
    "duration": 6529,
    "start_time": "2022-02-23T14:43:08.594Z"
   },
   {
    "duration": 160,
    "start_time": "2022-02-23T14:43:29.740Z"
   },
   {
    "duration": 6448,
    "start_time": "2022-02-23T14:43:32.038Z"
   },
   {
    "duration": 6816,
    "start_time": "2022-02-23T14:43:54.414Z"
   },
   {
    "duration": 67,
    "start_time": "2022-02-23T14:46:15.382Z"
   },
   {
    "duration": 11,
    "start_time": "2022-02-23T14:48:35.190Z"
   },
   {
    "duration": 13,
    "start_time": "2022-02-23T14:52:01.542Z"
   },
   {
    "duration": 13,
    "start_time": "2022-02-23T14:52:34.798Z"
   },
   {
    "duration": 78,
    "start_time": "2022-02-23T14:55:27.373Z"
   },
   {
    "duration": 6653,
    "start_time": "2022-02-23T14:55:37.109Z"
   },
   {
    "duration": 91,
    "start_time": "2022-02-23T14:56:22.837Z"
   },
   {
    "duration": 89,
    "start_time": "2022-02-23T14:56:30.753Z"
   },
   {
    "duration": 87,
    "start_time": "2022-02-23T14:56:38.129Z"
   },
   {
    "duration": 8,
    "start_time": "2022-02-23T14:56:51.173Z"
   },
   {
    "duration": 4,
    "start_time": "2022-02-23T14:56:59.710Z"
   },
   {
    "duration": 298,
    "start_time": "2022-02-23T14:57:35.709Z"
   },
   {
    "duration": 941,
    "start_time": "2022-02-23T14:58:10.734Z"
   },
   {
    "duration": 250,
    "start_time": "2022-02-23T14:58:19.841Z"
   },
   {
    "duration": 238,
    "start_time": "2022-02-23T15:02:25.999Z"
   },
   {
    "duration": 302,
    "start_time": "2022-02-23T15:02:43.095Z"
   },
   {
    "duration": 234,
    "start_time": "2022-02-23T15:02:53.194Z"
   },
   {
    "duration": 88,
    "start_time": "2022-02-23T15:03:11.830Z"
   },
   {
    "duration": 80,
    "start_time": "2022-02-23T15:03:19.502Z"
   },
   {
    "duration": 247,
    "start_time": "2022-02-23T15:03:44.490Z"
   },
   {
    "duration": 173,
    "start_time": "2022-02-23T15:04:22.102Z"
   },
   {
    "duration": 247,
    "start_time": "2022-02-23T15:04:22.674Z"
   },
   {
    "duration": 91,
    "start_time": "2022-02-23T15:04:26.774Z"
   },
   {
    "duration": 82,
    "start_time": "2022-02-23T15:04:29.078Z"
   },
   {
    "duration": 138,
    "start_time": "2022-02-23T15:04:30.563Z"
   },
   {
    "duration": 152,
    "start_time": "2022-02-23T15:05:32.894Z"
   },
   {
    "duration": 4,
    "start_time": "2022-02-23T15:05:38.370Z"
   },
   {
    "duration": 82,
    "start_time": "2022-02-23T15:06:13.694Z"
   },
   {
    "duration": 238,
    "start_time": "2022-02-23T15:06:23.230Z"
   },
   {
    "duration": 278,
    "start_time": "2022-02-23T15:06:40.266Z"
   },
   {
    "duration": 250,
    "start_time": "2022-02-23T15:06:55.014Z"
   },
   {
    "duration": 235,
    "start_time": "2022-02-23T15:07:04.619Z"
   },
   {
    "duration": 241,
    "start_time": "2022-02-23T15:07:11.254Z"
   },
   {
    "duration": 13,
    "start_time": "2022-02-23T15:08:01.478Z"
   },
   {
    "duration": 23,
    "start_time": "2022-02-23T15:08:20.710Z"
   },
   {
    "duration": 14,
    "start_time": "2022-02-23T15:08:25.998Z"
   },
   {
    "duration": 19,
    "start_time": "2022-02-23T15:08:32.314Z"
   },
   {
    "duration": 3,
    "start_time": "2022-02-23T15:08:47.536Z"
   },
   {
    "duration": 68,
    "start_time": "2022-02-23T15:08:47.998Z"
   },
   {
    "duration": 12,
    "start_time": "2022-02-23T15:08:54.094Z"
   },
   {
    "duration": 8,
    "start_time": "2022-02-23T15:08:54.938Z"
   },
   {
    "duration": 13,
    "start_time": "2022-02-23T15:08:56.963Z"
   },
   {
    "duration": 13,
    "start_time": "2022-02-23T15:08:59.770Z"
   },
   {
    "duration": 4125,
    "start_time": "2022-02-23T15:09:09.058Z"
   },
   {
    "duration": 87,
    "start_time": "2022-02-23T15:09:15.170Z"
   },
   {
    "duration": 485,
    "start_time": "2022-02-23T15:09:19.406Z"
   },
   {
    "duration": 257,
    "start_time": "2022-02-23T15:09:32.238Z"
   },
   {
    "duration": 230,
    "start_time": "2022-02-23T15:09:35.550Z"
   },
   {
    "duration": 239,
    "start_time": "2022-02-23T15:09:46.526Z"
   },
   {
    "duration": 246,
    "start_time": "2022-02-23T15:09:59.678Z"
   },
   {
    "duration": 231,
    "start_time": "2022-02-23T15:10:05.242Z"
   },
   {
    "duration": 3,
    "start_time": "2022-02-23T15:10:12.978Z"
   },
   {
    "duration": 68,
    "start_time": "2022-02-23T15:10:13.834Z"
   },
   {
    "duration": 12,
    "start_time": "2022-02-23T15:10:15.850Z"
   },
   {
    "duration": 8,
    "start_time": "2022-02-23T15:10:17.090Z"
   },
   {
    "duration": 14,
    "start_time": "2022-02-23T15:10:18.398Z"
   },
   {
    "duration": 237,
    "start_time": "2022-02-23T15:10:20.058Z"
   },
   {
    "duration": 519,
    "start_time": "2022-02-23T15:10:29.538Z"
   },
   {
    "duration": 230,
    "start_time": "2022-02-23T15:10:36.498Z"
   },
   {
    "duration": 222,
    "start_time": "2022-02-23T15:10:59.738Z"
   },
   {
    "duration": 15,
    "start_time": "2022-02-23T15:12:37.050Z"
   },
   {
    "duration": 233,
    "start_time": "2022-02-23T15:12:41.508Z"
   },
   {
    "duration": 248,
    "start_time": "2022-02-23T15:13:09.530Z"
   },
   {
    "duration": 266,
    "start_time": "2022-02-23T15:13:37.594Z"
   },
   {
    "duration": 3,
    "start_time": "2022-02-23T15:14:02.062Z"
   },
   {
    "duration": 69,
    "start_time": "2022-02-23T15:14:02.067Z"
   },
   {
    "duration": 11,
    "start_time": "2022-02-23T15:14:02.139Z"
   },
   {
    "duration": 18,
    "start_time": "2022-02-23T15:14:02.152Z"
   },
   {
    "duration": 18,
    "start_time": "2022-02-23T15:14:02.172Z"
   },
   {
    "duration": 502,
    "start_time": "2022-02-23T15:14:02.191Z"
   },
   {
    "duration": 256,
    "start_time": "2022-02-23T15:20:19.239Z"
   },
   {
    "duration": 3,
    "start_time": "2022-02-23T15:20:28.138Z"
   },
   {
    "duration": 67,
    "start_time": "2022-02-23T15:20:29.030Z"
   },
   {
    "duration": 12,
    "start_time": "2022-02-23T15:20:31.073Z"
   },
   {
    "duration": 8,
    "start_time": "2022-02-23T15:20:32.562Z"
   },
   {
    "duration": 13,
    "start_time": "2022-02-23T15:20:34.590Z"
   },
   {
    "duration": 501,
    "start_time": "2022-02-23T15:20:37.507Z"
   },
   {
    "duration": 16,
    "start_time": "2022-02-23T15:57:43.205Z"
   },
   {
    "duration": 4,
    "start_time": "2022-02-23T15:58:38.701Z"
   },
   {
    "duration": 4,
    "start_time": "2022-02-23T16:03:23.826Z"
   },
   {
    "duration": 240,
    "start_time": "2022-02-23T16:03:44.642Z"
   },
   {
    "duration": 20,
    "start_time": "2022-02-23T16:03:52.997Z"
   },
   {
    "duration": 20,
    "start_time": "2022-02-23T16:08:44.521Z"
   },
   {
    "duration": 27,
    "start_time": "2022-02-23T16:09:50.507Z"
   },
   {
    "duration": 265,
    "start_time": "2022-02-23T16:12:11.154Z"
   },
   {
    "duration": 32,
    "start_time": "2022-02-23T16:12:23.546Z"
   },
   {
    "duration": 120,
    "start_time": "2022-02-23T16:22:31.587Z"
   },
   {
    "duration": 82,
    "start_time": "2022-02-23T16:22:35.743Z"
   },
   {
    "duration": 105,
    "start_time": "2022-02-23T16:22:47.631Z"
   },
   {
    "duration": 203,
    "start_time": "2022-02-23T16:23:50.719Z"
   },
   {
    "duration": 147,
    "start_time": "2022-02-23T16:23:57.368Z"
   },
   {
    "duration": 61,
    "start_time": "2022-02-26T14:20:47.366Z"
   },
   {
    "duration": 218,
    "start_time": "2022-02-26T14:21:10.887Z"
   },
   {
    "duration": 56,
    "start_time": "2022-02-26T14:21:19.274Z"
   },
   {
    "duration": 95,
    "start_time": "2022-02-26T14:21:40.646Z"
   },
   {
    "duration": 221,
    "start_time": "2022-02-26T14:21:55.198Z"
   },
   {
    "duration": 175,
    "start_time": "2022-02-26T14:22:12.182Z"
   },
   {
    "duration": 178,
    "start_time": "2022-02-26T14:22:43.758Z"
   },
   {
    "duration": 550,
    "start_time": "2022-02-26T14:22:58.083Z"
   },
   {
    "duration": 66,
    "start_time": "2022-02-26T14:22:58.635Z"
   },
   {
    "duration": 10,
    "start_time": "2022-02-26T14:22:58.704Z"
   },
   {
    "duration": 25,
    "start_time": "2022-02-26T14:22:58.717Z"
   },
   {
    "duration": 21,
    "start_time": "2022-02-26T14:22:58.744Z"
   },
   {
    "duration": 538,
    "start_time": "2022-02-26T14:22:58.768Z"
   },
   {
    "duration": 4,
    "start_time": "2022-02-26T14:22:59.308Z"
   },
   {
    "duration": 40,
    "start_time": "2022-02-26T14:22:59.313Z"
   },
   {
    "duration": 53,
    "start_time": "2022-02-26T14:22:59.356Z"
   },
   {
    "duration": 142,
    "start_time": "2022-02-26T14:22:59.411Z"
   },
   {
    "duration": 27,
    "start_time": "2022-02-26T14:22:59.555Z"
   },
   {
    "duration": 83,
    "start_time": "2022-02-26T14:22:59.584Z"
   },
   {
    "duration": 13,
    "start_time": "2022-02-26T14:23:59.349Z"
   },
   {
    "duration": 14,
    "start_time": "2022-02-26T14:24:01.117Z"
   },
   {
    "duration": 14,
    "start_time": "2022-02-26T14:24:06.181Z"
   },
   {
    "duration": 13,
    "start_time": "2022-02-26T14:24:08.265Z"
   },
   {
    "duration": 14,
    "start_time": "2022-02-26T14:24:12.933Z"
   },
   {
    "duration": 62,
    "start_time": "2022-02-26T14:24:22.213Z"
   },
   {
    "duration": 13,
    "start_time": "2022-02-26T14:24:40.013Z"
   },
   {
    "duration": 13,
    "start_time": "2022-02-26T14:24:41.577Z"
   },
   {
    "duration": 116,
    "start_time": "2022-02-26T14:24:48.169Z"
   },
   {
    "duration": 14,
    "start_time": "2022-02-26T14:24:53.065Z"
   },
   {
    "duration": 22,
    "start_time": "2022-02-26T14:25:03.889Z"
   },
   {
    "duration": 23,
    "start_time": "2022-02-26T14:49:36.168Z"
   },
   {
    "duration": 3,
    "start_time": "2022-02-26T14:49:49.844Z"
   },
   {
    "duration": 56,
    "start_time": "2022-02-26T14:49:50.572Z"
   },
   {
    "duration": 10,
    "start_time": "2022-02-26T14:49:52.233Z"
   },
   {
    "duration": 8,
    "start_time": "2022-02-26T14:49:52.778Z"
   },
   {
    "duration": 12,
    "start_time": "2022-02-26T14:49:53.564Z"
   },
   {
    "duration": 398,
    "start_time": "2022-02-26T14:49:54.949Z"
   },
   {
    "duration": 4,
    "start_time": "2022-02-26T14:49:56.056Z"
   },
   {
    "duration": 15,
    "start_time": "2022-02-26T14:49:56.708Z"
   },
   {
    "duration": 30,
    "start_time": "2022-02-26T14:49:57.076Z"
   },
   {
    "duration": 88,
    "start_time": "2022-02-26T14:49:57.868Z"
   },
   {
    "duration": 22,
    "start_time": "2022-02-26T14:50:00.516Z"
   },
   {
    "duration": 339,
    "start_time": "2022-02-26T15:03:30.511Z"
   },
   {
    "duration": 1064,
    "start_time": "2022-02-26T15:05:14.503Z"
   },
   {
    "duration": 15,
    "start_time": "2022-02-26T15:05:54.199Z"
   },
   {
    "duration": 15,
    "start_time": "2022-02-26T15:06:02.448Z"
   },
   {
    "duration": 20,
    "start_time": "2022-02-26T15:06:14.991Z"
   },
   {
    "duration": 15,
    "start_time": "2022-02-26T15:06:39.407Z"
   },
   {
    "duration": 16,
    "start_time": "2022-02-26T15:06:40.845Z"
   },
   {
    "duration": 15,
    "start_time": "2022-02-26T15:06:52.187Z"
   },
   {
    "duration": 15,
    "start_time": "2022-02-26T15:06:53.363Z"
   },
   {
    "duration": 61,
    "start_time": "2022-02-26T15:06:54.263Z"
   },
   {
    "duration": 16,
    "start_time": "2022-02-26T15:06:59.988Z"
   },
   {
    "duration": 567,
    "start_time": "2022-02-26T15:07:13.951Z"
   },
   {
    "duration": 75,
    "start_time": "2022-02-26T15:07:14.520Z"
   },
   {
    "duration": 9,
    "start_time": "2022-02-26T15:07:14.597Z"
   },
   {
    "duration": 7,
    "start_time": "2022-02-26T15:07:14.608Z"
   },
   {
    "duration": 16,
    "start_time": "2022-02-26T15:07:14.634Z"
   },
   {
    "duration": 450,
    "start_time": "2022-02-26T15:07:14.651Z"
   },
   {
    "duration": 3,
    "start_time": "2022-02-26T15:07:15.103Z"
   },
   {
    "duration": 32,
    "start_time": "2022-02-26T15:07:15.108Z"
   },
   {
    "duration": 30,
    "start_time": "2022-02-26T15:07:15.143Z"
   },
   {
    "duration": 130,
    "start_time": "2022-02-26T15:07:15.175Z"
   },
   {
    "duration": 21,
    "start_time": "2022-02-26T15:07:15.333Z"
   },
   {
    "duration": 18,
    "start_time": "2022-02-26T15:07:17.919Z"
   },
   {
    "duration": 138,
    "start_time": "2022-02-26T15:07:23.023Z"
   },
   {
    "duration": 15,
    "start_time": "2022-02-26T15:07:26.967Z"
   },
   {
    "duration": 15,
    "start_time": "2022-02-26T15:07:51.951Z"
   },
   {
    "duration": 15,
    "start_time": "2022-02-26T15:07:53.503Z"
   },
   {
    "duration": 15,
    "start_time": "2022-02-26T15:08:04.675Z"
   },
   {
    "duration": 15,
    "start_time": "2022-02-26T15:08:55.595Z"
   },
   {
    "duration": 15,
    "start_time": "2022-02-26T15:08:56.907Z"
   },
   {
    "duration": 16,
    "start_time": "2022-02-26T15:09:12.331Z"
   },
   {
    "duration": 57,
    "start_time": "2022-02-26T15:09:21.775Z"
   },
   {
    "duration": 10,
    "start_time": "2022-02-26T15:09:23.475Z"
   },
   {
    "duration": 5,
    "start_time": "2022-02-26T15:09:23.988Z"
   },
   {
    "duration": 12,
    "start_time": "2022-02-26T15:09:24.776Z"
   },
   {
    "duration": 409,
    "start_time": "2022-02-26T15:09:26.165Z"
   },
   {
    "duration": 4,
    "start_time": "2022-02-26T15:09:27.471Z"
   },
   {
    "duration": 16,
    "start_time": "2022-02-26T15:09:28.087Z"
   },
   {
    "duration": 29,
    "start_time": "2022-02-26T15:09:28.387Z"
   },
   {
    "duration": 136,
    "start_time": "2022-02-26T15:09:29.227Z"
   },
   {
    "duration": 15,
    "start_time": "2022-02-26T15:09:31.119Z"
   },
   {
    "duration": 16,
    "start_time": "2022-02-26T15:09:46.007Z"
   },
   {
    "duration": 15,
    "start_time": "2022-02-26T15:09:49.603Z"
   },
   {
    "duration": 17,
    "start_time": "2022-02-26T15:10:55.555Z"
   },
   {
    "duration": 61,
    "start_time": "2022-02-26T15:11:02.407Z"
   },
   {
    "duration": 26,
    "start_time": "2022-02-26T15:11:09.103Z"
   },
   {
    "duration": 68,
    "start_time": "2022-02-26T15:11:32.008Z"
   },
   {
    "duration": 66,
    "start_time": "2022-02-26T15:12:11.143Z"
   },
   {
    "duration": 61,
    "start_time": "2022-02-26T15:14:25.307Z"
   },
   {
    "duration": 70,
    "start_time": "2022-02-26T15:15:11.515Z"
   },
   {
    "duration": 60,
    "start_time": "2022-02-26T15:15:36.611Z"
   },
   {
    "duration": 4719,
    "start_time": "2022-02-26T15:20:19.522Z"
   },
   {
    "duration": -564,
    "start_time": "2022-02-26T15:20:44.194Z"
   },
   {
    "duration": 15423,
    "start_time": "2022-02-26T15:20:55.343Z"
   },
   {
    "duration": 9492,
    "start_time": "2022-02-26T15:21:36.303Z"
   },
   {
    "duration": 5133,
    "start_time": "2022-02-26T15:23:47.195Z"
   },
   {
    "duration": 4350,
    "start_time": "2022-02-26T15:29:32.927Z"
   },
   {
    "duration": 467,
    "start_time": "2022-02-26T15:30:03.536Z"
   },
   {
    "duration": 184,
    "start_time": "2022-02-26T15:30:58.672Z"
   },
   {
    "duration": 9,
    "start_time": "2022-02-26T15:32:55.012Z"
   },
   {
    "duration": 10,
    "start_time": "2022-02-26T15:33:07.724Z"
   },
   {
    "duration": 8,
    "start_time": "2022-02-26T15:33:15.340Z"
   },
   {
    "duration": 10,
    "start_time": "2022-02-26T15:41:26.528Z"
   },
   {
    "duration": 10,
    "start_time": "2022-02-26T15:49:59.292Z"
   },
   {
    "duration": 5128,
    "start_time": "2022-02-26T15:57:47.903Z"
   },
   {
    "duration": 152,
    "start_time": "2022-02-26T15:58:19.402Z"
   },
   {
    "duration": 4504,
    "start_time": "2022-02-26T15:58:28.291Z"
   },
   {
    "duration": 55,
    "start_time": "2022-02-26T16:03:27.766Z"
   },
   {
    "duration": 87,
    "start_time": "2022-02-26T16:03:44.231Z"
   },
   {
    "duration": 4708,
    "start_time": "2022-02-26T16:04:51.438Z"
   },
   {
    "duration": 4,
    "start_time": "2022-02-26T16:12:15.474Z"
   },
   {
    "duration": 173,
    "start_time": "2022-02-26T16:12:43.482Z"
   },
   {
    "duration": 2703,
    "start_time": "2022-02-26T16:13:57.126Z"
   },
   {
    "duration": 17,
    "start_time": "2022-02-26T16:14:32.750Z"
   },
   {
    "duration": 5,
    "start_time": "2022-02-26T16:16:58.247Z"
   },
   {
    "duration": 565,
    "start_time": "2022-02-27T09:39:38.107Z"
   },
   {
    "duration": 73,
    "start_time": "2022-02-27T09:39:39.484Z"
   },
   {
    "duration": 10,
    "start_time": "2022-02-27T09:39:43.796Z"
   },
   {
    "duration": 8,
    "start_time": "2022-02-27T09:39:45.008Z"
   },
   {
    "duration": 13,
    "start_time": "2022-02-27T09:39:47.352Z"
   },
   {
    "duration": 439,
    "start_time": "2022-02-27T09:39:50.127Z"
   },
   {
    "duration": 4,
    "start_time": "2022-02-27T09:39:52.584Z"
   },
   {
    "duration": 19,
    "start_time": "2022-02-27T09:39:53.716Z"
   },
   {
    "duration": 33,
    "start_time": "2022-02-27T09:39:54.311Z"
   },
   {
    "duration": 121,
    "start_time": "2022-02-27T09:39:55.644Z"
   },
   {
    "duration": 60,
    "start_time": "2022-02-27T09:39:58.224Z"
   },
   {
    "duration": 6,
    "start_time": "2022-02-27T09:39:59.967Z"
   },
   {
    "duration": 6,
    "start_time": "2022-02-27T09:40:33.764Z"
   },
   {
    "duration": 6,
    "start_time": "2022-02-27T09:40:34.803Z"
   },
   {
    "duration": 80,
    "start_time": "2022-02-27T09:40:37.220Z"
   },
   {
    "duration": 15,
    "start_time": "2022-02-27T09:42:21.740Z"
   },
   {
    "duration": 6,
    "start_time": "2022-02-27T09:43:01.780Z"
   },
   {
    "duration": 921,
    "start_time": "2022-02-27T10:25:22.699Z"
   },
   {
    "duration": 911,
    "start_time": "2022-02-27T10:25:35.291Z"
   },
   {
    "duration": 8,
    "start_time": "2022-02-27T10:30:41.923Z"
   },
   {
    "duration": 5,
    "start_time": "2022-02-27T10:30:42.983Z"
   },
   {
    "duration": 956,
    "start_time": "2022-02-27T10:30:45.059Z"
   },
   {
    "duration": 13,
    "start_time": "2022-02-27T10:31:46.690Z"
   },
   {
    "duration": 5,
    "start_time": "2022-02-27T10:31:53.386Z"
   },
   {
    "duration": 898,
    "start_time": "2022-02-27T10:31:56.531Z"
   },
   {
    "duration": 65,
    "start_time": "2022-02-27T10:40:48.214Z"
   },
   {
    "duration": 17,
    "start_time": "2022-02-27T10:40:53.206Z"
   },
   {
    "duration": 17,
    "start_time": "2022-02-27T10:45:14.646Z"
   },
   {
    "duration": 17,
    "start_time": "2022-02-27T10:45:32.650Z"
   },
   {
    "duration": 16,
    "start_time": "2022-02-27T10:46:41.342Z"
   },
   {
    "duration": 890,
    "start_time": "2022-02-27T10:46:59.369Z"
   },
   {
    "duration": 68,
    "start_time": "2022-02-27T10:50:04.434Z"
   },
   {
    "duration": 15,
    "start_time": "2022-02-27T10:50:29.350Z"
   },
   {
    "duration": 16,
    "start_time": "2022-02-27T10:50:52.106Z"
   },
   {
    "duration": 2974,
    "start_time": "2022-02-27T10:55:35.214Z"
   },
   {
    "duration": 15,
    "start_time": "2022-02-27T11:01:24.426Z"
   },
   {
    "duration": 15,
    "start_time": "2022-02-27T11:03:00.281Z"
   },
   {
    "duration": 15,
    "start_time": "2022-02-27T11:04:09.198Z"
   },
   {
    "duration": 17,
    "start_time": "2022-02-27T11:04:43.046Z"
   },
   {
    "duration": 71,
    "start_time": "2022-02-27T11:07:31.614Z"
   },
   {
    "duration": 16,
    "start_time": "2022-02-27T11:07:39.166Z"
   },
   {
    "duration": 78,
    "start_time": "2022-02-27T11:07:58.926Z"
   },
   {
    "duration": 16,
    "start_time": "2022-02-27T11:08:06.074Z"
   },
   {
    "duration": 16,
    "start_time": "2022-02-27T11:08:27.401Z"
   },
   {
    "duration": 581,
    "start_time": "2022-02-27T11:26:07.656Z"
   },
   {
    "duration": 70,
    "start_time": "2022-02-27T11:26:08.240Z"
   },
   {
    "duration": 10,
    "start_time": "2022-02-27T11:26:08.314Z"
   },
   {
    "duration": 7,
    "start_time": "2022-02-27T11:26:08.326Z"
   },
   {
    "duration": 38,
    "start_time": "2022-02-27T11:26:08.335Z"
   },
   {
    "duration": 458,
    "start_time": "2022-02-27T11:26:08.374Z"
   },
   {
    "duration": 3,
    "start_time": "2022-02-27T11:26:08.834Z"
   },
   {
    "duration": 34,
    "start_time": "2022-02-27T11:26:08.839Z"
   },
   {
    "duration": 30,
    "start_time": "2022-02-27T11:26:08.875Z"
   },
   {
    "duration": 177,
    "start_time": "2022-02-27T11:26:08.907Z"
   },
   {
    "duration": 81,
    "start_time": "2022-02-27T11:26:09.085Z"
   },
   {
    "duration": 14,
    "start_time": "2022-02-27T11:26:09.168Z"
   },
   {
    "duration": 5,
    "start_time": "2022-02-27T11:26:09.184Z"
   },
   {
    "duration": 15,
    "start_time": "2022-02-27T11:26:09.190Z"
   },
   {
    "duration": 17,
    "start_time": "2022-02-27T11:26:17.640Z"
   },
   {
    "duration": 15,
    "start_time": "2022-02-27T11:26:33.997Z"
   },
   {
    "duration": 15,
    "start_time": "2022-02-27T11:26:49.864Z"
   },
   {
    "duration": 173,
    "start_time": "2022-02-27T11:27:27.802Z"
   },
   {
    "duration": 5357,
    "start_time": "2022-02-27T11:27:35.673Z"
   },
   {
    "duration": 89,
    "start_time": "2022-02-27T11:28:37.456Z"
   },
   {
    "duration": 17,
    "start_time": "2022-02-27T11:28:48.324Z"
   },
   {
    "duration": 17,
    "start_time": "2022-02-27T11:29:09.872Z"
   },
   {
    "duration": 17,
    "start_time": "2022-02-27T11:29:55.444Z"
   },
   {
    "duration": 16,
    "start_time": "2022-02-27T11:33:07.729Z"
   },
   {
    "duration": 137,
    "start_time": "2022-02-27T11:36:48.936Z"
   },
   {
    "duration": 61,
    "start_time": "2022-02-27T11:36:51.824Z"
   },
   {
    "duration": 10,
    "start_time": "2022-02-27T11:36:54.200Z"
   },
   {
    "duration": 5,
    "start_time": "2022-02-27T11:36:55.260Z"
   },
   {
    "duration": 226,
    "start_time": "2022-02-27T11:37:58.904Z"
   },
   {
    "duration": 32,
    "start_time": "2022-02-27T11:38:09.976Z"
   },
   {
    "duration": 64,
    "start_time": "2022-02-27T11:38:55.764Z"
   },
   {
    "duration": 12,
    "start_time": "2022-02-27T11:38:57.616Z"
   },
   {
    "duration": 7,
    "start_time": "2022-02-27T11:38:58.312Z"
   },
   {
    "duration": 11,
    "start_time": "2022-02-27T11:38:59.368Z"
   },
   {
    "duration": 440,
    "start_time": "2022-02-27T11:39:00.997Z"
   },
   {
    "duration": 5,
    "start_time": "2022-02-27T11:39:03.136Z"
   },
   {
    "duration": 17,
    "start_time": "2022-02-27T11:39:03.904Z"
   },
   {
    "duration": 32,
    "start_time": "2022-02-27T11:39:04.228Z"
   },
   {
    "duration": 98,
    "start_time": "2022-02-27T11:39:05.116Z"
   },
   {
    "duration": 13,
    "start_time": "2022-02-27T11:39:08.436Z"
   },
   {
    "duration": 6,
    "start_time": "2022-02-27T11:39:09.768Z"
   },
   {
    "duration": 7,
    "start_time": "2022-02-27T11:39:10.696Z"
   },
   {
    "duration": 32,
    "start_time": "2022-02-27T11:39:18.544Z"
   },
   {
    "duration": 40,
    "start_time": "2022-02-27T11:46:25.972Z"
   },
   {
    "duration": 32,
    "start_time": "2022-02-27T11:53:53.576Z"
   },
   {
    "duration": 31,
    "start_time": "2022-02-27T11:56:42.544Z"
   },
   {
    "duration": 69,
    "start_time": "2022-02-27T11:56:52.187Z"
   },
   {
    "duration": 80,
    "start_time": "2022-02-27T11:56:56.760Z"
   },
   {
    "duration": 49,
    "start_time": "2022-02-27T11:57:13.476Z"
   },
   {
    "duration": 30,
    "start_time": "2022-02-27T11:57:54.880Z"
   },
   {
    "duration": 33,
    "start_time": "2022-02-27T11:58:08.444Z"
   },
   {
    "duration": 30,
    "start_time": "2022-02-27T12:01:23.835Z"
   },
   {
    "duration": 32,
    "start_time": "2022-02-27T12:02:15.392Z"
   },
   {
    "duration": 34,
    "start_time": "2022-02-27T12:03:43.036Z"
   },
   {
    "duration": 72,
    "start_time": "2022-02-27T12:05:39.332Z"
   },
   {
    "duration": 73,
    "start_time": "2022-02-27T12:06:10.508Z"
   },
   {
    "duration": 38,
    "start_time": "2022-02-27T12:06:20.268Z"
   },
   {
    "duration": 48,
    "start_time": "2022-02-27T12:06:27.440Z"
   },
   {
    "duration": 32,
    "start_time": "2022-02-27T12:06:39.168Z"
   },
   {
    "duration": 30,
    "start_time": "2022-02-27T12:06:56.588Z"
   },
   {
    "duration": 34,
    "start_time": "2022-02-27T12:07:18.544Z"
   },
   {
    "duration": 32,
    "start_time": "2022-02-27T12:08:13.731Z"
   },
   {
    "duration": 33,
    "start_time": "2022-02-27T12:08:23.452Z"
   },
   {
    "duration": 391,
    "start_time": "2022-02-27T12:23:47.160Z"
   },
   {
    "duration": 38,
    "start_time": "2022-02-27T12:24:06.045Z"
   },
   {
    "duration": 36,
    "start_time": "2022-02-27T12:25:17.356Z"
   },
   {
    "duration": 5,
    "start_time": "2022-02-27T12:26:08.684Z"
   },
   {
    "duration": 36,
    "start_time": "2022-02-27T12:26:10.203Z"
   },
   {
    "duration": 6,
    "start_time": "2022-02-27T12:34:41.339Z"
   },
   {
    "duration": 7,
    "start_time": "2022-02-27T12:36:43.035Z"
   },
   {
    "duration": 11,
    "start_time": "2022-02-27T13:03:44.770Z"
   },
   {
    "duration": 10,
    "start_time": "2022-02-27T13:04:06.258Z"
   },
   {
    "duration": 13,
    "start_time": "2022-02-27T13:07:45.328Z"
   },
   {
    "duration": 11,
    "start_time": "2022-02-27T13:07:56.473Z"
   },
   {
    "duration": 12,
    "start_time": "2022-02-27T13:08:03.069Z"
   },
   {
    "duration": 11,
    "start_time": "2022-02-27T13:08:09.182Z"
   },
   {
    "duration": 12,
    "start_time": "2022-02-27T13:08:12.926Z"
   },
   {
    "duration": 13,
    "start_time": "2022-02-27T13:08:21.317Z"
   },
   {
    "duration": 12,
    "start_time": "2022-02-27T13:08:28.906Z"
   },
   {
    "duration": 67,
    "start_time": "2022-02-27T13:13:22.470Z"
   },
   {
    "duration": 14,
    "start_time": "2022-02-27T13:13:29.609Z"
   },
   {
    "duration": 14,
    "start_time": "2022-02-27T13:16:31.026Z"
   },
   {
    "duration": 18,
    "start_time": "2022-02-27T13:21:02.122Z"
   },
   {
    "duration": 70,
    "start_time": "2022-02-27T13:26:14.934Z"
   },
   {
    "duration": 70,
    "start_time": "2022-02-27T13:41:39.933Z"
   },
   {
    "duration": 66,
    "start_time": "2022-02-27T13:42:51.042Z"
   },
   {
    "duration": 104,
    "start_time": "2022-02-27T13:44:02.137Z"
   },
   {
    "duration": 73,
    "start_time": "2022-02-27T13:44:15.694Z"
   },
   {
    "duration": 214,
    "start_time": "2022-02-27T13:44:37.865Z"
   },
   {
    "duration": 263,
    "start_time": "2022-02-27T13:45:02.826Z"
   },
   {
    "duration": 212,
    "start_time": "2022-02-27T13:45:19.861Z"
   },
   {
    "duration": 3291,
    "start_time": "2022-02-27T13:45:44.830Z"
   },
   {
    "duration": 3630,
    "start_time": "2022-02-27T13:47:10.853Z"
   },
   {
    "duration": 17,
    "start_time": "2022-02-27T13:52:08.765Z"
   },
   {
    "duration": 17,
    "start_time": "2022-02-27T13:52:15.394Z"
   },
   {
    "duration": 20,
    "start_time": "2022-02-27T14:03:19.592Z"
   },
   {
    "duration": 206,
    "start_time": "2022-02-27T14:04:15.845Z"
   },
   {
    "duration": 251,
    "start_time": "2022-02-27T14:04:22.529Z"
   },
   {
    "duration": 3257,
    "start_time": "2022-02-27T14:04:52.050Z"
   },
   {
    "duration": 20,
    "start_time": "2022-02-27T14:05:11.337Z"
   },
   {
    "duration": 245,
    "start_time": "2022-02-27T14:05:26.613Z"
   },
   {
    "duration": 436,
    "start_time": "2022-02-27T14:05:38.177Z"
   },
   {
    "duration": 19,
    "start_time": "2022-02-27T14:05:46.701Z"
   },
   {
    "duration": 20,
    "start_time": "2022-02-27T14:06:05.417Z"
   },
   {
    "duration": 3312,
    "start_time": "2022-02-27T14:06:21.433Z"
   },
   {
    "duration": 3370,
    "start_time": "2022-02-27T14:06:35.457Z"
   },
   {
    "duration": 19,
    "start_time": "2022-02-27T14:06:48.321Z"
   },
   {
    "duration": 21,
    "start_time": "2022-02-27T14:07:28.281Z"
   },
   {
    "duration": 503,
    "start_time": "2022-02-27T14:07:52.133Z"
   },
   {
    "duration": 407,
    "start_time": "2022-02-27T14:08:24.381Z"
   },
   {
    "duration": 427,
    "start_time": "2022-02-27T14:08:53.341Z"
   },
   {
    "duration": 411,
    "start_time": "2022-02-27T14:09:13.117Z"
   },
   {
    "duration": 412,
    "start_time": "2022-02-27T14:09:20.930Z"
   },
   {
    "duration": 426,
    "start_time": "2022-02-27T14:09:53.069Z"
   },
   {
    "duration": 7505,
    "start_time": "2022-02-27T14:10:05.022Z"
   },
   {
    "duration": 570,
    "start_time": "2022-02-27T14:10:22.132Z"
   },
   {
    "duration": 618,
    "start_time": "2022-02-27T14:10:46.569Z"
   },
   {
    "duration": 513,
    "start_time": "2022-02-27T14:11:10.445Z"
   },
   {
    "duration": 22,
    "start_time": "2022-02-27T14:12:00.257Z"
   },
   {
    "duration": 1146,
    "start_time": "2022-02-27T14:13:26.524Z"
   },
   {
    "duration": 5193,
    "start_time": "2022-02-27T14:23:02.282Z"
   },
   {
    "duration": 83,
    "start_time": "2022-02-27T14:23:21.797Z"
   },
   {
    "duration": 5801,
    "start_time": "2022-02-27T14:23:24.464Z"
   },
   {
    "duration": 479,
    "start_time": "2022-02-27T14:23:45.652Z"
   },
   {
    "duration": 407,
    "start_time": "2022-02-27T14:24:28.892Z"
   },
   {
    "duration": 455,
    "start_time": "2022-02-27T14:24:56.677Z"
   },
   {
    "duration": 5103,
    "start_time": "2022-02-27T14:25:14.448Z"
   },
   {
    "duration": 5831,
    "start_time": "2022-02-27T14:25:32.452Z"
   },
   {
    "duration": 6877,
    "start_time": "2022-02-27T14:26:00.980Z"
   },
   {
    "duration": 416,
    "start_time": "2022-02-27T14:26:51.897Z"
   },
   {
    "duration": 454,
    "start_time": "2022-02-27T14:27:02.181Z"
   },
   {
    "duration": 461,
    "start_time": "2022-02-27T14:28:31.115Z"
   },
   {
    "duration": 469,
    "start_time": "2022-02-27T14:28:41.949Z"
   },
   {
    "duration": 434,
    "start_time": "2022-02-27T14:30:45.688Z"
   },
   {
    "duration": 16,
    "start_time": "2022-02-27T14:37:01.882Z"
   },
   {
    "duration": 14,
    "start_time": "2022-02-27T14:37:11.844Z"
   },
   {
    "duration": 15,
    "start_time": "2022-02-27T14:37:43.396Z"
   },
   {
    "duration": 423,
    "start_time": "2022-02-27T14:38:12.004Z"
   },
   {
    "duration": 15,
    "start_time": "2022-02-27T14:38:16.152Z"
   },
   {
    "duration": 15,
    "start_time": "2022-02-27T14:38:29.032Z"
   },
   {
    "duration": 16,
    "start_time": "2022-02-27T14:38:34.505Z"
   },
   {
    "duration": 18,
    "start_time": "2022-02-27T14:38:41.457Z"
   },
   {
    "duration": 205,
    "start_time": "2022-02-27T14:39:32.332Z"
   },
   {
    "duration": 19,
    "start_time": "2022-02-27T14:40:26.021Z"
   },
   {
    "duration": 76,
    "start_time": "2022-02-27T14:41:51.648Z"
   },
   {
    "duration": 10,
    "start_time": "2022-02-27T14:48:45.964Z"
   },
   {
    "duration": 68,
    "start_time": "2022-02-27T14:58:43.224Z"
   },
   {
    "duration": 18,
    "start_time": "2022-02-27T15:00:31.711Z"
   },
   {
    "duration": 19,
    "start_time": "2022-02-27T15:00:41.856Z"
   },
   {
    "duration": 257,
    "start_time": "2022-02-27T15:01:52.016Z"
   },
   {
    "duration": 20,
    "start_time": "2022-02-27T15:02:08.416Z"
   },
   {
    "duration": 18,
    "start_time": "2022-02-27T15:02:29.355Z"
   },
   {
    "duration": 401,
    "start_time": "2022-02-27T15:09:11.888Z"
   },
   {
    "duration": 14,
    "start_time": "2022-02-27T15:10:07.556Z"
   },
   {
    "duration": 221,
    "start_time": "2022-02-27T15:10:14.664Z"
   },
   {
    "duration": 14,
    "start_time": "2022-02-27T15:10:22.328Z"
   },
   {
    "duration": 13,
    "start_time": "2022-02-27T15:10:29.969Z"
   },
   {
    "duration": 15,
    "start_time": "2022-02-27T15:11:53.085Z"
   },
   {
    "duration": 13,
    "start_time": "2022-02-27T15:11:58.276Z"
   },
   {
    "duration": 17,
    "start_time": "2022-02-27T15:12:14.732Z"
   },
   {
    "duration": 15,
    "start_time": "2022-02-27T15:12:20.565Z"
   },
   {
    "duration": 5339,
    "start_time": "2022-02-27T15:13:11.236Z"
   },
   {
    "duration": 5745,
    "start_time": "2022-02-27T15:13:28.940Z"
   },
   {
    "duration": 5098,
    "start_time": "2022-02-27T15:13:39.372Z"
   },
   {
    "duration": 5214,
    "start_time": "2022-02-27T15:13:45.737Z"
   },
   {
    "duration": 17,
    "start_time": "2022-02-27T15:15:31.349Z"
   },
   {
    "duration": 16,
    "start_time": "2022-02-27T15:17:28.952Z"
   },
   {
    "duration": 15,
    "start_time": "2022-02-27T15:17:41.832Z"
   },
   {
    "duration": 17,
    "start_time": "2022-02-27T15:18:02.744Z"
   },
   {
    "duration": 18,
    "start_time": "2022-02-27T15:18:16.472Z"
   },
   {
    "duration": 5396,
    "start_time": "2022-02-27T15:28:43.667Z"
   },
   {
    "duration": 5764,
    "start_time": "2022-02-27T15:29:50.052Z"
   },
   {
    "duration": 6069,
    "start_time": "2022-02-27T15:30:03.851Z"
   },
   {
    "duration": 39,
    "start_time": "2022-02-27T15:44:11.611Z"
   },
   {
    "duration": 48,
    "start_time": "2022-02-27T15:45:21.939Z"
   },
   {
    "duration": 49,
    "start_time": "2022-02-27T15:46:50.359Z"
   },
   {
    "duration": 241,
    "start_time": "2022-02-27T15:47:16.227Z"
   },
   {
    "duration": 54,
    "start_time": "2022-02-27T15:47:43.191Z"
   },
   {
    "duration": 5104,
    "start_time": "2022-02-27T15:54:38.875Z"
   },
   {
    "duration": 50,
    "start_time": "2022-02-27T15:55:09.539Z"
   },
   {
    "duration": 5559,
    "start_time": "2022-02-27T15:55:21.447Z"
   },
   {
    "duration": 5598,
    "start_time": "2022-02-27T15:55:27.115Z"
   },
   {
    "duration": 5198,
    "start_time": "2022-02-27T15:55:41.015Z"
   },
   {
    "duration": 5372,
    "start_time": "2022-02-27T15:55:53.519Z"
   },
   {
    "duration": 52,
    "start_time": "2022-02-27T15:56:05.411Z"
   },
   {
    "duration": 54,
    "start_time": "2022-02-27T15:56:12.587Z"
   },
   {
    "duration": 3801,
    "start_time": "2022-02-27T15:57:05.359Z"
   },
   {
    "duration": 55,
    "start_time": "2022-02-27T15:57:17.914Z"
   },
   {
    "duration": 55,
    "start_time": "2022-02-27T15:57:50.358Z"
   },
   {
    "duration": 4009,
    "start_time": "2022-02-27T15:58:34.138Z"
   },
   {
    "duration": 4673,
    "start_time": "2022-02-27T16:05:26.798Z"
   },
   {
    "duration": 64,
    "start_time": "2022-02-27T16:05:40.826Z"
   },
   {
    "duration": 5534,
    "start_time": "2022-02-27T16:05:44.302Z"
   },
   {
    "duration": 241,
    "start_time": "2022-02-27T16:07:38.482Z"
   },
   {
    "duration": 230,
    "start_time": "2022-02-27T16:07:51.942Z"
   },
   {
    "duration": 54,
    "start_time": "2022-02-27T16:08:17.498Z"
   },
   {
    "duration": 66,
    "start_time": "2022-02-27T16:08:47.846Z"
   },
   {
    "duration": 60,
    "start_time": "2022-02-27T16:08:52.522Z"
   },
   {
    "duration": 3898,
    "start_time": "2022-02-27T16:10:24.075Z"
   },
   {
    "duration": 59,
    "start_time": "2022-02-27T16:11:52.606Z"
   },
   {
    "duration": 59,
    "start_time": "2022-02-27T16:15:07.506Z"
   },
   {
    "duration": 21,
    "start_time": "2022-02-27T16:22:05.982Z"
   },
   {
    "duration": 278,
    "start_time": "2022-02-27T16:22:39.589Z"
   },
   {
    "duration": 216,
    "start_time": "2022-02-27T16:23:28.046Z"
   },
   {
    "duration": 28,
    "start_time": "2022-02-27T16:23:57.498Z"
   },
   {
    "duration": 30,
    "start_time": "2022-02-27T16:24:21.090Z"
   },
   {
    "duration": 35,
    "start_time": "2022-02-27T16:27:16.950Z"
   },
   {
    "duration": 225,
    "start_time": "2022-02-27T16:28:21.109Z"
   },
   {
    "duration": 47,
    "start_time": "2022-02-27T16:28:28.678Z"
   },
   {
    "duration": 32,
    "start_time": "2022-02-27T16:28:47.630Z"
   },
   {
    "duration": 34,
    "start_time": "2022-02-27T16:28:53.977Z"
   },
   {
    "duration": 30,
    "start_time": "2022-02-27T16:33:03.794Z"
   },
   {
    "duration": 240,
    "start_time": "2022-02-27T16:55:00.026Z"
   },
   {
    "duration": 294,
    "start_time": "2022-02-27T16:55:10.413Z"
   },
   {
    "duration": 5144,
    "start_time": "2022-02-27T16:56:16.021Z"
   },
   {
    "duration": 31,
    "start_time": "2022-02-27T16:56:31.389Z"
   },
   {
    "duration": 60,
    "start_time": "2022-02-27T17:01:54.765Z"
   },
   {
    "duration": 12,
    "start_time": "2022-02-27T17:01:56.585Z"
   },
   {
    "duration": 10,
    "start_time": "2022-02-27T17:01:57.117Z"
   },
   {
    "duration": 14,
    "start_time": "2022-02-27T17:01:57.885Z"
   },
   {
    "duration": 432,
    "start_time": "2022-02-27T17:01:59.233Z"
   },
   {
    "duration": 4,
    "start_time": "2022-02-27T17:02:00.301Z"
   },
   {
    "duration": 18,
    "start_time": "2022-02-27T17:02:00.865Z"
   },
   {
    "duration": 33,
    "start_time": "2022-02-27T17:02:01.157Z"
   },
   {
    "duration": 150,
    "start_time": "2022-02-27T17:02:01.813Z"
   },
   {
    "duration": 15,
    "start_time": "2022-02-27T17:02:02.825Z"
   },
   {
    "duration": 6,
    "start_time": "2022-02-27T17:02:03.449Z"
   },
   {
    "duration": 6,
    "start_time": "2022-02-27T17:02:05.257Z"
   },
   {
    "duration": 11,
    "start_time": "2022-02-27T17:02:06.117Z"
   },
   {
    "duration": 24,
    "start_time": "2022-02-27T17:02:08.805Z"
   },
   {
    "duration": 30,
    "start_time": "2022-02-27T17:02:10.542Z"
   },
   {
    "duration": 26,
    "start_time": "2022-02-27T17:02:11.589Z"
   },
   {
    "duration": 20,
    "start_time": "2022-02-27T17:04:11.885Z"
   },
   {
    "duration": 562,
    "start_time": "2022-02-27T17:04:24.316Z"
   },
   {
    "duration": 68,
    "start_time": "2022-02-27T17:04:24.880Z"
   },
   {
    "duration": 18,
    "start_time": "2022-02-27T17:04:24.954Z"
   },
   {
    "duration": 8,
    "start_time": "2022-02-27T17:04:24.974Z"
   },
   {
    "duration": 17,
    "start_time": "2022-02-27T17:04:24.984Z"
   },
   {
    "duration": 512,
    "start_time": "2022-02-27T17:04:25.004Z"
   },
   {
    "duration": 7,
    "start_time": "2022-02-27T17:04:25.519Z"
   },
   {
    "duration": 47,
    "start_time": "2022-02-27T17:04:25.528Z"
   },
   {
    "duration": 48,
    "start_time": "2022-02-27T17:04:25.577Z"
   },
   {
    "duration": 173,
    "start_time": "2022-02-27T17:04:25.628Z"
   },
   {
    "duration": 14,
    "start_time": "2022-02-27T17:04:25.803Z"
   },
   {
    "duration": 47,
    "start_time": "2022-02-27T17:04:25.819Z"
   },
   {
    "duration": 20,
    "start_time": "2022-02-27T17:04:25.868Z"
   },
   {
    "duration": 15,
    "start_time": "2022-02-27T17:04:25.890Z"
   },
   {
    "duration": 30,
    "start_time": "2022-02-27T17:04:25.907Z"
   },
   {
    "duration": 52,
    "start_time": "2022-02-27T17:04:25.939Z"
   },
   {
    "duration": 28,
    "start_time": "2022-02-27T17:04:25.993Z"
   },
   {
    "duration": 257,
    "start_time": "2022-02-27T17:06:09.272Z"
   },
   {
    "duration": 7,
    "start_time": "2022-02-27T17:06:28.420Z"
   },
   {
    "duration": 5054,
    "start_time": "2022-02-27T17:07:58.453Z"
   },
   {
    "duration": 19,
    "start_time": "2022-02-27T17:08:14.489Z"
   },
   {
    "duration": 3,
    "start_time": "2022-02-27T17:08:30.428Z"
   },
   {
    "duration": 64,
    "start_time": "2022-02-27T17:08:31.420Z"
   },
   {
    "duration": 10,
    "start_time": "2022-02-27T17:08:33.217Z"
   },
   {
    "duration": 9,
    "start_time": "2022-02-27T17:08:33.996Z"
   },
   {
    "duration": 12,
    "start_time": "2022-02-27T17:08:35.157Z"
   },
   {
    "duration": 443,
    "start_time": "2022-02-27T17:08:36.949Z"
   },
   {
    "duration": 4,
    "start_time": "2022-02-27T17:08:40.116Z"
   },
   {
    "duration": 17,
    "start_time": "2022-02-27T17:08:41.137Z"
   },
   {
    "duration": 31,
    "start_time": "2022-02-27T17:08:44.881Z"
   },
   {
    "duration": 106,
    "start_time": "2022-02-27T17:08:46.289Z"
   },
   {
    "duration": 13,
    "start_time": "2022-02-27T17:08:48.269Z"
   },
   {
    "duration": 7,
    "start_time": "2022-02-27T17:08:49.992Z"
   },
   {
    "duration": 17,
    "start_time": "2022-02-27T17:09:12.929Z"
   },
   {
    "duration": 2689,
    "start_time": "2022-02-27T17:14:53.284Z"
   },
   {
    "duration": 2688,
    "start_time": "2022-02-27T17:15:50.768Z"
   },
   {
    "duration": 10,
    "start_time": "2022-02-27T17:16:57.312Z"
   },
   {
    "duration": 2970,
    "start_time": "2022-02-27T17:17:00.525Z"
   },
   {
    "duration": 14,
    "start_time": "2022-02-27T17:17:05.200Z"
   },
   {
    "duration": 14,
    "start_time": "2022-02-27T17:17:14.852Z"
   },
   {
    "duration": 9,
    "start_time": "2022-02-27T17:17:15.804Z"
   },
   {
    "duration": 2700,
    "start_time": "2022-02-27T17:17:18.118Z"
   },
   {
    "duration": 2781,
    "start_time": "2022-02-27T17:17:30.272Z"
   },
   {
    "duration": 6,
    "start_time": "2022-02-27T17:17:47.824Z"
   },
   {
    "duration": 22,
    "start_time": "2022-02-27T17:18:34.996Z"
   },
   {
    "duration": 21,
    "start_time": "2022-02-27T17:18:59.436Z"
   },
   {
    "duration": 20,
    "start_time": "2022-02-27T17:27:33.920Z"
   },
   {
    "duration": 20,
    "start_time": "2022-02-27T17:28:53.676Z"
   },
   {
    "duration": 23,
    "start_time": "2022-02-27T17:29:05.556Z"
   },
   {
    "duration": 4335,
    "start_time": "2022-02-27T17:29:47.764Z"
   },
   {
    "duration": 338,
    "start_time": "2022-02-27T17:30:17.384Z"
   },
   {
    "duration": 4490,
    "start_time": "2022-02-27T17:30:23.232Z"
   },
   {
    "duration": 72,
    "start_time": "2022-02-27T17:30:56.664Z"
   },
   {
    "duration": 125,
    "start_time": "2022-02-27T17:31:02.880Z"
   },
   {
    "duration": 4428,
    "start_time": "2022-02-27T17:31:07.052Z"
   },
   {
    "duration": 11,
    "start_time": "2022-02-27T17:32:09.016Z"
   },
   {
    "duration": 23,
    "start_time": "2022-02-27T17:32:09.576Z"
   },
   {
    "duration": 31,
    "start_time": "2022-02-27T17:32:10.504Z"
   },
   {
    "duration": 27,
    "start_time": "2022-02-27T17:32:11.408Z"
   },
   {
    "duration": 516,
    "start_time": "2022-02-27T17:33:16.524Z"
   },
   {
    "duration": 223,
    "start_time": "2022-02-27T17:33:30.093Z"
   },
   {
    "duration": 201,
    "start_time": "2022-02-27T17:34:24.913Z"
   },
   {
    "duration": 207,
    "start_time": "2022-02-27T17:34:34.416Z"
   },
   {
    "duration": 62,
    "start_time": "2022-02-27T17:36:09.268Z"
   },
   {
    "duration": 206,
    "start_time": "2022-02-27T17:36:14.528Z"
   },
   {
    "duration": 208,
    "start_time": "2022-02-27T17:36:27.572Z"
   },
   {
    "duration": 207,
    "start_time": "2022-02-27T17:36:30.412Z"
   },
   {
    "duration": 8,
    "start_time": "2022-02-27T17:36:33.432Z"
   },
   {
    "duration": 7,
    "start_time": "2022-02-27T17:36:59.624Z"
   },
   {
    "duration": 8,
    "start_time": "2022-02-27T17:37:07.760Z"
   },
   {
    "duration": 7,
    "start_time": "2022-02-27T17:37:35.096Z"
   },
   {
    "duration": 198,
    "start_time": "2022-02-27T17:38:23.492Z"
   },
   {
    "duration": 100,
    "start_time": "2022-02-27T17:38:40.278Z"
   },
   {
    "duration": 10,
    "start_time": "2022-02-27T17:38:44.935Z"
   },
   {
    "duration": 9,
    "start_time": "2022-02-27T17:38:57.284Z"
   },
   {
    "duration": 12,
    "start_time": "2022-02-27T17:39:26.680Z"
   },
   {
    "duration": 17,
    "start_time": "2022-02-27T17:39:55.688Z"
   },
   {
    "duration": 20,
    "start_time": "2022-02-27T17:40:06.548Z"
   },
   {
    "duration": 21,
    "start_time": "2022-02-27T17:40:29.251Z"
   },
   {
    "duration": 31,
    "start_time": "2022-02-27T17:41:50.516Z"
   },
   {
    "duration": 28,
    "start_time": "2022-02-27T17:48:18.111Z"
   },
   {
    "duration": 4202,
    "start_time": "2022-02-27T17:51:25.787Z"
   },
   {
    "duration": 3951,
    "start_time": "2022-02-27T17:51:36.123Z"
   },
   {
    "duration": 29,
    "start_time": "2022-02-27T17:51:46.739Z"
   },
   {
    "duration": 53,
    "start_time": "2022-02-27T17:54:30.038Z"
   },
   {
    "duration": 74,
    "start_time": "2022-02-27T17:59:33.162Z"
   },
   {
    "duration": 78,
    "start_time": "2022-02-27T18:04:12.110Z"
   },
   {
    "duration": 67,
    "start_time": "2022-02-27T18:04:20.422Z"
   },
   {
    "duration": 93,
    "start_time": "2022-02-27T18:04:53.162Z"
   },
   {
    "duration": 116,
    "start_time": "2022-02-27T18:07:27.310Z"
   },
   {
    "duration": 497,
    "start_time": "2022-02-27T18:07:33.710Z"
   },
   {
    "duration": 344,
    "start_time": "2022-02-27T18:08:09.729Z"
   },
   {
    "duration": 47,
    "start_time": "2022-02-27T18:08:22.253Z"
   },
   {
    "duration": 45,
    "start_time": "2022-02-27T18:08:25.670Z"
   },
   {
    "duration": 21,
    "start_time": "2022-02-27T18:08:29.189Z"
   },
   {
    "duration": 4226,
    "start_time": "2022-02-27T18:08:30.078Z"
   },
   {
    "duration": 11,
    "start_time": "2022-02-27T18:08:42.666Z"
   },
   {
    "duration": 22,
    "start_time": "2022-02-27T18:08:44.218Z"
   },
   {
    "duration": 31,
    "start_time": "2022-02-27T18:08:46.250Z"
   },
   {
    "duration": 29,
    "start_time": "2022-02-27T18:08:47.537Z"
   },
   {
    "duration": 4,
    "start_time": "2022-02-27T18:08:48.922Z"
   },
   {
    "duration": 33,
    "start_time": "2022-02-27T18:08:50.365Z"
   },
   {
    "duration": 34,
    "start_time": "2022-02-27T18:10:44.902Z"
   },
   {
    "duration": 36,
    "start_time": "2022-02-27T18:11:02.658Z"
   },
   {
    "duration": 33,
    "start_time": "2022-02-27T18:11:13.989Z"
   },
   {
    "duration": 53,
    "start_time": "2022-02-27T18:11:35.274Z"
   },
   {
    "duration": 35,
    "start_time": "2022-02-27T18:11:38.958Z"
   },
   {
    "duration": 91,
    "start_time": "2022-02-27T18:11:54.354Z"
   },
   {
    "duration": 229,
    "start_time": "2022-02-27T18:15:11.786Z"
   },
   {
    "duration": 210,
    "start_time": "2022-02-27T18:18:39.646Z"
   },
   {
    "duration": 237,
    "start_time": "2022-02-27T18:18:51.382Z"
   },
   {
    "duration": 22,
    "start_time": "2022-02-27T18:18:58.498Z"
   },
   {
    "duration": 21,
    "start_time": "2022-02-27T18:19:11.111Z"
   },
   {
    "duration": 22,
    "start_time": "2022-02-27T18:19:26.618Z"
   },
   {
    "duration": 21,
    "start_time": "2022-02-27T18:19:31.138Z"
   },
   {
    "duration": 21,
    "start_time": "2022-02-27T18:19:41.961Z"
   },
   {
    "duration": 21,
    "start_time": "2022-02-27T18:19:47.234Z"
   },
   {
    "duration": 22,
    "start_time": "2022-02-27T18:19:53.446Z"
   },
   {
    "duration": 22,
    "start_time": "2022-02-27T18:20:19.934Z"
   },
   {
    "duration": 5,
    "start_time": "2022-02-27T18:22:43.874Z"
   },
   {
    "duration": 4,
    "start_time": "2022-02-27T18:23:05.866Z"
   },
   {
    "duration": 210,
    "start_time": "2022-02-27T18:23:24.306Z"
   },
   {
    "duration": 25,
    "start_time": "2022-02-27T18:23:33.349Z"
   },
   {
    "duration": 33,
    "start_time": "2022-02-27T18:25:11.970Z"
   },
   {
    "duration": 35,
    "start_time": "2022-02-27T18:25:22.713Z"
   },
   {
    "duration": 285,
    "start_time": "2022-02-27T18:30:46.393Z"
   },
   {
    "duration": 226,
    "start_time": "2022-02-27T18:31:15.362Z"
   },
   {
    "duration": 307,
    "start_time": "2022-02-27T18:31:18.934Z"
   },
   {
    "duration": 258,
    "start_time": "2022-02-27T18:31:50.030Z"
   },
   {
    "duration": 211,
    "start_time": "2022-02-27T18:31:58.808Z"
   },
   {
    "duration": 244,
    "start_time": "2022-02-27T18:32:13.250Z"
   },
   {
    "duration": 23,
    "start_time": "2022-02-27T18:32:22.234Z"
   },
   {
    "duration": 262,
    "start_time": "2022-02-27T18:32:46.894Z"
   },
   {
    "duration": 20,
    "start_time": "2022-02-27T18:33:21.806Z"
   },
   {
    "duration": 233,
    "start_time": "2022-02-27T18:35:30.310Z"
   },
   {
    "duration": 230,
    "start_time": "2022-02-27T18:36:10.018Z"
   },
   {
    "duration": 12,
    "start_time": "2022-02-27T18:36:12.054Z"
   },
   {
    "duration": 224,
    "start_time": "2022-02-27T18:36:13.098Z"
   },
   {
    "duration": 217,
    "start_time": "2022-02-27T18:36:17.663Z"
   },
   {
    "duration": 224,
    "start_time": "2022-02-27T18:36:27.906Z"
   },
   {
    "duration": 26,
    "start_time": "2022-02-27T18:37:00.634Z"
   },
   {
    "duration": 264,
    "start_time": "2022-02-27T18:38:05.450Z"
   },
   {
    "duration": 253,
    "start_time": "2022-02-27T18:38:52.670Z"
   },
   {
    "duration": 232,
    "start_time": "2022-02-27T18:39:02.271Z"
   },
   {
    "duration": 311,
    "start_time": "2022-02-27T18:39:24.322Z"
   },
   {
    "duration": 252,
    "start_time": "2022-02-27T18:39:31.566Z"
   },
   {
    "duration": 277,
    "start_time": "2022-02-27T18:39:36.638Z"
   },
   {
    "duration": 230,
    "start_time": "2022-02-27T18:39:55.094Z"
   },
   {
    "duration": 241,
    "start_time": "2022-02-27T18:40:16.843Z"
   },
   {
    "duration": 23,
    "start_time": "2022-02-27T18:44:38.398Z"
   },
   {
    "duration": 42,
    "start_time": "2022-02-27T18:44:41.002Z"
   },
   {
    "duration": 37,
    "start_time": "2022-02-27T18:44:47.810Z"
   },
   {
    "duration": 3,
    "start_time": "2022-02-27T18:44:54.825Z"
   },
   {
    "duration": 59,
    "start_time": "2022-02-27T18:44:55.297Z"
   },
   {
    "duration": 11,
    "start_time": "2022-02-27T18:44:57.029Z"
   },
   {
    "duration": 8,
    "start_time": "2022-02-27T18:44:57.769Z"
   },
   {
    "duration": 12,
    "start_time": "2022-02-27T18:45:00.949Z"
   },
   {
    "duration": 469,
    "start_time": "2022-02-27T18:45:04.209Z"
   },
   {
    "duration": 3,
    "start_time": "2022-02-27T18:45:07.750Z"
   },
   {
    "duration": 19,
    "start_time": "2022-02-27T18:45:08.361Z"
   },
   {
    "duration": 33,
    "start_time": "2022-02-27T18:45:08.729Z"
   },
   {
    "duration": 148,
    "start_time": "2022-02-27T18:45:09.633Z"
   },
   {
    "duration": 49,
    "start_time": "2022-02-27T18:45:11.817Z"
   },
   {
    "duration": 20,
    "start_time": "2022-02-27T18:45:13.458Z"
   },
   {
    "duration": 6870,
    "start_time": "2022-02-27T18:45:17.550Z"
   },
   {
    "duration": 73,
    "start_time": "2022-02-27T18:45:24.349Z"
   },
   {
    "duration": 5362,
    "start_time": "2022-02-27T18:45:44.910Z"
   },
   {
    "duration": 567,
    "start_time": "2022-02-27T18:46:15.172Z"
   },
   {
    "duration": 67,
    "start_time": "2022-02-27T18:46:15.741Z"
   },
   {
    "duration": 9,
    "start_time": "2022-02-27T18:46:15.811Z"
   },
   {
    "duration": 8,
    "start_time": "2022-02-27T18:46:15.823Z"
   },
   {
    "duration": 35,
    "start_time": "2022-02-27T18:46:15.833Z"
   },
   {
    "duration": 470,
    "start_time": "2022-02-27T18:46:15.870Z"
   },
   {
    "duration": 4,
    "start_time": "2022-02-27T18:46:16.341Z"
   },
   {
    "duration": 30,
    "start_time": "2022-02-27T18:46:16.347Z"
   },
   {
    "duration": 29,
    "start_time": "2022-02-27T18:46:16.379Z"
   },
   {
    "duration": 173,
    "start_time": "2022-02-27T18:46:16.410Z"
   },
   {
    "duration": 49,
    "start_time": "2022-02-27T18:46:16.586Z"
   },
   {
    "duration": 42,
    "start_time": "2022-02-27T18:46:16.637Z"
   },
   {
    "duration": 5710,
    "start_time": "2022-02-27T18:46:16.681Z"
   },
   {
    "duration": 107,
    "start_time": "2022-02-27T18:46:22.286Z"
   },
   {
    "duration": 107,
    "start_time": "2022-02-27T18:46:22.287Z"
   },
   {
    "duration": 107,
    "start_time": "2022-02-27T18:46:22.288Z"
   },
   {
    "duration": 107,
    "start_time": "2022-02-27T18:46:22.289Z"
   },
   {
    "duration": 107,
    "start_time": "2022-02-27T18:46:22.290Z"
   },
   {
    "duration": 3,
    "start_time": "2022-02-27T18:47:24.609Z"
   },
   {
    "duration": 59,
    "start_time": "2022-02-27T18:47:25.577Z"
   },
   {
    "duration": 10,
    "start_time": "2022-02-27T18:47:28.710Z"
   },
   {
    "duration": 6,
    "start_time": "2022-02-27T18:47:30.134Z"
   },
   {
    "duration": 11,
    "start_time": "2022-02-27T18:47:31.785Z"
   },
   {
    "duration": 415,
    "start_time": "2022-02-27T18:47:35.033Z"
   },
   {
    "duration": 3,
    "start_time": "2022-02-27T18:47:36.990Z"
   },
   {
    "duration": 17,
    "start_time": "2022-02-27T18:47:38.037Z"
   },
   {
    "duration": 34,
    "start_time": "2022-02-27T18:47:39.213Z"
   },
   {
    "duration": 137,
    "start_time": "2022-02-27T18:47:41.149Z"
   },
   {
    "duration": 46,
    "start_time": "2022-02-27T18:47:43.329Z"
   },
   {
    "duration": 21,
    "start_time": "2022-02-27T18:47:45.306Z"
   },
   {
    "duration": 5819,
    "start_time": "2022-02-27T18:47:49.117Z"
   },
   {
    "duration": 32,
    "start_time": "2022-02-27T18:48:19.905Z"
   },
   {
    "duration": 11,
    "start_time": "2022-02-27T18:48:25.749Z"
   },
   {
    "duration": 24,
    "start_time": "2022-02-27T18:48:26.905Z"
   },
   {
    "duration": 228,
    "start_time": "2022-02-27T18:48:29.146Z"
   },
   {
    "duration": 232,
    "start_time": "2022-02-27T18:48:33.073Z"
   },
   {
    "duration": 34,
    "start_time": "2022-02-27T18:48:53.553Z"
   },
   {
    "duration": 207,
    "start_time": "2022-02-27T18:48:56.561Z"
   },
   {
    "duration": 35,
    "start_time": "2022-02-27T18:49:10.313Z"
   },
   {
    "duration": 55,
    "start_time": "2022-02-27T18:51:34.744Z"
   },
   {
    "duration": 25,
    "start_time": "2022-02-27T18:51:36.733Z"
   },
   {
    "duration": 5153,
    "start_time": "2022-02-27T18:51:47.413Z"
   },
   {
    "duration": 10,
    "start_time": "2022-02-27T18:51:55.278Z"
   },
   {
    "duration": 21,
    "start_time": "2022-02-27T18:51:56.294Z"
   },
   {
    "duration": 31,
    "start_time": "2022-02-27T18:51:58.450Z"
   },
   {
    "duration": 215,
    "start_time": "2022-02-27T18:52:00.205Z"
   },
   {
    "duration": 32,
    "start_time": "2022-02-27T18:52:03.514Z"
   },
   {
    "duration": 581,
    "start_time": "2022-02-27T18:54:16.027Z"
   },
   {
    "duration": 88,
    "start_time": "2022-02-27T18:54:16.610Z"
   },
   {
    "duration": 10,
    "start_time": "2022-02-27T18:54:16.700Z"
   },
   {
    "duration": 6,
    "start_time": "2022-02-27T18:54:16.712Z"
   },
   {
    "duration": 15,
    "start_time": "2022-02-27T18:54:16.720Z"
   },
   {
    "duration": 467,
    "start_time": "2022-02-27T18:54:16.737Z"
   },
   {
    "duration": 4,
    "start_time": "2022-02-27T18:54:17.205Z"
   },
   {
    "duration": 17,
    "start_time": "2022-02-27T18:54:17.212Z"
   },
   {
    "duration": 52,
    "start_time": "2022-02-27T18:54:17.231Z"
   },
   {
    "duration": 127,
    "start_time": "2022-02-27T18:54:17.285Z"
   },
   {
    "duration": 85,
    "start_time": "2022-02-27T18:54:17.414Z"
   },
   {
    "duration": 23,
    "start_time": "2022-02-27T18:54:17.501Z"
   },
   {
    "duration": 5760,
    "start_time": "2022-02-27T18:54:17.526Z"
   },
   {
    "duration": 130,
    "start_time": "2022-02-27T18:54:23.158Z"
   },
   {
    "duration": 122,
    "start_time": "2022-02-27T18:54:23.167Z"
   },
   {
    "duration": 119,
    "start_time": "2022-02-27T18:54:23.171Z"
   },
   {
    "duration": 119,
    "start_time": "2022-02-27T18:54:23.172Z"
   },
   {
    "duration": 119,
    "start_time": "2022-02-27T18:54:23.173Z"
   },
   {
    "duration": 11,
    "start_time": "2022-02-27T18:54:30.419Z"
   },
   {
    "duration": 26,
    "start_time": "2022-02-27T18:54:32.555Z"
   },
   {
    "duration": 32,
    "start_time": "2022-02-27T18:54:43.863Z"
   },
   {
    "duration": 208,
    "start_time": "2022-02-27T18:55:25.291Z"
   },
   {
    "duration": 33,
    "start_time": "2022-02-27T18:55:28.087Z"
   },
   {
    "duration": 53,
    "start_time": "2022-02-27T18:59:45.980Z"
   },
   {
    "duration": 70,
    "start_time": "2022-02-27T19:00:07.139Z"
   },
   {
    "duration": 92,
    "start_time": "2022-02-27T19:01:08.671Z"
   },
   {
    "duration": 80,
    "start_time": "2022-02-27T19:01:18.855Z"
   },
   {
    "duration": 75,
    "start_time": "2022-02-27T19:01:25.757Z"
   },
   {
    "duration": 21,
    "start_time": "2022-02-27T19:01:26.955Z"
   },
   {
    "duration": 136,
    "start_time": "2022-02-27T19:02:13.802Z"
   },
   {
    "duration": 3598,
    "start_time": "2022-02-27T19:02:16.079Z"
   },
   {
    "duration": 2876,
    "start_time": "2022-02-27T19:02:58.295Z"
   },
   {
    "duration": 8595,
    "start_time": "2022-02-27T19:03:12.214Z"
   },
   {
    "duration": 11,
    "start_time": "2022-02-27T19:03:51.899Z"
   },
   {
    "duration": 23,
    "start_time": "2022-02-27T19:03:53.220Z"
   },
   {
    "duration": 31,
    "start_time": "2022-02-27T19:03:54.895Z"
   },
   {
    "duration": 208,
    "start_time": "2022-02-27T19:03:56.895Z"
   },
   {
    "duration": 35,
    "start_time": "2022-02-27T19:03:59.644Z"
   },
   {
    "duration": 33,
    "start_time": "2022-02-27T19:15:58.906Z"
   },
   {
    "duration": 3,
    "start_time": "2022-02-27T19:21:43.581Z"
   },
   {
    "duration": 74,
    "start_time": "2022-02-27T19:24:17.470Z"
   },
   {
    "duration": 93,
    "start_time": "2022-02-27T19:30:58.873Z"
   },
   {
    "duration": 117,
    "start_time": "2022-02-27T19:31:10.297Z"
   },
   {
    "duration": 5410,
    "start_time": "2022-02-27T19:31:36.049Z"
   },
   {
    "duration": 206,
    "start_time": "2022-02-27T19:32:26.674Z"
   },
   {
    "duration": 144,
    "start_time": "2022-02-27T19:32:38.137Z"
   },
   {
    "duration": 202,
    "start_time": "2022-02-27T19:32:44.494Z"
   },
   {
    "duration": 203,
    "start_time": "2022-02-27T19:33:19.714Z"
   },
   {
    "duration": 73,
    "start_time": "2022-02-27T19:33:30.205Z"
   },
   {
    "duration": 83,
    "start_time": "2022-02-27T19:33:44.089Z"
   },
   {
    "duration": 4923,
    "start_time": "2022-02-27T19:33:51.421Z"
   },
   {
    "duration": 573,
    "start_time": "2022-03-07T17:03:24.565Z"
   },
   {
    "duration": 71,
    "start_time": "2022-03-07T17:03:25.140Z"
   },
   {
    "duration": 10,
    "start_time": "2022-03-07T17:03:25.213Z"
   },
   {
    "duration": 16,
    "start_time": "2022-03-07T17:03:25.225Z"
   },
   {
    "duration": 13,
    "start_time": "2022-03-07T17:03:25.242Z"
   },
   {
    "duration": 436,
    "start_time": "2022-03-07T17:03:25.257Z"
   },
   {
    "duration": 4,
    "start_time": "2022-03-07T17:03:25.695Z"
   },
   {
    "duration": 19,
    "start_time": "2022-03-07T17:03:25.701Z"
   },
   {
    "duration": 45,
    "start_time": "2022-03-07T17:03:25.721Z"
   },
   {
    "duration": 121,
    "start_time": "2022-03-07T17:03:25.768Z"
   },
   {
    "duration": 69,
    "start_time": "2022-03-07T17:03:25.891Z"
   },
   {
    "duration": 20,
    "start_time": "2022-03-07T17:03:25.962Z"
   },
   {
    "duration": 4242,
    "start_time": "2022-03-07T17:03:25.984Z"
   },
   {
    "duration": 414,
    "start_time": "2022-03-07T17:03:29.814Z"
   },
   {
    "duration": 414,
    "start_time": "2022-03-07T17:03:29.815Z"
   },
   {
    "duration": 413,
    "start_time": "2022-03-07T17:03:29.817Z"
   },
   {
    "duration": 413,
    "start_time": "2022-03-07T17:03:29.818Z"
   },
   {
    "duration": 413,
    "start_time": "2022-03-07T17:03:29.819Z"
   },
   {
    "duration": 12,
    "start_time": "2022-03-07T17:06:30.848Z"
   },
   {
    "duration": 30,
    "start_time": "2022-03-07T17:06:31.803Z"
   },
   {
    "duration": 29,
    "start_time": "2022-03-07T17:06:32.500Z"
   },
   {
    "duration": 215,
    "start_time": "2022-03-07T17:06:33.171Z"
   },
   {
    "duration": 34,
    "start_time": "2022-03-07T17:06:34.260Z"
   },
   {
    "duration": 795,
    "start_time": "2022-03-08T09:30:17.767Z"
   },
   {
    "duration": 96,
    "start_time": "2022-03-08T09:30:18.565Z"
   },
   {
    "duration": 14,
    "start_time": "2022-03-08T09:30:18.678Z"
   },
   {
    "duration": 9,
    "start_time": "2022-03-08T09:30:18.694Z"
   },
   {
    "duration": 18,
    "start_time": "2022-03-08T09:30:18.706Z"
   },
   {
    "duration": 870,
    "start_time": "2022-03-08T09:30:18.726Z"
   },
   {
    "duration": 5,
    "start_time": "2022-03-08T09:30:19.600Z"
   },
   {
    "duration": 28,
    "start_time": "2022-03-08T09:30:19.608Z"
   },
   {
    "duration": 74,
    "start_time": "2022-03-08T09:30:19.639Z"
   },
   {
    "duration": 194,
    "start_time": "2022-03-08T09:30:19.716Z"
   },
   {
    "duration": 105,
    "start_time": "2022-03-08T09:30:19.912Z"
   },
   {
    "duration": 30,
    "start_time": "2022-03-08T09:30:20.020Z"
   },
   {
    "duration": 7632,
    "start_time": "2022-03-08T09:30:20.074Z"
   },
   {
    "duration": 27,
    "start_time": "2022-03-08T09:30:27.682Z"
   },
   {
    "duration": 27,
    "start_time": "2022-03-08T09:30:27.683Z"
   },
   {
    "duration": 27,
    "start_time": "2022-03-08T09:30:27.684Z"
   },
   {
    "duration": 27,
    "start_time": "2022-03-08T09:30:27.686Z"
   },
   {
    "duration": 27,
    "start_time": "2022-03-08T09:30:27.687Z"
   },
   {
    "duration": 20,
    "start_time": "2022-03-08T09:39:01.267Z"
   },
   {
    "duration": 276,
    "start_time": "2022-03-08T20:25:53.717Z"
   },
   {
    "duration": 357,
    "start_time": "2022-03-08T20:26:08.416Z"
   },
   {
    "duration": 54,
    "start_time": "2022-03-08T20:27:55.789Z"
   },
   {
    "duration": 69,
    "start_time": "2022-03-08T20:28:12.405Z"
   },
   {
    "duration": 298,
    "start_time": "2022-03-08T20:28:12.629Z"
   },
   {
    "duration": 4,
    "start_time": "2022-03-08T20:29:27.268Z"
   },
   {
    "duration": 89,
    "start_time": "2022-03-08T20:29:27.948Z"
   },
   {
    "duration": 14,
    "start_time": "2022-03-08T20:29:30.397Z"
   },
   {
    "duration": 13,
    "start_time": "2022-03-08T20:29:31.736Z"
   },
   {
    "duration": 20,
    "start_time": "2022-03-08T20:29:33.388Z"
   },
   {
    "duration": 23,
    "start_time": "2022-03-08T20:29:42.165Z"
   },
   {
    "duration": 81,
    "start_time": "2022-03-08T20:30:12.417Z"
   },
   {
    "duration": 7215,
    "start_time": "2022-03-08T20:30:13.817Z"
   },
   {
    "duration": 270,
    "start_time": "2022-03-08T20:30:41.837Z"
   },
   {
    "duration": 13,
    "start_time": "2022-03-08T20:30:51.212Z"
   },
   {
    "duration": 15,
    "start_time": "2022-03-08T20:33:21.021Z"
   },
   {
    "duration": 30,
    "start_time": "2022-03-08T20:35:14.336Z"
   },
   {
    "duration": 25,
    "start_time": "2022-03-08T20:41:08.725Z"
   },
   {
    "duration": 276,
    "start_time": "2022-03-08T20:51:57.184Z"
   },
   {
    "duration": 7383,
    "start_time": "2022-03-08T20:52:11.788Z"
   },
   {
    "duration": 22,
    "start_time": "2022-03-08T20:52:54.456Z"
   },
   {
    "duration": 23,
    "start_time": "2022-03-08T20:53:08.700Z"
   },
   {
    "duration": 22,
    "start_time": "2022-03-08T20:53:15.368Z"
   },
   {
    "duration": 5,
    "start_time": "2022-03-08T20:54:51.408Z"
   },
   {
    "duration": 6857,
    "start_time": "2022-03-08T20:55:10.988Z"
   },
   {
    "duration": 6427,
    "start_time": "2022-03-08T20:55:24.880Z"
   },
   {
    "duration": 3494,
    "start_time": "2022-03-08T20:56:04.916Z"
   },
   {
    "duration": 370,
    "start_time": "2022-03-08T20:57:14.752Z"
   },
   {
    "duration": 3473,
    "start_time": "2022-03-08T20:57:23.368Z"
   },
   {
    "duration": 7025,
    "start_time": "2022-03-08T20:57:40.440Z"
   },
   {
    "duration": 47,
    "start_time": "2022-03-08T20:58:11.064Z"
   },
   {
    "duration": 3431,
    "start_time": "2022-03-08T20:58:19.944Z"
   },
   {
    "duration": 290,
    "start_time": "2022-03-08T20:59:21.472Z"
   },
   {
    "duration": 3580,
    "start_time": "2022-03-08T20:59:28.904Z"
   },
   {
    "duration": 3479,
    "start_time": "2022-03-08T21:00:01.008Z"
   },
   {
    "duration": 6721,
    "start_time": "2022-03-08T21:00:24.392Z"
   },
   {
    "duration": 3544,
    "start_time": "2022-03-08T21:00:39.960Z"
   },
   {
    "duration": 7014,
    "start_time": "2022-03-08T21:00:54.304Z"
   },
   {
    "duration": 3549,
    "start_time": "2022-03-08T21:01:03.824Z"
   },
   {
    "duration": 280,
    "start_time": "2022-03-08T21:01:58.448Z"
   },
   {
    "duration": 349,
    "start_time": "2022-03-08T21:02:06.452Z"
   },
   {
    "duration": 3815,
    "start_time": "2022-03-08T21:02:31.667Z"
   },
   {
    "duration": 3556,
    "start_time": "2022-03-08T21:02:56.612Z"
   },
   {
    "duration": 3594,
    "start_time": "2022-03-08T21:03:42.077Z"
   },
   {
    "duration": 3305,
    "start_time": "2022-03-08T21:04:20.504Z"
   },
   {
    "duration": 3676,
    "start_time": "2022-03-08T21:04:53.715Z"
   },
   {
    "duration": 2644,
    "start_time": "2022-03-08T21:05:58.377Z"
   },
   {
    "duration": 4019,
    "start_time": "2022-03-08T21:06:34.972Z"
   },
   {
    "duration": 2714,
    "start_time": "2022-03-08T21:06:47.559Z"
   },
   {
    "duration": 16,
    "start_time": "2022-03-08T21:07:35.044Z"
   },
   {
    "duration": 17,
    "start_time": "2022-03-08T21:07:50.660Z"
   },
   {
    "duration": 17,
    "start_time": "2022-03-08T21:07:58.923Z"
   },
   {
    "duration": 18,
    "start_time": "2022-03-08T21:08:02.036Z"
   },
   {
    "duration": 16,
    "start_time": "2022-03-08T21:08:06.251Z"
   },
   {
    "duration": 16,
    "start_time": "2022-03-08T21:08:09.671Z"
   },
   {
    "duration": 16,
    "start_time": "2022-03-08T21:08:35.035Z"
   },
   {
    "duration": 19,
    "start_time": "2022-03-08T21:09:17.319Z"
   },
   {
    "duration": 7255,
    "start_time": "2022-03-08T21:10:15.399Z"
   },
   {
    "duration": 3178,
    "start_time": "2022-03-08T21:10:37.804Z"
   },
   {
    "duration": 108,
    "start_time": "2022-03-08T21:11:08.423Z"
   },
   {
    "duration": 90,
    "start_time": "2022-03-08T21:11:15.804Z"
   },
   {
    "duration": 3261,
    "start_time": "2022-03-08T21:11:19.759Z"
   },
   {
    "duration": 3098,
    "start_time": "2022-03-08T21:11:32.684Z"
   },
   {
    "duration": 3153,
    "start_time": "2022-03-08T21:12:06.799Z"
   },
   {
    "duration": 379,
    "start_time": "2022-03-08T21:12:19.199Z"
   },
   {
    "duration": 3140,
    "start_time": "2022-03-08T21:12:38.615Z"
   },
   {
    "duration": 276,
    "start_time": "2022-03-08T21:12:50.183Z"
   },
   {
    "duration": 3278,
    "start_time": "2022-03-08T21:16:50.855Z"
   },
   {
    "duration": 5375,
    "start_time": "2022-03-08T21:18:36.527Z"
   },
   {
    "duration": 3146,
    "start_time": "2022-03-08T21:19:30.883Z"
   },
   {
    "duration": 3376,
    "start_time": "2022-03-08T21:26:08.224Z"
   },
   {
    "duration": 3162,
    "start_time": "2022-03-08T21:27:19.828Z"
   },
   {
    "duration": 3281,
    "start_time": "2022-03-08T21:27:35.652Z"
   },
   {
    "duration": 3333,
    "start_time": "2022-03-08T21:27:54.865Z"
   },
   {
    "duration": 299,
    "start_time": "2022-03-08T21:28:04.592Z"
   },
   {
    "duration": 285,
    "start_time": "2022-03-08T21:28:20.169Z"
   },
   {
    "duration": 675,
    "start_time": "2022-03-08T21:28:33.830Z"
   },
   {
    "duration": 651,
    "start_time": "2022-03-08T21:28:43.608Z"
   },
   {
    "duration": 279,
    "start_time": "2022-03-08T21:28:49.476Z"
   },
   {
    "duration": 379,
    "start_time": "2022-03-08T21:30:48.008Z"
   },
   {
    "duration": 7307,
    "start_time": "2022-03-08T21:30:56.032Z"
   },
   {
    "duration": 302,
    "start_time": "2022-03-08T21:32:06.516Z"
   },
   {
    "duration": 337,
    "start_time": "2022-03-08T21:33:32.708Z"
   },
   {
    "duration": 10076,
    "start_time": "2022-03-08T21:34:34.835Z"
   },
   {
    "duration": 339,
    "start_time": "2022-03-08T21:35:31.826Z"
   },
   {
    "duration": 294,
    "start_time": "2022-03-08T21:39:03.759Z"
   },
   {
    "duration": 42,
    "start_time": "2022-03-08T21:40:16.427Z"
   },
   {
    "duration": 354,
    "start_time": "2022-03-08T21:40:27.907Z"
   },
   {
    "duration": 298,
    "start_time": "2022-03-08T21:40:35.151Z"
   },
   {
    "duration": 40,
    "start_time": "2022-03-08T21:41:02.228Z"
   },
   {
    "duration": 43,
    "start_time": "2022-03-08T21:41:15.491Z"
   },
   {
    "duration": 284,
    "start_time": "2022-03-08T21:41:29.323Z"
   },
   {
    "duration": 44,
    "start_time": "2022-03-08T21:41:36.171Z"
   },
   {
    "duration": 39,
    "start_time": "2022-03-08T21:41:42.332Z"
   },
   {
    "duration": 41,
    "start_time": "2022-03-08T21:41:46.611Z"
   },
   {
    "duration": 286,
    "start_time": "2022-03-08T21:41:56.707Z"
   },
   {
    "duration": 318,
    "start_time": "2022-03-08T21:42:00.303Z"
   },
   {
    "duration": 276,
    "start_time": "2022-03-08T21:42:13.731Z"
   },
   {
    "duration": 55,
    "start_time": "2022-03-08T21:42:21.928Z"
   },
   {
    "duration": 40,
    "start_time": "2022-03-08T21:42:49.999Z"
   },
   {
    "duration": 39,
    "start_time": "2022-03-08T21:42:55.507Z"
   },
   {
    "duration": 39,
    "start_time": "2022-03-08T21:43:01.664Z"
   },
   {
    "duration": 39,
    "start_time": "2022-03-08T21:43:12.007Z"
   },
   {
    "duration": 657,
    "start_time": "2022-03-08T21:43:21.531Z"
   },
   {
    "duration": 268,
    "start_time": "2022-03-08T21:43:31.878Z"
   },
   {
    "duration": 42,
    "start_time": "2022-03-08T21:43:38.299Z"
   },
   {
    "duration": 42,
    "start_time": "2022-03-08T21:45:46.651Z"
   },
   {
    "duration": 42,
    "start_time": "2022-03-08T21:46:03.743Z"
   },
   {
    "duration": 42,
    "start_time": "2022-03-08T21:46:14.407Z"
   },
   {
    "duration": 10,
    "start_time": "2022-03-08T21:46:48.383Z"
   },
   {
    "duration": 27,
    "start_time": "2022-03-08T21:46:50.851Z"
   },
   {
    "duration": 41,
    "start_time": "2022-03-08T21:46:55.079Z"
   },
   {
    "duration": 39,
    "start_time": "2022-03-08T21:47:16.523Z"
   },
   {
    "duration": 768,
    "start_time": "2022-03-08T21:47:23.879Z"
   },
   {
    "duration": 104,
    "start_time": "2022-03-08T21:47:24.650Z"
   },
   {
    "duration": 24,
    "start_time": "2022-03-08T21:47:24.758Z"
   },
   {
    "duration": 13,
    "start_time": "2022-03-08T21:47:24.786Z"
   },
   {
    "duration": 27,
    "start_time": "2022-03-08T21:47:24.802Z"
   },
   {
    "duration": 74,
    "start_time": "2022-03-08T21:47:24.832Z"
   },
   {
    "duration": 1006,
    "start_time": "2022-03-08T21:47:24.908Z"
   },
   {
    "duration": 372,
    "start_time": "2022-03-08T21:47:25.918Z"
   },
   {
    "duration": 89,
    "start_time": "2022-03-08T21:47:26.205Z"
   },
   {
    "duration": 88,
    "start_time": "2022-03-08T21:47:26.207Z"
   },
   {
    "duration": 88,
    "start_time": "2022-03-08T21:47:26.208Z"
   },
   {
    "duration": 89,
    "start_time": "2022-03-08T21:47:26.209Z"
   },
   {
    "duration": 89,
    "start_time": "2022-03-08T21:47:26.210Z"
   },
   {
    "duration": 89,
    "start_time": "2022-03-08T21:47:26.212Z"
   },
   {
    "duration": 89,
    "start_time": "2022-03-08T21:47:26.213Z"
   },
   {
    "duration": 90,
    "start_time": "2022-03-08T21:47:26.214Z"
   },
   {
    "duration": 85,
    "start_time": "2022-03-08T21:47:26.220Z"
   },
   {
    "duration": 85,
    "start_time": "2022-03-08T21:47:26.221Z"
   },
   {
    "duration": 86,
    "start_time": "2022-03-08T21:47:26.222Z"
   },
   {
    "duration": 680,
    "start_time": "2022-03-08T21:49:16.571Z"
   },
   {
    "duration": 271,
    "start_time": "2022-03-08T21:49:40.043Z"
   },
   {
    "duration": 278,
    "start_time": "2022-03-08T21:50:11.075Z"
   },
   {
    "duration": 274,
    "start_time": "2022-03-08T21:50:17.107Z"
   },
   {
    "duration": 43,
    "start_time": "2022-03-08T21:50:31.851Z"
   },
   {
    "duration": 147,
    "start_time": "2022-03-08T21:51:35.834Z"
   },
   {
    "duration": 285,
    "start_time": "2022-03-08T21:51:39.042Z"
   },
   {
    "duration": 3715,
    "start_time": "2022-03-08T21:51:55.695Z"
   },
   {
    "duration": 3438,
    "start_time": "2022-03-08T21:52:37.419Z"
   },
   {
    "duration": 3110,
    "start_time": "2022-03-08T21:57:53.747Z"
   },
   {
    "duration": 3175,
    "start_time": "2022-03-08T21:58:11.710Z"
   },
   {
    "duration": 663,
    "start_time": "2022-03-09T16:42:53.789Z"
   },
   {
    "duration": 88,
    "start_time": "2022-03-09T16:42:54.625Z"
   },
   {
    "duration": 10,
    "start_time": "2022-03-09T16:42:58.978Z"
   },
   {
    "duration": 8,
    "start_time": "2022-03-09T16:43:00.546Z"
   },
   {
    "duration": 1969,
    "start_time": "2022-03-09T16:43:02.298Z"
   },
   {
    "duration": 83,
    "start_time": "2022-03-09T16:52:09.987Z"
   },
   {
    "duration": 68,
    "start_time": "2022-03-09T16:52:40.128Z"
   },
   {
    "duration": 83,
    "start_time": "2022-03-09T16:57:20.027Z"
   },
   {
    "duration": 72,
    "start_time": "2022-03-09T16:58:01.959Z"
   },
   {
    "duration": 498,
    "start_time": "2022-03-09T18:30:07.085Z"
   },
   {
    "duration": 245,
    "start_time": "2022-03-09T18:31:08.244Z"
   },
   {
    "duration": 240,
    "start_time": "2022-03-09T18:32:01.752Z"
   },
   {
    "duration": 305,
    "start_time": "2022-03-09T18:34:53.716Z"
   },
   {
    "duration": 243,
    "start_time": "2022-03-09T18:36:45.468Z"
   },
   {
    "duration": 226,
    "start_time": "2022-03-09T18:37:26.864Z"
   },
   {
    "duration": 232,
    "start_time": "2022-03-09T18:37:42.112Z"
   },
   {
    "duration": 2019,
    "start_time": "2022-03-09T18:40:28.148Z"
   },
   {
    "duration": 1828,
    "start_time": "2022-03-09T18:40:45.789Z"
   },
   {
    "duration": 1790,
    "start_time": "2022-03-09T18:42:04.032Z"
   },
   {
    "duration": 236,
    "start_time": "2022-03-09T18:42:07.108Z"
   },
   {
    "duration": 232,
    "start_time": "2022-03-09T18:42:51.203Z"
   },
   {
    "duration": 237,
    "start_time": "2022-03-09T18:43:01.459Z"
   },
   {
    "duration": 226,
    "start_time": "2022-03-09T18:44:35.715Z"
   },
   {
    "duration": 236,
    "start_time": "2022-03-09T18:44:53.080Z"
   },
   {
    "duration": 1809,
    "start_time": "2022-03-09T18:45:21.035Z"
   },
   {
    "duration": 346,
    "start_time": "2022-03-09T18:45:34.624Z"
   },
   {
    "duration": 1816,
    "start_time": "2022-03-09T18:45:42.099Z"
   },
   {
    "duration": 25,
    "start_time": "2022-03-09T18:47:07.271Z"
   },
   {
    "duration": 3,
    "start_time": "2022-03-09T18:47:22.955Z"
   },
   {
    "duration": 71,
    "start_time": "2022-03-09T18:47:24.139Z"
   },
   {
    "duration": 26,
    "start_time": "2022-03-09T18:47:30.243Z"
   },
   {
    "duration": 11,
    "start_time": "2022-03-09T18:47:42.015Z"
   },
   {
    "duration": 7,
    "start_time": "2022-03-09T18:47:45.279Z"
   },
   {
    "duration": 7422,
    "start_time": "2022-03-09T18:47:47.699Z"
   },
   {
    "duration": 7521,
    "start_time": "2022-03-09T18:47:58.899Z"
   },
   {
    "duration": 69,
    "start_time": "2022-03-09T18:48:06.353Z"
   },
   {
    "duration": 11,
    "start_time": "2022-03-09T18:48:51.423Z"
   },
   {
    "duration": 7647,
    "start_time": "2022-03-09T18:51:25.500Z"
   },
   {
    "duration": 3,
    "start_time": "2022-03-09T18:51:50.115Z"
   },
   {
    "duration": 73,
    "start_time": "2022-03-09T18:51:51.044Z"
   },
   {
    "duration": 12,
    "start_time": "2022-03-09T18:51:53.923Z"
   },
   {
    "duration": 8,
    "start_time": "2022-03-09T18:51:54.991Z"
   },
   {
    "duration": 7697,
    "start_time": "2022-03-09T18:51:56.536Z"
   },
   {
    "duration": 624,
    "start_time": "2022-03-09T18:53:03.896Z"
   },
   {
    "duration": 81,
    "start_time": "2022-03-09T18:53:04.522Z"
   },
   {
    "duration": 10,
    "start_time": "2022-03-09T18:53:04.605Z"
   },
   {
    "duration": 17,
    "start_time": "2022-03-09T18:53:04.617Z"
   },
   {
    "duration": 7657,
    "start_time": "2022-03-09T18:53:04.636Z"
   },
   {
    "duration": 70,
    "start_time": "2022-03-09T18:53:12.226Z"
   },
   {
    "duration": 69,
    "start_time": "2022-03-09T18:53:12.228Z"
   },
   {
    "duration": 69,
    "start_time": "2022-03-09T18:53:12.229Z"
   },
   {
    "duration": 67,
    "start_time": "2022-03-09T18:53:12.231Z"
   },
   {
    "duration": 67,
    "start_time": "2022-03-09T18:53:12.232Z"
   },
   {
    "duration": 68,
    "start_time": "2022-03-09T18:53:12.233Z"
   },
   {
    "duration": 67,
    "start_time": "2022-03-09T18:53:12.235Z"
   },
   {
    "duration": 67,
    "start_time": "2022-03-09T18:53:12.236Z"
   },
   {
    "duration": 67,
    "start_time": "2022-03-09T18:53:12.237Z"
   },
   {
    "duration": 62,
    "start_time": "2022-03-09T18:53:12.243Z"
   },
   {
    "duration": 62,
    "start_time": "2022-03-09T18:53:12.244Z"
   },
   {
    "duration": 61,
    "start_time": "2022-03-09T18:53:12.246Z"
   },
   {
    "duration": 61,
    "start_time": "2022-03-09T18:53:12.247Z"
   },
   {
    "duration": 2,
    "start_time": "2022-03-09T18:53:25.057Z"
   },
   {
    "duration": 70,
    "start_time": "2022-03-09T18:53:25.965Z"
   },
   {
    "duration": 11,
    "start_time": "2022-03-09T18:53:33.288Z"
   },
   {
    "duration": 8,
    "start_time": "2022-03-09T18:53:35.900Z"
   },
   {
    "duration": 7470,
    "start_time": "2022-03-09T18:53:39.040Z"
   },
   {
    "duration": 85,
    "start_time": "2022-03-09T18:53:59.492Z"
   },
   {
    "duration": 92,
    "start_time": "2022-03-09T18:54:05.240Z"
   },
   {
    "duration": 6,
    "start_time": "2022-03-09T18:54:09.421Z"
   },
   {
    "duration": 7589,
    "start_time": "2022-03-09T18:54:32.956Z"
   },
   {
    "duration": 81,
    "start_time": "2022-03-09T19:00:18.897Z"
   },
   {
    "duration": 4537,
    "start_time": "2022-03-09T19:01:41.600Z"
   },
   {
    "duration": 2339,
    "start_time": "2022-03-09T19:35:44.133Z"
   },
   {
    "duration": 2251,
    "start_time": "2022-03-09T19:36:34.802Z"
   },
   {
    "duration": 8733,
    "start_time": "2022-03-09T19:36:40.866Z"
   },
   {
    "duration": 2233,
    "start_time": "2022-03-09T19:36:55.837Z"
   },
   {
    "duration": 2335,
    "start_time": "2022-03-09T19:38:34.249Z"
   },
   {
    "duration": 7057,
    "start_time": "2022-03-09T19:38:49.242Z"
   },
   {
    "duration": 2246,
    "start_time": "2022-03-09T19:38:59.190Z"
   },
   {
    "duration": 60,
    "start_time": "2022-03-09T19:39:20.796Z"
   },
   {
    "duration": 6399,
    "start_time": "2022-03-09T19:39:30.210Z"
   },
   {
    "duration": 49,
    "start_time": "2022-03-09T19:39:36.562Z"
   },
   {
    "duration": 6334,
    "start_time": "2022-03-09T19:39:42.194Z"
   },
   {
    "duration": 2069,
    "start_time": "2022-03-09T19:40:34.302Z"
   },
   {
    "duration": 10,
    "start_time": "2022-03-09T19:40:42.718Z"
   },
   {
    "duration": 254,
    "start_time": "2022-03-09T19:47:03.750Z"
   },
   {
    "duration": 266,
    "start_time": "2022-03-09T19:47:28.606Z"
   },
   {
    "duration": 5,
    "start_time": "2022-03-09T19:49:10.878Z"
   },
   {
    "duration": 6,
    "start_time": "2022-03-09T19:49:27.182Z"
   },
   {
    "duration": 250,
    "start_time": "2022-03-09T19:49:37.246Z"
   },
   {
    "duration": 271,
    "start_time": "2022-03-09T19:56:17.354Z"
   },
   {
    "duration": 266,
    "start_time": "2022-03-09T19:56:50.961Z"
   },
   {
    "duration": 261,
    "start_time": "2022-03-09T19:57:02.566Z"
   },
   {
    "duration": 282,
    "start_time": "2022-03-09T19:57:24.002Z"
   },
   {
    "duration": 256,
    "start_time": "2022-03-09T19:57:31.506Z"
   },
   {
    "duration": 243,
    "start_time": "2022-03-09T19:58:13.670Z"
   },
   {
    "duration": 501,
    "start_time": "2022-03-09T20:02:04.638Z"
   },
   {
    "duration": 222,
    "start_time": "2022-03-09T20:06:49.650Z"
   },
   {
    "duration": 224,
    "start_time": "2022-03-09T20:08:10.030Z"
   },
   {
    "duration": 231,
    "start_time": "2022-03-09T20:08:52.446Z"
   },
   {
    "duration": 228,
    "start_time": "2022-03-09T20:09:11.038Z"
   },
   {
    "duration": 482,
    "start_time": "2022-03-09T20:09:33.082Z"
   },
   {
    "duration": 478,
    "start_time": "2022-03-09T20:09:38.134Z"
   },
   {
    "duration": 478,
    "start_time": "2022-03-09T20:10:13.546Z"
   },
   {
    "duration": 236,
    "start_time": "2022-03-09T20:10:55.763Z"
   },
   {
    "duration": 220,
    "start_time": "2022-03-09T20:11:03.187Z"
   },
   {
    "duration": 222,
    "start_time": "2022-03-09T20:11:20.163Z"
   },
   {
    "duration": 11,
    "start_time": "2022-03-09T20:12:31.238Z"
   },
   {
    "duration": 7,
    "start_time": "2022-03-09T20:12:32.418Z"
   },
   {
    "duration": 69,
    "start_time": "2022-03-09T20:12:37.187Z"
   },
   {
    "duration": 13,
    "start_time": "2022-03-09T20:12:44.062Z"
   },
   {
    "duration": 7,
    "start_time": "2022-03-09T20:12:46.142Z"
   },
   {
    "duration": 2069,
    "start_time": "2022-03-09T20:12:48.054Z"
   },
   {
    "duration": 10,
    "start_time": "2022-03-09T20:12:54.215Z"
   },
   {
    "duration": 8,
    "start_time": "2022-03-09T20:13:31.158Z"
   },
   {
    "duration": 76,
    "start_time": "2022-03-09T20:13:52.582Z"
   },
   {
    "duration": 7,
    "start_time": "2022-03-09T20:15:27.727Z"
   },
   {
    "duration": 84,
    "start_time": "2022-03-09T20:16:21.910Z"
   },
   {
    "duration": 9,
    "start_time": "2022-03-09T20:20:42.507Z"
   },
   {
    "duration": 9,
    "start_time": "2022-03-09T20:23:21.735Z"
   },
   {
    "duration": 3,
    "start_time": "2022-03-09T20:25:48.619Z"
   },
   {
    "duration": 12,
    "start_time": "2022-03-09T20:29:01.907Z"
   },
   {
    "duration": 10,
    "start_time": "2022-03-09T20:29:27.328Z"
   },
   {
    "duration": 4,
    "start_time": "2022-03-09T20:29:52.159Z"
   },
   {
    "duration": 18,
    "start_time": "2022-03-09T20:29:53.271Z"
   },
   {
    "duration": 34,
    "start_time": "2022-03-09T20:29:55.756Z"
   },
   {
    "duration": 281,
    "start_time": "2022-03-09T20:31:15.167Z"
   },
   {
    "duration": 45,
    "start_time": "2022-03-09T20:31:26.913Z"
   },
   {
    "duration": 182,
    "start_time": "2022-03-09T20:31:45.847Z"
   },
   {
    "duration": 41,
    "start_time": "2022-03-09T20:31:55.944Z"
   },
   {
    "duration": 44,
    "start_time": "2022-03-09T20:32:03.579Z"
   },
   {
    "duration": 31,
    "start_time": "2022-03-09T20:32:13.995Z"
   },
   {
    "duration": 30,
    "start_time": "2022-03-09T20:32:19.931Z"
   },
   {
    "duration": 3,
    "start_time": "2022-03-09T20:32:28.347Z"
   },
   {
    "duration": 81,
    "start_time": "2022-03-09T20:32:29.167Z"
   },
   {
    "duration": 12,
    "start_time": "2022-03-09T20:32:32.455Z"
   },
   {
    "duration": 9,
    "start_time": "2022-03-09T20:32:34.160Z"
   },
   {
    "duration": 2062,
    "start_time": "2022-03-09T20:32:35.772Z"
   },
   {
    "duration": 10,
    "start_time": "2022-03-09T20:32:41.647Z"
   },
   {
    "duration": 11,
    "start_time": "2022-03-09T20:32:42.775Z"
   },
   {
    "duration": 12,
    "start_time": "2022-03-09T20:32:44.551Z"
   },
   {
    "duration": 2,
    "start_time": "2022-03-09T20:32:46.092Z"
   },
   {
    "duration": 5,
    "start_time": "2022-03-09T20:32:49.515Z"
   },
   {
    "duration": 17,
    "start_time": "2022-03-09T20:32:56.732Z"
   },
   {
    "duration": 28,
    "start_time": "2022-03-09T20:32:59.060Z"
   },
   {
    "duration": 32,
    "start_time": "2022-03-09T20:33:17.123Z"
   },
   {
    "duration": 35,
    "start_time": "2022-03-09T20:33:17.775Z"
   },
   {
    "duration": 33,
    "start_time": "2022-03-09T20:33:31.952Z"
   },
   {
    "duration": 114,
    "start_time": "2022-03-09T20:33:34.907Z"
   },
   {
    "duration": 42,
    "start_time": "2022-03-09T20:33:54.380Z"
   },
   {
    "duration": 4,
    "start_time": "2022-03-09T20:34:13.756Z"
   },
   {
    "duration": 29,
    "start_time": "2022-03-09T20:34:14.840Z"
   },
   {
    "duration": 34,
    "start_time": "2022-03-09T20:34:15.219Z"
   },
   {
    "duration": 6,
    "start_time": "2022-03-09T20:34:17.619Z"
   },
   {
    "duration": 31,
    "start_time": "2022-03-09T20:34:19.171Z"
   },
   {
    "duration": 32,
    "start_time": "2022-03-09T20:34:20.423Z"
   },
   {
    "duration": 12,
    "start_time": "2022-03-09T20:36:40.136Z"
   },
   {
    "duration": 9,
    "start_time": "2022-03-09T20:37:48.719Z"
   },
   {
    "duration": 13,
    "start_time": "2022-03-09T20:37:56.223Z"
   },
   {
    "duration": 8,
    "start_time": "2022-03-09T20:37:58.052Z"
   },
   {
    "duration": 572,
    "start_time": "2022-03-09T20:38:26.648Z"
   },
   {
    "duration": 232,
    "start_time": "2022-03-09T20:38:56.580Z"
   },
   {
    "duration": 9,
    "start_time": "2022-03-09T20:41:33.279Z"
   },
   {
    "duration": 12,
    "start_time": "2022-03-09T20:42:57.627Z"
   },
   {
    "duration": 629,
    "start_time": "2022-03-09T20:43:18.965Z"
   },
   {
    "duration": 79,
    "start_time": "2022-03-09T20:43:19.595Z"
   },
   {
    "duration": 13,
    "start_time": "2022-03-09T20:43:19.677Z"
   },
   {
    "duration": 8,
    "start_time": "2022-03-09T20:43:19.692Z"
   },
   {
    "duration": 2032,
    "start_time": "2022-03-09T20:43:19.702Z"
   },
   {
    "duration": 9,
    "start_time": "2022-03-09T20:43:21.736Z"
   },
   {
    "duration": 22,
    "start_time": "2022-03-09T20:43:21.747Z"
   },
   {
    "duration": 13,
    "start_time": "2022-03-09T20:43:21.779Z"
   },
   {
    "duration": 29,
    "start_time": "2022-03-09T20:43:21.795Z"
   },
   {
    "duration": 34,
    "start_time": "2022-03-09T20:43:21.826Z"
   },
   {
    "duration": 64,
    "start_time": "2022-03-09T20:43:21.862Z"
   },
   {
    "duration": 36,
    "start_time": "2022-03-09T20:43:21.929Z"
   },
   {
    "duration": 147,
    "start_time": "2022-03-09T20:43:21.967Z"
   },
   {
    "duration": 69,
    "start_time": "2022-03-09T20:43:22.116Z"
   },
   {
    "duration": 19,
    "start_time": "2022-03-09T20:43:22.187Z"
   },
   {
    "duration": 6590,
    "start_time": "2022-03-09T20:43:22.208Z"
   },
   {
    "duration": 31,
    "start_time": "2022-03-09T20:43:28.769Z"
   },
   {
    "duration": 31,
    "start_time": "2022-03-09T20:43:28.770Z"
   },
   {
    "duration": 30,
    "start_time": "2022-03-09T20:43:28.772Z"
   },
   {
    "duration": 30,
    "start_time": "2022-03-09T20:43:28.773Z"
   },
   {
    "duration": 29,
    "start_time": "2022-03-09T20:43:28.775Z"
   },
   {
    "duration": 12,
    "start_time": "2022-03-09T20:47:04.205Z"
   },
   {
    "duration": 3,
    "start_time": "2022-03-09T20:47:13.317Z"
   },
   {
    "duration": 6,
    "start_time": "2022-03-09T20:47:21.201Z"
   },
   {
    "duration": 40,
    "start_time": "2022-03-09T20:47:22.125Z"
   },
   {
    "duration": 2,
    "start_time": "2022-03-09T20:47:33.765Z"
   },
   {
    "duration": 69,
    "start_time": "2022-03-09T20:47:34.481Z"
   },
   {
    "duration": 11,
    "start_time": "2022-03-09T20:47:38.013Z"
   },
   {
    "duration": 8,
    "start_time": "2022-03-09T20:47:38.737Z"
   },
   {
    "duration": 2017,
    "start_time": "2022-03-09T20:47:40.373Z"
   },
   {
    "duration": 8,
    "start_time": "2022-03-09T20:47:43.998Z"
   },
   {
    "duration": 12,
    "start_time": "2022-03-09T20:47:46.857Z"
   },
   {
    "duration": 468,
    "start_time": "2022-03-09T20:48:52.105Z"
   },
   {
    "duration": 11,
    "start_time": "2022-03-09T20:48:54.273Z"
   },
   {
    "duration": 238,
    "start_time": "2022-03-09T20:49:12.169Z"
   },
   {
    "duration": 14,
    "start_time": "2022-03-09T20:49:16.657Z"
   },
   {
    "duration": 2,
    "start_time": "2022-03-09T20:49:57.481Z"
   },
   {
    "duration": 81,
    "start_time": "2022-03-09T20:49:58.249Z"
   },
   {
    "duration": 13,
    "start_time": "2022-03-09T20:50:01.485Z"
   },
   {
    "duration": 8,
    "start_time": "2022-03-09T20:50:02.977Z"
   },
   {
    "duration": 2002,
    "start_time": "2022-03-09T20:50:04.625Z"
   },
   {
    "duration": 8,
    "start_time": "2022-03-09T20:50:09.265Z"
   },
   {
    "duration": 458,
    "start_time": "2022-03-09T20:50:51.749Z"
   },
   {
    "duration": 226,
    "start_time": "2022-03-09T20:51:51.341Z"
   },
   {
    "duration": 20,
    "start_time": "2022-03-09T20:52:02.737Z"
   },
   {
    "duration": 229,
    "start_time": "2022-03-09T20:52:49.809Z"
   },
   {
    "duration": 30,
    "start_time": "2022-03-09T20:53:14.137Z"
   },
   {
    "duration": 69,
    "start_time": "2022-03-09T20:53:23.225Z"
   },
   {
    "duration": 11,
    "start_time": "2022-03-09T20:53:29.149Z"
   },
   {
    "duration": 8,
    "start_time": "2022-03-09T20:53:29.821Z"
   },
   {
    "duration": 2019,
    "start_time": "2022-03-09T20:53:30.685Z"
   },
   {
    "duration": 9,
    "start_time": "2022-03-09T20:53:33.985Z"
   },
   {
    "duration": 509,
    "start_time": "2022-03-09T20:53:50.833Z"
   },
   {
    "duration": 18,
    "start_time": "2022-03-09T20:53:58.181Z"
   },
   {
    "duration": 11,
    "start_time": "2022-03-09T20:54:39.029Z"
   },
   {
    "duration": 2,
    "start_time": "2022-03-09T20:54:44.957Z"
   },
   {
    "duration": 5,
    "start_time": "2022-03-09T20:54:47.433Z"
   },
   {
    "duration": 43,
    "start_time": "2022-03-09T20:54:50.978Z"
   },
   {
    "duration": 35,
    "start_time": "2022-03-09T20:54:54.989Z"
   },
   {
    "duration": 128,
    "start_time": "2022-03-09T20:54:58.089Z"
   },
   {
    "duration": 21,
    "start_time": "2022-03-09T20:55:22.849Z"
   },
   {
    "duration": 29,
    "start_time": "2022-03-09T20:58:02.961Z"
   },
   {
    "duration": 33,
    "start_time": "2022-03-09T20:58:03.953Z"
   },
   {
    "duration": 74,
    "start_time": "2022-03-09T21:01:02.805Z"
   },
   {
    "duration": 14,
    "start_time": "2022-03-09T21:01:04.977Z"
   },
   {
    "duration": 9,
    "start_time": "2022-03-09T21:01:05.913Z"
   },
   {
    "duration": 2047,
    "start_time": "2022-03-09T21:01:07.165Z"
   },
   {
    "duration": 122,
    "start_time": "2022-03-09T21:01:12.232Z"
   },
   {
    "duration": 105,
    "start_time": "2022-03-09T21:02:53.937Z"
   },
   {
    "duration": 9,
    "start_time": "2022-03-09T21:05:03.089Z"
   },
   {
    "duration": 506,
    "start_time": "2022-03-09T21:05:06.233Z"
   },
   {
    "duration": 11,
    "start_time": "2022-03-09T21:05:09.537Z"
   },
   {
    "duration": 3,
    "start_time": "2022-03-09T21:05:13.937Z"
   },
   {
    "duration": 5,
    "start_time": "2022-03-09T21:05:19.677Z"
   },
   {
    "duration": 29,
    "start_time": "2022-03-09T21:05:21.149Z"
   },
   {
    "duration": 34,
    "start_time": "2022-03-09T21:05:25.154Z"
   },
   {
    "duration": 121,
    "start_time": "2022-03-09T21:05:40.121Z"
   },
   {
    "duration": 2,
    "start_time": "2022-03-09T21:05:49.817Z"
   },
   {
    "duration": 604,
    "start_time": "2022-03-10T09:45:34.067Z"
   },
   {
    "duration": 78,
    "start_time": "2022-03-10T09:45:34.731Z"
   },
   {
    "duration": 15,
    "start_time": "2022-03-10T09:45:36.595Z"
   },
   {
    "duration": 5,
    "start_time": "2022-03-10T09:45:37.279Z"
   },
   {
    "duration": 1732,
    "start_time": "2022-03-10T09:45:38.127Z"
   },
   {
    "duration": 90,
    "start_time": "2022-03-10T09:45:44.947Z"
   },
   {
    "duration": 7,
    "start_time": "2022-03-10T09:47:15.519Z"
   },
   {
    "duration": 401,
    "start_time": "2022-03-10T09:47:27.991Z"
   },
   {
    "duration": 9,
    "start_time": "2022-03-10T09:48:07.455Z"
   },
   {
    "duration": 10,
    "start_time": "2022-03-10T09:48:38.799Z"
   },
   {
    "duration": 2,
    "start_time": "2022-03-10T09:48:39.183Z"
   },
   {
    "duration": 4,
    "start_time": "2022-03-10T09:48:40.471Z"
   },
   {
    "duration": 25,
    "start_time": "2022-03-10T09:48:40.787Z"
   },
   {
    "duration": 28,
    "start_time": "2022-03-10T09:48:41.283Z"
   },
   {
    "duration": 2,
    "start_time": "2022-03-10T09:48:50.935Z"
   },
   {
    "duration": 3,
    "start_time": "2022-03-10T09:49:30.043Z"
   },
   {
    "duration": 19,
    "start_time": "2022-03-10T09:49:30.944Z"
   },
   {
    "duration": 1452,
    "start_time": "2022-03-10T09:52:04.191Z"
   },
   {
    "duration": 1570,
    "start_time": "2022-03-10T09:53:37.427Z"
   },
   {
    "duration": 9,
    "start_time": "2022-03-10T09:56:15.659Z"
   },
   {
    "duration": 17,
    "start_time": "2022-03-10T09:56:59.143Z"
   },
   {
    "duration": 19,
    "start_time": "2022-03-10T09:57:18.635Z"
   },
   {
    "duration": 2,
    "start_time": "2022-03-10T09:57:43.055Z"
   },
   {
    "duration": 71,
    "start_time": "2022-03-10T09:57:43.619Z"
   },
   {
    "duration": 10,
    "start_time": "2022-03-10T09:57:45.254Z"
   },
   {
    "duration": 6,
    "start_time": "2022-03-10T09:57:45.835Z"
   },
   {
    "duration": 1702,
    "start_time": "2022-03-10T09:57:46.683Z"
   },
   {
    "duration": 126,
    "start_time": "2022-03-10T09:57:48.999Z"
   },
   {
    "duration": 9,
    "start_time": "2022-03-10T09:57:50.646Z"
   },
   {
    "duration": 391,
    "start_time": "2022-03-10T09:57:51.399Z"
   },
   {
    "duration": 9,
    "start_time": "2022-03-10T09:57:52.215Z"
   },
   {
    "duration": 2,
    "start_time": "2022-03-10T09:57:52.611Z"
   },
   {
    "duration": 4,
    "start_time": "2022-03-10T09:57:53.831Z"
   },
   {
    "duration": 24,
    "start_time": "2022-03-10T09:57:54.150Z"
   },
   {
    "duration": 27,
    "start_time": "2022-03-10T09:57:54.479Z"
   },
   {
    "duration": 20,
    "start_time": "2022-03-10T09:58:06.118Z"
   },
   {
    "duration": 18,
    "start_time": "2022-03-10T09:58:12.543Z"
   },
   {
    "duration": 114,
    "start_time": "2022-03-10T10:01:35.455Z"
   },
   {
    "duration": 5,
    "start_time": "2022-03-10T10:02:18.350Z"
   },
   {
    "duration": 26,
    "start_time": "2022-03-10T10:02:18.682Z"
   },
   {
    "duration": 31,
    "start_time": "2022-03-10T10:02:19.031Z"
   },
   {
    "duration": 2,
    "start_time": "2022-03-10T10:02:24.059Z"
   },
   {
    "duration": 2,
    "start_time": "2022-03-10T10:02:24.311Z"
   },
   {
    "duration": 17,
    "start_time": "2022-03-10T10:02:25.651Z"
   },
   {
    "duration": 107,
    "start_time": "2022-03-10T10:02:27.542Z"
   },
   {
    "duration": 99,
    "start_time": "2022-03-10T10:03:04.278Z"
   },
   {
    "duration": 2,
    "start_time": "2022-03-10T10:03:34.547Z"
   },
   {
    "duration": 108,
    "start_time": "2022-03-10T10:03:36.026Z"
   },
   {
    "duration": 127,
    "start_time": "2022-03-10T10:03:57.055Z"
   },
   {
    "duration": 97,
    "start_time": "2022-03-10T10:04:59.695Z"
   },
   {
    "duration": 20,
    "start_time": "2022-03-10T10:27:02.986Z"
   },
   {
    "duration": 128,
    "start_time": "2022-03-10T10:36:58.014Z"
   },
   {
    "duration": 112,
    "start_time": "2022-03-10T10:37:05.254Z"
   },
   {
    "duration": 115,
    "start_time": "2022-03-10T10:37:52.126Z"
   },
   {
    "duration": 3,
    "start_time": "2022-03-10T10:40:03.337Z"
   },
   {
    "duration": 60,
    "start_time": "2022-03-10T10:40:04.178Z"
   },
   {
    "duration": 10,
    "start_time": "2022-03-10T10:40:07.145Z"
   },
   {
    "duration": 6,
    "start_time": "2022-03-10T10:40:08.158Z"
   },
   {
    "duration": 1687,
    "start_time": "2022-03-10T10:40:09.329Z"
   },
   {
    "duration": 92,
    "start_time": "2022-03-10T10:40:12.969Z"
   },
   {
    "duration": 8,
    "start_time": "2022-03-10T10:40:19.027Z"
   },
   {
    "duration": 381,
    "start_time": "2022-03-10T10:40:20.249Z"
   },
   {
    "duration": 9,
    "start_time": "2022-03-10T10:40:23.298Z"
   },
   {
    "duration": 2,
    "start_time": "2022-03-10T10:42:17.234Z"
   },
   {
    "duration": 61,
    "start_time": "2022-03-10T10:42:17.966Z"
   },
   {
    "duration": 9,
    "start_time": "2022-03-10T10:42:20.294Z"
   },
   {
    "duration": 6,
    "start_time": "2022-03-10T10:42:21.226Z"
   },
   {
    "duration": 1724,
    "start_time": "2022-03-10T10:42:22.554Z"
   },
   {
    "duration": 107,
    "start_time": "2022-03-10T10:42:25.909Z"
   },
   {
    "duration": 8,
    "start_time": "2022-03-10T10:42:27.578Z"
   },
   {
    "duration": 482,
    "start_time": "2022-03-10T10:42:28.398Z"
   },
   {
    "duration": 12,
    "start_time": "2022-03-10T10:42:33.406Z"
   },
   {
    "duration": 4,
    "start_time": "2022-03-10T10:42:36.254Z"
   },
   {
    "duration": 24,
    "start_time": "2022-03-10T10:42:36.645Z"
   },
   {
    "duration": 31,
    "start_time": "2022-03-10T10:42:38.186Z"
   },
   {
    "duration": 18,
    "start_time": "2022-03-10T10:42:42.197Z"
   },
   {
    "duration": 19,
    "start_time": "2022-03-10T10:42:44.645Z"
   },
   {
    "duration": 21,
    "start_time": "2022-03-10T10:44:32.526Z"
   },
   {
    "duration": 27,
    "start_time": "2022-03-10T10:44:55.314Z"
   },
   {
    "duration": 28,
    "start_time": "2022-03-10T10:45:19.477Z"
   },
   {
    "duration": 27,
    "start_time": "2022-03-10T10:46:21.094Z"
   },
   {
    "duration": 43,
    "start_time": "2022-03-10T10:51:07.610Z"
   },
   {
    "duration": 30,
    "start_time": "2022-03-10T10:53:00.237Z"
   },
   {
    "duration": 29,
    "start_time": "2022-03-10T10:53:22.613Z"
   }
  ],
  "kernelspec": {
   "display_name": "Python 3 (ipykernel)",
   "language": "python",
   "name": "python3"
  },
  "language_info": {
   "codemirror_mode": {
    "name": "ipython",
    "version": 3
   },
   "file_extension": ".py",
   "mimetype": "text/x-python",
   "name": "python",
   "nbconvert_exporter": "python",
   "pygments_lexer": "ipython3",
   "version": "3.9.7"
  },
  "toc": {
   "base_numbering": 1,
   "nav_menu": {},
   "number_sections": true,
   "sideBar": true,
   "skip_h1_title": true,
   "title_cell": "Table of Contents",
   "title_sidebar": "Contents",
   "toc_cell": false,
   "toc_position": {
    "height": "calc(100% - 180px)",
    "left": "10px",
    "top": "150px",
    "width": "494.396px"
   },
   "toc_section_display": true,
   "toc_window_display": true
  }
 },
 "nbformat": 4,
 "nbformat_minor": 5
}

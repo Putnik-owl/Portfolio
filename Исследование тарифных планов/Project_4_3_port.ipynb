{
 "cells": [
  {
   "cell_type": "markdown",
   "id": "bcc6847e",
   "metadata": {},
   "source": [
    "# Исследование тарифных планов"
   ]
  },
  {
   "cell_type": "markdown",
   "id": "7ef5b65b",
   "metadata": {},
   "source": [
    "### Обзор данных"
   ]
  },
  {
   "cell_type": "code",
   "execution_count": 1,
   "id": "15d5f164",
   "metadata": {},
   "outputs": [],
   "source": [
    "import pandas as pd\n",
    "import numpy as np\n",
    "from scipy import stats as st\n",
    "from matplotlib import pyplot as plt\n",
    "from math import factorial\n",
    "from scipy.stats import norm\n",
    "import scipy.stats\n",
    "import math\n",
    "import warnings\n",
    "warnings.filterwarnings(\"ignore\")"
   ]
  },
  {
   "cell_type": "markdown",
   "id": "91a9a3c4",
   "metadata": {},
   "source": [
    "Описание таблицы с информацией о звонках\n",
    "1. id — уникальный номер звонка\n",
    "2. call_date — дата звонка\n",
    "3. duration — длительность звонка в минутах\n",
    "4. user_id — идентификатор пользователя, сделавшего звонок"
   ]
  },
  {
   "cell_type": "code",
   "execution_count": 2,
   "id": "3fb54e56",
   "metadata": {},
   "outputs": [
    {
     "name": "stdout",
     "output_type": "stream",
     "text": [
      "<class 'pandas.core.frame.DataFrame'>\n",
      "RangeIndex: 202607 entries, 0 to 202606\n",
      "Data columns (total 4 columns):\n",
      " #   Column     Non-Null Count   Dtype  \n",
      "---  ------     --------------   -----  \n",
      " 0   id         202607 non-null  object \n",
      " 1   call_date  202607 non-null  object \n",
      " 2   duration   202607 non-null  float64\n",
      " 3   user_id    202607 non-null  int64  \n",
      "dtypes: float64(1), int64(1), object(2)\n",
      "memory usage: 6.2+ MB\n"
     ]
    },
    {
     "data": {
      "text/html": [
       "<div>\n",
       "<style scoped>\n",
       "    .dataframe tbody tr th:only-of-type {\n",
       "        vertical-align: middle;\n",
       "    }\n",
       "\n",
       "    .dataframe tbody tr th {\n",
       "        vertical-align: top;\n",
       "    }\n",
       "\n",
       "    .dataframe thead th {\n",
       "        text-align: right;\n",
       "    }\n",
       "</style>\n",
       "<table border=\"1\" class=\"dataframe\">\n",
       "  <thead>\n",
       "    <tr style=\"text-align: right;\">\n",
       "      <th></th>\n",
       "      <th>id</th>\n",
       "      <th>call_date</th>\n",
       "      <th>duration</th>\n",
       "      <th>user_id</th>\n",
       "    </tr>\n",
       "  </thead>\n",
       "  <tbody>\n",
       "    <tr>\n",
       "      <th>0</th>\n",
       "      <td>1000_0</td>\n",
       "      <td>2018-07-25</td>\n",
       "      <td>0.00</td>\n",
       "      <td>1000</td>\n",
       "    </tr>\n",
       "    <tr>\n",
       "      <th>1</th>\n",
       "      <td>1000_1</td>\n",
       "      <td>2018-08-17</td>\n",
       "      <td>0.00</td>\n",
       "      <td>1000</td>\n",
       "    </tr>\n",
       "    <tr>\n",
       "      <th>2</th>\n",
       "      <td>1000_2</td>\n",
       "      <td>2018-06-11</td>\n",
       "      <td>2.85</td>\n",
       "      <td>1000</td>\n",
       "    </tr>\n",
       "    <tr>\n",
       "      <th>3</th>\n",
       "      <td>1000_3</td>\n",
       "      <td>2018-09-21</td>\n",
       "      <td>13.80</td>\n",
       "      <td>1000</td>\n",
       "    </tr>\n",
       "    <tr>\n",
       "      <th>4</th>\n",
       "      <td>1000_4</td>\n",
       "      <td>2018-12-15</td>\n",
       "      <td>5.18</td>\n",
       "      <td>1000</td>\n",
       "    </tr>\n",
       "    <tr>\n",
       "      <th>5</th>\n",
       "      <td>1000_5</td>\n",
       "      <td>2018-11-02</td>\n",
       "      <td>0.00</td>\n",
       "      <td>1000</td>\n",
       "    </tr>\n",
       "    <tr>\n",
       "      <th>6</th>\n",
       "      <td>1000_6</td>\n",
       "      <td>2018-10-18</td>\n",
       "      <td>0.00</td>\n",
       "      <td>1000</td>\n",
       "    </tr>\n",
       "    <tr>\n",
       "      <th>7</th>\n",
       "      <td>1000_7</td>\n",
       "      <td>2018-08-22</td>\n",
       "      <td>18.31</td>\n",
       "      <td>1000</td>\n",
       "    </tr>\n",
       "    <tr>\n",
       "      <th>8</th>\n",
       "      <td>1000_8</td>\n",
       "      <td>2018-09-15</td>\n",
       "      <td>18.44</td>\n",
       "      <td>1000</td>\n",
       "    </tr>\n",
       "    <tr>\n",
       "      <th>9</th>\n",
       "      <td>1000_9</td>\n",
       "      <td>2018-08-15</td>\n",
       "      <td>0.00</td>\n",
       "      <td>1000</td>\n",
       "    </tr>\n",
       "  </tbody>\n",
       "</table>\n",
       "</div>"
      ],
      "text/plain": [
       "       id   call_date  duration  user_id\n",
       "0  1000_0  2018-07-25      0.00     1000\n",
       "1  1000_1  2018-08-17      0.00     1000\n",
       "2  1000_2  2018-06-11      2.85     1000\n",
       "3  1000_3  2018-09-21     13.80     1000\n",
       "4  1000_4  2018-12-15      5.18     1000\n",
       "5  1000_5  2018-11-02      0.00     1000\n",
       "6  1000_6  2018-10-18      0.00     1000\n",
       "7  1000_7  2018-08-22     18.31     1000\n",
       "8  1000_8  2018-09-15     18.44     1000\n",
       "9  1000_9  2018-08-15      0.00     1000"
      ]
     },
     "metadata": {},
     "output_type": "display_data"
    }
   ],
   "source": [
    "#data_calls=pd.read_csv('calls.csv')\n",
    "data_calls=pd.read_csv('/datasets/calls.csv')\n",
    "data_calls.info() \n",
    "display(data_calls.head(10) )"
   ]
  },
  {
   "cell_type": "markdown",
   "id": "23571e74",
   "metadata": {},
   "source": [
    "Описание таблицы с информацией об интернет-сессиях\n",
    "1. id — уникальный номер сессии\n",
    "2. mb_used — объём потраченного за сессию интернет-трафика (в мегабайтах)\n",
    "3. session_date — дата интернет-сессии\n",
    "4. user_id — идентификатор пользователя"
   ]
  },
  {
   "cell_type": "code",
   "execution_count": 3,
   "id": "17e99dc0",
   "metadata": {},
   "outputs": [
    {
     "name": "stdout",
     "output_type": "stream",
     "text": [
      "<class 'pandas.core.frame.DataFrame'>\n",
      "RangeIndex: 149396 entries, 0 to 149395\n",
      "Data columns (total 5 columns):\n",
      " #   Column        Non-Null Count   Dtype  \n",
      "---  ------        --------------   -----  \n",
      " 0   Unnamed: 0    149396 non-null  int64  \n",
      " 1   id            149396 non-null  object \n",
      " 2   mb_used       149396 non-null  float64\n",
      " 3   session_date  149396 non-null  object \n",
      " 4   user_id       149396 non-null  int64  \n",
      "dtypes: float64(1), int64(2), object(2)\n",
      "memory usage: 5.7+ MB\n"
     ]
    },
    {
     "data": {
      "text/html": [
       "<div>\n",
       "<style scoped>\n",
       "    .dataframe tbody tr th:only-of-type {\n",
       "        vertical-align: middle;\n",
       "    }\n",
       "\n",
       "    .dataframe tbody tr th {\n",
       "        vertical-align: top;\n",
       "    }\n",
       "\n",
       "    .dataframe thead th {\n",
       "        text-align: right;\n",
       "    }\n",
       "</style>\n",
       "<table border=\"1\" class=\"dataframe\">\n",
       "  <thead>\n",
       "    <tr style=\"text-align: right;\">\n",
       "      <th></th>\n",
       "      <th>Unnamed: 0</th>\n",
       "      <th>id</th>\n",
       "      <th>mb_used</th>\n",
       "      <th>session_date</th>\n",
       "      <th>user_id</th>\n",
       "    </tr>\n",
       "  </thead>\n",
       "  <tbody>\n",
       "    <tr>\n",
       "      <th>0</th>\n",
       "      <td>0</td>\n",
       "      <td>1000_0</td>\n",
       "      <td>112.95</td>\n",
       "      <td>2018-11-25</td>\n",
       "      <td>1000</td>\n",
       "    </tr>\n",
       "    <tr>\n",
       "      <th>1</th>\n",
       "      <td>1</td>\n",
       "      <td>1000_1</td>\n",
       "      <td>1052.81</td>\n",
       "      <td>2018-09-07</td>\n",
       "      <td>1000</td>\n",
       "    </tr>\n",
       "    <tr>\n",
       "      <th>2</th>\n",
       "      <td>2</td>\n",
       "      <td>1000_2</td>\n",
       "      <td>1197.26</td>\n",
       "      <td>2018-06-25</td>\n",
       "      <td>1000</td>\n",
       "    </tr>\n",
       "    <tr>\n",
       "      <th>3</th>\n",
       "      <td>3</td>\n",
       "      <td>1000_3</td>\n",
       "      <td>550.27</td>\n",
       "      <td>2018-08-22</td>\n",
       "      <td>1000</td>\n",
       "    </tr>\n",
       "    <tr>\n",
       "      <th>4</th>\n",
       "      <td>4</td>\n",
       "      <td>1000_4</td>\n",
       "      <td>302.56</td>\n",
       "      <td>2018-09-24</td>\n",
       "      <td>1000</td>\n",
       "    </tr>\n",
       "    <tr>\n",
       "      <th>5</th>\n",
       "      <td>5</td>\n",
       "      <td>1000_5</td>\n",
       "      <td>399.97</td>\n",
       "      <td>2018-10-02</td>\n",
       "      <td>1000</td>\n",
       "    </tr>\n",
       "    <tr>\n",
       "      <th>6</th>\n",
       "      <td>6</td>\n",
       "      <td>1000_6</td>\n",
       "      <td>540.08</td>\n",
       "      <td>2018-09-07</td>\n",
       "      <td>1000</td>\n",
       "    </tr>\n",
       "    <tr>\n",
       "      <th>7</th>\n",
       "      <td>7</td>\n",
       "      <td>1000_7</td>\n",
       "      <td>415.70</td>\n",
       "      <td>2018-07-11</td>\n",
       "      <td>1000</td>\n",
       "    </tr>\n",
       "    <tr>\n",
       "      <th>8</th>\n",
       "      <td>8</td>\n",
       "      <td>1000_8</td>\n",
       "      <td>505.40</td>\n",
       "      <td>2018-10-08</td>\n",
       "      <td>1000</td>\n",
       "    </tr>\n",
       "    <tr>\n",
       "      <th>9</th>\n",
       "      <td>9</td>\n",
       "      <td>1000_9</td>\n",
       "      <td>345.54</td>\n",
       "      <td>2018-09-03</td>\n",
       "      <td>1000</td>\n",
       "    </tr>\n",
       "  </tbody>\n",
       "</table>\n",
       "</div>"
      ],
      "text/plain": [
       "   Unnamed: 0      id  mb_used session_date  user_id\n",
       "0           0  1000_0   112.95   2018-11-25     1000\n",
       "1           1  1000_1  1052.81   2018-09-07     1000\n",
       "2           2  1000_2  1197.26   2018-06-25     1000\n",
       "3           3  1000_3   550.27   2018-08-22     1000\n",
       "4           4  1000_4   302.56   2018-09-24     1000\n",
       "5           5  1000_5   399.97   2018-10-02     1000\n",
       "6           6  1000_6   540.08   2018-09-07     1000\n",
       "7           7  1000_7   415.70   2018-07-11     1000\n",
       "8           8  1000_8   505.40   2018-10-08     1000\n",
       "9           9  1000_9   345.54   2018-09-03     1000"
      ]
     },
     "metadata": {},
     "output_type": "display_data"
    }
   ],
   "source": [
    "#data_internet=pd.read_csv('internet.csv')\n",
    "data_internet=pd.read_csv('/datasets/internet.csv')\n",
    "data_internet.info()     #получение информации\n",
    "display(data_internet.head(10) )#просмотр данных"
   ]
  },
  {
   "cell_type": "markdown",
   "id": "732d86af",
   "metadata": {},
   "source": [
    "Описание таблицы с информацией о сообщениях\n",
    "1. id — уникальный номер сообщения\n",
    "2. message_date — дата сообщения\n",
    "3. user_id — идентификатор пользователя, отправившего сообщение"
   ]
  },
  {
   "cell_type": "code",
   "execution_count": 4,
   "id": "bb096a52",
   "metadata": {},
   "outputs": [
    {
     "name": "stdout",
     "output_type": "stream",
     "text": [
      "<class 'pandas.core.frame.DataFrame'>\n",
      "RangeIndex: 123036 entries, 0 to 123035\n",
      "Data columns (total 3 columns):\n",
      " #   Column        Non-Null Count   Dtype \n",
      "---  ------        --------------   ----- \n",
      " 0   id            123036 non-null  object\n",
      " 1   message_date  123036 non-null  object\n",
      " 2   user_id       123036 non-null  int64 \n",
      "dtypes: int64(1), object(2)\n",
      "memory usage: 2.8+ MB\n"
     ]
    },
    {
     "data": {
      "text/html": [
       "<div>\n",
       "<style scoped>\n",
       "    .dataframe tbody tr th:only-of-type {\n",
       "        vertical-align: middle;\n",
       "    }\n",
       "\n",
       "    .dataframe tbody tr th {\n",
       "        vertical-align: top;\n",
       "    }\n",
       "\n",
       "    .dataframe thead th {\n",
       "        text-align: right;\n",
       "    }\n",
       "</style>\n",
       "<table border=\"1\" class=\"dataframe\">\n",
       "  <thead>\n",
       "    <tr style=\"text-align: right;\">\n",
       "      <th></th>\n",
       "      <th>id</th>\n",
       "      <th>message_date</th>\n",
       "      <th>user_id</th>\n",
       "    </tr>\n",
       "  </thead>\n",
       "  <tbody>\n",
       "    <tr>\n",
       "      <th>0</th>\n",
       "      <td>1000_0</td>\n",
       "      <td>2018-06-27</td>\n",
       "      <td>1000</td>\n",
       "    </tr>\n",
       "    <tr>\n",
       "      <th>1</th>\n",
       "      <td>1000_1</td>\n",
       "      <td>2018-10-08</td>\n",
       "      <td>1000</td>\n",
       "    </tr>\n",
       "    <tr>\n",
       "      <th>2</th>\n",
       "      <td>1000_2</td>\n",
       "      <td>2018-08-04</td>\n",
       "      <td>1000</td>\n",
       "    </tr>\n",
       "    <tr>\n",
       "      <th>3</th>\n",
       "      <td>1000_3</td>\n",
       "      <td>2018-06-16</td>\n",
       "      <td>1000</td>\n",
       "    </tr>\n",
       "    <tr>\n",
       "      <th>4</th>\n",
       "      <td>1000_4</td>\n",
       "      <td>2018-12-05</td>\n",
       "      <td>1000</td>\n",
       "    </tr>\n",
       "    <tr>\n",
       "      <th>5</th>\n",
       "      <td>1000_5</td>\n",
       "      <td>2018-06-20</td>\n",
       "      <td>1000</td>\n",
       "    </tr>\n",
       "    <tr>\n",
       "      <th>6</th>\n",
       "      <td>1000_6</td>\n",
       "      <td>2018-11-19</td>\n",
       "      <td>1000</td>\n",
       "    </tr>\n",
       "    <tr>\n",
       "      <th>7</th>\n",
       "      <td>1000_7</td>\n",
       "      <td>2018-10-29</td>\n",
       "      <td>1000</td>\n",
       "    </tr>\n",
       "    <tr>\n",
       "      <th>8</th>\n",
       "      <td>1000_8</td>\n",
       "      <td>2018-06-25</td>\n",
       "      <td>1000</td>\n",
       "    </tr>\n",
       "    <tr>\n",
       "      <th>9</th>\n",
       "      <td>1000_9</td>\n",
       "      <td>2018-12-18</td>\n",
       "      <td>1000</td>\n",
       "    </tr>\n",
       "  </tbody>\n",
       "</table>\n",
       "</div>"
      ],
      "text/plain": [
       "       id message_date  user_id\n",
       "0  1000_0   2018-06-27     1000\n",
       "1  1000_1   2018-10-08     1000\n",
       "2  1000_2   2018-08-04     1000\n",
       "3  1000_3   2018-06-16     1000\n",
       "4  1000_4   2018-12-05     1000\n",
       "5  1000_5   2018-06-20     1000\n",
       "6  1000_6   2018-11-19     1000\n",
       "7  1000_7   2018-10-29     1000\n",
       "8  1000_8   2018-06-25     1000\n",
       "9  1000_9   2018-12-18     1000"
      ]
     },
     "metadata": {},
     "output_type": "display_data"
    }
   ],
   "source": [
    "#data_messages=pd.read_csv('messages.csv')\n",
    "data_messages=pd.read_csv('/datasets/messages.csv')\n",
    "data_messages.info()     #получение информации\n",
    "display(data_messages.head(10) )#просмотр данных"
   ]
  },
  {
   "cell_type": "markdown",
   "id": "855606e2",
   "metadata": {},
   "source": [
    "Описание таблицы с информацией  о тарифах\n",
    "1. tariff_name — название тарифа\n",
    "2. rub_monthly_fee — ежемесячная абонентская плата в рублях\n",
    "3. minutes_included — количество минут разговора в месяц, включённых в абонентскую плату\n",
    "4. messages_included — количество сообщений в месяц, включённых в абонентскую плату\n",
    "5. mb_per_month_included — объём интернет-трафика, включённого в абонентскую плату (в мегабайтах)\n",
    "6. rub_per_minute — стоимость минуты разговора сверх тарифного пакета (например, если в тарифе 100 минут разговора в месяц, то со 101 минуты будет взиматься плата)\n",
    "7. rub_per_message — стоимость отправки сообщения сверх тарифного пакета\n",
    "8. rub_per_gb — стоимость дополнительного гигабайта интернет-трафика сверх тарифного пакета (1 гигабайт = 1024 мегабайта)"
   ]
  },
  {
   "cell_type": "code",
   "execution_count": 5,
   "id": "2b0aa9f7",
   "metadata": {},
   "outputs": [
    {
     "name": "stdout",
     "output_type": "stream",
     "text": [
      "<class 'pandas.core.frame.DataFrame'>\n",
      "RangeIndex: 2 entries, 0 to 1\n",
      "Data columns (total 8 columns):\n",
      " #   Column                 Non-Null Count  Dtype \n",
      "---  ------                 --------------  ----- \n",
      " 0   messages_included      2 non-null      int64 \n",
      " 1   mb_per_month_included  2 non-null      int64 \n",
      " 2   minutes_included       2 non-null      int64 \n",
      " 3   rub_monthly_fee        2 non-null      int64 \n",
      " 4   rub_per_gb             2 non-null      int64 \n",
      " 5   rub_per_message        2 non-null      int64 \n",
      " 6   rub_per_minute         2 non-null      int64 \n",
      " 7   tariff_name            2 non-null      object\n",
      "dtypes: int64(7), object(1)\n",
      "memory usage: 256.0+ bytes\n"
     ]
    },
    {
     "data": {
      "text/html": [
       "<div>\n",
       "<style scoped>\n",
       "    .dataframe tbody tr th:only-of-type {\n",
       "        vertical-align: middle;\n",
       "    }\n",
       "\n",
       "    .dataframe tbody tr th {\n",
       "        vertical-align: top;\n",
       "    }\n",
       "\n",
       "    .dataframe thead th {\n",
       "        text-align: right;\n",
       "    }\n",
       "</style>\n",
       "<table border=\"1\" class=\"dataframe\">\n",
       "  <thead>\n",
       "    <tr style=\"text-align: right;\">\n",
       "      <th></th>\n",
       "      <th>messages_included</th>\n",
       "      <th>mb_per_month_included</th>\n",
       "      <th>minutes_included</th>\n",
       "      <th>rub_monthly_fee</th>\n",
       "      <th>rub_per_gb</th>\n",
       "      <th>rub_per_message</th>\n",
       "      <th>rub_per_minute</th>\n",
       "      <th>tariff_name</th>\n",
       "    </tr>\n",
       "  </thead>\n",
       "  <tbody>\n",
       "    <tr>\n",
       "      <th>0</th>\n",
       "      <td>50</td>\n",
       "      <td>15360</td>\n",
       "      <td>500</td>\n",
       "      <td>550</td>\n",
       "      <td>200</td>\n",
       "      <td>3</td>\n",
       "      <td>3</td>\n",
       "      <td>smart</td>\n",
       "    </tr>\n",
       "    <tr>\n",
       "      <th>1</th>\n",
       "      <td>1000</td>\n",
       "      <td>30720</td>\n",
       "      <td>3000</td>\n",
       "      <td>1950</td>\n",
       "      <td>150</td>\n",
       "      <td>1</td>\n",
       "      <td>1</td>\n",
       "      <td>ultra</td>\n",
       "    </tr>\n",
       "  </tbody>\n",
       "</table>\n",
       "</div>"
      ],
      "text/plain": [
       "   messages_included  mb_per_month_included  minutes_included  \\\n",
       "0                 50                  15360               500   \n",
       "1               1000                  30720              3000   \n",
       "\n",
       "   rub_monthly_fee  rub_per_gb  rub_per_message  rub_per_minute tariff_name  \n",
       "0              550         200                3               3       smart  \n",
       "1             1950         150                1               1       ultra  "
      ]
     },
     "metadata": {},
     "output_type": "display_data"
    }
   ],
   "source": [
    "#data_tariffs=pd.read_csv('tariffs.csv')\n",
    "data_tariffs=pd.read_csv('/datasets/tariffs.csv')\n",
    "data_tariffs.info()     #получение информации\n",
    "display(data_tariffs.head(10) )#просмотр данных"
   ]
  },
  {
   "cell_type": "markdown",
   "id": "f34a69e8",
   "metadata": {},
   "source": [
    "Описание таблицы с информацией о пользователях\n",
    "1. user_id — уникальный идентификатор пользователя\n",
    "2. first_name — имя пользователя\n",
    "3. last_name — фамилия пользователя\n",
    "4. age — возраст пользователя (годы)\n",
    "5. reg_date — дата подключения тарифа (день, месяц, год)\n",
    "6. churn_date — дата прекращения пользования тарифом (если значение пропущено, то тариф ещё действовал на момент выгрузки данных)\n",
    "7. city — город проживания пользователя\n",
    "8. tariff — название тарифного плана"
   ]
  },
  {
   "cell_type": "code",
   "execution_count": 6,
   "id": "17919263",
   "metadata": {},
   "outputs": [
    {
     "name": "stdout",
     "output_type": "stream",
     "text": [
      "<class 'pandas.core.frame.DataFrame'>\n",
      "RangeIndex: 500 entries, 0 to 499\n",
      "Data columns (total 8 columns):\n",
      " #   Column      Non-Null Count  Dtype \n",
      "---  ------      --------------  ----- \n",
      " 0   user_id     500 non-null    int64 \n",
      " 1   age         500 non-null    int64 \n",
      " 2   churn_date  38 non-null     object\n",
      " 3   city        500 non-null    object\n",
      " 4   first_name  500 non-null    object\n",
      " 5   last_name   500 non-null    object\n",
      " 6   reg_date    500 non-null    object\n",
      " 7   tariff      500 non-null    object\n",
      "dtypes: int64(2), object(6)\n",
      "memory usage: 31.4+ KB\n"
     ]
    },
    {
     "data": {
      "text/html": [
       "<div>\n",
       "<style scoped>\n",
       "    .dataframe tbody tr th:only-of-type {\n",
       "        vertical-align: middle;\n",
       "    }\n",
       "\n",
       "    .dataframe tbody tr th {\n",
       "        vertical-align: top;\n",
       "    }\n",
       "\n",
       "    .dataframe thead th {\n",
       "        text-align: right;\n",
       "    }\n",
       "</style>\n",
       "<table border=\"1\" class=\"dataframe\">\n",
       "  <thead>\n",
       "    <tr style=\"text-align: right;\">\n",
       "      <th></th>\n",
       "      <th>user_id</th>\n",
       "      <th>age</th>\n",
       "      <th>churn_date</th>\n",
       "      <th>city</th>\n",
       "      <th>first_name</th>\n",
       "      <th>last_name</th>\n",
       "      <th>reg_date</th>\n",
       "      <th>tariff</th>\n",
       "    </tr>\n",
       "  </thead>\n",
       "  <tbody>\n",
       "    <tr>\n",
       "      <th>0</th>\n",
       "      <td>1000</td>\n",
       "      <td>52</td>\n",
       "      <td>NaN</td>\n",
       "      <td>Краснодар</td>\n",
       "      <td>Рафаил</td>\n",
       "      <td>Верещагин</td>\n",
       "      <td>2018-05-25</td>\n",
       "      <td>ultra</td>\n",
       "    </tr>\n",
       "    <tr>\n",
       "      <th>1</th>\n",
       "      <td>1001</td>\n",
       "      <td>41</td>\n",
       "      <td>NaN</td>\n",
       "      <td>Москва</td>\n",
       "      <td>Иван</td>\n",
       "      <td>Ежов</td>\n",
       "      <td>2018-11-01</td>\n",
       "      <td>smart</td>\n",
       "    </tr>\n",
       "    <tr>\n",
       "      <th>2</th>\n",
       "      <td>1002</td>\n",
       "      <td>59</td>\n",
       "      <td>NaN</td>\n",
       "      <td>Стерлитамак</td>\n",
       "      <td>Евгений</td>\n",
       "      <td>Абрамович</td>\n",
       "      <td>2018-06-17</td>\n",
       "      <td>smart</td>\n",
       "    </tr>\n",
       "    <tr>\n",
       "      <th>3</th>\n",
       "      <td>1003</td>\n",
       "      <td>23</td>\n",
       "      <td>NaN</td>\n",
       "      <td>Москва</td>\n",
       "      <td>Белла</td>\n",
       "      <td>Белякова</td>\n",
       "      <td>2018-08-17</td>\n",
       "      <td>ultra</td>\n",
       "    </tr>\n",
       "    <tr>\n",
       "      <th>4</th>\n",
       "      <td>1004</td>\n",
       "      <td>68</td>\n",
       "      <td>NaN</td>\n",
       "      <td>Новокузнецк</td>\n",
       "      <td>Татьяна</td>\n",
       "      <td>Авдеенко</td>\n",
       "      <td>2018-05-14</td>\n",
       "      <td>ultra</td>\n",
       "    </tr>\n",
       "    <tr>\n",
       "      <th>5</th>\n",
       "      <td>1005</td>\n",
       "      <td>67</td>\n",
       "      <td>NaN</td>\n",
       "      <td>Набережные Челны</td>\n",
       "      <td>Афанасий</td>\n",
       "      <td>Горлов</td>\n",
       "      <td>2018-01-25</td>\n",
       "      <td>smart</td>\n",
       "    </tr>\n",
       "    <tr>\n",
       "      <th>6</th>\n",
       "      <td>1006</td>\n",
       "      <td>21</td>\n",
       "      <td>NaN</td>\n",
       "      <td>Ульяновск</td>\n",
       "      <td>Леонид</td>\n",
       "      <td>Ермолаев</td>\n",
       "      <td>2018-02-26</td>\n",
       "      <td>smart</td>\n",
       "    </tr>\n",
       "    <tr>\n",
       "      <th>7</th>\n",
       "      <td>1007</td>\n",
       "      <td>65</td>\n",
       "      <td>NaN</td>\n",
       "      <td>Москва</td>\n",
       "      <td>Юна</td>\n",
       "      <td>Березина</td>\n",
       "      <td>2018-04-19</td>\n",
       "      <td>smart</td>\n",
       "    </tr>\n",
       "    <tr>\n",
       "      <th>8</th>\n",
       "      <td>1008</td>\n",
       "      <td>63</td>\n",
       "      <td>NaN</td>\n",
       "      <td>Челябинск</td>\n",
       "      <td>Рустэм</td>\n",
       "      <td>Пономарёв</td>\n",
       "      <td>2018-12-19</td>\n",
       "      <td>smart</td>\n",
       "    </tr>\n",
       "    <tr>\n",
       "      <th>9</th>\n",
       "      <td>1009</td>\n",
       "      <td>24</td>\n",
       "      <td>NaN</td>\n",
       "      <td>Пермь</td>\n",
       "      <td>Василиса</td>\n",
       "      <td>Блинова</td>\n",
       "      <td>2018-03-22</td>\n",
       "      <td>smart</td>\n",
       "    </tr>\n",
       "  </tbody>\n",
       "</table>\n",
       "</div>"
      ],
      "text/plain": [
       "   user_id  age churn_date              city first_name  last_name  \\\n",
       "0     1000   52        NaN         Краснодар     Рафаил  Верещагин   \n",
       "1     1001   41        NaN            Москва       Иван       Ежов   \n",
       "2     1002   59        NaN       Стерлитамак    Евгений  Абрамович   \n",
       "3     1003   23        NaN            Москва      Белла   Белякова   \n",
       "4     1004   68        NaN       Новокузнецк    Татьяна   Авдеенко   \n",
       "5     1005   67        NaN  Набережные Челны   Афанасий     Горлов   \n",
       "6     1006   21        NaN         Ульяновск     Леонид   Ермолаев   \n",
       "7     1007   65        NaN            Москва        Юна   Березина   \n",
       "8     1008   63        NaN         Челябинск     Рустэм  Пономарёв   \n",
       "9     1009   24        NaN             Пермь   Василиса    Блинова   \n",
       "\n",
       "     reg_date tariff  \n",
       "0  2018-05-25  ultra  \n",
       "1  2018-11-01  smart  \n",
       "2  2018-06-17  smart  \n",
       "3  2018-08-17  ultra  \n",
       "4  2018-05-14  ultra  \n",
       "5  2018-01-25  smart  \n",
       "6  2018-02-26  smart  \n",
       "7  2018-04-19  smart  \n",
       "8  2018-12-19  smart  \n",
       "9  2018-03-22  smart  "
      ]
     },
     "metadata": {},
     "output_type": "display_data"
    }
   ],
   "source": [
    "#data_users=pd.read_csv('users.csv')\n",
    "data_users=pd.read_csv('/datasets/users.csv')\n",
    "data_users.info()     #получение информации\n",
    "display(data_users.head(10) )#просмотр данных"
   ]
  },
  {
   "cell_type": "markdown",
   "id": "5f51b951",
   "metadata": {},
   "source": [
    "### Предобработка данных"
   ]
  },
  {
   "cell_type": "markdown",
   "id": "fc758665",
   "metadata": {},
   "source": [
    "Количество звонков и продолжительность звонков по месяцам"
   ]
  },
  {
   "cell_type": "code",
   "execution_count": 7,
   "id": "4ce7b591",
   "metadata": {},
   "outputs": [
    {
     "data": {
      "text/html": [
       "<div>\n",
       "<style scoped>\n",
       "    .dataframe tbody tr th:only-of-type {\n",
       "        vertical-align: middle;\n",
       "    }\n",
       "\n",
       "    .dataframe tbody tr th {\n",
       "        vertical-align: top;\n",
       "    }\n",
       "\n",
       "    .dataframe thead th {\n",
       "        text-align: right;\n",
       "    }\n",
       "</style>\n",
       "<table border=\"1\" class=\"dataframe\">\n",
       "  <thead>\n",
       "    <tr style=\"text-align: right;\">\n",
       "      <th></th>\n",
       "      <th>user_id</th>\n",
       "      <th>month</th>\n",
       "      <th>count_call</th>\n",
       "      <th>sum_call</th>\n",
       "    </tr>\n",
       "  </thead>\n",
       "  <tbody>\n",
       "    <tr>\n",
       "      <th>0</th>\n",
       "      <td>1000</td>\n",
       "      <td>5</td>\n",
       "      <td>22</td>\n",
       "      <td>159.0</td>\n",
       "    </tr>\n",
       "    <tr>\n",
       "      <th>1</th>\n",
       "      <td>1000</td>\n",
       "      <td>6</td>\n",
       "      <td>43</td>\n",
       "      <td>172.0</td>\n",
       "    </tr>\n",
       "    <tr>\n",
       "      <th>2</th>\n",
       "      <td>1000</td>\n",
       "      <td>7</td>\n",
       "      <td>47</td>\n",
       "      <td>340.0</td>\n",
       "    </tr>\n",
       "    <tr>\n",
       "      <th>3</th>\n",
       "      <td>1000</td>\n",
       "      <td>8</td>\n",
       "      <td>52</td>\n",
       "      <td>408.0</td>\n",
       "    </tr>\n",
       "    <tr>\n",
       "      <th>4</th>\n",
       "      <td>1000</td>\n",
       "      <td>9</td>\n",
       "      <td>58</td>\n",
       "      <td>466.0</td>\n",
       "    </tr>\n",
       "    <tr>\n",
       "      <th>5</th>\n",
       "      <td>1000</td>\n",
       "      <td>10</td>\n",
       "      <td>57</td>\n",
       "      <td>350.0</td>\n",
       "    </tr>\n",
       "    <tr>\n",
       "      <th>6</th>\n",
       "      <td>1000</td>\n",
       "      <td>11</td>\n",
       "      <td>43</td>\n",
       "      <td>338.0</td>\n",
       "    </tr>\n",
       "    <tr>\n",
       "      <th>7</th>\n",
       "      <td>1000</td>\n",
       "      <td>12</td>\n",
       "      <td>46</td>\n",
       "      <td>333.0</td>\n",
       "    </tr>\n",
       "    <tr>\n",
       "      <th>8</th>\n",
       "      <td>1001</td>\n",
       "      <td>11</td>\n",
       "      <td>59</td>\n",
       "      <td>430.0</td>\n",
       "    </tr>\n",
       "    <tr>\n",
       "      <th>9</th>\n",
       "      <td>1001</td>\n",
       "      <td>12</td>\n",
       "      <td>63</td>\n",
       "      <td>414.0</td>\n",
       "    </tr>\n",
       "  </tbody>\n",
       "</table>\n",
       "</div>"
      ],
      "text/plain": [
       "   user_id  month  count_call  sum_call\n",
       "0     1000      5          22     159.0\n",
       "1     1000      6          43     172.0\n",
       "2     1000      7          47     340.0\n",
       "3     1000      8          52     408.0\n",
       "4     1000      9          58     466.0\n",
       "5     1000     10          57     350.0\n",
       "6     1000     11          43     338.0\n",
       "7     1000     12          46     333.0\n",
       "8     1001     11          59     430.0\n",
       "9     1001     12          63     414.0"
      ]
     },
     "metadata": {},
     "output_type": "display_data"
    }
   ],
   "source": [
    "data_calls['month']=pd.DatetimeIndex(data_calls['call_date']).month # добавление месяца для звонков\n",
    "data_calls['duration'] = data_calls['duration'].apply(math.ceil)    #Округление до целых минут \n",
    "#сводная таблица по звонкам\n",
    "user_calls=data_calls.pivot_table(index=['user_id','month'], values='duration', aggfunc= ['count','sum']).reset_index()  \n",
    "user_calls.columns = ['user_id','month','count_call','sum_call']\n",
    "display(user_calls.head(10))"
   ]
  },
  {
   "cell_type": "code",
   "execution_count": 8,
   "id": "72dbf7cd",
   "metadata": {},
   "outputs": [],
   "source": [
    "data_calls['test'] = data_calls['duration'].apply(math.ceil)"
   ]
  },
  {
   "cell_type": "markdown",
   "id": "bd0d6940",
   "metadata": {},
   "source": [
    "Количество сообщений по месяцам"
   ]
  },
  {
   "cell_type": "code",
   "execution_count": 9,
   "id": "acb120db",
   "metadata": {},
   "outputs": [
    {
     "data": {
      "text/html": [
       "<div>\n",
       "<style scoped>\n",
       "    .dataframe tbody tr th:only-of-type {\n",
       "        vertical-align: middle;\n",
       "    }\n",
       "\n",
       "    .dataframe tbody tr th {\n",
       "        vertical-align: top;\n",
       "    }\n",
       "\n",
       "    .dataframe thead th {\n",
       "        text-align: right;\n",
       "    }\n",
       "</style>\n",
       "<table border=\"1\" class=\"dataframe\">\n",
       "  <thead>\n",
       "    <tr style=\"text-align: right;\">\n",
       "      <th></th>\n",
       "      <th>user_id</th>\n",
       "      <th>month</th>\n",
       "      <th>count_sms</th>\n",
       "    </tr>\n",
       "  </thead>\n",
       "  <tbody>\n",
       "    <tr>\n",
       "      <th>0</th>\n",
       "      <td>1000</td>\n",
       "      <td>5</td>\n",
       "      <td>22</td>\n",
       "    </tr>\n",
       "    <tr>\n",
       "      <th>1</th>\n",
       "      <td>1000</td>\n",
       "      <td>6</td>\n",
       "      <td>60</td>\n",
       "    </tr>\n",
       "    <tr>\n",
       "      <th>2</th>\n",
       "      <td>1000</td>\n",
       "      <td>7</td>\n",
       "      <td>75</td>\n",
       "    </tr>\n",
       "    <tr>\n",
       "      <th>3</th>\n",
       "      <td>1000</td>\n",
       "      <td>8</td>\n",
       "      <td>81</td>\n",
       "    </tr>\n",
       "    <tr>\n",
       "      <th>4</th>\n",
       "      <td>1000</td>\n",
       "      <td>9</td>\n",
       "      <td>57</td>\n",
       "    </tr>\n",
       "    <tr>\n",
       "      <th>5</th>\n",
       "      <td>1000</td>\n",
       "      <td>10</td>\n",
       "      <td>73</td>\n",
       "    </tr>\n",
       "    <tr>\n",
       "      <th>6</th>\n",
       "      <td>1000</td>\n",
       "      <td>11</td>\n",
       "      <td>58</td>\n",
       "    </tr>\n",
       "    <tr>\n",
       "      <th>7</th>\n",
       "      <td>1000</td>\n",
       "      <td>12</td>\n",
       "      <td>70</td>\n",
       "    </tr>\n",
       "    <tr>\n",
       "      <th>8</th>\n",
       "      <td>1002</td>\n",
       "      <td>6</td>\n",
       "      <td>4</td>\n",
       "    </tr>\n",
       "    <tr>\n",
       "      <th>9</th>\n",
       "      <td>1002</td>\n",
       "      <td>7</td>\n",
       "      <td>11</td>\n",
       "    </tr>\n",
       "  </tbody>\n",
       "</table>\n",
       "</div>"
      ],
      "text/plain": [
       "   user_id  month  count_sms\n",
       "0     1000      5         22\n",
       "1     1000      6         60\n",
       "2     1000      7         75\n",
       "3     1000      8         81\n",
       "4     1000      9         57\n",
       "5     1000     10         73\n",
       "6     1000     11         58\n",
       "7     1000     12         70\n",
       "8     1002      6          4\n",
       "9     1002      7         11"
      ]
     },
     "metadata": {},
     "output_type": "display_data"
    }
   ],
   "source": [
    "data_messages['month']=pd.DatetimeIndex(data_messages['message_date']).month # добавление месяца для сообщений\n",
    "#сводная таблица по сообщениям\n",
    "user_messages=data_messages.pivot_table(index=['user_id','month'], values='message_date', aggfunc= ['count']).reset_index()  \n",
    "user_messages.columns = ['user_id','month','count_sms']\n",
    "display(user_messages.head(10))"
   ]
  },
  {
   "cell_type": "code",
   "execution_count": 10,
   "id": "8c800376",
   "metadata": {},
   "outputs": [
    {
     "data": {
      "text/html": [
       "<div>\n",
       "<style scoped>\n",
       "    .dataframe tbody tr th:only-of-type {\n",
       "        vertical-align: middle;\n",
       "    }\n",
       "\n",
       "    .dataframe tbody tr th {\n",
       "        vertical-align: top;\n",
       "    }\n",
       "\n",
       "    .dataframe thead th {\n",
       "        text-align: right;\n",
       "    }\n",
       "</style>\n",
       "<table border=\"1\" class=\"dataframe\">\n",
       "  <thead>\n",
       "    <tr style=\"text-align: right;\">\n",
       "      <th></th>\n",
       "      <th>user_id</th>\n",
       "      <th>month</th>\n",
       "      <th>trafik</th>\n",
       "    </tr>\n",
       "  </thead>\n",
       "  <tbody>\n",
       "    <tr>\n",
       "      <th>0</th>\n",
       "      <td>1000</td>\n",
       "      <td>5</td>\n",
       "      <td>3.0</td>\n",
       "    </tr>\n",
       "    <tr>\n",
       "      <th>1</th>\n",
       "      <td>1000</td>\n",
       "      <td>6</td>\n",
       "      <td>23.0</td>\n",
       "    </tr>\n",
       "    <tr>\n",
       "      <th>2</th>\n",
       "      <td>1000</td>\n",
       "      <td>7</td>\n",
       "      <td>14.0</td>\n",
       "    </tr>\n",
       "    <tr>\n",
       "      <th>3</th>\n",
       "      <td>1000</td>\n",
       "      <td>8</td>\n",
       "      <td>14.0</td>\n",
       "    </tr>\n",
       "    <tr>\n",
       "      <th>4</th>\n",
       "      <td>1000</td>\n",
       "      <td>9</td>\n",
       "      <td>15.0</td>\n",
       "    </tr>\n",
       "    <tr>\n",
       "      <th>5</th>\n",
       "      <td>1000</td>\n",
       "      <td>10</td>\n",
       "      <td>15.0</td>\n",
       "    </tr>\n",
       "    <tr>\n",
       "      <th>6</th>\n",
       "      <td>1000</td>\n",
       "      <td>11</td>\n",
       "      <td>15.0</td>\n",
       "    </tr>\n",
       "    <tr>\n",
       "      <th>7</th>\n",
       "      <td>1000</td>\n",
       "      <td>12</td>\n",
       "      <td>10.0</td>\n",
       "    </tr>\n",
       "    <tr>\n",
       "      <th>8</th>\n",
       "      <td>1001</td>\n",
       "      <td>11</td>\n",
       "      <td>18.0</td>\n",
       "    </tr>\n",
       "    <tr>\n",
       "      <th>9</th>\n",
       "      <td>1001</td>\n",
       "      <td>12</td>\n",
       "      <td>14.0</td>\n",
       "    </tr>\n",
       "  </tbody>\n",
       "</table>\n",
       "</div>"
      ],
      "text/plain": [
       "   user_id  month  trafik\n",
       "0     1000      5     3.0\n",
       "1     1000      6    23.0\n",
       "2     1000      7    14.0\n",
       "3     1000      8    14.0\n",
       "4     1000      9    15.0\n",
       "5     1000     10    15.0\n",
       "6     1000     11    15.0\n",
       "7     1000     12    10.0\n",
       "8     1001     11    18.0\n",
       "9     1001     12    14.0"
      ]
     },
     "metadata": {},
     "output_type": "display_data"
    }
   ],
   "source": [
    "data_internet['month']=pd.DatetimeIndex(data_internet['session_date']).month # добавление месяца для сообщений\n",
    "#сводная таблица использования интернета\n",
    "user_internet=data_internet.pivot_table(index=['user_id','month'], values='mb_used', aggfunc= ['sum']).reset_index()  \n",
    "user_internet.columns = ['user_id','month','trafik']\n",
    "for i in range(len(user_internet)):\n",
    "    user_internet['trafik'][i]=math.ceil(user_internet['trafik'][i]/1024)# перевод использованного трафика в Gb\n",
    "display(user_internet.head(10))"
   ]
  },
  {
   "cell_type": "markdown",
   "id": "038d9a0c",
   "metadata": {},
   "source": [
    "Построение сводной таблицы"
   ]
  },
  {
   "cell_type": "code",
   "execution_count": 11,
   "id": "646c10ed",
   "metadata": {},
   "outputs": [
    {
     "data": {
      "text/html": [
       "<div>\n",
       "<style scoped>\n",
       "    .dataframe tbody tr th:only-of-type {\n",
       "        vertical-align: middle;\n",
       "    }\n",
       "\n",
       "    .dataframe tbody tr th {\n",
       "        vertical-align: top;\n",
       "    }\n",
       "\n",
       "    .dataframe thead th {\n",
       "        text-align: right;\n",
       "    }\n",
       "</style>\n",
       "<table border=\"1\" class=\"dataframe\">\n",
       "  <thead>\n",
       "    <tr style=\"text-align: right;\">\n",
       "      <th></th>\n",
       "      <th>user_id</th>\n",
       "      <th>month</th>\n",
       "      <th>count_call</th>\n",
       "      <th>sum_call</th>\n",
       "      <th>count_sms</th>\n",
       "      <th>trafik</th>\n",
       "      <th>age</th>\n",
       "      <th>churn_date</th>\n",
       "      <th>city</th>\n",
       "      <th>first_name</th>\n",
       "      <th>last_name</th>\n",
       "      <th>reg_date</th>\n",
       "      <th>tariff</th>\n",
       "    </tr>\n",
       "  </thead>\n",
       "  <tbody>\n",
       "    <tr>\n",
       "      <th>0</th>\n",
       "      <td>1000</td>\n",
       "      <td>5.0</td>\n",
       "      <td>22.0</td>\n",
       "      <td>159.0</td>\n",
       "      <td>22.0</td>\n",
       "      <td>3.0</td>\n",
       "      <td>52</td>\n",
       "      <td>NaN</td>\n",
       "      <td>Краснодар</td>\n",
       "      <td>Рафаил</td>\n",
       "      <td>Верещагин</td>\n",
       "      <td>2018-05-25</td>\n",
       "      <td>ultra</td>\n",
       "    </tr>\n",
       "    <tr>\n",
       "      <th>1</th>\n",
       "      <td>1000</td>\n",
       "      <td>6.0</td>\n",
       "      <td>43.0</td>\n",
       "      <td>172.0</td>\n",
       "      <td>60.0</td>\n",
       "      <td>23.0</td>\n",
       "      <td>52</td>\n",
       "      <td>NaN</td>\n",
       "      <td>Краснодар</td>\n",
       "      <td>Рафаил</td>\n",
       "      <td>Верещагин</td>\n",
       "      <td>2018-05-25</td>\n",
       "      <td>ultra</td>\n",
       "    </tr>\n",
       "    <tr>\n",
       "      <th>2</th>\n",
       "      <td>1000</td>\n",
       "      <td>7.0</td>\n",
       "      <td>47.0</td>\n",
       "      <td>340.0</td>\n",
       "      <td>75.0</td>\n",
       "      <td>14.0</td>\n",
       "      <td>52</td>\n",
       "      <td>NaN</td>\n",
       "      <td>Краснодар</td>\n",
       "      <td>Рафаил</td>\n",
       "      <td>Верещагин</td>\n",
       "      <td>2018-05-25</td>\n",
       "      <td>ultra</td>\n",
       "    </tr>\n",
       "    <tr>\n",
       "      <th>3</th>\n",
       "      <td>1000</td>\n",
       "      <td>8.0</td>\n",
       "      <td>52.0</td>\n",
       "      <td>408.0</td>\n",
       "      <td>81.0</td>\n",
       "      <td>14.0</td>\n",
       "      <td>52</td>\n",
       "      <td>NaN</td>\n",
       "      <td>Краснодар</td>\n",
       "      <td>Рафаил</td>\n",
       "      <td>Верещагин</td>\n",
       "      <td>2018-05-25</td>\n",
       "      <td>ultra</td>\n",
       "    </tr>\n",
       "    <tr>\n",
       "      <th>4</th>\n",
       "      <td>1000</td>\n",
       "      <td>9.0</td>\n",
       "      <td>58.0</td>\n",
       "      <td>466.0</td>\n",
       "      <td>57.0</td>\n",
       "      <td>15.0</td>\n",
       "      <td>52</td>\n",
       "      <td>NaN</td>\n",
       "      <td>Краснодар</td>\n",
       "      <td>Рафаил</td>\n",
       "      <td>Верещагин</td>\n",
       "      <td>2018-05-25</td>\n",
       "      <td>ultra</td>\n",
       "    </tr>\n",
       "    <tr>\n",
       "      <th>5</th>\n",
       "      <td>1000</td>\n",
       "      <td>10.0</td>\n",
       "      <td>57.0</td>\n",
       "      <td>350.0</td>\n",
       "      <td>73.0</td>\n",
       "      <td>15.0</td>\n",
       "      <td>52</td>\n",
       "      <td>NaN</td>\n",
       "      <td>Краснодар</td>\n",
       "      <td>Рафаил</td>\n",
       "      <td>Верещагин</td>\n",
       "      <td>2018-05-25</td>\n",
       "      <td>ultra</td>\n",
       "    </tr>\n",
       "    <tr>\n",
       "      <th>6</th>\n",
       "      <td>1000</td>\n",
       "      <td>11.0</td>\n",
       "      <td>43.0</td>\n",
       "      <td>338.0</td>\n",
       "      <td>58.0</td>\n",
       "      <td>15.0</td>\n",
       "      <td>52</td>\n",
       "      <td>NaN</td>\n",
       "      <td>Краснодар</td>\n",
       "      <td>Рафаил</td>\n",
       "      <td>Верещагин</td>\n",
       "      <td>2018-05-25</td>\n",
       "      <td>ultra</td>\n",
       "    </tr>\n",
       "    <tr>\n",
       "      <th>7</th>\n",
       "      <td>1000</td>\n",
       "      <td>12.0</td>\n",
       "      <td>46.0</td>\n",
       "      <td>333.0</td>\n",
       "      <td>70.0</td>\n",
       "      <td>10.0</td>\n",
       "      <td>52</td>\n",
       "      <td>NaN</td>\n",
       "      <td>Краснодар</td>\n",
       "      <td>Рафаил</td>\n",
       "      <td>Верещагин</td>\n",
       "      <td>2018-05-25</td>\n",
       "      <td>ultra</td>\n",
       "    </tr>\n",
       "    <tr>\n",
       "      <th>8</th>\n",
       "      <td>1001</td>\n",
       "      <td>11.0</td>\n",
       "      <td>59.0</td>\n",
       "      <td>430.0</td>\n",
       "      <td>NaN</td>\n",
       "      <td>18.0</td>\n",
       "      <td>41</td>\n",
       "      <td>NaN</td>\n",
       "      <td>Москва</td>\n",
       "      <td>Иван</td>\n",
       "      <td>Ежов</td>\n",
       "      <td>2018-11-01</td>\n",
       "      <td>smart</td>\n",
       "    </tr>\n",
       "    <tr>\n",
       "      <th>9</th>\n",
       "      <td>1001</td>\n",
       "      <td>12.0</td>\n",
       "      <td>63.0</td>\n",
       "      <td>414.0</td>\n",
       "      <td>NaN</td>\n",
       "      <td>14.0</td>\n",
       "      <td>41</td>\n",
       "      <td>NaN</td>\n",
       "      <td>Москва</td>\n",
       "      <td>Иван</td>\n",
       "      <td>Ежов</td>\n",
       "      <td>2018-11-01</td>\n",
       "      <td>smart</td>\n",
       "    </tr>\n",
       "  </tbody>\n",
       "</table>\n",
       "</div>"
      ],
      "text/plain": [
       "   user_id  month  count_call  sum_call  count_sms  trafik  age churn_date  \\\n",
       "0     1000    5.0        22.0     159.0       22.0     3.0   52        NaN   \n",
       "1     1000    6.0        43.0     172.0       60.0    23.0   52        NaN   \n",
       "2     1000    7.0        47.0     340.0       75.0    14.0   52        NaN   \n",
       "3     1000    8.0        52.0     408.0       81.0    14.0   52        NaN   \n",
       "4     1000    9.0        58.0     466.0       57.0    15.0   52        NaN   \n",
       "5     1000   10.0        57.0     350.0       73.0    15.0   52        NaN   \n",
       "6     1000   11.0        43.0     338.0       58.0    15.0   52        NaN   \n",
       "7     1000   12.0        46.0     333.0       70.0    10.0   52        NaN   \n",
       "8     1001   11.0        59.0     430.0        NaN    18.0   41        NaN   \n",
       "9     1001   12.0        63.0     414.0        NaN    14.0   41        NaN   \n",
       "\n",
       "        city first_name  last_name    reg_date tariff  \n",
       "0  Краснодар     Рафаил  Верещагин  2018-05-25  ultra  \n",
       "1  Краснодар     Рафаил  Верещагин  2018-05-25  ultra  \n",
       "2  Краснодар     Рафаил  Верещагин  2018-05-25  ultra  \n",
       "3  Краснодар     Рафаил  Верещагин  2018-05-25  ultra  \n",
       "4  Краснодар     Рафаил  Верещагин  2018-05-25  ultra  \n",
       "5  Краснодар     Рафаил  Верещагин  2018-05-25  ultra  \n",
       "6  Краснодар     Рафаил  Верещагин  2018-05-25  ultra  \n",
       "7  Краснодар     Рафаил  Верещагин  2018-05-25  ultra  \n",
       "8     Москва       Иван       Ежов  2018-11-01  smart  \n",
       "9     Москва       Иван       Ежов  2018-11-01  smart  "
      ]
     },
     "metadata": {},
     "output_type": "display_data"
    },
    {
     "data": {
      "text/plain": [
       "user_id          0\n",
       "month            2\n",
       "count_call      42\n",
       "sum_call        42\n",
       "count_sms      499\n",
       "trafik          13\n",
       "age              0\n",
       "churn_date    3027\n",
       "city             0\n",
       "first_name       0\n",
       "last_name        0\n",
       "reg_date         0\n",
       "tariff           0\n",
       "dtype: int64"
      ]
     },
     "execution_count": 11,
     "metadata": {},
     "output_type": "execute_result"
    }
   ],
   "source": [
    "Value_user=pd.merge(user_calls,user_messages,on=['user_id','month'],how='outer')\n",
    "Value_user=pd.merge(Value_user,user_internet,on=['user_id','month'],how='outer')\n",
    "Value_user=pd.merge(Value_user,data_users,on=['user_id'],how='outer')\n",
    "\n",
    "display(Value_user.head(10))\n",
    "Value_user.isna().sum() #количество пропусков"
   ]
  },
  {
   "cell_type": "markdown",
   "id": "f631abea",
   "metadata": {},
   "source": [
    "Все пропущенные значения можно заменить на 0, т.к. это значит что данной услугой не пользованлись, кроме churn_date"
   ]
  },
  {
   "cell_type": "code",
   "execution_count": 12,
   "id": "cf54a889",
   "metadata": {},
   "outputs": [
    {
     "data": {
      "text/plain": [
       "user_id          0\n",
       "month            0\n",
       "count_call       0\n",
       "sum_call         0\n",
       "count_sms        0\n",
       "trafik           0\n",
       "age              0\n",
       "churn_date    3027\n",
       "city             0\n",
       "first_name       0\n",
       "last_name        0\n",
       "reg_date         0\n",
       "tariff           0\n",
       "dtype: int64"
      ]
     },
     "execution_count": 12,
     "metadata": {},
     "output_type": "execute_result"
    }
   ],
   "source": [
    "Value_user['count_call']=Value_user['count_call'].fillna(0)\n",
    "Value_user['sum_call']=Value_user['sum_call'].fillna(0)\n",
    "Value_user['count_sms']=Value_user['count_sms'].fillna(0)\n",
    "Value_user['trafik']=Value_user['trafik'].fillna(0)\n",
    "\n",
    "Value_user = Value_user.dropna(subset=['month'])\n",
    "\n",
    "Value_user.isna().sum() #количество пропусков"
   ]
  },
  {
   "cell_type": "code",
   "execution_count": 13,
   "id": "56009092",
   "metadata": {},
   "outputs": [
    {
     "data": {
      "text/plain": [
       "0"
      ]
     },
     "execution_count": 13,
     "metadata": {},
     "output_type": "execute_result"
    }
   ],
   "source": [
    "Value_user.duplicated().sum()  #проверка на дубликаты"
   ]
  },
  {
   "cell_type": "code",
   "execution_count": 14,
   "id": "b060dfb2",
   "metadata": {},
   "outputs": [
    {
     "data": {
      "text/html": [
       "<div>\n",
       "<style scoped>\n",
       "    .dataframe tbody tr th:only-of-type {\n",
       "        vertical-align: middle;\n",
       "    }\n",
       "\n",
       "    .dataframe tbody tr th {\n",
       "        vertical-align: top;\n",
       "    }\n",
       "\n",
       "    .dataframe thead th {\n",
       "        text-align: right;\n",
       "    }\n",
       "</style>\n",
       "<table border=\"1\" class=\"dataframe\">\n",
       "  <thead>\n",
       "    <tr style=\"text-align: right;\">\n",
       "      <th></th>\n",
       "      <th>user_id</th>\n",
       "      <th>month</th>\n",
       "      <th>count_call</th>\n",
       "      <th>sum_call</th>\n",
       "      <th>count_sms</th>\n",
       "      <th>trafik</th>\n",
       "      <th>age</th>\n",
       "      <th>churn_date</th>\n",
       "      <th>city</th>\n",
       "      <th>first_name</th>\n",
       "      <th>last_name</th>\n",
       "      <th>reg_date</th>\n",
       "      <th>tariff</th>\n",
       "    </tr>\n",
       "  </thead>\n",
       "  <tbody>\n",
       "    <tr>\n",
       "      <th>0</th>\n",
       "      <td>1000</td>\n",
       "      <td>5.0</td>\n",
       "      <td>22.0</td>\n",
       "      <td>159.0</td>\n",
       "      <td>22.0</td>\n",
       "      <td>3.0</td>\n",
       "      <td>52</td>\n",
       "      <td>NaN</td>\n",
       "      <td>Краснодар</td>\n",
       "      <td>Рафаил</td>\n",
       "      <td>Верещагин</td>\n",
       "      <td>2018-05-25</td>\n",
       "      <td>ultra</td>\n",
       "    </tr>\n",
       "    <tr>\n",
       "      <th>1</th>\n",
       "      <td>1000</td>\n",
       "      <td>6.0</td>\n",
       "      <td>43.0</td>\n",
       "      <td>172.0</td>\n",
       "      <td>60.0</td>\n",
       "      <td>23.0</td>\n",
       "      <td>52</td>\n",
       "      <td>NaN</td>\n",
       "      <td>Краснодар</td>\n",
       "      <td>Рафаил</td>\n",
       "      <td>Верещагин</td>\n",
       "      <td>2018-05-25</td>\n",
       "      <td>ultra</td>\n",
       "    </tr>\n",
       "    <tr>\n",
       "      <th>2</th>\n",
       "      <td>1000</td>\n",
       "      <td>7.0</td>\n",
       "      <td>47.0</td>\n",
       "      <td>340.0</td>\n",
       "      <td>75.0</td>\n",
       "      <td>14.0</td>\n",
       "      <td>52</td>\n",
       "      <td>NaN</td>\n",
       "      <td>Краснодар</td>\n",
       "      <td>Рафаил</td>\n",
       "      <td>Верещагин</td>\n",
       "      <td>2018-05-25</td>\n",
       "      <td>ultra</td>\n",
       "    </tr>\n",
       "    <tr>\n",
       "      <th>3</th>\n",
       "      <td>1000</td>\n",
       "      <td>8.0</td>\n",
       "      <td>52.0</td>\n",
       "      <td>408.0</td>\n",
       "      <td>81.0</td>\n",
       "      <td>14.0</td>\n",
       "      <td>52</td>\n",
       "      <td>NaN</td>\n",
       "      <td>Краснодар</td>\n",
       "      <td>Рафаил</td>\n",
       "      <td>Верещагин</td>\n",
       "      <td>2018-05-25</td>\n",
       "      <td>ultra</td>\n",
       "    </tr>\n",
       "    <tr>\n",
       "      <th>4</th>\n",
       "      <td>1000</td>\n",
       "      <td>9.0</td>\n",
       "      <td>58.0</td>\n",
       "      <td>466.0</td>\n",
       "      <td>57.0</td>\n",
       "      <td>15.0</td>\n",
       "      <td>52</td>\n",
       "      <td>NaN</td>\n",
       "      <td>Краснодар</td>\n",
       "      <td>Рафаил</td>\n",
       "      <td>Верещагин</td>\n",
       "      <td>2018-05-25</td>\n",
       "      <td>ultra</td>\n",
       "    </tr>\n",
       "    <tr>\n",
       "      <th>5</th>\n",
       "      <td>1000</td>\n",
       "      <td>10.0</td>\n",
       "      <td>57.0</td>\n",
       "      <td>350.0</td>\n",
       "      <td>73.0</td>\n",
       "      <td>15.0</td>\n",
       "      <td>52</td>\n",
       "      <td>NaN</td>\n",
       "      <td>Краснодар</td>\n",
       "      <td>Рафаил</td>\n",
       "      <td>Верещагин</td>\n",
       "      <td>2018-05-25</td>\n",
       "      <td>ultra</td>\n",
       "    </tr>\n",
       "    <tr>\n",
       "      <th>6</th>\n",
       "      <td>1000</td>\n",
       "      <td>11.0</td>\n",
       "      <td>43.0</td>\n",
       "      <td>338.0</td>\n",
       "      <td>58.0</td>\n",
       "      <td>15.0</td>\n",
       "      <td>52</td>\n",
       "      <td>NaN</td>\n",
       "      <td>Краснодар</td>\n",
       "      <td>Рафаил</td>\n",
       "      <td>Верещагин</td>\n",
       "      <td>2018-05-25</td>\n",
       "      <td>ultra</td>\n",
       "    </tr>\n",
       "    <tr>\n",
       "      <th>7</th>\n",
       "      <td>1000</td>\n",
       "      <td>12.0</td>\n",
       "      <td>46.0</td>\n",
       "      <td>333.0</td>\n",
       "      <td>70.0</td>\n",
       "      <td>10.0</td>\n",
       "      <td>52</td>\n",
       "      <td>NaN</td>\n",
       "      <td>Краснодар</td>\n",
       "      <td>Рафаил</td>\n",
       "      <td>Верещагин</td>\n",
       "      <td>2018-05-25</td>\n",
       "      <td>ultra</td>\n",
       "    </tr>\n",
       "    <tr>\n",
       "      <th>8</th>\n",
       "      <td>1001</td>\n",
       "      <td>11.0</td>\n",
       "      <td>59.0</td>\n",
       "      <td>430.0</td>\n",
       "      <td>0.0</td>\n",
       "      <td>18.0</td>\n",
       "      <td>41</td>\n",
       "      <td>NaN</td>\n",
       "      <td>Москва</td>\n",
       "      <td>Иван</td>\n",
       "      <td>Ежов</td>\n",
       "      <td>2018-11-01</td>\n",
       "      <td>smart</td>\n",
       "    </tr>\n",
       "    <tr>\n",
       "      <th>9</th>\n",
       "      <td>1001</td>\n",
       "      <td>12.0</td>\n",
       "      <td>63.0</td>\n",
       "      <td>414.0</td>\n",
       "      <td>0.0</td>\n",
       "      <td>14.0</td>\n",
       "      <td>41</td>\n",
       "      <td>NaN</td>\n",
       "      <td>Москва</td>\n",
       "      <td>Иван</td>\n",
       "      <td>Ежов</td>\n",
       "      <td>2018-11-01</td>\n",
       "      <td>smart</td>\n",
       "    </tr>\n",
       "  </tbody>\n",
       "</table>\n",
       "</div>"
      ],
      "text/plain": [
       "   user_id  month  count_call  sum_call  count_sms  trafik  age churn_date  \\\n",
       "0     1000    5.0        22.0     159.0       22.0     3.0   52        NaN   \n",
       "1     1000    6.0        43.0     172.0       60.0    23.0   52        NaN   \n",
       "2     1000    7.0        47.0     340.0       75.0    14.0   52        NaN   \n",
       "3     1000    8.0        52.0     408.0       81.0    14.0   52        NaN   \n",
       "4     1000    9.0        58.0     466.0       57.0    15.0   52        NaN   \n",
       "5     1000   10.0        57.0     350.0       73.0    15.0   52        NaN   \n",
       "6     1000   11.0        43.0     338.0       58.0    15.0   52        NaN   \n",
       "7     1000   12.0        46.0     333.0       70.0    10.0   52        NaN   \n",
       "8     1001   11.0        59.0     430.0        0.0    18.0   41        NaN   \n",
       "9     1001   12.0        63.0     414.0        0.0    14.0   41        NaN   \n",
       "\n",
       "        city first_name  last_name    reg_date tariff  \n",
       "0  Краснодар     Рафаил  Верещагин  2018-05-25  ultra  \n",
       "1  Краснодар     Рафаил  Верещагин  2018-05-25  ultra  \n",
       "2  Краснодар     Рафаил  Верещагин  2018-05-25  ultra  \n",
       "3  Краснодар     Рафаил  Верещагин  2018-05-25  ultra  \n",
       "4  Краснодар     Рафаил  Верещагин  2018-05-25  ultra  \n",
       "5  Краснодар     Рафаил  Верещагин  2018-05-25  ultra  \n",
       "6  Краснодар     Рафаил  Верещагин  2018-05-25  ultra  \n",
       "7  Краснодар     Рафаил  Верещагин  2018-05-25  ultra  \n",
       "8     Москва       Иван       Ежов  2018-11-01  smart  \n",
       "9     Москва       Иван       Ежов  2018-11-01  smart  "
      ]
     },
     "metadata": {},
     "output_type": "display_data"
    }
   ],
   "source": [
    "display(Value_user.head(10))"
   ]
  },
  {
   "cell_type": "markdown",
   "id": "ff4a7d5e",
   "metadata": {},
   "source": [
    "Помесячная выручка"
   ]
  },
  {
   "cell_type": "code",
   "execution_count": 15,
   "id": "4c16631d",
   "metadata": {},
   "outputs": [
    {
     "data": {
      "text/html": [
       "<div>\n",
       "<style scoped>\n",
       "    .dataframe tbody tr th:only-of-type {\n",
       "        vertical-align: middle;\n",
       "    }\n",
       "\n",
       "    .dataframe tbody tr th {\n",
       "        vertical-align: top;\n",
       "    }\n",
       "\n",
       "    .dataframe thead th {\n",
       "        text-align: right;\n",
       "    }\n",
       "</style>\n",
       "<table border=\"1\" class=\"dataframe\">\n",
       "  <thead>\n",
       "    <tr style=\"text-align: right;\">\n",
       "      <th></th>\n",
       "      <th>user_id</th>\n",
       "      <th>month</th>\n",
       "      <th>count_call</th>\n",
       "      <th>sum_call</th>\n",
       "      <th>count_sms</th>\n",
       "      <th>trafik</th>\n",
       "      <th>age</th>\n",
       "      <th>churn_date</th>\n",
       "      <th>city</th>\n",
       "      <th>first_name</th>\n",
       "      <th>last_name</th>\n",
       "      <th>reg_date</th>\n",
       "      <th>tariff</th>\n",
       "      <th>pay</th>\n",
       "    </tr>\n",
       "  </thead>\n",
       "  <tbody>\n",
       "    <tr>\n",
       "      <th>0</th>\n",
       "      <td>1000</td>\n",
       "      <td>5.0</td>\n",
       "      <td>22.0</td>\n",
       "      <td>159.0</td>\n",
       "      <td>22.0</td>\n",
       "      <td>3.0</td>\n",
       "      <td>52</td>\n",
       "      <td>NaN</td>\n",
       "      <td>Краснодар</td>\n",
       "      <td>Рафаил</td>\n",
       "      <td>Верещагин</td>\n",
       "      <td>2018-05-25</td>\n",
       "      <td>ultra</td>\n",
       "      <td>1950</td>\n",
       "    </tr>\n",
       "    <tr>\n",
       "      <th>1</th>\n",
       "      <td>1000</td>\n",
       "      <td>6.0</td>\n",
       "      <td>43.0</td>\n",
       "      <td>172.0</td>\n",
       "      <td>60.0</td>\n",
       "      <td>23.0</td>\n",
       "      <td>52</td>\n",
       "      <td>NaN</td>\n",
       "      <td>Краснодар</td>\n",
       "      <td>Рафаил</td>\n",
       "      <td>Верещагин</td>\n",
       "      <td>2018-05-25</td>\n",
       "      <td>ultra</td>\n",
       "      <td>1950</td>\n",
       "    </tr>\n",
       "    <tr>\n",
       "      <th>2</th>\n",
       "      <td>1000</td>\n",
       "      <td>7.0</td>\n",
       "      <td>47.0</td>\n",
       "      <td>340.0</td>\n",
       "      <td>75.0</td>\n",
       "      <td>14.0</td>\n",
       "      <td>52</td>\n",
       "      <td>NaN</td>\n",
       "      <td>Краснодар</td>\n",
       "      <td>Рафаил</td>\n",
       "      <td>Верещагин</td>\n",
       "      <td>2018-05-25</td>\n",
       "      <td>ultra</td>\n",
       "      <td>1950</td>\n",
       "    </tr>\n",
       "    <tr>\n",
       "      <th>3</th>\n",
       "      <td>1000</td>\n",
       "      <td>8.0</td>\n",
       "      <td>52.0</td>\n",
       "      <td>408.0</td>\n",
       "      <td>81.0</td>\n",
       "      <td>14.0</td>\n",
       "      <td>52</td>\n",
       "      <td>NaN</td>\n",
       "      <td>Краснодар</td>\n",
       "      <td>Рафаил</td>\n",
       "      <td>Верещагин</td>\n",
       "      <td>2018-05-25</td>\n",
       "      <td>ultra</td>\n",
       "      <td>1950</td>\n",
       "    </tr>\n",
       "    <tr>\n",
       "      <th>4</th>\n",
       "      <td>1000</td>\n",
       "      <td>9.0</td>\n",
       "      <td>58.0</td>\n",
       "      <td>466.0</td>\n",
       "      <td>57.0</td>\n",
       "      <td>15.0</td>\n",
       "      <td>52</td>\n",
       "      <td>NaN</td>\n",
       "      <td>Краснодар</td>\n",
       "      <td>Рафаил</td>\n",
       "      <td>Верещагин</td>\n",
       "      <td>2018-05-25</td>\n",
       "      <td>ultra</td>\n",
       "      <td>1950</td>\n",
       "    </tr>\n",
       "    <tr>\n",
       "      <th>5</th>\n",
       "      <td>1000</td>\n",
       "      <td>10.0</td>\n",
       "      <td>57.0</td>\n",
       "      <td>350.0</td>\n",
       "      <td>73.0</td>\n",
       "      <td>15.0</td>\n",
       "      <td>52</td>\n",
       "      <td>NaN</td>\n",
       "      <td>Краснодар</td>\n",
       "      <td>Рафаил</td>\n",
       "      <td>Верещагин</td>\n",
       "      <td>2018-05-25</td>\n",
       "      <td>ultra</td>\n",
       "      <td>1950</td>\n",
       "    </tr>\n",
       "    <tr>\n",
       "      <th>6</th>\n",
       "      <td>1000</td>\n",
       "      <td>11.0</td>\n",
       "      <td>43.0</td>\n",
       "      <td>338.0</td>\n",
       "      <td>58.0</td>\n",
       "      <td>15.0</td>\n",
       "      <td>52</td>\n",
       "      <td>NaN</td>\n",
       "      <td>Краснодар</td>\n",
       "      <td>Рафаил</td>\n",
       "      <td>Верещагин</td>\n",
       "      <td>2018-05-25</td>\n",
       "      <td>ultra</td>\n",
       "      <td>1950</td>\n",
       "    </tr>\n",
       "    <tr>\n",
       "      <th>7</th>\n",
       "      <td>1000</td>\n",
       "      <td>12.0</td>\n",
       "      <td>46.0</td>\n",
       "      <td>333.0</td>\n",
       "      <td>70.0</td>\n",
       "      <td>10.0</td>\n",
       "      <td>52</td>\n",
       "      <td>NaN</td>\n",
       "      <td>Краснодар</td>\n",
       "      <td>Рафаил</td>\n",
       "      <td>Верещагин</td>\n",
       "      <td>2018-05-25</td>\n",
       "      <td>ultra</td>\n",
       "      <td>1950</td>\n",
       "    </tr>\n",
       "    <tr>\n",
       "      <th>8</th>\n",
       "      <td>1001</td>\n",
       "      <td>11.0</td>\n",
       "      <td>59.0</td>\n",
       "      <td>430.0</td>\n",
       "      <td>0.0</td>\n",
       "      <td>18.0</td>\n",
       "      <td>41</td>\n",
       "      <td>NaN</td>\n",
       "      <td>Москва</td>\n",
       "      <td>Иван</td>\n",
       "      <td>Ежов</td>\n",
       "      <td>2018-11-01</td>\n",
       "      <td>smart</td>\n",
       "      <td>1150</td>\n",
       "    </tr>\n",
       "    <tr>\n",
       "      <th>9</th>\n",
       "      <td>1001</td>\n",
       "      <td>12.0</td>\n",
       "      <td>63.0</td>\n",
       "      <td>414.0</td>\n",
       "      <td>0.0</td>\n",
       "      <td>14.0</td>\n",
       "      <td>41</td>\n",
       "      <td>NaN</td>\n",
       "      <td>Москва</td>\n",
       "      <td>Иван</td>\n",
       "      <td>Ежов</td>\n",
       "      <td>2018-11-01</td>\n",
       "      <td>smart</td>\n",
       "      <td>550</td>\n",
       "    </tr>\n",
       "  </tbody>\n",
       "</table>\n",
       "</div>"
      ],
      "text/plain": [
       "   user_id  month  count_call  sum_call  count_sms  trafik  age churn_date  \\\n",
       "0     1000    5.0        22.0     159.0       22.0     3.0   52        NaN   \n",
       "1     1000    6.0        43.0     172.0       60.0    23.0   52        NaN   \n",
       "2     1000    7.0        47.0     340.0       75.0    14.0   52        NaN   \n",
       "3     1000    8.0        52.0     408.0       81.0    14.0   52        NaN   \n",
       "4     1000    9.0        58.0     466.0       57.0    15.0   52        NaN   \n",
       "5     1000   10.0        57.0     350.0       73.0    15.0   52        NaN   \n",
       "6     1000   11.0        43.0     338.0       58.0    15.0   52        NaN   \n",
       "7     1000   12.0        46.0     333.0       70.0    10.0   52        NaN   \n",
       "8     1001   11.0        59.0     430.0        0.0    18.0   41        NaN   \n",
       "9     1001   12.0        63.0     414.0        0.0    14.0   41        NaN   \n",
       "\n",
       "        city first_name  last_name    reg_date tariff   pay  \n",
       "0  Краснодар     Рафаил  Верещагин  2018-05-25  ultra  1950  \n",
       "1  Краснодар     Рафаил  Верещагин  2018-05-25  ultra  1950  \n",
       "2  Краснодар     Рафаил  Верещагин  2018-05-25  ultra  1950  \n",
       "3  Краснодар     Рафаил  Верещагин  2018-05-25  ultra  1950  \n",
       "4  Краснодар     Рафаил  Верещагин  2018-05-25  ultra  1950  \n",
       "5  Краснодар     Рафаил  Верещагин  2018-05-25  ultra  1950  \n",
       "6  Краснодар     Рафаил  Верещагин  2018-05-25  ultra  1950  \n",
       "7  Краснодар     Рафаил  Верещагин  2018-05-25  ultra  1950  \n",
       "8     Москва       Иван       Ежов  2018-11-01  smart  1150  \n",
       "9     Москва       Иван       Ежов  2018-11-01  smart   550  "
      ]
     },
     "metadata": {},
     "output_type": "display_data"
    }
   ],
   "source": [
    "Value_user['pay']=0\n",
    "for i in range(len(Value_user)): #цикл по всем пользователям с расчетом потраченных денег по месяцам\n",
    "    summa=0\n",
    "    if Value_user['tariff'][i]=='smart':\n",
    "        sms_price=data_tariffs['rub_per_message'][0]\n",
    "        min_price=data_tariffs['rub_per_minute'][0]\n",
    "        Gb_price=data_tariffs['rub_per_gb'][0]\n",
    "        total_min=data_tariffs['minutes_included'][0]\n",
    "        total_sms=data_tariffs['messages_included'][0]\n",
    "        total_Gb=data_tariffs['mb_per_month_included'][0]/1024\n",
    "        summa=data_tariffs['rub_monthly_fee'][0]\n",
    "        \n",
    "        if  Value_user['sum_call'][i]-total_min>0:\n",
    "            summa=summa+(Value_user['sum_call'][i]-total_min)*min_price\n",
    "        if  Value_user['count_sms'][i]-total_sms>0:\n",
    "            summa=summa+(Value_user['count_sms'][i]-total_sms)*sms_price\n",
    "        if  Value_user['trafik'][i]-total_Gb>0:\n",
    "            summa=summa+(Value_user['trafik'][i]-total_Gb)*Gb_price\n",
    "        \n",
    "    else:\n",
    "        sms_price=data_tariffs['rub_per_message'][1]\n",
    "        min_price=data_tariffs['rub_per_minute'][1]\n",
    "        Gb_price=data_tariffs['rub_per_gb'][1]\n",
    "        total_min=data_tariffs['minutes_included'][1]\n",
    "        total_sms=data_tariffs['messages_included'][1]\n",
    "        total_Gb=data_tariffs['mb_per_month_included'][1]/1024\n",
    "        summa=data_tariffs['rub_monthly_fee'][1]\n",
    "        \n",
    "        if  Value_user['sum_call'][i]-total_min>0:\n",
    "            summa=summa+(Value_user['sum_call'][i]-total_min)*min_price\n",
    "        if  Value_user['count_sms'][i]-total_sms>0:\n",
    "            summa=summa+(Value_user['count_sms'][i]-total_sms)*sms_price\n",
    "        if  Value_user['trafik'][i]-total_Gb>0:\n",
    "            summa=summa+(Value_user['trafik'][i]-total_Gb)*Gb_price\n",
    "        \n",
    "    Value_user['pay'][i]=summa\n",
    "display(Value_user.head(10)) # просмотр результата"
   ]
  },
  {
   "cell_type": "code",
   "execution_count": 16,
   "id": "dcf5a182",
   "metadata": {},
   "outputs": [
    {
     "name": "stdout",
     "output_type": "stream",
     "text": [
      "среднее количество потраценых минут в месяц для тарифа смарт = 386.76049870568664\n",
      "среднее количество потраценых минут в месяц для тарифа ультра = 495.9343101624627\n"
     ]
    },
    {
     "data": {
      "text/html": [
       "<div>\n",
       "<style scoped>\n",
       "    .dataframe tbody tr th:only-of-type {\n",
       "        vertical-align: middle;\n",
       "    }\n",
       "\n",
       "    .dataframe tbody tr th {\n",
       "        vertical-align: top;\n",
       "    }\n",
       "\n",
       "    .dataframe thead th {\n",
       "        text-align: right;\n",
       "    }\n",
       "</style>\n",
       "<table border=\"1\" class=\"dataframe\">\n",
       "  <thead>\n",
       "    <tr style=\"text-align: right;\">\n",
       "      <th></th>\n",
       "      <th>tariff</th>\n",
       "      <th>sum_call</th>\n",
       "    </tr>\n",
       "  </thead>\n",
       "  <tbody>\n",
       "    <tr>\n",
       "      <th>0</th>\n",
       "      <td>smart</td>\n",
       "      <td>417.934948</td>\n",
       "    </tr>\n",
       "    <tr>\n",
       "      <th>1</th>\n",
       "      <td>ultra</td>\n",
       "      <td>526.623350</td>\n",
       "    </tr>\n",
       "  </tbody>\n",
       "</table>\n",
       "</div>"
      ],
      "text/plain": [
       "  tariff    sum_call\n",
       "0  smart  417.934948\n",
       "1  ultra  526.623350"
      ]
     },
     "metadata": {},
     "output_type": "display_data"
    }
   ],
   "source": [
    "avr_call=Value_user.groupby(['month','tariff'])['sum_call'].mean().reset_index()# среднее по неделям для всех тарифов\n",
    "avr_call_smart=avr_call.query('tariff ==\"smart\"')  # среднее по неделям для тарифа \"smart\"\n",
    "avr_call_ultra=avr_call.query('tariff ==\"ultra\"') # среднее по неделям для тарифа \"ultra\"\n",
    "\n",
    "print('среднее количество потраценых минут в месяц для тарифа смарт =',avr_call_smart['sum_call'].mean())\n",
    "print('среднее количество потраценых минут в месяц для тарифа ультра =',avr_call_ultra['sum_call'].mean())\n",
    "\n",
    "\n",
    "avr_call=Value_user.groupby('tariff')['sum_call'].mean().reset_index() # среднее  по тарифам\n",
    "display(avr_call)\n"
   ]
  },
  {
   "cell_type": "markdown",
   "id": "6f902340",
   "metadata": {},
   "source": [
    "**Вывод**\n",
    "\n",
    "Клиенты тарифа ультра в среднем больше тратят времени на звонки, чем клиенты тарифа смарт. В среднем клиентам тарифа сматр нужно 387 минут, а клиентам тарифа ультра 496 минут."
   ]
  },
  {
   "cell_type": "markdown",
   "id": "9237c0b2",
   "metadata": {},
   "source": [
    "#### Дисперсия, стандартное отклонение и графики по тарифу смарт"
   ]
  },
  {
   "cell_type": "code",
   "execution_count": 17,
   "id": "18333f18",
   "metadata": {},
   "outputs": [
    {
     "name": "stdout",
     "output_type": "stream",
     "text": [
      "                 var        std        mean\n",
      "            sum_call   sum_call    sum_call\n",
      "tariff                                     \n",
      "smart   36219.315784  190.31373  417.934948\n"
     ]
    },
    {
     "data": {
      "text/plain": [
       "<AxesSubplot:ylabel='Frequency'>"
      ]
     },
     "execution_count": 17,
     "metadata": {},
     "output_type": "execute_result"
    },
    {
     "data": {
      "image/png": "[encoded data removed]",
      "text/plain": [
       "<Figure size 864x432 with 1 Axes>"
      ]
     },
     "metadata": {
      "needs_background": "light"
     },
     "output_type": "display_data"
    }
   ],
   "source": [
    "smart_div=Value_user.query('tariff ==\"smart\"') \n",
    "\n",
    "avr_call_smart=smart_div.pivot_table(index = 'tariff', values = ['sum_call'],aggfunc = ['var', 'std', 'mean'])\n",
    "print(avr_call_smart)\n",
    "\n",
    "smart_div.plot( y='sum_call',kind='hist',bins=20 ,grid=True, label='call_month',figsize=(12, 6))"
   ]
  },
  {
   "cell_type": "markdown",
   "id": "20a39d68",
   "metadata": {},
   "source": [
    "**Вывод**\n",
    "\n",
    "Среднее количество использованных минут в месяц составляет 417 для пользователей тарифа смарт. 99%  пользователей хватает 987 минут на разговор в месяц, что значительно больше стандартного пакета "
   ]
  },
  {
   "cell_type": "code",
   "execution_count": 18,
   "id": "a3971b5b",
   "metadata": {},
   "outputs": [
    {
     "name": "stdout",
     "output_type": "stream",
     "text": [
      "               var        std       mean\n",
      "         count_sms  count_sms  count_sms\n",
      "tariff                                  \n",
      "smart   796.812958  28.227876  33.384029\n"
     ]
    },
    {
     "data": {
      "text/plain": [
       "<AxesSubplot:ylabel='Frequency'>"
      ]
     },
     "execution_count": 18,
     "metadata": {},
     "output_type": "execute_result"
    },
    {
     "data": {
      "image/png": "[encoded data removed]",
      "text/plain": [
       "<Figure size 864x432 with 1 Axes>"
      ]
     },
     "metadata": {
      "needs_background": "light"
     },
     "output_type": "display_data"
    }
   ],
   "source": [
    "avr_sms=smart_div.pivot_table(index = 'tariff', values = ['count_sms'],aggfunc = ['var', 'std', 'mean'])\n",
    "print(avr_sms)\n",
    "\n",
    "smart_div.plot(y='count_sms',kind='hist',bins=20 ,grid=True, label='sms_month',figsize=(12, 6))"
   ]
  },
  {
   "cell_type": "markdown",
   "id": "6dfd5ada",
   "metadata": {},
   "source": [
    "**Вывод**\n",
    "\n",
    "Среднее количество использованных смс в месяц составляет 31 для пользователей тарифа смарт. 99%  пользователей хватает 117 смс в месяц. "
   ]
  },
  {
   "cell_type": "code",
   "execution_count": 19,
   "id": "858325ec",
   "metadata": {},
   "outputs": [
    {
     "name": "stdout",
     "output_type": "stream",
     "text": [
      "              var       std       mean\n",
      "           trafik    trafik     trafik\n",
      "tariff                                \n",
      "smart   33.028705  5.747061  16.328847\n"
     ]
    },
    {
     "data": {
      "text/plain": [
       "<AxesSubplot:ylabel='Frequency'>"
      ]
     },
     "execution_count": 19,
     "metadata": {},
     "output_type": "execute_result"
    },
    {
     "data": {
      "image/png": "[encoded data removed]",
      "text/plain": [
       "<Figure size 864x432 with 1 Axes>"
      ]
     },
     "metadata": {
      "needs_background": "light"
     },
     "output_type": "display_data"
    }
   ],
   "source": [
    "avr_Gb=smart_div.pivot_table(index = 'tariff', values = ['trafik'],aggfunc = ['var', 'std', 'mean'])\n",
    "print(avr_Gb)\n",
    "\n",
    "smart_div.plot( y='trafik',kind='hist',bins=20 ,grid=True, label='trafik_month',figsize=(12, 6))"
   ]
  },
  {
   "cell_type": "markdown",
   "id": "091018df",
   "metadata": {},
   "source": [
    "**Вывод**\n",
    "\n",
    "Среднее количество использованного трафика Gb в месяц составляет 16 для пользователей тарифа смарт, что больше чем предлагает стандартный пакет. 99%  пользователей хватает 34 Gb трафика в месяц. Таким образом больше половины пользователей тарифа смарт доплафивает за интернет."
   ]
  },
  {
   "cell_type": "code",
   "execution_count": 20,
   "id": "3ff2dc73",
   "metadata": {},
   "outputs": [
    {
     "name": "stdout",
     "output_type": "stream",
     "text": [
      "  tariff        var_pay     std_pay     mean_pay\n",
      "0  smart  669785.708006  818.404367  1289.973531\n",
      "Доля стандартных платежей= 25.44%\n"
     ]
    },
    {
     "data": {
      "text/plain": [
       "<AxesSubplot:ylabel='Frequency'>"
      ]
     },
     "execution_count": 20,
     "metadata": {},
     "output_type": "execute_result"
    },
    {
     "data": {
      "image/png": "[encoded data removed]",
      "text/plain": [
       "<Figure size 864x432 with 1 Axes>"
      ]
     },
     "metadata": {
      "needs_background": "light"
     },
     "output_type": "display_data"
    }
   ],
   "source": [
    "delta_pay_s=smart_div.pivot_table(index = 'tariff', values = ['pay'],aggfunc = ['var', 'std', 'mean']).reset_index() \n",
    "delta_pay_s.columns = ['tariff','var_pay','std_pay','mean_pay']\n",
    "print(delta_pay_s)\n",
    "\n",
    "smart_pay=smart_div.query('pay == 550').count()\n",
    "rezul=smart_pay['pay']/len(smart_div)\n",
    "print('Доля стандартных платежей=', f'{rezul:.2%}' )\n",
    "\n",
    "smart_div.plot( y='pay',kind='hist',bins=20 ,grid=True, label='call_month',figsize=(12, 6))"
   ]
  },
  {
   "cell_type": "markdown",
   "id": "56b84d61",
   "metadata": {},
   "source": [
    "**Вывод**\n",
    "Около 75% пользователей тарифа смарт платят больше, чем стандартная абонентская плата."
   ]
  },
  {
   "cell_type": "markdown",
   "id": "700206f7",
   "metadata": {},
   "source": [
    "#### Дисперсия, стандартное отклонение и графики по тарифу ультра"
   ]
  },
  {
   "cell_type": "code",
   "execution_count": 21,
   "id": "6da545be",
   "metadata": {},
   "outputs": [
    {
     "name": "stdout",
     "output_type": "stream",
     "text": [
      "                  var         std       mean\n",
      "             sum_call    sum_call   sum_call\n",
      "tariff                                      \n",
      "ultra   100873.633397  317.606098  526.62335\n"
     ]
    },
    {
     "data": {
      "text/plain": [
       "<AxesSubplot:ylabel='Frequency'>"
      ]
     },
     "execution_count": 21,
     "metadata": {},
     "output_type": "execute_result"
    },
    {
     "data": {
      "image/png": "[encoded data removed]",
      "text/plain": [
       "<Figure size 864x432 with 1 Axes>"
      ]
     },
     "metadata": {
      "needs_background": "light"
     },
     "output_type": "display_data"
    }
   ],
   "source": [
    "ultra_div=Value_user.query('tariff ==\"ultra\"') # данные тарифа  ультра\n",
    "avr_call=ultra_div.pivot_table(index = 'tariff', values = ['sum_call'],aggfunc = ['var', 'std', 'mean'])\n",
    "print(avr_call)\n",
    "\n",
    "ultra_div.plot(y='sum_call',kind='hist' ,bins=20,grid=True, label='call_month',figsize=(12, 6))"
   ]
  },
  {
   "cell_type": "markdown",
   "id": "faa49319",
   "metadata": {},
   "source": [
    "**Вывод**\n",
    "\n",
    "Среднее количество использованных минут в месяц составляет 526 для пользователей тарифа ультра. 99%  пользователей хватает 1477 минуты на разговор в месяц, что полностью вписывается в тарифный план."
   ]
  },
  {
   "cell_type": "code",
   "execution_count": 22,
   "id": "b6fdafb6",
   "metadata": {},
   "outputs": [
    {
     "name": "stdout",
     "output_type": "stream",
     "text": [
      "                var        std       mean\n",
      "          count_sms  count_sms  count_sms\n",
      "tariff                                   \n",
      "ultra   2285.266143  47.804457  49.363452\n"
     ]
    },
    {
     "data": {
      "text/plain": [
       "<AxesSubplot:ylabel='Frequency'>"
      ]
     },
     "execution_count": 22,
     "metadata": {},
     "output_type": "execute_result"
    },
    {
     "data": {
      "image/png": "[encoded data removed]",
      "text/plain": [
       "<Figure size 864x432 with 1 Axes>"
      ]
     },
     "metadata": {
      "needs_background": "light"
     },
     "output_type": "display_data"
    }
   ],
   "source": [
    "delta_sms=ultra_div.pivot_table(index = 'tariff', values = ['count_sms'],aggfunc = ['var', 'std', 'mean'])\n",
    "print(delta_sms)\n",
    "\n",
    "ultra_div.plot(y='count_sms',kind='hist',bins=20 ,grid=True, label='sms_month',figsize=(12, 6))"
   ]
  },
  {
   "cell_type": "markdown",
   "id": "397a7280",
   "metadata": {},
   "source": [
    "**Вывод**\n",
    "\n",
    "Среднее количество использованных смс в месяц составляет 49 для пользователей тарифа ультра. 99%  пользователей хватает 196 смс в месяц, что полностью вписывается в тарифный план ультра. "
   ]
  },
  {
   "cell_type": "code",
   "execution_count": 23,
   "id": "c9a003e1",
   "metadata": {},
   "outputs": [
    {
     "name": "stdout",
     "output_type": "stream",
     "text": [
      "              var       std       mean\n",
      "           trafik    trafik     trafik\n",
      "tariff                                \n",
      "ultra   97.091686  9.853511  19.494416\n"
     ]
    },
    {
     "data": {
      "text/plain": [
       "<AxesSubplot:ylabel='Frequency'>"
      ]
     },
     "execution_count": 23,
     "metadata": {},
     "output_type": "execute_result"
    },
    {
     "data": {
      "image/png": "[encoded data removed]",
      "text/plain": [
       "<Figure size 864x432 with 1 Axes>"
      ]
     },
     "metadata": {
      "needs_background": "light"
     },
     "output_type": "display_data"
    }
   ],
   "source": [
    "delta_Gb=ultra_div.pivot_table(index = 'tariff', values = ['trafik'],aggfunc = ['var', 'std', 'mean'])\n",
    "print(delta_Gb)\n",
    "\n",
    "ultra_div.plot(y='trafik',kind='hist',bins=20 ,grid=True, label='call_month',figsize=(12, 6))"
   ]
  },
  {
   "cell_type": "markdown",
   "id": "73163848",
   "metadata": {},
   "source": [
    "**Вывод**\n",
    "\n",
    "Среднее количество использованного трафика Gb в месяц составляет 20 для пользователей тарифа ультра, что несколько меньше чем предлагает тарифный план. 99%  пользователей хватает 50 Gb трафика в месяц. Таким образом меньше половины пользователей тарифа ультра доплафивает за интернет."
   ]
  },
  {
   "cell_type": "code",
   "execution_count": 24,
   "id": "8eaf0600",
   "metadata": {},
   "outputs": [
    {
     "name": "stdout",
     "output_type": "stream",
     "text": [
      "  tariff        var_pay     std_pay     mean_pay\n",
      "0  ultra  141516.745079  376.187114  2070.152284\n",
      "Доля стандартных платежей= 86.40%\n"
     ]
    },
    {
     "data": {
      "text/plain": [
       "<AxesSubplot:ylabel='Frequency'>"
      ]
     },
     "execution_count": 24,
     "metadata": {},
     "output_type": "execute_result"
    },
    {
     "data": {
      "image/png": "[encoded data removed]",
      "text/plain": [
       "<Figure size 864x432 with 1 Axes>"
      ]
     },
     "metadata": {
      "needs_background": "light"
     },
     "output_type": "display_data"
    }
   ],
   "source": [
    "delta_pay_u=ultra_div.pivot_table(index = 'tariff', values = ['pay'],aggfunc = ['var', 'std', 'mean']).reset_index() \n",
    "delta_pay_u.columns = ['tariff','var_pay','std_pay','mean_pay']\n",
    "print(delta_pay_u)\n",
    "\n",
    "ultra_pay=ultra_div.query('pay == 1950').count()\n",
    "rezul=ultra_pay['pay']/len(ultra_div)\n",
    "print('Доля стандартных платежей=', f'{rezul:.2%}' )\n",
    "\n",
    "ultra_div.plot(y='pay',kind='hist',bins=20 ,grid=True, label='call_month',figsize=(12, 6))"
   ]
  },
  {
   "cell_type": "markdown",
   "id": "cd2508ad",
   "metadata": {},
   "source": [
    "**Вывод**\n",
    "Около 13,5% пользователей тарифа  ультра платят больше, чем стандартная абонентская плата."
   ]
  },
  {
   "cell_type": "code",
   "execution_count": 25,
   "id": "0008fef6",
   "metadata": {},
   "outputs": [
    {
     "data": {
      "text/html": [
       "<div>\n",
       "<style scoped>\n",
       "    .dataframe tbody tr th:only-of-type {\n",
       "        vertical-align: middle;\n",
       "    }\n",
       "\n",
       "    .dataframe tbody tr th {\n",
       "        vertical-align: top;\n",
       "    }\n",
       "\n",
       "    .dataframe thead tr th {\n",
       "        text-align: left;\n",
       "    }\n",
       "\n",
       "    .dataframe thead tr:last-of-type th {\n",
       "        text-align: right;\n",
       "    }\n",
       "</style>\n",
       "<table border=\"1\" class=\"dataframe\">\n",
       "  <thead>\n",
       "    <tr>\n",
       "      <th></th>\n",
       "      <th colspan=\"3\" halign=\"left\">var</th>\n",
       "      <th colspan=\"3\" halign=\"left\">std</th>\n",
       "      <th colspan=\"3\" halign=\"left\">mean</th>\n",
       "    </tr>\n",
       "    <tr>\n",
       "      <th></th>\n",
       "      <th>count_sms</th>\n",
       "      <th>sum_call</th>\n",
       "      <th>trafik</th>\n",
       "      <th>count_sms</th>\n",
       "      <th>sum_call</th>\n",
       "      <th>trafik</th>\n",
       "      <th>count_sms</th>\n",
       "      <th>sum_call</th>\n",
       "      <th>trafik</th>\n",
       "    </tr>\n",
       "    <tr>\n",
       "      <th>tariff</th>\n",
       "      <th></th>\n",
       "      <th></th>\n",
       "      <th></th>\n",
       "      <th></th>\n",
       "      <th></th>\n",
       "      <th></th>\n",
       "      <th></th>\n",
       "      <th></th>\n",
       "      <th></th>\n",
       "    </tr>\n",
       "  </thead>\n",
       "  <tbody>\n",
       "    <tr>\n",
       "      <th>smart</th>\n",
       "      <td>796.812958</td>\n",
       "      <td>36219.315784</td>\n",
       "      <td>33.028705</td>\n",
       "      <td>28.227876</td>\n",
       "      <td>190.313730</td>\n",
       "      <td>5.747061</td>\n",
       "      <td>33.384029</td>\n",
       "      <td>417.934948</td>\n",
       "      <td>16.328847</td>\n",
       "    </tr>\n",
       "    <tr>\n",
       "      <th>ultra</th>\n",
       "      <td>2285.266143</td>\n",
       "      <td>100873.633397</td>\n",
       "      <td>97.091686</td>\n",
       "      <td>47.804457</td>\n",
       "      <td>317.606098</td>\n",
       "      <td>9.853511</td>\n",
       "      <td>49.363452</td>\n",
       "      <td>526.623350</td>\n",
       "      <td>19.494416</td>\n",
       "    </tr>\n",
       "  </tbody>\n",
       "</table>\n",
       "</div>"
      ],
      "text/plain": [
       "                var                                  std              \\\n",
       "          count_sms       sum_call     trafik  count_sms    sum_call   \n",
       "tariff                                                                 \n",
       "smart    796.812958   36219.315784  33.028705  28.227876  190.313730   \n",
       "ultra   2285.266143  100873.633397  97.091686  47.804457  317.606098   \n",
       "\n",
       "                       mean                         \n",
       "          trafik  count_sms    sum_call     trafik  \n",
       "tariff                                              \n",
       "smart   5.747061  33.384029  417.934948  16.328847  \n",
       "ultra   9.853511  49.363452  526.623350  19.494416  "
      ]
     },
     "execution_count": 25,
     "metadata": {},
     "output_type": "execute_result"
    }
   ],
   "source": [
    "\n",
    "Value_user.pivot_table(index = 'tariff', values = ['sum_call', 'trafik', 'count_sms'],\n",
    "                            aggfunc = ['var', 'std', 'mean'])"
   ]
  },
  {
   "cell_type": "markdown",
   "id": "a91a8718",
   "metadata": {},
   "source": [
    "### Проверка гипотез"
   ]
  },
  {
   "cell_type": "markdown",
   "id": "e707a2e1",
   "metadata": {},
   "source": [
    "#### Гипотеза Н0. Средняя выручка пользователей тарифов «Ультра» и «Смарт» совпадают.\n",
    "Гипотеза Н1 - Средняя выручка пользователей тарифов «Ультра» и «Смарт» различаются."
   ]
  },
  {
   "cell_type": "code",
   "execution_count": 32,
   "id": "b8dbda0f",
   "metadata": {},
   "outputs": [
    {
     "name": "stdout",
     "output_type": "stream",
     "text": [
      "Средняя выручка с тарифа смарт =  1289.9735307312696\n",
      "Средняя выручка с тарифа ультра =  2070.1522842639592\n",
      "p-значение: 1.4229814360764067e-160\n",
      "статистика: 28.611056741704818\n",
      "Отвергаем нулевую гипотезу Н0\n"
     ]
    }
   ],
   "source": [
    "print('Средняя выручка с тарифа смарт = ',delta_pay_s['mean_pay'][0]) \n",
    "print('Средняя выручка с тарифа ультра = ',delta_pay_u['mean_pay'][0])\n",
    "\n",
    "alpha = .05\n",
    "\n",
    "results=scipy.stats.ttest_ind(ultra_div['pay'],smart_div['pay'])\n",
    "print('p-значение:', results.pvalue)\n",
    "print('статистика:', results.statistic)\n",
    "\n",
    "if results.pvalue < alpha:\n",
    "    print(\"Отвергаем нулевую гипотезу Н0\")\n",
    "else:\n",
    "    print(\"Не отвергаем нулевую гипотезу Н0\") "
   ]
  },
  {
   "cell_type": "markdown",
   "id": "478ad1b3",
   "metadata": {},
   "source": [
    "**Вывод**\n",
    "Гипотеза не подтвердилась. Гипотеза Н1 - Средняя выручка пользователей тарифов «Ультра»  и «Смарт» различаются. Средняя выручка с тарифа ультра значительно больше по сравнению с тарифом смарт. "
   ]
  },
  {
   "cell_type": "markdown",
   "id": "9e488353",
   "metadata": {},
   "source": [
    "#### Гипотеза Н0. Средняя выручка пользователей из Москвы не отличается от выручки пользователей из других регионов?\n",
    "\n",
    "Гипотеза Н1.   Средняя выручка пользователей из Москвы отличается от выручки пользователей из других регионов?"
   ]
  },
  {
   "cell_type": "code",
   "execution_count": 37,
   "id": "e6a4bc66",
   "metadata": {},
   "outputs": [
    {
     "name": "stdout",
     "output_type": "stream",
     "text": [
      "p-значение: 0.5440152911670224\n",
      "статистика: 0.606816942705698\n",
      "Не отвергаем нулевую гипотезу Н0\n"
     ]
    }
   ],
   "source": [
    "Moscow_city=Value_user.query('city == \"Москва\"')\n",
    "other_city=Value_user.query('city != \"Москва\"')\n",
    "\n",
    "alpha = .05\n",
    "\n",
    "results=scipy.stats.ttest_ind(Moscow_city['pay'],other_city['pay'])\n",
    "print('p-значение:', results.pvalue)\n",
    "print('статистика:', results.statistic)\n",
    "\n",
    "if results.pvalue < alpha:\n",
    "    \n",
    "   \n",
    "    print(\"Отвергаем нулевую гипотезу Н0\")\n",
    "else:\n",
    "    print(\"Не отвергаем нулевую гипотезу Н0\") "
   ]
  },
  {
   "cell_type": "markdown",
   "id": "600bbe07",
   "metadata": {},
   "source": [
    "**Вывод**\n",
    "Средняя выручка пользователей из Москвы не отличается от средней выручки из других городов. Гипотеза Н0 подтвердилась."
   ]
  }
 ],
 "metadata": {
  "ExecuteTimeLog": [
   {
    "duration": 1164,
    "start_time": "2022-04-11T12:46:44.975Z"
   },
   {
    "duration": 222,
    "start_time": "2022-04-11T12:46:46.141Z"
   },
   {
    "duration": 0,
    "start_time": "2022-04-11T12:46:46.365Z"
   },
   {
    "duration": 0,
    "start_time": "2022-04-11T12:46:46.366Z"
   },
   {
    "duration": 0,
    "start_time": "2022-04-11T12:46:46.367Z"
   },
   {
    "duration": 0,
    "start_time": "2022-04-11T12:46:46.368Z"
   },
   {
    "duration": 0,
    "start_time": "2022-04-11T12:46:46.369Z"
   },
   {
    "duration": 0,
    "start_time": "2022-04-11T12:46:46.370Z"
   },
   {
    "duration": 0,
    "start_time": "2022-04-11T12:46:46.370Z"
   },
   {
    "duration": 0,
    "start_time": "2022-04-11T12:46:46.371Z"
   },
   {
    "duration": 0,
    "start_time": "2022-04-11T12:46:46.372Z"
   },
   {
    "duration": 0,
    "start_time": "2022-04-11T12:46:46.373Z"
   },
   {
    "duration": 0,
    "start_time": "2022-04-11T12:46:46.374Z"
   },
   {
    "duration": 0,
    "start_time": "2022-04-11T12:46:46.375Z"
   },
   {
    "duration": 0,
    "start_time": "2022-04-11T12:46:46.376Z"
   },
   {
    "duration": 0,
    "start_time": "2022-04-11T12:46:46.377Z"
   },
   {
    "duration": 0,
    "start_time": "2022-04-11T12:46:46.378Z"
   },
   {
    "duration": 0,
    "start_time": "2022-04-11T12:46:46.400Z"
   },
   {
    "duration": 0,
    "start_time": "2022-04-11T12:46:46.402Z"
   },
   {
    "duration": 0,
    "start_time": "2022-04-11T12:46:46.403Z"
   },
   {
    "duration": 0,
    "start_time": "2022-04-11T12:46:46.404Z"
   },
   {
    "duration": 0,
    "start_time": "2022-04-11T12:46:46.404Z"
   },
   {
    "duration": 0,
    "start_time": "2022-04-11T12:46:46.405Z"
   },
   {
    "duration": 0,
    "start_time": "2022-04-11T12:46:46.406Z"
   },
   {
    "duration": 0,
    "start_time": "2022-04-11T12:46:46.407Z"
   },
   {
    "duration": 0,
    "start_time": "2022-04-11T12:46:46.408Z"
   },
   {
    "duration": 0,
    "start_time": "2022-04-11T12:46:46.409Z"
   },
   {
    "duration": 0,
    "start_time": "2022-04-11T12:46:46.410Z"
   },
   {
    "duration": 1147,
    "start_time": "2022-04-11T12:46:54.090Z"
   },
   {
    "duration": 187,
    "start_time": "2022-04-11T12:46:55.239Z"
   },
   {
    "duration": 0,
    "start_time": "2022-04-11T12:46:55.429Z"
   },
   {
    "duration": 0,
    "start_time": "2022-04-11T12:46:55.430Z"
   },
   {
    "duration": 0,
    "start_time": "2022-04-11T12:46:55.431Z"
   },
   {
    "duration": 0,
    "start_time": "2022-04-11T12:46:55.432Z"
   },
   {
    "duration": 0,
    "start_time": "2022-04-11T12:46:55.432Z"
   },
   {
    "duration": 0,
    "start_time": "2022-04-11T12:46:55.433Z"
   },
   {
    "duration": 0,
    "start_time": "2022-04-11T12:46:55.434Z"
   },
   {
    "duration": 0,
    "start_time": "2022-04-11T12:46:55.435Z"
   },
   {
    "duration": 0,
    "start_time": "2022-04-11T12:46:55.436Z"
   },
   {
    "duration": 0,
    "start_time": "2022-04-11T12:46:55.437Z"
   },
   {
    "duration": 0,
    "start_time": "2022-04-11T12:46:55.438Z"
   },
   {
    "duration": 0,
    "start_time": "2022-04-11T12:46:55.439Z"
   },
   {
    "duration": 0,
    "start_time": "2022-04-11T12:46:55.440Z"
   },
   {
    "duration": 0,
    "start_time": "2022-04-11T12:46:55.441Z"
   },
   {
    "duration": 0,
    "start_time": "2022-04-11T12:46:55.441Z"
   },
   {
    "duration": 0,
    "start_time": "2022-04-11T12:46:55.442Z"
   },
   {
    "duration": 0,
    "start_time": "2022-04-11T12:46:55.443Z"
   },
   {
    "duration": 0,
    "start_time": "2022-04-11T12:46:55.444Z"
   },
   {
    "duration": 0,
    "start_time": "2022-04-11T12:46:55.445Z"
   },
   {
    "duration": 0,
    "start_time": "2022-04-11T12:46:55.446Z"
   },
   {
    "duration": 0,
    "start_time": "2022-04-11T12:46:55.447Z"
   },
   {
    "duration": 0,
    "start_time": "2022-04-11T12:46:55.447Z"
   },
   {
    "duration": 0,
    "start_time": "2022-04-11T12:46:55.448Z"
   },
   {
    "duration": 0,
    "start_time": "2022-04-11T12:46:55.449Z"
   },
   {
    "duration": 0,
    "start_time": "2022-04-11T12:46:55.450Z"
   },
   {
    "duration": 0,
    "start_time": "2022-04-11T12:46:55.451Z"
   },
   {
    "duration": 1140,
    "start_time": "2022-04-11T12:48:17.208Z"
   },
   {
    "duration": 234,
    "start_time": "2022-04-11T12:48:18.351Z"
   },
   {
    "duration": 235,
    "start_time": "2022-04-11T12:48:18.587Z"
   },
   {
    "duration": 109,
    "start_time": "2022-04-11T12:48:18.824Z"
   },
   {
    "duration": 27,
    "start_time": "2022-04-11T12:48:18.935Z"
   },
   {
    "duration": 53,
    "start_time": "2022-04-11T12:48:18.964Z"
   },
   {
    "duration": 373,
    "start_time": "2022-04-11T12:48:19.019Z"
   },
   {
    "duration": 50970,
    "start_time": "2022-04-11T12:48:19.393Z"
   },
   {
    "duration": 64,
    "start_time": "2022-04-11T12:49:10.365Z"
   },
   {
    "duration": 36,
    "start_time": "2022-04-11T12:49:10.432Z"
   },
   {
    "duration": 97,
    "start_time": "2022-04-11T12:49:10.470Z"
   },
   {
    "duration": 52,
    "start_time": "2022-04-11T12:49:10.569Z"
   },
   {
    "duration": 95,
    "start_time": "2022-04-11T12:49:10.622Z"
   },
   {
    "duration": 41,
    "start_time": "2022-04-11T12:49:10.719Z"
   },
   {
    "duration": 68,
    "start_time": "2022-04-11T12:49:10.762Z"
   },
   {
    "duration": 1618,
    "start_time": "2022-04-11T12:49:10.832Z"
   },
   {
    "duration": 19,
    "start_time": "2022-04-11T12:49:12.452Z"
   },
   {
    "duration": 246,
    "start_time": "2022-04-11T12:49:12.472Z"
   },
   {
    "duration": 201,
    "start_time": "2022-04-11T12:49:12.720Z"
   },
   {
    "duration": 203,
    "start_time": "2022-04-11T12:49:12.923Z"
   },
   {
    "duration": 227,
    "start_time": "2022-04-11T12:49:13.128Z"
   },
   {
    "duration": 225,
    "start_time": "2022-04-11T12:49:13.358Z"
   },
   {
    "duration": 216,
    "start_time": "2022-04-11T12:49:13.585Z"
   },
   {
    "duration": 204,
    "start_time": "2022-04-11T12:49:13.803Z"
   },
   {
    "duration": 204,
    "start_time": "2022-04-11T12:49:14.009Z"
   },
   {
    "duration": 5,
    "start_time": "2022-04-11T12:49:14.215Z"
   },
   {
    "duration": 1280,
    "start_time": "2022-04-11T12:49:14.222Z"
   },
   {
    "duration": 699,
    "start_time": "2022-04-11T12:49:15.506Z"
   },
   {
    "duration": 14,
    "start_time": "2022-04-11T12:50:36.052Z"
   },
   {
    "duration": 15,
    "start_time": "2022-04-11T12:51:16.123Z"
   },
   {
    "duration": 12,
    "start_time": "2022-04-11T12:52:19.473Z"
   },
   {
    "duration": 42,
    "start_time": "2022-04-11T12:52:50.076Z"
   },
   {
    "duration": 12,
    "start_time": "2022-04-11T12:52:52.295Z"
   },
   {
    "duration": 15,
    "start_time": "2022-04-11T12:53:34.725Z"
   },
   {
    "duration": 17,
    "start_time": "2022-04-11T12:56:11.338Z"
   },
   {
    "duration": 16,
    "start_time": "2022-04-11T13:05:46.665Z"
   },
   {
    "duration": 28,
    "start_time": "2022-04-11T13:06:10.427Z"
   },
   {
    "duration": 48,
    "start_time": "2022-04-11T19:42:26.762Z"
   },
   {
    "duration": 7,
    "start_time": "2022-04-11T19:42:30.526Z"
   },
   {
    "duration": 6,
    "start_time": "2022-04-11T19:43:24.945Z"
   },
   {
    "duration": 1348,
    "start_time": "2022-04-11T19:43:31.941Z"
   },
   {
    "duration": 219,
    "start_time": "2022-04-11T19:43:34.078Z"
   },
   {
    "duration": 165,
    "start_time": "2022-04-11T19:43:36.969Z"
   },
   {
    "duration": 121,
    "start_time": "2022-04-11T19:43:38.357Z"
   },
   {
    "duration": 25,
    "start_time": "2022-04-11T19:43:39.013Z"
   },
   {
    "duration": 32,
    "start_time": "2022-04-11T19:43:39.748Z"
   },
   {
    "duration": 354,
    "start_time": "2022-04-11T19:43:44.301Z"
   },
   {
    "duration": 64,
    "start_time": "2022-04-11T19:44:01.021Z"
   },
   {
    "duration": 104,
    "start_time": "2022-04-11T19:45:50.293Z"
   },
   {
    "duration": 118,
    "start_time": "2022-04-11T19:46:38.953Z"
   },
   {
    "duration": 155,
    "start_time": "2022-04-11T19:46:53.392Z"
   },
   {
    "duration": 103,
    "start_time": "2022-04-11T19:46:59.605Z"
   },
   {
    "duration": 2,
    "start_time": "2022-04-11T19:48:41.757Z"
   },
   {
    "duration": 108,
    "start_time": "2022-04-11T19:50:22.001Z"
   },
   {
    "duration": 103,
    "start_time": "2022-04-11T19:51:03.604Z"
   },
   {
    "duration": 41,
    "start_time": "2022-04-11T19:53:13.585Z"
   },
   {
    "duration": 55,
    "start_time": "2022-04-11T19:53:34.889Z"
   },
   {
    "duration": 58,
    "start_time": "2022-04-11T19:53:50.484Z"
   },
   {
    "duration": 56,
    "start_time": "2022-04-11T19:55:29.005Z"
   },
   {
    "duration": 48,
    "start_time": "2022-04-11T20:00:25.406Z"
   },
   {
    "duration": 66,
    "start_time": "2022-04-11T20:00:47.934Z"
   },
   {
    "duration": 60,
    "start_time": "2022-04-11T20:00:52.729Z"
   },
   {
    "duration": 54,
    "start_time": "2022-04-11T20:00:56.502Z"
   },
   {
    "duration": 1221,
    "start_time": "2022-04-11T20:10:54.373Z"
   },
   {
    "duration": 1048,
    "start_time": "2022-04-11T20:11:16.877Z"
   },
   {
    "duration": 320,
    "start_time": "2022-04-11T20:12:00.621Z"
   },
   {
    "duration": 3,
    "start_time": "2022-04-11T20:12:36.753Z"
   },
   {
    "duration": 65322,
    "start_time": "2022-04-11T20:13:50.037Z"
   },
   {
    "duration": 9,
    "start_time": "2022-04-11T20:17:29.473Z"
   },
   {
    "duration": 9,
    "start_time": "2022-04-11T20:18:07.597Z"
   },
   {
    "duration": 17,
    "start_time": "2022-04-11T20:22:15.497Z"
   },
   {
    "duration": 28,
    "start_time": "2022-04-11T20:22:27.825Z"
   },
   {
    "duration": 28,
    "start_time": "2022-04-11T20:22:59.433Z"
   },
   {
    "duration": 28,
    "start_time": "2022-04-11T20:23:14.771Z"
   },
   {
    "duration": 165,
    "start_time": "2022-04-11T20:23:25.569Z"
   },
   {
    "duration": 135,
    "start_time": "2022-04-11T20:23:26.241Z"
   },
   {
    "duration": 101,
    "start_time": "2022-04-11T20:23:26.813Z"
   },
   {
    "duration": 20,
    "start_time": "2022-04-11T20:23:27.462Z"
   },
   {
    "duration": 29,
    "start_time": "2022-04-11T20:23:28.042Z"
   },
   {
    "duration": 3,
    "start_time": "2022-04-11T20:23:28.889Z"
   },
   {
    "duration": 63107,
    "start_time": "2022-04-11T20:23:29.421Z"
   },
   {
    "duration": 54,
    "start_time": "2022-04-11T20:24:32.530Z"
   },
   {
    "duration": 1037,
    "start_time": "2022-04-11T20:24:32.586Z"
   },
   {
    "duration": 16,
    "start_time": "2022-04-11T20:24:33.626Z"
   },
   {
    "duration": 10,
    "start_time": "2022-04-11T20:24:33.644Z"
   },
   {
    "duration": 15,
    "start_time": "2022-04-11T20:25:16.749Z"
   },
   {
    "duration": 11,
    "start_time": "2022-04-11T20:25:29.049Z"
   },
   {
    "duration": 13,
    "start_time": "2022-04-11T20:25:31.545Z"
   },
   {
    "duration": 2,
    "start_time": "2022-04-11T20:25:34.345Z"
   },
   {
    "duration": 10,
    "start_time": "2022-04-11T20:26:34.409Z"
   },
   {
    "duration": 56,
    "start_time": "2022-04-12T07:57:50.421Z"
   },
   {
    "duration": 1270,
    "start_time": "2022-04-12T07:57:57.137Z"
   },
   {
    "duration": 188,
    "start_time": "2022-04-12T07:57:58.409Z"
   },
   {
    "duration": 152,
    "start_time": "2022-04-12T07:57:58.599Z"
   },
   {
    "duration": 101,
    "start_time": "2022-04-12T07:57:58.904Z"
   },
   {
    "duration": 22,
    "start_time": "2022-04-12T07:57:59.776Z"
   },
   {
    "duration": 33,
    "start_time": "2022-04-12T07:58:01.474Z"
   },
   {
    "duration": 2,
    "start_time": "2022-04-12T07:58:04.097Z"
   },
   {
    "duration": 62262,
    "start_time": "2022-04-12T07:58:04.937Z"
   },
   {
    "duration": 68,
    "start_time": "2022-04-12T07:59:07.201Z"
   },
   {
    "duration": 1041,
    "start_time": "2022-04-12T07:59:07.270Z"
   },
   {
    "duration": 17,
    "start_time": "2022-04-12T07:59:08.313Z"
   },
   {
    "duration": 11,
    "start_time": "2022-04-12T07:59:08.347Z"
   },
   {
    "duration": 15,
    "start_time": "2022-04-12T07:59:08.359Z"
   },
   {
    "duration": 15,
    "start_time": "2022-04-12T09:49:47.382Z"
   },
   {
    "duration": 17,
    "start_time": "2022-04-12T09:50:10.970Z"
   },
   {
    "duration": 3,
    "start_time": "2022-04-12T09:52:10.966Z"
   },
   {
    "duration": 2,
    "start_time": "2022-04-12T09:52:22.000Z"
   },
   {
    "duration": 2,
    "start_time": "2022-04-12T09:54:25.213Z"
   },
   {
    "duration": 89,
    "start_time": "2022-04-12T09:55:08.819Z"
   },
   {
    "duration": 12,
    "start_time": "2022-04-12T09:55:12.578Z"
   },
   {
    "duration": 61349,
    "start_time": "2022-04-12T09:55:36.310Z"
   },
   {
    "duration": 53,
    "start_time": "2022-04-12T09:56:37.661Z"
   },
   {
    "duration": 1026,
    "start_time": "2022-04-12T09:56:37.715Z"
   },
   {
    "duration": 16,
    "start_time": "2022-04-12T09:56:38.747Z"
   },
   {
    "duration": 14,
    "start_time": "2022-04-12T09:56:38.764Z"
   },
   {
    "duration": 14,
    "start_time": "2022-04-12T09:56:38.780Z"
   },
   {
    "duration": 2,
    "start_time": "2022-04-12T09:56:38.796Z"
   },
   {
    "duration": 15,
    "start_time": "2022-04-12T09:56:38.800Z"
   },
   {
    "duration": 15,
    "start_time": "2022-04-12T09:56:38.847Z"
   },
   {
    "duration": 2,
    "start_time": "2022-04-12T09:56:38.865Z"
   },
   {
    "duration": 4,
    "start_time": "2022-04-12T09:56:38.869Z"
   },
   {
    "duration": 4,
    "start_time": "2022-04-12T09:56:38.875Z"
   },
   {
    "duration": 9,
    "start_time": "2022-04-12T09:56:38.880Z"
   },
   {
    "duration": 20,
    "start_time": "2022-04-12T09:56:38.891Z"
   },
   {
    "duration": 62267,
    "start_time": "2022-04-12T10:00:45.700Z"
   },
   {
    "duration": 54,
    "start_time": "2022-04-12T10:01:47.969Z"
   },
   {
    "duration": 1024,
    "start_time": "2022-04-12T10:01:48.024Z"
   },
   {
    "duration": 9,
    "start_time": "2022-04-12T10:02:23.687Z"
   },
   {
    "duration": 118,
    "start_time": "2022-04-12T10:03:23.543Z"
   },
   {
    "duration": 30,
    "start_time": "2022-04-12T10:03:32.063Z"
   },
   {
    "duration": 15,
    "start_time": "2022-04-12T10:03:58.891Z"
   },
   {
    "duration": 15,
    "start_time": "2022-04-12T10:04:08.625Z"
   },
   {
    "duration": 15,
    "start_time": "2022-04-12T10:04:17.301Z"
   },
   {
    "duration": 18,
    "start_time": "2022-04-12T10:07:30.404Z"
   },
   {
    "duration": 26,
    "start_time": "2022-04-12T10:08:22.931Z"
   },
   {
    "duration": 29,
    "start_time": "2022-04-12T10:09:29.075Z"
   },
   {
    "duration": 38,
    "start_time": "2022-04-12T10:10:52.917Z"
   },
   {
    "duration": 35,
    "start_time": "2022-04-12T10:12:15.598Z"
   },
   {
    "duration": 3,
    "start_time": "2022-04-12T10:24:59.127Z"
   },
   {
    "duration": 13,
    "start_time": "2022-04-12T10:25:06.256Z"
   },
   {
    "duration": 103,
    "start_time": "2022-04-12T10:25:11.880Z"
   },
   {
    "duration": 12,
    "start_time": "2022-04-12T10:25:15.858Z"
   },
   {
    "duration": 1828,
    "start_time": "2022-04-12T10:27:35.802Z"
   },
   {
    "duration": 13,
    "start_time": "2022-04-12T10:28:10.438Z"
   },
   {
    "duration": 6,
    "start_time": "2022-04-12T10:28:32.120Z"
   },
   {
    "duration": 1835,
    "start_time": "2022-04-12T10:28:54.572Z"
   },
   {
    "duration": 3448,
    "start_time": "2022-04-12T10:29:13.446Z"
   },
   {
    "duration": 32,
    "start_time": "2022-04-12T10:29:25.871Z"
   },
   {
    "duration": 21,
    "start_time": "2022-04-12T10:29:54.362Z"
   },
   {
    "duration": 1763,
    "start_time": "2022-04-12T10:30:15.358Z"
   },
   {
    "duration": 107,
    "start_time": "2022-04-12T10:32:42.998Z"
   },
   {
    "duration": 11,
    "start_time": "2022-04-12T10:34:00.495Z"
   },
   {
    "duration": 9,
    "start_time": "2022-04-12T10:34:28.979Z"
   },
   {
    "duration": 8,
    "start_time": "2022-04-12T10:34:42.532Z"
   },
   {
    "duration": 9,
    "start_time": "2022-04-12T10:34:51.620Z"
   },
   {
    "duration": 130,
    "start_time": "2022-04-12T10:35:10.312Z"
   },
   {
    "duration": 20,
    "start_time": "2022-04-12T10:38:11.372Z"
   },
   {
    "duration": 22,
    "start_time": "2022-04-12T10:39:53.225Z"
   },
   {
    "duration": 10,
    "start_time": "2022-04-12T10:40:29.853Z"
   },
   {
    "duration": 10,
    "start_time": "2022-04-12T10:41:29.068Z"
   },
   {
    "duration": 8,
    "start_time": "2022-04-12T10:42:24.434Z"
   },
   {
    "duration": 2,
    "start_time": "2022-04-12T10:42:41.708Z"
   },
   {
    "duration": 2,
    "start_time": "2022-04-12T10:42:43.900Z"
   },
   {
    "duration": 9,
    "start_time": "2022-04-12T10:43:54.084Z"
   },
   {
    "duration": 3,
    "start_time": "2022-04-12T10:44:10.870Z"
   },
   {
    "duration": 2,
    "start_time": "2022-04-12T10:46:02.359Z"
   },
   {
    "duration": 15,
    "start_time": "2022-04-12T10:46:03.972Z"
   },
   {
    "duration": 1780,
    "start_time": "2022-04-12T10:48:57.755Z"
   },
   {
    "duration": 52,
    "start_time": "2022-04-12T10:50:05.281Z"
   },
   {
    "duration": 32,
    "start_time": "2022-04-12T10:50:19.210Z"
   },
   {
    "duration": 9,
    "start_time": "2022-04-12T10:50:38.604Z"
   },
   {
    "duration": 16,
    "start_time": "2022-04-12T10:50:46.380Z"
   },
   {
    "duration": 4049,
    "start_time": "2022-04-12T10:50:48.741Z"
   },
   {
    "duration": 1865,
    "start_time": "2022-04-12T10:51:27.387Z"
   },
   {
    "duration": 1270,
    "start_time": "2022-04-12T10:51:44.388Z"
   },
   {
    "duration": 1566,
    "start_time": "2022-04-12T10:51:58.735Z"
   },
   {
    "duration": 1303,
    "start_time": "2022-04-12T10:52:51.125Z"
   },
   {
    "duration": 17,
    "start_time": "2022-04-12T10:53:54.468Z"
   },
   {
    "duration": 18,
    "start_time": "2022-04-12T11:39:11.719Z"
   },
   {
    "duration": 193,
    "start_time": "2022-04-12T11:44:26.462Z"
   },
   {
    "duration": 175,
    "start_time": "2022-04-12T11:49:40.474Z"
   },
   {
    "duration": 189,
    "start_time": "2022-04-12T11:50:19.887Z"
   },
   {
    "duration": 172,
    "start_time": "2022-04-12T11:50:24.575Z"
   },
   {
    "duration": 183,
    "start_time": "2022-04-12T11:50:50.731Z"
   },
   {
    "duration": 17,
    "start_time": "2022-04-12T11:52:39.300Z"
   },
   {
    "duration": 21,
    "start_time": "2022-04-12T11:53:12.673Z"
   },
   {
    "duration": 22,
    "start_time": "2022-04-12T11:54:27.935Z"
   },
   {
    "duration": 14,
    "start_time": "2022-04-12T11:57:55.112Z"
   },
   {
    "duration": 14,
    "start_time": "2022-04-12T11:58:07.016Z"
   },
   {
    "duration": 191,
    "start_time": "2022-04-12T12:00:15.583Z"
   },
   {
    "duration": 196,
    "start_time": "2022-04-12T12:03:33.638Z"
   },
   {
    "duration": 201,
    "start_time": "2022-04-12T12:07:11.599Z"
   },
   {
    "duration": 235,
    "start_time": "2022-04-12T12:07:44.352Z"
   },
   {
    "duration": 160,
    "start_time": "2022-04-12T12:08:13.310Z"
   },
   {
    "duration": 17,
    "start_time": "2022-04-12T12:08:57.540Z"
   },
   {
    "duration": 166,
    "start_time": "2022-04-12T12:09:55.123Z"
   },
   {
    "duration": 175,
    "start_time": "2022-04-12T12:10:16.509Z"
   },
   {
    "duration": 457,
    "start_time": "2022-04-12T12:10:36.727Z"
   },
   {
    "duration": 172,
    "start_time": "2022-04-12T12:10:42.450Z"
   },
   {
    "duration": 18,
    "start_time": "2022-04-12T12:10:51.337Z"
   },
   {
    "duration": 167,
    "start_time": "2022-04-12T12:10:55.674Z"
   },
   {
    "duration": 166,
    "start_time": "2022-04-12T12:12:45.774Z"
   },
   {
    "duration": 165,
    "start_time": "2022-04-12T12:12:57.465Z"
   },
   {
    "duration": 172,
    "start_time": "2022-04-12T12:13:05.777Z"
   },
   {
    "duration": 17,
    "start_time": "2022-04-12T12:13:15.433Z"
   },
   {
    "duration": 157,
    "start_time": "2022-04-12T12:13:21.403Z"
   },
   {
    "duration": 165,
    "start_time": "2022-04-12T12:13:47.701Z"
   },
   {
    "duration": 250,
    "start_time": "2022-04-12T12:14:00.184Z"
   },
   {
    "duration": 11,
    "start_time": "2022-04-12T12:15:59.780Z"
   },
   {
    "duration": 30,
    "start_time": "2022-04-12T12:16:47.514Z"
   },
   {
    "duration": 19,
    "start_time": "2022-04-12T12:26:06.748Z"
   },
   {
    "duration": 31,
    "start_time": "2022-04-12T12:26:12.827Z"
   },
   {
    "duration": 13,
    "start_time": "2022-04-12T12:26:21.148Z"
   },
   {
    "duration": 19,
    "start_time": "2022-04-12T12:26:22.188Z"
   },
   {
    "duration": 15,
    "start_time": "2022-04-12T12:26:24.132Z"
   },
   {
    "duration": 182,
    "start_time": "2022-04-12T12:26:54.313Z"
   },
   {
    "duration": 163,
    "start_time": "2022-04-12T12:27:18.028Z"
   },
   {
    "duration": 168,
    "start_time": "2022-04-12T12:27:27.420Z"
   },
   {
    "duration": 167,
    "start_time": "2022-04-12T12:27:46.230Z"
   },
   {
    "duration": 161,
    "start_time": "2022-04-12T12:27:53.937Z"
   },
   {
    "duration": 1093,
    "start_time": "2022-04-12T12:28:01.693Z"
   },
   {
    "duration": 174,
    "start_time": "2022-04-12T12:28:02.787Z"
   },
   {
    "duration": 149,
    "start_time": "2022-04-12T12:28:02.962Z"
   },
   {
    "duration": 102,
    "start_time": "2022-04-12T12:28:03.113Z"
   },
   {
    "duration": 20,
    "start_time": "2022-04-12T12:28:03.217Z"
   },
   {
    "duration": 31,
    "start_time": "2022-04-12T12:28:03.239Z"
   },
   {
    "duration": 3,
    "start_time": "2022-04-12T12:28:03.271Z"
   },
   {
    "duration": 65073,
    "start_time": "2022-04-12T12:28:03.275Z"
   },
   {
    "duration": 99,
    "start_time": "2022-04-12T12:29:08.350Z"
   },
   {
    "duration": 1167,
    "start_time": "2022-04-12T12:29:08.450Z"
   },
   {
    "duration": 44,
    "start_time": "2022-04-12T12:29:09.618Z"
   },
   {
    "duration": 10,
    "start_time": "2022-04-12T12:29:09.663Z"
   },
   {
    "duration": 10,
    "start_time": "2022-04-12T12:29:09.675Z"
   },
   {
    "duration": 3,
    "start_time": "2022-04-12T12:29:09.688Z"
   },
   {
    "duration": 5,
    "start_time": "2022-04-12T12:29:09.693Z"
   },
   {
    "duration": 5,
    "start_time": "2022-04-12T12:29:09.700Z"
   },
   {
    "duration": 8,
    "start_time": "2022-04-12T12:29:09.706Z"
   },
   {
    "duration": 33,
    "start_time": "2022-04-12T12:29:09.715Z"
   },
   {
    "duration": 8,
    "start_time": "2022-04-12T12:29:09.750Z"
   },
   {
    "duration": 28,
    "start_time": "2022-04-12T12:29:09.760Z"
   },
   {
    "duration": 21,
    "start_time": "2022-04-12T12:29:09.790Z"
   },
   {
    "duration": 1306,
    "start_time": "2022-04-12T12:29:09.813Z"
   },
   {
    "duration": 13,
    "start_time": "2022-04-12T12:29:11.121Z"
   },
   {
    "duration": 197,
    "start_time": "2022-04-12T12:29:11.148Z"
   },
   {
    "duration": 180,
    "start_time": "2022-04-12T12:29:11.347Z"
   },
   {
    "duration": 2098,
    "start_time": "2022-04-12T12:29:11.528Z"
   },
   {
    "duration": 0,
    "start_time": "2022-04-12T12:29:13.627Z"
   },
   {
    "duration": 0,
    "start_time": "2022-04-12T12:29:13.628Z"
   },
   {
    "duration": 0,
    "start_time": "2022-04-12T12:29:13.630Z"
   },
   {
    "duration": 0,
    "start_time": "2022-04-12T12:29:13.631Z"
   },
   {
    "duration": 0,
    "start_time": "2022-04-12T12:29:13.632Z"
   },
   {
    "duration": 0,
    "start_time": "2022-04-12T12:29:13.633Z"
   },
   {
    "duration": 0,
    "start_time": "2022-04-12T12:29:13.634Z"
   },
   {
    "duration": 0,
    "start_time": "2022-04-12T12:29:13.635Z"
   },
   {
    "duration": 0,
    "start_time": "2022-04-12T12:29:13.636Z"
   },
   {
    "duration": 16,
    "start_time": "2022-04-12T12:29:57.863Z"
   },
   {
    "duration": 1259,
    "start_time": "2022-04-12T12:30:08.720Z"
   },
   {
    "duration": 14,
    "start_time": "2022-04-12T12:30:15.582Z"
   },
   {
    "duration": 19,
    "start_time": "2022-04-12T12:31:08.287Z"
   },
   {
    "duration": 164,
    "start_time": "2022-04-12T12:35:00.874Z"
   },
   {
    "duration": 163,
    "start_time": "2022-04-12T12:36:30.212Z"
   },
   {
    "duration": 14,
    "start_time": "2022-04-12T12:36:35.877Z"
   },
   {
    "duration": 16,
    "start_time": "2022-04-12T12:36:45.582Z"
   },
   {
    "duration": 176,
    "start_time": "2022-04-12T12:37:06.808Z"
   },
   {
    "duration": 1724,
    "start_time": "2022-04-12T12:37:09.361Z"
   },
   {
    "duration": 16,
    "start_time": "2022-04-12T12:38:10.255Z"
   },
   {
    "duration": 177,
    "start_time": "2022-04-12T12:38:21.073Z"
   },
   {
    "duration": 181,
    "start_time": "2022-04-12T12:40:52.482Z"
   },
   {
    "duration": 183,
    "start_time": "2022-04-12T12:41:41.632Z"
   },
   {
    "duration": 181,
    "start_time": "2022-04-12T12:42:37.774Z"
   },
   {
    "duration": 262,
    "start_time": "2022-04-12T12:42:46.904Z"
   },
   {
    "duration": 167,
    "start_time": "2022-04-12T12:44:27.830Z"
   },
   {
    "duration": 5331,
    "start_time": "2022-04-12T12:45:00.440Z"
   },
   {
    "duration": 194,
    "start_time": "2022-04-12T12:45:57.711Z"
   },
   {
    "duration": 1717,
    "start_time": "2022-04-12T12:46:38.652Z"
   },
   {
    "duration": 1727,
    "start_time": "2022-04-12T12:46:46.733Z"
   },
   {
    "duration": 19,
    "start_time": "2022-04-12T12:46:50.492Z"
   },
   {
    "duration": 178,
    "start_time": "2022-04-12T12:46:55.156Z"
   },
   {
    "duration": 164,
    "start_time": "2022-04-12T12:47:05.798Z"
   },
   {
    "duration": 181,
    "start_time": "2022-04-12T12:47:08.366Z"
   },
   {
    "duration": 174,
    "start_time": "2022-04-12T12:48:17.175Z"
   },
   {
    "duration": 175,
    "start_time": "2022-04-12T12:48:38.434Z"
   },
   {
    "duration": 20,
    "start_time": "2022-04-12T12:52:08.884Z"
   },
   {
    "duration": 20,
    "start_time": "2022-04-12T12:52:28.686Z"
   },
   {
    "duration": 179,
    "start_time": "2022-04-12T12:53:22.027Z"
   },
   {
    "duration": 232,
    "start_time": "2022-04-12T12:54:43.381Z"
   },
   {
    "duration": 208,
    "start_time": "2022-04-12T12:55:06.841Z"
   },
   {
    "duration": 289,
    "start_time": "2022-04-12T12:56:00.479Z"
   },
   {
    "duration": 205,
    "start_time": "2022-04-12T12:56:06.319Z"
   },
   {
    "duration": 1825,
    "start_time": "2022-04-12T13:01:35.173Z"
   },
   {
    "duration": 178,
    "start_time": "2022-04-12T13:01:56.808Z"
   },
   {
    "duration": 201,
    "start_time": "2022-04-12T13:02:12.841Z"
   },
   {
    "duration": 191,
    "start_time": "2022-04-12T13:02:47.950Z"
   },
   {
    "duration": 175,
    "start_time": "2022-04-12T13:03:03.304Z"
   },
   {
    "duration": 173,
    "start_time": "2022-04-12T13:03:23.811Z"
   },
   {
    "duration": 201,
    "start_time": "2022-04-12T13:04:12.760Z"
   },
   {
    "duration": 178,
    "start_time": "2022-04-12T13:04:59.549Z"
   },
   {
    "duration": 170,
    "start_time": "2022-04-12T13:05:09.431Z"
   },
   {
    "duration": 184,
    "start_time": "2022-04-12T13:05:33.673Z"
   },
   {
    "duration": 190,
    "start_time": "2022-04-12T13:05:50.435Z"
   },
   {
    "duration": 285,
    "start_time": "2022-04-12T13:06:08.727Z"
   },
   {
    "duration": 184,
    "start_time": "2022-04-12T13:06:55.882Z"
   },
   {
    "duration": 172,
    "start_time": "2022-04-12T13:07:29.766Z"
   },
   {
    "duration": 186,
    "start_time": "2022-04-12T13:07:36.007Z"
   },
   {
    "duration": 175,
    "start_time": "2022-04-12T13:07:50.682Z"
   },
   {
    "duration": 185,
    "start_time": "2022-04-12T13:08:17.720Z"
   },
   {
    "duration": 178,
    "start_time": "2022-04-12T13:09:03.634Z"
   },
   {
    "duration": 177,
    "start_time": "2022-04-12T13:09:20.420Z"
   },
   {
    "duration": 213,
    "start_time": "2022-04-12T13:11:14.761Z"
   },
   {
    "duration": 199,
    "start_time": "2022-04-12T13:11:39.436Z"
   },
   {
    "duration": 188,
    "start_time": "2022-04-12T13:11:53.373Z"
   },
   {
    "duration": 191,
    "start_time": "2022-04-12T13:12:48.291Z"
   },
   {
    "duration": 197,
    "start_time": "2022-04-12T13:13:44.932Z"
   },
   {
    "duration": 16,
    "start_time": "2022-04-12T13:15:34.351Z"
   },
   {
    "duration": 2021,
    "start_time": "2022-04-12T13:15:50.585Z"
   },
   {
    "duration": 175,
    "start_time": "2022-04-12T13:15:54.514Z"
   },
   {
    "duration": 169,
    "start_time": "2022-04-12T13:16:00.091Z"
   },
   {
    "duration": 336,
    "start_time": "2022-04-12T13:17:13.844Z"
   },
   {
    "duration": 182,
    "start_time": "2022-04-12T13:17:49.271Z"
   },
   {
    "duration": 186,
    "start_time": "2022-04-12T13:18:16.523Z"
   },
   {
    "duration": 183,
    "start_time": "2022-04-12T13:18:52.919Z"
   },
   {
    "duration": 179,
    "start_time": "2022-04-12T13:20:08.783Z"
   },
   {
    "duration": 165,
    "start_time": "2022-04-12T13:21:36.706Z"
   },
   {
    "duration": 2276,
    "start_time": "2022-04-12T13:23:21.334Z"
   },
   {
    "duration": 191,
    "start_time": "2022-04-12T13:23:37.145Z"
   },
   {
    "duration": 2310,
    "start_time": "2022-04-12T13:24:04.987Z"
   },
   {
    "duration": 187,
    "start_time": "2022-04-12T13:24:13.957Z"
   },
   {
    "duration": 174,
    "start_time": "2022-04-12T13:24:21.485Z"
   },
   {
    "duration": 1955,
    "start_time": "2022-04-12T13:25:26.342Z"
   },
   {
    "duration": 195,
    "start_time": "2022-04-12T13:25:55.633Z"
   },
   {
    "duration": 196,
    "start_time": "2022-04-12T13:26:24.882Z"
   },
   {
    "duration": 29,
    "start_time": "2022-04-12T13:27:12.544Z"
   },
   {
    "duration": 8,
    "start_time": "2022-04-12T13:27:17.904Z"
   },
   {
    "duration": 16,
    "start_time": "2022-04-12T13:37:54.771Z"
   },
   {
    "duration": 4,
    "start_time": "2022-04-12T13:38:29.768Z"
   },
   {
    "duration": 478,
    "start_time": "2022-04-12T13:38:44.010Z"
   },
   {
    "duration": 581,
    "start_time": "2022-04-12T13:42:03.370Z"
   },
   {
    "duration": 19,
    "start_time": "2022-04-12T13:42:39.199Z"
   },
   {
    "duration": 22,
    "start_time": "2022-04-12T13:45:48.412Z"
   },
   {
    "duration": 15,
    "start_time": "2022-04-12T13:46:39.050Z"
   },
   {
    "duration": 18,
    "start_time": "2022-04-12T13:46:51.802Z"
   },
   {
    "duration": 17,
    "start_time": "2022-04-12T13:47:02.420Z"
   },
   {
    "duration": 4,
    "start_time": "2022-04-12T13:47:20.886Z"
   },
   {
    "duration": 17,
    "start_time": "2022-04-12T13:47:25.447Z"
   },
   {
    "duration": 21,
    "start_time": "2022-04-12T13:47:40.961Z"
   },
   {
    "duration": 18,
    "start_time": "2022-04-12T13:47:53.081Z"
   },
   {
    "duration": 27,
    "start_time": "2022-04-12T13:47:58.058Z"
   },
   {
    "duration": 20,
    "start_time": "2022-04-12T13:48:15.252Z"
   },
   {
    "duration": 19,
    "start_time": "2022-04-12T13:48:41.203Z"
   },
   {
    "duration": 19,
    "start_time": "2022-04-12T13:55:20.318Z"
   },
   {
    "duration": 133,
    "start_time": "2022-04-12T13:55:41.064Z"
   },
   {
    "duration": 128,
    "start_time": "2022-04-12T13:55:46.761Z"
   },
   {
    "duration": 18,
    "start_time": "2022-04-12T13:56:00.195Z"
   },
   {
    "duration": 16,
    "start_time": "2022-04-12T14:00:46.237Z"
   },
   {
    "duration": 7,
    "start_time": "2022-04-12T14:02:33.937Z"
   },
   {
    "duration": 9,
    "start_time": "2022-04-12T14:03:01.404Z"
   },
   {
    "duration": 14,
    "start_time": "2022-04-12T14:03:49.571Z"
   },
   {
    "duration": 10,
    "start_time": "2022-04-12T14:04:01.515Z"
   },
   {
    "duration": 11,
    "start_time": "2022-04-12T14:04:40.288Z"
   },
   {
    "duration": 11,
    "start_time": "2022-04-12T14:06:46.591Z"
   },
   {
    "duration": 111,
    "start_time": "2022-04-12T14:07:13.714Z"
   },
   {
    "duration": 13,
    "start_time": "2022-04-12T14:07:21.346Z"
   },
   {
    "duration": 27,
    "start_time": "2022-04-12T14:08:52.406Z"
   },
   {
    "duration": 197,
    "start_time": "2022-04-12T14:08:58.877Z"
   },
   {
    "duration": 2059,
    "start_time": "2022-04-12T14:09:25.561Z"
   },
   {
    "duration": 1718,
    "start_time": "2022-04-12T14:09:44.483Z"
   },
   {
    "duration": 202,
    "start_time": "2022-04-12T14:10:19.447Z"
   },
   {
    "duration": 188,
    "start_time": "2022-04-12T14:10:31.329Z"
   },
   {
    "duration": 199,
    "start_time": "2022-04-12T14:10:36.705Z"
   },
   {
    "duration": 1780,
    "start_time": "2022-04-12T14:10:39.602Z"
   },
   {
    "duration": 14,
    "start_time": "2022-04-12T14:10:52.611Z"
   },
   {
    "duration": 1796,
    "start_time": "2022-04-12T14:10:59.052Z"
   },
   {
    "duration": 2728,
    "start_time": "2022-04-12T14:11:10.414Z"
   },
   {
    "duration": 12,
    "start_time": "2022-04-12T14:11:26.960Z"
   },
   {
    "duration": 11,
    "start_time": "2022-04-12T14:11:37.200Z"
   },
   {
    "duration": 6,
    "start_time": "2022-04-12T14:12:44.923Z"
   },
   {
    "duration": 6,
    "start_time": "2022-04-12T14:13:32.350Z"
   },
   {
    "duration": 6,
    "start_time": "2022-04-12T14:24:44.262Z"
   },
   {
    "duration": 6,
    "start_time": "2022-04-12T19:11:35.504Z"
   },
   {
    "duration": 7,
    "start_time": "2022-04-12T19:13:02.027Z"
   },
   {
    "duration": 11,
    "start_time": "2022-04-12T19:23:49.020Z"
   },
   {
    "duration": 38,
    "start_time": "2022-04-12T19:24:46.363Z"
   },
   {
    "duration": 14,
    "start_time": "2022-04-12T19:27:18.708Z"
   },
   {
    "duration": 25,
    "start_time": "2022-04-12T19:27:30.968Z"
   },
   {
    "duration": 28,
    "start_time": "2022-04-12T19:28:29.552Z"
   },
   {
    "duration": 10,
    "start_time": "2022-04-12T19:28:35.056Z"
   },
   {
    "duration": 11,
    "start_time": "2022-04-12T19:28:55.580Z"
   },
   {
    "duration": 11,
    "start_time": "2022-04-12T19:30:10.820Z"
   },
   {
    "duration": 11,
    "start_time": "2022-04-12T19:34:08.199Z"
   },
   {
    "duration": 144,
    "start_time": "2022-04-12T19:36:29.983Z"
   },
   {
    "duration": 17,
    "start_time": "2022-04-12T19:36:55.675Z"
   },
   {
    "duration": 107,
    "start_time": "2022-04-12T19:41:29.127Z"
   },
   {
    "duration": 127,
    "start_time": "2022-04-12T19:41:39.588Z"
   },
   {
    "duration": 13,
    "start_time": "2022-04-12T19:41:58.499Z"
   },
   {
    "duration": 14,
    "start_time": "2022-04-12T19:44:25.427Z"
   },
   {
    "duration": 14,
    "start_time": "2022-04-12T19:44:38.523Z"
   },
   {
    "duration": 12,
    "start_time": "2022-04-12T19:44:52.223Z"
   },
   {
    "duration": 1386,
    "start_time": "2022-04-13T18:49:32.707Z"
   },
   {
    "duration": 286,
    "start_time": "2022-04-13T18:49:34.096Z"
   },
   {
    "duration": 195,
    "start_time": "2022-04-13T18:49:34.384Z"
   },
   {
    "duration": 154,
    "start_time": "2022-04-13T18:49:34.581Z"
   },
   {
    "duration": 34,
    "start_time": "2022-04-13T18:49:34.737Z"
   },
   {
    "duration": 79,
    "start_time": "2022-04-13T18:49:34.774Z"
   },
   {
    "duration": 73169,
    "start_time": "2022-04-13T18:49:34.856Z"
   },
   {
    "duration": 102,
    "start_time": "2022-04-13T18:50:48.030Z"
   },
   {
    "duration": 1219,
    "start_time": "2022-04-13T18:50:48.138Z"
   },
   {
    "duration": 52,
    "start_time": "2022-04-13T18:50:49.361Z"
   },
   {
    "duration": 35,
    "start_time": "2022-04-13T18:50:49.415Z"
   },
   {
    "duration": 22,
    "start_time": "2022-04-13T18:50:49.452Z"
   },
   {
    "duration": 16,
    "start_time": "2022-04-13T18:50:49.476Z"
   },
   {
    "duration": 1476,
    "start_time": "2022-04-13T18:50:49.494Z"
   },
   {
    "duration": 25,
    "start_time": "2022-04-13T18:50:50.973Z"
   },
   {
    "duration": 270,
    "start_time": "2022-04-13T18:50:51.000Z"
   },
   {
    "duration": 211,
    "start_time": "2022-04-13T18:50:51.272Z"
   },
   {
    "duration": 223,
    "start_time": "2022-04-13T18:50:51.485Z"
   },
   {
    "duration": 235,
    "start_time": "2022-04-13T18:50:51.709Z"
   },
   {
    "duration": 237,
    "start_time": "2022-04-13T18:50:51.946Z"
   },
   {
    "duration": 211,
    "start_time": "2022-04-13T18:50:52.185Z"
   },
   {
    "duration": 224,
    "start_time": "2022-04-13T18:50:52.397Z"
   },
   {
    "duration": 240,
    "start_time": "2022-04-13T18:50:52.622Z"
   },
   {
    "duration": 30,
    "start_time": "2022-04-13T18:50:52.863Z"
   },
   {
    "duration": 12,
    "start_time": "2022-04-13T18:50:52.895Z"
   },
   {
    "duration": 1476,
    "start_time": "2022-04-13T18:50:52.923Z"
   },
   {
    "duration": 1174,
    "start_time": "2022-04-13T18:50:54.401Z"
   },
   {
    "duration": 12,
    "start_time": "2022-04-13T18:55:05.099Z"
   },
   {
    "duration": 16,
    "start_time": "2022-04-13T19:02:39.122Z"
   },
   {
    "duration": 1572,
    "start_time": "2022-04-13T19:05:15.663Z"
   },
   {
    "duration": 1427,
    "start_time": "2022-04-13T19:05:23.655Z"
   },
   {
    "duration": 1383,
    "start_time": "2022-04-13T19:05:48.210Z"
   },
   {
    "duration": 1583,
    "start_time": "2022-04-13T19:06:26.886Z"
   },
   {
    "duration": 1442,
    "start_time": "2022-04-13T19:06:35.806Z"
   },
   {
    "duration": 1452,
    "start_time": "2022-04-13T19:06:53.866Z"
   },
   {
    "duration": 1396,
    "start_time": "2022-04-13T19:07:56.859Z"
   },
   {
    "duration": 10,
    "start_time": "2022-04-13T19:09:30.295Z"
   },
   {
    "duration": 9,
    "start_time": "2022-04-13T19:13:42.883Z"
   },
   {
    "duration": 1166,
    "start_time": "2022-04-14T07:35:21.972Z"
   },
   {
    "duration": 261,
    "start_time": "2022-04-14T07:35:23.141Z"
   },
   {
    "duration": 174,
    "start_time": "2022-04-14T07:35:23.404Z"
   },
   {
    "duration": 116,
    "start_time": "2022-04-14T07:35:23.580Z"
   },
   {
    "duration": 34,
    "start_time": "2022-04-14T07:35:23.698Z"
   },
   {
    "duration": 43,
    "start_time": "2022-04-14T07:35:23.734Z"
   },
   {
    "duration": 69217,
    "start_time": "2022-04-14T07:35:23.778Z"
   },
   {
    "duration": 63,
    "start_time": "2022-04-14T07:36:32.997Z"
   },
   {
    "duration": 1119,
    "start_time": "2022-04-14T07:36:33.062Z"
   },
   {
    "duration": 44,
    "start_time": "2022-04-14T07:36:34.183Z"
   },
   {
    "duration": 10,
    "start_time": "2022-04-14T07:36:34.229Z"
   },
   {
    "duration": 9,
    "start_time": "2022-04-14T07:36:34.241Z"
   },
   {
    "duration": 14,
    "start_time": "2022-04-14T07:36:34.252Z"
   },
   {
    "duration": 1359,
    "start_time": "2022-04-14T07:36:34.268Z"
   },
   {
    "duration": 18,
    "start_time": "2022-04-14T07:36:35.631Z"
   },
   {
    "duration": 229,
    "start_time": "2022-04-14T07:36:35.651Z"
   },
   {
    "duration": 196,
    "start_time": "2022-04-14T07:36:35.882Z"
   },
   {
    "duration": 218,
    "start_time": "2022-04-14T07:36:36.080Z"
   },
   {
    "duration": 213,
    "start_time": "2022-04-14T07:36:36.300Z"
   },
   {
    "duration": 211,
    "start_time": "2022-04-14T07:36:36.515Z"
   },
   {
    "duration": 190,
    "start_time": "2022-04-14T07:36:36.730Z"
   },
   {
    "duration": 196,
    "start_time": "2022-04-14T07:36:36.922Z"
   },
   {
    "duration": 228,
    "start_time": "2022-04-14T07:36:37.122Z"
   },
   {
    "duration": 29,
    "start_time": "2022-04-14T07:36:37.352Z"
   },
   {
    "duration": 11,
    "start_time": "2022-04-14T07:36:37.383Z"
   },
   {
    "duration": 34,
    "start_time": "2022-04-14T07:36:37.396Z"
   },
   {
    "duration": 94,
    "start_time": "2022-04-14T07:37:26.068Z"
   },
   {
    "duration": 5,
    "start_time": "2022-04-14T07:37:33.493Z"
   },
   {
    "duration": 57,
    "start_time": "2022-04-14T07:37:48.676Z"
   },
   {
    "duration": 20,
    "start_time": "2022-04-14T07:40:29.547Z"
   },
   {
    "duration": 12,
    "start_time": "2022-04-14T07:42:57.638Z"
   },
   {
    "duration": 15,
    "start_time": "2022-04-14T07:44:48.983Z"
   },
   {
    "duration": 8,
    "start_time": "2022-04-14T07:46:49.334Z"
   },
   {
    "duration": 20,
    "start_time": "2022-04-14T07:46:53.764Z"
   },
   {
    "duration": 22,
    "start_time": "2022-04-14T07:47:08.104Z"
   },
   {
    "duration": 19,
    "start_time": "2022-04-14T07:48:42.450Z"
   },
   {
    "duration": 20,
    "start_time": "2022-04-14T07:48:48.661Z"
   },
   {
    "duration": 19,
    "start_time": "2022-04-14T07:48:54.586Z"
   },
   {
    "duration": 21,
    "start_time": "2022-04-14T07:50:13.468Z"
   },
   {
    "duration": 20,
    "start_time": "2022-04-14T07:50:19.249Z"
   },
   {
    "duration": 10,
    "start_time": "2022-04-14T07:51:46.274Z"
   },
   {
    "duration": 19,
    "start_time": "2022-04-14T07:51:51.214Z"
   },
   {
    "duration": 1629,
    "start_time": "2022-04-14T08:01:55.572Z"
   },
   {
    "duration": 313,
    "start_time": "2022-04-14T08:01:57.203Z"
   },
   {
    "duration": 206,
    "start_time": "2022-04-14T08:01:57.518Z"
   },
   {
    "duration": 137,
    "start_time": "2022-04-14T08:01:57.727Z"
   },
   {
    "duration": 38,
    "start_time": "2022-04-14T08:01:57.866Z"
   },
   {
    "duration": 51,
    "start_time": "2022-04-14T08:01:57.906Z"
   },
   {
    "duration": 132784,
    "start_time": "2022-04-14T08:01:57.959Z"
   },
   {
    "duration": 148,
    "start_time": "2022-04-14T08:04:10.746Z"
   },
   {
    "duration": 142,
    "start_time": "2022-04-14T08:04:10.896Z"
   },
   {
    "duration": 1840,
    "start_time": "2022-04-14T08:04:11.042Z"
   },
   {
    "duration": 59,
    "start_time": "2022-04-14T08:04:12.884Z"
   },
   {
    "duration": 17,
    "start_time": "2022-04-14T08:04:12.945Z"
   },
   {
    "duration": 15,
    "start_time": "2022-04-14T08:04:12.993Z"
   },
   {
    "duration": 27,
    "start_time": "2022-04-14T08:04:13.010Z"
   },
   {
    "duration": 2440,
    "start_time": "2022-04-14T08:04:13.041Z"
   },
   {
    "duration": 32,
    "start_time": "2022-04-14T08:04:15.484Z"
   },
   {
    "duration": 388,
    "start_time": "2022-04-14T08:04:15.519Z"
   },
   {
    "duration": 337,
    "start_time": "2022-04-14T08:04:15.909Z"
   },
   {
    "duration": 349,
    "start_time": "2022-04-14T08:04:16.248Z"
   },
   {
    "duration": 336,
    "start_time": "2022-04-14T08:04:16.599Z"
   },
   {
    "duration": 345,
    "start_time": "2022-04-14T08:04:16.937Z"
   },
   {
    "duration": 315,
    "start_time": "2022-04-14T08:04:17.284Z"
   },
   {
    "duration": 333,
    "start_time": "2022-04-14T08:04:17.601Z"
   },
   {
    "duration": 363,
    "start_time": "2022-04-14T08:04:17.937Z"
   },
   {
    "duration": 46,
    "start_time": "2022-04-14T08:04:18.302Z"
   },
   {
    "duration": 48,
    "start_time": "2022-04-14T08:04:18.350Z"
   },
   {
    "duration": 19,
    "start_time": "2022-04-14T08:04:18.401Z"
   },
   {
    "duration": 9,
    "start_time": "2022-04-14T08:06:07.589Z"
   },
   {
    "duration": 15,
    "start_time": "2022-04-14T08:06:24.005Z"
   },
   {
    "duration": 39,
    "start_time": "2022-04-14T08:06:33.133Z"
   },
   {
    "duration": 221,
    "start_time": "2022-04-14T08:07:27.333Z"
   },
   {
    "duration": 8,
    "start_time": "2022-04-14T08:07:36.414Z"
   },
   {
    "duration": 17,
    "start_time": "2022-04-14T08:11:36.133Z"
   },
   {
    "duration": 16,
    "start_time": "2022-04-14T08:13:32.704Z"
   },
   {
    "duration": 2458,
    "start_time": "2022-04-14T08:16:25.100Z"
   },
   {
    "duration": 2123,
    "start_time": "2022-04-14T08:27:35.407Z"
   },
   {
    "duration": 15,
    "start_time": "2022-04-14T08:28:34.867Z"
   }
  ],
  "kernelspec": {
   "display_name": "Python 3 (ipykernel)",
   "language": "python",
   "name": "python3"
  },
  "language_info": {
   "codemirror_mode": {
    "name": "ipython",
    "version": 3
   },
   "file_extension": ".py",
   "mimetype": "text/x-python",
   "name": "python",
   "nbconvert_exporter": "python",
   "pygments_lexer": "ipython3",
   "version": "3.9.7"
  },
  "toc": {
   "base_numbering": 1,
   "nav_menu": {},
   "number_sections": false,
   "sideBar": true,
   "skip_h1_title": false,
   "title_cell": "Table of Contents",
   "title_sidebar": "Contents",
   "toc_cell": false,
   "toc_position": {},
   "toc_section_display": true,
   "toc_window_display": true
  }
 },
 "nbformat": 4,
 "nbformat_minor": 5
}

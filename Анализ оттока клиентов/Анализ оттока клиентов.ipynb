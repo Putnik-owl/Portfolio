{
 "cells": [
  {
   "cell_type": "markdown",
   "metadata": {},
   "source": [
    "# Отток клиентов"
   ]
  },
  {
   "cell_type": "markdown",
   "metadata": {},
   "source": [
    "Нужно спрогнозировать, уйдёт клиент из банка в ближайшее время или нет. "
   ]
  },
  {
   "cell_type": "markdown",
   "metadata": {},
   "source": [
    "Описание данных:\n",
    "1. RowNumber — индекс строки в данных\n",
    "2. CustomerId — уникальный идентификатор клиента\n",
    "3. Surname — фамилия\n",
    "4. CreditScore — кредитный рейтинг\n",
    "5. Geography — страна проживания\n",
    "6. Gender — пол\n",
    "7. Age — возраст\n",
    "8. Tenure — сколько лет человек является клиентом банка\n",
    "9. Balance — баланс на счёте\n",
    "10. NumOfProducts — количество продуктов банка, используемых клиентом\n",
    "11. HasCrCard — наличие кредитной карты\n",
    "12. IsActiveMember — активность клиента\n",
    "13. EstimatedSalary — предполагаемая зарплата\n",
    "14. **Exited** — факт ухода клиента"
   ]
  },
  {
   "cell_type": "markdown",
   "metadata": {},
   "source": [
    "## Подготовка данных"
   ]
  },
  {
   "cell_type": "code",
   "execution_count": 1,
   "metadata": {},
   "outputs": [],
   "source": [
    "import warnings\n",
    "warnings.filterwarnings(\"ignore\") \n",
    "import pandas as pd \n",
    "from sklearn.model_selection import train_test_split \n",
    "\n",
    "from sklearn.metrics import roc_auc_score \n",
    "from sklearn.metrics import f1_score \n",
    "from sklearn.metrics import accuracy_score\n",
    "\n",
    "from sklearn.tree import DecisionTreeClassifier \n",
    "from sklearn.ensemble import RandomForestClassifier  \n",
    "from sklearn.linear_model import LogisticRegression  \n",
    "from sklearn.model_selection import GridSearchCV \n",
    "from sklearn.preprocessing import StandardScaler  \n",
    "from sklearn.utils import shuffle "
   ]
  },
  {
   "cell_type": "code",
   "execution_count": 2,
   "metadata": {},
   "outputs": [
    {
     "name": "stdout",
     "output_type": "stream",
     "text": [
      "<class 'pandas.core.frame.DataFrame'>\n",
      "RangeIndex: 10000 entries, 0 to 9999\n",
      "Data columns (total 14 columns):\n",
      " #   Column           Non-Null Count  Dtype  \n",
      "---  ------           --------------  -----  \n",
      " 0   RowNumber        10000 non-null  int64  \n",
      " 1   CustomerId       10000 non-null  int64  \n",
      " 2   Surname          10000 non-null  object \n",
      " 3   CreditScore      10000 non-null  int64  \n",
      " 4   Geography        10000 non-null  object \n",
      " 5   Gender           10000 non-null  object \n",
      " 6   Age              10000 non-null  int64  \n",
      " 7   Tenure           9091 non-null   float64\n",
      " 8   Balance          10000 non-null  float64\n",
      " 9   NumOfProducts    10000 non-null  int64  \n",
      " 10  HasCrCard        10000 non-null  int64  \n",
      " 11  IsActiveMember   10000 non-null  int64  \n",
      " 12  EstimatedSalary  10000 non-null  float64\n",
      " 13  Exited           10000 non-null  int64  \n",
      "dtypes: float64(3), int64(8), object(3)\n",
      "memory usage: 1.1+ MB\n"
     ]
    },
    {
     "data": {
      "text/html": [
       "<div>\n",
       "<style scoped>\n",
       "    .dataframe tbody tr th:only-of-type {\n",
       "        vertical-align: middle;\n",
       "    }\n",
       "\n",
       "    .dataframe tbody tr th {\n",
       "        vertical-align: top;\n",
       "    }\n",
       "\n",
       "    .dataframe thead th {\n",
       "        text-align: right;\n",
       "    }\n",
       "</style>\n",
       "<table border=\"1\" class=\"dataframe\">\n",
       "  <thead>\n",
       "    <tr style=\"text-align: right;\">\n",
       "      <th></th>\n",
       "      <th>RowNumber</th>\n",
       "      <th>CustomerId</th>\n",
       "      <th>Surname</th>\n",
       "      <th>CreditScore</th>\n",
       "      <th>Geography</th>\n",
       "      <th>Gender</th>\n",
       "      <th>Age</th>\n",
       "      <th>Tenure</th>\n",
       "      <th>Balance</th>\n",
       "      <th>NumOfProducts</th>\n",
       "      <th>HasCrCard</th>\n",
       "      <th>IsActiveMember</th>\n",
       "      <th>EstimatedSalary</th>\n",
       "      <th>Exited</th>\n",
       "    </tr>\n",
       "  </thead>\n",
       "  <tbody>\n",
       "    <tr>\n",
       "      <th>0</th>\n",
       "      <td>1</td>\n",
       "      <td>15634602</td>\n",
       "      <td>Hargrave</td>\n",
       "      <td>619</td>\n",
       "      <td>France</td>\n",
       "      <td>Female</td>\n",
       "      <td>42</td>\n",
       "      <td>2.0</td>\n",
       "      <td>0.00</td>\n",
       "      <td>1</td>\n",
       "      <td>1</td>\n",
       "      <td>1</td>\n",
       "      <td>101348.88</td>\n",
       "      <td>1</td>\n",
       "    </tr>\n",
       "    <tr>\n",
       "      <th>1</th>\n",
       "      <td>2</td>\n",
       "      <td>15647311</td>\n",
       "      <td>Hill</td>\n",
       "      <td>608</td>\n",
       "      <td>Spain</td>\n",
       "      <td>Female</td>\n",
       "      <td>41</td>\n",
       "      <td>1.0</td>\n",
       "      <td>83807.86</td>\n",
       "      <td>1</td>\n",
       "      <td>0</td>\n",
       "      <td>1</td>\n",
       "      <td>112542.58</td>\n",
       "      <td>0</td>\n",
       "    </tr>\n",
       "    <tr>\n",
       "      <th>2</th>\n",
       "      <td>3</td>\n",
       "      <td>15619304</td>\n",
       "      <td>Onio</td>\n",
       "      <td>502</td>\n",
       "      <td>France</td>\n",
       "      <td>Female</td>\n",
       "      <td>42</td>\n",
       "      <td>8.0</td>\n",
       "      <td>159660.80</td>\n",
       "      <td>3</td>\n",
       "      <td>1</td>\n",
       "      <td>0</td>\n",
       "      <td>113931.57</td>\n",
       "      <td>1</td>\n",
       "    </tr>\n",
       "    <tr>\n",
       "      <th>3</th>\n",
       "      <td>4</td>\n",
       "      <td>15701354</td>\n",
       "      <td>Boni</td>\n",
       "      <td>699</td>\n",
       "      <td>France</td>\n",
       "      <td>Female</td>\n",
       "      <td>39</td>\n",
       "      <td>1.0</td>\n",
       "      <td>0.00</td>\n",
       "      <td>2</td>\n",
       "      <td>0</td>\n",
       "      <td>0</td>\n",
       "      <td>93826.63</td>\n",
       "      <td>0</td>\n",
       "    </tr>\n",
       "    <tr>\n",
       "      <th>4</th>\n",
       "      <td>5</td>\n",
       "      <td>15737888</td>\n",
       "      <td>Mitchell</td>\n",
       "      <td>850</td>\n",
       "      <td>Spain</td>\n",
       "      <td>Female</td>\n",
       "      <td>43</td>\n",
       "      <td>2.0</td>\n",
       "      <td>125510.82</td>\n",
       "      <td>1</td>\n",
       "      <td>1</td>\n",
       "      <td>1</td>\n",
       "      <td>79084.10</td>\n",
       "      <td>0</td>\n",
       "    </tr>\n",
       "    <tr>\n",
       "      <th>5</th>\n",
       "      <td>6</td>\n",
       "      <td>15574012</td>\n",
       "      <td>Chu</td>\n",
       "      <td>645</td>\n",
       "      <td>Spain</td>\n",
       "      <td>Male</td>\n",
       "      <td>44</td>\n",
       "      <td>8.0</td>\n",
       "      <td>113755.78</td>\n",
       "      <td>2</td>\n",
       "      <td>1</td>\n",
       "      <td>0</td>\n",
       "      <td>149756.71</td>\n",
       "      <td>1</td>\n",
       "    </tr>\n",
       "    <tr>\n",
       "      <th>6</th>\n",
       "      <td>7</td>\n",
       "      <td>15592531</td>\n",
       "      <td>Bartlett</td>\n",
       "      <td>822</td>\n",
       "      <td>France</td>\n",
       "      <td>Male</td>\n",
       "      <td>50</td>\n",
       "      <td>7.0</td>\n",
       "      <td>0.00</td>\n",
       "      <td>2</td>\n",
       "      <td>1</td>\n",
       "      <td>1</td>\n",
       "      <td>10062.80</td>\n",
       "      <td>0</td>\n",
       "    </tr>\n",
       "    <tr>\n",
       "      <th>7</th>\n",
       "      <td>8</td>\n",
       "      <td>15656148</td>\n",
       "      <td>Obinna</td>\n",
       "      <td>376</td>\n",
       "      <td>Germany</td>\n",
       "      <td>Female</td>\n",
       "      <td>29</td>\n",
       "      <td>4.0</td>\n",
       "      <td>115046.74</td>\n",
       "      <td>4</td>\n",
       "      <td>1</td>\n",
       "      <td>0</td>\n",
       "      <td>119346.88</td>\n",
       "      <td>1</td>\n",
       "    </tr>\n",
       "    <tr>\n",
       "      <th>8</th>\n",
       "      <td>9</td>\n",
       "      <td>15792365</td>\n",
       "      <td>He</td>\n",
       "      <td>501</td>\n",
       "      <td>France</td>\n",
       "      <td>Male</td>\n",
       "      <td>44</td>\n",
       "      <td>4.0</td>\n",
       "      <td>142051.07</td>\n",
       "      <td>2</td>\n",
       "      <td>0</td>\n",
       "      <td>1</td>\n",
       "      <td>74940.50</td>\n",
       "      <td>0</td>\n",
       "    </tr>\n",
       "    <tr>\n",
       "      <th>9</th>\n",
       "      <td>10</td>\n",
       "      <td>15592389</td>\n",
       "      <td>H?</td>\n",
       "      <td>684</td>\n",
       "      <td>France</td>\n",
       "      <td>Male</td>\n",
       "      <td>27</td>\n",
       "      <td>2.0</td>\n",
       "      <td>134603.88</td>\n",
       "      <td>1</td>\n",
       "      <td>1</td>\n",
       "      <td>1</td>\n",
       "      <td>71725.73</td>\n",
       "      <td>0</td>\n",
       "    </tr>\n",
       "  </tbody>\n",
       "</table>\n",
       "</div>"
      ],
      "text/plain": [
       "   RowNumber  CustomerId   Surname  CreditScore Geography  Gender  Age  \\\n",
       "0          1    15634602  Hargrave          619    France  Female   42   \n",
       "1          2    15647311      Hill          608     Spain  Female   41   \n",
       "2          3    15619304      Onio          502    France  Female   42   \n",
       "3          4    15701354      Boni          699    France  Female   39   \n",
       "4          5    15737888  Mitchell          850     Spain  Female   43   \n",
       "5          6    15574012       Chu          645     Spain    Male   44   \n",
       "6          7    15592531  Bartlett          822    France    Male   50   \n",
       "7          8    15656148    Obinna          376   Germany  Female   29   \n",
       "8          9    15792365        He          501    France    Male   44   \n",
       "9         10    15592389        H?          684    France    Male   27   \n",
       "\n",
       "   Tenure    Balance  NumOfProducts  HasCrCard  IsActiveMember  \\\n",
       "0     2.0       0.00              1          1               1   \n",
       "1     1.0   83807.86              1          0               1   \n",
       "2     8.0  159660.80              3          1               0   \n",
       "3     1.0       0.00              2          0               0   \n",
       "4     2.0  125510.82              1          1               1   \n",
       "5     8.0  113755.78              2          1               0   \n",
       "6     7.0       0.00              2          1               1   \n",
       "7     4.0  115046.74              4          1               0   \n",
       "8     4.0  142051.07              2          0               1   \n",
       "9     2.0  134603.88              1          1               1   \n",
       "\n",
       "   EstimatedSalary  Exited  \n",
       "0        101348.88       1  \n",
       "1        112542.58       0  \n",
       "2        113931.57       1  \n",
       "3         93826.63       0  \n",
       "4         79084.10       0  \n",
       "5        149756.71       1  \n",
       "6         10062.80       0  \n",
       "7        119346.88       1  \n",
       "8         74940.50       0  \n",
       "9         71725.73       0  "
      ]
     },
     "metadata": {},
     "output_type": "display_data"
    }
   ],
   "source": [
    "data_frame=pd.read_csv('/datasets/Churn.csv') # загрузка данных\n",
    "data_frame.info()\n",
    "display(data_frame.head(10))"
   ]
  },
  {
   "cell_type": "code",
   "execution_count": 3,
   "metadata": {},
   "outputs": [
    {
     "data": {
      "text/plain": [
       "RowNumber            0\n",
       "CustomerId           0\n",
       "Surname              0\n",
       "CreditScore          0\n",
       "Geography            0\n",
       "Gender               0\n",
       "Age                  0\n",
       "Tenure             909\n",
       "Balance              0\n",
       "NumOfProducts        0\n",
       "HasCrCard            0\n",
       "IsActiveMember       0\n",
       "EstimatedSalary      0\n",
       "Exited               0\n",
       "dtype: int64"
      ]
     },
     "metadata": {},
     "output_type": "display_data"
    },
    {
     "name": "stdout",
     "output_type": "stream",
     "text": [
      "Доля пропусков в столбце:\n",
      "RowNumber = 0.00%\n",
      "CustomerId = 0.00%\n",
      "Surname = 0.00%\n",
      "CreditScore = 0.00%\n",
      "Geography = 0.00%\n",
      "Gender = 0.00%\n",
      "Age = 0.00%\n",
      "Tenure = 9.09%\n",
      "Balance = 0.00%\n",
      "NumOfProducts = 0.00%\n",
      "HasCrCard = 0.00%\n",
      "IsActiveMember = 0.00%\n",
      "EstimatedSalary = 0.00%\n",
      "Exited = 0.00%\n"
     ]
    }
   ],
   "source": [
    "null_data_columns=data_frame.isna().sum() \n",
    "columns_data_old=list(data_frame.columns) \n",
    "display(null_data_columns)\n",
    "null_data_columns=list(null_data_columns) \n",
    "\n",
    "print('Доля пропусков в столбце:') \n",
    "for i in range(len(columns_data_old)):\n",
    "    rezul=1-(len(data_frame)-null_data_columns[i])/len(data_frame)\n",
    "    print(columns_data_old[i], '=', f'{rezul:.2%}' )"
   ]
  },
  {
   "cell_type": "code",
   "execution_count": 4,
   "metadata": {},
   "outputs": [
    {
     "name": "stdout",
     "output_type": "stream",
     "text": [
      "Доля пропусков в столбце ,%:\n",
      "RowNumber          0.00\n",
      "CustomerId         0.00\n",
      "Surname            0.00\n",
      "CreditScore        0.00\n",
      "Geography          0.00\n",
      "Gender             0.00\n",
      "Age                0.00\n",
      "Tenure             9.09\n",
      "Balance            0.00\n",
      "NumOfProducts      0.00\n",
      "HasCrCard          0.00\n",
      "IsActiveMember     0.00\n",
      "EstimatedSalary    0.00\n",
      "Exited             0.00\n",
      "dtype: float64\n"
     ]
    }
   ],
   "source": [
    "print('Доля пропусков в столбце ,%:') \n",
    "rezul=data_frame.isna().mean() * 100\n",
    "print(rezul)"
   ]
  },
  {
   "cell_type": "markdown",
   "metadata": {},
   "source": [
    "**Вывод** \n",
    "1. Примерно 9% клиентов не имеют времени использования услуг банка. Скорее всего это новые клиенты которые пользуются банком менее 1 года, эти данные можно удалить.\n",
    "2. Так же можно удалить признаки не имеющее отношение к решению уйти из банка, это RowNumber, CustomerId, Surname"
   ]
  },
  {
   "cell_type": "code",
   "execution_count": 5,
   "metadata": {},
   "outputs": [
    {
     "data": {
      "text/plain": [
       "CreditScore        0\n",
       "Geography          0\n",
       "Gender             0\n",
       "Age                0\n",
       "Tenure             0\n",
       "Balance            0\n",
       "NumOfProducts      0\n",
       "HasCrCard          0\n",
       "IsActiveMember     0\n",
       "EstimatedSalary    0\n",
       "Exited             0\n",
       "dtype: int64"
      ]
     },
     "metadata": {},
     "output_type": "display_data"
    },
    {
     "data": {
      "text/html": [
       "<div>\n",
       "<style scoped>\n",
       "    .dataframe tbody tr th:only-of-type {\n",
       "        vertical-align: middle;\n",
       "    }\n",
       "\n",
       "    .dataframe tbody tr th {\n",
       "        vertical-align: top;\n",
       "    }\n",
       "\n",
       "    .dataframe thead th {\n",
       "        text-align: right;\n",
       "    }\n",
       "</style>\n",
       "<table border=\"1\" class=\"dataframe\">\n",
       "  <thead>\n",
       "    <tr style=\"text-align: right;\">\n",
       "      <th></th>\n",
       "      <th>CreditScore</th>\n",
       "      <th>Geography</th>\n",
       "      <th>Gender</th>\n",
       "      <th>Age</th>\n",
       "      <th>Tenure</th>\n",
       "      <th>Balance</th>\n",
       "      <th>NumOfProducts</th>\n",
       "      <th>HasCrCard</th>\n",
       "      <th>IsActiveMember</th>\n",
       "      <th>EstimatedSalary</th>\n",
       "      <th>Exited</th>\n",
       "    </tr>\n",
       "  </thead>\n",
       "  <tbody>\n",
       "    <tr>\n",
       "      <th>0</th>\n",
       "      <td>619</td>\n",
       "      <td>France</td>\n",
       "      <td>Female</td>\n",
       "      <td>42</td>\n",
       "      <td>2.0</td>\n",
       "      <td>0.00</td>\n",
       "      <td>1</td>\n",
       "      <td>1</td>\n",
       "      <td>1</td>\n",
       "      <td>101348.88</td>\n",
       "      <td>1</td>\n",
       "    </tr>\n",
       "    <tr>\n",
       "      <th>1</th>\n",
       "      <td>608</td>\n",
       "      <td>Spain</td>\n",
       "      <td>Female</td>\n",
       "      <td>41</td>\n",
       "      <td>1.0</td>\n",
       "      <td>83807.86</td>\n",
       "      <td>1</td>\n",
       "      <td>0</td>\n",
       "      <td>1</td>\n",
       "      <td>112542.58</td>\n",
       "      <td>0</td>\n",
       "    </tr>\n",
       "    <tr>\n",
       "      <th>2</th>\n",
       "      <td>502</td>\n",
       "      <td>France</td>\n",
       "      <td>Female</td>\n",
       "      <td>42</td>\n",
       "      <td>8.0</td>\n",
       "      <td>159660.80</td>\n",
       "      <td>3</td>\n",
       "      <td>1</td>\n",
       "      <td>0</td>\n",
       "      <td>113931.57</td>\n",
       "      <td>1</td>\n",
       "    </tr>\n",
       "    <tr>\n",
       "      <th>3</th>\n",
       "      <td>699</td>\n",
       "      <td>France</td>\n",
       "      <td>Female</td>\n",
       "      <td>39</td>\n",
       "      <td>1.0</td>\n",
       "      <td>0.00</td>\n",
       "      <td>2</td>\n",
       "      <td>0</td>\n",
       "      <td>0</td>\n",
       "      <td>93826.63</td>\n",
       "      <td>0</td>\n",
       "    </tr>\n",
       "    <tr>\n",
       "      <th>4</th>\n",
       "      <td>850</td>\n",
       "      <td>Spain</td>\n",
       "      <td>Female</td>\n",
       "      <td>43</td>\n",
       "      <td>2.0</td>\n",
       "      <td>125510.82</td>\n",
       "      <td>1</td>\n",
       "      <td>1</td>\n",
       "      <td>1</td>\n",
       "      <td>79084.10</td>\n",
       "      <td>0</td>\n",
       "    </tr>\n",
       "    <tr>\n",
       "      <th>5</th>\n",
       "      <td>645</td>\n",
       "      <td>Spain</td>\n",
       "      <td>Male</td>\n",
       "      <td>44</td>\n",
       "      <td>8.0</td>\n",
       "      <td>113755.78</td>\n",
       "      <td>2</td>\n",
       "      <td>1</td>\n",
       "      <td>0</td>\n",
       "      <td>149756.71</td>\n",
       "      <td>1</td>\n",
       "    </tr>\n",
       "    <tr>\n",
       "      <th>6</th>\n",
       "      <td>822</td>\n",
       "      <td>France</td>\n",
       "      <td>Male</td>\n",
       "      <td>50</td>\n",
       "      <td>7.0</td>\n",
       "      <td>0.00</td>\n",
       "      <td>2</td>\n",
       "      <td>1</td>\n",
       "      <td>1</td>\n",
       "      <td>10062.80</td>\n",
       "      <td>0</td>\n",
       "    </tr>\n",
       "    <tr>\n",
       "      <th>7</th>\n",
       "      <td>376</td>\n",
       "      <td>Germany</td>\n",
       "      <td>Female</td>\n",
       "      <td>29</td>\n",
       "      <td>4.0</td>\n",
       "      <td>115046.74</td>\n",
       "      <td>4</td>\n",
       "      <td>1</td>\n",
       "      <td>0</td>\n",
       "      <td>119346.88</td>\n",
       "      <td>1</td>\n",
       "    </tr>\n",
       "    <tr>\n",
       "      <th>8</th>\n",
       "      <td>501</td>\n",
       "      <td>France</td>\n",
       "      <td>Male</td>\n",
       "      <td>44</td>\n",
       "      <td>4.0</td>\n",
       "      <td>142051.07</td>\n",
       "      <td>2</td>\n",
       "      <td>0</td>\n",
       "      <td>1</td>\n",
       "      <td>74940.50</td>\n",
       "      <td>0</td>\n",
       "    </tr>\n",
       "    <tr>\n",
       "      <th>9</th>\n",
       "      <td>684</td>\n",
       "      <td>France</td>\n",
       "      <td>Male</td>\n",
       "      <td>27</td>\n",
       "      <td>2.0</td>\n",
       "      <td>134603.88</td>\n",
       "      <td>1</td>\n",
       "      <td>1</td>\n",
       "      <td>1</td>\n",
       "      <td>71725.73</td>\n",
       "      <td>0</td>\n",
       "    </tr>\n",
       "  </tbody>\n",
       "</table>\n",
       "</div>"
      ],
      "text/plain": [
       "   CreditScore Geography  Gender  Age  Tenure    Balance  NumOfProducts  \\\n",
       "0          619    France  Female   42     2.0       0.00              1   \n",
       "1          608     Spain  Female   41     1.0   83807.86              1   \n",
       "2          502    France  Female   42     8.0  159660.80              3   \n",
       "3          699    France  Female   39     1.0       0.00              2   \n",
       "4          850     Spain  Female   43     2.0  125510.82              1   \n",
       "5          645     Spain    Male   44     8.0  113755.78              2   \n",
       "6          822    France    Male   50     7.0       0.00              2   \n",
       "7          376   Germany  Female   29     4.0  115046.74              4   \n",
       "8          501    France    Male   44     4.0  142051.07              2   \n",
       "9          684    France    Male   27     2.0  134603.88              1   \n",
       "\n",
       "   HasCrCard  IsActiveMember  EstimatedSalary  Exited  \n",
       "0          1               1        101348.88       1  \n",
       "1          0               1        112542.58       0  \n",
       "2          1               0        113931.57       1  \n",
       "3          0               0         93826.63       0  \n",
       "4          1               1         79084.10       0  \n",
       "5          1               0        149756.71       1  \n",
       "6          1               1         10062.80       0  \n",
       "7          1               0        119346.88       1  \n",
       "8          0               1         74940.50       0  \n",
       "9          1               1         71725.73       0  "
      ]
     },
     "metadata": {},
     "output_type": "display_data"
    }
   ],
   "source": [
    "data_frame = data_frame.dropna(subset=['Tenure']) \n",
    "data_frame = data_frame.drop(['RowNumber', 'CustomerId','Surname'], axis=1) \n",
    "null_data_columns=data_frame.isna().sum() \n",
    "display(null_data_columns)\n",
    "display(data_frame.head(10))"
   ]
  },
  {
   "cell_type": "code",
   "execution_count": 6,
   "metadata": {},
   "outputs": [
    {
     "data": {
      "text/html": [
       "<div>\n",
       "<style scoped>\n",
       "    .dataframe tbody tr th:only-of-type {\n",
       "        vertical-align: middle;\n",
       "    }\n",
       "\n",
       "    .dataframe tbody tr th {\n",
       "        vertical-align: top;\n",
       "    }\n",
       "\n",
       "    .dataframe thead th {\n",
       "        text-align: right;\n",
       "    }\n",
       "</style>\n",
       "<table border=\"1\" class=\"dataframe\">\n",
       "  <thead>\n",
       "    <tr style=\"text-align: right;\">\n",
       "      <th></th>\n",
       "      <th>CreditScore</th>\n",
       "      <th>Age</th>\n",
       "      <th>Tenure</th>\n",
       "      <th>Balance</th>\n",
       "      <th>NumOfProducts</th>\n",
       "      <th>HasCrCard</th>\n",
       "      <th>IsActiveMember</th>\n",
       "      <th>EstimatedSalary</th>\n",
       "      <th>Exited</th>\n",
       "      <th>Geography_Germany</th>\n",
       "      <th>Geography_Spain</th>\n",
       "      <th>Gender_Male</th>\n",
       "    </tr>\n",
       "  </thead>\n",
       "  <tbody>\n",
       "    <tr>\n",
       "      <th>0</th>\n",
       "      <td>619</td>\n",
       "      <td>42</td>\n",
       "      <td>2.0</td>\n",
       "      <td>0.00</td>\n",
       "      <td>1</td>\n",
       "      <td>1</td>\n",
       "      <td>1</td>\n",
       "      <td>101348.88</td>\n",
       "      <td>1</td>\n",
       "      <td>0</td>\n",
       "      <td>0</td>\n",
       "      <td>0</td>\n",
       "    </tr>\n",
       "    <tr>\n",
       "      <th>1</th>\n",
       "      <td>608</td>\n",
       "      <td>41</td>\n",
       "      <td>1.0</td>\n",
       "      <td>83807.86</td>\n",
       "      <td>1</td>\n",
       "      <td>0</td>\n",
       "      <td>1</td>\n",
       "      <td>112542.58</td>\n",
       "      <td>0</td>\n",
       "      <td>0</td>\n",
       "      <td>1</td>\n",
       "      <td>0</td>\n",
       "    </tr>\n",
       "    <tr>\n",
       "      <th>2</th>\n",
       "      <td>502</td>\n",
       "      <td>42</td>\n",
       "      <td>8.0</td>\n",
       "      <td>159660.80</td>\n",
       "      <td>3</td>\n",
       "      <td>1</td>\n",
       "      <td>0</td>\n",
       "      <td>113931.57</td>\n",
       "      <td>1</td>\n",
       "      <td>0</td>\n",
       "      <td>0</td>\n",
       "      <td>0</td>\n",
       "    </tr>\n",
       "    <tr>\n",
       "      <th>3</th>\n",
       "      <td>699</td>\n",
       "      <td>39</td>\n",
       "      <td>1.0</td>\n",
       "      <td>0.00</td>\n",
       "      <td>2</td>\n",
       "      <td>0</td>\n",
       "      <td>0</td>\n",
       "      <td>93826.63</td>\n",
       "      <td>0</td>\n",
       "      <td>0</td>\n",
       "      <td>0</td>\n",
       "      <td>0</td>\n",
       "    </tr>\n",
       "    <tr>\n",
       "      <th>4</th>\n",
       "      <td>850</td>\n",
       "      <td>43</td>\n",
       "      <td>2.0</td>\n",
       "      <td>125510.82</td>\n",
       "      <td>1</td>\n",
       "      <td>1</td>\n",
       "      <td>1</td>\n",
       "      <td>79084.10</td>\n",
       "      <td>0</td>\n",
       "      <td>0</td>\n",
       "      <td>1</td>\n",
       "      <td>0</td>\n",
       "    </tr>\n",
       "    <tr>\n",
       "      <th>5</th>\n",
       "      <td>645</td>\n",
       "      <td>44</td>\n",
       "      <td>8.0</td>\n",
       "      <td>113755.78</td>\n",
       "      <td>2</td>\n",
       "      <td>1</td>\n",
       "      <td>0</td>\n",
       "      <td>149756.71</td>\n",
       "      <td>1</td>\n",
       "      <td>0</td>\n",
       "      <td>1</td>\n",
       "      <td>1</td>\n",
       "    </tr>\n",
       "    <tr>\n",
       "      <th>6</th>\n",
       "      <td>822</td>\n",
       "      <td>50</td>\n",
       "      <td>7.0</td>\n",
       "      <td>0.00</td>\n",
       "      <td>2</td>\n",
       "      <td>1</td>\n",
       "      <td>1</td>\n",
       "      <td>10062.80</td>\n",
       "      <td>0</td>\n",
       "      <td>0</td>\n",
       "      <td>0</td>\n",
       "      <td>1</td>\n",
       "    </tr>\n",
       "    <tr>\n",
       "      <th>7</th>\n",
       "      <td>376</td>\n",
       "      <td>29</td>\n",
       "      <td>4.0</td>\n",
       "      <td>115046.74</td>\n",
       "      <td>4</td>\n",
       "      <td>1</td>\n",
       "      <td>0</td>\n",
       "      <td>119346.88</td>\n",
       "      <td>1</td>\n",
       "      <td>1</td>\n",
       "      <td>0</td>\n",
       "      <td>0</td>\n",
       "    </tr>\n",
       "    <tr>\n",
       "      <th>8</th>\n",
       "      <td>501</td>\n",
       "      <td>44</td>\n",
       "      <td>4.0</td>\n",
       "      <td>142051.07</td>\n",
       "      <td>2</td>\n",
       "      <td>0</td>\n",
       "      <td>1</td>\n",
       "      <td>74940.50</td>\n",
       "      <td>0</td>\n",
       "      <td>0</td>\n",
       "      <td>0</td>\n",
       "      <td>1</td>\n",
       "    </tr>\n",
       "    <tr>\n",
       "      <th>9</th>\n",
       "      <td>684</td>\n",
       "      <td>27</td>\n",
       "      <td>2.0</td>\n",
       "      <td>134603.88</td>\n",
       "      <td>1</td>\n",
       "      <td>1</td>\n",
       "      <td>1</td>\n",
       "      <td>71725.73</td>\n",
       "      <td>0</td>\n",
       "      <td>0</td>\n",
       "      <td>0</td>\n",
       "      <td>1</td>\n",
       "    </tr>\n",
       "  </tbody>\n",
       "</table>\n",
       "</div>"
      ],
      "text/plain": [
       "   CreditScore  Age  Tenure    Balance  NumOfProducts  HasCrCard  \\\n",
       "0          619   42     2.0       0.00              1          1   \n",
       "1          608   41     1.0   83807.86              1          0   \n",
       "2          502   42     8.0  159660.80              3          1   \n",
       "3          699   39     1.0       0.00              2          0   \n",
       "4          850   43     2.0  125510.82              1          1   \n",
       "5          645   44     8.0  113755.78              2          1   \n",
       "6          822   50     7.0       0.00              2          1   \n",
       "7          376   29     4.0  115046.74              4          1   \n",
       "8          501   44     4.0  142051.07              2          0   \n",
       "9          684   27     2.0  134603.88              1          1   \n",
       "\n",
       "   IsActiveMember  EstimatedSalary  Exited  Geography_Germany  \\\n",
       "0               1        101348.88       1                  0   \n",
       "1               1        112542.58       0                  0   \n",
       "2               0        113931.57       1                  0   \n",
       "3               0         93826.63       0                  0   \n",
       "4               1         79084.10       0                  0   \n",
       "5               0        149756.71       1                  0   \n",
       "6               1         10062.80       0                  0   \n",
       "7               0        119346.88       1                  1   \n",
       "8               1         74940.50       0                  0   \n",
       "9               1         71725.73       0                  0   \n",
       "\n",
       "   Geography_Spain  Gender_Male  \n",
       "0                0            0  \n",
       "1                1            0  \n",
       "2                0            0  \n",
       "3                0            0  \n",
       "4                1            0  \n",
       "5                1            1  \n",
       "6                0            1  \n",
       "7                0            0  \n",
       "8                0            1  \n",
       "9                0            1  "
      ]
     },
     "metadata": {},
     "output_type": "display_data"
    }
   ],
   "source": [
    "data_ohe=pd.get_dummies(data_frame,drop_first=True)  # признаки переводятся в численные\n",
    "display(data_ohe.head(10))"
   ]
  },
  {
   "cell_type": "markdown",
   "metadata": {},
   "source": [
    "Разделение на выборки"
   ]
  },
  {
   "cell_type": "code",
   "execution_count": 7,
   "metadata": {},
   "outputs": [],
   "source": [
    "features =data_ohe.drop(['Exited',], axis=1)  \n",
    "target =data_ohe['Exited']  \n",
    "# разделяем на выборку для обучения и тестирования, 25% данных для валидации (теста)\n",
    "features_train, features_data, target_train, target_data = train_test_split(features, target, test_size=0.4, random_state=2504)\n",
    "features_test, features_valid, target_test, target_valid = train_test_split( features_data, target_data, test_size=0.5, random_state=2504)\n",
    "\n",
    "\n",
    "numeric = ['CreditScore','Age','Tenure','Balance','EstimatedSalary']\n",
    "scaler = StandardScaler() \n",
    "scaler.fit(features_train[numeric])\n",
    "features_train[numeric] = scaler.transform(features_train[numeric])\n",
    "features_valid[numeric]=scaler.transform(features_valid[numeric])\n",
    "features_test[numeric]=scaler.transform(features_test[numeric])\n",
    "pd.options.mode.chained_assignment = None"
   ]
  },
  {
   "cell_type": "markdown",
   "metadata": {},
   "source": [
    "## Исследование задачи"
   ]
  },
  {
   "cell_type": "markdown",
   "metadata": {},
   "source": [
    "### Логическая классификация"
   ]
  },
  {
   "cell_type": "code",
   "execution_count": 8,
   "metadata": {},
   "outputs": [
    {
     "name": "stdout",
     "output_type": "stream",
     "text": [
      "Точность  = 0.8147333699835074\n",
      "Метрика F1 = 0.32464929859719444\n",
      "Метрика roc_auc = 0.593210689544804\n",
      "CPU times: user 36 ms, sys: 27.2 ms, total: 63.2 ms\n",
      "Wall time: 21.6 ms\n"
     ]
    }
   ],
   "source": [
    "%%time\n",
    "model_LR =  LogisticRegression(random_state=2504,solver='liblinear')\n",
    "model_LR.fit(features_train, target_train) \n",
    "predicted_valid = model_LR.predict(features_valid)\n",
    "\n",
    "print('Точность  =',accuracy_score(target_valid, predicted_valid))\n",
    "print('Метрика F1 =',f1_score(target_valid, predicted_valid))\n",
    "print('Метрика roc_auc =', roc_auc_score(target_valid,predicted_valid))"
   ]
  },
  {
   "cell_type": "markdown",
   "metadata": {},
   "source": [
    "**Вывод**\n",
    "Линейная регрессия не дает необходимый уровень точности."
   ]
  },
  {
   "cell_type": "markdown",
   "metadata": {},
   "source": [
    "### Дерево решений"
   ]
  },
  {
   "cell_type": "code",
   "execution_count": 9,
   "metadata": {},
   "outputs": [
    {
     "name": "stdout",
     "output_type": "stream",
     "text": [
      "CPU times: user 4.27 s, sys: 31.3 ms, total: 4.3 s\n",
      "Wall time: 4.37 s\n"
     ]
    },
    {
     "data": {
      "text/plain": [
       "GridSearchCV(cv=3, estimator=DecisionTreeClassifier(),\n",
       "             param_grid={'max_depth': range(1, 10, 2),\n",
       "                         'min_samples_leaf': range(2, 10, 2),\n",
       "                         'min_samples_split': range(1, 8)})"
      ]
     },
     "execution_count": 9,
     "metadata": {},
     "output_type": "execute_result"
    }
   ],
   "source": [
    "%%time\n",
    "model_DTC =  DecisionTreeClassifier()\n",
    "parametrs={\n",
    "    'max_depth':range(1,10,2),\n",
    "    'min_samples_split':range(1,8),\n",
    "    'min_samples_leaf':range(2,10,2)\n",
    "}\n",
    "grid_param=GridSearchCV(model_DTC,parametrs,cv=3)\n",
    "grid_param.fit(features_train, target_train)"
   ]
  },
  {
   "cell_type": "markdown",
   "metadata": {},
   "source": [
    "Лучшие параметры обучения"
   ]
  },
  {
   "cell_type": "code",
   "execution_count": 10,
   "metadata": {},
   "outputs": [
    {
     "data": {
      "text/plain": [
       "{'max_depth': 5, 'min_samples_leaf': 4, 'min_samples_split': 6}"
      ]
     },
     "execution_count": 10,
     "metadata": {},
     "output_type": "execute_result"
    }
   ],
   "source": [
    "grid_param.best_params_"
   ]
  },
  {
   "cell_type": "code",
   "execution_count": 11,
   "metadata": {},
   "outputs": [
    {
     "name": "stdout",
     "output_type": "stream",
     "text": [
      "Точность  = 0.8460692688290269\n",
      "Метрика F1 = 0.5483870967741935\n",
      "Метрика roc_auc = 0.7001521244072298\n"
     ]
    }
   ],
   "source": [
    "model_DTC = DecisionTreeClassifier(random_state=2504, max_depth=grid_param.best_params_['max_depth']).fit(features_train,target_train) # обучение модели с заданной глубиной дерева\n",
    "predicted_valid= model_DTC.predict(features_valid) # получение предсказания модели\n",
    "print('Точность  =',accuracy_score(target_valid,predicted_valid))\n",
    "print('Метрика F1 =',f1_score(target_valid, predicted_valid))\n",
    "print('Метрика roc_auc =', roc_auc_score(target_valid,predicted_valid))"
   ]
  },
  {
   "cell_type": "markdown",
   "metadata": {},
   "source": [
    "**Вывод**\n",
    "Дерево решений не дает необходимый уровень точности."
   ]
  },
  {
   "cell_type": "markdown",
   "metadata": {},
   "source": [
    "### Случайный лес"
   ]
  },
  {
   "cell_type": "code",
   "execution_count": 12,
   "metadata": {},
   "outputs": [
    {
     "name": "stdout",
     "output_type": "stream",
     "text": [
      "CPU times: user 5min 6s, sys: 1.79 s, total: 5min 8s\n",
      "Wall time: 5min 8s\n"
     ]
    },
    {
     "data": {
      "text/plain": [
       "GridSearchCV(cv=3, estimator=RandomForestClassifier(),\n",
       "             param_grid={'max_depth': range(1, 13, 2),\n",
       "                         'min_samples_leaf': range(2, 10, 2),\n",
       "                         'min_samples_split': range(1, 8),\n",
       "                         'n_estimators': range(10, 61, 10)})"
      ]
     },
     "execution_count": 12,
     "metadata": {},
     "output_type": "execute_result"
    }
   ],
   "source": [
    "%%time\n",
    "model_RFC = RandomForestClassifier()\n",
    "parametrs={\n",
    "    'n_estimators':range(10,61,10),\n",
    "    'max_depth':range(1,13,2),\n",
    "    'min_samples_split':range(1,8),\n",
    "    'min_samples_leaf':range(2,10,2)\n",
    "}\n",
    "grid_param=GridSearchCV(model_RFC,parametrs,cv=3)\n",
    "grid_param.fit(features_train, target_train)\n"
   ]
  },
  {
   "cell_type": "markdown",
   "metadata": {},
   "source": [
    "Лучшие параметры обучения"
   ]
  },
  {
   "cell_type": "code",
   "execution_count": 13,
   "metadata": {},
   "outputs": [
    {
     "data": {
      "text/plain": [
       "{'max_depth': 11,\n",
       " 'min_samples_leaf': 2,\n",
       " 'min_samples_split': 4,\n",
       " 'n_estimators': 50}"
      ]
     },
     "execution_count": 13,
     "metadata": {},
     "output_type": "execute_result"
    }
   ],
   "source": [
    "grid_param.best_params_"
   ]
  },
  {
   "cell_type": "code",
   "execution_count": 14,
   "metadata": {},
   "outputs": [
    {
     "name": "stdout",
     "output_type": "stream",
     "text": [
      "Точность  = 0.8510170423309511\n",
      "Метрика F1 = 0.528695652173913\n",
      "Метрика roc_auc = 0.6856414425882119\n"
     ]
    }
   ],
   "source": [
    "model_RFC = RandomForestClassifier(random_state=2504, max_depth=grid_param.best_params_['max_depth'],n_estimators=grid_param.best_params_['n_estimators']).fit(features_train, target_train) # обучение модели с заданной глубиной дерева\n",
    "predicted_valid = model_RFC.predict(features_valid) # получение предсказания модели\n",
    "print('Точность  =', accuracy_score(target_valid, predicted_valid))\n",
    "print('Метрика F1 =',f1_score(target_valid, predicted_valid))\n",
    "print('Метрика roc_auc =', roc_auc_score(target_valid,predicted_valid))"
   ]
  },
  {
   "cell_type": "markdown",
   "metadata": {},
   "source": [
    "**Вывод**\n",
    "Дерево решений не дает необходимый уровень точности."
   ]
  },
  {
   "cell_type": "markdown",
   "metadata": {},
   "source": [
    "### Выводы"
   ]
  },
  {
   "cell_type": "markdown",
   "metadata": {},
   "source": [
    "Из-за дисбаланса классов невозможно добиться требуемой точности в имеющихся моделях машинного обучения, хуже всего показал себя метод логической классификации"
   ]
  },
  {
   "cell_type": "markdown",
   "metadata": {},
   "source": [
    "## Борьба с дисбалансом"
   ]
  },
  {
   "cell_type": "markdown",
   "metadata": {},
   "source": [
    "### Увеличение выборки (upsampling)"
   ]
  },
  {
   "cell_type": "code",
   "execution_count": 8,
   "metadata": {},
   "outputs": [],
   "source": [
    "def upsemp (features_1,target_1,repeat):\n",
    "    features_zeros = features_1[target_1 == 0]\n",
    "    features_ones = features_1[target_1 == 1]\n",
    "    target_zeros = target_1[target_1 == 0]\n",
    "    target_ones = target_1[target_1 == 1]\n",
    "    features_upsampled = pd.concat([features_zeros] + [features_ones] * repeat)\n",
    "    target_upsampled = pd.concat([target_zeros] + [target_ones] * repeat)\n",
    "    features_train_upsampled, target_train_upsampled = shuffle(features_upsampled, target_upsampled, random_state=2504)\n",
    "    return features_upsampled, target_upsampled\n",
    "features_train_upsemp, target_train_upsemp=upsemp(features_train,target_train,5)"
   ]
  },
  {
   "cell_type": "markdown",
   "metadata": {},
   "source": [
    "### Уменьшение выборки (downsampling)"
   ]
  },
  {
   "cell_type": "code",
   "execution_count": 9,
   "metadata": {},
   "outputs": [],
   "source": [
    "def downsamp (features_1, target_1, fraction):\n",
    "    features_zeros = features_1[target_1 == 0]\n",
    "    features_ones = features_1[target_1 == 1]\n",
    "    target_zeros = target_1[target_1 == 0]\n",
    "    target_ones = target_1[target_1 == 1]\n",
    "    features_downsampled = pd.concat([features_zeros.sample(frac=fraction, random_state=2504)] + [features_ones])\n",
    "    target_downsampled = pd.concat([target_zeros.sample(frac=fraction, random_state=2504)] + [target_ones])\n",
    "    features_downsampled, target_downsampled = shuffle(features_downsampled, target_downsampled, random_state=2504)\n",
    "    return features_downsampled, target_downsampled\n",
    "features_train_downsamp, target_train_downsamp=downsamp(features_train,target_train,0.1)"
   ]
  },
  {
   "cell_type": "markdown",
   "metadata": {},
   "source": [
    "### Логическая классификация"
   ]
  },
  {
   "cell_type": "markdown",
   "metadata": {},
   "source": [
    "Взвешивание классов"
   ]
  },
  {
   "cell_type": "code",
   "execution_count": 17,
   "metadata": {},
   "outputs": [
    {
     "name": "stdout",
     "output_type": "stream",
     "text": [
      "Точность  = 0.7157778999450247\n",
      "Метрика F1 = 0.4995159728944821\n",
      "Метрика roc_auc = 0.7041722923878934\n",
      "CPU times: user 48.6 ms, sys: 15.9 ms, total: 64.5 ms\n",
      "Wall time: 22.3 ms\n"
     ]
    }
   ],
   "source": [
    "%%time\n",
    "model_LR_b =  LogisticRegression(random_state=2504,solver='liblinear',class_weight='balanced')\n",
    "model_LR_b.fit(features_train, target_train) \n",
    "predicted_valid = model_LR_b.predict(features_valid)\n",
    "\n",
    "print('Точность  =',accuracy_score(target_valid, predicted_valid))\n",
    "print('Метрика F1 =',f1_score(target_valid, predicted_valid))\n",
    "print('Метрика roc_auc =', roc_auc_score(target_valid,predicted_valid))"
   ]
  },
  {
   "cell_type": "markdown",
   "metadata": {},
   "source": [
    "Увеличение выборки (upsampling)"
   ]
  },
  {
   "cell_type": "code",
   "execution_count": 18,
   "metadata": {},
   "outputs": [
    {
     "name": "stdout",
     "output_type": "stream",
     "text": [
      "Точность  = 0.6586036283672347\n",
      "Метрика F1 = 0.4872006606110653\n",
      "Метрика roc_auc = 0.7043534804666374\n",
      "CPU times: user 65.8 ms, sys: 54.3 ms, total: 120 ms\n",
      "Wall time: 111 ms\n"
     ]
    }
   ],
   "source": [
    "%%time\n",
    "model_LR_up =  LogisticRegression(random_state=2504,solver='liblinear')\n",
    "model_LR_up.fit(features_train_upsemp, target_train_upsemp) # обучение модели \n",
    "predicted_valid = model_LR_up.predict(features_valid)# получение предсказания модели\n",
    "\n",
    "print('Точность  =',accuracy_score(target_valid, predicted_valid))\n",
    "print('Метрика F1 =',f1_score(target_valid, predicted_valid))\n",
    "print('Метрика roc_auc =', roc_auc_score(target_valid,predicted_valid))"
   ]
  },
  {
   "cell_type": "markdown",
   "metadata": {},
   "source": [
    "Уменьшение выборки (downsampling)"
   ]
  },
  {
   "cell_type": "code",
   "execution_count": 19,
   "metadata": {},
   "outputs": [
    {
     "name": "stdout",
     "output_type": "stream",
     "text": [
      "Точность  = 0.4667399670148433\n",
      "Метрика F1 = 0.4205495818399044\n",
      "Метрика roc_auc = 0.6391735984136386\n",
      "CPU times: user 20.2 ms, sys: 23.9 ms, total: 44.1 ms\n",
      "Wall time: 17.7 ms\n"
     ]
    }
   ],
   "source": [
    "%%time\n",
    "model_LR_down =  LogisticRegression(random_state=2504,solver='liblinear')\n",
    "model_LR_down.fit(features_train_downsamp, target_train_downsamp) # обучение модели \n",
    "predicted_valid = model_LR_down.predict(features_valid)# получение предсказания модели\n",
    "\n",
    "print('Точность  =',accuracy_score(target_valid, predicted_valid))\n",
    "print('Метрика F1 =',f1_score(target_valid, predicted_valid))\n",
    "print('Метрика roc_auc =', roc_auc_score(target_valid,predicted_valid))"
   ]
  },
  {
   "cell_type": "markdown",
   "metadata": {},
   "source": [
    "**Вывод**\n",
    "\n",
    "Логическая классификация после баланса классов показывает метрики удовлетворяющие требованию"
   ]
  },
  {
   "cell_type": "markdown",
   "metadata": {},
   "source": [
    "### Дерево решений"
   ]
  },
  {
   "cell_type": "markdown",
   "metadata": {},
   "source": [
    "Взвешивание классов"
   ]
  },
  {
   "cell_type": "code",
   "execution_count": 20,
   "metadata": {},
   "outputs": [
    {
     "name": "stdout",
     "output_type": "stream",
     "text": [
      "CPU times: user 4.44 s, sys: 55.8 ms, total: 4.49 s\n",
      "Wall time: 4.51 s\n"
     ]
    },
    {
     "data": {
      "text/plain": [
       "GridSearchCV(cv=3, estimator=DecisionTreeClassifier(),\n",
       "             param_grid={'max_depth': range(1, 10, 2),\n",
       "                         'min_samples_leaf': range(2, 10, 2),\n",
       "                         'min_samples_split': range(1, 8)})"
      ]
     },
     "execution_count": 20,
     "metadata": {},
     "output_type": "execute_result"
    }
   ],
   "source": [
    "%%time\n",
    "model_DTC =  DecisionTreeClassifier()\n",
    "parametrs={\n",
    "    'max_depth':range(1,10,2),\n",
    "    'min_samples_split':range(1,8),\\\n",
    "    'min_samples_leaf':range(2,10,2)\n",
    "}\n",
    "grid_param=GridSearchCV(model_DTC,parametrs,cv=3)\n",
    "grid_param.fit(features_train, target_train)"
   ]
  },
  {
   "cell_type": "code",
   "execution_count": 21,
   "metadata": {},
   "outputs": [
    {
     "data": {
      "text/plain": [
       "{'max_depth': 5, 'min_samples_leaf': 4, 'min_samples_split': 2}"
      ]
     },
     "execution_count": 21,
     "metadata": {},
     "output_type": "execute_result"
    }
   ],
   "source": [
    "grid_param.best_params_"
   ]
  },
  {
   "cell_type": "code",
   "execution_count": 22,
   "metadata": {},
   "outputs": [
    {
     "name": "stdout",
     "output_type": "stream",
     "text": [
      "Точность  = 0.736668499175371\n",
      "Метрика F1 = 0.5577100646352724\n",
      "Метрика roc_auc = 0.7604472862256592\n"
     ]
    }
   ],
   "source": [
    "model_DTC_b = DecisionTreeClassifier(random_state=2504, max_depth=grid_param.best_params_['max_depth'],class_weight='balanced')\n",
    "model_DTC_b.fit(features_train,target_train) \n",
    "predicted_valid= model_DTC_b.predict(features_valid) \n",
    "print('Точность  =',accuracy_score(target_valid, predicted_valid))\n",
    "print('Метрика F1 =',f1_score(target_valid, predicted_valid))\n",
    "print('Метрика roc_auc =', roc_auc_score(target_valid, predicted_valid))"
   ]
  },
  {
   "cell_type": "markdown",
   "metadata": {},
   "source": [
    "Увеличение выборки (upsampling)"
   ]
  },
  {
   "cell_type": "code",
   "execution_count": 23,
   "metadata": {},
   "outputs": [
    {
     "name": "stdout",
     "output_type": "stream",
     "text": [
      "CPU times: user 21.7 s, sys: 83.9 ms, total: 21.8 s\n",
      "Wall time: 21.8 s\n"
     ]
    },
    {
     "data": {
      "text/plain": [
       "GridSearchCV(cv=3, estimator=DecisionTreeClassifier(),\n",
       "             param_grid={'max_depth': range(1, 27, 2),\n",
       "                         'min_samples_leaf': range(2, 10, 2),\n",
       "                         'min_samples_split': range(1, 8)})"
      ]
     },
     "execution_count": 23,
     "metadata": {},
     "output_type": "execute_result"
    }
   ],
   "source": [
    "%%time\n",
    "model_DTC_up =  DecisionTreeClassifier()\n",
    "parametrs={\n",
    "    'max_depth':range(1,27,2),\n",
    "    'min_samples_split':range(1,8),\n",
    "    'min_samples_leaf':range(2,10,2)\n",
    "}\n",
    "grid_param=GridSearchCV(model_DTC_up,parametrs,cv=3)\n",
    "grid_param.fit(features_train_upsemp, target_train_upsemp)"
   ]
  },
  {
   "cell_type": "code",
   "execution_count": 24,
   "metadata": {},
   "outputs": [
    {
     "data": {
      "text/plain": [
       "{'max_depth': 25, 'min_samples_leaf': 2, 'min_samples_split': 4}"
      ]
     },
     "execution_count": 24,
     "metadata": {},
     "output_type": "execute_result"
    }
   ],
   "source": [
    "grid_param.best_params_"
   ]
  },
  {
   "cell_type": "code",
   "execution_count": 26,
   "metadata": {},
   "outputs": [
    {
     "name": "stdout",
     "output_type": "stream",
     "text": [
      "Точность  = 0.8020890599230346\n",
      "Метрика F1 = 0.5068493150684931\n",
      "Метрика roc_auc = 0.6871056630012105\n"
     ]
    }
   ],
   "source": [
    "model_DTC_up = DecisionTreeClassifier(random_state=2504,max_depth=grid_param.best_params_['max_depth']).fit(features_train_upsemp,target_train_upsemp) # обучение модели с заданной глубиной дерева\n",
    "predicted_valid= model_DTC_up.predict(features_valid) # получение предсказания модели\n",
    "print('Точность  =',accuracy_score(target_valid, predicted_valid))\n",
    "print('Метрика F1 =',f1_score(target_valid, predicted_valid))\n",
    "print('Метрика roc_auc =', roc_auc_score(target_valid, predicted_valid))"
   ]
  },
  {
   "cell_type": "markdown",
   "metadata": {},
   "source": [
    "Уменьшение выборки (downsampling)"
   ]
  },
  {
   "cell_type": "code",
   "execution_count": 27,
   "metadata": {},
   "outputs": [
    {
     "name": "stdout",
     "output_type": "stream",
     "text": [
      "CPU times: user 8.5 s, sys: 3.99 ms, total: 8.5 s\n",
      "Wall time: 8.51 s\n"
     ]
    },
    {
     "data": {
      "text/plain": [
       "GridSearchCV(cv=3, estimator=DecisionTreeClassifier(),\n",
       "             param_grid={'max_depth': range(1, 33, 2),\n",
       "                         'min_samples_leaf': range(2, 10, 2),\n",
       "                         'min_samples_split': range(1, 8)})"
      ]
     },
     "execution_count": 27,
     "metadata": {},
     "output_type": "execute_result"
    }
   ],
   "source": [
    "%%time\n",
    "model_DTC_down =  DecisionTreeClassifier()\n",
    "parametrs={\n",
    "    'max_depth':range(1,33,2),\n",
    "    'min_samples_split':range(1,8),\n",
    "    'min_samples_leaf':range(2,10,2)\n",
    "}\n",
    "grid_param=GridSearchCV(model_DTC_down,parametrs,cv=3)\n",
    "grid_param.fit(features_train_downsamp, target_train_downsamp)"
   ]
  },
  {
   "cell_type": "markdown",
   "metadata": {},
   "source": [
    "Лучшие параметры обучения"
   ]
  },
  {
   "cell_type": "code",
   "execution_count": 28,
   "metadata": {},
   "outputs": [
    {
     "data": {
      "text/plain": [
       "{'max_depth': 3, 'min_samples_leaf': 2, 'min_samples_split': 2}"
      ]
     },
     "execution_count": 28,
     "metadata": {},
     "output_type": "execute_result"
    }
   ],
   "source": [
    "grid_param.best_params_"
   ]
  },
  {
   "cell_type": "code",
   "execution_count": 30,
   "metadata": {},
   "outputs": [
    {
     "name": "stdout",
     "output_type": "stream",
     "text": [
      "Точность  = 0.5316107751511819\n",
      "Метрика F1 = 0.44675324675324674\n",
      "Метрика roc_auc = 0.6722528392263913\n"
     ]
    }
   ],
   "source": [
    "model_DTC_down = DecisionTreeClassifier(random_state=2504, max_depth=grid_param.best_params_['max_depth']).fit(features_train_downsamp,target_train_downsamp) # обучение модели с заданной глубиной дерева\n",
    "predicted_valid= model_DTC_down.predict(features_valid) # получение предсказания модели\n",
    "print('Точность  =',accuracy_score(target_valid,predicted_valid))\n",
    "print('Метрика F1 =',f1_score(target_valid, predicted_valid))\n",
    "print('Метрика roc_auc =', roc_auc_score(target_valid,predicted_valid))"
   ]
  },
  {
   "cell_type": "markdown",
   "metadata": {},
   "source": [
    "**Вывод**\n",
    "\n",
    "Классификация при помощи дерева решений позволяет добиться приемлемого уровня метрик точности"
   ]
  },
  {
   "cell_type": "markdown",
   "metadata": {},
   "source": [
    "### Случайный лес"
   ]
  },
  {
   "cell_type": "markdown",
   "metadata": {},
   "source": [
    "Взвешивание классов"
   ]
  },
  {
   "cell_type": "code",
   "execution_count": 31,
   "metadata": {},
   "outputs": [
    {
     "name": "stdout",
     "output_type": "stream",
     "text": [
      "CPU times: user 5min 15s, sys: 1.66 s, total: 5min 17s\n",
      "Wall time: 5min 17s\n"
     ]
    },
    {
     "data": {
      "text/plain": [
       "GridSearchCV(cv=3, estimator=RandomForestClassifier(),\n",
       "             param_grid={'max_depth': range(1, 13, 2),\n",
       "                         'min_samples_leaf': range(2, 10, 2),\n",
       "                         'min_samples_split': range(1, 8),\n",
       "                         'n_estimators': range(10, 61, 10)})"
      ]
     },
     "execution_count": 31,
     "metadata": {},
     "output_type": "execute_result"
    }
   ],
   "source": [
    "%%time\n",
    "model_RFC_b = RandomForestClassifier()\n",
    "parametrs={\n",
    "    'n_estimators':range(10,61,10),\n",
    "    'max_depth':range(1,13,2),\n",
    "    'min_samples_split':range(1,8),\n",
    "    'min_samples_leaf':range(2,10,2)\n",
    "}\n",
    "grid_param=GridSearchCV(model_RFC_b,parametrs,cv=3)\n",
    "grid_param.fit(features_train, target_train)\n"
   ]
  },
  {
   "cell_type": "code",
   "execution_count": 32,
   "metadata": {},
   "outputs": [
    {
     "data": {
      "text/plain": [
       "{'max_depth': 11,\n",
       " 'min_samples_leaf': 2,\n",
       " 'min_samples_split': 5,\n",
       " 'n_estimators': 60}"
      ]
     },
     "execution_count": 32,
     "metadata": {},
     "output_type": "execute_result"
    }
   ],
   "source": [
    "grid_param.best_params_"
   ]
  },
  {
   "cell_type": "code",
   "execution_count": 10,
   "metadata": {},
   "outputs": [
    {
     "name": "stdout",
     "output_type": "stream",
     "text": [
      "Точность  = 0.8416712479384277\n",
      "Метрика F1 = 0.5801749271137026\n",
      "Метрика roc_auc = 0.7257842592626658\n"
     ]
    }
   ],
   "source": [
    "model_RFC_b = RandomForestClassifier(random_state=2504, max_depth=grid_param.best_params_['max_depth'],n_estimators=grid_param.best_params_['n_estimators'],class_weight='balanced').fit(features_train, target_train) # обучение модели с заданной глубиной дерева\n",
    "predicted_valid = model_RFC_b.predict(features_valid) \n",
    "print('Точность  =', accuracy_score(target_valid, predicted_valid))\n",
    "print('Метрика F1 =',f1_score(target_valid, predicted_valid))\n",
    "print('Метрика roc_auc =', roc_auc_score(target_valid,predicted_valid))"
   ]
  },
  {
   "cell_type": "markdown",
   "metadata": {},
   "source": [
    "Увеличение выборки (upsampling)"
   ]
  },
  {
   "cell_type": "code",
   "execution_count": 34,
   "metadata": {},
   "outputs": [
    {
     "name": "stdout",
     "output_type": "stream",
     "text": [
      "CPU times: user 7min 3s, sys: 2.73 s, total: 7min 6s\n",
      "Wall time: 7min 6s\n"
     ]
    },
    {
     "data": {
      "text/plain": [
       "GridSearchCV(cv=3, estimator=RandomForestClassifier(),\n",
       "             param_grid={'max_depth': range(1, 13, 2),\n",
       "                         'min_samples_leaf': range(2, 10, 2),\n",
       "                         'min_samples_split': range(1, 8),\n",
       "                         'n_estimators': range(10, 61, 10)})"
      ]
     },
     "execution_count": 34,
     "metadata": {},
     "output_type": "execute_result"
    }
   ],
   "source": [
    "%%time\n",
    "model_RFC_up = RandomForestClassifier()\n",
    "parametrs={\n",
    "    'n_estimators':range(10,61,10),\n",
    "    'max_depth':range(1,13,2),\n",
    "    'min_samples_split':range(1,8),\n",
    "    'min_samples_leaf':range(2,10,2)\n",
    "}\n",
    "grid_param=GridSearchCV(model_RFC_up,parametrs,cv=3)\n",
    "grid_param.fit(features_train_upsemp, target_train_upsemp)\n"
   ]
  },
  {
   "cell_type": "code",
   "execution_count": 35,
   "metadata": {},
   "outputs": [
    {
     "data": {
      "text/plain": [
       "{'max_depth': 11,\n",
       " 'min_samples_leaf': 2,\n",
       " 'min_samples_split': 2,\n",
       " 'n_estimators': 60}"
      ]
     },
     "execution_count": 35,
     "metadata": {},
     "output_type": "execute_result"
    }
   ],
   "source": [
    "grid_param.best_params_"
   ]
  },
  {
   "cell_type": "code",
   "execution_count": 11,
   "metadata": {},
   "outputs": [
    {
     "name": "stdout",
     "output_type": "stream",
     "text": [
      "Точность  = 0.822979659153381\n",
      "Метрика F1 = 0.6129807692307694\n",
      "Метрика roc_auc = 0.7688481588715939\n"
     ]
    }
   ],
   "source": [
    "model_RFC_up = RandomForestClassifier(random_state=2504, max_depth=grid_param.best_params_['max_depth'],n_estimators=grid_param.best_params_['n_estimators']).fit(features_train_upsemp, target_train_upsemp) # обучение модели с заданной глубиной дерева\n",
    "predicted_valid =model_RFC_up.predict(features_valid) # получение предсказания модели\n",
    "print('Точность  =', accuracy_score(target_valid, predicted_valid))\n",
    "print('Метрика F1 =',f1_score(target_valid, predicted_valid))\n",
    "print('Метрика roc_auc =', roc_auc_score(target_valid,predicted_valid))"
   ]
  },
  {
   "cell_type": "markdown",
   "metadata": {},
   "source": [
    "Уменьшение выборки (downsampling)"
   ]
  },
  {
   "cell_type": "code",
   "execution_count": 38,
   "metadata": {},
   "outputs": [
    {
     "name": "stdout",
     "output_type": "stream",
     "text": [
      "CPU times: user 3min 4s, sys: 1.79 s, total: 3min 6s\n",
      "Wall time: 3min 6s\n"
     ]
    },
    {
     "data": {
      "text/plain": [
       "GridSearchCV(cv=3, estimator=RandomForestClassifier(),\n",
       "             param_grid={'max_depth': range(1, 13, 2),\n",
       "                         'min_samples_leaf': range(2, 10, 2),\n",
       "                         'min_samples_split': range(1, 8),\n",
       "                         'n_estimators': range(10, 61, 10)})"
      ]
     },
     "execution_count": 38,
     "metadata": {},
     "output_type": "execute_result"
    }
   ],
   "source": [
    "%%time\n",
    "model_RFC_down = RandomForestClassifier()\n",
    "parametrs={\n",
    "    'n_estimators':range(10,61,10),\n",
    "    'max_depth':range(1,13,2),\n",
    "    'min_samples_split':range(1,8),\n",
    "    'min_samples_leaf':range(2,10,2)\n",
    "}\n",
    "grid_param=GridSearchCV(model_RFC_down,parametrs,cv=3)\n",
    "grid_param.fit(features_train_downsamp, target_train_downsamp)"
   ]
  },
  {
   "cell_type": "code",
   "execution_count": 39,
   "metadata": {},
   "outputs": [
    {
     "data": {
      "text/plain": [
       "{'max_depth': 9,\n",
       " 'min_samples_leaf': 2,\n",
       " 'min_samples_split': 7,\n",
       " 'n_estimators': 40}"
      ]
     },
     "execution_count": 39,
     "metadata": {},
     "output_type": "execute_result"
    }
   ],
   "source": [
    "grid_param.best_params_"
   ]
  },
  {
   "cell_type": "code",
   "execution_count": 40,
   "metadata": {},
   "outputs": [
    {
     "name": "stdout",
     "output_type": "stream",
     "text": [
      "Точность  = 0.577240241891149\n",
      "Метрика F1 = 0.4743677375256324\n",
      "Метрика roc_auc = 0.7039708701074621\n"
     ]
    }
   ],
   "source": [
    "model_RFC_down = RandomForestClassifier(random_state=2504, max_depth=grid_param.best_params_['max_depth'],n_estimators=grid_param.best_params_['n_estimators']).fit(features_train_downsamp, target_train_downsamp) # обучение модели с заданной глубиной дерева\n",
    "predicted_valid = model_RFC_down.predict(features_valid) # получение предсказания модели\n",
    "print('Точность  =', accuracy_score(target_valid, predicted_valid))\n",
    "print('Метрика F1 =',f1_score(target_valid, predicted_valid))\n",
    "print('Метрика roc_auc =', roc_auc_score(target_valid,predicted_valid))"
   ]
  },
  {
   "cell_type": "markdown",
   "metadata": {},
   "source": [
    "**Вывод**\n",
    "\n",
    "Классификация при помощи случайного леса позволяет добиться приемлемого значения метрик точности, но вслучае необходимости переобучения модели процесс занимает значительно больше времени в сравнении с другими методами."
   ]
  },
  {
   "cell_type": "markdown",
   "metadata": {},
   "source": [
    "### Выводы"
   ]
  },
  {
   "cell_type": "markdown",
   "metadata": {},
   "source": [
    "Применение балансировки классов позволило добиться улучшения показателей метрик точности всех моделей. Наименее эффективным оказался метод баланса классов, использование этого подхода позволило только моделе случайного леса добиться требуемых метрик. Применение увеличеной и уменьшеной выборок позволило добиться требуемых метрик всем тестированным моделям. "
   ]
  },
  {
   "cell_type": "markdown",
   "metadata": {},
   "source": [
    "## Тестирование модели"
   ]
  },
  {
   "cell_type": "markdown",
   "metadata": {},
   "source": [
    "### Логическая классификация"
   ]
  },
  {
   "cell_type": "markdown",
   "metadata": {},
   "source": [
    "Взвешивание классов"
   ]
  },
  {
   "cell_type": "code",
   "execution_count": 41,
   "metadata": {},
   "outputs": [
    {
     "name": "stdout",
     "output_type": "stream",
     "text": [
      "Точность  = 0.7117711771177118\n",
      "Метрика F1 = 0.4801587301587302\n",
      "Метрика roc_auc = 0.6996687622004643\n"
     ]
    }
   ],
   "source": [
    "predicted_valid = model_LR_b.predict(features_test)# получение предсказания модели\n",
    "print('Точность  =',accuracy_score(target_test, predicted_valid))\n",
    "print('Метрика F1 =',f1_score(target_test, predicted_valid))\n",
    "print('Метрика roc_auc =', roc_auc_score(target_test,predicted_valid))"
   ]
  },
  {
   "cell_type": "markdown",
   "metadata": {},
   "source": [
    "Увеличение выборки (upsampling)"
   ]
  },
  {
   "cell_type": "code",
   "execution_count": 42,
   "metadata": {},
   "outputs": [
    {
     "name": "stdout",
     "output_type": "stream",
     "text": [
      "Точность  = 0.6512651265126512\n",
      "Метрика F1 = 0.4636209813874789\n",
      "Метрика roc_auc = 0.6960489709340753\n"
     ]
    }
   ],
   "source": [
    "predicted_valid = model_LR_up.predict(features_test)# получение предсказания модели\n",
    "print('Точность  =',accuracy_score(target_test, predicted_valid))\n",
    "print('Метрика F1 =',f1_score(target_test, predicted_valid))\n",
    "print('Метрика roc_auc =', roc_auc_score(target_test,predicted_valid))"
   ]
  },
  {
   "cell_type": "markdown",
   "metadata": {},
   "source": [
    "Уменьшение выборки (downsampling)"
   ]
  },
  {
   "cell_type": "code",
   "execution_count": 43,
   "metadata": {},
   "outputs": [
    {
     "name": "stdout",
     "output_type": "stream",
     "text": [
      "Точность  = 0.43014301430143015\n",
      "Метрика F1 = 0.38987043580683156\n",
      "Метрика roc_auc = 0.6191284065233096\n"
     ]
    }
   ],
   "source": [
    "predicted_valid = model_LR_down.predict(features_test)# получение предсказания модели\n",
    "print('Точность  =',accuracy_score(target_test, predicted_valid))\n",
    "print('Метрика F1 =',f1_score(target_test, predicted_valid))\n",
    "print('Метрика roc_auc =', roc_auc_score(target_test,predicted_valid))"
   ]
  },
  {
   "cell_type": "markdown",
   "metadata": {},
   "source": [
    "### Дерево решений"
   ]
  },
  {
   "cell_type": "markdown",
   "metadata": {},
   "source": [
    "Взвешивание классов"
   ]
  },
  {
   "cell_type": "code",
   "execution_count": 44,
   "metadata": {},
   "outputs": [
    {
     "name": "stdout",
     "output_type": "stream",
     "text": [
      "Точность  = 0.7497249724972497\n",
      "Метрика F1 = 0.5560975609756098\n",
      "Метрика roc_auc = 0.7689539494919995\n"
     ]
    }
   ],
   "source": [
    "predicted_valid = model_DTC_b.predict(features_test)# получение предсказания модели\n",
    "print('Точность  =',accuracy_score(target_test, predicted_valid))\n",
    "print('Метрика F1 =',f1_score(target_test, predicted_valid))\n",
    "print('Метрика roc_auc =', roc_auc_score(target_test,predicted_valid))"
   ]
  },
  {
   "cell_type": "markdown",
   "metadata": {},
   "source": [
    "Увеличение выборки (upsampling)"
   ]
  },
  {
   "cell_type": "code",
   "execution_count": 45,
   "metadata": {},
   "outputs": [
    {
     "name": "stdout",
     "output_type": "stream",
     "text": [
      "Точность  = 0.8008800880088008\n",
      "Метрика F1 = 0.505464480874317\n",
      "Метрика roc_auc = 0.6945099832459767\n"
     ]
    }
   ],
   "source": [
    "predicted_valid = model_DTC_up.predict(features_test)# получение предсказания модели\n",
    "print('Точность  =',accuracy_score(target_test, predicted_valid))\n",
    "print('Метрика F1 =',f1_score(target_test, predicted_valid))\n",
    "print('Метрика roc_auc =', roc_auc_score(target_test,predicted_valid))"
   ]
  },
  {
   "cell_type": "markdown",
   "metadata": {},
   "source": [
    "Уменьшение выборки (downsampling)"
   ]
  },
  {
   "cell_type": "code",
   "execution_count": 46,
   "metadata": {},
   "outputs": [
    {
     "name": "stdout",
     "output_type": "stream",
     "text": [
      "Точность  = 0.5253025302530253\n",
      "Метрика F1 = 0.4348395546823837\n",
      "Метрика roc_auc = 0.6793564303170967\n"
     ]
    }
   ],
   "source": [
    "predicted_valid = model_DTC_down.predict(features_test)# получение предсказания модели\n",
    "print('Точность  =',accuracy_score(target_test, predicted_valid))\n",
    "print('Метрика F1 =',f1_score(target_test, predicted_valid))\n",
    "print('Метрика roc_auc =', roc_auc_score(target_test,predicted_valid))"
   ]
  },
  {
   "cell_type": "markdown",
   "metadata": {},
   "source": [
    "### Случайный лес"
   ]
  },
  {
   "cell_type": "markdown",
   "metadata": {},
   "source": [
    "Взвешивание классов"
   ]
  },
  {
   "cell_type": "code",
   "execution_count": 12,
   "metadata": {},
   "outputs": [
    {
     "name": "stdout",
     "output_type": "stream",
     "text": [
      "Точность  = 0.8597359735973598\n",
      "Метрика F1 = 0.6188340807174888\n",
      "Метрика roc_auc = 0.7544786270923316\n"
     ]
    }
   ],
   "source": [
    "predicted_valid = model_RFC_b.predict(features_test)# получение предсказания модели\n",
    "print('Точность  =',accuracy_score(target_test, predicted_valid))\n",
    "print('Метрика F1 =',f1_score(target_test, predicted_valid))\n",
    "print('Метрика roc_auc =', roc_auc_score(target_test,predicted_valid))"
   ]
  },
  {
   "cell_type": "markdown",
   "metadata": {},
   "source": [
    "Увеличение выборки (upsampling)"
   ]
  },
  {
   "cell_type": "code",
   "execution_count": 48,
   "metadata": {},
   "outputs": [
    {
     "name": "stdout",
     "output_type": "stream",
     "text": [
      "Точность  = 0.8261826182618262\n",
      "Метрика F1 = 0.6146341463414634\n",
      "Метрика roc_auc = 0.7814291642970227\n"
     ]
    }
   ],
   "source": [
    "predicted_valid = model_RFC_up.predict(features_test)# получение предсказания модели\n",
    "print('Точность  =',accuracy_score(target_test, predicted_valid))\n",
    "print('Метрика F1 =',f1_score(target_test, predicted_valid))\n",
    "print('Метрика roc_auc =', roc_auc_score(target_test,predicted_valid))"
   ]
  },
  {
   "cell_type": "markdown",
   "metadata": {},
   "source": [
    "Уменьшение выборки (downsampling)"
   ]
  },
  {
   "cell_type": "code",
   "execution_count": 49,
   "metadata": {},
   "outputs": [
    {
     "name": "stdout",
     "output_type": "stream",
     "text": [
      "Точность  = 0.5588558855885588\n",
      "Метрика F1 = 0.45737483085250336\n",
      "Метрика roc_auc = 0.7065932461304354\n"
     ]
    }
   ],
   "source": [
    "predicted_valid = model_RFC_down.predict(features_test)# получение предсказания модели\n",
    "print('Точность  =',accuracy_score(target_test, predicted_valid))\n",
    "print('Метрика F1 =',f1_score(target_test, predicted_valid))\n",
    "print('Метрика roc_auc =', roc_auc_score(target_test,predicted_valid))"
   ]
  }
 ],
 "metadata": {
  "ExecuteTimeLog": [
   {
    "duration": 1125,
    "start_time": "2022-05-17T18:21:01.652Z"
   },
   {
    "duration": 52,
    "start_time": "2022-05-17T18:21:02.779Z"
   },
   {
    "duration": 88,
    "start_time": "2022-05-17T18:21:06.553Z"
   },
   {
    "duration": 9,
    "start_time": "2022-05-17T18:21:22.033Z"
   },
   {
    "duration": 11,
    "start_time": "2022-05-17T18:21:26.844Z"
   },
   {
    "duration": 49,
    "start_time": "2022-05-17T19:37:55.480Z"
   },
   {
    "duration": 1278,
    "start_time": "2022-05-17T19:47:16.511Z"
   },
   {
    "duration": 89,
    "start_time": "2022-05-17T19:47:17.791Z"
   },
   {
    "duration": 13,
    "start_time": "2022-05-17T19:47:17.987Z"
   },
   {
    "duration": 112,
    "start_time": "2022-05-17T19:47:42.496Z"
   },
   {
    "duration": 13,
    "start_time": "2022-05-17T19:47:55.900Z"
   },
   {
    "duration": 12,
    "start_time": "2022-05-17T19:48:54.043Z"
   },
   {
    "duration": 55,
    "start_time": "2022-05-17T19:49:21.375Z"
   },
   {
    "duration": 36,
    "start_time": "2022-05-17T19:49:33.872Z"
   },
   {
    "duration": 7,
    "start_time": "2022-05-17T19:49:41.452Z"
   },
   {
    "duration": 14,
    "start_time": "2022-05-17T19:50:13.535Z"
   },
   {
    "duration": 21,
    "start_time": "2022-05-17T19:50:55.031Z"
   },
   {
    "duration": 11,
    "start_time": "2022-05-17T19:51:02.340Z"
   },
   {
    "duration": 9,
    "start_time": "2022-05-17T19:51:06.495Z"
   },
   {
    "duration": 41,
    "start_time": "2022-05-17T19:52:41.979Z"
   },
   {
    "duration": 32,
    "start_time": "2022-05-17T19:53:25.763Z"
   },
   {
    "duration": 22,
    "start_time": "2022-05-17T19:53:26.361Z"
   },
   {
    "duration": 43,
    "start_time": "2022-05-17T19:53:27.264Z"
   },
   {
    "duration": 66,
    "start_time": "2022-05-17T19:53:31.299Z"
   },
   {
    "duration": 4554,
    "start_time": "2022-05-17T19:53:34.800Z"
   },
   {
    "duration": 9,
    "start_time": "2022-05-17T19:53:39.356Z"
   },
   {
    "duration": 29,
    "start_time": "2022-05-17T19:53:39.367Z"
   },
   {
    "duration": 11,
    "start_time": "2022-05-17T19:54:00.320Z"
   },
   {
    "duration": 31,
    "start_time": "2022-05-17T19:54:45.908Z"
   },
   {
    "duration": 314556,
    "start_time": "2022-05-17T19:55:12.319Z"
   },
   {
    "duration": 3,
    "start_time": "2022-05-17T20:00:26.877Z"
   },
   {
    "duration": 314,
    "start_time": "2022-05-17T20:00:26.882Z"
   },
   {
    "duration": 30,
    "start_time": "2022-05-17T20:00:27.198Z"
   },
   {
    "duration": 22,
    "start_time": "2022-05-17T20:02:24.325Z"
   },
   {
    "duration": 14,
    "start_time": "2022-05-17T20:02:38.749Z"
   },
   {
    "duration": 11,
    "start_time": "2022-05-17T20:02:39.801Z"
   },
   {
    "duration": 108,
    "start_time": "2022-05-17T20:02:43.662Z"
   },
   {
    "duration": 90,
    "start_time": "2022-05-17T20:02:45.078Z"
   },
   {
    "duration": 61,
    "start_time": "2022-05-17T20:02:46.586Z"
   },
   {
    "duration": 4,
    "start_time": "2022-05-17T20:03:25.702Z"
   },
   {
    "duration": 61,
    "start_time": "2022-05-17T20:03:26.156Z"
   },
   {
    "duration": 17,
    "start_time": "2022-05-17T20:03:26.577Z"
   },
   {
    "duration": 8,
    "start_time": "2022-05-17T20:03:26.778Z"
   },
   {
    "duration": 24,
    "start_time": "2022-05-17T20:03:27.581Z"
   },
   {
    "duration": 18,
    "start_time": "2022-05-17T20:03:28.018Z"
   },
   {
    "duration": 29,
    "start_time": "2022-05-17T20:03:28.715Z"
   },
   {
    "duration": 28,
    "start_time": "2022-05-17T20:03:30.312Z"
   },
   {
    "duration": 4545,
    "start_time": "2022-05-17T20:03:31.010Z"
   },
   {
    "duration": 12,
    "start_time": "2022-05-17T20:03:35.557Z"
   },
   {
    "duration": 43,
    "start_time": "2022-05-17T20:03:35.571Z"
   },
   {
    "duration": 322938,
    "start_time": "2022-05-17T20:03:35.616Z"
   },
   {
    "duration": 25,
    "start_time": "2022-05-17T20:08:58.556Z"
   },
   {
    "duration": 354,
    "start_time": "2022-05-17T20:08:58.591Z"
   },
   {
    "duration": 25,
    "start_time": "2022-05-17T20:08:58.947Z"
   },
   {
    "duration": 17,
    "start_time": "2022-05-17T20:08:58.986Z"
   },
   {
    "duration": 87,
    "start_time": "2022-05-17T20:08:59.005Z"
   },
   {
    "duration": 192,
    "start_time": "2022-05-17T20:08:59.095Z"
   },
   {
    "duration": 67,
    "start_time": "2022-05-17T20:08:59.365Z"
   },
   {
    "duration": 67,
    "start_time": "2022-05-17T20:10:40.805Z"
   },
   {
    "duration": 58,
    "start_time": "2022-05-17T20:10:46.253Z"
   },
   {
    "duration": 19,
    "start_time": "2022-05-17T20:11:15.413Z"
   },
   {
    "duration": 4405,
    "start_time": "2022-05-17T20:11:19.326Z"
   },
   {
    "duration": 4,
    "start_time": "2022-05-17T20:11:23.733Z"
   },
   {
    "duration": 41,
    "start_time": "2022-05-17T20:11:23.738Z"
   },
   {
    "duration": 22363,
    "start_time": "2022-05-17T20:11:23.781Z"
   },
   {
    "duration": 3,
    "start_time": "2022-05-17T20:11:46.146Z"
   },
   {
    "duration": 50,
    "start_time": "2022-05-17T20:11:46.168Z"
   },
   {
    "duration": 4371,
    "start_time": "2022-05-17T20:13:39.709Z"
   },
   {
    "duration": 3,
    "start_time": "2022-05-17T20:13:44.082Z"
   },
   {
    "duration": 24,
    "start_time": "2022-05-17T20:13:44.087Z"
   },
   {
    "duration": 22445,
    "start_time": "2022-05-17T20:13:45.114Z"
   },
   {
    "duration": 4,
    "start_time": "2022-05-17T20:14:07.565Z"
   },
   {
    "duration": 55,
    "start_time": "2022-05-17T20:14:07.571Z"
   },
   {
    "duration": 934,
    "start_time": "2022-05-17T20:15:50.837Z"
   },
   {
    "duration": 58,
    "start_time": "2022-05-17T20:15:51.775Z"
   },
   {
    "duration": 13,
    "start_time": "2022-05-17T20:15:51.835Z"
   },
   {
    "duration": 8,
    "start_time": "2022-05-17T20:15:51.864Z"
   },
   {
    "duration": 32,
    "start_time": "2022-05-17T20:15:51.874Z"
   },
   {
    "duration": 19,
    "start_time": "2022-05-17T20:15:51.908Z"
   },
   {
    "duration": 46,
    "start_time": "2022-05-17T20:15:51.929Z"
   },
   {
    "duration": 90,
    "start_time": "2022-05-17T20:15:51.977Z"
   },
   {
    "duration": 4380,
    "start_time": "2022-05-17T20:15:52.071Z"
   },
   {
    "duration": 3,
    "start_time": "2022-05-17T20:15:56.453Z"
   },
   {
    "duration": 30,
    "start_time": "2022-05-17T20:15:56.458Z"
   },
   {
    "duration": 308297,
    "start_time": "2022-05-17T20:15:56.489Z"
   },
   {
    "duration": 4,
    "start_time": "2022-05-17T20:21:04.788Z"
   },
   {
    "duration": 331,
    "start_time": "2022-05-17T20:21:04.794Z"
   },
   {
    "duration": 12,
    "start_time": "2022-05-17T20:21:05.127Z"
   },
   {
    "duration": 35,
    "start_time": "2022-05-17T20:21:05.141Z"
   },
   {
    "duration": 92,
    "start_time": "2022-05-17T20:21:05.178Z"
   },
   {
    "duration": 196,
    "start_time": "2022-05-17T20:21:05.274Z"
   },
   {
    "duration": 114,
    "start_time": "2022-05-17T20:21:05.472Z"
   },
   {
    "duration": 4588,
    "start_time": "2022-05-17T20:21:05.588Z"
   },
   {
    "duration": 3,
    "start_time": "2022-05-17T20:21:10.178Z"
   },
   {
    "duration": 26,
    "start_time": "2022-05-17T20:21:10.183Z"
   },
   {
    "duration": 21783,
    "start_time": "2022-05-17T20:21:10.211Z"
   },
   {
    "duration": 4,
    "start_time": "2022-05-17T20:21:31.996Z"
   },
   {
    "duration": 155,
    "start_time": "2022-05-17T20:21:32.001Z"
   },
   {
    "duration": 0,
    "start_time": "2022-05-17T20:21:32.158Z"
   },
   {
    "duration": 0,
    "start_time": "2022-05-17T20:21:32.159Z"
   },
   {
    "duration": 0,
    "start_time": "2022-05-17T20:21:32.161Z"
   },
   {
    "duration": 0,
    "start_time": "2022-05-17T20:21:32.166Z"
   },
   {
    "duration": 0,
    "start_time": "2022-05-17T20:21:32.168Z"
   },
   {
    "duration": 0,
    "start_time": "2022-05-17T20:21:32.169Z"
   },
   {
    "duration": 0,
    "start_time": "2022-05-17T20:21:32.170Z"
   },
   {
    "duration": 0,
    "start_time": "2022-05-17T20:21:32.172Z"
   },
   {
    "duration": 0,
    "start_time": "2022-05-17T20:21:32.173Z"
   },
   {
    "duration": 0,
    "start_time": "2022-05-17T20:21:32.175Z"
   },
   {
    "duration": 0,
    "start_time": "2022-05-17T20:21:32.176Z"
   },
   {
    "duration": 0,
    "start_time": "2022-05-17T20:21:32.178Z"
   },
   {
    "duration": 0,
    "start_time": "2022-05-17T20:21:32.179Z"
   },
   {
    "duration": 0,
    "start_time": "2022-05-17T20:21:32.180Z"
   },
   {
    "duration": 0,
    "start_time": "2022-05-17T20:21:32.181Z"
   },
   {
    "duration": 0,
    "start_time": "2022-05-17T20:21:32.182Z"
   },
   {
    "duration": 0,
    "start_time": "2022-05-17T20:21:32.183Z"
   },
   {
    "duration": 0,
    "start_time": "2022-05-17T20:21:32.184Z"
   },
   {
    "duration": 0,
    "start_time": "2022-05-17T20:21:32.185Z"
   },
   {
    "duration": 0,
    "start_time": "2022-05-17T20:21:32.186Z"
   },
   {
    "duration": 0,
    "start_time": "2022-05-17T20:21:32.187Z"
   },
   {
    "duration": 43,
    "start_time": "2022-05-17T20:33:54.377Z"
   },
   {
    "duration": 8514,
    "start_time": "2022-05-17T20:34:00.922Z"
   },
   {
    "duration": 4,
    "start_time": "2022-05-17T20:34:09.438Z"
   },
   {
    "duration": 31,
    "start_time": "2022-05-17T20:34:09.443Z"
   },
   {
    "duration": 15,
    "start_time": "2022-05-17T20:34:24.368Z"
   },
   {
    "duration": 317733,
    "start_time": "2022-05-17T20:36:05.879Z"
   },
   {
    "duration": 4,
    "start_time": "2022-05-17T20:41:23.614Z"
   },
   {
    "duration": 387,
    "start_time": "2022-05-17T20:41:23.619Z"
   },
   {
    "duration": 426324,
    "start_time": "2022-05-17T20:41:24.009Z"
   },
   {
    "duration": 5,
    "start_time": "2022-05-17T20:48:30.335Z"
   },
   {
    "duration": 0,
    "start_time": "2022-05-17T20:48:30.879Z"
   },
   {
    "duration": 0,
    "start_time": "2022-05-17T20:48:30.880Z"
   },
   {
    "duration": 0,
    "start_time": "2022-05-17T20:48:30.882Z"
   },
   {
    "duration": 0,
    "start_time": "2022-05-17T20:48:30.883Z"
   },
   {
    "duration": 0,
    "start_time": "2022-05-17T20:48:30.884Z"
   },
   {
    "duration": 0,
    "start_time": "2022-05-17T20:48:30.886Z"
   },
   {
    "duration": 0,
    "start_time": "2022-05-17T20:48:30.888Z"
   },
   {
    "duration": 0,
    "start_time": "2022-05-17T20:48:30.889Z"
   },
   {
    "duration": 0,
    "start_time": "2022-05-17T20:48:30.891Z"
   },
   {
    "duration": 0,
    "start_time": "2022-05-17T20:48:30.893Z"
   },
   {
    "duration": 0,
    "start_time": "2022-05-17T20:48:30.894Z"
   },
   {
    "duration": 0,
    "start_time": "2022-05-17T20:48:30.896Z"
   },
   {
    "duration": 0,
    "start_time": "2022-05-17T20:48:30.898Z"
   },
   {
    "duration": 502,
    "start_time": "2022-05-17T20:52:03.834Z"
   },
   {
    "duration": 186562,
    "start_time": "2022-05-17T20:52:06.314Z"
   },
   {
    "duration": 4,
    "start_time": "2022-05-17T20:55:12.878Z"
   },
   {
    "duration": 147,
    "start_time": "2022-05-17T20:55:12.884Z"
   },
   {
    "duration": 45,
    "start_time": "2022-05-17T20:55:13.033Z"
   },
   {
    "duration": 102,
    "start_time": "2022-05-17T20:55:13.081Z"
   },
   {
    "duration": 92,
    "start_time": "2022-05-17T20:55:13.185Z"
   },
   {
    "duration": 101,
    "start_time": "2022-05-17T20:55:13.280Z"
   },
   {
    "duration": 93,
    "start_time": "2022-05-17T20:55:13.383Z"
   },
   {
    "duration": 10,
    "start_time": "2022-05-17T20:55:13.479Z"
   },
   {
    "duration": 35,
    "start_time": "2022-05-17T20:55:13.491Z"
   },
   {
    "duration": 74,
    "start_time": "2022-05-17T20:55:13.527Z"
   },
   {
    "duration": 27,
    "start_time": "2022-05-17T20:55:13.604Z"
   },
   {
    "duration": 1200,
    "start_time": "2022-05-17T22:59:55.123Z"
   },
   {
    "duration": 243,
    "start_time": "2022-05-17T22:59:56.325Z"
   },
   {
    "duration": 12,
    "start_time": "2022-05-17T22:59:56.569Z"
   },
   {
    "duration": 12,
    "start_time": "2022-05-17T22:59:56.582Z"
   },
   {
    "duration": 23,
    "start_time": "2022-05-17T22:59:56.958Z"
   },
   {
    "duration": 43,
    "start_time": "2022-05-17T22:59:57.395Z"
   },
   {
    "duration": 39,
    "start_time": "2022-05-17T22:59:58.187Z"
   },
   {
    "duration": 20,
    "start_time": "2022-05-17T23:00:16.343Z"
   },
   {
    "duration": 16,
    "start_time": "2022-05-17T23:00:17.082Z"
   },
   {
    "duration": 387,
    "start_time": "2022-05-17T23:01:46.669Z"
   },
   {
    "duration": 515,
    "start_time": "2022-05-17T23:02:35.058Z"
   },
   {
    "duration": 33,
    "start_time": "2022-05-17T23:02:51.890Z"
   }
  ],
  "kernelspec": {
   "display_name": "Python 3 (ipykernel)",
   "language": "python",
   "name": "python3"
  },
  "language_info": {
   "codemirror_mode": {
    "name": "ipython",
    "version": 3
   },
   "file_extension": ".py",
   "mimetype": "text/x-python",
   "name": "python",
   "nbconvert_exporter": "python",
   "pygments_lexer": "ipython3",
   "version": "3.9.7"
  },
  "toc": {
   "base_numbering": 1,
   "nav_menu": {},
   "number_sections": true,
   "sideBar": true,
   "skip_h1_title": true,
   "title_cell": "Содержание",
   "title_sidebar": "Contents",
   "toc_cell": true,
   "toc_position": {
    "height": "calc(100% - 180px)",
    "left": "10px",
    "top": "150px",
    "width": "238.26px"
   },
   "toc_section_display": true,
   "toc_window_display": true
  }
 },
 "nbformat": 4,
 "nbformat_minor": 2
}

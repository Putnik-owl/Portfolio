{
 "cells": [
  {
   "cell_type": "markdown",
   "id": "4a74d2b4",
   "metadata": {},
   "source": [
    "Требуется оценить перспективность продаж по игровым платформам"
   ]
  },
  {
   "cell_type": "markdown",
   "id": "d66002e8",
   "metadata": {},
   "source": [
    "## Обзор данных"
   ]
  },
  {
   "cell_type": "code",
   "execution_count": 1,
   "id": "15c3c54e",
   "metadata": {},
   "outputs": [],
   "source": [
    "import pandas as pd\n",
    "import numpy as np\n",
    "from matplotlib import pyplot as plt\n",
    "from math import factorial\n",
    "from scipy.stats import norm\n",
    "from scipy import stats as st\n",
    "import scipy.stats\n",
    "import math\n",
    "import warnings\n",
    "warnings.filterwarnings(\"ignore\")"
   ]
  },
  {
   "cell_type": "code",
   "execution_count": 44,
   "id": "52877564",
   "metadata": {},
   "outputs": [
    {
     "name": "stdout",
     "output_type": "stream",
     "text": [
      "<class 'pandas.core.frame.DataFrame'>\n",
      "RangeIndex: 16715 entries, 0 to 16714\n",
      "Data columns (total 11 columns):\n",
      " #   Column           Non-Null Count  Dtype  \n",
      "---  ------           --------------  -----  \n",
      " 0   Name             16713 non-null  object \n",
      " 1   Platform         16715 non-null  object \n",
      " 2   Year_of_Release  16446 non-null  float64\n",
      " 3   Genre            16713 non-null  object \n",
      " 4   NA_sales         16715 non-null  float64\n",
      " 5   EU_sales         16715 non-null  float64\n",
      " 6   JP_sales         16715 non-null  float64\n",
      " 7   Other_sales      16715 non-null  float64\n",
      " 8   Critic_Score     8137 non-null   float64\n",
      " 9   User_Score       10014 non-null  object \n",
      " 10  Rating           9949 non-null   object \n",
      "dtypes: float64(6), object(5)\n",
      "memory usage: 1.4+ MB\n"
     ]
    },
    {
     "data": {
      "text/html": [
       "<div>\n",
       "<style scoped>\n",
       "    .dataframe tbody tr th:only-of-type {\n",
       "        vertical-align: middle;\n",
       "    }\n",
       "\n",
       "    .dataframe tbody tr th {\n",
       "        vertical-align: top;\n",
       "    }\n",
       "\n",
       "    .dataframe thead th {\n",
       "        text-align: right;\n",
       "    }\n",
       "</style>\n",
       "<table border=\"1\" class=\"dataframe\">\n",
       "  <thead>\n",
       "    <tr style=\"text-align: right;\">\n",
       "      <th></th>\n",
       "      <th>Name</th>\n",
       "      <th>Platform</th>\n",
       "      <th>Year_of_Release</th>\n",
       "      <th>Genre</th>\n",
       "      <th>NA_sales</th>\n",
       "      <th>EU_sales</th>\n",
       "      <th>JP_sales</th>\n",
       "      <th>Other_sales</th>\n",
       "      <th>Critic_Score</th>\n",
       "      <th>User_Score</th>\n",
       "      <th>Rating</th>\n",
       "    </tr>\n",
       "  </thead>\n",
       "  <tbody>\n",
       "    <tr>\n",
       "      <th>0</th>\n",
       "      <td>Wii Sports</td>\n",
       "      <td>Wii</td>\n",
       "      <td>2006.0</td>\n",
       "      <td>Sports</td>\n",
       "      <td>41.36</td>\n",
       "      <td>28.96</td>\n",
       "      <td>3.77</td>\n",
       "      <td>8.45</td>\n",
       "      <td>76.0</td>\n",
       "      <td>8</td>\n",
       "      <td>E</td>\n",
       "    </tr>\n",
       "    <tr>\n",
       "      <th>1</th>\n",
       "      <td>Super Mario Bros.</td>\n",
       "      <td>NES</td>\n",
       "      <td>1985.0</td>\n",
       "      <td>Platform</td>\n",
       "      <td>29.08</td>\n",
       "      <td>3.58</td>\n",
       "      <td>6.81</td>\n",
       "      <td>0.77</td>\n",
       "      <td>NaN</td>\n",
       "      <td>NaN</td>\n",
       "      <td>NaN</td>\n",
       "    </tr>\n",
       "    <tr>\n",
       "      <th>2</th>\n",
       "      <td>Mario Kart Wii</td>\n",
       "      <td>Wii</td>\n",
       "      <td>2008.0</td>\n",
       "      <td>Racing</td>\n",
       "      <td>15.68</td>\n",
       "      <td>12.76</td>\n",
       "      <td>3.79</td>\n",
       "      <td>3.29</td>\n",
       "      <td>82.0</td>\n",
       "      <td>8.3</td>\n",
       "      <td>E</td>\n",
       "    </tr>\n",
       "    <tr>\n",
       "      <th>3</th>\n",
       "      <td>Wii Sports Resort</td>\n",
       "      <td>Wii</td>\n",
       "      <td>2009.0</td>\n",
       "      <td>Sports</td>\n",
       "      <td>15.61</td>\n",
       "      <td>10.93</td>\n",
       "      <td>3.28</td>\n",
       "      <td>2.95</td>\n",
       "      <td>80.0</td>\n",
       "      <td>8</td>\n",
       "      <td>E</td>\n",
       "    </tr>\n",
       "    <tr>\n",
       "      <th>4</th>\n",
       "      <td>Pokemon Red/Pokemon Blue</td>\n",
       "      <td>GB</td>\n",
       "      <td>1996.0</td>\n",
       "      <td>Role-Playing</td>\n",
       "      <td>11.27</td>\n",
       "      <td>8.89</td>\n",
       "      <td>10.22</td>\n",
       "      <td>1.00</td>\n",
       "      <td>NaN</td>\n",
       "      <td>NaN</td>\n",
       "      <td>NaN</td>\n",
       "    </tr>\n",
       "    <tr>\n",
       "      <th>5</th>\n",
       "      <td>Tetris</td>\n",
       "      <td>GB</td>\n",
       "      <td>1989.0</td>\n",
       "      <td>Puzzle</td>\n",
       "      <td>23.20</td>\n",
       "      <td>2.26</td>\n",
       "      <td>4.22</td>\n",
       "      <td>0.58</td>\n",
       "      <td>NaN</td>\n",
       "      <td>NaN</td>\n",
       "      <td>NaN</td>\n",
       "    </tr>\n",
       "    <tr>\n",
       "      <th>6</th>\n",
       "      <td>New Super Mario Bros.</td>\n",
       "      <td>DS</td>\n",
       "      <td>2006.0</td>\n",
       "      <td>Platform</td>\n",
       "      <td>11.28</td>\n",
       "      <td>9.14</td>\n",
       "      <td>6.50</td>\n",
       "      <td>2.88</td>\n",
       "      <td>89.0</td>\n",
       "      <td>8.5</td>\n",
       "      <td>E</td>\n",
       "    </tr>\n",
       "    <tr>\n",
       "      <th>7</th>\n",
       "      <td>Wii Play</td>\n",
       "      <td>Wii</td>\n",
       "      <td>2006.0</td>\n",
       "      <td>Misc</td>\n",
       "      <td>13.96</td>\n",
       "      <td>9.18</td>\n",
       "      <td>2.93</td>\n",
       "      <td>2.84</td>\n",
       "      <td>58.0</td>\n",
       "      <td>6.6</td>\n",
       "      <td>E</td>\n",
       "    </tr>\n",
       "    <tr>\n",
       "      <th>8</th>\n",
       "      <td>New Super Mario Bros. Wii</td>\n",
       "      <td>Wii</td>\n",
       "      <td>2009.0</td>\n",
       "      <td>Platform</td>\n",
       "      <td>14.44</td>\n",
       "      <td>6.94</td>\n",
       "      <td>4.70</td>\n",
       "      <td>2.24</td>\n",
       "      <td>87.0</td>\n",
       "      <td>8.4</td>\n",
       "      <td>E</td>\n",
       "    </tr>\n",
       "    <tr>\n",
       "      <th>9</th>\n",
       "      <td>Duck Hunt</td>\n",
       "      <td>NES</td>\n",
       "      <td>1984.0</td>\n",
       "      <td>Shooter</td>\n",
       "      <td>26.93</td>\n",
       "      <td>0.63</td>\n",
       "      <td>0.28</td>\n",
       "      <td>0.47</td>\n",
       "      <td>NaN</td>\n",
       "      <td>NaN</td>\n",
       "      <td>NaN</td>\n",
       "    </tr>\n",
       "  </tbody>\n",
       "</table>\n",
       "</div>"
      ],
      "text/plain": [
       "                        Name Platform  Year_of_Release         Genre  \\\n",
       "0                 Wii Sports      Wii           2006.0        Sports   \n",
       "1          Super Mario Bros.      NES           1985.0      Platform   \n",
       "2             Mario Kart Wii      Wii           2008.0        Racing   \n",
       "3          Wii Sports Resort      Wii           2009.0        Sports   \n",
       "4   Pokemon Red/Pokemon Blue       GB           1996.0  Role-Playing   \n",
       "5                     Tetris       GB           1989.0        Puzzle   \n",
       "6      New Super Mario Bros.       DS           2006.0      Platform   \n",
       "7                   Wii Play      Wii           2006.0          Misc   \n",
       "8  New Super Mario Bros. Wii      Wii           2009.0      Platform   \n",
       "9                  Duck Hunt      NES           1984.0       Shooter   \n",
       "\n",
       "   NA_sales  EU_sales  JP_sales  Other_sales  Critic_Score User_Score Rating  \n",
       "0     41.36     28.96      3.77         8.45          76.0          8      E  \n",
       "1     29.08      3.58      6.81         0.77           NaN        NaN    NaN  \n",
       "2     15.68     12.76      3.79         3.29          82.0        8.3      E  \n",
       "3     15.61     10.93      3.28         2.95          80.0          8      E  \n",
       "4     11.27      8.89     10.22         1.00           NaN        NaN    NaN  \n",
       "5     23.20      2.26      4.22         0.58           NaN        NaN    NaN  \n",
       "6     11.28      9.14      6.50         2.88          89.0        8.5      E  \n",
       "7     13.96      9.18      2.93         2.84          58.0        6.6      E  \n",
       "8     14.44      6.94      4.70         2.24          87.0        8.4      E  \n",
       "9     26.93      0.63      0.28         0.47           NaN        NaN    NaN  "
      ]
     },
     "execution_count": 44,
     "metadata": {},
     "output_type": "execute_result"
    }
   ],
   "source": [
    "data_frame=pd.read_csv('/datasets/games.csv')\n",
    "data_frame.info() \n",
    "data_frame.head(10) "
   ]
  },
  {
   "cell_type": "markdown",
   "id": "7f5fea86",
   "metadata": {},
   "source": [
    "## Предобработка данных"
   ]
  },
  {
   "cell_type": "markdown",
   "id": "ac276133",
   "metadata": {},
   "source": [
    "Проверка пропусков"
   ]
  },
  {
   "cell_type": "code",
   "execution_count": 45,
   "id": "dddcb52e",
   "metadata": {},
   "outputs": [
    {
     "data": {
      "text/plain": [
       "Name                  2\n",
       "Platform              0\n",
       "Year_of_Release     269\n",
       "Genre                 2\n",
       "NA_sales              0\n",
       "EU_sales              0\n",
       "JP_sales              0\n",
       "Other_sales           0\n",
       "Critic_Score       8578\n",
       "User_Score         6701\n",
       "Rating             6766\n",
       "dtype: int64"
      ]
     },
     "metadata": {},
     "output_type": "display_data"
    },
    {
     "name": "stdout",
     "output_type": "stream",
     "text": [
      "Доля пропусков в столбце:\n",
      "Name = 0.01%\n",
      "Platform = 0.00%\n",
      "Year_of_Release = 1.61%\n",
      "Genre = 0.01%\n",
      "NA_sales = 0.00%\n",
      "EU_sales = 0.00%\n",
      "JP_sales = 0.00%\n",
      "Other_sales = 0.00%\n",
      "Critic_Score = 51.32%\n",
      "User_Score = 40.09%\n",
      "Rating = 40.48%\n"
     ]
    }
   ],
   "source": [
    "null_data_columns=data_frame.isna().sum()\n",
    "columns_data_old=list(data_frame.columns) \n",
    "display(null_data_columns)\n",
    "null_data_columns=list(null_data_columns) \n",
    "\n",
    "print('Доля пропусков в столбце:') \n",
    "for i in range(len(columns_data_old)): \n",
    "    rezul=1-(len(data_frame)-null_data_columns[i])/len(data_frame)\n",
    "    print(columns_data_old[i], '=', f'{rezul:.2%}' )"
   ]
  },
  {
   "cell_type": "markdown",
   "id": "838e118a",
   "metadata": {},
   "source": [
    "**Вывод**\n",
    "В столбце Name (название игры) пропуски можно не заполнять т.к. они не повлияют на результат\n",
    "В столбце Year_of_Release (год выпуска) пропуски заменить нечем, разве что проводить поиск по открытым источникам и заменять в ручную, достаточно трудоемко, поэтому удалить\n",
    "В столбце Genre (жанр игры) есть 2 пропуска, данный столбец нам важен, но 2 пропуска можно удалить \n",
    "В столбце Critic_Score  (оценка критиков) 51% пропусков, что достаточно много, нужно будет разбираться, возможно не все игры получили оценки критиков.\n",
    "В столбце User_Score (оценка пользователей) 40%  что достаточно много, нужно будет разбираться, возможно не все игры получили оценки пользователей.\n",
    "В столбце Rating (рейтинг от организации ESRB) 40.5% пропусков, что тоже много нужно будет разбираться по ходу. Эта ассоциация определяет рейтинг компьютерных игр и присваивает им подходящую возрастную категорию. "
   ]
  },
  {
   "cell_type": "code",
   "execution_count": 46,
   "id": "819f22d5",
   "metadata": {},
   "outputs": [],
   "source": [
    "data_frame.columns =data_frame.columns.str.lower()  "
   ]
  },
  {
   "cell_type": "code",
   "execution_count": 47,
   "id": "68b8c72f",
   "metadata": {},
   "outputs": [],
   "source": [
    "data_frame = data_frame.dropna(subset=['name'])\n",
    "\n",
    "null_data_columns=data_frame.isna().sum() \n",
    "columns_data_old=list(data_frame.columns) \n",
    "\n",
    "data_frame = data_frame.dropna(subset=['year_of_release']) \n",
    "data_frame['year_of_release']=data_frame['year_of_release'].astype('int') \n",
    "\n",
    "for i in range(len(data_frame)):\n",
    "    data_frame.loc[(data_frame.user_score =='tbd'), 'user_score'] = -1 "
   ]
  },
  {
   "cell_type": "code",
   "execution_count": 48,
   "id": "74c950cf",
   "metadata": {},
   "outputs": [],
   "source": [
    "\n",
    "data_frame['user_score']=data_frame['user_score'].fillna(-1) \n",
    "data_frame['rating']=data_frame['rating'].fillna('N/R')\n",
    "\n",
    "data_frame['user_score']=data_frame['user_score'].astype('float') \n",
    "data_frame['critic_score']=data_frame['critic_score'].fillna(-1)\n",
    "data_frame['critic_score']=data_frame['critic_score'].astype('float')\n",
    "\n",
    "data_frame['na_sales']=data_frame['na_sales'].astype('float')  \n",
    "data_frame['eu_sales']=data_frame['eu_sales'].astype('float')  \n",
    "data_frame['jp_sales']=data_frame['jp_sales'].astype('float')  \n",
    "data_frame['other_sales']=data_frame['other_sales'].astype('float') \n",
    "data_frame['year_of_release']=data_frame['year_of_release'].astype('int') \n"
   ]
  },
  {
   "cell_type": "code",
   "execution_count": 49,
   "id": "60bad69f",
   "metadata": {},
   "outputs": [
    {
     "data": {
      "text/html": [
       "<div>\n",
       "<style scoped>\n",
       "    .dataframe tbody tr th:only-of-type {\n",
       "        vertical-align: middle;\n",
       "    }\n",
       "\n",
       "    .dataframe tbody tr th {\n",
       "        vertical-align: top;\n",
       "    }\n",
       "\n",
       "    .dataframe thead th {\n",
       "        text-align: right;\n",
       "    }\n",
       "</style>\n",
       "<table border=\"1\" class=\"dataframe\">\n",
       "  <thead>\n",
       "    <tr style=\"text-align: right;\">\n",
       "      <th></th>\n",
       "      <th>name</th>\n",
       "      <th>platform</th>\n",
       "      <th>year_of_release</th>\n",
       "      <th>genre</th>\n",
       "      <th>na_sales</th>\n",
       "      <th>eu_sales</th>\n",
       "      <th>jp_sales</th>\n",
       "      <th>other_sales</th>\n",
       "      <th>critic_score</th>\n",
       "      <th>user_score</th>\n",
       "      <th>rating</th>\n",
       "      <th>all_sales</th>\n",
       "    </tr>\n",
       "  </thead>\n",
       "  <tbody>\n",
       "    <tr>\n",
       "      <th>0</th>\n",
       "      <td>Wii Sports</td>\n",
       "      <td>Wii</td>\n",
       "      <td>2006</td>\n",
       "      <td>Sports</td>\n",
       "      <td>41.36</td>\n",
       "      <td>28.96</td>\n",
       "      <td>3.77</td>\n",
       "      <td>8.45</td>\n",
       "      <td>76.0</td>\n",
       "      <td>8.0</td>\n",
       "      <td>E</td>\n",
       "      <td>82.54</td>\n",
       "    </tr>\n",
       "    <tr>\n",
       "      <th>1</th>\n",
       "      <td>Super Mario Bros.</td>\n",
       "      <td>NES</td>\n",
       "      <td>1985</td>\n",
       "      <td>Platform</td>\n",
       "      <td>29.08</td>\n",
       "      <td>3.58</td>\n",
       "      <td>6.81</td>\n",
       "      <td>0.77</td>\n",
       "      <td>-1.0</td>\n",
       "      <td>-1.0</td>\n",
       "      <td>N/R</td>\n",
       "      <td>40.24</td>\n",
       "    </tr>\n",
       "    <tr>\n",
       "      <th>2</th>\n",
       "      <td>Mario Kart Wii</td>\n",
       "      <td>Wii</td>\n",
       "      <td>2008</td>\n",
       "      <td>Racing</td>\n",
       "      <td>15.68</td>\n",
       "      <td>12.76</td>\n",
       "      <td>3.79</td>\n",
       "      <td>3.29</td>\n",
       "      <td>82.0</td>\n",
       "      <td>8.3</td>\n",
       "      <td>E</td>\n",
       "      <td>35.52</td>\n",
       "    </tr>\n",
       "    <tr>\n",
       "      <th>3</th>\n",
       "      <td>Wii Sports Resort</td>\n",
       "      <td>Wii</td>\n",
       "      <td>2009</td>\n",
       "      <td>Sports</td>\n",
       "      <td>15.61</td>\n",
       "      <td>10.93</td>\n",
       "      <td>3.28</td>\n",
       "      <td>2.95</td>\n",
       "      <td>80.0</td>\n",
       "      <td>8.0</td>\n",
       "      <td>E</td>\n",
       "      <td>32.77</td>\n",
       "    </tr>\n",
       "    <tr>\n",
       "      <th>4</th>\n",
       "      <td>Pokemon Red/Pokemon Blue</td>\n",
       "      <td>GB</td>\n",
       "      <td>1996</td>\n",
       "      <td>Role-Playing</td>\n",
       "      <td>11.27</td>\n",
       "      <td>8.89</td>\n",
       "      <td>10.22</td>\n",
       "      <td>1.00</td>\n",
       "      <td>-1.0</td>\n",
       "      <td>-1.0</td>\n",
       "      <td>N/R</td>\n",
       "      <td>31.38</td>\n",
       "    </tr>\n",
       "    <tr>\n",
       "      <th>5</th>\n",
       "      <td>Tetris</td>\n",
       "      <td>GB</td>\n",
       "      <td>1989</td>\n",
       "      <td>Puzzle</td>\n",
       "      <td>23.20</td>\n",
       "      <td>2.26</td>\n",
       "      <td>4.22</td>\n",
       "      <td>0.58</td>\n",
       "      <td>-1.0</td>\n",
       "      <td>-1.0</td>\n",
       "      <td>N/R</td>\n",
       "      <td>30.26</td>\n",
       "    </tr>\n",
       "    <tr>\n",
       "      <th>6</th>\n",
       "      <td>New Super Mario Bros.</td>\n",
       "      <td>DS</td>\n",
       "      <td>2006</td>\n",
       "      <td>Platform</td>\n",
       "      <td>11.28</td>\n",
       "      <td>9.14</td>\n",
       "      <td>6.50</td>\n",
       "      <td>2.88</td>\n",
       "      <td>89.0</td>\n",
       "      <td>8.5</td>\n",
       "      <td>E</td>\n",
       "      <td>29.80</td>\n",
       "    </tr>\n",
       "    <tr>\n",
       "      <th>7</th>\n",
       "      <td>Wii Play</td>\n",
       "      <td>Wii</td>\n",
       "      <td>2006</td>\n",
       "      <td>Misc</td>\n",
       "      <td>13.96</td>\n",
       "      <td>9.18</td>\n",
       "      <td>2.93</td>\n",
       "      <td>2.84</td>\n",
       "      <td>58.0</td>\n",
       "      <td>6.6</td>\n",
       "      <td>E</td>\n",
       "      <td>28.91</td>\n",
       "    </tr>\n",
       "    <tr>\n",
       "      <th>8</th>\n",
       "      <td>New Super Mario Bros. Wii</td>\n",
       "      <td>Wii</td>\n",
       "      <td>2009</td>\n",
       "      <td>Platform</td>\n",
       "      <td>14.44</td>\n",
       "      <td>6.94</td>\n",
       "      <td>4.70</td>\n",
       "      <td>2.24</td>\n",
       "      <td>87.0</td>\n",
       "      <td>8.4</td>\n",
       "      <td>E</td>\n",
       "      <td>28.32</td>\n",
       "    </tr>\n",
       "    <tr>\n",
       "      <th>9</th>\n",
       "      <td>Duck Hunt</td>\n",
       "      <td>NES</td>\n",
       "      <td>1984</td>\n",
       "      <td>Shooter</td>\n",
       "      <td>26.93</td>\n",
       "      <td>0.63</td>\n",
       "      <td>0.28</td>\n",
       "      <td>0.47</td>\n",
       "      <td>-1.0</td>\n",
       "      <td>-1.0</td>\n",
       "      <td>N/R</td>\n",
       "      <td>28.31</td>\n",
       "    </tr>\n",
       "  </tbody>\n",
       "</table>\n",
       "</div>"
      ],
      "text/plain": [
       "                        name platform  year_of_release         genre  \\\n",
       "0                 Wii Sports      Wii             2006        Sports   \n",
       "1          Super Mario Bros.      NES             1985      Platform   \n",
       "2             Mario Kart Wii      Wii             2008        Racing   \n",
       "3          Wii Sports Resort      Wii             2009        Sports   \n",
       "4   Pokemon Red/Pokemon Blue       GB             1996  Role-Playing   \n",
       "5                     Tetris       GB             1989        Puzzle   \n",
       "6      New Super Mario Bros.       DS             2006      Platform   \n",
       "7                   Wii Play      Wii             2006          Misc   \n",
       "8  New Super Mario Bros. Wii      Wii             2009      Platform   \n",
       "9                  Duck Hunt      NES             1984       Shooter   \n",
       "\n",
       "   na_sales  eu_sales  jp_sales  other_sales  critic_score  user_score rating  \\\n",
       "0     41.36     28.96      3.77         8.45          76.0         8.0      E   \n",
       "1     29.08      3.58      6.81         0.77          -1.0        -1.0    N/R   \n",
       "2     15.68     12.76      3.79         3.29          82.0         8.3      E   \n",
       "3     15.61     10.93      3.28         2.95          80.0         8.0      E   \n",
       "4     11.27      8.89     10.22         1.00          -1.0        -1.0    N/R   \n",
       "5     23.20      2.26      4.22         0.58          -1.0        -1.0    N/R   \n",
       "6     11.28      9.14      6.50         2.88          89.0         8.5      E   \n",
       "7     13.96      9.18      2.93         2.84          58.0         6.6      E   \n",
       "8     14.44      6.94      4.70         2.24          87.0         8.4      E   \n",
       "9     26.93      0.63      0.28         0.47          -1.0        -1.0    N/R   \n",
       "\n",
       "   all_sales  \n",
       "0      82.54  \n",
       "1      40.24  \n",
       "2      35.52  \n",
       "3      32.77  \n",
       "4      31.38  \n",
       "5      30.26  \n",
       "6      29.80  \n",
       "7      28.91  \n",
       "8      28.32  \n",
       "9      28.31  "
      ]
     },
     "metadata": {},
     "output_type": "display_data"
    }
   ],
   "source": [
    "data_frame['all_sales']=data_frame['na_sales']+data_frame['eu_sales']+data_frame['jp_sales']+data_frame['other_sales']\n",
    "display(data_frame.head(10))"
   ]
  },
  {
   "cell_type": "markdown",
   "id": "9949c3a2",
   "metadata": {},
   "source": [
    "**Вывод**\n",
    " Так же были изменен тип данных для  оценок и количества проданных копий на float. Тип данных для года выхода игры был заменен на integer, т.к является целочисленным."
   ]
  },
  {
   "cell_type": "markdown",
   "id": "e46ad155",
   "metadata": {},
   "source": [
    "##  Анализ данных"
   ]
  },
  {
   "cell_type": "code",
   "execution_count": 50,
   "id": "1deadf73",
   "metadata": {},
   "outputs": [
    {
     "data": {
      "text/plain": [
       "<AxesSubplot:xlabel='year_of_release'>"
      ]
     },
     "execution_count": 50,
     "metadata": {},
     "output_type": "execute_result"
    },
    {
     "data": {
      "image/png": "[encoded data removed]",
      "text/plain": [
       "<Figure size 864x432 with 1 Axes>"
      ]
     },
     "metadata": {
      "needs_background": "light"
     },
     "output_type": "display_data"
    }
   ],
   "source": [
    "year_release_count=data_frame.groupby(['year_of_release'])['name'].count().reset_index()\n",
    "year_release_count.plot(x='year_of_release', y='name',style='o-' ,grid=True, label='count',figsize=(12, 6))"
   ]
  },
  {
   "cell_type": "markdown",
   "id": "4ecefa55",
   "metadata": {},
   "source": [
    "**Вывод**\n",
    "Статистика количества вышедших игр по годам говорит, что  наиболее интересным является период с 2000 по 2016 годы, когда активно развивался игрострой."
   ]
  },
  {
   "cell_type": "code",
   "execution_count": 51,
   "id": "86f71c20",
   "metadata": {},
   "outputs": [
    {
     "data": {
      "image/png": "[encoded data removed]",
      "text/plain": [
       "<Figure size 864x432 with 1 Axes>"
      ]
     },
     "metadata": {
      "needs_background": "light"
     },
     "output_type": "display_data"
    },
    {
     "data": {
      "image/png": "[encoded data removed]",
      "text/plain": [
       "<Figure size 864x432 with 1 Axes>"
      ]
     },
     "metadata": {
      "needs_background": "light"
     },
     "output_type": "display_data"
    },
    {
     "data": {
      "image/png": "[encoded data removed]",
      "text/plain": [
       "<Figure size 864x432 with 1 Axes>"
      ]
     },
     "metadata": {
      "needs_background": "light"
     },
     "output_type": "display_data"
    },
    {
     "data": {
      "image/png": "[encoded data removed]",
      "text/plain": [
       "<Figure size 864x432 with 1 Axes>"
      ]
     },
     "metadata": {
      "needs_background": "light"
     },
     "output_type": "display_data"
    },
    {
     "data": {
      "image/png": "[encoded data removed]",
      "text/plain": [
       "<Figure size 864x432 with 1 Axes>"
      ]
     },
     "metadata": {
      "needs_background": "light"
     },
     "output_type": "display_data"
    },
    {
     "data": {
      "image/png": "[encoded data removed]",
      "text/plain": [
       "<Figure size 864x432 with 1 Axes>"
      ]
     },
     "metadata": {
      "needs_background": "light"
     },
     "output_type": "display_data"
    },
    {
     "data": {
      "image/png": "[encoded data removed]",
      "text/plain": [
       "<Figure size 864x432 with 1 Axes>"
      ]
     },
     "metadata": {
      "needs_background": "light"
     },
     "output_type": "display_data"
    },
    {
     "data": {
      "image/png": "[encoded data removed]",
      "text/plain": [
       "<Figure size 864x432 with 1 Axes>"
      ]
     },
     "metadata": {
      "needs_background": "light"
     },
     "output_type": "display_data"
    },
    {
     "data": {
      "image/png": "[encoded data removed]",
      "text/plain": [
       "<Figure size 864x432 with 1 Axes>"
      ]
     },
     "metadata": {
      "needs_background": "light"
     },
     "output_type": "display_data"
    },
    {
     "data": {
      "image/png": "[encoded data removed]",
      "text/plain": [
       "<Figure size 864x432 with 1 Axes>"
      ]
     },
     "metadata": {
      "needs_background": "light"
     },
     "output_type": "display_data"
    }
   ],
   "source": [
    "# сводная таблица по платфомам и проданным копиям в разных регионах\n",
    "year_platform_sale=data_frame.pivot_table(index=['platform','year_of_release'], values=['na_sales','eu_sales','jp_sales','other_sales'], aggfunc= 'sum').reset_index()\n",
    "# общаяя сумма проданных копий млн. шт.\n",
    "year_platform_sale['all_sales']=year_platform_sale['na_sales']+year_platform_sale['eu_sales']+year_platform_sale['jp_sales']+year_platform_sale['other_sales']\n",
    "\n",
    "top_platform_set=year_platform_sale.pivot_table(index='platform', values='all_sales', aggfunc='sum') #сумма за все время по платформам\n",
    "top_platform_set =top_platform_set .sort_values(by='all_sales', ascending=False)#сортировка по убыванию\n",
    "top_platform=list(top_platform_set.index[0:10]) #список топовых платформ\n",
    "top_platform_sale = data_frame[data_frame['platform'].isin(top_platform)].reset_index(drop=True) #Срез по условию топ платформ\n",
    "\n",
    "top_platform_val=top_platform_sale.pivot_table(index=['platform','year_of_release'], values='all_sales', aggfunc= ['sum']).reset_index()  \n",
    "top_platform_val.columns = ['platform','year_of_release','all_sales']\n",
    "for i in range(len(top_platform)):\n",
    "    j=top_platform[i]\n",
    "    top_platform_t=top_platform_val.query('platform == @j')\n",
    "    top_platform_t.plot(x='year_of_release', y='all_sales',style='o-' ,grid=True, label=j,figsize=(12, 6))"
   ]
  },
  {
   "cell_type": "markdown",
   "id": "838333c7",
   "metadata": {},
   "source": [
    "**Вывод**\n",
    "1. PS появилась в 1994 году набирала популярность около 2 лет, а теряла популярность около 3 лет, продолжительность существования 9 лет\n",
    "2. PS2 появилась в 2000 году набирала популярность за 2 года, а теряла популярность в течении 3-х лет, продолжительность существования 11 лет\n",
    "3. PS3 появилась в 2006 году набирала популярность около 2 лет, а теряла популярность около 2 лет, продолжительность существования 10 лет\n",
    "4. PS4 появилась в 2013 году набирала популярность около 2 лет, существует по сей день, можно предположить, что поддержка закончится в 2023 году\n",
    "5. X360 появилась в 2005 году набирала популярность около 3 лет, а теряла популярность около 2 - 3 лет, продолжительность существования 11 лет\n",
    "6. Wii появилась в 2006 году набирала популярность около 2 лет, а теряла популярность около 4 лет, продолжительность существования 10 лет\n",
    "7. DS появилась в 1985 году начала набирать популярность 2004 года, а теряла популярность около 2 лет, продолжительность существования 28 лет\n",
    "8. GBA появилась в 2000 году набирала популярность около 2 лет, а теряла популярность около 2 лет, продолжительность существования 7 лет\n",
    "9. PSP появилась в 2004 году набирала популярность около 2 лет, а теряла популярность около 3 лет, продолжительность существования 11 лет\n",
    "10. 3DS появилась в 2011, была уже популярна,  а теряла популярность примерно за 1 год, продолжительность существования 5 лет\n",
    "Продолжительность поддержки консолей составляет около 10 лет. Новые консоли выходят примерно раз в 5-6 лет."
   ]
  },
  {
   "cell_type": "code",
   "execution_count": 52,
   "id": "f679681d",
   "metadata": {},
   "outputs": [
    {
     "data": {
      "image/png": "[encoded data removed]",
      "text/plain": [
       "<Figure size 864x432 with 1 Axes>"
      ]
     },
     "metadata": {
      "needs_background": "light"
     },
     "output_type": "display_data"
    },
    {
     "data": {
      "image/png": "[encoded data removed]",
      "text/plain": [
       "<Figure size 864x432 with 1 Axes>"
      ]
     },
     "metadata": {
      "needs_background": "light"
     },
     "output_type": "display_data"
    },
    {
     "data": {
      "image/png": "[encoded data removed]",
      "text/plain": [
       "<Figure size 864x432 with 1 Axes>"
      ]
     },
     "metadata": {
      "needs_background": "light"
     },
     "output_type": "display_data"
    },
    {
     "data": {
      "image/png": "[encoded data removed]",
      "text/plain": [
       "<Figure size 864x432 with 1 Axes>"
      ]
     },
     "metadata": {
      "needs_background": "light"
     },
     "output_type": "display_data"
    },
    {
     "data": {
      "image/png": "[encoded data removed]",
      "text/plain": [
       "<Figure size 864x432 with 1 Axes>"
      ]
     },
     "metadata": {
      "needs_background": "light"
     },
     "output_type": "display_data"
    },
    {
     "data": {
      "image/png": "[encoded data removed]",
      "text/plain": [
       "<Figure size 864x432 with 1 Axes>"
      ]
     },
     "metadata": {
      "needs_background": "light"
     },
     "output_type": "display_data"
    },
    {
     "data": {
      "image/png": "[encoded data removed]",
      "text/plain": [
       "<Figure size 864x432 with 1 Axes>"
      ]
     },
     "metadata": {
      "needs_background": "light"
     },
     "output_type": "display_data"
    },
    {
     "data": {
      "image/png": "[encoded data removed]",
      "text/plain": [
       "<Figure size 864x432 with 1 Axes>"
      ]
     },
     "metadata": {
      "needs_background": "light"
     },
     "output_type": "display_data"
    },
    {
     "data": {
      "image/png": "[encoded data removed]",
      "text/plain": [
       "<Figure size 864x432 with 1 Axes>"
      ]
     },
     "metadata": {
      "needs_background": "light"
     },
     "output_type": "display_data"
    },
    {
     "data": {
      "image/png": "[encoded data removed]",
      "text/plain": [
       "<Figure size 864x432 with 1 Axes>"
      ]
     },
     "metadata": {
      "needs_background": "light"
     },
     "output_type": "display_data"
    },
    {
     "data": {
      "image/png": "[encoded data removed]",
      "text/plain": [
       "<Figure size 864x432 with 1 Axes>"
      ]
     },
     "metadata": {
      "needs_background": "light"
     },
     "output_type": "display_data"
    }
   ],
   "source": [
    "year_platform_sale=year_platform_sale[year_platform_sale['year_of_release']>=2013] #срез по условию актульного периода 3 года\n",
    "platform=year_platform_sale['platform'].unique() # список платформ\n",
    "\n",
    "for i in range(len(platform)):\n",
    "    j=platform[i]\n",
    "    platform_t=year_platform_sale.query('platform == @j')\n",
    "    platform_t.plot(x='year_of_release', y='all_sales',style='o-' ,grid=True, label=j,figsize=(12, 6)) # графики продаж"
   ]
  },
  {
   "cell_type": "markdown",
   "id": "c0bc1c30",
   "metadata": {},
   "source": [
    "**Вывод**\n",
    "\n",
    "1. 3DS продажи сатабильно падают, большой прибыли ожидать не стоит\n",
    "2. DC продажи остановлены\n",
    "3. DS  продажи остановлены\n",
    "4. GBA  продажи остановлены\n",
    "5. GC  продажи остановлены\n",
    "6. PC  продажи падают, большой прибыли ожидать не стоит\n",
    "7. PS2 продажи остановлены\n",
    "8. PS3 продажи падают, большой прибыли ожидать не стоит\n",
    "9. PS4 продажи падают, но оборот еще достаточно большой \n",
    "10. PSP продажи остановлены\n",
    "11. PSV продажи падают и находятся на уровне минимальных\n",
    "12. Wii продажи остановлены\n",
    "13. WiiU продажи остановлены\n",
    "14. X360 продажи остановлены\n",
    "15. XB продажи остановлены\n",
    "16. XOne продажи падают, большой прибыли ожидать не стоит\n",
    "Таким образом на 2017 год наиболее перспективной ожидается платформа  PS4, так же можно ожидать не большую прибыль от платформ PC, XOne, 3DS"
   ]
  },
  {
   "cell_type": "markdown",
   "id": "36ea6b7f",
   "metadata": {},
   "source": [
    "Для перспективных платформ"
   ]
  },
  {
   "cell_type": "code",
   "execution_count": 53,
   "id": "769aa931",
   "metadata": {},
   "outputs": [
    {
     "data": {
      "text/html": [
       "<div>\n",
       "<style scoped>\n",
       "    .dataframe tbody tr th:only-of-type {\n",
       "        vertical-align: middle;\n",
       "    }\n",
       "\n",
       "    .dataframe tbody tr th {\n",
       "        vertical-align: top;\n",
       "    }\n",
       "\n",
       "    .dataframe thead th {\n",
       "        text-align: right;\n",
       "    }\n",
       "</style>\n",
       "<table border=\"1\" class=\"dataframe\">\n",
       "  <thead>\n",
       "    <tr style=\"text-align: right;\">\n",
       "      <th></th>\n",
       "      <th>name</th>\n",
       "      <th>all_sales</th>\n",
       "    </tr>\n",
       "  </thead>\n",
       "  <tbody>\n",
       "    <tr>\n",
       "      <th>31</th>\n",
       "      <td>Call of Duty: Black Ops 3</td>\n",
       "      <td>14.63</td>\n",
       "    </tr>\n",
       "    <tr>\n",
       "      <th>42</th>\n",
       "      <td>Grand Theft Auto V</td>\n",
       "      <td>12.62</td>\n",
       "    </tr>\n",
       "    <tr>\n",
       "      <th>77</th>\n",
       "      <td>FIFA 16</td>\n",
       "      <td>8.58</td>\n",
       "    </tr>\n",
       "    <tr>\n",
       "      <th>87</th>\n",
       "      <td>Star Wars Battlefront (2015)</td>\n",
       "      <td>7.98</td>\n",
       "    </tr>\n",
       "    <tr>\n",
       "      <th>92</th>\n",
       "      <td>Call of Duty: Advanced Warfare</td>\n",
       "      <td>7.66</td>\n",
       "    </tr>\n",
       "    <tr>\n",
       "      <th>94</th>\n",
       "      <td>FIFA 17</td>\n",
       "      <td>7.60</td>\n",
       "    </tr>\n",
       "    <tr>\n",
       "      <th>105</th>\n",
       "      <td>Fallout 4</td>\n",
       "      <td>7.17</td>\n",
       "    </tr>\n",
       "    <tr>\n",
       "      <th>143</th>\n",
       "      <td>FIFA 15</td>\n",
       "      <td>6.08</td>\n",
       "    </tr>\n",
       "    <tr>\n",
       "      <th>154</th>\n",
       "      <td>Destiny</td>\n",
       "      <td>5.64</td>\n",
       "    </tr>\n",
       "    <tr>\n",
       "      <th>171</th>\n",
       "      <td>Uncharted 4: A Thief's End</td>\n",
       "      <td>5.39</td>\n",
       "    </tr>\n",
       "  </tbody>\n",
       "</table>\n",
       "</div>"
      ],
      "text/plain": [
       "                               name  all_sales\n",
       "31        Call of Duty: Black Ops 3      14.63\n",
       "42               Grand Theft Auto V      12.62\n",
       "77                          FIFA 16       8.58\n",
       "87     Star Wars Battlefront (2015)       7.98\n",
       "92   Call of Duty: Advanced Warfare       7.66\n",
       "94                          FIFA 17       7.60\n",
       "105                       Fallout 4       7.17\n",
       "143                         FIFA 15       6.08\n",
       "154                         Destiny       5.64\n",
       "171      Uncharted 4: A Thief's End       5.39"
      ]
     },
     "metadata": {},
     "output_type": "display_data"
    },
    {
     "data": {
      "image/png": "[encoded data removed]",
      "text/plain": [
       "<Figure size 432x288 with 1 Axes>"
      ]
     },
     "metadata": {
      "needs_background": "light"
     },
     "output_type": "display_data"
    },
    {
     "data": {
      "text/html": [
       "<div>\n",
       "<style scoped>\n",
       "    .dataframe tbody tr th:only-of-type {\n",
       "        vertical-align: middle;\n",
       "    }\n",
       "\n",
       "    .dataframe tbody tr th {\n",
       "        vertical-align: top;\n",
       "    }\n",
       "\n",
       "    .dataframe thead th {\n",
       "        text-align: right;\n",
       "    }\n",
       "</style>\n",
       "<table border=\"1\" class=\"dataframe\">\n",
       "  <thead>\n",
       "    <tr style=\"text-align: right;\">\n",
       "      <th></th>\n",
       "      <th>all_sales</th>\n",
       "    </tr>\n",
       "  </thead>\n",
       "  <tbody>\n",
       "    <tr>\n",
       "      <th>count</th>\n",
       "      <td>392.000000</td>\n",
       "    </tr>\n",
       "    <tr>\n",
       "      <th>mean</th>\n",
       "      <td>0.801378</td>\n",
       "    </tr>\n",
       "    <tr>\n",
       "      <th>std</th>\n",
       "      <td>1.609456</td>\n",
       "    </tr>\n",
       "    <tr>\n",
       "      <th>min</th>\n",
       "      <td>0.010000</td>\n",
       "    </tr>\n",
       "    <tr>\n",
       "      <th>25%</th>\n",
       "      <td>0.060000</td>\n",
       "    </tr>\n",
       "    <tr>\n",
       "      <th>50%</th>\n",
       "      <td>0.200000</td>\n",
       "    </tr>\n",
       "    <tr>\n",
       "      <th>75%</th>\n",
       "      <td>0.730000</td>\n",
       "    </tr>\n",
       "    <tr>\n",
       "      <th>max</th>\n",
       "      <td>14.630000</td>\n",
       "    </tr>\n",
       "  </tbody>\n",
       "</table>\n",
       "</div>"
      ],
      "text/plain": [
       "        all_sales\n",
       "count  392.000000\n",
       "mean     0.801378\n",
       "std      1.609456\n",
       "min      0.010000\n",
       "25%      0.060000\n",
       "50%      0.200000\n",
       "75%      0.730000\n",
       "max     14.630000"
      ]
     },
     "execution_count": 53,
     "metadata": {},
     "output_type": "execute_result"
    }
   ],
   "source": [
    "platform_box_PS4=data_frame.query('platform == \"PS4\"')\n",
    "platform_box=platform_box_PS4[['name','all_sales']].sort_values(by='all_sales', ascending=False)\n",
    "display(platform_box.head(10))\n",
    "ax=platform_box.boxplot()\n",
    "ax.set_ylim(0, 2)\n",
    "plt.show()\n",
    "platform_box.describe()"
   ]
  },
  {
   "cell_type": "code",
   "execution_count": 54,
   "id": "20134830",
   "metadata": {},
   "outputs": [
    {
     "data": {
      "text/html": [
       "<div>\n",
       "<style scoped>\n",
       "    .dataframe tbody tr th:only-of-type {\n",
       "        vertical-align: middle;\n",
       "    }\n",
       "\n",
       "    .dataframe tbody tr th {\n",
       "        vertical-align: top;\n",
       "    }\n",
       "\n",
       "    .dataframe thead th {\n",
       "        text-align: right;\n",
       "    }\n",
       "</style>\n",
       "<table border=\"1\" class=\"dataframe\">\n",
       "  <thead>\n",
       "    <tr style=\"text-align: right;\">\n",
       "      <th></th>\n",
       "      <th>name</th>\n",
       "      <th>all_sales</th>\n",
       "    </tr>\n",
       "  </thead>\n",
       "  <tbody>\n",
       "    <tr>\n",
       "      <th>85</th>\n",
       "      <td>The Sims 3</td>\n",
       "      <td>8.01</td>\n",
       "    </tr>\n",
       "    <tr>\n",
       "      <th>138</th>\n",
       "      <td>World of Warcraft</td>\n",
       "      <td>6.29</td>\n",
       "    </tr>\n",
       "    <tr>\n",
       "      <th>192</th>\n",
       "      <td>Diablo III</td>\n",
       "      <td>5.14</td>\n",
       "    </tr>\n",
       "    <tr>\n",
       "      <th>195</th>\n",
       "      <td>Microsoft Flight Simulator</td>\n",
       "      <td>5.11</td>\n",
       "    </tr>\n",
       "    <tr>\n",
       "      <th>218</th>\n",
       "      <td>StarCraft II: Wings of Liberty</td>\n",
       "      <td>4.83</td>\n",
       "    </tr>\n",
       "    <tr>\n",
       "      <th>273</th>\n",
       "      <td>Warcraft II: Tides of Darkness</td>\n",
       "      <td>4.20</td>\n",
       "    </tr>\n",
       "    <tr>\n",
       "      <th>284</th>\n",
       "      <td>Half-Life</td>\n",
       "      <td>4.12</td>\n",
       "    </tr>\n",
       "    <tr>\n",
       "      <th>288</th>\n",
       "      <td>World of Warcraft: The Burning Crusade</td>\n",
       "      <td>4.09</td>\n",
       "    </tr>\n",
       "    <tr>\n",
       "      <th>313</th>\n",
       "      <td>The Elder Scrolls V: Skyrim</td>\n",
       "      <td>3.88</td>\n",
       "    </tr>\n",
       "    <tr>\n",
       "      <th>330</th>\n",
       "      <td>The Sims: Unleashed</td>\n",
       "      <td>3.76</td>\n",
       "    </tr>\n",
       "  </tbody>\n",
       "</table>\n",
       "</div>"
      ],
      "text/plain": [
       "                                       name  all_sales\n",
       "85                               The Sims 3       8.01\n",
       "138                       World of Warcraft       6.29\n",
       "192                              Diablo III       5.14\n",
       "195              Microsoft Flight Simulator       5.11\n",
       "218          StarCraft II: Wings of Liberty       4.83\n",
       "273          Warcraft II: Tides of Darkness       4.20\n",
       "284                               Half-Life       4.12\n",
       "288  World of Warcraft: The Burning Crusade       4.09\n",
       "313             The Elder Scrolls V: Skyrim       3.88\n",
       "330                     The Sims: Unleashed       3.76"
      ]
     },
     "metadata": {},
     "output_type": "display_data"
    },
    {
     "data": {
      "image/png": "[encoded data removed]",
      "text/plain": [
       "<Figure size 432x288 with 1 Axes>"
      ]
     },
     "metadata": {
      "needs_background": "light"
     },
     "output_type": "display_data"
    },
    {
     "data": {
      "text/html": [
       "<div>\n",
       "<style scoped>\n",
       "    .dataframe tbody tr th:only-of-type {\n",
       "        vertical-align: middle;\n",
       "    }\n",
       "\n",
       "    .dataframe tbody tr th {\n",
       "        vertical-align: top;\n",
       "    }\n",
       "\n",
       "    .dataframe thead th {\n",
       "        text-align: right;\n",
       "    }\n",
       "</style>\n",
       "<table border=\"1\" class=\"dataframe\">\n",
       "  <thead>\n",
       "    <tr style=\"text-align: right;\">\n",
       "      <th></th>\n",
       "      <th>all_sales</th>\n",
       "    </tr>\n",
       "  </thead>\n",
       "  <tbody>\n",
       "    <tr>\n",
       "      <th>count</th>\n",
       "      <td>957.000000</td>\n",
       "    </tr>\n",
       "    <tr>\n",
       "      <th>mean</th>\n",
       "      <td>0.267252</td>\n",
       "    </tr>\n",
       "    <tr>\n",
       "      <th>std</th>\n",
       "      <td>0.679745</td>\n",
       "    </tr>\n",
       "    <tr>\n",
       "      <th>min</th>\n",
       "      <td>0.010000</td>\n",
       "    </tr>\n",
       "    <tr>\n",
       "      <th>25%</th>\n",
       "      <td>0.020000</td>\n",
       "    </tr>\n",
       "    <tr>\n",
       "      <th>50%</th>\n",
       "      <td>0.050000</td>\n",
       "    </tr>\n",
       "    <tr>\n",
       "      <th>75%</th>\n",
       "      <td>0.170000</td>\n",
       "    </tr>\n",
       "    <tr>\n",
       "      <th>max</th>\n",
       "      <td>8.010000</td>\n",
       "    </tr>\n",
       "  </tbody>\n",
       "</table>\n",
       "</div>"
      ],
      "text/plain": [
       "        all_sales\n",
       "count  957.000000\n",
       "mean     0.267252\n",
       "std      0.679745\n",
       "min      0.010000\n",
       "25%      0.020000\n",
       "50%      0.050000\n",
       "75%      0.170000\n",
       "max      8.010000"
      ]
     },
     "execution_count": 54,
     "metadata": {},
     "output_type": "execute_result"
    }
   ],
   "source": [
    "platform_box_PC=data_frame.query('platform == \"PC\"')\n",
    "platform_box=platform_box_PC[['name','all_sales']].sort_values(by='all_sales', ascending=False)\n",
    "display(platform_box.head(10)) \n",
    "ax=platform_box.boxplot()\n",
    "ax.set_ylim(0, 0.7)\n",
    "plt.show()\n",
    "platform_box.describe()"
   ]
  },
  {
   "cell_type": "code",
   "execution_count": 55,
   "id": "311306ca",
   "metadata": {},
   "outputs": [
    {
     "data": {
      "text/html": [
       "<div>\n",
       "<style scoped>\n",
       "    .dataframe tbody tr th:only-of-type {\n",
       "        vertical-align: middle;\n",
       "    }\n",
       "\n",
       "    .dataframe tbody tr th {\n",
       "        vertical-align: top;\n",
       "    }\n",
       "\n",
       "    .dataframe thead th {\n",
       "        text-align: right;\n",
       "    }\n",
       "</style>\n",
       "<table border=\"1\" class=\"dataframe\">\n",
       "  <thead>\n",
       "    <tr style=\"text-align: right;\">\n",
       "      <th></th>\n",
       "      <th>name</th>\n",
       "      <th>all_sales</th>\n",
       "    </tr>\n",
       "  </thead>\n",
       "  <tbody>\n",
       "    <tr>\n",
       "      <th>99</th>\n",
       "      <td>Call of Duty: Black Ops 3</td>\n",
       "      <td>7.39</td>\n",
       "    </tr>\n",
       "    <tr>\n",
       "      <th>165</th>\n",
       "      <td>Grand Theft Auto V</td>\n",
       "      <td>5.47</td>\n",
       "    </tr>\n",
       "    <tr>\n",
       "      <th>179</th>\n",
       "      <td>Call of Duty: Advanced Warfare</td>\n",
       "      <td>5.26</td>\n",
       "    </tr>\n",
       "    <tr>\n",
       "      <th>242</th>\n",
       "      <td>Halo 5: Guardians</td>\n",
       "      <td>4.49</td>\n",
       "    </tr>\n",
       "    <tr>\n",
       "      <th>270</th>\n",
       "      <td>Fallout 4</td>\n",
       "      <td>4.22</td>\n",
       "    </tr>\n",
       "    <tr>\n",
       "      <th>342</th>\n",
       "      <td>Star Wars Battlefront (2015)</td>\n",
       "      <td>3.66</td>\n",
       "    </tr>\n",
       "    <tr>\n",
       "      <th>373</th>\n",
       "      <td>Assassin's Creed: Unity</td>\n",
       "      <td>3.50</td>\n",
       "    </tr>\n",
       "    <tr>\n",
       "      <th>398</th>\n",
       "      <td>Destiny</td>\n",
       "      <td>3.37</td>\n",
       "    </tr>\n",
       "    <tr>\n",
       "      <th>413</th>\n",
       "      <td>Gears of War: Ultimate Edition</td>\n",
       "      <td>3.28</td>\n",
       "    </tr>\n",
       "    <tr>\n",
       "      <th>417</th>\n",
       "      <td>FIFA 16</td>\n",
       "      <td>3.25</td>\n",
       "    </tr>\n",
       "  </tbody>\n",
       "</table>\n",
       "</div>"
      ],
      "text/plain": [
       "                               name  all_sales\n",
       "99        Call of Duty: Black Ops 3       7.39\n",
       "165              Grand Theft Auto V       5.47\n",
       "179  Call of Duty: Advanced Warfare       5.26\n",
       "242               Halo 5: Guardians       4.49\n",
       "270                       Fallout 4       4.22\n",
       "342    Star Wars Battlefront (2015)       3.66\n",
       "373         Assassin's Creed: Unity       3.50\n",
       "398                         Destiny       3.37\n",
       "413  Gears of War: Ultimate Edition       3.28\n",
       "417                         FIFA 16       3.25"
      ]
     },
     "metadata": {},
     "output_type": "display_data"
    },
    {
     "data": {
      "image/png": "[encoded data removed]",
      "text/plain": [
       "<Figure size 432x288 with 1 Axes>"
      ]
     },
     "metadata": {
      "needs_background": "light"
     },
     "output_type": "display_data"
    },
    {
     "data": {
      "text/html": [
       "<div>\n",
       "<style scoped>\n",
       "    .dataframe tbody tr th:only-of-type {\n",
       "        vertical-align: middle;\n",
       "    }\n",
       "\n",
       "    .dataframe tbody tr th {\n",
       "        vertical-align: top;\n",
       "    }\n",
       "\n",
       "    .dataframe thead th {\n",
       "        text-align: right;\n",
       "    }\n",
       "</style>\n",
       "<table border=\"1\" class=\"dataframe\">\n",
       "  <thead>\n",
       "    <tr style=\"text-align: right;\">\n",
       "      <th></th>\n",
       "      <th>all_sales</th>\n",
       "    </tr>\n",
       "  </thead>\n",
       "  <tbody>\n",
       "    <tr>\n",
       "      <th>count</th>\n",
       "      <td>247.000000</td>\n",
       "    </tr>\n",
       "    <tr>\n",
       "      <th>mean</th>\n",
       "      <td>0.645020</td>\n",
       "    </tr>\n",
       "    <tr>\n",
       "      <th>std</th>\n",
       "      <td>1.036139</td>\n",
       "    </tr>\n",
       "    <tr>\n",
       "      <th>min</th>\n",
       "      <td>0.010000</td>\n",
       "    </tr>\n",
       "    <tr>\n",
       "      <th>25%</th>\n",
       "      <td>0.060000</td>\n",
       "    </tr>\n",
       "    <tr>\n",
       "      <th>50%</th>\n",
       "      <td>0.220000</td>\n",
       "    </tr>\n",
       "    <tr>\n",
       "      <th>75%</th>\n",
       "      <td>0.685000</td>\n",
       "    </tr>\n",
       "    <tr>\n",
       "      <th>max</th>\n",
       "      <td>7.390000</td>\n",
       "    </tr>\n",
       "  </tbody>\n",
       "</table>\n",
       "</div>"
      ],
      "text/plain": [
       "        all_sales\n",
       "count  247.000000\n",
       "mean     0.645020\n",
       "std      1.036139\n",
       "min      0.010000\n",
       "25%      0.060000\n",
       "50%      0.220000\n",
       "75%      0.685000\n",
       "max      7.390000"
      ]
     },
     "execution_count": 55,
     "metadata": {},
     "output_type": "execute_result"
    }
   ],
   "source": [
    "platform_box_XOne=data_frame.query('platform == \"XOne\"')\n",
    "platform_box=platform_box_XOne[['name','all_sales']].sort_values(by='all_sales', ascending=False)\n",
    "display(platform_box.head(10)) \n",
    "ax=platform_box.boxplot()\n",
    "ax.set_ylim(0, 2)\n",
    "plt.show()\n",
    "platform_box.describe()"
   ]
  },
  {
   "cell_type": "code",
   "execution_count": 56,
   "id": "f307174b",
   "metadata": {},
   "outputs": [
    {
     "data": {
      "text/html": [
       "<div>\n",
       "<style scoped>\n",
       "    .dataframe tbody tr th:only-of-type {\n",
       "        vertical-align: middle;\n",
       "    }\n",
       "\n",
       "    .dataframe tbody tr th {\n",
       "        vertical-align: top;\n",
       "    }\n",
       "\n",
       "    .dataframe thead th {\n",
       "        text-align: right;\n",
       "    }\n",
       "</style>\n",
       "<table border=\"1\" class=\"dataframe\">\n",
       "  <thead>\n",
       "    <tr style=\"text-align: right;\">\n",
       "      <th></th>\n",
       "      <th>name</th>\n",
       "      <th>all_sales</th>\n",
       "    </tr>\n",
       "  </thead>\n",
       "  <tbody>\n",
       "    <tr>\n",
       "      <th>33</th>\n",
       "      <td>Pokemon X/Pokemon Y</td>\n",
       "      <td>14.60</td>\n",
       "    </tr>\n",
       "    <tr>\n",
       "      <th>40</th>\n",
       "      <td>Mario Kart 7</td>\n",
       "      <td>12.65</td>\n",
       "    </tr>\n",
       "    <tr>\n",
       "      <th>47</th>\n",
       "      <td>Pokemon Omega Ruby/Pokemon Alpha Sapphire</td>\n",
       "      <td>11.68</td>\n",
       "    </tr>\n",
       "    <tr>\n",
       "      <th>53</th>\n",
       "      <td>Super Mario 3D Land</td>\n",
       "      <td>10.81</td>\n",
       "    </tr>\n",
       "    <tr>\n",
       "      <th>62</th>\n",
       "      <td>New Super Mario Bros. 2</td>\n",
       "      <td>9.90</td>\n",
       "    </tr>\n",
       "    <tr>\n",
       "      <th>73</th>\n",
       "      <td>Animal Crossing: New Leaf</td>\n",
       "      <td>9.17</td>\n",
       "    </tr>\n",
       "    <tr>\n",
       "      <th>96</th>\n",
       "      <td>Super Smash Bros. for Wii U and 3DS</td>\n",
       "      <td>7.55</td>\n",
       "    </tr>\n",
       "    <tr>\n",
       "      <th>108</th>\n",
       "      <td>Pokemon Sun/Moon</td>\n",
       "      <td>7.14</td>\n",
       "    </tr>\n",
       "    <tr>\n",
       "      <th>184</th>\n",
       "      <td>Tomodachi Life</td>\n",
       "      <td>5.22</td>\n",
       "    </tr>\n",
       "    <tr>\n",
       "      <th>235</th>\n",
       "      <td>Luigi's Mansion: Dark Moon</td>\n",
       "      <td>4.59</td>\n",
       "    </tr>\n",
       "  </tbody>\n",
       "</table>\n",
       "</div>"
      ],
      "text/plain": [
       "                                          name  all_sales\n",
       "33                         Pokemon X/Pokemon Y      14.60\n",
       "40                                Mario Kart 7      12.65\n",
       "47   Pokemon Omega Ruby/Pokemon Alpha Sapphire      11.68\n",
       "53                         Super Mario 3D Land      10.81\n",
       "62                     New Super Mario Bros. 2       9.90\n",
       "73                   Animal Crossing: New Leaf       9.17\n",
       "96         Super Smash Bros. for Wii U and 3DS       7.55\n",
       "108                           Pokemon Sun/Moon       7.14\n",
       "184                             Tomodachi Life       5.22\n",
       "235                 Luigi's Mansion: Dark Moon       4.59"
      ]
     },
     "metadata": {},
     "output_type": "display_data"
    },
    {
     "data": {
      "image/png": "[encoded data removed]",
      "text/plain": [
       "<Figure size 432x288 with 1 Axes>"
      ]
     },
     "metadata": {
      "needs_background": "light"
     },
     "output_type": "display_data"
    },
    {
     "data": {
      "text/html": [
       "<div>\n",
       "<style scoped>\n",
       "    .dataframe tbody tr th:only-of-type {\n",
       "        vertical-align: middle;\n",
       "    }\n",
       "\n",
       "    .dataframe tbody tr th {\n",
       "        vertical-align: top;\n",
       "    }\n",
       "\n",
       "    .dataframe thead th {\n",
       "        text-align: right;\n",
       "    }\n",
       "</style>\n",
       "<table border=\"1\" class=\"dataframe\">\n",
       "  <thead>\n",
       "    <tr style=\"text-align: right;\">\n",
       "      <th></th>\n",
       "      <th>all_sales</th>\n",
       "    </tr>\n",
       "  </thead>\n",
       "  <tbody>\n",
       "    <tr>\n",
       "      <th>count</th>\n",
       "      <td>512.000000</td>\n",
       "    </tr>\n",
       "    <tr>\n",
       "      <th>mean</th>\n",
       "      <td>0.503535</td>\n",
       "    </tr>\n",
       "    <tr>\n",
       "      <th>std</th>\n",
       "      <td>1.441271</td>\n",
       "    </tr>\n",
       "    <tr>\n",
       "      <th>min</th>\n",
       "      <td>0.010000</td>\n",
       "    </tr>\n",
       "    <tr>\n",
       "      <th>25%</th>\n",
       "      <td>0.050000</td>\n",
       "    </tr>\n",
       "    <tr>\n",
       "      <th>50%</th>\n",
       "      <td>0.120000</td>\n",
       "    </tr>\n",
       "    <tr>\n",
       "      <th>75%</th>\n",
       "      <td>0.332500</td>\n",
       "    </tr>\n",
       "    <tr>\n",
       "      <th>max</th>\n",
       "      <td>14.600000</td>\n",
       "    </tr>\n",
       "  </tbody>\n",
       "</table>\n",
       "</div>"
      ],
      "text/plain": [
       "        all_sales\n",
       "count  512.000000\n",
       "mean     0.503535\n",
       "std      1.441271\n",
       "min      0.010000\n",
       "25%      0.050000\n",
       "50%      0.120000\n",
       "75%      0.332500\n",
       "max     14.600000"
      ]
     },
     "execution_count": 56,
     "metadata": {},
     "output_type": "execute_result"
    }
   ],
   "source": [
    "platform_box_3DS=data_frame.query('platform == \"3DS\"')\n",
    "platform_box=platform_box_3DS[['name','all_sales']].sort_values(by='all_sales', ascending=False)\n",
    "display(platform_box.head(10)) \n",
    "ax=platform_box.boxplot()\n",
    "ax.set_ylim(0, 1)\n",
    "plt.show()\n",
    "platform_box.describe()"
   ]
  },
  {
   "cell_type": "markdown",
   "id": "6bead31f",
   "metadata": {},
   "source": [
    "**Вывод**\n",
    "\n",
    "По полученным данным можно сделать вывод, что игры которые не попадают в \"ящик с усами\" являются успешными с точки зрения продаж."
   ]
  },
  {
   "cell_type": "code",
   "execution_count": 75,
   "id": "ebaa248b",
   "metadata": {},
   "outputs": [
    {
     "data": {
      "text/html": [
       "<div>\n",
       "<style scoped>\n",
       "    .dataframe tbody tr th:only-of-type {\n",
       "        vertical-align: middle;\n",
       "    }\n",
       "\n",
       "    .dataframe tbody tr th {\n",
       "        vertical-align: top;\n",
       "    }\n",
       "\n",
       "    .dataframe thead th {\n",
       "        text-align: right;\n",
       "    }\n",
       "</style>\n",
       "<table border=\"1\" class=\"dataframe\">\n",
       "  <thead>\n",
       "    <tr style=\"text-align: right;\">\n",
       "      <th></th>\n",
       "      <th>all_sales</th>\n",
       "      <th>critic_score</th>\n",
       "      <th>user_score</th>\n",
       "    </tr>\n",
       "  </thead>\n",
       "  <tbody>\n",
       "    <tr>\n",
       "      <th>all_sales</th>\n",
       "      <td>1.000000</td>\n",
       "      <td>0.405895</td>\n",
       "      <td>-0.033625</td>\n",
       "    </tr>\n",
       "    <tr>\n",
       "      <th>critic_score</th>\n",
       "      <td>0.405895</td>\n",
       "      <td>1.000000</td>\n",
       "      <td>0.557654</td>\n",
       "    </tr>\n",
       "    <tr>\n",
       "      <th>user_score</th>\n",
       "      <td>-0.033625</td>\n",
       "      <td>0.557654</td>\n",
       "      <td>1.000000</td>\n",
       "    </tr>\n",
       "  </tbody>\n",
       "</table>\n",
       "</div>"
      ],
      "text/plain": [
       "              all_sales  critic_score  user_score\n",
       "all_sales      1.000000      0.405895   -0.033625\n",
       "critic_score   0.405895      1.000000    0.557654\n",
       "user_score    -0.033625      0.557654    1.000000"
      ]
     },
     "execution_count": 75,
     "metadata": {},
     "output_type": "execute_result"
    },
    {
     "data": {
      "image/png": "[encoded data removed]",
      "text/plain": [
       "<Figure size 432x288 with 1 Axes>"
      ]
     },
     "metadata": {
      "needs_background": "light"
     },
     "output_type": "display_data"
    },
    {
     "data": {
      "image/png": "[encoded data removed]",
      "text/plain": [
       "<Figure size 432x288 with 1 Axes>"
      ]
     },
     "metadata": {
      "needs_background": "light"
     },
     "output_type": "display_data"
    }
   ],
   "source": [
    "lucky_PS4=platform_box_PS4[['all_sales', 'critic_score', 'user_score']]\n",
    "lucky_PS4 = lucky_PS4.query('critic_score>=0 and user_score>=0') #избавляемся от заглушек\n",
    "\n",
    "lucky_PS4[ ['all_sales', 'critic_score'] ].plot.scatter(0, 1, s=3)\n",
    "plt.xlabel('all_sales')\n",
    "plt.ylabel('critic_score')\n",
    "\n",
    "lucky_PS4[ ['all_sales', 'user_score'] ].plot.scatter(0, 1, s=3)\n",
    "plt.xlabel('all_sales')\n",
    "plt.ylabel('user_score')\n",
    "lucky_PS4.corr() "
   ]
  },
  {
   "cell_type": "markdown",
   "id": "a29ff0a8",
   "metadata": {},
   "source": [
    "**Вывод**\n",
    "\n",
    "Число проданных копий имеет прямую корреляцию с количеством вышедших игр. Есть не большая положительная корреляция связанная с ростом количества высоких балов критиков и количеством проданных копий. Прослеживается положительная корреляция пользовательских оценок с оценками критиков. Число проданных копий с оценками пользователей корреляцию не имеют. Пользователи в основном опираются на мнение критиков, а не на мнение других пользователей при покупке."
   ]
  },
  {
   "cell_type": "code",
   "execution_count": 76,
   "id": "d4b684a8",
   "metadata": {},
   "outputs": [
    {
     "data": {
      "text/html": [
       "<div>\n",
       "<style scoped>\n",
       "    .dataframe tbody tr th:only-of-type {\n",
       "        vertical-align: middle;\n",
       "    }\n",
       "\n",
       "    .dataframe tbody tr th {\n",
       "        vertical-align: top;\n",
       "    }\n",
       "\n",
       "    .dataframe thead th {\n",
       "        text-align: right;\n",
       "    }\n",
       "</style>\n",
       "<table border=\"1\" class=\"dataframe\">\n",
       "  <thead>\n",
       "    <tr style=\"text-align: right;\">\n",
       "      <th></th>\n",
       "      <th>all_sales</th>\n",
       "      <th>critic_score</th>\n",
       "      <th>user_score</th>\n",
       "    </tr>\n",
       "  </thead>\n",
       "  <tbody>\n",
       "    <tr>\n",
       "      <th>all_sales</th>\n",
       "      <td>1.000000</td>\n",
       "      <td>0.257261</td>\n",
       "      <td>0.003596</td>\n",
       "    </tr>\n",
       "    <tr>\n",
       "      <th>critic_score</th>\n",
       "      <td>0.257261</td>\n",
       "      <td>1.000000</td>\n",
       "      <td>0.555199</td>\n",
       "    </tr>\n",
       "    <tr>\n",
       "      <th>user_score</th>\n",
       "      <td>0.003596</td>\n",
       "      <td>0.555199</td>\n",
       "      <td>1.000000</td>\n",
       "    </tr>\n",
       "  </tbody>\n",
       "</table>\n",
       "</div>"
      ],
      "text/plain": [
       "              all_sales  critic_score  user_score\n",
       "all_sales      1.000000      0.257261    0.003596\n",
       "critic_score   0.257261      1.000000    0.555199\n",
       "user_score     0.003596      0.555199    1.000000"
      ]
     },
     "execution_count": 76,
     "metadata": {},
     "output_type": "execute_result"
    },
    {
     "data": {
      "image/png": "[encoded data removed]",
      "text/plain": [
       "<Figure size 432x288 with 1 Axes>"
      ]
     },
     "metadata": {
      "needs_background": "light"
     },
     "output_type": "display_data"
    },
    {
     "data": {
      "image/png": "[encoded data removed]",
      "text/plain": [
       "<Figure size 432x288 with 1 Axes>"
      ]
     },
     "metadata": {
      "needs_background": "light"
     },
     "output_type": "display_data"
    }
   ],
   "source": [
    "lucky_PC=platform_box_PC[[ 'all_sales', 'critic_score', 'user_score']]\n",
    "lucky_PC = lucky_PC.query('critic_score>=0 and user_score>=0') #избавляемся от заглушек\n",
    "\n",
    "\n",
    "lucky_PC[ ['all_sales', 'critic_score'] ].plot.scatter(0, 1, s=3)\n",
    "plt.xlabel('all_sales')\n",
    "plt.ylabel('critic_score')\n",
    "\n",
    "lucky_PC[ ['all_sales', 'user_score'] ].plot.scatter(0, 1, s=3)\n",
    "plt.xlabel('all_sales')\n",
    "plt.ylabel('user_score')\n",
    "\n",
    "lucky_PC.corr() "
   ]
  },
  {
   "cell_type": "code",
   "execution_count": 80,
   "id": "05c1e5ed",
   "metadata": {},
   "outputs": [
    {
     "data": {
      "text/html": [
       "<div>\n",
       "<style scoped>\n",
       "    .dataframe tbody tr th:only-of-type {\n",
       "        vertical-align: middle;\n",
       "    }\n",
       "\n",
       "    .dataframe tbody tr th {\n",
       "        vertical-align: top;\n",
       "    }\n",
       "\n",
       "    .dataframe thead th {\n",
       "        text-align: right;\n",
       "    }\n",
       "</style>\n",
       "<table border=\"1\" class=\"dataframe\">\n",
       "  <thead>\n",
       "    <tr style=\"text-align: right;\">\n",
       "      <th></th>\n",
       "      <th>all_sales</th>\n",
       "      <th>critic_score</th>\n",
       "      <th>user_score</th>\n",
       "    </tr>\n",
       "  </thead>\n",
       "  <tbody>\n",
       "    <tr>\n",
       "      <th>all_sales</th>\n",
       "      <td>1.000000</td>\n",
       "      <td>0.410422</td>\n",
       "      <td>-0.094003</td>\n",
       "    </tr>\n",
       "    <tr>\n",
       "      <th>critic_score</th>\n",
       "      <td>0.410422</td>\n",
       "      <td>1.000000</td>\n",
       "      <td>0.472462</td>\n",
       "    </tr>\n",
       "    <tr>\n",
       "      <th>user_score</th>\n",
       "      <td>-0.094003</td>\n",
       "      <td>0.472462</td>\n",
       "      <td>1.000000</td>\n",
       "    </tr>\n",
       "  </tbody>\n",
       "</table>\n",
       "</div>"
      ],
      "text/plain": [
       "              all_sales  critic_score  user_score\n",
       "all_sales      1.000000      0.410422   -0.094003\n",
       "critic_score   0.410422      1.000000    0.472462\n",
       "user_score    -0.094003      0.472462    1.000000"
      ]
     },
     "execution_count": 80,
     "metadata": {},
     "output_type": "execute_result"
    },
    {
     "data": {
      "image/png": "[encoded data removed]",
      "text/plain": [
       "<Figure size 432x288 with 1 Axes>"
      ]
     },
     "metadata": {
      "needs_background": "light"
     },
     "output_type": "display_data"
    },
    {
     "data": {
      "image/png": "[encoded data removed]",
      "text/plain": [
       "<Figure size 432x288 with 1 Axes>"
      ]
     },
     "metadata": {
      "needs_background": "light"
     },
     "output_type": "display_data"
    }
   ],
   "source": [
    "lucky_XOne=platform_box_XOne[[ 'all_sales', 'critic_score', 'user_score']]\n",
    "lucky_XOne =lucky_XOne.query('critic_score>=0 and user_score>=0') #избавляемся от заглушек\n",
    "\n",
    "lucky_XOne[ ['all_sales', 'critic_score'] ].plot.scatter(0, 1, s=3)\n",
    "plt.xlabel('all_sales')\n",
    "plt.ylabel('critic_score')\n",
    "\n",
    "lucky_XOne[ ['all_sales', 'user_score'] ].plot.scatter(0, 1, s=3)\n",
    "plt.xlabel('all_sales')\n",
    "plt.ylabel('user_score')\n",
    "\n",
    "lucky_XOne.corr() "
   ]
  },
  {
   "cell_type": "code",
   "execution_count": 81,
   "id": "c84fcb5b",
   "metadata": {},
   "outputs": [
    {
     "data": {
      "text/html": [
       "<div>\n",
       "<style scoped>\n",
       "    .dataframe tbody tr th:only-of-type {\n",
       "        vertical-align: middle;\n",
       "    }\n",
       "\n",
       "    .dataframe tbody tr th {\n",
       "        vertical-align: top;\n",
       "    }\n",
       "\n",
       "    .dataframe thead th {\n",
       "        text-align: right;\n",
       "    }\n",
       "</style>\n",
       "<table border=\"1\" class=\"dataframe\">\n",
       "  <thead>\n",
       "    <tr style=\"text-align: right;\">\n",
       "      <th></th>\n",
       "      <th>all_sales</th>\n",
       "      <th>critic_score</th>\n",
       "      <th>user_score</th>\n",
       "    </tr>\n",
       "  </thead>\n",
       "  <tbody>\n",
       "    <tr>\n",
       "      <th>all_sales</th>\n",
       "      <td>1.000000</td>\n",
       "      <td>0.338904</td>\n",
       "      <td>0.232089</td>\n",
       "    </tr>\n",
       "    <tr>\n",
       "      <th>critic_score</th>\n",
       "      <td>0.338904</td>\n",
       "      <td>1.000000</td>\n",
       "      <td>0.745222</td>\n",
       "    </tr>\n",
       "    <tr>\n",
       "      <th>user_score</th>\n",
       "      <td>0.232089</td>\n",
       "      <td>0.745222</td>\n",
       "      <td>1.000000</td>\n",
       "    </tr>\n",
       "  </tbody>\n",
       "</table>\n",
       "</div>"
      ],
      "text/plain": [
       "              all_sales  critic_score  user_score\n",
       "all_sales      1.000000      0.338904    0.232089\n",
       "critic_score   0.338904      1.000000    0.745222\n",
       "user_score     0.232089      0.745222    1.000000"
      ]
     },
     "execution_count": 81,
     "metadata": {},
     "output_type": "execute_result"
    },
    {
     "data": {
      "image/png": "[encoded data removed]",
      "text/plain": [
       "<Figure size 432x288 with 1 Axes>"
      ]
     },
     "metadata": {
      "needs_background": "light"
     },
     "output_type": "display_data"
    },
    {
     "data": {
      "image/png": "[encoded data removed]",
      "text/plain": [
       "<Figure size 432x288 with 1 Axes>"
      ]
     },
     "metadata": {
      "needs_background": "light"
     },
     "output_type": "display_data"
    }
   ],
   "source": [
    "lucky_3DS=platform_box_3DS[[ 'all_sales', 'critic_score', 'user_score']] \n",
    "lucky_3DS =lucky_3DS.query('critic_score>=0 and user_score>=0')\n",
    "\n",
    "lucky_3DS[ ['all_sales', 'critic_score'] ].plot.scatter(0, 1, s=3)\n",
    "plt.xlabel('all_sales')\n",
    "plt.ylabel('critic_score')\n",
    "\n",
    "lucky_3DS[ ['all_sales', 'user_score'] ].plot.scatter(0, 1, s=3)\n",
    "plt.xlabel('all_sales')\n",
    "plt.ylabel('user_score')\n",
    "\n",
    "lucky_3DS.corr() "
   ]
  },
  {
   "cell_type": "markdown",
   "id": "1e69f105",
   "metadata": {},
   "source": [
    "**Вывод**\n",
    "\n",
    "В общем тенденции в продажах на разных платформах сохраняются, Оценки пользователей хорошо коррелируют с оценками критиков, большим теражом часто расходятся игры с оценкой критиков более 60 и оценкой пользователей больше 6. Стоит отметить, что игры имеющие хорошую оценку критиков не всегда имеют хорошие продажи. Не все шедевры игроки оценивают по достоинству."
   ]
  },
  {
   "cell_type": "markdown",
   "id": "855fe637",
   "metadata": {},
   "source": [
    "Популярные жанры на PS4"
   ]
  },
  {
   "cell_type": "code",
   "execution_count": 105,
   "id": "38e5606b",
   "metadata": {},
   "outputs": [
    {
     "data": {
      "text/html": [
       "<div>\n",
       "<style scoped>\n",
       "    .dataframe tbody tr th:only-of-type {\n",
       "        vertical-align: middle;\n",
       "    }\n",
       "\n",
       "    .dataframe tbody tr th {\n",
       "        vertical-align: top;\n",
       "    }\n",
       "\n",
       "    .dataframe thead th {\n",
       "        text-align: right;\n",
       "    }\n",
       "</style>\n",
       "<table border=\"1\" class=\"dataframe\">\n",
       "  <thead>\n",
       "    <tr style=\"text-align: right;\">\n",
       "      <th></th>\n",
       "      <th>genre</th>\n",
       "      <th>mean</th>\n",
       "      <th>median</th>\n",
       "    </tr>\n",
       "  </thead>\n",
       "  <tbody>\n",
       "    <tr>\n",
       "      <th>8</th>\n",
       "      <td>Shooter</td>\n",
       "      <td>2.160000</td>\n",
       "      <td>0.970</td>\n",
       "    </tr>\n",
       "    <tr>\n",
       "      <th>10</th>\n",
       "      <td>Sports</td>\n",
       "      <td>1.208913</td>\n",
       "      <td>0.525</td>\n",
       "    </tr>\n",
       "    <tr>\n",
       "      <th>0</th>\n",
       "      <td>Action</td>\n",
       "      <td>0.667361</td>\n",
       "      <td>0.155</td>\n",
       "    </tr>\n",
       "    <tr>\n",
       "      <th>4</th>\n",
       "      <td>Platform</td>\n",
       "      <td>0.640833</td>\n",
       "      <td>0.300</td>\n",
       "    </tr>\n",
       "    <tr>\n",
       "      <th>6</th>\n",
       "      <td>Racing</td>\n",
       "      <td>0.638947</td>\n",
       "      <td>0.230</td>\n",
       "    </tr>\n",
       "    <tr>\n",
       "      <th>7</th>\n",
       "      <td>Role-Playing</td>\n",
       "      <td>0.568431</td>\n",
       "      <td>0.200</td>\n",
       "    </tr>\n",
       "    <tr>\n",
       "      <th>2</th>\n",
       "      <td>Fighting</td>\n",
       "      <td>0.480556</td>\n",
       "      <td>0.170</td>\n",
       "    </tr>\n",
       "    <tr>\n",
       "      <th>3</th>\n",
       "      <td>Misc</td>\n",
       "      <td>0.409500</td>\n",
       "      <td>0.075</td>\n",
       "    </tr>\n",
       "    <tr>\n",
       "      <th>1</th>\n",
       "      <td>Adventure</td>\n",
       "      <td>0.226429</td>\n",
       "      <td>0.070</td>\n",
       "    </tr>\n",
       "    <tr>\n",
       "      <th>9</th>\n",
       "      <td>Simulation</td>\n",
       "      <td>0.205000</td>\n",
       "      <td>0.210</td>\n",
       "    </tr>\n",
       "    <tr>\n",
       "      <th>11</th>\n",
       "      <td>Strategy</td>\n",
       "      <td>0.103333</td>\n",
       "      <td>0.080</td>\n",
       "    </tr>\n",
       "    <tr>\n",
       "      <th>5</th>\n",
       "      <td>Puzzle</td>\n",
       "      <td>0.020000</td>\n",
       "      <td>0.020</td>\n",
       "    </tr>\n",
       "  </tbody>\n",
       "</table>\n",
       "</div>"
      ],
      "text/plain": [
       "           genre      mean  median\n",
       "8        Shooter  2.160000   0.970\n",
       "10        Sports  1.208913   0.525\n",
       "0         Action  0.667361   0.155\n",
       "4       Platform  0.640833   0.300\n",
       "6         Racing  0.638947   0.230\n",
       "7   Role-Playing  0.568431   0.200\n",
       "2       Fighting  0.480556   0.170\n",
       "3           Misc  0.409500   0.075\n",
       "1      Adventure  0.226429   0.070\n",
       "9     Simulation  0.205000   0.210\n",
       "11      Strategy  0.103333   0.080\n",
       "5         Puzzle  0.020000   0.020"
      ]
     },
     "metadata": {},
     "output_type": "display_data"
    }
   ],
   "source": [
    "lucky_genre_PS4=platform_box_PS4.pivot_table(index='genre', values='all_sales', aggfunc=['mean', 'median']).reset_index()  #сортировка по убыванию\n",
    "lucky_genre_PS4.columns = ['genre','mean','median']\n",
    "display(lucky_genre_PS4.sort_values(by='mean', ascending=False))"
   ]
  },
  {
   "cell_type": "markdown",
   "id": "a50c731b",
   "metadata": {},
   "source": [
    "Популярные жанры на XOne"
   ]
  },
  {
   "cell_type": "code",
   "execution_count": 107,
   "id": "139dac6f",
   "metadata": {},
   "outputs": [
    {
     "data": {
      "text/html": [
       "<div>\n",
       "<style scoped>\n",
       "    .dataframe tbody tr th:only-of-type {\n",
       "        vertical-align: middle;\n",
       "    }\n",
       "\n",
       "    .dataframe tbody tr th {\n",
       "        vertical-align: top;\n",
       "    }\n",
       "\n",
       "    .dataframe thead th {\n",
       "        text-align: right;\n",
       "    }\n",
       "</style>\n",
       "<table border=\"1\" class=\"dataframe\">\n",
       "  <thead>\n",
       "    <tr style=\"text-align: right;\">\n",
       "      <th></th>\n",
       "      <th>genre</th>\n",
       "      <th>mean</th>\n",
       "      <th>median</th>\n",
       "    </tr>\n",
       "  </thead>\n",
       "  <tbody>\n",
       "    <tr>\n",
       "      <th>7</th>\n",
       "      <td>Shooter</td>\n",
       "      <td>1.587632</td>\n",
       "      <td>1.095</td>\n",
       "    </tr>\n",
       "    <tr>\n",
       "      <th>6</th>\n",
       "      <td>Role-Playing</td>\n",
       "      <td>0.753571</td>\n",
       "      <td>0.320</td>\n",
       "    </tr>\n",
       "    <tr>\n",
       "      <th>9</th>\n",
       "      <td>Sports</td>\n",
       "      <td>0.703684</td>\n",
       "      <td>0.335</td>\n",
       "    </tr>\n",
       "    <tr>\n",
       "      <th>5</th>\n",
       "      <td>Racing</td>\n",
       "      <td>0.489500</td>\n",
       "      <td>0.185</td>\n",
       "    </tr>\n",
       "    <tr>\n",
       "      <th>0</th>\n",
       "      <td>Action</td>\n",
       "      <td>0.438941</td>\n",
       "      <td>0.150</td>\n",
       "    </tr>\n",
       "    <tr>\n",
       "      <th>3</th>\n",
       "      <td>Misc</td>\n",
       "      <td>0.391053</td>\n",
       "      <td>0.180</td>\n",
       "    </tr>\n",
       "    <tr>\n",
       "      <th>2</th>\n",
       "      <td>Fighting</td>\n",
       "      <td>0.350000</td>\n",
       "      <td>0.200</td>\n",
       "    </tr>\n",
       "    <tr>\n",
       "      <th>1</th>\n",
       "      <td>Adventure</td>\n",
       "      <td>0.191429</td>\n",
       "      <td>0.060</td>\n",
       "    </tr>\n",
       "    <tr>\n",
       "      <th>4</th>\n",
       "      <td>Platform</td>\n",
       "      <td>0.186000</td>\n",
       "      <td>0.160</td>\n",
       "    </tr>\n",
       "    <tr>\n",
       "      <th>8</th>\n",
       "      <td>Simulation</td>\n",
       "      <td>0.172500</td>\n",
       "      <td>0.160</td>\n",
       "    </tr>\n",
       "    <tr>\n",
       "      <th>10</th>\n",
       "      <td>Strategy</td>\n",
       "      <td>0.140000</td>\n",
       "      <td>0.170</td>\n",
       "    </tr>\n",
       "  </tbody>\n",
       "</table>\n",
       "</div>"
      ],
      "text/plain": [
       "           genre      mean  median\n",
       "7        Shooter  1.587632   1.095\n",
       "6   Role-Playing  0.753571   0.320\n",
       "9         Sports  0.703684   0.335\n",
       "5         Racing  0.489500   0.185\n",
       "0         Action  0.438941   0.150\n",
       "3           Misc  0.391053   0.180\n",
       "2       Fighting  0.350000   0.200\n",
       "1      Adventure  0.191429   0.060\n",
       "4       Platform  0.186000   0.160\n",
       "8     Simulation  0.172500   0.160\n",
       "10      Strategy  0.140000   0.170"
      ]
     },
     "metadata": {},
     "output_type": "display_data"
    }
   ],
   "source": [
    "lucky_genre_XOne=platform_box_XOne.pivot_table(index='genre', values='all_sales', aggfunc=['mean', 'median']).reset_index()  #сортировка по убыванию\n",
    "lucky_genre_XOne.columns = ['genre','mean','median']\n",
    "display(lucky_genre_XOne.sort_values(by='mean', ascending=False))"
   ]
  },
  {
   "cell_type": "markdown",
   "id": "a63f8804",
   "metadata": {},
   "source": [
    "Популярные жанры на PC"
   ]
  },
  {
   "cell_type": "code",
   "execution_count": 108,
   "id": "f189a93b",
   "metadata": {},
   "outputs": [
    {
     "data": {
      "text/html": [
       "<div>\n",
       "<style scoped>\n",
       "    .dataframe tbody tr th:only-of-type {\n",
       "        vertical-align: middle;\n",
       "    }\n",
       "\n",
       "    .dataframe tbody tr th {\n",
       "        vertical-align: top;\n",
       "    }\n",
       "\n",
       "    .dataframe thead th {\n",
       "        text-align: right;\n",
       "    }\n",
       "</style>\n",
       "<table border=\"1\" class=\"dataframe\">\n",
       "  <thead>\n",
       "    <tr style=\"text-align: right;\">\n",
       "      <th></th>\n",
       "      <th>genre</th>\n",
       "      <th>mean</th>\n",
       "      <th>median</th>\n",
       "    </tr>\n",
       "  </thead>\n",
       "  <tbody>\n",
       "    <tr>\n",
       "      <th>7</th>\n",
       "      <td>Role-Playing</td>\n",
       "      <td>0.458738</td>\n",
       "      <td>0.070</td>\n",
       "    </tr>\n",
       "    <tr>\n",
       "      <th>9</th>\n",
       "      <td>Simulation</td>\n",
       "      <td>0.437583</td>\n",
       "      <td>0.050</td>\n",
       "    </tr>\n",
       "    <tr>\n",
       "      <th>3</th>\n",
       "      <td>Misc</td>\n",
       "      <td>0.381818</td>\n",
       "      <td>0.020</td>\n",
       "    </tr>\n",
       "    <tr>\n",
       "      <th>8</th>\n",
       "      <td>Shooter</td>\n",
       "      <td>0.298639</td>\n",
       "      <td>0.080</td>\n",
       "    </tr>\n",
       "    <tr>\n",
       "      <th>11</th>\n",
       "      <td>Strategy</td>\n",
       "      <td>0.247027</td>\n",
       "      <td>0.040</td>\n",
       "    </tr>\n",
       "    <tr>\n",
       "      <th>10</th>\n",
       "      <td>Sports</td>\n",
       "      <td>0.239400</td>\n",
       "      <td>0.040</td>\n",
       "    </tr>\n",
       "    <tr>\n",
       "      <th>0</th>\n",
       "      <td>Action</td>\n",
       "      <td>0.185000</td>\n",
       "      <td>0.060</td>\n",
       "    </tr>\n",
       "    <tr>\n",
       "      <th>1</th>\n",
       "      <td>Adventure</td>\n",
       "      <td>0.154154</td>\n",
       "      <td>0.040</td>\n",
       "    </tr>\n",
       "    <tr>\n",
       "      <th>6</th>\n",
       "      <td>Racing</td>\n",
       "      <td>0.065172</td>\n",
       "      <td>0.035</td>\n",
       "    </tr>\n",
       "    <tr>\n",
       "      <th>4</th>\n",
       "      <td>Platform</td>\n",
       "      <td>0.041818</td>\n",
       "      <td>0.030</td>\n",
       "    </tr>\n",
       "    <tr>\n",
       "      <th>5</th>\n",
       "      <td>Puzzle</td>\n",
       "      <td>0.036400</td>\n",
       "      <td>0.020</td>\n",
       "    </tr>\n",
       "    <tr>\n",
       "      <th>2</th>\n",
       "      <td>Fighting</td>\n",
       "      <td>0.030000</td>\n",
       "      <td>0.020</td>\n",
       "    </tr>\n",
       "  </tbody>\n",
       "</table>\n",
       "</div>"
      ],
      "text/plain": [
       "           genre      mean  median\n",
       "7   Role-Playing  0.458738   0.070\n",
       "9     Simulation  0.437583   0.050\n",
       "3           Misc  0.381818   0.020\n",
       "8        Shooter  0.298639   0.080\n",
       "11      Strategy  0.247027   0.040\n",
       "10        Sports  0.239400   0.040\n",
       "0         Action  0.185000   0.060\n",
       "1      Adventure  0.154154   0.040\n",
       "6         Racing  0.065172   0.035\n",
       "4       Platform  0.041818   0.030\n",
       "5         Puzzle  0.036400   0.020\n",
       "2       Fighting  0.030000   0.020"
      ]
     },
     "metadata": {},
     "output_type": "display_data"
    }
   ],
   "source": [
    "lucky_genre_PC=platform_box_PC.pivot_table(index='genre', values='all_sales', aggfunc=['mean', 'median']).reset_index()  #сортировка по убыванию\n",
    "lucky_genre_PC.columns = ['genre','mean','median']\n",
    "display(lucky_genre_PC.sort_values(by='mean', ascending=False))"
   ]
  },
  {
   "cell_type": "markdown",
   "id": "de656a61",
   "metadata": {},
   "source": [
    "Популярные жанры на 3DS"
   ]
  },
  {
   "cell_type": "code",
   "execution_count": 110,
   "id": "70a2b78b",
   "metadata": {},
   "outputs": [
    {
     "data": {
      "text/html": [
       "<div>\n",
       "<style scoped>\n",
       "    .dataframe tbody tr th:only-of-type {\n",
       "        vertical-align: middle;\n",
       "    }\n",
       "\n",
       "    .dataframe tbody tr th {\n",
       "        vertical-align: top;\n",
       "    }\n",
       "\n",
       "    .dataframe thead th {\n",
       "        text-align: right;\n",
       "    }\n",
       "</style>\n",
       "<table border=\"1\" class=\"dataframe\">\n",
       "  <thead>\n",
       "    <tr style=\"text-align: right;\">\n",
       "      <th></th>\n",
       "      <th>genre</th>\n",
       "      <th>mean</th>\n",
       "      <th>median</th>\n",
       "    </tr>\n",
       "  </thead>\n",
       "  <tbody>\n",
       "    <tr>\n",
       "      <th>6</th>\n",
       "      <td>Racing</td>\n",
       "      <td>1.487000</td>\n",
       "      <td>0.210</td>\n",
       "    </tr>\n",
       "    <tr>\n",
       "      <th>4</th>\n",
       "      <td>Platform</td>\n",
       "      <td>1.161786</td>\n",
       "      <td>0.220</td>\n",
       "    </tr>\n",
       "    <tr>\n",
       "      <th>7</th>\n",
       "      <td>Role-Playing</td>\n",
       "      <td>0.967816</td>\n",
       "      <td>0.220</td>\n",
       "    </tr>\n",
       "    <tr>\n",
       "      <th>9</th>\n",
       "      <td>Simulation</td>\n",
       "      <td>0.929655</td>\n",
       "      <td>0.160</td>\n",
       "    </tr>\n",
       "    <tr>\n",
       "      <th>2</th>\n",
       "      <td>Fighting</td>\n",
       "      <td>0.754286</td>\n",
       "      <td>0.115</td>\n",
       "    </tr>\n",
       "    <tr>\n",
       "      <th>0</th>\n",
       "      <td>Action</td>\n",
       "      <td>0.309305</td>\n",
       "      <td>0.100</td>\n",
       "    </tr>\n",
       "    <tr>\n",
       "      <th>5</th>\n",
       "      <td>Puzzle</td>\n",
       "      <td>0.278500</td>\n",
       "      <td>0.100</td>\n",
       "    </tr>\n",
       "    <tr>\n",
       "      <th>10</th>\n",
       "      <td>Sports</td>\n",
       "      <td>0.246000</td>\n",
       "      <td>0.140</td>\n",
       "    </tr>\n",
       "    <tr>\n",
       "      <th>3</th>\n",
       "      <td>Misc</td>\n",
       "      <td>0.203519</td>\n",
       "      <td>0.115</td>\n",
       "    </tr>\n",
       "    <tr>\n",
       "      <th>8</th>\n",
       "      <td>Shooter</td>\n",
       "      <td>0.203333</td>\n",
       "      <td>0.065</td>\n",
       "    </tr>\n",
       "    <tr>\n",
       "      <th>11</th>\n",
       "      <td>Strategy</td>\n",
       "      <td>0.139333</td>\n",
       "      <td>0.060</td>\n",
       "    </tr>\n",
       "    <tr>\n",
       "      <th>1</th>\n",
       "      <td>Adventure</td>\n",
       "      <td>0.130541</td>\n",
       "      <td>0.070</td>\n",
       "    </tr>\n",
       "  </tbody>\n",
       "</table>\n",
       "</div>"
      ],
      "text/plain": [
       "           genre      mean  median\n",
       "6         Racing  1.487000   0.210\n",
       "4       Platform  1.161786   0.220\n",
       "7   Role-Playing  0.967816   0.220\n",
       "9     Simulation  0.929655   0.160\n",
       "2       Fighting  0.754286   0.115\n",
       "0         Action  0.309305   0.100\n",
       "5         Puzzle  0.278500   0.100\n",
       "10        Sports  0.246000   0.140\n",
       "3           Misc  0.203519   0.115\n",
       "8        Shooter  0.203333   0.065\n",
       "11      Strategy  0.139333   0.060\n",
       "1      Adventure  0.130541   0.070"
      ]
     },
     "metadata": {},
     "output_type": "display_data"
    }
   ],
   "source": [
    "platform_box_3DS\n",
    "lucky_genre_3DS=platform_box_3DS.pivot_table(index='genre', values='all_sales', aggfunc=['mean', 'median']).reset_index()  #сортировка по убыванию\n",
    "lucky_genre_3DS.columns = ['genre','mean','median']\n",
    "display(lucky_genre_3DS.sort_values(by='mean', ascending=False))"
   ]
  },
  {
   "cell_type": "markdown",
   "id": "cf9e5d48",
   "metadata": {},
   "source": [
    "**Вывод**\n",
    "\n",
    "1. Наиболее популярные и прибыльные жанры на PS4 это Shooter и Sports. Данные жанры имеют наибольшее значение среднего и медианного значения от продаж.\n",
    "2. Наиболее популярные и прибыльные жанры на XOne это Shooter\n",
    "3. На PC  наиболее популярные и прибыльные Role-Playing и Simulation, но у них сильно различаются медианное и среднее значение, что говорит о достаточно большом количестве мало покупаемых проектов и группе очень популярных проектов.\n",
    "4. На 3DS ситуасия схожая с РС, наиболее популярные и прибыльные Racing и Platform, но опять сильно различаются медианное и среднее значение, значит хорошо продается только не большая группа игр в этих жанрах.\n",
    "5. По полученным данным видно, что для каждой платформы хорошую продаваемость показывает разный жанр, притом внутри жанра продажи могут идти так же очень не равномерно, не многие проекты оказываются сверх популярные."
   ]
  },
  {
   "cell_type": "markdown",
   "id": "4363db1b",
   "metadata": {},
   "source": [
    "##  Портрет пользователей"
   ]
  },
  {
   "cell_type": "markdown",
   "id": "8f344c52",
   "metadata": {},
   "source": [
    "Популярные платформы в регионах eu, jp, na"
   ]
  },
  {
   "cell_type": "code",
   "execution_count": 112,
   "id": "09e3b5fd",
   "metadata": {},
   "outputs": [
    {
     "data": {
      "text/plain": [
       "'Топ регион NA'"
      ]
     },
     "metadata": {},
     "output_type": "display_data"
    },
    {
     "data": {
      "text/html": [
       "<div>\n",
       "<style scoped>\n",
       "    .dataframe tbody tr th:only-of-type {\n",
       "        vertical-align: middle;\n",
       "    }\n",
       "\n",
       "    .dataframe tbody tr th {\n",
       "        vertical-align: top;\n",
       "    }\n",
       "\n",
       "    .dataframe thead th {\n",
       "        text-align: right;\n",
       "    }\n",
       "</style>\n",
       "<table border=\"1\" class=\"dataframe\">\n",
       "  <thead>\n",
       "    <tr style=\"text-align: right;\">\n",
       "      <th></th>\n",
       "      <th>eu_sales</th>\n",
       "      <th>jp_sales</th>\n",
       "      <th>na_sales</th>\n",
       "    </tr>\n",
       "    <tr>\n",
       "      <th>platform</th>\n",
       "      <th></th>\n",
       "      <th></th>\n",
       "      <th></th>\n",
       "    </tr>\n",
       "  </thead>\n",
       "  <tbody>\n",
       "    <tr>\n",
       "      <th>PS4</th>\n",
       "      <td>141.09</td>\n",
       "      <td>15.96</td>\n",
       "      <td>108.74</td>\n",
       "    </tr>\n",
       "    <tr>\n",
       "      <th>XOne</th>\n",
       "      <td>51.59</td>\n",
       "      <td>0.34</td>\n",
       "      <td>93.12</td>\n",
       "    </tr>\n",
       "    <tr>\n",
       "      <th>X360</th>\n",
       "      <td>42.52</td>\n",
       "      <td>0.51</td>\n",
       "      <td>81.66</td>\n",
       "    </tr>\n",
       "    <tr>\n",
       "      <th>PS3</th>\n",
       "      <td>67.81</td>\n",
       "      <td>23.35</td>\n",
       "      <td>63.50</td>\n",
       "    </tr>\n",
       "    <tr>\n",
       "      <th>3DS</th>\n",
       "      <td>30.96</td>\n",
       "      <td>67.81</td>\n",
       "      <td>38.20</td>\n",
       "    </tr>\n",
       "    <tr>\n",
       "      <th>WiiU</th>\n",
       "      <td>19.85</td>\n",
       "      <td>10.88</td>\n",
       "      <td>29.21</td>\n",
       "    </tr>\n",
       "    <tr>\n",
       "      <th>PC</th>\n",
       "      <td>25.36</td>\n",
       "      <td>0.00</td>\n",
       "      <td>11.11</td>\n",
       "    </tr>\n",
       "    <tr>\n",
       "      <th>Wii</th>\n",
       "      <td>5.93</td>\n",
       "      <td>0.05</td>\n",
       "      <td>6.56</td>\n",
       "    </tr>\n",
       "    <tr>\n",
       "      <th>PSV</th>\n",
       "      <td>6.10</td>\n",
       "      <td>18.59</td>\n",
       "      <td>5.04</td>\n",
       "    </tr>\n",
       "    <tr>\n",
       "      <th>DS</th>\n",
       "      <td>0.85</td>\n",
       "      <td>0.00</td>\n",
       "      <td>0.57</td>\n",
       "    </tr>\n",
       "  </tbody>\n",
       "</table>\n",
       "</div>"
      ],
      "text/plain": [
       "          eu_sales  jp_sales  na_sales\n",
       "platform                              \n",
       "PS4         141.09     15.96    108.74\n",
       "XOne         51.59      0.34     93.12\n",
       "X360         42.52      0.51     81.66\n",
       "PS3          67.81     23.35     63.50\n",
       "3DS          30.96     67.81     38.20\n",
       "WiiU         19.85     10.88     29.21\n",
       "PC           25.36      0.00     11.11\n",
       "Wii           5.93      0.05      6.56\n",
       "PSV           6.10     18.59      5.04\n",
       "DS            0.85      0.00      0.57"
      ]
     },
     "metadata": {},
     "output_type": "display_data"
    },
    {
     "data": {
      "text/plain": [
       "'Топ регион JP'"
      ]
     },
     "metadata": {},
     "output_type": "display_data"
    },
    {
     "data": {
      "text/html": [
       "<div>\n",
       "<style scoped>\n",
       "    .dataframe tbody tr th:only-of-type {\n",
       "        vertical-align: middle;\n",
       "    }\n",
       "\n",
       "    .dataframe tbody tr th {\n",
       "        vertical-align: top;\n",
       "    }\n",
       "\n",
       "    .dataframe thead th {\n",
       "        text-align: right;\n",
       "    }\n",
       "</style>\n",
       "<table border=\"1\" class=\"dataframe\">\n",
       "  <thead>\n",
       "    <tr style=\"text-align: right;\">\n",
       "      <th></th>\n",
       "      <th>eu_sales</th>\n",
       "      <th>jp_sales</th>\n",
       "      <th>na_sales</th>\n",
       "    </tr>\n",
       "    <tr>\n",
       "      <th>platform</th>\n",
       "      <th></th>\n",
       "      <th></th>\n",
       "      <th></th>\n",
       "    </tr>\n",
       "  </thead>\n",
       "  <tbody>\n",
       "    <tr>\n",
       "      <th>3DS</th>\n",
       "      <td>30.96</td>\n",
       "      <td>67.81</td>\n",
       "      <td>38.20</td>\n",
       "    </tr>\n",
       "    <tr>\n",
       "      <th>PS3</th>\n",
       "      <td>67.81</td>\n",
       "      <td>23.35</td>\n",
       "      <td>63.50</td>\n",
       "    </tr>\n",
       "    <tr>\n",
       "      <th>PSV</th>\n",
       "      <td>6.10</td>\n",
       "      <td>18.59</td>\n",
       "      <td>5.04</td>\n",
       "    </tr>\n",
       "    <tr>\n",
       "      <th>PS4</th>\n",
       "      <td>141.09</td>\n",
       "      <td>15.96</td>\n",
       "      <td>108.74</td>\n",
       "    </tr>\n",
       "    <tr>\n",
       "      <th>WiiU</th>\n",
       "      <td>19.85</td>\n",
       "      <td>10.88</td>\n",
       "      <td>29.21</td>\n",
       "    </tr>\n",
       "    <tr>\n",
       "      <th>PSP</th>\n",
       "      <td>0.17</td>\n",
       "      <td>3.29</td>\n",
       "      <td>0.00</td>\n",
       "    </tr>\n",
       "    <tr>\n",
       "      <th>X360</th>\n",
       "      <td>42.52</td>\n",
       "      <td>0.51</td>\n",
       "      <td>81.66</td>\n",
       "    </tr>\n",
       "    <tr>\n",
       "      <th>XOne</th>\n",
       "      <td>51.59</td>\n",
       "      <td>0.34</td>\n",
       "      <td>93.12</td>\n",
       "    </tr>\n",
       "    <tr>\n",
       "      <th>Wii</th>\n",
       "      <td>5.93</td>\n",
       "      <td>0.05</td>\n",
       "      <td>6.56</td>\n",
       "    </tr>\n",
       "    <tr>\n",
       "      <th>PC</th>\n",
       "      <td>25.36</td>\n",
       "      <td>0.00</td>\n",
       "      <td>11.11</td>\n",
       "    </tr>\n",
       "  </tbody>\n",
       "</table>\n",
       "</div>"
      ],
      "text/plain": [
       "          eu_sales  jp_sales  na_sales\n",
       "platform                              \n",
       "3DS          30.96     67.81     38.20\n",
       "PS3          67.81     23.35     63.50\n",
       "PSV           6.10     18.59      5.04\n",
       "PS4         141.09     15.96    108.74\n",
       "WiiU         19.85     10.88     29.21\n",
       "PSP           0.17      3.29      0.00\n",
       "X360         42.52      0.51     81.66\n",
       "XOne         51.59      0.34     93.12\n",
       "Wii           5.93      0.05      6.56\n",
       "PC           25.36      0.00     11.11"
      ]
     },
     "metadata": {},
     "output_type": "display_data"
    },
    {
     "data": {
      "text/plain": [
       "'Топ регион EU'"
      ]
     },
     "metadata": {},
     "output_type": "display_data"
    },
    {
     "data": {
      "text/html": [
       "<div>\n",
       "<style scoped>\n",
       "    .dataframe tbody tr th:only-of-type {\n",
       "        vertical-align: middle;\n",
       "    }\n",
       "\n",
       "    .dataframe tbody tr th {\n",
       "        vertical-align: top;\n",
       "    }\n",
       "\n",
       "    .dataframe thead th {\n",
       "        text-align: right;\n",
       "    }\n",
       "</style>\n",
       "<table border=\"1\" class=\"dataframe\">\n",
       "  <thead>\n",
       "    <tr style=\"text-align: right;\">\n",
       "      <th></th>\n",
       "      <th>eu_sales</th>\n",
       "      <th>jp_sales</th>\n",
       "      <th>na_sales</th>\n",
       "    </tr>\n",
       "    <tr>\n",
       "      <th>platform</th>\n",
       "      <th></th>\n",
       "      <th></th>\n",
       "      <th></th>\n",
       "    </tr>\n",
       "  </thead>\n",
       "  <tbody>\n",
       "    <tr>\n",
       "      <th>PS4</th>\n",
       "      <td>141.09</td>\n",
       "      <td>15.96</td>\n",
       "      <td>108.74</td>\n",
       "    </tr>\n",
       "    <tr>\n",
       "      <th>PS3</th>\n",
       "      <td>67.81</td>\n",
       "      <td>23.35</td>\n",
       "      <td>63.50</td>\n",
       "    </tr>\n",
       "    <tr>\n",
       "      <th>XOne</th>\n",
       "      <td>51.59</td>\n",
       "      <td>0.34</td>\n",
       "      <td>93.12</td>\n",
       "    </tr>\n",
       "    <tr>\n",
       "      <th>X360</th>\n",
       "      <td>42.52</td>\n",
       "      <td>0.51</td>\n",
       "      <td>81.66</td>\n",
       "    </tr>\n",
       "    <tr>\n",
       "      <th>3DS</th>\n",
       "      <td>30.96</td>\n",
       "      <td>67.81</td>\n",
       "      <td>38.20</td>\n",
       "    </tr>\n",
       "    <tr>\n",
       "      <th>PC</th>\n",
       "      <td>25.36</td>\n",
       "      <td>0.00</td>\n",
       "      <td>11.11</td>\n",
       "    </tr>\n",
       "    <tr>\n",
       "      <th>WiiU</th>\n",
       "      <td>19.85</td>\n",
       "      <td>10.88</td>\n",
       "      <td>29.21</td>\n",
       "    </tr>\n",
       "    <tr>\n",
       "      <th>PSV</th>\n",
       "      <td>6.10</td>\n",
       "      <td>18.59</td>\n",
       "      <td>5.04</td>\n",
       "    </tr>\n",
       "    <tr>\n",
       "      <th>Wii</th>\n",
       "      <td>5.93</td>\n",
       "      <td>0.05</td>\n",
       "      <td>6.56</td>\n",
       "    </tr>\n",
       "    <tr>\n",
       "      <th>DS</th>\n",
       "      <td>0.85</td>\n",
       "      <td>0.00</td>\n",
       "      <td>0.57</td>\n",
       "    </tr>\n",
       "  </tbody>\n",
       "</table>\n",
       "</div>"
      ],
      "text/plain": [
       "          eu_sales  jp_sales  na_sales\n",
       "platform                              \n",
       "PS4         141.09     15.96    108.74\n",
       "PS3          67.81     23.35     63.50\n",
       "XOne         51.59      0.34     93.12\n",
       "X360         42.52      0.51     81.66\n",
       "3DS          30.96     67.81     38.20\n",
       "PC           25.36      0.00     11.11\n",
       "WiiU         19.85     10.88     29.21\n",
       "PSV           6.10     18.59      5.04\n",
       "Wii           5.93      0.05      6.56\n",
       "DS            0.85      0.00      0.57"
      ]
     },
     "metadata": {},
     "output_type": "display_data"
    }
   ],
   "source": [
    "platform_region=data_frame[data_frame['year_of_release']>=2013] #Выбор актуального периода\n",
    "platform_region=platform_region[['platform','na_sales','eu_sales','jp_sales']]\n",
    "platform_region=platform_region.pivot_table(index='platform', values=['na_sales','eu_sales','jp_sales'], aggfunc='sum').sort_values(by='na_sales', ascending=False)\n",
    "display('Топ регион NA', platform_region.head(10))\n",
    "\n",
    "platform_region=platform_region.sort_values(by='jp_sales', ascending=False)\n",
    "display('Топ регион JP', platform_region.head(10))\n",
    "\n",
    "platform_region=platform_region.sort_values(by='eu_sales', ascending=False)\n",
    "display('Топ регион EU', platform_region.head(10))"
   ]
  },
  {
   "cell_type": "markdown",
   "id": "edf78d97",
   "metadata": {},
   "source": [
    "**Вывод** \n",
    "\n",
    "1. В регионе NA самой популярной платформой является  PS4\n",
    "2. В регионе JP самой популярной платформой является 3DS\n",
    "3. В регионе EU самой популярной платформой является PS4"
   ]
  },
  {
   "cell_type": "markdown",
   "id": "c00ce521",
   "metadata": {},
   "source": [
    "Самые популярные жанры (топ-5)"
   ]
  },
  {
   "cell_type": "code",
   "execution_count": 115,
   "id": "4f0ea005",
   "metadata": {},
   "outputs": [
    {
     "data": {
      "text/plain": [
       "'Топ жантов в регионе NA'"
      ]
     },
     "metadata": {},
     "output_type": "display_data"
    },
    {
     "data": {
      "text/html": [
       "<div>\n",
       "<style scoped>\n",
       "    .dataframe tbody tr th:only-of-type {\n",
       "        vertical-align: middle;\n",
       "    }\n",
       "\n",
       "    .dataframe tbody tr th {\n",
       "        vertical-align: top;\n",
       "    }\n",
       "\n",
       "    .dataframe thead th {\n",
       "        text-align: right;\n",
       "    }\n",
       "</style>\n",
       "<table border=\"1\" class=\"dataframe\">\n",
       "  <thead>\n",
       "    <tr style=\"text-align: right;\">\n",
       "      <th></th>\n",
       "      <th>eu_sales</th>\n",
       "      <th>jp_sales</th>\n",
       "      <th>na_sales</th>\n",
       "    </tr>\n",
       "    <tr>\n",
       "      <th>genre</th>\n",
       "      <th></th>\n",
       "      <th></th>\n",
       "      <th></th>\n",
       "    </tr>\n",
       "  </thead>\n",
       "  <tbody>\n",
       "    <tr>\n",
       "      <th>Action</th>\n",
       "      <td>118.13</td>\n",
       "      <td>40.49</td>\n",
       "      <td>126.05</td>\n",
       "    </tr>\n",
       "    <tr>\n",
       "      <th>Shooter</th>\n",
       "      <td>87.86</td>\n",
       "      <td>6.61</td>\n",
       "      <td>109.74</td>\n",
       "    </tr>\n",
       "    <tr>\n",
       "      <th>Sports</th>\n",
       "      <td>60.52</td>\n",
       "      <td>5.41</td>\n",
       "      <td>65.27</td>\n",
       "    </tr>\n",
       "    <tr>\n",
       "      <th>Role-Playing</th>\n",
       "      <td>36.97</td>\n",
       "      <td>51.04</td>\n",
       "      <td>46.40</td>\n",
       "    </tr>\n",
       "    <tr>\n",
       "      <th>Misc</th>\n",
       "      <td>20.04</td>\n",
       "      <td>9.20</td>\n",
       "      <td>27.49</td>\n",
       "    </tr>\n",
       "  </tbody>\n",
       "</table>\n",
       "</div>"
      ],
      "text/plain": [
       "              eu_sales  jp_sales  na_sales\n",
       "genre                                     \n",
       "Action          118.13     40.49    126.05\n",
       "Shooter          87.86      6.61    109.74\n",
       "Sports           60.52      5.41     65.27\n",
       "Role-Playing     36.97     51.04     46.40\n",
       "Misc             20.04      9.20     27.49"
      ]
     },
     "metadata": {},
     "output_type": "display_data"
    },
    {
     "data": {
      "text/plain": [
       "'Топ жантов в регионе JP'"
      ]
     },
     "metadata": {},
     "output_type": "display_data"
    },
    {
     "data": {
      "text/html": [
       "<div>\n",
       "<style scoped>\n",
       "    .dataframe tbody tr th:only-of-type {\n",
       "        vertical-align: middle;\n",
       "    }\n",
       "\n",
       "    .dataframe tbody tr th {\n",
       "        vertical-align: top;\n",
       "    }\n",
       "\n",
       "    .dataframe thead th {\n",
       "        text-align: right;\n",
       "    }\n",
       "</style>\n",
       "<table border=\"1\" class=\"dataframe\">\n",
       "  <thead>\n",
       "    <tr style=\"text-align: right;\">\n",
       "      <th></th>\n",
       "      <th>eu_sales</th>\n",
       "      <th>jp_sales</th>\n",
       "      <th>na_sales</th>\n",
       "    </tr>\n",
       "    <tr>\n",
       "      <th>genre</th>\n",
       "      <th></th>\n",
       "      <th></th>\n",
       "      <th></th>\n",
       "    </tr>\n",
       "  </thead>\n",
       "  <tbody>\n",
       "    <tr>\n",
       "      <th>Role-Playing</th>\n",
       "      <td>36.97</td>\n",
       "      <td>51.04</td>\n",
       "      <td>46.40</td>\n",
       "    </tr>\n",
       "    <tr>\n",
       "      <th>Action</th>\n",
       "      <td>118.13</td>\n",
       "      <td>40.49</td>\n",
       "      <td>126.05</td>\n",
       "    </tr>\n",
       "    <tr>\n",
       "      <th>Misc</th>\n",
       "      <td>20.04</td>\n",
       "      <td>9.20</td>\n",
       "      <td>27.49</td>\n",
       "    </tr>\n",
       "    <tr>\n",
       "      <th>Fighting</th>\n",
       "      <td>8.55</td>\n",
       "      <td>7.65</td>\n",
       "      <td>15.55</td>\n",
       "    </tr>\n",
       "    <tr>\n",
       "      <th>Shooter</th>\n",
       "      <td>87.86</td>\n",
       "      <td>6.61</td>\n",
       "      <td>109.74</td>\n",
       "    </tr>\n",
       "  </tbody>\n",
       "</table>\n",
       "</div>"
      ],
      "text/plain": [
       "              eu_sales  jp_sales  na_sales\n",
       "genre                                     \n",
       "Role-Playing     36.97     51.04     46.40\n",
       "Action          118.13     40.49    126.05\n",
       "Misc             20.04      9.20     27.49\n",
       "Fighting          8.55      7.65     15.55\n",
       "Shooter          87.86      6.61    109.74"
      ]
     },
     "metadata": {},
     "output_type": "display_data"
    },
    {
     "data": {
      "text/plain": [
       "'Топ жантов в регионе EU'"
      ]
     },
     "metadata": {},
     "output_type": "display_data"
    },
    {
     "data": {
      "text/html": [
       "<div>\n",
       "<style scoped>\n",
       "    .dataframe tbody tr th:only-of-type {\n",
       "        vertical-align: middle;\n",
       "    }\n",
       "\n",
       "    .dataframe tbody tr th {\n",
       "        vertical-align: top;\n",
       "    }\n",
       "\n",
       "    .dataframe thead th {\n",
       "        text-align: right;\n",
       "    }\n",
       "</style>\n",
       "<table border=\"1\" class=\"dataframe\">\n",
       "  <thead>\n",
       "    <tr style=\"text-align: right;\">\n",
       "      <th></th>\n",
       "      <th>eu_sales</th>\n",
       "      <th>jp_sales</th>\n",
       "      <th>na_sales</th>\n",
       "    </tr>\n",
       "    <tr>\n",
       "      <th>genre</th>\n",
       "      <th></th>\n",
       "      <th></th>\n",
       "      <th></th>\n",
       "    </tr>\n",
       "  </thead>\n",
       "  <tbody>\n",
       "    <tr>\n",
       "      <th>Action</th>\n",
       "      <td>118.13</td>\n",
       "      <td>40.49</td>\n",
       "      <td>126.05</td>\n",
       "    </tr>\n",
       "    <tr>\n",
       "      <th>Shooter</th>\n",
       "      <td>87.86</td>\n",
       "      <td>6.61</td>\n",
       "      <td>109.74</td>\n",
       "    </tr>\n",
       "    <tr>\n",
       "      <th>Sports</th>\n",
       "      <td>60.52</td>\n",
       "      <td>5.41</td>\n",
       "      <td>65.27</td>\n",
       "    </tr>\n",
       "    <tr>\n",
       "      <th>Role-Playing</th>\n",
       "      <td>36.97</td>\n",
       "      <td>51.04</td>\n",
       "      <td>46.40</td>\n",
       "    </tr>\n",
       "    <tr>\n",
       "      <th>Racing</th>\n",
       "      <td>20.19</td>\n",
       "      <td>2.30</td>\n",
       "      <td>12.96</td>\n",
       "    </tr>\n",
       "  </tbody>\n",
       "</table>\n",
       "</div>"
      ],
      "text/plain": [
       "              eu_sales  jp_sales  na_sales\n",
       "genre                                     \n",
       "Action          118.13     40.49    126.05\n",
       "Shooter          87.86      6.61    109.74\n",
       "Sports           60.52      5.41     65.27\n",
       "Role-Playing     36.97     51.04     46.40\n",
       "Racing           20.19      2.30     12.96"
      ]
     },
     "metadata": {},
     "output_type": "display_data"
    }
   ],
   "source": [
    "genre_region=data_frame[data_frame['year_of_release']>=2013] #Выбор актуального периода\n",
    "genre_region=genre_region[['genre','na_sales','eu_sales','jp_sales']]\n",
    "genre_region=genre_region.pivot_table(index='genre', values=['na_sales','eu_sales','jp_sales'], aggfunc='sum').sort_values(by='na_sales', ascending=False)\n",
    "display('Топ жантов в регионе NA', genre_region.head(5))\n",
    "\n",
    "genre_region=genre_region.sort_values(by='jp_sales', ascending=False)\n",
    "display('Топ жантов в регионе JP', genre_region.head(5))\n",
    "\n",
    "genre_region=genre_region.sort_values(by='eu_sales', ascending=False)\n",
    "display('Топ жантов в регионе EU', genre_region.head(5))"
   ]
  },
  {
   "cell_type": "markdown",
   "id": "c8feb0b6",
   "metadata": {},
   "source": [
    "**Вывод** \n",
    "\n",
    "1. В регионе NA самыми популярными жанрами являются платформой является Action, Shooter, Sports, Role-Playing, Misc\n",
    "2. В регионе JP самыми популярными жанрами являются платформой является Role-Playing, Action, Misc, Sports, Fighting, Shooter \n",
    "3. В регионе EU самыми популярными жанрами являются платформой является Action, Shooter, Sports, Role-Playing, Racing\n",
    "\n",
    "Можно сказать что в регионах NA и EU предпочитают практически одинаковые жанры, а в регионе JP предпочитают несколько другие жанры это нужно учитывать "
   ]
  },
  {
   "cell_type": "markdown",
   "id": "535f0228",
   "metadata": {},
   "source": [
    "Влияние рейтинга ESRB на продажи в отдельном регионе"
   ]
  },
  {
   "cell_type": "code",
   "execution_count": 25,
   "id": "e78e3106",
   "metadata": {},
   "outputs": [
    {
     "data": {
      "text/plain": [
       "'Топ по рейтингу игр в регионе NA'"
      ]
     },
     "metadata": {},
     "output_type": "display_data"
    },
    {
     "data": {
      "text/html": [
       "<div>\n",
       "<style scoped>\n",
       "    .dataframe tbody tr th:only-of-type {\n",
       "        vertical-align: middle;\n",
       "    }\n",
       "\n",
       "    .dataframe tbody tr th {\n",
       "        vertical-align: top;\n",
       "    }\n",
       "\n",
       "    .dataframe thead th {\n",
       "        text-align: right;\n",
       "    }\n",
       "</style>\n",
       "<table border=\"1\" class=\"dataframe\">\n",
       "  <thead>\n",
       "    <tr style=\"text-align: right;\">\n",
       "      <th></th>\n",
       "      <th>eu_sales</th>\n",
       "      <th>jp_sales</th>\n",
       "      <th>na_sales</th>\n",
       "    </tr>\n",
       "    <tr>\n",
       "      <th>rating</th>\n",
       "      <th></th>\n",
       "      <th></th>\n",
       "      <th></th>\n",
       "    </tr>\n",
       "  </thead>\n",
       "  <tbody>\n",
       "    <tr>\n",
       "      <th>E</th>\n",
       "      <td>703.87</td>\n",
       "      <td>197.96</td>\n",
       "      <td>1274.24</td>\n",
       "    </tr>\n",
       "    <tr>\n",
       "      <th>N/R</th>\n",
       "      <td>609.65</td>\n",
       "      <td>836.74</td>\n",
       "      <td>1225.84</td>\n",
       "    </tr>\n",
       "    <tr>\n",
       "      <th>T</th>\n",
       "      <td>421.79</td>\n",
       "      <td>150.70</td>\n",
       "      <td>747.60</td>\n",
       "    </tr>\n",
       "    <tr>\n",
       "      <th>M</th>\n",
       "      <td>480.00</td>\n",
       "      <td>63.58</td>\n",
       "      <td>742.89</td>\n",
       "    </tr>\n",
       "    <tr>\n",
       "      <th>E10+</th>\n",
       "      <td>183.35</td>\n",
       "      <td>40.20</td>\n",
       "      <td>345.50</td>\n",
       "    </tr>\n",
       "  </tbody>\n",
       "</table>\n",
       "</div>"
      ],
      "text/plain": [
       "        eu_sales  jp_sales  na_sales\n",
       "rating                              \n",
       "E         703.87    197.96   1274.24\n",
       "N/R       609.65    836.74   1225.84\n",
       "T         421.79    150.70    747.60\n",
       "M         480.00     63.58    742.89\n",
       "E10+      183.35     40.20    345.50"
      ]
     },
     "metadata": {},
     "output_type": "display_data"
    },
    {
     "data": {
      "text/plain": [
       "'Топ по рейтингу игр в регионе JP'"
      ]
     },
     "metadata": {},
     "output_type": "display_data"
    },
    {
     "data": {
      "text/html": [
       "<div>\n",
       "<style scoped>\n",
       "    .dataframe tbody tr th:only-of-type {\n",
       "        vertical-align: middle;\n",
       "    }\n",
       "\n",
       "    .dataframe tbody tr th {\n",
       "        vertical-align: top;\n",
       "    }\n",
       "\n",
       "    .dataframe thead th {\n",
       "        text-align: right;\n",
       "    }\n",
       "</style>\n",
       "<table border=\"1\" class=\"dataframe\">\n",
       "  <thead>\n",
       "    <tr style=\"text-align: right;\">\n",
       "      <th></th>\n",
       "      <th>eu_sales</th>\n",
       "      <th>jp_sales</th>\n",
       "      <th>na_sales</th>\n",
       "    </tr>\n",
       "    <tr>\n",
       "      <th>rating</th>\n",
       "      <th></th>\n",
       "      <th></th>\n",
       "      <th></th>\n",
       "    </tr>\n",
       "  </thead>\n",
       "  <tbody>\n",
       "    <tr>\n",
       "      <th>N/R</th>\n",
       "      <td>609.65</td>\n",
       "      <td>836.74</td>\n",
       "      <td>1225.84</td>\n",
       "    </tr>\n",
       "    <tr>\n",
       "      <th>E</th>\n",
       "      <td>703.87</td>\n",
       "      <td>197.96</td>\n",
       "      <td>1274.24</td>\n",
       "    </tr>\n",
       "    <tr>\n",
       "      <th>T</th>\n",
       "      <td>421.79</td>\n",
       "      <td>150.70</td>\n",
       "      <td>747.60</td>\n",
       "    </tr>\n",
       "    <tr>\n",
       "      <th>M</th>\n",
       "      <td>480.00</td>\n",
       "      <td>63.58</td>\n",
       "      <td>742.89</td>\n",
       "    </tr>\n",
       "    <tr>\n",
       "      <th>E10+</th>\n",
       "      <td>183.35</td>\n",
       "      <td>40.20</td>\n",
       "      <td>345.50</td>\n",
       "    </tr>\n",
       "  </tbody>\n",
       "</table>\n",
       "</div>"
      ],
      "text/plain": [
       "        eu_sales  jp_sales  na_sales\n",
       "rating                              \n",
       "N/R       609.65    836.74   1225.84\n",
       "E         703.87    197.96   1274.24\n",
       "T         421.79    150.70    747.60\n",
       "M         480.00     63.58    742.89\n",
       "E10+      183.35     40.20    345.50"
      ]
     },
     "metadata": {},
     "output_type": "display_data"
    },
    {
     "data": {
      "text/plain": [
       "'Топ по рейтингу игр в регионе EU'"
      ]
     },
     "metadata": {},
     "output_type": "display_data"
    },
    {
     "data": {
      "text/html": [
       "<div>\n",
       "<style scoped>\n",
       "    .dataframe tbody tr th:only-of-type {\n",
       "        vertical-align: middle;\n",
       "    }\n",
       "\n",
       "    .dataframe tbody tr th {\n",
       "        vertical-align: top;\n",
       "    }\n",
       "\n",
       "    .dataframe thead th {\n",
       "        text-align: right;\n",
       "    }\n",
       "</style>\n",
       "<table border=\"1\" class=\"dataframe\">\n",
       "  <thead>\n",
       "    <tr style=\"text-align: right;\">\n",
       "      <th></th>\n",
       "      <th>eu_sales</th>\n",
       "      <th>jp_sales</th>\n",
       "      <th>na_sales</th>\n",
       "    </tr>\n",
       "    <tr>\n",
       "      <th>rating</th>\n",
       "      <th></th>\n",
       "      <th></th>\n",
       "      <th></th>\n",
       "    </tr>\n",
       "  </thead>\n",
       "  <tbody>\n",
       "    <tr>\n",
       "      <th>E</th>\n",
       "      <td>703.87</td>\n",
       "      <td>197.96</td>\n",
       "      <td>1274.24</td>\n",
       "    </tr>\n",
       "    <tr>\n",
       "      <th>N/R</th>\n",
       "      <td>609.65</td>\n",
       "      <td>836.74</td>\n",
       "      <td>1225.84</td>\n",
       "    </tr>\n",
       "    <tr>\n",
       "      <th>M</th>\n",
       "      <td>480.00</td>\n",
       "      <td>63.58</td>\n",
       "      <td>742.89</td>\n",
       "    </tr>\n",
       "    <tr>\n",
       "      <th>T</th>\n",
       "      <td>421.79</td>\n",
       "      <td>150.70</td>\n",
       "      <td>747.60</td>\n",
       "    </tr>\n",
       "    <tr>\n",
       "      <th>E10+</th>\n",
       "      <td>183.35</td>\n",
       "      <td>40.20</td>\n",
       "      <td>345.50</td>\n",
       "    </tr>\n",
       "  </tbody>\n",
       "</table>\n",
       "</div>"
      ],
      "text/plain": [
       "        eu_sales  jp_sales  na_sales\n",
       "rating                              \n",
       "E         703.87    197.96   1274.24\n",
       "N/R       609.65    836.74   1225.84\n",
       "M         480.00     63.58    742.89\n",
       "T         421.79    150.70    747.60\n",
       "E10+      183.35     40.20    345.50"
      ]
     },
     "metadata": {},
     "output_type": "display_data"
    }
   ],
   "source": [
    "rating_region=data_frame[['rating','na_sales','eu_sales','jp_sales']]\n",
    "rating_region=rating_region.pivot_table(index='rating', values=['na_sales','eu_sales','jp_sales'], aggfunc='sum').sort_values(by='na_sales', ascending=False)\n",
    "display('Топ по рейтингу игр в регионе NA', rating_region.head(5))\n",
    "\n",
    "rating_region=rating_region.sort_values(by='jp_sales', ascending=False)\n",
    "display('Топ по рейтингу игр в регионе JP', rating_region.head(5))\n",
    "\n",
    "rating_region=rating_region.sort_values(by='eu_sales', ascending=False)\n",
    "display('Топ по рейтингу игр в регионе EU', rating_region.head(5))"
   ]
  },
  {
   "cell_type": "markdown",
   "id": "67b81b78",
   "metadata": {},
   "source": [
    "**Вывод** \n",
    "\n",
    "1. В регионе NA игры с рейтингом Е самые популярные\n",
    "2. В регионе JP игры без рейтинга самые популярные\n",
    "3. В регионе EU игры с рейтингом Е самые популярные\n",
    "\n",
    "Можно сказать что продажи зависят от рейтинга везде 1-е и 2-е место занимают рейтинг E и игры без рейтинга. Популярные игры без рейтинга, возможно это игры казуальные, для детей и подростков и соответственно без каких либо ограничений, а в японском регионе очень много играют с малого возраста, поэтому игры без рейтинга там на первом месте."
   ]
  },
  {
   "cell_type": "markdown",
   "id": "621e6d43",
   "metadata": {},
   "source": [
    "## Проверьте гипотез"
   ]
  },
  {
   "cell_type": "markdown",
   "id": "7ddca521",
   "metadata": {},
   "source": [
    "### Средние пользовательские рейтинги платформ Xbox One и PC одинаковые (гипотеза H0)\n",
    "альтернативная гипотеза (Н1) средние пользовательские рейтинги платформ Xbox One и PC различаются"
   ]
  },
  {
   "cell_type": "code",
   "execution_count": 26,
   "id": "86d5d02c",
   "metadata": {},
   "outputs": [
    {
     "name": "stdout",
     "output_type": "stream",
     "text": [
      "p-значение: 0.0012416335612875612\n",
      "статистика: -3.2368308465622517\n",
      "Отвергаем нулевую гипотезу Н0\n"
     ]
    }
   ],
   "source": [
    "# срез по оценкам и платформам\n",
    "rating_score_PC=data_frame[['user_score','platform']].query('platform == \"PC\"')\n",
    "rating_score_XOne=data_frame[['user_score','platform']].query('platform == \"XOne\"')\n",
    "\n",
    "alpha = .01\n",
    "\n",
    "results=scipy.stats.ttest_ind(rating_score_XOne['user_score'],rating_score_PC['user_score'])\n",
    "print('p-значение:', results.pvalue)\n",
    "print('статистика:', results.statistic)\n",
    "\n",
    "if results.pvalue < alpha:\n",
    "    print(\"Отвергаем нулевую гипотезу Н0\")\n",
    "else:\n",
    "    print(\"Не отвергаем нулевую гипотезу Н0\") "
   ]
  },
  {
   "cell_type": "markdown",
   "id": "d38462bc",
   "metadata": {},
   "source": [
    "**Вывод** \n",
    "\n",
    "Гипотеза Н0 не верна, т.к. результат не удовлетворил условие 0.01, выбираем альтернативную гипотезу (Н1), что оценки на платформах Xbox One и PC разные."
   ]
  },
  {
   "cell_type": "markdown",
   "id": "b99a2403",
   "metadata": {},
   "source": [
    "### Средние пользовательские рейтинги жанров Action (англ. «действие», экшен-игры) и Sports (англ. «спортивные соревнования») одинаковые (Н0)\n",
    "альтернативная гипотеза (Н1) средние пользовательские рейтинги жанров Action и Sports разные"
   ]
  },
  {
   "cell_type": "code",
   "execution_count": 27,
   "id": "8ca24013",
   "metadata": {},
   "outputs": [
    {
     "name": "stdout",
     "output_type": "stream",
     "text": [
      "p-значение: 7.872830248017558e-09\n",
      "статистика: 5.779991660757486\n",
      "Отвергаем нулевую гипотезу Н0\n"
     ]
    }
   ],
   "source": [
    "# срез по оценкам и платформам и фильтр нужных жанров\n",
    "rating_genre_Action=data_frame[['user_score','genre']].query('genre == \"Action\"')\n",
    "rating_genre_Sports=data_frame[['user_score','genre']].query('genre == \"Sports\"')\n",
    "\n",
    "alpha = .01\n",
    "\n",
    "results=scipy.stats.ttest_ind(rating_genre_Action['user_score'],rating_genre_Sports['user_score'])\n",
    "print('p-значение:', results.pvalue)\n",
    "print('статистика:', results.statistic)\n",
    "\n",
    "if results.pvalue < alpha:\n",
    "    \n",
    "   \n",
    "    print(\"Отвергаем нулевую гипотезу Н0\")\n",
    "else:\n",
    "    print(\"Не отвергаем нулевую гипотезу Н0\") "
   ]
  },
  {
   "cell_type": "markdown",
   "id": "1186a3a0",
   "metadata": {},
   "source": [
    "**Вывод** \n",
    "\n",
    "Гипотеза (Н0) верна, значение результата сравнения больше условия 0.01, таким образом отбрасываем альтернативную гипотезу (Н1)"
   ]
  }
 ],
 "metadata": {
  "ExecuteTimeLog": [
   {
    "duration": 1324,
    "start_time": "2022-04-25T12:50:59.392Z"
   },
   {
    "duration": 249,
    "start_time": "2022-04-25T12:51:00.719Z"
   },
   {
    "duration": 0,
    "start_time": "2022-04-25T12:51:00.973Z"
   },
   {
    "duration": 0,
    "start_time": "2022-04-25T12:51:00.974Z"
   },
   {
    "duration": 0,
    "start_time": "2022-04-25T12:51:00.976Z"
   },
   {
    "duration": 0,
    "start_time": "2022-04-25T12:51:00.977Z"
   },
   {
    "duration": 0,
    "start_time": "2022-04-25T12:51:00.978Z"
   },
   {
    "duration": 0,
    "start_time": "2022-04-25T12:51:00.980Z"
   },
   {
    "duration": 0,
    "start_time": "2022-04-25T12:51:00.982Z"
   },
   {
    "duration": 0,
    "start_time": "2022-04-25T12:51:00.983Z"
   },
   {
    "duration": 0,
    "start_time": "2022-04-25T12:51:00.985Z"
   },
   {
    "duration": 0,
    "start_time": "2022-04-25T12:51:00.986Z"
   },
   {
    "duration": 0,
    "start_time": "2022-04-25T12:51:00.987Z"
   },
   {
    "duration": 0,
    "start_time": "2022-04-25T12:51:00.989Z"
   },
   {
    "duration": 0,
    "start_time": "2022-04-25T12:51:00.990Z"
   },
   {
    "duration": 0,
    "start_time": "2022-04-25T12:51:01.023Z"
   },
   {
    "duration": 0,
    "start_time": "2022-04-25T12:51:01.025Z"
   },
   {
    "duration": 0,
    "start_time": "2022-04-25T12:51:01.026Z"
   },
   {
    "duration": 0,
    "start_time": "2022-04-25T12:51:01.028Z"
   },
   {
    "duration": 6,
    "start_time": "2022-04-25T12:51:31.841Z"
   },
   {
    "duration": 84,
    "start_time": "2022-04-25T12:51:31.849Z"
   },
   {
    "duration": 24,
    "start_time": "2022-04-25T12:51:31.935Z"
   },
   {
    "duration": 9,
    "start_time": "2022-04-25T12:51:31.963Z"
   },
   {
    "duration": 28339,
    "start_time": "2022-04-25T12:51:31.974Z"
   },
   {
    "duration": 21,
    "start_time": "2022-04-25T12:52:00.315Z"
   },
   {
    "duration": 47,
    "start_time": "2022-04-25T12:52:00.338Z"
   },
   {
    "duration": 244,
    "start_time": "2022-04-25T12:52:00.388Z"
   },
   {
    "duration": 1754,
    "start_time": "2022-04-25T12:52:00.634Z"
   },
   {
    "duration": 2637,
    "start_time": "2022-04-25T12:52:02.391Z"
   },
   {
    "duration": 138,
    "start_time": "2022-04-25T12:52:05.030Z"
   },
   {
    "duration": 1087,
    "start_time": "2022-04-25T12:52:05.170Z"
   },
   {
    "duration": 942,
    "start_time": "2022-04-25T12:52:06.260Z"
   },
   {
    "duration": 1013,
    "start_time": "2022-04-25T12:52:07.204Z"
   },
   {
    "duration": 44,
    "start_time": "2022-04-25T12:52:08.223Z"
   },
   {
    "duration": 64,
    "start_time": "2022-04-25T12:52:08.270Z"
   },
   {
    "duration": 37,
    "start_time": "2022-04-25T12:52:08.336Z"
   },
   {
    "duration": 49,
    "start_time": "2022-04-25T12:52:08.374Z"
   },
   {
    "duration": 17,
    "start_time": "2022-04-25T12:52:08.425Z"
   },
   {
    "duration": 19,
    "start_time": "2022-04-25T12:59:17.916Z"
   },
   {
    "duration": 10,
    "start_time": "2022-04-25T13:01:17.795Z"
   },
   {
    "duration": 26,
    "start_time": "2022-04-25T13:04:01.940Z"
   },
   {
    "duration": 8,
    "start_time": "2022-04-25T13:05:32.262Z"
   },
   {
    "duration": 6,
    "start_time": "2022-04-25T13:05:39.605Z"
   },
   {
    "duration": 9,
    "start_time": "2022-04-25T13:06:15.973Z"
   },
   {
    "duration": 85,
    "start_time": "2022-04-26T18:20:07.041Z"
   },
   {
    "duration": 1817,
    "start_time": "2022-04-26T18:20:33.369Z"
   },
   {
    "duration": 106,
    "start_time": "2022-04-26T18:20:40.148Z"
   },
   {
    "duration": 24,
    "start_time": "2022-04-26T18:20:44.005Z"
   },
   {
    "duration": 4,
    "start_time": "2022-04-26T18:20:45.245Z"
   },
   {
    "duration": 37427,
    "start_time": "2022-04-26T18:20:47.001Z"
   },
   {
    "duration": 16,
    "start_time": "2022-04-26T18:21:24.430Z"
   },
   {
    "duration": 47,
    "start_time": "2022-04-26T18:21:24.498Z"
   },
   {
    "duration": 1975,
    "start_time": "2022-04-26T18:49:19.351Z"
   },
   {
    "duration": 74,
    "start_time": "2022-04-26T18:50:05.930Z"
   },
   {
    "duration": 59,
    "start_time": "2022-04-26T18:50:38.162Z"
   },
   {
    "duration": 62,
    "start_time": "2022-04-26T18:50:49.671Z"
   },
   {
    "duration": 66,
    "start_time": "2022-04-26T18:51:51.958Z"
   },
   {
    "duration": 126,
    "start_time": "2022-04-26T18:52:01.898Z"
   },
   {
    "duration": 67,
    "start_time": "2022-04-26T18:53:17.683Z"
   },
   {
    "duration": 76,
    "start_time": "2022-04-26T19:02:59.823Z"
   },
   {
    "duration": 75,
    "start_time": "2022-04-26T19:03:15.419Z"
   },
   {
    "duration": 1008,
    "start_time": "2022-04-26T19:04:32.415Z"
   },
   {
    "duration": 109,
    "start_time": "2022-04-26T19:05:21.093Z"
   },
   {
    "duration": 103,
    "start_time": "2022-04-26T19:05:28.758Z"
   },
   {
    "duration": 86,
    "start_time": "2022-04-26T19:05:44.855Z"
   },
   {
    "duration": 3275,
    "start_time": "2022-04-26T19:06:08.451Z"
   },
   {
    "duration": 70,
    "start_time": "2022-04-26T19:07:36.974Z"
   },
   {
    "duration": 63,
    "start_time": "2022-04-26T19:08:00.859Z"
   },
   {
    "duration": 1831,
    "start_time": "2022-04-26T19:08:08.078Z"
   },
   {
    "duration": 1746,
    "start_time": "2022-04-26T19:08:19.935Z"
   },
   {
    "duration": 2848,
    "start_time": "2022-04-26T19:08:32.815Z"
   },
   {
    "duration": 3135,
    "start_time": "2022-04-26T19:12:49.527Z"
   },
   {
    "duration": 199,
    "start_time": "2022-04-26T19:16:30.182Z"
   },
   {
    "duration": 315,
    "start_time": "2022-04-26T19:20:14.996Z"
   },
   {
    "duration": 225,
    "start_time": "2022-04-26T19:21:18.390Z"
   },
   {
    "duration": 19,
    "start_time": "2022-04-26T19:24:40.106Z"
   },
   {
    "duration": 4,
    "start_time": "2022-04-26T19:24:40.810Z"
   },
   {
    "duration": 13361,
    "start_time": "2022-04-26T19:24:41.510Z"
   },
   {
    "duration": 13,
    "start_time": "2022-04-26T19:24:54.874Z"
   },
   {
    "duration": 43,
    "start_time": "2022-04-26T19:24:54.890Z"
   },
   {
    "duration": 319,
    "start_time": "2022-04-26T19:24:54.936Z"
   },
   {
    "duration": 3049,
    "start_time": "2022-04-26T19:24:59.113Z"
   },
   {
    "duration": 2776,
    "start_time": "2022-04-26T19:25:10.731Z"
   },
   {
    "duration": 34,
    "start_time": "2022-04-26T19:26:22.313Z"
   },
   {
    "duration": 3504,
    "start_time": "2022-04-26T19:26:27.577Z"
   },
   {
    "duration": 3530,
    "start_time": "2022-04-26T19:26:53.542Z"
   },
   {
    "duration": 421,
    "start_time": "2022-04-26T19:28:03.110Z"
   },
   {
    "duration": 383,
    "start_time": "2022-04-26T19:29:01.757Z"
   },
   {
    "duration": 626,
    "start_time": "2022-04-26T19:29:49.709Z"
   },
   {
    "duration": 206,
    "start_time": "2022-04-26T19:30:02.953Z"
   },
   {
    "duration": 668,
    "start_time": "2022-04-26T19:30:34.503Z"
   },
   {
    "duration": 219,
    "start_time": "2022-04-26T19:30:49.238Z"
   },
   {
    "duration": 291,
    "start_time": "2022-04-26T19:31:04.182Z"
   },
   {
    "duration": 218,
    "start_time": "2022-04-26T19:31:11.420Z"
   },
   {
    "duration": 111,
    "start_time": "2022-04-27T18:59:29.795Z"
   },
   {
    "duration": 41,
    "start_time": "2022-04-27T19:01:50.635Z"
   },
   {
    "duration": 1205,
    "start_time": "2022-04-27T19:02:08.491Z"
   },
   {
    "duration": 66,
    "start_time": "2022-04-27T19:02:09.698Z"
   },
   {
    "duration": 14,
    "start_time": "2022-04-27T19:02:10.648Z"
   },
   {
    "duration": 3,
    "start_time": "2022-04-27T19:02:11.207Z"
   },
   {
    "duration": 18899,
    "start_time": "2022-04-27T19:02:11.727Z"
   },
   {
    "duration": 19,
    "start_time": "2022-04-27T19:02:30.628Z"
   },
   {
    "duration": 18,
    "start_time": "2022-04-27T19:02:30.649Z"
   },
   {
    "duration": 189,
    "start_time": "2022-04-27T19:02:30.669Z"
   },
   {
    "duration": 1416,
    "start_time": "2022-04-27T19:02:30.860Z"
   },
   {
    "duration": 1608,
    "start_time": "2022-04-27T19:02:32.278Z"
   },
   {
    "duration": 111,
    "start_time": "2022-04-27T19:02:33.888Z"
   },
   {
    "duration": 79,
    "start_time": "2022-04-27T19:02:34.001Z"
   },
   {
    "duration": 106,
    "start_time": "2022-04-27T19:10:10.463Z"
   },
   {
    "duration": 19,
    "start_time": "2022-04-27T19:10:21.103Z"
   },
   {
    "duration": 22,
    "start_time": "2022-04-27T19:10:44.111Z"
   },
   {
    "duration": 184,
    "start_time": "2022-04-27T19:11:00.245Z"
   },
   {
    "duration": 181,
    "start_time": "2022-04-27T19:11:16.975Z"
   },
   {
    "duration": 207,
    "start_time": "2022-04-27T19:11:37.815Z"
   },
   {
    "duration": 204,
    "start_time": "2022-04-27T19:11:47.943Z"
   },
   {
    "duration": 98,
    "start_time": "2022-04-27T19:12:38.895Z"
   },
   {
    "duration": 108,
    "start_time": "2022-04-27T19:13:09.131Z"
   },
   {
    "duration": 109,
    "start_time": "2022-04-27T19:15:15.407Z"
   },
   {
    "duration": 106,
    "start_time": "2022-04-27T19:15:33.856Z"
   },
   {
    "duration": 105,
    "start_time": "2022-04-27T19:15:48.223Z"
   },
   {
    "duration": 114,
    "start_time": "2022-04-27T19:15:56.783Z"
   },
   {
    "duration": 105,
    "start_time": "2022-04-27T19:16:09.032Z"
   },
   {
    "duration": 106,
    "start_time": "2022-04-27T19:16:43.971Z"
   },
   {
    "duration": 102,
    "start_time": "2022-04-27T19:20:47.996Z"
   },
   {
    "duration": 101,
    "start_time": "2022-04-27T19:21:12.368Z"
   },
   {
    "duration": 178,
    "start_time": "2022-04-27T19:21:20.083Z"
   },
   {
    "duration": 54,
    "start_time": "2022-04-27T19:21:28.311Z"
   },
   {
    "duration": 14,
    "start_time": "2022-04-27T19:21:29.591Z"
   },
   {
    "duration": 3,
    "start_time": "2022-04-27T19:21:30.020Z"
   },
   {
    "duration": 18368,
    "start_time": "2022-04-27T19:21:30.459Z"
   },
   {
    "duration": 10,
    "start_time": "2022-04-27T19:21:48.829Z"
   },
   {
    "duration": 24,
    "start_time": "2022-04-27T19:21:48.840Z"
   },
   {
    "duration": 159,
    "start_time": "2022-04-27T19:21:48.866Z"
   },
   {
    "duration": 1372,
    "start_time": "2022-04-27T19:21:49.027Z"
   },
   {
    "duration": 1585,
    "start_time": "2022-04-27T19:21:50.401Z"
   },
   {
    "duration": 111,
    "start_time": "2022-04-27T19:21:51.987Z"
   },
   {
    "duration": 113,
    "start_time": "2022-04-27T19:22:19.835Z"
   },
   {
    "duration": 99,
    "start_time": "2022-04-27T19:23:24.804Z"
   },
   {
    "duration": 100,
    "start_time": "2022-04-27T19:23:49.479Z"
   },
   {
    "duration": 849,
    "start_time": "2022-04-27T19:26:21.739Z"
   },
   {
    "duration": 544,
    "start_time": "2022-04-27T19:27:44.550Z"
   },
   {
    "duration": 498,
    "start_time": "2022-04-27T19:27:48.939Z"
   },
   {
    "duration": 608,
    "start_time": "2022-04-27T19:28:22.760Z"
   },
   {
    "duration": 671,
    "start_time": "2022-04-27T19:29:06.111Z"
   },
   {
    "duration": 587,
    "start_time": "2022-04-27T19:30:45.463Z"
   },
   {
    "duration": 497,
    "start_time": "2022-04-27T19:32:10.455Z"
   },
   {
    "duration": 493,
    "start_time": "2022-04-27T19:35:44.966Z"
   },
   {
    "duration": 597,
    "start_time": "2022-04-27T19:36:47.862Z"
   },
   {
    "duration": 501,
    "start_time": "2022-04-27T19:37:49.839Z"
   },
   {
    "duration": 19,
    "start_time": "2022-04-27T19:44:13.798Z"
   },
   {
    "duration": 18,
    "start_time": "2022-04-27T19:46:36.250Z"
   },
   {
    "duration": 137,
    "start_time": "2022-04-27T19:49:06.345Z"
   },
   {
    "duration": 13,
    "start_time": "2022-04-27T19:49:46.894Z"
   },
   {
    "duration": 14,
    "start_time": "2022-04-27T19:50:30.642Z"
   },
   {
    "duration": 112,
    "start_time": "2022-04-27T19:51:16.670Z"
   },
   {
    "duration": 15,
    "start_time": "2022-04-27T19:51:52.737Z"
   },
   {
    "duration": 115,
    "start_time": "2022-04-27T19:52:21.549Z"
   },
   {
    "duration": 15,
    "start_time": "2022-04-27T19:52:51.817Z"
   },
   {
    "duration": 10,
    "start_time": "2022-04-27T20:01:19.561Z"
   },
   {
    "duration": 26,
    "start_time": "2022-04-27T20:01:24.061Z"
   },
   {
    "duration": 162,
    "start_time": "2022-04-27T20:01:29.877Z"
   },
   {
    "duration": 1703,
    "start_time": "2022-04-27T20:01:30.398Z"
   },
   {
    "duration": 1639,
    "start_time": "2022-04-27T20:01:32.103Z"
   },
   {
    "duration": 116,
    "start_time": "2022-04-27T20:01:33.747Z"
   },
   {
    "duration": 123,
    "start_time": "2022-04-27T20:01:33.865Z"
   },
   {
    "duration": 116,
    "start_time": "2022-04-27T20:01:33.990Z"
   },
   {
    "duration": 145,
    "start_time": "2022-04-27T20:01:34.108Z"
   },
   {
    "duration": 686,
    "start_time": "2022-04-27T20:01:34.255Z"
   },
   {
    "duration": 588,
    "start_time": "2022-04-27T20:01:34.943Z"
   },
   {
    "duration": 853,
    "start_time": "2022-04-27T20:01:35.534Z"
   },
   {
    "duration": 600,
    "start_time": "2022-04-27T20:01:36.389Z"
   },
   {
    "duration": 18,
    "start_time": "2022-04-27T20:01:36.992Z"
   },
   {
    "duration": 42,
    "start_time": "2022-04-27T20:01:37.012Z"
   },
   {
    "duration": 15,
    "start_time": "2022-04-27T20:01:37.165Z"
   },
   {
    "duration": 15,
    "start_time": "2022-04-27T20:01:37.635Z"
   },
   {
    "duration": 33,
    "start_time": "2022-04-27T20:01:41.377Z"
   },
   {
    "duration": 38,
    "start_time": "2022-04-27T20:01:44.057Z"
   },
   {
    "duration": 47,
    "start_time": "2022-04-27T20:01:46.874Z"
   },
   {
    "duration": 130,
    "start_time": "2022-04-27T20:02:43.186Z"
   },
   {
    "duration": 1471,
    "start_time": "2022-04-28T06:24:53.442Z"
   },
   {
    "duration": 134,
    "start_time": "2022-04-28T06:24:54.916Z"
   },
   {
    "duration": 26,
    "start_time": "2022-04-28T06:24:55.053Z"
   },
   {
    "duration": 12,
    "start_time": "2022-04-28T06:24:55.082Z"
   },
   {
    "duration": 36528,
    "start_time": "2022-04-28T06:24:55.096Z"
   },
   {
    "duration": 22,
    "start_time": "2022-04-28T06:25:31.627Z"
   },
   {
    "duration": 34,
    "start_time": "2022-04-28T06:25:31.652Z"
   },
   {
    "duration": 357,
    "start_time": "2022-04-28T06:25:31.689Z"
   },
   {
    "duration": 2897,
    "start_time": "2022-04-28T06:25:32.048Z"
   },
   {
    "duration": 3236,
    "start_time": "2022-04-28T06:25:34.950Z"
   },
   {
    "duration": 287,
    "start_time": "2022-04-28T06:25:38.189Z"
   },
   {
    "duration": 223,
    "start_time": "2022-04-28T06:25:38.478Z"
   },
   {
    "duration": 328,
    "start_time": "2022-04-28T06:25:38.703Z"
   },
   {
    "duration": 219,
    "start_time": "2022-04-28T06:25:39.036Z"
   },
   {
    "duration": 1124,
    "start_time": "2022-04-28T06:25:39.257Z"
   },
   {
    "duration": 1559,
    "start_time": "2022-04-28T06:25:40.384Z"
   },
   {
    "duration": 1001,
    "start_time": "2022-04-28T06:25:41.945Z"
   },
   {
    "duration": 1118,
    "start_time": "2022-04-28T06:25:42.949Z"
   },
   {
    "duration": 29,
    "start_time": "2022-04-28T06:25:44.069Z"
   },
   {
    "duration": 29,
    "start_time": "2022-04-28T06:25:44.124Z"
   },
   {
    "duration": 21,
    "start_time": "2022-04-28T06:25:44.156Z"
   },
   {
    "duration": 59,
    "start_time": "2022-04-28T06:25:44.179Z"
   },
   {
    "duration": 91,
    "start_time": "2022-04-28T06:25:44.241Z"
   },
   {
    "duration": 55,
    "start_time": "2022-04-28T06:25:44.338Z"
   },
   {
    "duration": 79,
    "start_time": "2022-04-28T06:25:44.396Z"
   },
   {
    "duration": 51,
    "start_time": "2022-04-28T06:25:44.478Z"
   },
   {
    "duration": 25,
    "start_time": "2022-04-28T06:25:44.546Z"
   },
   {
    "duration": 202,
    "start_time": "2022-04-28T09:03:30.527Z"
   },
   {
    "duration": 1300,
    "start_time": "2022-04-28T09:11:31.958Z"
   },
   {
    "duration": 107,
    "start_time": "2022-04-28T09:11:33.260Z"
   },
   {
    "duration": 15,
    "start_time": "2022-04-28T09:11:33.368Z"
   },
   {
    "duration": 10,
    "start_time": "2022-04-28T09:11:33.386Z"
   },
   {
    "duration": 22195,
    "start_time": "2022-04-28T09:11:33.398Z"
   },
   {
    "duration": 16,
    "start_time": "2022-04-28T09:11:55.595Z"
   },
   {
    "duration": 24,
    "start_time": "2022-04-28T09:11:55.622Z"
   },
   {
    "duration": 199,
    "start_time": "2022-04-28T09:11:55.648Z"
   },
   {
    "duration": 1653,
    "start_time": "2022-04-28T09:11:55.849Z"
   },
   {
    "duration": 1779,
    "start_time": "2022-04-28T09:11:57.505Z"
   },
   {
    "duration": 121,
    "start_time": "2022-04-28T09:11:59.286Z"
   },
   {
    "duration": 127,
    "start_time": "2022-04-28T09:11:59.409Z"
   },
   {
    "duration": 166,
    "start_time": "2022-04-28T09:11:59.538Z"
   },
   {
    "duration": 161,
    "start_time": "2022-04-28T09:11:59.706Z"
   },
   {
    "duration": 868,
    "start_time": "2022-04-28T09:11:59.869Z"
   },
   {
    "duration": 684,
    "start_time": "2022-04-28T09:12:00.739Z"
   },
   {
    "duration": 722,
    "start_time": "2022-04-28T09:12:01.425Z"
   },
   {
    "duration": 912,
    "start_time": "2022-04-28T09:12:02.149Z"
   },
   {
    "duration": 19,
    "start_time": "2022-04-28T09:12:03.063Z"
   },
   {
    "duration": 18,
    "start_time": "2022-04-28T09:12:03.083Z"
   },
   {
    "duration": 40,
    "start_time": "2022-04-28T09:12:03.103Z"
   },
   {
    "duration": 21,
    "start_time": "2022-04-28T09:12:03.144Z"
   },
   {
    "duration": 64,
    "start_time": "2022-04-28T09:12:03.167Z"
   },
   {
    "duration": 30,
    "start_time": "2022-04-28T09:12:03.233Z"
   },
   {
    "duration": 58,
    "start_time": "2022-04-28T09:12:03.265Z"
   },
   {
    "duration": 19,
    "start_time": "2022-04-28T09:12:03.325Z"
   },
   {
    "duration": 12,
    "start_time": "2022-04-28T09:12:03.346Z"
   },
   {
    "duration": 115,
    "start_time": "2022-04-28T09:13:17.451Z"
   },
   {
    "duration": 242,
    "start_time": "2022-04-28T09:13:26.003Z"
   },
   {
    "duration": 253,
    "start_time": "2022-04-28T09:13:32.119Z"
   },
   {
    "duration": 129,
    "start_time": "2022-04-28T09:15:30.554Z"
   },
   {
    "duration": 107,
    "start_time": "2022-04-28T09:15:37.586Z"
   },
   {
    "duration": 110,
    "start_time": "2022-04-28T09:16:06.270Z"
   },
   {
    "duration": 126,
    "start_time": "2022-04-28T09:16:11.122Z"
   },
   {
    "duration": 104,
    "start_time": "2022-04-28T09:16:25.506Z"
   },
   {
    "duration": 111,
    "start_time": "2022-04-28T09:16:36.498Z"
   },
   {
    "duration": 110,
    "start_time": "2022-04-28T09:16:43.802Z"
   },
   {
    "duration": 97,
    "start_time": "2022-04-28T09:16:50.006Z"
   },
   {
    "duration": 113,
    "start_time": "2022-04-28T09:16:53.790Z"
   },
   {
    "duration": 199,
    "start_time": "2022-04-28T09:17:47.901Z"
   },
   {
    "duration": 793,
    "start_time": "2022-04-28T09:22:09.974Z"
   },
   {
    "duration": 3166,
    "start_time": "2022-04-28T09:23:08.499Z"
   },
   {
    "duration": 665,
    "start_time": "2022-04-28T09:25:11.415Z"
   },
   {
    "duration": 86,
    "start_time": "2022-04-28T09:26:08.714Z"
   },
   {
    "duration": 21,
    "start_time": "2022-04-28T09:26:10.442Z"
   },
   {
    "duration": 6,
    "start_time": "2022-04-28T09:26:11.051Z"
   },
   {
    "duration": 28838,
    "start_time": "2022-04-28T09:26:11.670Z"
   },
   {
    "duration": 21,
    "start_time": "2022-04-28T09:26:40.510Z"
   },
   {
    "duration": 28,
    "start_time": "2022-04-28T09:26:40.533Z"
   },
   {
    "duration": 211,
    "start_time": "2022-04-28T09:26:40.563Z"
   },
   {
    "duration": 1830,
    "start_time": "2022-04-28T09:26:40.776Z"
   },
   {
    "duration": 1886,
    "start_time": "2022-04-28T09:26:42.607Z"
   },
   {
    "duration": 141,
    "start_time": "2022-04-28T09:26:44.494Z"
   },
   {
    "duration": 145,
    "start_time": "2022-04-28T09:26:44.637Z"
   },
   {
    "duration": 138,
    "start_time": "2022-04-28T09:26:44.784Z"
   },
   {
    "duration": 150,
    "start_time": "2022-04-28T09:26:44.927Z"
   },
   {
    "duration": 780,
    "start_time": "2022-04-28T09:26:45.079Z"
   },
   {
    "duration": 623,
    "start_time": "2022-04-28T09:27:00.651Z"
   },
   {
    "duration": 847,
    "start_time": "2022-04-28T09:27:55.382Z"
   },
   {
    "duration": 913,
    "start_time": "2022-04-28T09:28:21.756Z"
   },
   {
    "duration": 631,
    "start_time": "2022-04-28T09:29:07.070Z"
   },
   {
    "duration": 4,
    "start_time": "2022-04-28T09:38:39.062Z"
   },
   {
    "duration": 3436,
    "start_time": "2022-04-28T09:38:51.561Z"
   },
   {
    "duration": 165,
    "start_time": "2022-04-28T09:39:14.804Z"
   },
   {
    "duration": 132,
    "start_time": "2022-04-28T09:39:35.337Z"
   },
   {
    "duration": 252,
    "start_time": "2022-04-28T09:40:29.482Z"
   },
   {
    "duration": 292,
    "start_time": "2022-04-28T09:41:04.785Z"
   },
   {
    "duration": 860,
    "start_time": "2022-04-28T09:41:28.625Z"
   },
   {
    "duration": 940,
    "start_time": "2022-04-28T09:41:51.978Z"
   },
   {
    "duration": 884,
    "start_time": "2022-04-28T09:42:15.150Z"
   },
   {
    "duration": 878,
    "start_time": "2022-04-28T09:42:30.433Z"
   },
   {
    "duration": 1065,
    "start_time": "2022-04-28T09:42:38.321Z"
   },
   {
    "duration": 994,
    "start_time": "2022-04-28T09:43:15.494Z"
   },
   {
    "duration": 1001,
    "start_time": "2022-04-28T09:44:04.610Z"
   },
   {
    "duration": 303,
    "start_time": "2022-04-28T09:44:18.581Z"
   },
   {
    "duration": 300,
    "start_time": "2022-04-28T09:44:31.136Z"
   },
   {
    "duration": 260,
    "start_time": "2022-04-28T09:53:18.797Z"
   },
   {
    "duration": 844,
    "start_time": "2022-04-28T09:53:31.324Z"
   },
   {
    "duration": 234,
    "start_time": "2022-04-28T09:53:42.337Z"
   },
   {
    "duration": 255,
    "start_time": "2022-04-28T09:53:56.908Z"
   },
   {
    "duration": 242,
    "start_time": "2022-04-28T09:54:21.568Z"
   },
   {
    "duration": 207,
    "start_time": "2022-04-28T10:01:18.388Z"
   },
   {
    "duration": 16,
    "start_time": "2022-04-28T10:02:51.460Z"
   },
   {
    "duration": 14,
    "start_time": "2022-04-28T10:03:56.097Z"
   },
   {
    "duration": 17,
    "start_time": "2022-04-28T10:04:46.026Z"
   },
   {
    "duration": 15,
    "start_time": "2022-04-28T10:06:07.549Z"
   },
   {
    "duration": 15,
    "start_time": "2022-04-28T10:06:09.473Z"
   },
   {
    "duration": 16,
    "start_time": "2022-04-28T10:06:12.869Z"
   },
   {
    "duration": 25,
    "start_time": "2022-04-28T10:06:34.869Z"
   },
   {
    "duration": 19,
    "start_time": "2022-04-28T10:06:47.013Z"
   },
   {
    "duration": 24,
    "start_time": "2022-04-28T10:08:07.510Z"
   },
   {
    "duration": 207,
    "start_time": "2022-04-28T10:08:23.553Z"
   },
   {
    "duration": 191,
    "start_time": "2022-04-28T10:08:41.884Z"
   },
   {
    "duration": 220,
    "start_time": "2022-04-28T10:09:01.309Z"
   },
   {
    "duration": 226,
    "start_time": "2022-04-28T10:09:08.141Z"
   },
   {
    "duration": 274,
    "start_time": "2022-04-28T10:09:14.771Z"
   },
   {
    "duration": 199,
    "start_time": "2022-04-28T10:09:39.129Z"
   },
   {
    "duration": 22,
    "start_time": "2022-04-28T10:10:27.993Z"
   },
   {
    "duration": 22,
    "start_time": "2022-04-28T10:10:37.525Z"
   },
   {
    "duration": 20,
    "start_time": "2022-04-28T10:10:43.108Z"
   },
   {
    "duration": 849,
    "start_time": "2022-04-28T10:10:48.021Z"
   },
   {
    "duration": 23,
    "start_time": "2022-04-28T10:10:52.957Z"
   },
   {
    "duration": 20,
    "start_time": "2022-04-28T10:11:09.369Z"
   },
   {
    "duration": 24,
    "start_time": "2022-04-28T10:11:15.529Z"
   },
   {
    "duration": 27,
    "start_time": "2022-04-28T10:11:38.032Z"
   },
   {
    "duration": 26,
    "start_time": "2022-04-28T10:12:13.716Z"
   },
   {
    "duration": 24,
    "start_time": "2022-04-28T10:12:26.176Z"
   },
   {
    "duration": 23,
    "start_time": "2022-04-28T10:12:59.724Z"
   },
   {
    "duration": 21,
    "start_time": "2022-04-28T10:13:35.072Z"
   },
   {
    "duration": 22,
    "start_time": "2022-04-28T10:13:41.256Z"
   },
   {
    "duration": 203,
    "start_time": "2022-04-28T10:15:35.625Z"
   },
   {
    "duration": 33,
    "start_time": "2022-04-28T12:12:37.262Z"
   },
   {
    "duration": 34,
    "start_time": "2022-04-28T12:15:08.979Z"
   },
   {
    "duration": 49,
    "start_time": "2022-04-28T12:22:52.521Z"
   },
   {
    "duration": 32,
    "start_time": "2022-04-28T12:23:36.165Z"
   }
  ],
  "kernelspec": {
   "display_name": "Python 3 (ipykernel)",
   "language": "python",
   "name": "python3"
  },
  "language_info": {
   "codemirror_mode": {
    "name": "ipython",
    "version": 3
   },
   "file_extension": ".py",
   "mimetype": "text/x-python",
   "name": "python",
   "nbconvert_exporter": "python",
   "pygments_lexer": "ipython3",
   "version": "3.9.7"
  },
  "toc": {
   "base_numbering": 1,
   "nav_menu": {},
   "number_sections": false,
   "sideBar": true,
   "skip_h1_title": false,
   "title_cell": "Table of Contents",
   "title_sidebar": "Contents",
   "toc_cell": false,
   "toc_position": {},
   "toc_section_display": true,
   "toc_window_display": true
  }
 },
 "nbformat": 4,
 "nbformat_minor": 5
}

{
 "cells": [
  {
   "attachments": {},
   "cell_type": "markdown",
   "id": "00773db1",
   "metadata": {},
   "source": [
    "## Технологический процесс горнодобывающей промышленности\n",
    "Технологический процесс\n",
    "1. Rougher feed — исходное сырье\n",
    "2. Rougher additions (или reagent additions) — флотационные реагенты: Xanthate, Sulphate, Depressant\n",
    "3. Xanthate **— ксантогенат (промотер, или активатор флотации);\n",
    "4. Sulphate — сульфат (на данном производстве сульфид натрия);\n",
    "5. Depressant — депрессант (силикат натрия).\n",
    "6. Rougher process (англ. «грубый процесс») — флотация\n",
    "7. Rougher tails — отвальные хвосты\n",
    "8. Float banks — флотационная установка\n",
    "9. Cleaner process — очистка\n",
    "10. Rougher Au — черновой концентрат золота\n",
    "11. Final Au — финальный концентрат золота\n",
    "\n",
    "Параметры этапов\n",
    "\n",
    "1. air amount — объём воздуха\n",
    "2. fluid levels — уровень жидкости\n",
    "3. feed size — размер гранул сырья\n",
    "4. feed rate — скорость подачи\n"
   ]
  },
  {
   "cell_type": "markdown",
   "id": "8cde30d5",
   "metadata": {},
   "source": [
    "## Загрузка данных"
   ]
  },
  {
   "cell_type": "code",
   "execution_count": 1,
   "id": "0e10197a",
   "metadata": {},
   "outputs": [],
   "source": [
    "import warnings\n",
    "warnings.filterwarnings(\"ignore\") \n",
    "import pandas as pd \n",
    "import numpy as np \n",
    "from sklearn.model_selection import train_test_split \n",
    "from sklearn.metrics import mean_absolute_error \n",
    "from sklearn.metrics import mean_squared_error \n",
    "\n",
    "import math \n",
    "from sklearn.linear_model import LinearRegression  \n",
    "from sklearn.tree import DecisionTreeRegressor \n",
    "from sklearn.ensemble import RandomForestRegressor\n",
    "from sklearn.model_selection import GridSearchCV \n",
    "from sklearn.preprocessing import StandardScaler \n",
    "from sklearn.model_selection import cross_val_score \n",
    "from numpy.random import RandomState\n",
    "from sklearn.dummy import DummyRegressor  "
   ]
  },
  {
   "cell_type": "markdown",
   "id": "c278fdf6",
   "metadata": {},
   "source": [
    "### Загрузка данных gold_recovery_train_new"
   ]
  },
  {
   "cell_type": "code",
   "execution_count": 2,
   "id": "78af42e7",
   "metadata": {},
   "outputs": [
    {
     "name": "stdout",
     "output_type": "stream",
     "text": [
      "<class 'pandas.core.frame.DataFrame'>\n",
      "RangeIndex: 14149 entries, 0 to 14148\n",
      "Data columns (total 87 columns):\n",
      " #   Column                                              Non-Null Count  Dtype  \n",
      "---  ------                                              --------------  -----  \n",
      " 0   date                                                14149 non-null  object \n",
      " 1   final.output.concentrate_ag                         14148 non-null  float64\n",
      " 2   final.output.concentrate_pb                         14148 non-null  float64\n",
      " 3   final.output.concentrate_sol                        13938 non-null  float64\n",
      " 4   final.output.concentrate_au                         14149 non-null  float64\n",
      " 5   final.output.recovery                               14149 non-null  float64\n",
      " 6   final.output.tail_ag                                14149 non-null  float64\n",
      " 7   final.output.tail_pb                                14049 non-null  float64\n",
      " 8   final.output.tail_sol                               14144 non-null  float64\n",
      " 9   final.output.tail_au                                14149 non-null  float64\n",
      " 10  primary_cleaner.input.sulfate                       14129 non-null  float64\n",
      " 11  primary_cleaner.input.depressant                    14117 non-null  float64\n",
      " 12  primary_cleaner.input.feed_size                     14149 non-null  float64\n",
      " 13  primary_cleaner.input.xanthate                      14049 non-null  float64\n",
      " 14  primary_cleaner.output.concentrate_ag               14149 non-null  float64\n",
      " 15  primary_cleaner.output.concentrate_pb               14063 non-null  float64\n",
      " 16  primary_cleaner.output.concentrate_sol              13863 non-null  float64\n",
      " 17  primary_cleaner.output.concentrate_au               14149 non-null  float64\n",
      " 18  primary_cleaner.output.tail_ag                      14148 non-null  float64\n",
      " 19  primary_cleaner.output.tail_pb                      14134 non-null  float64\n",
      " 20  primary_cleaner.output.tail_sol                     14103 non-null  float64\n",
      " 21  primary_cleaner.output.tail_au                      14149 non-null  float64\n",
      " 22  primary_cleaner.state.floatbank8_a_air              14145 non-null  float64\n",
      " 23  primary_cleaner.state.floatbank8_a_level            14148 non-null  float64\n",
      " 24  primary_cleaner.state.floatbank8_b_air              14145 non-null  float64\n",
      " 25  primary_cleaner.state.floatbank8_b_level            14148 non-null  float64\n",
      " 26  primary_cleaner.state.floatbank8_c_air              14147 non-null  float64\n",
      " 27  primary_cleaner.state.floatbank8_c_level            14148 non-null  float64\n",
      " 28  primary_cleaner.state.floatbank8_d_air              14146 non-null  float64\n",
      " 29  primary_cleaner.state.floatbank8_d_level            14148 non-null  float64\n",
      " 30  rougher.calculation.sulfate_to_au_concentrate       14148 non-null  float64\n",
      " 31  rougher.calculation.floatbank10_sulfate_to_au_feed  14148 non-null  float64\n",
      " 32  rougher.calculation.floatbank11_sulfate_to_au_feed  14148 non-null  float64\n",
      " 33  rougher.calculation.au_pb_ratio                     14149 non-null  float64\n",
      " 34  rougher.input.feed_ag                               14149 non-null  float64\n",
      " 35  rougher.input.feed_pb                               14049 non-null  float64\n",
      " 36  rougher.input.feed_rate                             14141 non-null  float64\n",
      " 37  rougher.input.feed_size                             14005 non-null  float64\n",
      " 38  rougher.input.feed_sol                              14071 non-null  float64\n",
      " 39  rougher.input.feed_au                               14149 non-null  float64\n",
      " 40  rougher.input.floatbank10_sulfate                   14120 non-null  float64\n",
      " 41  rougher.input.floatbank10_xanthate                  14141 non-null  float64\n",
      " 42  rougher.input.floatbank11_sulfate                   14113 non-null  float64\n",
      " 43  rougher.input.floatbank11_xanthate                  13721 non-null  float64\n",
      " 44  rougher.output.concentrate_ag                       14149 non-null  float64\n",
      " 45  rougher.output.concentrate_pb                       14149 non-null  float64\n",
      " 46  rougher.output.concentrate_sol                      14127 non-null  float64\n",
      " 47  rougher.output.concentrate_au                       14149 non-null  float64\n",
      " 48  rougher.output.recovery                             14149 non-null  float64\n",
      " 49  rougher.output.tail_ag                              14148 non-null  float64\n",
      " 50  rougher.output.tail_pb                              14149 non-null  float64\n",
      " 51  rougher.output.tail_sol                             14149 non-null  float64\n",
      " 52  rougher.output.tail_au                              14149 non-null  float64\n",
      " 53  rougher.state.floatbank10_a_air                     14148 non-null  float64\n",
      " 54  rougher.state.floatbank10_a_level                   14148 non-null  float64\n",
      " 55  rougher.state.floatbank10_b_air                     14148 non-null  float64\n",
      " 56  rougher.state.floatbank10_b_level                   14148 non-null  float64\n",
      " 57  rougher.state.floatbank10_c_air                     14148 non-null  float64\n",
      " 58  rougher.state.floatbank10_c_level                   14148 non-null  float64\n",
      " 59  rougher.state.floatbank10_d_air                     14149 non-null  float64\n",
      " 60  rougher.state.floatbank10_d_level                   14149 non-null  float64\n",
      " 61  rougher.state.floatbank10_e_air                     13713 non-null  float64\n",
      " 62  rougher.state.floatbank10_e_level                   14149 non-null  float64\n",
      " 63  rougher.state.floatbank10_f_air                     14149 non-null  float64\n",
      " 64  rougher.state.floatbank10_f_level                   14149 non-null  float64\n",
      " 65  secondary_cleaner.output.tail_ag                    14147 non-null  float64\n",
      " 66  secondary_cleaner.output.tail_pb                    14139 non-null  float64\n",
      " 67  secondary_cleaner.output.tail_sol                   12544 non-null  float64\n",
      " 68  secondary_cleaner.output.tail_au                    14149 non-null  float64\n",
      " 69  secondary_cleaner.state.floatbank2_a_air            13932 non-null  float64\n",
      " 70  secondary_cleaner.state.floatbank2_a_level          14148 non-null  float64\n",
      " 71  secondary_cleaner.state.floatbank2_b_air            14128 non-null  float64\n",
      " 72  secondary_cleaner.state.floatbank2_b_level          14148 non-null  float64\n",
      " 73  secondary_cleaner.state.floatbank3_a_air            14145 non-null  float64\n",
      " 74  secondary_cleaner.state.floatbank3_a_level          14148 non-null  float64\n",
      " 75  secondary_cleaner.state.floatbank3_b_air            14148 non-null  float64\n",
      " 76  secondary_cleaner.state.floatbank3_b_level          14148 non-null  float64\n",
      " 77  secondary_cleaner.state.floatbank4_a_air            14143 non-null  float64\n",
      " 78  secondary_cleaner.state.floatbank4_a_level          14148 non-null  float64\n",
      " 79  secondary_cleaner.state.floatbank4_b_air            14148 non-null  float64\n",
      " 80  secondary_cleaner.state.floatbank4_b_level          14148 non-null  float64\n",
      " 81  secondary_cleaner.state.floatbank5_a_air            14148 non-null  float64\n",
      " 82  secondary_cleaner.state.floatbank5_a_level          14148 non-null  float64\n",
      " 83  secondary_cleaner.state.floatbank5_b_air            14148 non-null  float64\n",
      " 84  secondary_cleaner.state.floatbank5_b_level          14148 non-null  float64\n",
      " 85  secondary_cleaner.state.floatbank6_a_air            14147 non-null  float64\n",
      " 86  secondary_cleaner.state.floatbank6_a_level          14148 non-null  float64\n",
      "dtypes: float64(86), object(1)\n",
      "memory usage: 9.4+ MB\n"
     ]
    },
    {
     "data": {
      "text/html": [
       "<div>\n",
       "<style scoped>\n",
       "    .dataframe tbody tr th:only-of-type {\n",
       "        vertical-align: middle;\n",
       "    }\n",
       "\n",
       "    .dataframe tbody tr th {\n",
       "        vertical-align: top;\n",
       "    }\n",
       "\n",
       "    .dataframe thead th {\n",
       "        text-align: right;\n",
       "    }\n",
       "</style>\n",
       "<table border=\"1\" class=\"dataframe\">\n",
       "  <thead>\n",
       "    <tr style=\"text-align: right;\">\n",
       "      <th></th>\n",
       "      <th>date</th>\n",
       "      <th>final.output.concentrate_ag</th>\n",
       "      <th>final.output.concentrate_pb</th>\n",
       "      <th>final.output.concentrate_sol</th>\n",
       "      <th>final.output.concentrate_au</th>\n",
       "      <th>final.output.recovery</th>\n",
       "      <th>final.output.tail_ag</th>\n",
       "      <th>final.output.tail_pb</th>\n",
       "      <th>final.output.tail_sol</th>\n",
       "      <th>final.output.tail_au</th>\n",
       "      <th>...</th>\n",
       "      <th>secondary_cleaner.state.floatbank4_a_air</th>\n",
       "      <th>secondary_cleaner.state.floatbank4_a_level</th>\n",
       "      <th>secondary_cleaner.state.floatbank4_b_air</th>\n",
       "      <th>secondary_cleaner.state.floatbank4_b_level</th>\n",
       "      <th>secondary_cleaner.state.floatbank5_a_air</th>\n",
       "      <th>secondary_cleaner.state.floatbank5_a_level</th>\n",
       "      <th>secondary_cleaner.state.floatbank5_b_air</th>\n",
       "      <th>secondary_cleaner.state.floatbank5_b_level</th>\n",
       "      <th>secondary_cleaner.state.floatbank6_a_air</th>\n",
       "      <th>secondary_cleaner.state.floatbank6_a_level</th>\n",
       "    </tr>\n",
       "  </thead>\n",
       "  <tbody>\n",
       "    <tr>\n",
       "      <th>0</th>\n",
       "      <td>2016-01-15 00:00:00</td>\n",
       "      <td>6.055403</td>\n",
       "      <td>9.889648</td>\n",
       "      <td>5.507324</td>\n",
       "      <td>42.192020</td>\n",
       "      <td>70.541216</td>\n",
       "      <td>10.411962</td>\n",
       "      <td>0.895447</td>\n",
       "      <td>16.904297</td>\n",
       "      <td>2.143149</td>\n",
       "      <td>...</td>\n",
       "      <td>14.016835</td>\n",
       "      <td>-502.488007</td>\n",
       "      <td>12.099931</td>\n",
       "      <td>-504.715942</td>\n",
       "      <td>9.925633</td>\n",
       "      <td>-498.310211</td>\n",
       "      <td>8.079666</td>\n",
       "      <td>-500.470978</td>\n",
       "      <td>14.151341</td>\n",
       "      <td>-605.841980</td>\n",
       "    </tr>\n",
       "    <tr>\n",
       "      <th>1</th>\n",
       "      <td>2016-01-15 01:00:00</td>\n",
       "      <td>6.029369</td>\n",
       "      <td>9.968944</td>\n",
       "      <td>5.257781</td>\n",
       "      <td>42.701629</td>\n",
       "      <td>69.266198</td>\n",
       "      <td>10.462676</td>\n",
       "      <td>0.927452</td>\n",
       "      <td>16.634514</td>\n",
       "      <td>2.224930</td>\n",
       "      <td>...</td>\n",
       "      <td>13.992281</td>\n",
       "      <td>-505.503262</td>\n",
       "      <td>11.950531</td>\n",
       "      <td>-501.331529</td>\n",
       "      <td>10.039245</td>\n",
       "      <td>-500.169983</td>\n",
       "      <td>7.984757</td>\n",
       "      <td>-500.582168</td>\n",
       "      <td>13.998353</td>\n",
       "      <td>-599.787184</td>\n",
       "    </tr>\n",
       "    <tr>\n",
       "      <th>2</th>\n",
       "      <td>2016-01-15 02:00:00</td>\n",
       "      <td>6.055926</td>\n",
       "      <td>10.213995</td>\n",
       "      <td>5.383759</td>\n",
       "      <td>42.657501</td>\n",
       "      <td>68.116445</td>\n",
       "      <td>10.507046</td>\n",
       "      <td>0.953716</td>\n",
       "      <td>16.208849</td>\n",
       "      <td>2.257889</td>\n",
       "      <td>...</td>\n",
       "      <td>14.015015</td>\n",
       "      <td>-502.520901</td>\n",
       "      <td>11.912783</td>\n",
       "      <td>-501.133383</td>\n",
       "      <td>10.070913</td>\n",
       "      <td>-500.129135</td>\n",
       "      <td>8.013877</td>\n",
       "      <td>-500.517572</td>\n",
       "      <td>14.028663</td>\n",
       "      <td>-601.427363</td>\n",
       "    </tr>\n",
       "    <tr>\n",
       "      <th>3</th>\n",
       "      <td>2016-01-15 03:00:00</td>\n",
       "      <td>6.047977</td>\n",
       "      <td>9.977019</td>\n",
       "      <td>4.858634</td>\n",
       "      <td>42.689819</td>\n",
       "      <td>68.347543</td>\n",
       "      <td>10.422762</td>\n",
       "      <td>0.883763</td>\n",
       "      <td>16.532835</td>\n",
       "      <td>2.146849</td>\n",
       "      <td>...</td>\n",
       "      <td>14.036510</td>\n",
       "      <td>-500.857308</td>\n",
       "      <td>11.999550</td>\n",
       "      <td>-501.193686</td>\n",
       "      <td>9.970366</td>\n",
       "      <td>-499.201640</td>\n",
       "      <td>7.977324</td>\n",
       "      <td>-500.255908</td>\n",
       "      <td>14.005551</td>\n",
       "      <td>-599.996129</td>\n",
       "    </tr>\n",
       "    <tr>\n",
       "      <th>4</th>\n",
       "      <td>2016-01-15 04:00:00</td>\n",
       "      <td>6.148599</td>\n",
       "      <td>10.142511</td>\n",
       "      <td>4.939416</td>\n",
       "      <td>42.774141</td>\n",
       "      <td>66.927016</td>\n",
       "      <td>10.360302</td>\n",
       "      <td>0.792826</td>\n",
       "      <td>16.525686</td>\n",
       "      <td>2.055292</td>\n",
       "      <td>...</td>\n",
       "      <td>14.027298</td>\n",
       "      <td>-499.838632</td>\n",
       "      <td>11.953070</td>\n",
       "      <td>-501.053894</td>\n",
       "      <td>9.925709</td>\n",
       "      <td>-501.686727</td>\n",
       "      <td>7.894242</td>\n",
       "      <td>-500.356035</td>\n",
       "      <td>13.996647</td>\n",
       "      <td>-601.496691</td>\n",
       "    </tr>\n",
       "    <tr>\n",
       "      <th>5</th>\n",
       "      <td>2016-01-15 05:00:00</td>\n",
       "      <td>6.482968</td>\n",
       "      <td>10.049416</td>\n",
       "      <td>5.480257</td>\n",
       "      <td>41.633678</td>\n",
       "      <td>69.465816</td>\n",
       "      <td>10.182708</td>\n",
       "      <td>0.664118</td>\n",
       "      <td>16.999638</td>\n",
       "      <td>1.918586</td>\n",
       "      <td>...</td>\n",
       "      <td>13.938497</td>\n",
       "      <td>-500.970168</td>\n",
       "      <td>11.883350</td>\n",
       "      <td>-500.395298</td>\n",
       "      <td>10.054147</td>\n",
       "      <td>-496.374715</td>\n",
       "      <td>7.965083</td>\n",
       "      <td>-499.364752</td>\n",
       "      <td>14.017067</td>\n",
       "      <td>-599.707915</td>\n",
       "    </tr>\n",
       "    <tr>\n",
       "      <th>6</th>\n",
       "      <td>2016-01-15 06:00:00</td>\n",
       "      <td>6.533849</td>\n",
       "      <td>10.058141</td>\n",
       "      <td>4.569100</td>\n",
       "      <td>41.995316</td>\n",
       "      <td>69.300835</td>\n",
       "      <td>10.304598</td>\n",
       "      <td>0.807342</td>\n",
       "      <td>16.723575</td>\n",
       "      <td>2.058913</td>\n",
       "      <td>...</td>\n",
       "      <td>14.046819</td>\n",
       "      <td>-500.971133</td>\n",
       "      <td>12.091543</td>\n",
       "      <td>-500.501426</td>\n",
       "      <td>10.003247</td>\n",
       "      <td>-497.083180</td>\n",
       "      <td>8.010890</td>\n",
       "      <td>-500.002423</td>\n",
       "      <td>14.029649</td>\n",
       "      <td>-600.905470</td>\n",
       "    </tr>\n",
       "    <tr>\n",
       "      <th>7</th>\n",
       "      <td>2016-01-15 07:00:00</td>\n",
       "      <td>6.130823</td>\n",
       "      <td>9.935481</td>\n",
       "      <td>4.389813</td>\n",
       "      <td>42.452727</td>\n",
       "      <td>70.230976</td>\n",
       "      <td>10.443288</td>\n",
       "      <td>0.949346</td>\n",
       "      <td>16.689959</td>\n",
       "      <td>2.143437</td>\n",
       "      <td>...</td>\n",
       "      <td>13.974691</td>\n",
       "      <td>-501.819696</td>\n",
       "      <td>12.101324</td>\n",
       "      <td>-500.583446</td>\n",
       "      <td>9.873169</td>\n",
       "      <td>-499.171928</td>\n",
       "      <td>7.993381</td>\n",
       "      <td>-499.794518</td>\n",
       "      <td>13.984498</td>\n",
       "      <td>-600.411070</td>\n",
       "    </tr>\n",
       "    <tr>\n",
       "      <th>8</th>\n",
       "      <td>2016-01-15 08:00:00</td>\n",
       "      <td>5.834140</td>\n",
       "      <td>10.071156</td>\n",
       "      <td>4.876389</td>\n",
       "      <td>43.404078</td>\n",
       "      <td>69.688595</td>\n",
       "      <td>10.420140</td>\n",
       "      <td>1.065453</td>\n",
       "      <td>17.201948</td>\n",
       "      <td>2.209881</td>\n",
       "      <td>...</td>\n",
       "      <td>13.964030</td>\n",
       "      <td>-504.252450</td>\n",
       "      <td>12.060738</td>\n",
       "      <td>-501.174549</td>\n",
       "      <td>10.033838</td>\n",
       "      <td>-501.178133</td>\n",
       "      <td>7.881604</td>\n",
       "      <td>-499.729434</td>\n",
       "      <td>13.967135</td>\n",
       "      <td>-599.061188</td>\n",
       "    </tr>\n",
       "    <tr>\n",
       "      <th>9</th>\n",
       "      <td>2016-01-15 09:00:00</td>\n",
       "      <td>5.687063</td>\n",
       "      <td>9.980404</td>\n",
       "      <td>5.282514</td>\n",
       "      <td>43.235220</td>\n",
       "      <td>70.279619</td>\n",
       "      <td>10.487013</td>\n",
       "      <td>1.159805</td>\n",
       "      <td>17.483979</td>\n",
       "      <td>2.209593</td>\n",
       "      <td>...</td>\n",
       "      <td>13.989632</td>\n",
       "      <td>-503.195299</td>\n",
       "      <td>12.052233</td>\n",
       "      <td>-500.928547</td>\n",
       "      <td>9.962574</td>\n",
       "      <td>-502.986357</td>\n",
       "      <td>7.979219</td>\n",
       "      <td>-500.146835</td>\n",
       "      <td>13.981614</td>\n",
       "      <td>-598.070855</td>\n",
       "    </tr>\n",
       "  </tbody>\n",
       "</table>\n",
       "<p>10 rows × 87 columns</p>\n",
       "</div>"
      ],
      "text/plain": [
       "                  date  final.output.concentrate_ag  \\\n",
       "0  2016-01-15 00:00:00                     6.055403   \n",
       "1  2016-01-15 01:00:00                     6.029369   \n",
       "2  2016-01-15 02:00:00                     6.055926   \n",
       "3  2016-01-15 03:00:00                     6.047977   \n",
       "4  2016-01-15 04:00:00                     6.148599   \n",
       "5  2016-01-15 05:00:00                     6.482968   \n",
       "6  2016-01-15 06:00:00                     6.533849   \n",
       "7  2016-01-15 07:00:00                     6.130823   \n",
       "8  2016-01-15 08:00:00                     5.834140   \n",
       "9  2016-01-15 09:00:00                     5.687063   \n",
       "\n",
       "   final.output.concentrate_pb  final.output.concentrate_sol  \\\n",
       "0                     9.889648                      5.507324   \n",
       "1                     9.968944                      5.257781   \n",
       "2                    10.213995                      5.383759   \n",
       "3                     9.977019                      4.858634   \n",
       "4                    10.142511                      4.939416   \n",
       "5                    10.049416                      5.480257   \n",
       "6                    10.058141                      4.569100   \n",
       "7                     9.935481                      4.389813   \n",
       "8                    10.071156                      4.876389   \n",
       "9                     9.980404                      5.282514   \n",
       "\n",
       "   final.output.concentrate_au  final.output.recovery  final.output.tail_ag  \\\n",
       "0                    42.192020              70.541216             10.411962   \n",
       "1                    42.701629              69.266198             10.462676   \n",
       "2                    42.657501              68.116445             10.507046   \n",
       "3                    42.689819              68.347543             10.422762   \n",
       "4                    42.774141              66.927016             10.360302   \n",
       "5                    41.633678              69.465816             10.182708   \n",
       "6                    41.995316              69.300835             10.304598   \n",
       "7                    42.452727              70.230976             10.443288   \n",
       "8                    43.404078              69.688595             10.420140   \n",
       "9                    43.235220              70.279619             10.487013   \n",
       "\n",
       "   final.output.tail_pb  final.output.tail_sol  final.output.tail_au  ...  \\\n",
       "0              0.895447              16.904297              2.143149  ...   \n",
       "1              0.927452              16.634514              2.224930  ...   \n",
       "2              0.953716              16.208849              2.257889  ...   \n",
       "3              0.883763              16.532835              2.146849  ...   \n",
       "4              0.792826              16.525686              2.055292  ...   \n",
       "5              0.664118              16.999638              1.918586  ...   \n",
       "6              0.807342              16.723575              2.058913  ...   \n",
       "7              0.949346              16.689959              2.143437  ...   \n",
       "8              1.065453              17.201948              2.209881  ...   \n",
       "9              1.159805              17.483979              2.209593  ...   \n",
       "\n",
       "   secondary_cleaner.state.floatbank4_a_air  \\\n",
       "0                                 14.016835   \n",
       "1                                 13.992281   \n",
       "2                                 14.015015   \n",
       "3                                 14.036510   \n",
       "4                                 14.027298   \n",
       "5                                 13.938497   \n",
       "6                                 14.046819   \n",
       "7                                 13.974691   \n",
       "8                                 13.964030   \n",
       "9                                 13.989632   \n",
       "\n",
       "   secondary_cleaner.state.floatbank4_a_level  \\\n",
       "0                                 -502.488007   \n",
       "1                                 -505.503262   \n",
       "2                                 -502.520901   \n",
       "3                                 -500.857308   \n",
       "4                                 -499.838632   \n",
       "5                                 -500.970168   \n",
       "6                                 -500.971133   \n",
       "7                                 -501.819696   \n",
       "8                                 -504.252450   \n",
       "9                                 -503.195299   \n",
       "\n",
       "   secondary_cleaner.state.floatbank4_b_air  \\\n",
       "0                                 12.099931   \n",
       "1                                 11.950531   \n",
       "2                                 11.912783   \n",
       "3                                 11.999550   \n",
       "4                                 11.953070   \n",
       "5                                 11.883350   \n",
       "6                                 12.091543   \n",
       "7                                 12.101324   \n",
       "8                                 12.060738   \n",
       "9                                 12.052233   \n",
       "\n",
       "   secondary_cleaner.state.floatbank4_b_level  \\\n",
       "0                                 -504.715942   \n",
       "1                                 -501.331529   \n",
       "2                                 -501.133383   \n",
       "3                                 -501.193686   \n",
       "4                                 -501.053894   \n",
       "5                                 -500.395298   \n",
       "6                                 -500.501426   \n",
       "7                                 -500.583446   \n",
       "8                                 -501.174549   \n",
       "9                                 -500.928547   \n",
       "\n",
       "   secondary_cleaner.state.floatbank5_a_air  \\\n",
       "0                                  9.925633   \n",
       "1                                 10.039245   \n",
       "2                                 10.070913   \n",
       "3                                  9.970366   \n",
       "4                                  9.925709   \n",
       "5                                 10.054147   \n",
       "6                                 10.003247   \n",
       "7                                  9.873169   \n",
       "8                                 10.033838   \n",
       "9                                  9.962574   \n",
       "\n",
       "   secondary_cleaner.state.floatbank5_a_level  \\\n",
       "0                                 -498.310211   \n",
       "1                                 -500.169983   \n",
       "2                                 -500.129135   \n",
       "3                                 -499.201640   \n",
       "4                                 -501.686727   \n",
       "5                                 -496.374715   \n",
       "6                                 -497.083180   \n",
       "7                                 -499.171928   \n",
       "8                                 -501.178133   \n",
       "9                                 -502.986357   \n",
       "\n",
       "   secondary_cleaner.state.floatbank5_b_air  \\\n",
       "0                                  8.079666   \n",
       "1                                  7.984757   \n",
       "2                                  8.013877   \n",
       "3                                  7.977324   \n",
       "4                                  7.894242   \n",
       "5                                  7.965083   \n",
       "6                                  8.010890   \n",
       "7                                  7.993381   \n",
       "8                                  7.881604   \n",
       "9                                  7.979219   \n",
       "\n",
       "   secondary_cleaner.state.floatbank5_b_level  \\\n",
       "0                                 -500.470978   \n",
       "1                                 -500.582168   \n",
       "2                                 -500.517572   \n",
       "3                                 -500.255908   \n",
       "4                                 -500.356035   \n",
       "5                                 -499.364752   \n",
       "6                                 -500.002423   \n",
       "7                                 -499.794518   \n",
       "8                                 -499.729434   \n",
       "9                                 -500.146835   \n",
       "\n",
       "   secondary_cleaner.state.floatbank6_a_air  \\\n",
       "0                                 14.151341   \n",
       "1                                 13.998353   \n",
       "2                                 14.028663   \n",
       "3                                 14.005551   \n",
       "4                                 13.996647   \n",
       "5                                 14.017067   \n",
       "6                                 14.029649   \n",
       "7                                 13.984498   \n",
       "8                                 13.967135   \n",
       "9                                 13.981614   \n",
       "\n",
       "   secondary_cleaner.state.floatbank6_a_level  \n",
       "0                                 -605.841980  \n",
       "1                                 -599.787184  \n",
       "2                                 -601.427363  \n",
       "3                                 -599.996129  \n",
       "4                                 -601.496691  \n",
       "5                                 -599.707915  \n",
       "6                                 -600.905470  \n",
       "7                                 -600.411070  \n",
       "8                                 -599.061188  \n",
       "9                                 -598.070855  \n",
       "\n",
       "[10 rows x 87 columns]"
      ]
     },
     "metadata": {},
     "output_type": "display_data"
    }
   ],
   "source": [
    "df_train=pd.read_csv('/datasets/gold_recovery_train_new.csv')\n",
    "df_train.info()\n",
    "display(df_train.head(10))"
   ]
  },
  {
   "cell_type": "markdown",
   "id": "9950dc98",
   "metadata": {},
   "source": []
  },
  {
   "cell_type": "code",
   "execution_count": 3,
   "id": "8f05b6b3",
   "metadata": {},
   "outputs": [
    {
     "name": "stdout",
     "output_type": "stream",
     "text": [
      "Доля пропусков в столбце ,%:\n",
      "date                                          0.0\n",
      "final.output.concentrate_ag                   0.0\n",
      "final.output.concentrate_pb                   0.0\n",
      "final.output.concentrate_sol                  0.0\n",
      "final.output.concentrate_au                   0.0\n",
      "                                             ... \n",
      "secondary_cleaner.state.floatbank5_a_level    0.0\n",
      "secondary_cleaner.state.floatbank5_b_air      0.0\n",
      "secondary_cleaner.state.floatbank5_b_level    0.0\n",
      "secondary_cleaner.state.floatbank6_a_air      0.0\n",
      "secondary_cleaner.state.floatbank6_a_level    0.0\n",
      "Length: 87, dtype: float64\n",
      "Дубликатов =  0\n"
     ]
    }
   ],
   "source": [
    "list_0=['rougher.output.concentrate_ag','rougher.output.concentrate_au','rougher.output.concentrate_pb','rougher.output.concentrate_sol','primary_cleaner.output.concentrate_ag','primary_cleaner.output.concentrate_au','primary_cleaner.output.concentrate_pb','primary_cleaner.output.concentrate_sol','final.output.concentrate_ag','final.output.concentrate_au','final.output.concentrate_pb','final.output.concentrate_sol']\n",
    "df_train = df_train.dropna(subset=list_0)\n",
    "df_train = df_train.dropna()\n",
    "print('Доля пропусков в столбце ,%:')\n",
    "rezul=df_train.isna().mean() * 100\n",
    "print(rezul)\n",
    "print('Дубликатов = ',df_train.duplicated().sum()) \n",
    "for i in list_0:\n",
    "    df_train=df_train[df_train[i]!=0]\n"
   ]
  },
  {
   "cell_type": "code",
   "execution_count": 4,
   "id": "87ed53c9",
   "metadata": {},
   "outputs": [
    {
     "data": {
      "text/html": [
       "<div>\n",
       "<style scoped>\n",
       "    .dataframe tbody tr th:only-of-type {\n",
       "        vertical-align: middle;\n",
       "    }\n",
       "\n",
       "    .dataframe tbody tr th {\n",
       "        vertical-align: top;\n",
       "    }\n",
       "\n",
       "    .dataframe thead th {\n",
       "        text-align: right;\n",
       "    }\n",
       "</style>\n",
       "<table border=\"1\" class=\"dataframe\">\n",
       "  <thead>\n",
       "    <tr style=\"text-align: right;\">\n",
       "      <th></th>\n",
       "      <th>date</th>\n",
       "      <th>final.output.concentrate_ag</th>\n",
       "      <th>final.output.concentrate_pb</th>\n",
       "      <th>final.output.concentrate_sol</th>\n",
       "      <th>final.output.concentrate_au</th>\n",
       "      <th>final.output.recovery</th>\n",
       "      <th>final.output.tail_ag</th>\n",
       "      <th>final.output.tail_pb</th>\n",
       "      <th>final.output.tail_sol</th>\n",
       "      <th>final.output.tail_au</th>\n",
       "      <th>...</th>\n",
       "      <th>secondary_cleaner.state.floatbank4_a_air</th>\n",
       "      <th>secondary_cleaner.state.floatbank4_a_level</th>\n",
       "      <th>secondary_cleaner.state.floatbank4_b_air</th>\n",
       "      <th>secondary_cleaner.state.floatbank4_b_level</th>\n",
       "      <th>secondary_cleaner.state.floatbank5_a_air</th>\n",
       "      <th>secondary_cleaner.state.floatbank5_a_level</th>\n",
       "      <th>secondary_cleaner.state.floatbank5_b_air</th>\n",
       "      <th>secondary_cleaner.state.floatbank5_b_level</th>\n",
       "      <th>secondary_cleaner.state.floatbank6_a_air</th>\n",
       "      <th>secondary_cleaner.state.floatbank6_a_level</th>\n",
       "    </tr>\n",
       "  </thead>\n",
       "  <tbody>\n",
       "  </tbody>\n",
       "</table>\n",
       "<p>0 rows × 87 columns</p>\n",
       "</div>"
      ],
      "text/plain": [
       "Empty DataFrame\n",
       "Columns: [date, final.output.concentrate_ag, final.output.concentrate_pb, final.output.concentrate_sol, final.output.concentrate_au, final.output.recovery, final.output.tail_ag, final.output.tail_pb, final.output.tail_sol, final.output.tail_au, primary_cleaner.input.sulfate, primary_cleaner.input.depressant, primary_cleaner.input.feed_size, primary_cleaner.input.xanthate, primary_cleaner.output.concentrate_ag, primary_cleaner.output.concentrate_pb, primary_cleaner.output.concentrate_sol, primary_cleaner.output.concentrate_au, primary_cleaner.output.tail_ag, primary_cleaner.output.tail_pb, primary_cleaner.output.tail_sol, primary_cleaner.output.tail_au, primary_cleaner.state.floatbank8_a_air, primary_cleaner.state.floatbank8_a_level, primary_cleaner.state.floatbank8_b_air, primary_cleaner.state.floatbank8_b_level, primary_cleaner.state.floatbank8_c_air, primary_cleaner.state.floatbank8_c_level, primary_cleaner.state.floatbank8_d_air, primary_cleaner.state.floatbank8_d_level, rougher.calculation.sulfate_to_au_concentrate, rougher.calculation.floatbank10_sulfate_to_au_feed, rougher.calculation.floatbank11_sulfate_to_au_feed, rougher.calculation.au_pb_ratio, rougher.input.feed_ag, rougher.input.feed_pb, rougher.input.feed_rate, rougher.input.feed_size, rougher.input.feed_sol, rougher.input.feed_au, rougher.input.floatbank10_sulfate, rougher.input.floatbank10_xanthate, rougher.input.floatbank11_sulfate, rougher.input.floatbank11_xanthate, rougher.output.concentrate_ag, rougher.output.concentrate_pb, rougher.output.concentrate_sol, rougher.output.concentrate_au, rougher.output.recovery, rougher.output.tail_ag, rougher.output.tail_pb, rougher.output.tail_sol, rougher.output.tail_au, rougher.state.floatbank10_a_air, rougher.state.floatbank10_a_level, rougher.state.floatbank10_b_air, rougher.state.floatbank10_b_level, rougher.state.floatbank10_c_air, rougher.state.floatbank10_c_level, rougher.state.floatbank10_d_air, rougher.state.floatbank10_d_level, rougher.state.floatbank10_e_air, rougher.state.floatbank10_e_level, rougher.state.floatbank10_f_air, rougher.state.floatbank10_f_level, secondary_cleaner.output.tail_ag, secondary_cleaner.output.tail_pb, secondary_cleaner.output.tail_sol, secondary_cleaner.output.tail_au, secondary_cleaner.state.floatbank2_a_air, secondary_cleaner.state.floatbank2_a_level, secondary_cleaner.state.floatbank2_b_air, secondary_cleaner.state.floatbank2_b_level, secondary_cleaner.state.floatbank3_a_air, secondary_cleaner.state.floatbank3_a_level, secondary_cleaner.state.floatbank3_b_air, secondary_cleaner.state.floatbank3_b_level, secondary_cleaner.state.floatbank4_a_air, secondary_cleaner.state.floatbank4_a_level, secondary_cleaner.state.floatbank4_b_air, secondary_cleaner.state.floatbank4_b_level, secondary_cleaner.state.floatbank5_a_air, secondary_cleaner.state.floatbank5_a_level, secondary_cleaner.state.floatbank5_b_air, secondary_cleaner.state.floatbank5_b_level, secondary_cleaner.state.floatbank6_a_air, secondary_cleaner.state.floatbank6_a_level]\n",
       "Index: []\n",
       "\n",
       "[0 rows x 87 columns]"
      ]
     },
     "metadata": {},
     "output_type": "display_data"
    }
   ],
   "source": [
    "display(df_train[df_train['rougher.output.concentrate_au']==0])"
   ]
  },
  {
   "cell_type": "markdown",
   "id": "c48bea4c",
   "metadata": {},
   "source": [
    "### Загрузка данных gold_recovery_test_new"
   ]
  },
  {
   "cell_type": "code",
   "execution_count": 5,
   "id": "2c25ac6e",
   "metadata": {
    "scrolled": true
   },
   "outputs": [
    {
     "name": "stdout",
     "output_type": "stream",
     "text": [
      "<class 'pandas.core.frame.DataFrame'>\n",
      "RangeIndex: 5290 entries, 0 to 5289\n",
      "Data columns (total 53 columns):\n",
      " #   Column                                      Non-Null Count  Dtype  \n",
      "---  ------                                      --------------  -----  \n",
      " 0   date                                        5290 non-null   object \n",
      " 1   primary_cleaner.input.sulfate               5286 non-null   float64\n",
      " 2   primary_cleaner.input.depressant            5285 non-null   float64\n",
      " 3   primary_cleaner.input.feed_size             5290 non-null   float64\n",
      " 4   primary_cleaner.input.xanthate              5286 non-null   float64\n",
      " 5   primary_cleaner.state.floatbank8_a_air      5290 non-null   float64\n",
      " 6   primary_cleaner.state.floatbank8_a_level    5290 non-null   float64\n",
      " 7   primary_cleaner.state.floatbank8_b_air      5290 non-null   float64\n",
      " 8   primary_cleaner.state.floatbank8_b_level    5290 non-null   float64\n",
      " 9   primary_cleaner.state.floatbank8_c_air      5290 non-null   float64\n",
      " 10  primary_cleaner.state.floatbank8_c_level    5290 non-null   float64\n",
      " 11  primary_cleaner.state.floatbank8_d_air      5290 non-null   float64\n",
      " 12  primary_cleaner.state.floatbank8_d_level    5290 non-null   float64\n",
      " 13  rougher.input.feed_ag                       5290 non-null   float64\n",
      " 14  rougher.input.feed_pb                       5290 non-null   float64\n",
      " 15  rougher.input.feed_rate                     5287 non-null   float64\n",
      " 16  rougher.input.feed_size                     5289 non-null   float64\n",
      " 17  rougher.input.feed_sol                      5269 non-null   float64\n",
      " 18  rougher.input.feed_au                       5290 non-null   float64\n",
      " 19  rougher.input.floatbank10_sulfate           5285 non-null   float64\n",
      " 20  rougher.input.floatbank10_xanthate          5290 non-null   float64\n",
      " 21  rougher.input.floatbank11_sulfate           5282 non-null   float64\n",
      " 22  rougher.input.floatbank11_xanthate          5265 non-null   float64\n",
      " 23  rougher.state.floatbank10_a_air             5290 non-null   float64\n",
      " 24  rougher.state.floatbank10_a_level           5290 non-null   float64\n",
      " 25  rougher.state.floatbank10_b_air             5290 non-null   float64\n",
      " 26  rougher.state.floatbank10_b_level           5290 non-null   float64\n",
      " 27  rougher.state.floatbank10_c_air             5290 non-null   float64\n",
      " 28  rougher.state.floatbank10_c_level           5290 non-null   float64\n",
      " 29  rougher.state.floatbank10_d_air             5290 non-null   float64\n",
      " 30  rougher.state.floatbank10_d_level           5290 non-null   float64\n",
      " 31  rougher.state.floatbank10_e_air             5290 non-null   float64\n",
      " 32  rougher.state.floatbank10_e_level           5290 non-null   float64\n",
      " 33  rougher.state.floatbank10_f_air             5290 non-null   float64\n",
      " 34  rougher.state.floatbank10_f_level           5290 non-null   float64\n",
      " 35  secondary_cleaner.state.floatbank2_a_air    5287 non-null   float64\n",
      " 36  secondary_cleaner.state.floatbank2_a_level  5290 non-null   float64\n",
      " 37  secondary_cleaner.state.floatbank2_b_air    5288 non-null   float64\n",
      " 38  secondary_cleaner.state.floatbank2_b_level  5290 non-null   float64\n",
      " 39  secondary_cleaner.state.floatbank3_a_air    5281 non-null   float64\n",
      " 40  secondary_cleaner.state.floatbank3_a_level  5290 non-null   float64\n",
      " 41  secondary_cleaner.state.floatbank3_b_air    5290 non-null   float64\n",
      " 42  secondary_cleaner.state.floatbank3_b_level  5290 non-null   float64\n",
      " 43  secondary_cleaner.state.floatbank4_a_air    5290 non-null   float64\n",
      " 44  secondary_cleaner.state.floatbank4_a_level  5290 non-null   float64\n",
      " 45  secondary_cleaner.state.floatbank4_b_air    5290 non-null   float64\n",
      " 46  secondary_cleaner.state.floatbank4_b_level  5290 non-null   float64\n",
      " 47  secondary_cleaner.state.floatbank5_a_air    5290 non-null   float64\n",
      " 48  secondary_cleaner.state.floatbank5_a_level  5290 non-null   float64\n",
      " 49  secondary_cleaner.state.floatbank5_b_air    5290 non-null   float64\n",
      " 50  secondary_cleaner.state.floatbank5_b_level  5290 non-null   float64\n",
      " 51  secondary_cleaner.state.floatbank6_a_air    5290 non-null   float64\n",
      " 52  secondary_cleaner.state.floatbank6_a_level  5290 non-null   float64\n",
      "dtypes: float64(52), object(1)\n",
      "memory usage: 2.1+ MB\n"
     ]
    },
    {
     "data": {
      "text/html": [
       "<div>\n",
       "<style scoped>\n",
       "    .dataframe tbody tr th:only-of-type {\n",
       "        vertical-align: middle;\n",
       "    }\n",
       "\n",
       "    .dataframe tbody tr th {\n",
       "        vertical-align: top;\n",
       "    }\n",
       "\n",
       "    .dataframe thead th {\n",
       "        text-align: right;\n",
       "    }\n",
       "</style>\n",
       "<table border=\"1\" class=\"dataframe\">\n",
       "  <thead>\n",
       "    <tr style=\"text-align: right;\">\n",
       "      <th></th>\n",
       "      <th>date</th>\n",
       "      <th>primary_cleaner.input.sulfate</th>\n",
       "      <th>primary_cleaner.input.depressant</th>\n",
       "      <th>primary_cleaner.input.feed_size</th>\n",
       "      <th>primary_cleaner.input.xanthate</th>\n",
       "      <th>primary_cleaner.state.floatbank8_a_air</th>\n",
       "      <th>primary_cleaner.state.floatbank8_a_level</th>\n",
       "      <th>primary_cleaner.state.floatbank8_b_air</th>\n",
       "      <th>primary_cleaner.state.floatbank8_b_level</th>\n",
       "      <th>primary_cleaner.state.floatbank8_c_air</th>\n",
       "      <th>...</th>\n",
       "      <th>secondary_cleaner.state.floatbank4_a_air</th>\n",
       "      <th>secondary_cleaner.state.floatbank4_a_level</th>\n",
       "      <th>secondary_cleaner.state.floatbank4_b_air</th>\n",
       "      <th>secondary_cleaner.state.floatbank4_b_level</th>\n",
       "      <th>secondary_cleaner.state.floatbank5_a_air</th>\n",
       "      <th>secondary_cleaner.state.floatbank5_a_level</th>\n",
       "      <th>secondary_cleaner.state.floatbank5_b_air</th>\n",
       "      <th>secondary_cleaner.state.floatbank5_b_level</th>\n",
       "      <th>secondary_cleaner.state.floatbank6_a_air</th>\n",
       "      <th>secondary_cleaner.state.floatbank6_a_level</th>\n",
       "    </tr>\n",
       "  </thead>\n",
       "  <tbody>\n",
       "    <tr>\n",
       "      <th>0</th>\n",
       "      <td>2016-09-01 00:59:59</td>\n",
       "      <td>210.800909</td>\n",
       "      <td>14.993118</td>\n",
       "      <td>8.080000</td>\n",
       "      <td>1.005021</td>\n",
       "      <td>1398.981301</td>\n",
       "      <td>-500.225577</td>\n",
       "      <td>1399.144926</td>\n",
       "      <td>-499.919735</td>\n",
       "      <td>1400.102998</td>\n",
       "      <td>...</td>\n",
       "      <td>12.023554</td>\n",
       "      <td>-497.795834</td>\n",
       "      <td>8.016656</td>\n",
       "      <td>-501.289139</td>\n",
       "      <td>7.946562</td>\n",
       "      <td>-432.317850</td>\n",
       "      <td>4.872511</td>\n",
       "      <td>-500.037437</td>\n",
       "      <td>26.705889</td>\n",
       "      <td>-499.709414</td>\n",
       "    </tr>\n",
       "    <tr>\n",
       "      <th>1</th>\n",
       "      <td>2016-09-01 01:59:59</td>\n",
       "      <td>215.392455</td>\n",
       "      <td>14.987471</td>\n",
       "      <td>8.080000</td>\n",
       "      <td>0.990469</td>\n",
       "      <td>1398.777912</td>\n",
       "      <td>-500.057435</td>\n",
       "      <td>1398.055362</td>\n",
       "      <td>-499.778182</td>\n",
       "      <td>1396.151033</td>\n",
       "      <td>...</td>\n",
       "      <td>12.058140</td>\n",
       "      <td>-498.695773</td>\n",
       "      <td>8.130979</td>\n",
       "      <td>-499.634209</td>\n",
       "      <td>7.958270</td>\n",
       "      <td>-525.839648</td>\n",
       "      <td>4.878850</td>\n",
       "      <td>-500.162375</td>\n",
       "      <td>25.019940</td>\n",
       "      <td>-499.819438</td>\n",
       "    </tr>\n",
       "    <tr>\n",
       "      <th>2</th>\n",
       "      <td>2016-09-01 02:59:59</td>\n",
       "      <td>215.259946</td>\n",
       "      <td>12.884934</td>\n",
       "      <td>7.786667</td>\n",
       "      <td>0.996043</td>\n",
       "      <td>1398.493666</td>\n",
       "      <td>-500.868360</td>\n",
       "      <td>1398.860436</td>\n",
       "      <td>-499.764529</td>\n",
       "      <td>1398.075709</td>\n",
       "      <td>...</td>\n",
       "      <td>11.962366</td>\n",
       "      <td>-498.767484</td>\n",
       "      <td>8.096893</td>\n",
       "      <td>-500.827423</td>\n",
       "      <td>8.071056</td>\n",
       "      <td>-500.801673</td>\n",
       "      <td>4.905125</td>\n",
       "      <td>-499.828510</td>\n",
       "      <td>24.994862</td>\n",
       "      <td>-500.622559</td>\n",
       "    </tr>\n",
       "    <tr>\n",
       "      <th>3</th>\n",
       "      <td>2016-09-01 03:59:59</td>\n",
       "      <td>215.336236</td>\n",
       "      <td>12.006805</td>\n",
       "      <td>7.640000</td>\n",
       "      <td>0.863514</td>\n",
       "      <td>1399.618111</td>\n",
       "      <td>-498.863574</td>\n",
       "      <td>1397.440120</td>\n",
       "      <td>-499.211024</td>\n",
       "      <td>1400.129303</td>\n",
       "      <td>...</td>\n",
       "      <td>12.033091</td>\n",
       "      <td>-498.350935</td>\n",
       "      <td>8.074946</td>\n",
       "      <td>-499.474407</td>\n",
       "      <td>7.897085</td>\n",
       "      <td>-500.868509</td>\n",
       "      <td>4.931400</td>\n",
       "      <td>-499.963623</td>\n",
       "      <td>24.948919</td>\n",
       "      <td>-498.709987</td>\n",
       "    </tr>\n",
       "    <tr>\n",
       "      <th>4</th>\n",
       "      <td>2016-09-01 04:59:59</td>\n",
       "      <td>199.099327</td>\n",
       "      <td>10.682530</td>\n",
       "      <td>7.530000</td>\n",
       "      <td>0.805575</td>\n",
       "      <td>1401.268123</td>\n",
       "      <td>-500.808305</td>\n",
       "      <td>1398.128818</td>\n",
       "      <td>-499.504543</td>\n",
       "      <td>1402.172226</td>\n",
       "      <td>...</td>\n",
       "      <td>12.025367</td>\n",
       "      <td>-500.786497</td>\n",
       "      <td>8.054678</td>\n",
       "      <td>-500.397500</td>\n",
       "      <td>8.107890</td>\n",
       "      <td>-509.526725</td>\n",
       "      <td>4.957674</td>\n",
       "      <td>-500.360026</td>\n",
       "      <td>25.003331</td>\n",
       "      <td>-500.856333</td>\n",
       "    </tr>\n",
       "    <tr>\n",
       "      <th>5</th>\n",
       "      <td>2016-09-01 05:59:59</td>\n",
       "      <td>168.485085</td>\n",
       "      <td>8.817007</td>\n",
       "      <td>7.420000</td>\n",
       "      <td>0.791191</td>\n",
       "      <td>1402.826803</td>\n",
       "      <td>-499.299521</td>\n",
       "      <td>1401.511119</td>\n",
       "      <td>-499.205357</td>\n",
       "      <td>1404.088107</td>\n",
       "      <td>...</td>\n",
       "      <td>12.029797</td>\n",
       "      <td>-499.814895</td>\n",
       "      <td>8.036586</td>\n",
       "      <td>-500.371492</td>\n",
       "      <td>8.041446</td>\n",
       "      <td>-510.037054</td>\n",
       "      <td>4.983949</td>\n",
       "      <td>-499.990990</td>\n",
       "      <td>24.978973</td>\n",
       "      <td>-500.475640</td>\n",
       "    </tr>\n",
       "    <tr>\n",
       "      <th>6</th>\n",
       "      <td>2016-09-01 06:59:59</td>\n",
       "      <td>144.133440</td>\n",
       "      <td>7.924610</td>\n",
       "      <td>7.420000</td>\n",
       "      <td>0.788838</td>\n",
       "      <td>1398.252401</td>\n",
       "      <td>-499.748672</td>\n",
       "      <td>1393.255503</td>\n",
       "      <td>-499.195380</td>\n",
       "      <td>1396.738566</td>\n",
       "      <td>...</td>\n",
       "      <td>12.026296</td>\n",
       "      <td>-499.473127</td>\n",
       "      <td>8.027984</td>\n",
       "      <td>-500.983079</td>\n",
       "      <td>7.907340</td>\n",
       "      <td>-507.964971</td>\n",
       "      <td>5.010224</td>\n",
       "      <td>-500.043697</td>\n",
       "      <td>25.040709</td>\n",
       "      <td>-499.501984</td>\n",
       "    </tr>\n",
       "    <tr>\n",
       "      <th>7</th>\n",
       "      <td>2016-09-01 07:59:59</td>\n",
       "      <td>133.513396</td>\n",
       "      <td>8.055252</td>\n",
       "      <td>6.988000</td>\n",
       "      <td>0.801871</td>\n",
       "      <td>1401.669677</td>\n",
       "      <td>-501.777839</td>\n",
       "      <td>1400.754446</td>\n",
       "      <td>-502.514024</td>\n",
       "      <td>1400.465244</td>\n",
       "      <td>...</td>\n",
       "      <td>12.040911</td>\n",
       "      <td>-501.293852</td>\n",
       "      <td>8.020490</td>\n",
       "      <td>-499.185229</td>\n",
       "      <td>8.116897</td>\n",
       "      <td>-511.927561</td>\n",
       "      <td>5.036498</td>\n",
       "      <td>-500.149615</td>\n",
       "      <td>25.032580</td>\n",
       "      <td>-503.970657</td>\n",
       "    </tr>\n",
       "    <tr>\n",
       "      <th>8</th>\n",
       "      <td>2016-09-01 08:59:59</td>\n",
       "      <td>133.735356</td>\n",
       "      <td>7.999618</td>\n",
       "      <td>6.935000</td>\n",
       "      <td>0.789329</td>\n",
       "      <td>1402.358981</td>\n",
       "      <td>-499.981597</td>\n",
       "      <td>1400.985954</td>\n",
       "      <td>-496.802968</td>\n",
       "      <td>1401.168584</td>\n",
       "      <td>...</td>\n",
       "      <td>11.998184</td>\n",
       "      <td>-499.481608</td>\n",
       "      <td>8.012610</td>\n",
       "      <td>-500.896783</td>\n",
       "      <td>7.974422</td>\n",
       "      <td>-521.199104</td>\n",
       "      <td>5.061599</td>\n",
       "      <td>-499.791519</td>\n",
       "      <td>25.005063</td>\n",
       "      <td>-497.613716</td>\n",
       "    </tr>\n",
       "    <tr>\n",
       "      <th>9</th>\n",
       "      <td>2016-09-01 09:59:59</td>\n",
       "      <td>126.961069</td>\n",
       "      <td>8.017856</td>\n",
       "      <td>7.030000</td>\n",
       "      <td>0.805298</td>\n",
       "      <td>1400.816120</td>\n",
       "      <td>-499.014158</td>\n",
       "      <td>1399.975401</td>\n",
       "      <td>-499.570552</td>\n",
       "      <td>1401.871924</td>\n",
       "      <td>...</td>\n",
       "      <td>12.040725</td>\n",
       "      <td>-499.987743</td>\n",
       "      <td>7.989503</td>\n",
       "      <td>-499.750625</td>\n",
       "      <td>7.989710</td>\n",
       "      <td>-509.946737</td>\n",
       "      <td>5.068811</td>\n",
       "      <td>-499.293900</td>\n",
       "      <td>24.992741</td>\n",
       "      <td>-499.272255</td>\n",
       "    </tr>\n",
       "  </tbody>\n",
       "</table>\n",
       "<p>10 rows × 53 columns</p>\n",
       "</div>"
      ],
      "text/plain": [
       "                  date  primary_cleaner.input.sulfate  \\\n",
       "0  2016-09-01 00:59:59                     210.800909   \n",
       "1  2016-09-01 01:59:59                     215.392455   \n",
       "2  2016-09-01 02:59:59                     215.259946   \n",
       "3  2016-09-01 03:59:59                     215.336236   \n",
       "4  2016-09-01 04:59:59                     199.099327   \n",
       "5  2016-09-01 05:59:59                     168.485085   \n",
       "6  2016-09-01 06:59:59                     144.133440   \n",
       "7  2016-09-01 07:59:59                     133.513396   \n",
       "8  2016-09-01 08:59:59                     133.735356   \n",
       "9  2016-09-01 09:59:59                     126.961069   \n",
       "\n",
       "   primary_cleaner.input.depressant  primary_cleaner.input.feed_size  \\\n",
       "0                         14.993118                         8.080000   \n",
       "1                         14.987471                         8.080000   \n",
       "2                         12.884934                         7.786667   \n",
       "3                         12.006805                         7.640000   \n",
       "4                         10.682530                         7.530000   \n",
       "5                          8.817007                         7.420000   \n",
       "6                          7.924610                         7.420000   \n",
       "7                          8.055252                         6.988000   \n",
       "8                          7.999618                         6.935000   \n",
       "9                          8.017856                         7.030000   \n",
       "\n",
       "   primary_cleaner.input.xanthate  primary_cleaner.state.floatbank8_a_air  \\\n",
       "0                        1.005021                             1398.981301   \n",
       "1                        0.990469                             1398.777912   \n",
       "2                        0.996043                             1398.493666   \n",
       "3                        0.863514                             1399.618111   \n",
       "4                        0.805575                             1401.268123   \n",
       "5                        0.791191                             1402.826803   \n",
       "6                        0.788838                             1398.252401   \n",
       "7                        0.801871                             1401.669677   \n",
       "8                        0.789329                             1402.358981   \n",
       "9                        0.805298                             1400.816120   \n",
       "\n",
       "   primary_cleaner.state.floatbank8_a_level  \\\n",
       "0                               -500.225577   \n",
       "1                               -500.057435   \n",
       "2                               -500.868360   \n",
       "3                               -498.863574   \n",
       "4                               -500.808305   \n",
       "5                               -499.299521   \n",
       "6                               -499.748672   \n",
       "7                               -501.777839   \n",
       "8                               -499.981597   \n",
       "9                               -499.014158   \n",
       "\n",
       "   primary_cleaner.state.floatbank8_b_air  \\\n",
       "0                             1399.144926   \n",
       "1                             1398.055362   \n",
       "2                             1398.860436   \n",
       "3                             1397.440120   \n",
       "4                             1398.128818   \n",
       "5                             1401.511119   \n",
       "6                             1393.255503   \n",
       "7                             1400.754446   \n",
       "8                             1400.985954   \n",
       "9                             1399.975401   \n",
       "\n",
       "   primary_cleaner.state.floatbank8_b_level  \\\n",
       "0                               -499.919735   \n",
       "1                               -499.778182   \n",
       "2                               -499.764529   \n",
       "3                               -499.211024   \n",
       "4                               -499.504543   \n",
       "5                               -499.205357   \n",
       "6                               -499.195380   \n",
       "7                               -502.514024   \n",
       "8                               -496.802968   \n",
       "9                               -499.570552   \n",
       "\n",
       "   primary_cleaner.state.floatbank8_c_air  ...  \\\n",
       "0                             1400.102998  ...   \n",
       "1                             1396.151033  ...   \n",
       "2                             1398.075709  ...   \n",
       "3                             1400.129303  ...   \n",
       "4                             1402.172226  ...   \n",
       "5                             1404.088107  ...   \n",
       "6                             1396.738566  ...   \n",
       "7                             1400.465244  ...   \n",
       "8                             1401.168584  ...   \n",
       "9                             1401.871924  ...   \n",
       "\n",
       "   secondary_cleaner.state.floatbank4_a_air  \\\n",
       "0                                 12.023554   \n",
       "1                                 12.058140   \n",
       "2                                 11.962366   \n",
       "3                                 12.033091   \n",
       "4                                 12.025367   \n",
       "5                                 12.029797   \n",
       "6                                 12.026296   \n",
       "7                                 12.040911   \n",
       "8                                 11.998184   \n",
       "9                                 12.040725   \n",
       "\n",
       "   secondary_cleaner.state.floatbank4_a_level  \\\n",
       "0                                 -497.795834   \n",
       "1                                 -498.695773   \n",
       "2                                 -498.767484   \n",
       "3                                 -498.350935   \n",
       "4                                 -500.786497   \n",
       "5                                 -499.814895   \n",
       "6                                 -499.473127   \n",
       "7                                 -501.293852   \n",
       "8                                 -499.481608   \n",
       "9                                 -499.987743   \n",
       "\n",
       "   secondary_cleaner.state.floatbank4_b_air  \\\n",
       "0                                  8.016656   \n",
       "1                                  8.130979   \n",
       "2                                  8.096893   \n",
       "3                                  8.074946   \n",
       "4                                  8.054678   \n",
       "5                                  8.036586   \n",
       "6                                  8.027984   \n",
       "7                                  8.020490   \n",
       "8                                  8.012610   \n",
       "9                                  7.989503   \n",
       "\n",
       "   secondary_cleaner.state.floatbank4_b_level  \\\n",
       "0                                 -501.289139   \n",
       "1                                 -499.634209   \n",
       "2                                 -500.827423   \n",
       "3                                 -499.474407   \n",
       "4                                 -500.397500   \n",
       "5                                 -500.371492   \n",
       "6                                 -500.983079   \n",
       "7                                 -499.185229   \n",
       "8                                 -500.896783   \n",
       "9                                 -499.750625   \n",
       "\n",
       "   secondary_cleaner.state.floatbank5_a_air  \\\n",
       "0                                  7.946562   \n",
       "1                                  7.958270   \n",
       "2                                  8.071056   \n",
       "3                                  7.897085   \n",
       "4                                  8.107890   \n",
       "5                                  8.041446   \n",
       "6                                  7.907340   \n",
       "7                                  8.116897   \n",
       "8                                  7.974422   \n",
       "9                                  7.989710   \n",
       "\n",
       "   secondary_cleaner.state.floatbank5_a_level  \\\n",
       "0                                 -432.317850   \n",
       "1                                 -525.839648   \n",
       "2                                 -500.801673   \n",
       "3                                 -500.868509   \n",
       "4                                 -509.526725   \n",
       "5                                 -510.037054   \n",
       "6                                 -507.964971   \n",
       "7                                 -511.927561   \n",
       "8                                 -521.199104   \n",
       "9                                 -509.946737   \n",
       "\n",
       "   secondary_cleaner.state.floatbank5_b_air  \\\n",
       "0                                  4.872511   \n",
       "1                                  4.878850   \n",
       "2                                  4.905125   \n",
       "3                                  4.931400   \n",
       "4                                  4.957674   \n",
       "5                                  4.983949   \n",
       "6                                  5.010224   \n",
       "7                                  5.036498   \n",
       "8                                  5.061599   \n",
       "9                                  5.068811   \n",
       "\n",
       "   secondary_cleaner.state.floatbank5_b_level  \\\n",
       "0                                 -500.037437   \n",
       "1                                 -500.162375   \n",
       "2                                 -499.828510   \n",
       "3                                 -499.963623   \n",
       "4                                 -500.360026   \n",
       "5                                 -499.990990   \n",
       "6                                 -500.043697   \n",
       "7                                 -500.149615   \n",
       "8                                 -499.791519   \n",
       "9                                 -499.293900   \n",
       "\n",
       "   secondary_cleaner.state.floatbank6_a_air  \\\n",
       "0                                 26.705889   \n",
       "1                                 25.019940   \n",
       "2                                 24.994862   \n",
       "3                                 24.948919   \n",
       "4                                 25.003331   \n",
       "5                                 24.978973   \n",
       "6                                 25.040709   \n",
       "7                                 25.032580   \n",
       "8                                 25.005063   \n",
       "9                                 24.992741   \n",
       "\n",
       "   secondary_cleaner.state.floatbank6_a_level  \n",
       "0                                 -499.709414  \n",
       "1                                 -499.819438  \n",
       "2                                 -500.622559  \n",
       "3                                 -498.709987  \n",
       "4                                 -500.856333  \n",
       "5                                 -500.475640  \n",
       "6                                 -499.501984  \n",
       "7                                 -503.970657  \n",
       "8                                 -497.613716  \n",
       "9                                 -499.272255  \n",
       "\n",
       "[10 rows x 53 columns]"
      ]
     },
     "metadata": {},
     "output_type": "display_data"
    }
   ],
   "source": [
    "df_test=pd.read_csv('/datasets/gold_recovery_test_new.csv')\n",
    "df_test.info()\n",
    "display(df_test.head(10))"
   ]
  },
  {
   "cell_type": "code",
   "execution_count": 6,
   "id": "9ec76d42",
   "metadata": {
    "scrolled": true
   },
   "outputs": [
    {
     "name": "stdout",
     "output_type": "stream",
     "text": [
      "Доля пропусков в столбце ,%:\n",
      "date                                          0.000000\n",
      "primary_cleaner.input.sulfate                 0.075614\n",
      "primary_cleaner.input.depressant              0.094518\n",
      "primary_cleaner.input.feed_size               0.000000\n",
      "primary_cleaner.input.xanthate                0.075614\n",
      "primary_cleaner.state.floatbank8_a_air        0.000000\n",
      "primary_cleaner.state.floatbank8_a_level      0.000000\n",
      "primary_cleaner.state.floatbank8_b_air        0.000000\n",
      "primary_cleaner.state.floatbank8_b_level      0.000000\n",
      "primary_cleaner.state.floatbank8_c_air        0.000000\n",
      "primary_cleaner.state.floatbank8_c_level      0.000000\n",
      "primary_cleaner.state.floatbank8_d_air        0.000000\n",
      "primary_cleaner.state.floatbank8_d_level      0.000000\n",
      "rougher.input.feed_ag                         0.000000\n",
      "rougher.input.feed_pb                         0.000000\n",
      "rougher.input.feed_rate                       0.056711\n",
      "rougher.input.feed_size                       0.018904\n",
      "rougher.input.feed_sol                        0.396975\n",
      "rougher.input.feed_au                         0.000000\n",
      "rougher.input.floatbank10_sulfate             0.094518\n",
      "rougher.input.floatbank10_xanthate            0.000000\n",
      "rougher.input.floatbank11_sulfate             0.151229\n",
      "rougher.input.floatbank11_xanthate            0.472590\n",
      "rougher.state.floatbank10_a_air               0.000000\n",
      "rougher.state.floatbank10_a_level             0.000000\n",
      "rougher.state.floatbank10_b_air               0.000000\n",
      "rougher.state.floatbank10_b_level             0.000000\n",
      "rougher.state.floatbank10_c_air               0.000000\n",
      "rougher.state.floatbank10_c_level             0.000000\n",
      "rougher.state.floatbank10_d_air               0.000000\n",
      "rougher.state.floatbank10_d_level             0.000000\n",
      "rougher.state.floatbank10_e_air               0.000000\n",
      "rougher.state.floatbank10_e_level             0.000000\n",
      "rougher.state.floatbank10_f_air               0.000000\n",
      "rougher.state.floatbank10_f_level             0.000000\n",
      "secondary_cleaner.state.floatbank2_a_air      0.056711\n",
      "secondary_cleaner.state.floatbank2_a_level    0.000000\n",
      "secondary_cleaner.state.floatbank2_b_air      0.037807\n",
      "secondary_cleaner.state.floatbank2_b_level    0.000000\n",
      "secondary_cleaner.state.floatbank3_a_air      0.170132\n",
      "secondary_cleaner.state.floatbank3_a_level    0.000000\n",
      "secondary_cleaner.state.floatbank3_b_air      0.000000\n",
      "secondary_cleaner.state.floatbank3_b_level    0.000000\n",
      "secondary_cleaner.state.floatbank4_a_air      0.000000\n",
      "secondary_cleaner.state.floatbank4_a_level    0.000000\n",
      "secondary_cleaner.state.floatbank4_b_air      0.000000\n",
      "secondary_cleaner.state.floatbank4_b_level    0.000000\n",
      "secondary_cleaner.state.floatbank5_a_air      0.000000\n",
      "secondary_cleaner.state.floatbank5_a_level    0.000000\n",
      "secondary_cleaner.state.floatbank5_b_air      0.000000\n",
      "secondary_cleaner.state.floatbank5_b_level    0.000000\n",
      "secondary_cleaner.state.floatbank6_a_air      0.000000\n",
      "secondary_cleaner.state.floatbank6_a_level    0.000000\n",
      "dtype: float64\n",
      "Дубликатов =  0\n"
     ]
    }
   ],
   "source": [
    "print('Доля пропусков в столбце ,%:') \n",
    "rezul=df_test.isna().mean() * 100\n",
    "print(rezul)\n",
    "print('Дубликатов = ',df_test.duplicated().sum()) \n",
    "df_test = df_test.fillna(0)"
   ]
  },
  {
   "cell_type": "markdown",
   "id": "07fe2a85",
   "metadata": {},
   "source": [
    "### Загрузка данных gold_recovery_full_new."
   ]
  },
  {
   "cell_type": "code",
   "execution_count": 7,
   "id": "de879d85",
   "metadata": {},
   "outputs": [
    {
     "name": "stdout",
     "output_type": "stream",
     "text": [
      "<class 'pandas.core.frame.DataFrame'>\n",
      "RangeIndex: 19439 entries, 0 to 19438\n",
      "Data columns (total 87 columns):\n",
      " #   Column                                              Non-Null Count  Dtype  \n",
      "---  ------                                              --------------  -----  \n",
      " 0   date                                                19439 non-null  object \n",
      " 1   final.output.concentrate_ag                         19438 non-null  float64\n",
      " 2   final.output.concentrate_pb                         19438 non-null  float64\n",
      " 3   final.output.concentrate_sol                        19228 non-null  float64\n",
      " 4   final.output.concentrate_au                         19439 non-null  float64\n",
      " 5   final.output.recovery                               19439 non-null  float64\n",
      " 6   final.output.tail_ag                                19438 non-null  float64\n",
      " 7   final.output.tail_pb                                19338 non-null  float64\n",
      " 8   final.output.tail_sol                               19433 non-null  float64\n",
      " 9   final.output.tail_au                                19439 non-null  float64\n",
      " 10  primary_cleaner.input.sulfate                       19415 non-null  float64\n",
      " 11  primary_cleaner.input.depressant                    19402 non-null  float64\n",
      " 12  primary_cleaner.input.feed_size                     19439 non-null  float64\n",
      " 13  primary_cleaner.input.xanthate                      19335 non-null  float64\n",
      " 14  primary_cleaner.output.concentrate_ag               19439 non-null  float64\n",
      " 15  primary_cleaner.output.concentrate_pb               19323 non-null  float64\n",
      " 16  primary_cleaner.output.concentrate_sol              19069 non-null  float64\n",
      " 17  primary_cleaner.output.concentrate_au               19439 non-null  float64\n",
      " 18  primary_cleaner.output.tail_ag                      19435 non-null  float64\n",
      " 19  primary_cleaner.output.tail_pb                      19418 non-null  float64\n",
      " 20  primary_cleaner.output.tail_sol                     19377 non-null  float64\n",
      " 21  primary_cleaner.output.tail_au                      19439 non-null  float64\n",
      " 22  primary_cleaner.state.floatbank8_a_air              19435 non-null  float64\n",
      " 23  primary_cleaner.state.floatbank8_a_level            19438 non-null  float64\n",
      " 24  primary_cleaner.state.floatbank8_b_air              19435 non-null  float64\n",
      " 25  primary_cleaner.state.floatbank8_b_level            19438 non-null  float64\n",
      " 26  primary_cleaner.state.floatbank8_c_air              19437 non-null  float64\n",
      " 27  primary_cleaner.state.floatbank8_c_level            19438 non-null  float64\n",
      " 28  primary_cleaner.state.floatbank8_d_air              19436 non-null  float64\n",
      " 29  primary_cleaner.state.floatbank8_d_level            19438 non-null  float64\n",
      " 30  rougher.calculation.sulfate_to_au_concentrate       19437 non-null  float64\n",
      " 31  rougher.calculation.floatbank10_sulfate_to_au_feed  19437 non-null  float64\n",
      " 32  rougher.calculation.floatbank11_sulfate_to_au_feed  19437 non-null  float64\n",
      " 33  rougher.calculation.au_pb_ratio                     19439 non-null  float64\n",
      " 34  rougher.input.feed_ag                               19439 non-null  float64\n",
      " 35  rougher.input.feed_pb                               19339 non-null  float64\n",
      " 36  rougher.input.feed_rate                             19428 non-null  float64\n",
      " 37  rougher.input.feed_size                             19294 non-null  float64\n",
      " 38  rougher.input.feed_sol                              19340 non-null  float64\n",
      " 39  rougher.input.feed_au                               19439 non-null  float64\n",
      " 40  rougher.input.floatbank10_sulfate                   19405 non-null  float64\n",
      " 41  rougher.input.floatbank10_xanthate                  19431 non-null  float64\n",
      " 42  rougher.input.floatbank11_sulfate                   19395 non-null  float64\n",
      " 43  rougher.input.floatbank11_xanthate                  18986 non-null  float64\n",
      " 44  rougher.output.concentrate_ag                       19439 non-null  float64\n",
      " 45  rougher.output.concentrate_pb                       19439 non-null  float64\n",
      " 46  rougher.output.concentrate_sol                      19416 non-null  float64\n",
      " 47  rougher.output.concentrate_au                       19439 non-null  float64\n",
      " 48  rougher.output.recovery                             19439 non-null  float64\n",
      " 49  rougher.output.tail_ag                              19438 non-null  float64\n",
      " 50  rougher.output.tail_pb                              19439 non-null  float64\n",
      " 51  rougher.output.tail_sol                             19439 non-null  float64\n",
      " 52  rougher.output.tail_au                              19439 non-null  float64\n",
      " 53  rougher.state.floatbank10_a_air                     19438 non-null  float64\n",
      " 54  rougher.state.floatbank10_a_level                   19438 non-null  float64\n",
      " 55  rougher.state.floatbank10_b_air                     19438 non-null  float64\n",
      " 56  rougher.state.floatbank10_b_level                   19438 non-null  float64\n",
      " 57  rougher.state.floatbank10_c_air                     19438 non-null  float64\n",
      " 58  rougher.state.floatbank10_c_level                   19438 non-null  float64\n",
      " 59  rougher.state.floatbank10_d_air                     19439 non-null  float64\n",
      " 60  rougher.state.floatbank10_d_level                   19439 non-null  float64\n",
      " 61  rougher.state.floatbank10_e_air                     19003 non-null  float64\n",
      " 62  rougher.state.floatbank10_e_level                   19439 non-null  float64\n",
      " 63  rougher.state.floatbank10_f_air                     19439 non-null  float64\n",
      " 64  rougher.state.floatbank10_f_level                   19439 non-null  float64\n",
      " 65  secondary_cleaner.output.tail_ag                    19437 non-null  float64\n",
      " 66  secondary_cleaner.output.tail_pb                    19427 non-null  float64\n",
      " 67  secondary_cleaner.output.tail_sol                   17691 non-null  float64\n",
      " 68  secondary_cleaner.output.tail_au                    19439 non-null  float64\n",
      " 69  secondary_cleaner.state.floatbank2_a_air            19219 non-null  float64\n",
      " 70  secondary_cleaner.state.floatbank2_a_level          19438 non-null  float64\n",
      " 71  secondary_cleaner.state.floatbank2_b_air            19416 non-null  float64\n",
      " 72  secondary_cleaner.state.floatbank2_b_level          19438 non-null  float64\n",
      " 73  secondary_cleaner.state.floatbank3_a_air            19426 non-null  float64\n",
      " 74  secondary_cleaner.state.floatbank3_a_level          19438 non-null  float64\n",
      " 75  secondary_cleaner.state.floatbank3_b_air            19438 non-null  float64\n",
      " 76  secondary_cleaner.state.floatbank3_b_level          19438 non-null  float64\n",
      " 77  secondary_cleaner.state.floatbank4_a_air            19433 non-null  float64\n",
      " 78  secondary_cleaner.state.floatbank4_a_level          19438 non-null  float64\n",
      " 79  secondary_cleaner.state.floatbank4_b_air            19438 non-null  float64\n",
      " 80  secondary_cleaner.state.floatbank4_b_level          19438 non-null  float64\n",
      " 81  secondary_cleaner.state.floatbank5_a_air            19438 non-null  float64\n",
      " 82  secondary_cleaner.state.floatbank5_a_level          19438 non-null  float64\n",
      " 83  secondary_cleaner.state.floatbank5_b_air            19438 non-null  float64\n",
      " 84  secondary_cleaner.state.floatbank5_b_level          19438 non-null  float64\n",
      " 85  secondary_cleaner.state.floatbank6_a_air            19437 non-null  float64\n",
      " 86  secondary_cleaner.state.floatbank6_a_level          19438 non-null  float64\n",
      "dtypes: float64(86), object(1)\n",
      "memory usage: 12.9+ MB\n"
     ]
    },
    {
     "data": {
      "text/html": [
       "<div>\n",
       "<style scoped>\n",
       "    .dataframe tbody tr th:only-of-type {\n",
       "        vertical-align: middle;\n",
       "    }\n",
       "\n",
       "    .dataframe tbody tr th {\n",
       "        vertical-align: top;\n",
       "    }\n",
       "\n",
       "    .dataframe thead th {\n",
       "        text-align: right;\n",
       "    }\n",
       "</style>\n",
       "<table border=\"1\" class=\"dataframe\">\n",
       "  <thead>\n",
       "    <tr style=\"text-align: right;\">\n",
       "      <th></th>\n",
       "      <th>date</th>\n",
       "      <th>final.output.concentrate_ag</th>\n",
       "      <th>final.output.concentrate_pb</th>\n",
       "      <th>final.output.concentrate_sol</th>\n",
       "      <th>final.output.concentrate_au</th>\n",
       "      <th>final.output.recovery</th>\n",
       "      <th>final.output.tail_ag</th>\n",
       "      <th>final.output.tail_pb</th>\n",
       "      <th>final.output.tail_sol</th>\n",
       "      <th>final.output.tail_au</th>\n",
       "      <th>...</th>\n",
       "      <th>secondary_cleaner.state.floatbank4_a_air</th>\n",
       "      <th>secondary_cleaner.state.floatbank4_a_level</th>\n",
       "      <th>secondary_cleaner.state.floatbank4_b_air</th>\n",
       "      <th>secondary_cleaner.state.floatbank4_b_level</th>\n",
       "      <th>secondary_cleaner.state.floatbank5_a_air</th>\n",
       "      <th>secondary_cleaner.state.floatbank5_a_level</th>\n",
       "      <th>secondary_cleaner.state.floatbank5_b_air</th>\n",
       "      <th>secondary_cleaner.state.floatbank5_b_level</th>\n",
       "      <th>secondary_cleaner.state.floatbank6_a_air</th>\n",
       "      <th>secondary_cleaner.state.floatbank6_a_level</th>\n",
       "    </tr>\n",
       "  </thead>\n",
       "  <tbody>\n",
       "    <tr>\n",
       "      <th>0</th>\n",
       "      <td>2016-01-15 00:00:00</td>\n",
       "      <td>6.055403</td>\n",
       "      <td>9.889648</td>\n",
       "      <td>5.507324</td>\n",
       "      <td>42.192020</td>\n",
       "      <td>70.541216</td>\n",
       "      <td>10.411962</td>\n",
       "      <td>0.895447</td>\n",
       "      <td>16.904297</td>\n",
       "      <td>2.143149</td>\n",
       "      <td>...</td>\n",
       "      <td>14.016835</td>\n",
       "      <td>-502.488007</td>\n",
       "      <td>12.099931</td>\n",
       "      <td>-504.715942</td>\n",
       "      <td>9.925633</td>\n",
       "      <td>-498.310211</td>\n",
       "      <td>8.079666</td>\n",
       "      <td>-500.470978</td>\n",
       "      <td>14.151341</td>\n",
       "      <td>-605.841980</td>\n",
       "    </tr>\n",
       "    <tr>\n",
       "      <th>1</th>\n",
       "      <td>2016-01-15 01:00:00</td>\n",
       "      <td>6.029369</td>\n",
       "      <td>9.968944</td>\n",
       "      <td>5.257781</td>\n",
       "      <td>42.701629</td>\n",
       "      <td>69.266198</td>\n",
       "      <td>10.462676</td>\n",
       "      <td>0.927452</td>\n",
       "      <td>16.634514</td>\n",
       "      <td>2.224930</td>\n",
       "      <td>...</td>\n",
       "      <td>13.992281</td>\n",
       "      <td>-505.503262</td>\n",
       "      <td>11.950531</td>\n",
       "      <td>-501.331529</td>\n",
       "      <td>10.039245</td>\n",
       "      <td>-500.169983</td>\n",
       "      <td>7.984757</td>\n",
       "      <td>-500.582168</td>\n",
       "      <td>13.998353</td>\n",
       "      <td>-599.787184</td>\n",
       "    </tr>\n",
       "    <tr>\n",
       "      <th>2</th>\n",
       "      <td>2016-01-15 02:00:00</td>\n",
       "      <td>6.055926</td>\n",
       "      <td>10.213995</td>\n",
       "      <td>5.383759</td>\n",
       "      <td>42.657501</td>\n",
       "      <td>68.116445</td>\n",
       "      <td>10.507046</td>\n",
       "      <td>0.953716</td>\n",
       "      <td>16.208849</td>\n",
       "      <td>2.257889</td>\n",
       "      <td>...</td>\n",
       "      <td>14.015015</td>\n",
       "      <td>-502.520901</td>\n",
       "      <td>11.912783</td>\n",
       "      <td>-501.133383</td>\n",
       "      <td>10.070913</td>\n",
       "      <td>-500.129135</td>\n",
       "      <td>8.013877</td>\n",
       "      <td>-500.517572</td>\n",
       "      <td>14.028663</td>\n",
       "      <td>-601.427363</td>\n",
       "    </tr>\n",
       "    <tr>\n",
       "      <th>3</th>\n",
       "      <td>2016-01-15 03:00:00</td>\n",
       "      <td>6.047977</td>\n",
       "      <td>9.977019</td>\n",
       "      <td>4.858634</td>\n",
       "      <td>42.689819</td>\n",
       "      <td>68.347543</td>\n",
       "      <td>10.422762</td>\n",
       "      <td>0.883763</td>\n",
       "      <td>16.532835</td>\n",
       "      <td>2.146849</td>\n",
       "      <td>...</td>\n",
       "      <td>14.036510</td>\n",
       "      <td>-500.857308</td>\n",
       "      <td>11.999550</td>\n",
       "      <td>-501.193686</td>\n",
       "      <td>9.970366</td>\n",
       "      <td>-499.201640</td>\n",
       "      <td>7.977324</td>\n",
       "      <td>-500.255908</td>\n",
       "      <td>14.005551</td>\n",
       "      <td>-599.996129</td>\n",
       "    </tr>\n",
       "    <tr>\n",
       "      <th>4</th>\n",
       "      <td>2016-01-15 04:00:00</td>\n",
       "      <td>6.148599</td>\n",
       "      <td>10.142511</td>\n",
       "      <td>4.939416</td>\n",
       "      <td>42.774141</td>\n",
       "      <td>66.927016</td>\n",
       "      <td>10.360302</td>\n",
       "      <td>0.792826</td>\n",
       "      <td>16.525686</td>\n",
       "      <td>2.055292</td>\n",
       "      <td>...</td>\n",
       "      <td>14.027298</td>\n",
       "      <td>-499.838632</td>\n",
       "      <td>11.953070</td>\n",
       "      <td>-501.053894</td>\n",
       "      <td>9.925709</td>\n",
       "      <td>-501.686727</td>\n",
       "      <td>7.894242</td>\n",
       "      <td>-500.356035</td>\n",
       "      <td>13.996647</td>\n",
       "      <td>-601.496691</td>\n",
       "    </tr>\n",
       "    <tr>\n",
       "      <th>5</th>\n",
       "      <td>2016-01-15 05:00:00</td>\n",
       "      <td>6.482968</td>\n",
       "      <td>10.049416</td>\n",
       "      <td>5.480257</td>\n",
       "      <td>41.633678</td>\n",
       "      <td>69.465816</td>\n",
       "      <td>10.182708</td>\n",
       "      <td>0.664118</td>\n",
       "      <td>16.999638</td>\n",
       "      <td>1.918586</td>\n",
       "      <td>...</td>\n",
       "      <td>13.938497</td>\n",
       "      <td>-500.970168</td>\n",
       "      <td>11.883350</td>\n",
       "      <td>-500.395298</td>\n",
       "      <td>10.054147</td>\n",
       "      <td>-496.374715</td>\n",
       "      <td>7.965083</td>\n",
       "      <td>-499.364752</td>\n",
       "      <td>14.017067</td>\n",
       "      <td>-599.707915</td>\n",
       "    </tr>\n",
       "    <tr>\n",
       "      <th>6</th>\n",
       "      <td>2016-01-15 06:00:00</td>\n",
       "      <td>6.533849</td>\n",
       "      <td>10.058141</td>\n",
       "      <td>4.569100</td>\n",
       "      <td>41.995316</td>\n",
       "      <td>69.300835</td>\n",
       "      <td>10.304598</td>\n",
       "      <td>0.807342</td>\n",
       "      <td>16.723575</td>\n",
       "      <td>2.058913</td>\n",
       "      <td>...</td>\n",
       "      <td>14.046819</td>\n",
       "      <td>-500.971133</td>\n",
       "      <td>12.091543</td>\n",
       "      <td>-500.501426</td>\n",
       "      <td>10.003247</td>\n",
       "      <td>-497.083180</td>\n",
       "      <td>8.010890</td>\n",
       "      <td>-500.002423</td>\n",
       "      <td>14.029649</td>\n",
       "      <td>-600.905470</td>\n",
       "    </tr>\n",
       "    <tr>\n",
       "      <th>7</th>\n",
       "      <td>2016-01-15 07:00:00</td>\n",
       "      <td>6.130823</td>\n",
       "      <td>9.935481</td>\n",
       "      <td>4.389813</td>\n",
       "      <td>42.452727</td>\n",
       "      <td>70.230976</td>\n",
       "      <td>10.443288</td>\n",
       "      <td>0.949346</td>\n",
       "      <td>16.689959</td>\n",
       "      <td>2.143437</td>\n",
       "      <td>...</td>\n",
       "      <td>13.974691</td>\n",
       "      <td>-501.819696</td>\n",
       "      <td>12.101324</td>\n",
       "      <td>-500.583446</td>\n",
       "      <td>9.873169</td>\n",
       "      <td>-499.171928</td>\n",
       "      <td>7.993381</td>\n",
       "      <td>-499.794518</td>\n",
       "      <td>13.984498</td>\n",
       "      <td>-600.411070</td>\n",
       "    </tr>\n",
       "    <tr>\n",
       "      <th>8</th>\n",
       "      <td>2016-01-15 08:00:00</td>\n",
       "      <td>5.834140</td>\n",
       "      <td>10.071156</td>\n",
       "      <td>4.876389</td>\n",
       "      <td>43.404078</td>\n",
       "      <td>69.688595</td>\n",
       "      <td>10.420140</td>\n",
       "      <td>1.065453</td>\n",
       "      <td>17.201948</td>\n",
       "      <td>2.209881</td>\n",
       "      <td>...</td>\n",
       "      <td>13.964030</td>\n",
       "      <td>-504.252450</td>\n",
       "      <td>12.060738</td>\n",
       "      <td>-501.174549</td>\n",
       "      <td>10.033838</td>\n",
       "      <td>-501.178133</td>\n",
       "      <td>7.881604</td>\n",
       "      <td>-499.729434</td>\n",
       "      <td>13.967135</td>\n",
       "      <td>-599.061188</td>\n",
       "    </tr>\n",
       "    <tr>\n",
       "      <th>9</th>\n",
       "      <td>2016-01-15 09:00:00</td>\n",
       "      <td>5.687063</td>\n",
       "      <td>9.980404</td>\n",
       "      <td>5.282514</td>\n",
       "      <td>43.235220</td>\n",
       "      <td>70.279619</td>\n",
       "      <td>10.487013</td>\n",
       "      <td>1.159805</td>\n",
       "      <td>17.483979</td>\n",
       "      <td>2.209593</td>\n",
       "      <td>...</td>\n",
       "      <td>13.989632</td>\n",
       "      <td>-503.195299</td>\n",
       "      <td>12.052233</td>\n",
       "      <td>-500.928547</td>\n",
       "      <td>9.962574</td>\n",
       "      <td>-502.986357</td>\n",
       "      <td>7.979219</td>\n",
       "      <td>-500.146835</td>\n",
       "      <td>13.981614</td>\n",
       "      <td>-598.070855</td>\n",
       "    </tr>\n",
       "  </tbody>\n",
       "</table>\n",
       "<p>10 rows × 87 columns</p>\n",
       "</div>"
      ],
      "text/plain": [
       "                  date  final.output.concentrate_ag  \\\n",
       "0  2016-01-15 00:00:00                     6.055403   \n",
       "1  2016-01-15 01:00:00                     6.029369   \n",
       "2  2016-01-15 02:00:00                     6.055926   \n",
       "3  2016-01-15 03:00:00                     6.047977   \n",
       "4  2016-01-15 04:00:00                     6.148599   \n",
       "5  2016-01-15 05:00:00                     6.482968   \n",
       "6  2016-01-15 06:00:00                     6.533849   \n",
       "7  2016-01-15 07:00:00                     6.130823   \n",
       "8  2016-01-15 08:00:00                     5.834140   \n",
       "9  2016-01-15 09:00:00                     5.687063   \n",
       "\n",
       "   final.output.concentrate_pb  final.output.concentrate_sol  \\\n",
       "0                     9.889648                      5.507324   \n",
       "1                     9.968944                      5.257781   \n",
       "2                    10.213995                      5.383759   \n",
       "3                     9.977019                      4.858634   \n",
       "4                    10.142511                      4.939416   \n",
       "5                    10.049416                      5.480257   \n",
       "6                    10.058141                      4.569100   \n",
       "7                     9.935481                      4.389813   \n",
       "8                    10.071156                      4.876389   \n",
       "9                     9.980404                      5.282514   \n",
       "\n",
       "   final.output.concentrate_au  final.output.recovery  final.output.tail_ag  \\\n",
       "0                    42.192020              70.541216             10.411962   \n",
       "1                    42.701629              69.266198             10.462676   \n",
       "2                    42.657501              68.116445             10.507046   \n",
       "3                    42.689819              68.347543             10.422762   \n",
       "4                    42.774141              66.927016             10.360302   \n",
       "5                    41.633678              69.465816             10.182708   \n",
       "6                    41.995316              69.300835             10.304598   \n",
       "7                    42.452727              70.230976             10.443288   \n",
       "8                    43.404078              69.688595             10.420140   \n",
       "9                    43.235220              70.279619             10.487013   \n",
       "\n",
       "   final.output.tail_pb  final.output.tail_sol  final.output.tail_au  ...  \\\n",
       "0              0.895447              16.904297              2.143149  ...   \n",
       "1              0.927452              16.634514              2.224930  ...   \n",
       "2              0.953716              16.208849              2.257889  ...   \n",
       "3              0.883763              16.532835              2.146849  ...   \n",
       "4              0.792826              16.525686              2.055292  ...   \n",
       "5              0.664118              16.999638              1.918586  ...   \n",
       "6              0.807342              16.723575              2.058913  ...   \n",
       "7              0.949346              16.689959              2.143437  ...   \n",
       "8              1.065453              17.201948              2.209881  ...   \n",
       "9              1.159805              17.483979              2.209593  ...   \n",
       "\n",
       "   secondary_cleaner.state.floatbank4_a_air  \\\n",
       "0                                 14.016835   \n",
       "1                                 13.992281   \n",
       "2                                 14.015015   \n",
       "3                                 14.036510   \n",
       "4                                 14.027298   \n",
       "5                                 13.938497   \n",
       "6                                 14.046819   \n",
       "7                                 13.974691   \n",
       "8                                 13.964030   \n",
       "9                                 13.989632   \n",
       "\n",
       "   secondary_cleaner.state.floatbank4_a_level  \\\n",
       "0                                 -502.488007   \n",
       "1                                 -505.503262   \n",
       "2                                 -502.520901   \n",
       "3                                 -500.857308   \n",
       "4                                 -499.838632   \n",
       "5                                 -500.970168   \n",
       "6                                 -500.971133   \n",
       "7                                 -501.819696   \n",
       "8                                 -504.252450   \n",
       "9                                 -503.195299   \n",
       "\n",
       "   secondary_cleaner.state.floatbank4_b_air  \\\n",
       "0                                 12.099931   \n",
       "1                                 11.950531   \n",
       "2                                 11.912783   \n",
       "3                                 11.999550   \n",
       "4                                 11.953070   \n",
       "5                                 11.883350   \n",
       "6                                 12.091543   \n",
       "7                                 12.101324   \n",
       "8                                 12.060738   \n",
       "9                                 12.052233   \n",
       "\n",
       "   secondary_cleaner.state.floatbank4_b_level  \\\n",
       "0                                 -504.715942   \n",
       "1                                 -501.331529   \n",
       "2                                 -501.133383   \n",
       "3                                 -501.193686   \n",
       "4                                 -501.053894   \n",
       "5                                 -500.395298   \n",
       "6                                 -500.501426   \n",
       "7                                 -500.583446   \n",
       "8                                 -501.174549   \n",
       "9                                 -500.928547   \n",
       "\n",
       "   secondary_cleaner.state.floatbank5_a_air  \\\n",
       "0                                  9.925633   \n",
       "1                                 10.039245   \n",
       "2                                 10.070913   \n",
       "3                                  9.970366   \n",
       "4                                  9.925709   \n",
       "5                                 10.054147   \n",
       "6                                 10.003247   \n",
       "7                                  9.873169   \n",
       "8                                 10.033838   \n",
       "9                                  9.962574   \n",
       "\n",
       "   secondary_cleaner.state.floatbank5_a_level  \\\n",
       "0                                 -498.310211   \n",
       "1                                 -500.169983   \n",
       "2                                 -500.129135   \n",
       "3                                 -499.201640   \n",
       "4                                 -501.686727   \n",
       "5                                 -496.374715   \n",
       "6                                 -497.083180   \n",
       "7                                 -499.171928   \n",
       "8                                 -501.178133   \n",
       "9                                 -502.986357   \n",
       "\n",
       "   secondary_cleaner.state.floatbank5_b_air  \\\n",
       "0                                  8.079666   \n",
       "1                                  7.984757   \n",
       "2                                  8.013877   \n",
       "3                                  7.977324   \n",
       "4                                  7.894242   \n",
       "5                                  7.965083   \n",
       "6                                  8.010890   \n",
       "7                                  7.993381   \n",
       "8                                  7.881604   \n",
       "9                                  7.979219   \n",
       "\n",
       "   secondary_cleaner.state.floatbank5_b_level  \\\n",
       "0                                 -500.470978   \n",
       "1                                 -500.582168   \n",
       "2                                 -500.517572   \n",
       "3                                 -500.255908   \n",
       "4                                 -500.356035   \n",
       "5                                 -499.364752   \n",
       "6                                 -500.002423   \n",
       "7                                 -499.794518   \n",
       "8                                 -499.729434   \n",
       "9                                 -500.146835   \n",
       "\n",
       "   secondary_cleaner.state.floatbank6_a_air  \\\n",
       "0                                 14.151341   \n",
       "1                                 13.998353   \n",
       "2                                 14.028663   \n",
       "3                                 14.005551   \n",
       "4                                 13.996647   \n",
       "5                                 14.017067   \n",
       "6                                 14.029649   \n",
       "7                                 13.984498   \n",
       "8                                 13.967135   \n",
       "9                                 13.981614   \n",
       "\n",
       "   secondary_cleaner.state.floatbank6_a_level  \n",
       "0                                 -605.841980  \n",
       "1                                 -599.787184  \n",
       "2                                 -601.427363  \n",
       "3                                 -599.996129  \n",
       "4                                 -601.496691  \n",
       "5                                 -599.707915  \n",
       "6                                 -600.905470  \n",
       "7                                 -600.411070  \n",
       "8                                 -599.061188  \n",
       "9                                 -598.070855  \n",
       "\n",
       "[10 rows x 87 columns]"
      ]
     },
     "metadata": {},
     "output_type": "display_data"
    }
   ],
   "source": [
    "df_full=pd.read_csv('/datasets/gold_recovery_full_new.csv')\n",
    "df_full.info()\n",
    "display(df_full.head(10))\n"
   ]
  },
  {
   "cell_type": "code",
   "execution_count": 8,
   "id": "15638703",
   "metadata": {
    "scrolled": false
   },
   "outputs": [
    {
     "name": "stdout",
     "output_type": "stream",
     "text": [
      "Доля пропусков в столбце ,%:\n",
      "date                                          0.000000\n",
      "final.output.concentrate_ag                   0.005144\n",
      "final.output.concentrate_pb                   0.005144\n",
      "final.output.concentrate_sol                  1.085447\n",
      "final.output.concentrate_au                   0.000000\n",
      "                                                ...   \n",
      "secondary_cleaner.state.floatbank5_a_level    0.005144\n",
      "secondary_cleaner.state.floatbank5_b_air      0.005144\n",
      "secondary_cleaner.state.floatbank5_b_level    0.005144\n",
      "secondary_cleaner.state.floatbank6_a_air      0.010289\n",
      "secondary_cleaner.state.floatbank6_a_level    0.005144\n",
      "Length: 87, dtype: float64\n",
      "Дубликатов =  0\n"
     ]
    }
   ],
   "source": [
    "print('Доля пропусков в столбце ,%:')\n",
    "rezul=df_full.isna().mean() * 100\n",
    "print(rezul)\n",
    "print('Дубликатов = ',df_full.duplicated().sum())\n",
    "df_full = df_full.fillna(0)"
   ]
  },
  {
   "cell_type": "markdown",
   "id": "74dd8417",
   "metadata": {},
   "source": [
    "## Анализ данных"
   ]
  },
  {
   "cell_type": "markdown",
   "id": "871d8ca4",
   "metadata": {},
   "source": [
    "### Анализ правильности данных \"rougher.output.recovery\""
   ]
  },
  {
   "cell_type": "code",
   "execution_count": 9,
   "id": "92f25449",
   "metadata": {
    "scrolled": true
   },
   "outputs": [
    {
     "name": "stdout",
     "output_type": "stream",
     "text": [
      "Cреднее абсолютное отклонение (МАЕ) параметра rougher.output.recovery = 1e-14\n"
     ]
    }
   ],
   "source": [
    "def recovery (C,F,T):\n",
    "    rec=((C*(F-T))/(F*(C-T)))*100\n",
    "    return rec\n",
    "\n",
    "C=df_train['rougher.output.concentrate_au']\n",
    "F=df_train['rougher.input.feed_au'] \n",
    "T=df_train['rougher.output.tail_au']\n",
    "\n",
    "df_train['rougher.output.recovery.find']=recovery(C,F,T)\n",
    "MAE=mean_absolute_error(df_train['rougher.output.recovery'],df_train['rougher.output.recovery.find']) \n",
    "print(f'Cреднее абсолютное отклонение (МАЕ) параметра rougher.output.recovery = {MAE:.3}')"
   ]
  },
  {
   "cell_type": "markdown",
   "id": "c1f33377",
   "metadata": {},
   "source": [
    "**Вывод**\n",
    "Среднее абсолютное отклонение является очень маленьким из чего можно сделать вывод, что параметр \"rougher.output.recovery\" расчитан правильно"
   ]
  },
  {
   "cell_type": "markdown",
   "id": "c8ba5d42",
   "metadata": {},
   "source": [
    "### Анализ данных недоступных в тестовой выборке."
   ]
  },
  {
   "cell_type": "code",
   "execution_count": 10,
   "id": "80ba466d",
   "metadata": {},
   "outputs": [
    {
     "name": "stdout",
     "output_type": "stream",
     "text": [
      "Наименование отсутствующих столбцов\n",
      "1                           final.output.concentrate_ag\n",
      "2                           final.output.concentrate_pb\n",
      "3                          final.output.concentrate_sol\n",
      "4                           final.output.concentrate_au\n",
      "5                                 final.output.recovery\n",
      "6                                  final.output.tail_ag\n",
      "7                                  final.output.tail_pb\n",
      "8                                 final.output.tail_sol\n",
      "9                                  final.output.tail_au\n",
      "14                primary_cleaner.output.concentrate_ag\n",
      "15                primary_cleaner.output.concentrate_pb\n",
      "16               primary_cleaner.output.concentrate_sol\n",
      "17                primary_cleaner.output.concentrate_au\n",
      "18                       primary_cleaner.output.tail_ag\n",
      "19                       primary_cleaner.output.tail_pb\n",
      "20                      primary_cleaner.output.tail_sol\n",
      "21                       primary_cleaner.output.tail_au\n",
      "30        rougher.calculation.sulfate_to_au_concentrate\n",
      "31    rougher.calculation.floatbank10_sulfate_to_au_...\n",
      "32    rougher.calculation.floatbank11_sulfate_to_au_...\n",
      "33                      rougher.calculation.au_pb_ratio\n",
      "44                        rougher.output.concentrate_ag\n",
      "45                        rougher.output.concentrate_pb\n",
      "46                       rougher.output.concentrate_sol\n",
      "47                        rougher.output.concentrate_au\n",
      "48                              rougher.output.recovery\n",
      "49                               rougher.output.tail_ag\n",
      "50                               rougher.output.tail_pb\n",
      "51                              rougher.output.tail_sol\n",
      "52                               rougher.output.tail_au\n",
      "65                     secondary_cleaner.output.tail_ag\n",
      "66                     secondary_cleaner.output.tail_pb\n",
      "67                    secondary_cleaner.output.tail_sol\n",
      "68                     secondary_cleaner.output.tail_au\n",
      "87                         rougher.output.recovery.find\n",
      "dtype: object\n",
      " Всего отсутствующих столбцов 35\n",
      "Наименование соответствующих столбцов \n",
      "0                                           date\n",
      "10                 primary_cleaner.input.sulfate\n",
      "11              primary_cleaner.input.depressant\n",
      "12               primary_cleaner.input.feed_size\n",
      "13                primary_cleaner.input.xanthate\n",
      "22        primary_cleaner.state.floatbank8_a_air\n",
      "23      primary_cleaner.state.floatbank8_a_level\n",
      "24        primary_cleaner.state.floatbank8_b_air\n",
      "25      primary_cleaner.state.floatbank8_b_level\n",
      "26        primary_cleaner.state.floatbank8_c_air\n",
      "27      primary_cleaner.state.floatbank8_c_level\n",
      "28        primary_cleaner.state.floatbank8_d_air\n",
      "29      primary_cleaner.state.floatbank8_d_level\n",
      "34                         rougher.input.feed_ag\n",
      "35                         rougher.input.feed_pb\n",
      "36                       rougher.input.feed_rate\n",
      "37                       rougher.input.feed_size\n",
      "38                        rougher.input.feed_sol\n",
      "39                         rougher.input.feed_au\n",
      "40             rougher.input.floatbank10_sulfate\n",
      "41            rougher.input.floatbank10_xanthate\n",
      "42             rougher.input.floatbank11_sulfate\n",
      "43            rougher.input.floatbank11_xanthate\n",
      "53               rougher.state.floatbank10_a_air\n",
      "54             rougher.state.floatbank10_a_level\n",
      "55               rougher.state.floatbank10_b_air\n",
      "56             rougher.state.floatbank10_b_level\n",
      "57               rougher.state.floatbank10_c_air\n",
      "58             rougher.state.floatbank10_c_level\n",
      "59               rougher.state.floatbank10_d_air\n",
      "60             rougher.state.floatbank10_d_level\n",
      "61               rougher.state.floatbank10_e_air\n",
      "62             rougher.state.floatbank10_e_level\n",
      "63               rougher.state.floatbank10_f_air\n",
      "64             rougher.state.floatbank10_f_level\n",
      "69      secondary_cleaner.state.floatbank2_a_air\n",
      "70    secondary_cleaner.state.floatbank2_a_level\n",
      "71      secondary_cleaner.state.floatbank2_b_air\n",
      "72    secondary_cleaner.state.floatbank2_b_level\n",
      "73      secondary_cleaner.state.floatbank3_a_air\n",
      "74    secondary_cleaner.state.floatbank3_a_level\n",
      "75      secondary_cleaner.state.floatbank3_b_air\n",
      "76    secondary_cleaner.state.floatbank3_b_level\n",
      "77      secondary_cleaner.state.floatbank4_a_air\n",
      "78    secondary_cleaner.state.floatbank4_a_level\n",
      "79      secondary_cleaner.state.floatbank4_b_air\n",
      "80    secondary_cleaner.state.floatbank4_b_level\n",
      "81      secondary_cleaner.state.floatbank5_a_air\n",
      "82    secondary_cleaner.state.floatbank5_a_level\n",
      "83      secondary_cleaner.state.floatbank5_b_air\n",
      "84    secondary_cleaner.state.floatbank5_b_level\n",
      "85      secondary_cleaner.state.floatbank6_a_air\n",
      "86    secondary_cleaner.state.floatbank6_a_level\n",
      "dtype: object\n"
     ]
    }
   ],
   "source": [
    "columns_train=pd.Series(df_train.columns) \n",
    "columns_test=pd.Series(df_test.columns) \n",
    "not_columns_test=columns_train[~columns_train.isin(columns_test)] \n",
    "columns_train_test=columns_train[~columns_train.isin(not_columns_test)]\n",
    "print('Наименование отсутствующих столбцов')\n",
    "print(not_columns_test)\n",
    "print(f' Всего отсутствующих столбцов {not_columns_test.count()}')\n",
    "\n",
    "print('Наименование соответствующих столбцов ')\n",
    "print(columns_train_test)"
   ]
  },
  {
   "cell_type": "markdown",
   "id": "0f923c30",
   "metadata": {},
   "source": [
    "**Вывод**\n",
    "\n",
    "Отсутствующие данные относятся к следующим  разделать технологического процесса\n",
    "\n",
    "1.  final.output - это итоговые характеристики выходного продукта\n",
    "2.  primary_cleaner.output - характеристики продукта после первичной очистки\n",
    "3.  rougher.output - характеристики продукта после флотации\n",
    "4.  secondary_cleaner.output - характеристики продукта после вторичной очистки\n",
    "5.  rougher.calculation - расчетная характеристика после флотации\n",
    "6.  rougher.output.recovery - расчетная характеристика, эффективность процесса флотации\n",
    "7.  final.output.recovery - расчетная характеристика, эффективност второй ступени очистки\n",
    "8. Можно без потери удалить столбец с датами"
   ]
  },
  {
   "cell_type": "code",
   "execution_count": 11,
   "id": "19263a2a",
   "metadata": {},
   "outputs": [],
   "source": [
    "df_train = df_train.drop(['date'], axis=1) \n"
   ]
  },
  {
   "cell_type": "markdown",
   "id": "25482ea4",
   "metadata": {},
   "source": [
    "### Анализ концентраций металлов на разных этапах"
   ]
  },
  {
   "cell_type": "code",
   "execution_count": 12,
   "id": "1ebc52a6",
   "metadata": {},
   "outputs": [],
   "source": [
    "def tex_proc_info (data,colum,metal,etap):\n",
    "    data.plot(y=colum,kind='hist' ,bins=20,grid=True, label=metal,figsize=(20, 6)) \n",
    "    print(etap)\n",
    "    med_1=data[colum].mean() # среднее значение \n",
    "    print(f'Среднее содержание {metal} в материале =  {med_1:.4}' )\n",
    "    med_2=data[colum].median()  #  медианное значение\n",
    "    print(f'Медианное содержание {metal} в материале =  {med_2:.4}')\n",
    "    return med_1,med_2"
   ]
  },
  {
   "cell_type": "markdown",
   "id": "6f1bd642",
   "metadata": {},
   "source": [
    "#### Au флотация"
   ]
  },
  {
   "cell_type": "code",
   "execution_count": 13,
   "id": "5d630248",
   "metadata": {},
   "outputs": [
    {
     "data": {
      "text/html": [
       "<div>\n",
       "<style scoped>\n",
       "    .dataframe tbody tr th:only-of-type {\n",
       "        vertical-align: middle;\n",
       "    }\n",
       "\n",
       "    .dataframe tbody tr th {\n",
       "        vertical-align: top;\n",
       "    }\n",
       "\n",
       "    .dataframe thead th {\n",
       "        text-align: right;\n",
       "    }\n",
       "</style>\n",
       "<table border=\"1\" class=\"dataframe\">\n",
       "  <thead>\n",
       "    <tr style=\"text-align: right;\">\n",
       "      <th></th>\n",
       "      <th>final.output.concentrate_ag</th>\n",
       "      <th>final.output.concentrate_pb</th>\n",
       "      <th>final.output.concentrate_sol</th>\n",
       "      <th>final.output.concentrate_au</th>\n",
       "      <th>final.output.recovery</th>\n",
       "      <th>final.output.tail_ag</th>\n",
       "      <th>final.output.tail_pb</th>\n",
       "      <th>final.output.tail_sol</th>\n",
       "      <th>final.output.tail_au</th>\n",
       "      <th>primary_cleaner.input.sulfate</th>\n",
       "      <th>...</th>\n",
       "      <th>secondary_cleaner.state.floatbank4_a_level</th>\n",
       "      <th>secondary_cleaner.state.floatbank4_b_air</th>\n",
       "      <th>secondary_cleaner.state.floatbank4_b_level</th>\n",
       "      <th>secondary_cleaner.state.floatbank5_a_air</th>\n",
       "      <th>secondary_cleaner.state.floatbank5_a_level</th>\n",
       "      <th>secondary_cleaner.state.floatbank5_b_air</th>\n",
       "      <th>secondary_cleaner.state.floatbank5_b_level</th>\n",
       "      <th>secondary_cleaner.state.floatbank6_a_air</th>\n",
       "      <th>secondary_cleaner.state.floatbank6_a_level</th>\n",
       "      <th>rougher.output.recovery.find</th>\n",
       "    </tr>\n",
       "  </thead>\n",
       "  <tbody>\n",
       "  </tbody>\n",
       "</table>\n",
       "<p>0 rows × 87 columns</p>\n",
       "</div>"
      ],
      "text/plain": [
       "Empty DataFrame\n",
       "Columns: [final.output.concentrate_ag, final.output.concentrate_pb, final.output.concentrate_sol, final.output.concentrate_au, final.output.recovery, final.output.tail_ag, final.output.tail_pb, final.output.tail_sol, final.output.tail_au, primary_cleaner.input.sulfate, primary_cleaner.input.depressant, primary_cleaner.input.feed_size, primary_cleaner.input.xanthate, primary_cleaner.output.concentrate_ag, primary_cleaner.output.concentrate_pb, primary_cleaner.output.concentrate_sol, primary_cleaner.output.concentrate_au, primary_cleaner.output.tail_ag, primary_cleaner.output.tail_pb, primary_cleaner.output.tail_sol, primary_cleaner.output.tail_au, primary_cleaner.state.floatbank8_a_air, primary_cleaner.state.floatbank8_a_level, primary_cleaner.state.floatbank8_b_air, primary_cleaner.state.floatbank8_b_level, primary_cleaner.state.floatbank8_c_air, primary_cleaner.state.floatbank8_c_level, primary_cleaner.state.floatbank8_d_air, primary_cleaner.state.floatbank8_d_level, rougher.calculation.sulfate_to_au_concentrate, rougher.calculation.floatbank10_sulfate_to_au_feed, rougher.calculation.floatbank11_sulfate_to_au_feed, rougher.calculation.au_pb_ratio, rougher.input.feed_ag, rougher.input.feed_pb, rougher.input.feed_rate, rougher.input.feed_size, rougher.input.feed_sol, rougher.input.feed_au, rougher.input.floatbank10_sulfate, rougher.input.floatbank10_xanthate, rougher.input.floatbank11_sulfate, rougher.input.floatbank11_xanthate, rougher.output.concentrate_ag, rougher.output.concentrate_pb, rougher.output.concentrate_sol, rougher.output.concentrate_au, rougher.output.recovery, rougher.output.tail_ag, rougher.output.tail_pb, rougher.output.tail_sol, rougher.output.tail_au, rougher.state.floatbank10_a_air, rougher.state.floatbank10_a_level, rougher.state.floatbank10_b_air, rougher.state.floatbank10_b_level, rougher.state.floatbank10_c_air, rougher.state.floatbank10_c_level, rougher.state.floatbank10_d_air, rougher.state.floatbank10_d_level, rougher.state.floatbank10_e_air, rougher.state.floatbank10_e_level, rougher.state.floatbank10_f_air, rougher.state.floatbank10_f_level, secondary_cleaner.output.tail_ag, secondary_cleaner.output.tail_pb, secondary_cleaner.output.tail_sol, secondary_cleaner.output.tail_au, secondary_cleaner.state.floatbank2_a_air, secondary_cleaner.state.floatbank2_a_level, secondary_cleaner.state.floatbank2_b_air, secondary_cleaner.state.floatbank2_b_level, secondary_cleaner.state.floatbank3_a_air, secondary_cleaner.state.floatbank3_a_level, secondary_cleaner.state.floatbank3_b_air, secondary_cleaner.state.floatbank3_b_level, secondary_cleaner.state.floatbank4_a_air, secondary_cleaner.state.floatbank4_a_level, secondary_cleaner.state.floatbank4_b_air, secondary_cleaner.state.floatbank4_b_level, secondary_cleaner.state.floatbank5_a_air, secondary_cleaner.state.floatbank5_a_level, secondary_cleaner.state.floatbank5_b_air, secondary_cleaner.state.floatbank5_b_level, secondary_cleaner.state.floatbank6_a_air, secondary_cleaner.state.floatbank6_a_level, rougher.output.recovery.find]\n",
       "Index: []\n",
       "\n",
       "[0 rows x 87 columns]"
      ]
     },
     "metadata": {},
     "output_type": "display_data"
    }
   ],
   "source": [
    "display(df_train[df_train['primary_cleaner.output.concentrate_au']==0])"
   ]
  },
  {
   "cell_type": "code",
   "execution_count": 14,
   "id": "f5c50338",
   "metadata": {},
   "outputs": [
    {
     "name": "stdout",
     "output_type": "stream",
     "text": [
      "После флотации\n",
      "Среднее содержание Au в материале =  20.15\n",
      "Медианное содержание Au в материале =  20.31\n"
     ]
    },
    {
     "data": {
      "image/png": "[encoded data removed]",
      "text/plain": [
       "<Figure size 1440x432 with 1 Axes>"
      ]
     },
     "metadata": {
      "needs_background": "light"
     },
     "output_type": "display_data"
    }
   ],
   "source": [
    "rougher_Au_men,rougher_Au_med=tex_proc_info (df_train,'rougher.output.concentrate_au','Au','После флотации')"
   ]
  },
  {
   "cell_type": "markdown",
   "id": "5db766b7",
   "metadata": {},
   "source": [
    "#### Au первая ступень очистки"
   ]
  },
  {
   "cell_type": "code",
   "execution_count": 15,
   "id": "6f5bd25d",
   "metadata": {},
   "outputs": [
    {
     "name": "stdout",
     "output_type": "stream",
     "text": [
      "После первой ступени очистки\n",
      "Среднее содержание Au в материале =  32.51\n",
      "Медианное содержание Au в материале =  33.0\n"
     ]
    },
    {
     "data": {
      "image/png": "[encoded data removed]",
      "text/plain": [
       "<Figure size 1440x432 with 1 Axes>"
      ]
     },
     "metadata": {
      "needs_background": "light"
     },
     "output_type": "display_data"
    }
   ],
   "source": [
    "primary_Au_men,primary_Au_med=tex_proc_info (df_train,'primary_cleaner.output.concentrate_au','Au','После первой ступени очистки')"
   ]
  },
  {
   "cell_type": "markdown",
   "id": "6914d542",
   "metadata": {},
   "source": [
    "#### Au вторая ступень очистки"
   ]
  },
  {
   "cell_type": "code",
   "execution_count": 16,
   "id": "20663624",
   "metadata": {},
   "outputs": [
    {
     "name": "stdout",
     "output_type": "stream",
     "text": [
      "После второй ступени очистки\n",
      "Среднее содержание Au в материале =  44.25\n",
      "Медианное содержание Au в материале =  44.8\n"
     ]
    },
    {
     "data": {
      "image/png": "[encoded data removed]",
      "text/plain": [
       "<Figure size 1440x432 with 1 Axes>"
      ]
     },
     "metadata": {
      "needs_background": "light"
     },
     "output_type": "display_data"
    }
   ],
   "source": [
    "final_Au_men, final_Au_med=tex_proc_info (df_train,'final.output.concentrate_au','Au','После второй ступени очистки')"
   ]
  },
  {
   "cell_type": "markdown",
   "id": "9c29770f",
   "metadata": {},
   "source": [
    "#### Ag флотация"
   ]
  },
  {
   "cell_type": "code",
   "execution_count": 17,
   "id": "29a97919",
   "metadata": {},
   "outputs": [
    {
     "name": "stdout",
     "output_type": "stream",
     "text": [
      "После флотации\n",
      "Среднее содержание Ag в материале =  12.07\n",
      "Медианное содержание Ag в материале =  11.86\n"
     ]
    },
    {
     "data": {
      "image/png": "[encoded data removed]",
      "text/plain": [
       "<Figure size 1440x432 with 1 Axes>"
      ]
     },
     "metadata": {
      "needs_background": "light"
     },
     "output_type": "display_data"
    }
   ],
   "source": [
    "rougher_Ag_men,rougher_Ag_med=tex_proc_info (df_train,'rougher.output.concentrate_ag','Ag','После флотации')"
   ]
  },
  {
   "cell_type": "markdown",
   "id": "779c157c",
   "metadata": {},
   "source": [
    "#### Ag первая ступень очистки"
   ]
  },
  {
   "cell_type": "code",
   "execution_count": 18,
   "id": "edb4f917",
   "metadata": {},
   "outputs": [
    {
     "name": "stdout",
     "output_type": "stream",
     "text": [
      "После первой ступени очистки\n",
      "Среднее содержание Ag в материале =  8.484\n",
      "Медианное содержание Ag в материале =  8.463\n"
     ]
    },
    {
     "data": {
      "image/png": "[encoded data removed]",
      "text/plain": [
       "<Figure size 1440x432 with 1 Axes>"
      ]
     },
     "metadata": {
      "needs_background": "light"
     },
     "output_type": "display_data"
    }
   ],
   "source": [
    "primary_Ag_men,primary_Ag_med=tex_proc_info (df_train,'primary_cleaner.output.concentrate_ag','Ag','После первой ступени очистки')"
   ]
  },
  {
   "cell_type": "markdown",
   "id": "f7013ce7",
   "metadata": {},
   "source": [
    "#### Ag вторая ступень очистки"
   ]
  },
  {
   "cell_type": "code",
   "execution_count": 19,
   "id": "e12cd22e",
   "metadata": {},
   "outputs": [
    {
     "name": "stdout",
     "output_type": "stream",
     "text": [
      "После второй ступени очистки\n",
      "Среднее содержание Ag в материале =  5.178\n",
      "Медианное содержание Ag в материале =  5.015\n"
     ]
    },
    {
     "data": {
      "image/png": "[encoded data removed]",
      "text/plain": [
       "<Figure size 1440x432 with 1 Axes>"
      ]
     },
     "metadata": {
      "needs_background": "light"
     },
     "output_type": "display_data"
    }
   ],
   "source": [
    "final_Ag_men,final_Ag_med=tex_proc_info (df_train,'final.output.concentrate_ag','Ag','После второй ступени очистки')"
   ]
  },
  {
   "cell_type": "markdown",
   "id": "86b863b3",
   "metadata": {},
   "source": [
    "#### Pb флотация"
   ]
  },
  {
   "cell_type": "code",
   "execution_count": 20,
   "id": "76b09b50",
   "metadata": {},
   "outputs": [
    {
     "name": "stdout",
     "output_type": "stream",
     "text": [
      "После флотации\n",
      "Среднее содержание Pb в материале =  7.756\n",
      "Медианное содержание Pb в материале =  7.736\n"
     ]
    },
    {
     "data": {
      "image/png": "[encoded data removed]",
      "text/plain": [
       "<Figure size 1440x432 with 1 Axes>"
      ]
     },
     "metadata": {
      "needs_background": "light"
     },
     "output_type": "display_data"
    }
   ],
   "source": [
    "rougher_Pb_men,rougher_Pb_med=tex_proc_info (df_train,'rougher.output.concentrate_pb','Pb','После флотации')"
   ]
  },
  {
   "cell_type": "markdown",
   "id": "0580dcdb",
   "metadata": {},
   "source": [
    "#### Pb первая ступень очистки"
   ]
  },
  {
   "cell_type": "code",
   "execution_count": 21,
   "id": "6a117394",
   "metadata": {},
   "outputs": [
    {
     "name": "stdout",
     "output_type": "stream",
     "text": [
      "После первой ступени очистки\n",
      "Среднее содержание Pb в материале =  9.595\n",
      "Медианное содержание Pb в материале =  9.902\n"
     ]
    },
    {
     "data": {
      "image/png": "[encoded data removed]",
      "text/plain": [
       "<Figure size 1440x432 with 1 Axes>"
      ]
     },
     "metadata": {
      "needs_background": "light"
     },
     "output_type": "display_data"
    }
   ],
   "source": [
    "primary_Pb_men,primary_Pb_med=tex_proc_info (df_train,'primary_cleaner.output.concentrate_pb','Pb','После первой ступени очистки')"
   ]
  },
  {
   "cell_type": "markdown",
   "id": "38f67caf",
   "metadata": {},
   "source": [
    "#### Pb вторая ступень очистки"
   ]
  },
  {
   "cell_type": "code",
   "execution_count": 22,
   "id": "83ebf0d7",
   "metadata": {},
   "outputs": [
    {
     "name": "stdout",
     "output_type": "stream",
     "text": [
      "После второй ступени очистки\n",
      "Среднее содержание Pb в материале =  10.19\n",
      "Медианное содержание Pb в материале =  10.34\n"
     ]
    },
    {
     "data": {
      "image/png": "[encoded data removed]",
      "text/plain": [
       "<Figure size 1440x432 with 1 Axes>"
      ]
     },
     "metadata": {
      "needs_background": "light"
     },
     "output_type": "display_data"
    }
   ],
   "source": [
    "final_Pb_men,final_Pb_med=tex_proc_info (df_train,'final.output.concentrate_pb','Pb','После второй ступени очистки')"
   ]
  },
  {
   "cell_type": "markdown",
   "id": "f1a9122f",
   "metadata": {},
   "source": [
    "**Вывод**\n",
    "В ходе технологического процесса обогащения руды концентрация золота растет, что является правильной тенденцией. Концентрация серебра уменьшается, а свинца увеличивается, что предположим является правильной тенденцией т.к. подробностей процесса нет. В полученных результатах видны аномалии, например нулевые значения, что скорее всего является не ошибкой, а данные датчиком получены с пустой породы."
   ]
  },
  {
   "cell_type": "markdown",
   "id": "7025417b",
   "metadata": {},
   "source": [
    "### Сравнение распределения размеров гранул сырья на обучающей и тестовой выборках"
   ]
  },
  {
   "cell_type": "markdown",
   "id": "d0ae31b7",
   "metadata": {},
   "source": [
    "#### Флотация"
   ]
  },
  {
   "cell_type": "code",
   "execution_count": 23,
   "id": "f9a9f7f1",
   "metadata": {},
   "outputs": [
    {
     "name": "stdout",
     "output_type": "stream",
     "text": [
      "Тренировачная выборка\n",
      "Перед флотацией\n",
      "Среднее содержание Size в материале =  57.33\n",
      "Медианное содержание Size в материале =  53.97\n",
      "Тестовая выборка\n",
      "Перед флотацией\n",
      "Среднее содержание Size в материале =  55.94\n",
      "Медианное содержание Size в материале =  50.83\n",
      "Относительная разница среднего размера гранул между выборками train и test =2.431 %\n",
      "Относительная разница медианного размера гранул между выборками train и test =5.814 %\n"
     ]
    },
    {
     "data": {
      "image/png": "[encoded data removed]",
      "text/plain": [
       "<Figure size 1440x432 with 1 Axes>"
      ]
     },
     "metadata": {
      "needs_background": "light"
     },
     "output_type": "display_data"
    },
    {
     "data": {
      "image/png": "[encoded data removed]",
      "text/plain": [
       "<Figure size 1440x432 with 1 Axes>"
      ]
     },
     "metadata": {
      "needs_background": "light"
     },
     "output_type": "display_data"
    }
   ],
   "source": [
    "print('Тренировачная выборка')\n",
    "rougher_size_men,rougher_size_med=tex_proc_info (df_train,'rougher.input.feed_size','Size','Перед флотацией')\n",
    "print('Тестовая выборка')\n",
    "rougher_size_test_men,rougher_size_test_med=tex_proc_info (df_test,'rougher.input.feed_size','Size','Перед флотацией')\n",
    "print(f'Относительная разница среднего размера гранул между выборками train и test ={((abs(rougher_size_men-rougher_size_test_men))/rougher_size_men)*100:.4} %')\n",
    "print(f'Относительная разница медианного размера гранул между выборками train и test ={((abs(rougher_size_med-rougher_size_test_med))/rougher_size_med)*100:.4} %')"
   ]
  },
  {
   "cell_type": "markdown",
   "id": "d2d69508",
   "metadata": {},
   "source": [
    "**Вывод** \n",
    "Распределение размера гранул в тренировочной и тестовой выборках достаточно близкое, разница не превышает 10%, что можно считать хорошим показателем для сравнения выборок."
   ]
  },
  {
   "cell_type": "markdown",
   "id": "ba22aa52",
   "metadata": {},
   "source": [
    "### Суммарная концентрацию всех веществ на разных стадиях"
   ]
  },
  {
   "cell_type": "markdown",
   "id": "bc98601d",
   "metadata": {},
   "source": [
    "#### Флотация"
   ]
  },
  {
   "cell_type": "code",
   "execution_count": 24,
   "id": "929abd95",
   "metadata": {},
   "outputs": [
    {
     "name": "stdout",
     "output_type": "stream",
     "text": [
      "После флотации\n",
      "Среднее содержание All_Me в материале =  69.19\n",
      "Медианное содержание All_Me в материале =  69.85\n"
     ]
    },
    {
     "data": {
      "image/png": "[encoded data removed]",
      "text/plain": [
       "<Figure size 1440x432 with 1 Axes>"
      ]
     },
     "metadata": {
      "needs_background": "light"
     },
     "output_type": "display_data"
    }
   ],
   "source": [
    "data_all_flot=df_train['rougher.output.concentrate_ag']+df_train['rougher.output.concentrate_au']+df_train['rougher.output.concentrate_pb']+df_train['rougher.output.concentrate_sol']\n",
    "\n",
    "data_all_flot=pd.DataFrame(data_all_flot) \n",
    "data_all_flot.columns = ['Me']\n",
    "rougher_Me_men,rougher_Me_med=tex_proc_info (data_all_flot,'Me','All_Me','После флотации')"
   ]
  },
  {
   "cell_type": "markdown",
   "id": "ec0065af",
   "metadata": {},
   "source": [
    "#### Первая ступень очистки"
   ]
  },
  {
   "cell_type": "code",
   "execution_count": 25,
   "id": "e342b246",
   "metadata": {},
   "outputs": [
    {
     "name": "stdout",
     "output_type": "stream",
     "text": [
      "После первой ступени очистки\n",
      "Среднее содержание All_Me в материале =  60.99\n",
      "Медианное содержание All_Me в материале =  61.98\n"
     ]
    },
    {
     "data": {
      "image/png": "[encoded data removed]",
      "text/plain": [
       "<Figure size 1440x432 with 1 Axes>"
      ]
     },
     "metadata": {
      "needs_background": "light"
     },
     "output_type": "display_data"
    }
   ],
   "source": [
    "data_all_prim=df_train['primary_cleaner.output.concentrate_ag']+df_train['primary_cleaner.output.concentrate_au']+df_train['primary_cleaner.output.concentrate_pb']+df_train['primary_cleaner.output.concentrate_sol']\n",
    "\n",
    "data_all_prim=pd.DataFrame(data_all_prim) \n",
    "data_all_prim.columns = ['Me']\n",
    "prim_Me_men,prim_Me_med=tex_proc_info (data_all_prim,'Me','All_Me','После первой ступени очистки')"
   ]
  },
  {
   "cell_type": "markdown",
   "id": "31f5e51f",
   "metadata": {},
   "source": [
    "#### Вторая ступень очистки"
   ]
  },
  {
   "cell_type": "code",
   "execution_count": 26,
   "id": "1840de83",
   "metadata": {},
   "outputs": [
    {
     "name": "stdout",
     "output_type": "stream",
     "text": [
      "После второй ступени очистки\n",
      "Среднее содержание All_Me в материале =  69.26\n",
      "Медианное содержание All_Me в материале =  69.47\n"
     ]
    },
    {
     "data": {
      "image/png": "[encoded data removed]",
      "text/plain": [
       "<Figure size 1440x432 with 1 Axes>"
      ]
     },
     "metadata": {
      "needs_background": "light"
     },
     "output_type": "display_data"
    }
   ],
   "source": [
    "data_all_final=df_train['final.output.concentrate_ag']+df_train['final.output.concentrate_au']+df_train['final.output.concentrate_pb']+df_train['final.output.concentrate_sol']\n",
    "\n",
    "data_all_final=pd.DataFrame(data_all_final) \n",
    "data_all_final.columns = ['Me'] \n",
    "final_Me_men,final_Me_med=tex_proc_info (data_all_final,'Me','All_Me','После второй ступени очистки')"
   ]
  },
  {
   "cell_type": "markdown",
   "id": "eafa1d3c",
   "metadata": {},
   "source": [
    "**Вывод**\n",
    "Сумарное количество веществ в руде после каждой стадии очистки изменяется не значительно в районе 15%."
   ]
  },
  {
   "cell_type": "markdown",
   "id": "d2698459",
   "metadata": {},
   "source": [
    "### Обучение и сравнение нескольких моделей"
   ]
  },
  {
   "cell_type": "markdown",
   "id": "f49735e1",
   "metadata": {},
   "source": [
    "#### Cимметричное среднее абсолютное процентное отклонение (sMAPE)"
   ]
  },
  {
   "cell_type": "code",
   "execution_count": 27,
   "id": "26c53814",
   "metadata": {},
   "outputs": [],
   "source": [
    "def sMAPE (data_target,predict_target):\n",
    "    smape=abs(data_target-predict_target)/((abs(data_target)+abs(predict_target))/2)\n",
    "    smape=(smape.sum()/len(smape))*100\n",
    "    return smape"
   ]
  },
  {
   "cell_type": "markdown",
   "id": "4d95ef1b",
   "metadata": {},
   "source": [
    "#### Флотация"
   ]
  },
  {
   "cell_type": "code",
   "execution_count": 28,
   "id": "8ef1c3f5",
   "metadata": {},
   "outputs": [],
   "source": [
    "list_columns_rougher=[] \n",
    "for i in columns_train_test:\n",
    "    if 'roug' in i:\n",
    "        list_columns_rougher.append(i)"
   ]
  },
  {
   "cell_type": "code",
   "execution_count": 29,
   "id": "9a6b9197",
   "metadata": {},
   "outputs": [],
   "source": [
    "features =df_train[list_columns_rougher] \n",
    "target =df_train['rougher.output.recovery'] \n",
    "#разделяем на выборку для обучения и тестирования, 25% данных для валидации (теста)\n",
    "features_train_rougher, features_valid_rougher, target_train_rougher, target_valid_rougher = train_test_split(features, target, test_size=0.25, random_state=2504)"
   ]
  },
  {
   "cell_type": "markdown",
   "id": "cfb90237",
   "metadata": {},
   "source": [
    "#####  Модель линейной регрессии"
   ]
  },
  {
   "cell_type": "code",
   "execution_count": 31,
   "id": "f726ce62",
   "metadata": {},
   "outputs": [
    {
     "name": "stdout",
     "output_type": "stream",
     "text": [
      "Cреднеквадратичная ошибка RMSE = 5.352\n",
      "Cимметричное среднее абсолютное процентное отклонение sMAPE = 4.639 %\n"
     ]
    }
   ],
   "source": [
    "model_1 = LinearRegression() \n",
    "model_1.fit(features_train_rougher, target_train_rougher)  \n",
    "predictions_1 = model_1.predict(features_valid_rougher) \n",
    "result_1 =math.sqrt(mean_squared_error(target_valid_rougher, predictions_1,squared=True)) \n",
    "print(f'Cреднеквадратичная ошибка RMSE = {result_1:.4}') \n",
    "print(f'Cимметричное среднее абсолютное процентное отклонение sMAPE = {sMAPE(target_valid_rougher, predictions_1):.4} %')"
   ]
  },
  {
   "cell_type": "markdown",
   "id": "0c97bc7d",
   "metadata": {},
   "source": [
    "#####  Модель дерева решений"
   ]
  },
  {
   "cell_type": "code",
   "execution_count": 32,
   "id": "250fc0b5",
   "metadata": {},
   "outputs": [
    {
     "name": "stdout",
     "output_type": "stream",
     "text": [
      "CPU times: user 1min 10s, sys: 206 ms, total: 1min 10s\n",
      "Wall time: 1min 10s\n"
     ]
    },
    {
     "data": {
      "text/plain": [
       "GridSearchCV(cv=5, estimator=DecisionTreeRegressor(),\n",
       "             param_grid={'max_depth': range(1, 11, 2),\n",
       "                         'min_samples_leaf': range(2, 12, 2),\n",
       "                         'min_samples_split': range(1, 10)})"
      ]
     },
     "execution_count": 32,
     "metadata": {},
     "output_type": "execute_result"
    }
   ],
   "source": [
    "%%time\n",
    "model_DTR = DecisionTreeRegressor()\n",
    "parametrs={\n",
    "    'max_depth':range(1,11,2),\n",
    "    'min_samples_split':range(1,10),\n",
    "    'min_samples_leaf':range(2,12,2)\n",
    "}\n",
    "grid_param=GridSearchCV(model_DTR,parametrs,cv=5)\n",
    "grid_param.fit(features_train_rougher, target_train_rougher)\n"
   ]
  },
  {
   "cell_type": "code",
   "execution_count": 33,
   "id": "13fc578c",
   "metadata": {},
   "outputs": [
    {
     "data": {
      "text/plain": [
       "{'max_depth': 9, 'min_samples_leaf': 10, 'min_samples_split': 9}"
      ]
     },
     "execution_count": 33,
     "metadata": {},
     "output_type": "execute_result"
    }
   ],
   "source": [
    "grid_param.best_params_"
   ]
  },
  {
   "cell_type": "code",
   "execution_count": 34,
   "id": "cf774758",
   "metadata": {},
   "outputs": [
    {
     "name": "stdout",
     "output_type": "stream",
     "text": [
      "Cреднеквадратичная ошибка RMSE = 5.306\n",
      "Cимметричное среднее абсолютное процентное отклонение sMAPE = 3.741 %\n"
     ]
    }
   ],
   "source": [
    "\n",
    "model_DTR_2 = DecisionTreeRegressor(random_state=2504, max_depth=grid_param.best_params_['max_depth']).fit(features_train_rougher, target_train_rougher) \n",
    "predictions_2 = model_DTR_2.predict(features_valid_rougher) \n",
    "result_2 =math.sqrt(mean_squared_error(target_valid_rougher, predictions_2,squared=True)) \n",
    "print(f'Cреднеквадратичная ошибка RMSE = {result_2:.4}')  \n",
    "print(f'Cимметричное среднее абсолютное процентное отклонение sMAPE = {sMAPE(target_valid_rougher, predictions_2):.4} %')"
   ]
  },
  {
   "cell_type": "markdown",
   "id": "8e73cbb3",
   "metadata": {},
   "source": [
    "#####  Модель случайный лес"
   ]
  },
  {
   "cell_type": "code",
   "execution_count": 35,
   "id": "238be7ee",
   "metadata": {},
   "outputs": [
    {
     "name": "stdout",
     "output_type": "stream",
     "text": [
      "CPU times: user 7min 44s, sys: 808 ms, total: 7min 45s\n",
      "Wall time: 7min 45s\n"
     ]
    },
    {
     "data": {
      "text/plain": [
       "GridSearchCV(cv=3, estimator=RandomForestRegressor(),\n",
       "             param_grid={'max_depth': range(8, 12),\n",
       "                         'n_estimators': range(110, 151, 10)})"
      ]
     },
     "execution_count": 35,
     "metadata": {},
     "output_type": "execute_result"
    }
   ],
   "source": [
    "%%time\n",
    "model_RFR_1 = RandomForestRegressor ()\n",
    "parametrs={\n",
    "    'n_estimators':range(110,151,10),\n",
    "    'max_depth':range(8,12,1),\n",
    "}\n",
    "grid_param=GridSearchCV(model_RFR_1,parametrs,cv=3)\n",
    "grid_param.fit(features_train_rougher, target_train_rougher)\n"
   ]
  },
  {
   "cell_type": "code",
   "execution_count": 36,
   "id": "493716c5",
   "metadata": {},
   "outputs": [
    {
     "data": {
      "text/plain": [
       "{'max_depth': 11, 'n_estimators': 140}"
      ]
     },
     "execution_count": 36,
     "metadata": {},
     "output_type": "execute_result"
    }
   ],
   "source": [
    "grid_param.best_params_"
   ]
  },
  {
   "cell_type": "code",
   "execution_count": 37,
   "id": "b1355738",
   "metadata": {},
   "outputs": [
    {
     "name": "stdout",
     "output_type": "stream",
     "text": [
      "Cреднеквадратичная ошибка RMSE = 3.943\n",
      "Cимметричное среднее абсолютное процентное отклонение sMAPE = 2.838 %\n"
     ]
    }
   ],
   "source": [
    "model_RFR_3 = RandomForestRegressor(random_state=2504, max_depth=grid_param.best_params_['max_depth'],n_estimators=grid_param.best_params_['n_estimators']).fit(features_train_rougher, target_train_rougher) \n",
    "predictions_3 = model_RFR_3.predict(features_valid_rougher) \n",
    "result_3 =math.sqrt(mean_squared_error(target_valid_rougher, predictions_3,squared=True)) \n",
    "print(f'Cреднеквадратичная ошибка RMSE = {result_3:.4}')  \n",
    "print(f'Cимметричное среднее абсолютное процентное отклонение sMAPE = {sMAPE(target_valid_rougher, predictions_3):.4} %')"
   ]
  },
  {
   "cell_type": "code",
   "execution_count": 38,
   "id": "022201b2",
   "metadata": {},
   "outputs": [
    {
     "data": {
      "text/html": [
       "<div>\n",
       "<style scoped>\n",
       "    .dataframe tbody tr th:only-of-type {\n",
       "        vertical-align: middle;\n",
       "    }\n",
       "\n",
       "    .dataframe tbody tr th {\n",
       "        vertical-align: top;\n",
       "    }\n",
       "\n",
       "    .dataframe thead th {\n",
       "        text-align: right;\n",
       "    }\n",
       "</style>\n",
       "<table border=\"1\" class=\"dataframe\">\n",
       "  <thead>\n",
       "    <tr style=\"text-align: right;\">\n",
       "      <th></th>\n",
       "      <th>model name</th>\n",
       "      <th>cross_val_score_rougher</th>\n",
       "    </tr>\n",
       "  </thead>\n",
       "  <tbody>\n",
       "    <tr>\n",
       "      <th>0</th>\n",
       "      <td>LinearRegression</td>\n",
       "      <td>0.493881</td>\n",
       "    </tr>\n",
       "    <tr>\n",
       "      <th>1</th>\n",
       "      <td>DecisionTreeRegressor</td>\n",
       "      <td>0.625917</td>\n",
       "    </tr>\n",
       "    <tr>\n",
       "      <th>2</th>\n",
       "      <td>RandomForestRegressor</td>\n",
       "      <td>0.766795</td>\n",
       "    </tr>\n",
       "  </tbody>\n",
       "</table>\n",
       "</div>"
      ],
      "text/plain": [
       "              model name  cross_val_score_rougher\n",
       "0       LinearRegression                 0.493881\n",
       "1  DecisionTreeRegressor                 0.625917\n",
       "2  RandomForestRegressor                 0.766795"
      ]
     },
     "execution_count": 38,
     "metadata": {},
     "output_type": "execute_result"
    }
   ],
   "source": [
    "random_state = 2504\n",
    "cv = 5\n",
    "models_1 = [model_1,\n",
    "          model_DTR_2, \n",
    "          model_RFR_3, \n",
    "          ]\n",
    "results_cross_val = []\n",
    "\n",
    "for model in models_1: \n",
    "\n",
    "    cross_val_score_rougher = cross_val_score(model, \n",
    "                                              features_train_rougher, \n",
    "                                              target_train_rougher, \n",
    "                                              cv=cv).mean()\n",
    "\n",
    "    results_cross_val.append({'model name': model.__class__.__name__, \n",
    "                              'cross_val_score_rougher': cross_val_score_rougher}) \n",
    "              \n",
    "pd.DataFrame(results_cross_val)"
   ]
  },
  {
   "cell_type": "markdown",
   "id": "f1021047",
   "metadata": {},
   "source": [
    "#### Первичная и вторичная очистка"
   ]
  },
  {
   "cell_type": "code",
   "execution_count": 39,
   "id": "288548b0",
   "metadata": {},
   "outputs": [],
   "source": [
    "list_columns_final=[]\n",
    "for i in columns_train_test:\n",
    "    if 'primary' in i or 'final' in i:\n",
    "        list_columns_final.append(i)"
   ]
  },
  {
   "cell_type": "code",
   "execution_count": 40,
   "id": "e46dc6dd",
   "metadata": {},
   "outputs": [],
   "source": [
    "features =df_train[list_columns_final]\n",
    "features['rougher.output.recovery']=df_train['rougher.output.recovery']\n",
    "target =df_train['final.output.recovery'] \n",
    "#разделяем на выборку для обучения и тестирования, 25% данных для валидации (теста)\n",
    "features_train_final, features_valid_final, target_train_final, target_valid_final = train_test_split(features, target, test_size=0.25, random_state=2504)"
   ]
  },
  {
   "cell_type": "markdown",
   "id": "18a62dc9",
   "metadata": {},
   "source": [
    "#####  Модель линейной регрессии"
   ]
  },
  {
   "cell_type": "code",
   "execution_count": 41,
   "id": "c67653f8",
   "metadata": {},
   "outputs": [
    {
     "name": "stdout",
     "output_type": "stream",
     "text": [
      "Cреднеквадратичная ошибка RMSE = 6.043\n",
      "Cимметричное среднее абсолютное процентное отклонение sMAPE = 6.377 %\n"
     ]
    }
   ],
   "source": [
    "model_1_1 = LinearRegression() \n",
    "model_1_1.fit(features_train_final,  target_train_final)  \n",
    "predictions_1_1 = model_1_1.predict(features_valid_final) \n",
    "result_1 =math.sqrt(mean_squared_error(target_valid_final, predictions_1_1,squared=True)) \n",
    "print(f'Cреднеквадратичная ошибка RMSE = {result_1:.4}') \n",
    "print(f'Cимметричное среднее абсолютное процентное отклонение sMAPE = {sMAPE(target_valid_final, predictions_1_1):.4} %')"
   ]
  },
  {
   "cell_type": "markdown",
   "id": "9487e1bd",
   "metadata": {},
   "source": [
    "#####  Модель дерева решений"
   ]
  },
  {
   "cell_type": "code",
   "execution_count": 42,
   "id": "63ecf2eb",
   "metadata": {},
   "outputs": [
    {
     "name": "stdout",
     "output_type": "stream",
     "text": [
      "CPU times: user 43.3 s, sys: 60 ms, total: 43.4 s\n",
      "Wall time: 43.4 s\n"
     ]
    },
    {
     "data": {
      "text/plain": [
       "GridSearchCV(cv=5, estimator=DecisionTreeRegressor(),\n",
       "             param_grid={'max_depth': range(1, 11, 2),\n",
       "                         'min_samples_leaf': range(2, 12, 2),\n",
       "                         'min_samples_split': range(1, 10)})"
      ]
     },
     "execution_count": 42,
     "metadata": {},
     "output_type": "execute_result"
    }
   ],
   "source": [
    "%%time\n",
    "model_DTR = DecisionTreeRegressor()\n",
    "parametrs={\n",
    "    'max_depth':range(1,11,2),\n",
    "    'min_samples_split':range(1,10),\n",
    "    'min_samples_leaf':range(2,12,2)\n",
    "}\n",
    "grid_param=GridSearchCV(model_DTR,parametrs,cv=5)\n",
    "grid_param.fit(features_train_final,  target_train_final)\n"
   ]
  },
  {
   "cell_type": "code",
   "execution_count": 43,
   "id": "f461217d",
   "metadata": {},
   "outputs": [
    {
     "data": {
      "text/plain": [
       "{'max_depth': 9, 'min_samples_leaf': 6, 'min_samples_split': 5}"
      ]
     },
     "execution_count": 43,
     "metadata": {},
     "output_type": "execute_result"
    }
   ],
   "source": [
    "grid_param.best_params_"
   ]
  },
  {
   "cell_type": "code",
   "execution_count": 44,
   "id": "34b45316",
   "metadata": {},
   "outputs": [
    {
     "name": "stdout",
     "output_type": "stream",
     "text": [
      "Cреднеквадратичная ошибка RMSE = 6.105\n",
      "Cимметричное среднее абсолютное процентное отклонение sMAPE = 6.169 %\n"
     ]
    }
   ],
   "source": [
    "\n",
    "model_DTR_2_2 = DecisionTreeRegressor(random_state=2504, max_depth=grid_param.best_params_['max_depth']).fit(features_train_final,  target_train_final) \n",
    "predictions_2_2 = model_DTR_2_2.predict(features_valid_final) \n",
    "result_2 =math.sqrt(mean_squared_error(target_valid_final, predictions_2_2,squared=True)) \n",
    "print(f'Cреднеквадратичная ошибка RMSE = {result_2:.4}') # среднеквадратичная ошибка \n",
    "print(f'Cимметричное среднее абсолютное процентное отклонение sMAPE = {sMAPE(target_valid_final, predictions_2_2):.4} %')"
   ]
  },
  {
   "cell_type": "markdown",
   "id": "faa348f3",
   "metadata": {},
   "source": [
    "#####  Модель случайный лес"
   ]
  },
  {
   "cell_type": "code",
   "execution_count": 45,
   "id": "fa848243",
   "metadata": {},
   "outputs": [
    {
     "name": "stdout",
     "output_type": "stream",
     "text": [
      "CPU times: user 6min 7s, sys: 1.08 s, total: 6min 8s\n",
      "Wall time: 6min 8s\n"
     ]
    },
    {
     "data": {
      "text/plain": [
       "GridSearchCV(cv=3, estimator=RandomForestRegressor(),\n",
       "             param_grid={'max_depth': range(20, 25),\n",
       "                         'n_estimators': range(90, 121, 10)})"
      ]
     },
     "execution_count": 45,
     "metadata": {},
     "output_type": "execute_result"
    }
   ],
   "source": [
    "%%time\n",
    "model_RFR = RandomForestRegressor ()\n",
    "parametrs={\n",
    "    'n_estimators':range(90,121,10),\n",
    "    'max_depth':range(20,25,1),\n",
    "}\n",
    "grid_param=GridSearchCV(model_RFR,parametrs,cv=3)\n",
    "grid_param.fit(features_train_final,  target_train_final)\n"
   ]
  },
  {
   "cell_type": "code",
   "execution_count": 46,
   "id": "948d0703",
   "metadata": {},
   "outputs": [
    {
     "data": {
      "text/plain": [
       "{'max_depth': 23, 'n_estimators': 90}"
      ]
     },
     "execution_count": 46,
     "metadata": {},
     "output_type": "execute_result"
    }
   ],
   "source": [
    "grid_param.best_params_"
   ]
  },
  {
   "cell_type": "code",
   "execution_count": 47,
   "id": "a37d62bc",
   "metadata": {},
   "outputs": [
    {
     "name": "stdout",
     "output_type": "stream",
     "text": [
      "Cреднеквадратичная ошибка RMSE = 4.84\n",
      "Cимметричное среднее абсолютное процентное отклонение sMAPE = 4.854 %\n"
     ]
    }
   ],
   "source": [
    "model_RFR_3_3 = RandomForestRegressor(random_state=2504, max_depth=grid_param.best_params_['max_depth'],n_estimators=grid_param.best_params_['n_estimators']).fit(features_train_final,  target_train_final) \n",
    "predictions_3_3 = model_RFR_3_3.predict(features_valid_final)\n",
    "result_3 =math.sqrt(mean_squared_error(target_valid_final, predictions_3_3,squared=True)) \n",
    "print(f'Cреднеквадратичная ошибка RMSE = {result_3:.4}') \n",
    "print(f'Cимметричное среднее абсолютное процентное отклонение sMAPE = {sMAPE(target_valid_final, predictions_3_3):.4} %')"
   ]
  },
  {
   "cell_type": "code",
   "execution_count": 48,
   "id": "88e61ada",
   "metadata": {},
   "outputs": [
    {
     "data": {
      "text/html": [
       "<div>\n",
       "<style scoped>\n",
       "    .dataframe tbody tr th:only-of-type {\n",
       "        vertical-align: middle;\n",
       "    }\n",
       "\n",
       "    .dataframe tbody tr th {\n",
       "        vertical-align: top;\n",
       "    }\n",
       "\n",
       "    .dataframe thead th {\n",
       "        text-align: right;\n",
       "    }\n",
       "</style>\n",
       "<table border=\"1\" class=\"dataframe\">\n",
       "  <thead>\n",
       "    <tr style=\"text-align: right;\">\n",
       "      <th></th>\n",
       "      <th>model name</th>\n",
       "      <th>cross_val_score_rougher</th>\n",
       "    </tr>\n",
       "  </thead>\n",
       "  <tbody>\n",
       "    <tr>\n",
       "      <th>0</th>\n",
       "      <td>LinearRegression</td>\n",
       "      <td>0.423572</td>\n",
       "    </tr>\n",
       "    <tr>\n",
       "      <th>1</th>\n",
       "      <td>DecisionTreeRegressor</td>\n",
       "      <td>0.407007</td>\n",
       "    </tr>\n",
       "    <tr>\n",
       "      <th>2</th>\n",
       "      <td>RandomForestRegressor</td>\n",
       "      <td>0.607334</td>\n",
       "    </tr>\n",
       "  </tbody>\n",
       "</table>\n",
       "</div>"
      ],
      "text/plain": [
       "              model name  cross_val_score_rougher\n",
       "0       LinearRegression                 0.423572\n",
       "1  DecisionTreeRegressor                 0.407007\n",
       "2  RandomForestRegressor                 0.607334"
      ]
     },
     "execution_count": 48,
     "metadata": {},
     "output_type": "execute_result"
    }
   ],
   "source": [
    "random_state = 2504\n",
    "cv = 5\n",
    "models_1 = [model_1_1,\n",
    "          model_DTR_2_2, \n",
    "          model_RFR_3_3, \n",
    "          ]\n",
    "results_cross_val = []\n",
    "\n",
    "for model in models_1: \n",
    "    cross_val_score_rougher = cross_val_score(model, \n",
    "                                              features_train_final, \n",
    "                                              target_train_final, \n",
    "                                              cv=cv).mean()\n",
    "\n",
    "    results_cross_val.append({'model name': model.__class__.__name__, \n",
    "                              'cross_val_score_rougher': cross_val_score_rougher}) \n",
    "              \n",
    "pd.DataFrame(results_cross_val)"
   ]
  },
  {
   "cell_type": "markdown",
   "id": "85810ae8",
   "metadata": {},
   "source": [
    "**Вывод** \n",
    "Проанализировав полученные результаты 3-х моделей, выбор останавливаем на модели случайного леса. Выбранная модель демонстрирует значение параметра RMSE меньше, чем у  большенства моделей, а так же параметр sMAPE минимальный. В ходе кросс валидации модель случайного леса так же показала наилучший результат."
   ]
  },
  {
   "cell_type": "markdown",
   "id": "4b20b622",
   "metadata": {},
   "source": [
    "### Проверка модели на тестовой выборке"
   ]
  },
  {
   "cell_type": "markdown",
   "id": "43d5f7da",
   "metadata": {},
   "source": [
    "#### Флотация"
   ]
  },
  {
   "cell_type": "code",
   "execution_count": 49,
   "id": "da5b1dd1",
   "metadata": {},
   "outputs": [],
   "source": [
    "list_date=df_test['date'] \n",
    "target_test=df_full[df_full['date'].isin(list_date)] \n",
    "target_rougher_test_valid=target_test['rougher.output.recovery'] \n",
    "features_rougher_test =df_test[list_columns_rougher]   "
   ]
  },
  {
   "cell_type": "code",
   "execution_count": 50,
   "id": "0ee5e538",
   "metadata": {},
   "outputs": [],
   "source": [
    "df_test['rougher.output.recovery']=model_RFR_3.predict(features_rougher_test)  "
   ]
  },
  {
   "cell_type": "markdown",
   "id": "1602304b",
   "metadata": {},
   "source": [
    "#### Финальный этап"
   ]
  },
  {
   "cell_type": "code",
   "execution_count": 51,
   "id": "bb6f26a5",
   "metadata": {},
   "outputs": [],
   "source": [
    "target_final_test_valid=target_test['final.output.recovery'] \n",
    "# Признака по списку \n",
    "features_final_test =df_test[list_columns_final]\n",
    "features_final_test['rougher.output.recovery']=df_test['rougher.output.recovery'] "
   ]
  },
  {
   "cell_type": "code",
   "execution_count": 52,
   "id": "831327c3",
   "metadata": {},
   "outputs": [],
   "source": [
    "df_test['final.output.recovery']=model_RFR_3_3.predict(features_final_test)"
   ]
  },
  {
   "cell_type": "code",
   "execution_count": 56,
   "id": "e40a778a",
   "metadata": {},
   "outputs": [
    {
     "name": "stdout",
     "output_type": "stream",
     "text": [
      "8.771567036897794\n",
      "9.760336705613867\n",
      "Итоговые результаты sMAPE = 9.513 %\n"
     ]
    }
   ],
   "source": [
    "#флотация\n",
    "dummy_regressor_rougher = DummyRegressor(strategy=\"median\") \n",
    "dummy_regressor_rougher.fit(features_train_rougher, target_train_rougher) \n",
    "dummy_rougher_pred = dummy_regressor_rougher.predict(features_rougher_test) \n",
    "sMAPE_dummy_rougher = sMAPE(target_rougher_test_valid, dummy_rougher_pred)\n",
    "print(sMAPE_dummy_rougher) \n",
    "# финальный этап\n",
    "dummy_regressor_rougher = DummyRegressor(strategy=\"median\") \n",
    "dummy_regressor_rougher.fit(features_train_final,  target_train_final) \n",
    "dummy_rougher_pred = dummy_regressor_rougher.predict(features_final_test) \n",
    "sMAPE_dummy_final = sMAPE(target_final_test_valid, dummy_rougher_pred)\n",
    "print(sMAPE_dummy_final) \n",
    "\n",
    "print(f'Итоговые результаты sMAPE = {(sMAPE_dummy_rougher*0.25+sMAPE_dummy_final*0.75):.4} %')"
   ]
  },
  {
   "cell_type": "code",
   "execution_count": 57,
   "id": "ac5f7995",
   "metadata": {
    "scrolled": true
   },
   "outputs": [
    {
     "name": "stdout",
     "output_type": "stream",
     "text": [
      "Cреднеквадратичная ошибка RMSE после флотации= 12.58\n",
      "Cреднеквадратичная ошибка RMSE финал= 9.417\n",
      "Итоговые результаты sMAPE = 1.038 %\n"
     ]
    }
   ],
   "source": [
    "#флотация\n",
    "sMAPE_1=sMAPE(target_rougher_test_valid,df_test['rougher.output.recovery'])\n",
    "result=math.sqrt(mean_squared_error(target_rougher_test_valid,df_test['rougher.output.recovery'],squared=True)) \n",
    "print(f'Cреднеквадратичная ошибка RMSE после флотации= {result:.4}') # среднеквадратичная ошибка \n",
    "# финальный этап\n",
    "sMAPE_2=sMAPE(target_final_test_valid,df_test['final.output.recovery'])\n",
    "result=math.sqrt(mean_squared_error(target_final_test_valid,df_test['final.output.recovery'],squared=True)) \n",
    "print(f'Cреднеквадратичная ошибка RMSE финал= {result:.4}') # среднеквадратичная ошибка \n",
    "\n",
    "print(f'Итоговые результаты sMAPE = {(sMAPE_1*0.25+sMAPE_2*0.75):.4} %')"
   ]
  },
  {
   "cell_type": "code",
   "execution_count": 58,
   "id": "ec6cedc9",
   "metadata": {},
   "outputs": [
    {
     "data": {
      "text/plain": [
       "10.207"
      ]
     },
     "execution_count": 58,
     "metadata": {},
     "output_type": "execute_result"
    }
   ],
   "source": [
    "12.58*0.25 + 9.416*0.75"
   ]
  },
  {
   "cell_type": "markdown",
   "id": "b707f670",
   "metadata": {},
   "source": [
    "## Вывод\n",
    "\n",
    "В игоге результат был достигнут  с метрикой симметричное среднее абсолютное процентное отклонение в 1%.Полученное значение меньше чем у константной модели, которая имеет отклонение в 9.5%. Таким образом можно судить о адекватности полученных результатов. "
   ]
  }
 ],
 "metadata": {
  "ExecuteTimeLog": [
   {
    "duration": 1000,
    "start_time": "2022-06-04T04:32:18.826Z"
   },
   {
    "duration": 120,
    "start_time": "2022-06-04T04:32:20.147Z"
   },
   {
    "duration": 286,
    "start_time": "2022-06-04T04:32:39.215Z"
   },
   {
    "duration": 328,
    "start_time": "2022-06-04T04:33:06.423Z"
   },
   {
    "duration": 216,
    "start_time": "2022-06-04T04:33:21.616Z"
   },
   {
    "duration": 477,
    "start_time": "2022-06-04T04:33:38.904Z"
   },
   {
    "duration": 28,
    "start_time": "2022-06-04T04:33:40.010Z"
   },
   {
    "duration": 15,
    "start_time": "2022-06-04T04:33:41.158Z"
   },
   {
    "duration": 393,
    "start_time": "2022-06-04T04:33:53.446Z"
   },
   {
    "duration": 111,
    "start_time": "2022-06-04T04:33:57.049Z"
   },
   {
    "duration": 9,
    "start_time": "2022-06-04T04:34:36.821Z"
   },
   {
    "duration": 8,
    "start_time": "2022-06-04T04:37:04.905Z"
   },
   {
    "duration": 15,
    "start_time": "2022-06-04T04:38:16.675Z"
   },
   {
    "duration": 5,
    "start_time": "2022-06-04T04:39:18.493Z"
   },
   {
    "duration": 585,
    "start_time": "2022-06-04T04:39:19.107Z"
   },
   {
    "duration": 206,
    "start_time": "2022-06-04T04:39:19.737Z"
   },
   {
    "duration": 201,
    "start_time": "2022-06-04T04:39:20.450Z"
   },
   {
    "duration": 207,
    "start_time": "2022-06-04T04:39:21.393Z"
   },
   {
    "duration": 206,
    "start_time": "2022-06-04T04:39:22.507Z"
   },
   {
    "duration": 223,
    "start_time": "2022-06-04T04:39:23.062Z"
   },
   {
    "duration": 208,
    "start_time": "2022-06-04T04:39:23.716Z"
   },
   {
    "duration": 202,
    "start_time": "2022-06-04T04:39:24.349Z"
   },
   {
    "duration": 254,
    "start_time": "2022-06-04T04:39:24.745Z"
   },
   {
    "duration": 487,
    "start_time": "2022-06-04T04:44:57.065Z"
   },
   {
    "duration": 208,
    "start_time": "2022-06-04T04:45:20.799Z"
   },
   {
    "duration": 226,
    "start_time": "2022-06-04T04:45:22.317Z"
   },
   {
    "duration": 206,
    "start_time": "2022-06-04T04:45:25.133Z"
   },
   {
    "duration": 5,
    "start_time": "2022-06-04T04:48:20.141Z"
   },
   {
    "duration": 2,
    "start_time": "2022-06-04T04:49:52.421Z"
   },
   {
    "duration": 9,
    "start_time": "2022-06-04T04:49:52.779Z"
   },
   {
    "duration": 4,
    "start_time": "2022-06-04T04:49:53.356Z"
   },
   {
    "duration": 20,
    "start_time": "2022-06-04T04:50:29.009Z"
   },
   {
    "duration": 4,
    "start_time": "2022-06-04T04:50:49.207Z"
   },
   {
    "duration": 19,
    "start_time": "2022-06-04T04:50:50.207Z"
   },
   {
    "duration": 28,
    "start_time": "2022-06-04T04:51:01.907Z"
   },
   {
    "duration": 9,
    "start_time": "2022-06-04T04:51:27.710Z"
   },
   {
    "duration": 3,
    "start_time": "2022-06-04T04:51:45.155Z"
   },
   {
    "duration": 544,
    "start_time": "2022-06-04T04:51:55.614Z"
   },
   {
    "duration": 9,
    "start_time": "2022-06-04T04:52:32.712Z"
   },
   {
    "duration": 463,
    "start_time": "2022-06-04T04:56:27.615Z"
   },
   {
    "duration": 44,
    "start_time": "2022-06-04T17:32:39.615Z"
   },
   {
    "duration": 54,
    "start_time": "2022-06-04T17:33:02.303Z"
   },
   {
    "duration": 1077,
    "start_time": "2022-06-04T17:35:37.606Z"
   },
   {
    "duration": 899,
    "start_time": "2022-06-04T17:35:39.308Z"
   },
   {
    "duration": 322,
    "start_time": "2022-06-04T17:35:47.017Z"
   },
   {
    "duration": 145,
    "start_time": "2022-06-04T17:35:49.732Z"
   },
   {
    "duration": 430,
    "start_time": "2022-06-04T17:35:58.465Z"
   },
   {
    "duration": 28,
    "start_time": "2022-06-04T17:35:58.897Z"
   },
   {
    "duration": 64,
    "start_time": "2022-06-04T17:36:19.933Z"
   },
   {
    "duration": 140,
    "start_time": "2022-06-04T17:36:24.562Z"
   },
   {
    "duration": 12,
    "start_time": "2022-06-04T17:36:25.329Z"
   },
   {
    "duration": 31,
    "start_time": "2022-06-04T17:36:59.353Z"
   },
   {
    "duration": 31,
    "start_time": "2022-06-04T17:37:05.160Z"
   },
   {
    "duration": 1812,
    "start_time": "2022-06-04T17:37:05.802Z"
   },
   {
    "duration": 113,
    "start_time": "2022-06-04T17:37:07.616Z"
   },
   {
    "duration": 8,
    "start_time": "2022-06-04T17:37:07.731Z"
   },
   {
    "duration": 8,
    "start_time": "2022-06-04T17:37:11.593Z"
   },
   {
    "duration": 15,
    "start_time": "2022-06-04T17:37:16.953Z"
   },
   {
    "duration": 4,
    "start_time": "2022-06-04T17:37:18.041Z"
   },
   {
    "duration": 772,
    "start_time": "2022-06-04T17:37:18.609Z"
   },
   {
    "duration": 220,
    "start_time": "2022-06-04T17:37:19.384Z"
   },
   {
    "duration": 199,
    "start_time": "2022-06-04T17:37:19.709Z"
   },
   {
    "duration": 192,
    "start_time": "2022-06-04T17:37:20.165Z"
   },
   {
    "duration": 224,
    "start_time": "2022-06-04T17:37:20.652Z"
   },
   {
    "duration": 215,
    "start_time": "2022-06-04T17:37:21.153Z"
   },
   {
    "duration": 219,
    "start_time": "2022-06-04T17:37:21.701Z"
   },
   {
    "duration": 201,
    "start_time": "2022-06-04T17:37:22.407Z"
   },
   {
    "duration": 209,
    "start_time": "2022-06-04T17:37:23.928Z"
   },
   {
    "duration": 577,
    "start_time": "2022-06-04T17:37:27.628Z"
   },
   {
    "duration": 191,
    "start_time": "2022-06-04T17:37:29.610Z"
   },
   {
    "duration": 216,
    "start_time": "2022-06-04T17:37:30.805Z"
   },
   {
    "duration": 218,
    "start_time": "2022-06-04T17:37:32.921Z"
   },
   {
    "duration": 4,
    "start_time": "2022-06-04T17:41:25.097Z"
   },
   {
    "duration": 298,
    "start_time": "2022-06-04T17:41:25.797Z"
   },
   {
    "duration": 136,
    "start_time": "2022-06-04T17:41:27.797Z"
   },
   {
    "duration": 148,
    "start_time": "2022-06-04T17:41:38.621Z"
   },
   {
    "duration": 136,
    "start_time": "2022-06-04T17:42:07.152Z"
   },
   {
    "duration": 142,
    "start_time": "2022-06-04T17:42:17.605Z"
   },
   {
    "duration": 118,
    "start_time": "2022-06-04T17:42:22.405Z"
   },
   {
    "duration": 28,
    "start_time": "2022-06-04T17:42:23.544Z"
   },
   {
    "duration": 35,
    "start_time": "2022-06-04T17:42:50.297Z"
   },
   {
    "duration": 426,
    "start_time": "2022-06-04T17:42:50.949Z"
   },
   {
    "duration": 127,
    "start_time": "2022-06-04T17:42:51.378Z"
   },
   {
    "duration": 8,
    "start_time": "2022-06-04T17:42:53.508Z"
   },
   {
    "duration": 10,
    "start_time": "2022-06-04T17:42:54.417Z"
   },
   {
    "duration": 17,
    "start_time": "2022-06-04T17:42:56.245Z"
   },
   {
    "duration": 6,
    "start_time": "2022-06-04T17:42:57.193Z"
   },
   {
    "duration": 212,
    "start_time": "2022-06-04T17:42:58.237Z"
   },
   {
    "duration": 216,
    "start_time": "2022-06-04T17:42:58.757Z"
   },
   {
    "duration": 253,
    "start_time": "2022-06-04T17:42:59.222Z"
   },
   {
    "duration": 214,
    "start_time": "2022-06-04T17:42:59.649Z"
   },
   {
    "duration": 241,
    "start_time": "2022-06-04T17:43:00.049Z"
   },
   {
    "duration": 389,
    "start_time": "2022-06-04T17:43:00.537Z"
   },
   {
    "duration": 225,
    "start_time": "2022-06-04T17:43:01.001Z"
   },
   {
    "duration": 218,
    "start_time": "2022-06-04T17:43:09.856Z"
   },
   {
    "duration": 209,
    "start_time": "2022-06-04T17:43:10.953Z"
   },
   {
    "duration": 412,
    "start_time": "2022-06-04T17:43:13.905Z"
   },
   {
    "duration": 203,
    "start_time": "2022-06-04T17:43:16.101Z"
   },
   {
    "duration": 222,
    "start_time": "2022-06-04T17:43:16.648Z"
   },
   {
    "duration": 231,
    "start_time": "2022-06-04T17:43:18.145Z"
   },
   {
    "duration": 147,
    "start_time": "2022-06-04T17:44:44.337Z"
   },
   {
    "duration": 306,
    "start_time": "2022-06-04T17:44:47.729Z"
   },
   {
    "duration": 137,
    "start_time": "2022-06-04T17:44:49.436Z"
   },
   {
    "duration": 365,
    "start_time": "2022-06-04T17:47:24.307Z"
   },
   {
    "duration": 85,
    "start_time": "2022-06-04T17:47:26.341Z"
   },
   {
    "duration": 119,
    "start_time": "2022-06-04T17:47:33.517Z"
   },
   {
    "duration": 28,
    "start_time": "2022-06-04T17:47:33.821Z"
   },
   {
    "duration": 452,
    "start_time": "2022-06-04T17:47:34.493Z"
   },
   {
    "duration": 115,
    "start_time": "2022-06-04T17:47:34.948Z"
   },
   {
    "duration": 8,
    "start_time": "2022-06-04T17:47:36.897Z"
   },
   {
    "duration": 8,
    "start_time": "2022-06-04T17:47:38.049Z"
   },
   {
    "duration": 11,
    "start_time": "2022-06-04T17:47:40.001Z"
   },
   {
    "duration": 4,
    "start_time": "2022-06-04T17:47:40.745Z"
   },
   {
    "duration": 201,
    "start_time": "2022-06-04T17:47:41.513Z"
   },
   {
    "duration": 6,
    "start_time": "2022-06-04T17:49:34.300Z"
   },
   {
    "duration": 28,
    "start_time": "2022-06-04T17:50:03.801Z"
   },
   {
    "duration": 458,
    "start_time": "2022-06-04T17:52:32.497Z"
   },
   {
    "duration": 110,
    "start_time": "2022-06-04T17:52:39.957Z"
   },
   {
    "duration": 34,
    "start_time": "2022-06-04T17:52:40.629Z"
   },
   {
    "duration": 384,
    "start_time": "2022-06-04T17:53:54.248Z"
   },
   {
    "duration": 80,
    "start_time": "2022-06-04T17:53:55.644Z"
   },
   {
    "duration": 28,
    "start_time": "2022-06-04T17:53:56.304Z"
   },
   {
    "duration": 351,
    "start_time": "2022-06-04T18:00:33.307Z"
   },
   {
    "duration": 434,
    "start_time": "2022-06-04T18:00:38.659Z"
   },
   {
    "duration": 83,
    "start_time": "2022-06-04T18:02:47.592Z"
   },
   {
    "duration": 350,
    "start_time": "2022-06-04T18:04:00.115Z"
   },
   {
    "duration": 135,
    "start_time": "2022-06-04T18:04:01.506Z"
   },
   {
    "duration": 13,
    "start_time": "2022-06-04T18:04:02.392Z"
   },
   {
    "duration": 115,
    "start_time": "2022-06-04T18:06:10.410Z"
   },
   {
    "duration": 18,
    "start_time": "2022-06-04T18:06:10.635Z"
   },
   {
    "duration": 126,
    "start_time": "2022-06-04T18:06:11.111Z"
   },
   {
    "duration": 32,
    "start_time": "2022-06-04T18:06:11.355Z"
   },
   {
    "duration": 423,
    "start_time": "2022-06-04T18:06:12.495Z"
   },
   {
    "duration": 120,
    "start_time": "2022-06-04T18:06:12.920Z"
   },
   {
    "duration": 9,
    "start_time": "2022-06-04T18:06:21.244Z"
   },
   {
    "duration": 9,
    "start_time": "2022-06-04T18:06:23.306Z"
   },
   {
    "duration": 3,
    "start_time": "2022-06-04T18:06:41.842Z"
   },
   {
    "duration": 4,
    "start_time": "2022-06-04T18:06:43.200Z"
   },
   {
    "duration": 20,
    "start_time": "2022-06-04T18:06:44.591Z"
   },
   {
    "duration": 19,
    "start_time": "2022-06-04T18:06:55.127Z"
   },
   {
    "duration": 207,
    "start_time": "2022-06-04T18:06:56.723Z"
   },
   {
    "duration": 292,
    "start_time": "2022-06-04T18:07:01.163Z"
   },
   {
    "duration": 224,
    "start_time": "2022-06-04T18:07:04.291Z"
   },
   {
    "duration": 215,
    "start_time": "2022-06-04T18:07:06.299Z"
   },
   {
    "duration": 13,
    "start_time": "2022-06-04T18:07:27.809Z"
   },
   {
    "duration": 210,
    "start_time": "2022-06-04T18:07:40.491Z"
   },
   {
    "duration": 216,
    "start_time": "2022-06-04T18:07:41.247Z"
   },
   {
    "duration": 281,
    "start_time": "2022-06-04T18:07:42.763Z"
   },
   {
    "duration": 210,
    "start_time": "2022-06-04T18:07:44.131Z"
   },
   {
    "duration": 198,
    "start_time": "2022-06-04T18:07:45.407Z"
   },
   {
    "duration": 226,
    "start_time": "2022-06-04T18:07:46.595Z"
   },
   {
    "duration": 318,
    "start_time": "2022-06-04T18:07:47.835Z"
   },
   {
    "duration": 450,
    "start_time": "2022-06-04T18:07:51.751Z"
   },
   {
    "duration": 177,
    "start_time": "2022-06-04T18:07:55.858Z"
   },
   {
    "duration": 265,
    "start_time": "2022-06-04T18:07:57.214Z"
   },
   {
    "duration": 221,
    "start_time": "2022-06-04T18:07:58.716Z"
   },
   {
    "duration": 21,
    "start_time": "2022-06-04T18:08:50.389Z"
   },
   {
    "duration": 4,
    "start_time": "2022-06-04T18:28:59.341Z"
   },
   {
    "duration": 4,
    "start_time": "2022-06-04T18:29:02.786Z"
   },
   {
    "duration": 11,
    "start_time": "2022-06-04T18:29:03.598Z"
   },
   {
    "duration": 5,
    "start_time": "2022-06-04T18:29:04.662Z"
   },
   {
    "duration": 170,
    "start_time": "2022-06-04T18:29:22.561Z"
   },
   {
    "duration": 68129,
    "start_time": "2022-06-04T18:29:28.202Z"
   },
   {
    "duration": 5,
    "start_time": "2022-06-04T18:30:36.333Z"
   },
   {
    "duration": 157,
    "start_time": "2022-06-04T18:30:36.340Z"
   },
   {
    "duration": 41,
    "start_time": "2022-06-04T18:33:14.044Z"
   },
   {
    "duration": 28,
    "start_time": "2022-06-04T18:33:17.511Z"
   },
   {
    "duration": 434271,
    "start_time": "2022-06-04T18:33:24.052Z"
   },
   {
    "duration": 5,
    "start_time": "2022-06-04T18:40:38.326Z"
   },
   {
    "duration": 12699,
    "start_time": "2022-06-04T18:40:38.332Z"
   },
   {
    "duration": 5,
    "start_time": "2022-06-04T18:42:54.483Z"
   },
   {
    "duration": 10,
    "start_time": "2022-06-04T18:42:54.846Z"
   },
   {
    "duration": 9,
    "start_time": "2022-06-04T18:43:02.018Z"
   },
   {
    "duration": 16,
    "start_time": "2022-06-04T18:43:04.791Z"
   },
   {
    "duration": 5,
    "start_time": "2022-06-04T18:43:34.486Z"
   },
   {
    "duration": 9,
    "start_time": "2022-06-04T18:43:35.326Z"
   },
   {
    "duration": 19,
    "start_time": "2022-06-04T18:43:36.383Z"
   },
   {
    "duration": 40973,
    "start_time": "2022-06-04T18:43:37.754Z"
   },
   {
    "duration": 4,
    "start_time": "2022-06-04T18:44:18.729Z"
   },
   {
    "duration": 115,
    "start_time": "2022-06-04T18:44:18.734Z"
   },
   {
    "duration": 359916,
    "start_time": "2022-06-04T18:44:18.851Z"
   },
   {
    "duration": 5,
    "start_time": "2022-06-04T18:50:18.769Z"
   },
   {
    "duration": 9767,
    "start_time": "2022-06-04T18:50:18.777Z"
   },
   {
    "duration": 218,
    "start_time": "2022-06-04T20:18:39.518Z"
   },
   {
    "duration": 305,
    "start_time": "2022-06-04T20:19:07.319Z"
   },
   {
    "duration": 13611,
    "start_time": "2022-06-04T20:19:57.941Z"
   },
   {
    "duration": 12,
    "start_time": "2022-06-04T20:30:18.086Z"
   },
   {
    "duration": 13,
    "start_time": "2022-06-04T20:30:45.725Z"
   },
   {
    "duration": 5,
    "start_time": "2022-06-04T20:31:48.960Z"
   },
   {
    "duration": 11,
    "start_time": "2022-06-04T20:32:12.285Z"
   },
   {
    "duration": 53176,
    "start_time": "2022-06-04T20:32:23.450Z"
   },
   {
    "duration": 5,
    "start_time": "2022-06-04T20:34:10.680Z"
   },
   {
    "duration": 10,
    "start_time": "2022-06-04T20:40:08.880Z"
   },
   {
    "duration": 184,
    "start_time": "2022-06-04T20:40:16.052Z"
   },
   {
    "duration": 4713,
    "start_time": "2022-06-04T20:40:16.648Z"
   },
   {
    "duration": 11,
    "start_time": "2022-06-04T20:40:21.363Z"
   },
   {
    "duration": 153,
    "start_time": "2022-06-04T20:40:22.974Z"
   },
   {
    "duration": 13,
    "start_time": "2022-06-04T20:40:26.100Z"
   },
   {
    "duration": 44574,
    "start_time": "2022-06-04T20:40:28.407Z"
   },
   {
    "duration": 4,
    "start_time": "2022-06-04T20:41:12.983Z"
   },
   {
    "duration": 118,
    "start_time": "2022-06-04T20:41:12.989Z"
   },
   {
    "duration": 361316,
    "start_time": "2022-06-04T20:41:13.110Z"
   },
   {
    "duration": 5,
    "start_time": "2022-06-04T20:47:14.429Z"
   },
   {
    "duration": 7758,
    "start_time": "2022-06-04T20:47:14.436Z"
   },
   {
    "duration": 32335,
    "start_time": "2022-06-04T20:47:22.196Z"
   },
   {
    "duration": 22,
    "start_time": "2022-06-04T20:53:36.680Z"
   },
   {
    "duration": 10,
    "start_time": "2022-06-04T20:53:50.688Z"
   },
   {
    "duration": 163,
    "start_time": "2022-06-04T20:53:56.008Z"
   },
   {
    "duration": 207,
    "start_time": "2022-06-04T20:54:34.323Z"
   },
   {
    "duration": 7,
    "start_time": "2022-06-04T20:54:54.791Z"
   },
   {
    "duration": 10,
    "start_time": "2022-06-04T20:55:11.152Z"
   },
   {
    "duration": 12,
    "start_time": "2022-06-04T20:55:44.841Z"
   },
   {
    "duration": 9,
    "start_time": "2022-06-04T20:56:30.537Z"
   },
   {
    "duration": 6,
    "start_time": "2022-06-04T20:57:31.625Z"
   },
   {
    "duration": 24,
    "start_time": "2022-06-04T20:57:40.289Z"
   },
   {
    "duration": 5,
    "start_time": "2022-06-04T20:58:21.005Z"
   },
   {
    "duration": 3,
    "start_time": "2022-06-04T20:58:26.093Z"
   },
   {
    "duration": 35,
    "start_time": "2022-06-04T20:58:43.379Z"
   },
   {
    "duration": 3,
    "start_time": "2022-06-04T20:59:55.198Z"
   },
   {
    "duration": 38,
    "start_time": "2022-06-04T21:00:00.314Z"
   },
   {
    "duration": 13,
    "start_time": "2022-06-04T21:07:49.735Z"
   },
   {
    "duration": 1107,
    "start_time": "2022-06-04T21:10:02.493Z"
   },
   {
    "duration": 13,
    "start_time": "2022-06-04T21:10:17.115Z"
   },
   {
    "duration": 5,
    "start_time": "2022-06-04T21:11:23.684Z"
   },
   {
    "duration": 28,
    "start_time": "2022-06-04T21:11:37.520Z"
   },
   {
    "duration": 13,
    "start_time": "2022-06-04T21:12:17.664Z"
   },
   {
    "duration": 18,
    "start_time": "2022-06-04T21:12:34.444Z"
   },
   {
    "duration": 5,
    "start_time": "2022-06-04T21:12:55.979Z"
   },
   {
    "duration": 4,
    "start_time": "2022-06-04T21:13:02.662Z"
   },
   {
    "duration": 10,
    "start_time": "2022-06-04T21:20:04.519Z"
   },
   {
    "duration": 35,
    "start_time": "2022-06-04T21:20:16.227Z"
   },
   {
    "duration": 34,
    "start_time": "2022-06-04T21:20:39.799Z"
   },
   {
    "duration": 11,
    "start_time": "2022-06-04T21:21:02.763Z"
   },
   {
    "duration": 7,
    "start_time": "2022-06-04T21:24:15.638Z"
   },
   {
    "duration": 5,
    "start_time": "2022-06-04T21:24:20.942Z"
   },
   {
    "duration": 11,
    "start_time": "2022-06-04T21:24:21.462Z"
   },
   {
    "duration": 180,
    "start_time": "2022-06-04T21:24:21.692Z"
   },
   {
    "duration": 183,
    "start_time": "2022-06-04T21:24:22.154Z"
   },
   {
    "duration": 187,
    "start_time": "2022-06-04T21:24:22.621Z"
   },
   {
    "duration": 186,
    "start_time": "2022-06-04T21:24:23.054Z"
   },
   {
    "duration": 215,
    "start_time": "2022-06-04T21:24:23.489Z"
   },
   {
    "duration": 182,
    "start_time": "2022-06-04T21:24:23.918Z"
   },
   {
    "duration": 178,
    "start_time": "2022-06-04T21:24:24.953Z"
   },
   {
    "duration": 201,
    "start_time": "2022-06-04T21:24:25.431Z"
   },
   {
    "duration": 176,
    "start_time": "2022-06-04T21:24:26.394Z"
   },
   {
    "duration": 503,
    "start_time": "2022-06-04T21:24:30.126Z"
   },
   {
    "duration": 191,
    "start_time": "2022-06-04T21:24:31.162Z"
   },
   {
    "duration": 204,
    "start_time": "2022-06-04T21:24:32.494Z"
   },
   {
    "duration": 187,
    "start_time": "2022-06-04T21:24:33.051Z"
   },
   {
    "duration": 3,
    "start_time": "2022-06-04T21:24:43.118Z"
   },
   {
    "duration": 3,
    "start_time": "2022-06-04T21:24:45.357Z"
   },
   {
    "duration": 7,
    "start_time": "2022-06-04T21:28:22.901Z"
   },
   {
    "duration": 5,
    "start_time": "2022-06-04T21:29:24.708Z"
   },
   {
    "duration": 2,
    "start_time": "2022-06-04T21:30:42.493Z"
   },
   {
    "duration": 15,
    "start_time": "2022-06-04T21:30:55.816Z"
   },
   {
    "duration": 31,
    "start_time": "2022-06-04T21:31:03.968Z"
   },
   {
    "duration": 26,
    "start_time": "2022-06-04T21:31:14.944Z"
   },
   {
    "duration": 392,
    "start_time": "2022-06-04T21:34:31.264Z"
   },
   {
    "duration": 374,
    "start_time": "2022-06-04T21:34:56.936Z"
   },
   {
    "duration": 5,
    "start_time": "2022-06-04T21:34:57.315Z"
   },
   {
    "duration": 13,
    "start_time": "2022-06-04T21:35:41.859Z"
   },
   {
    "duration": 4,
    "start_time": "2022-06-04T21:35:50.568Z"
   },
   {
    "duration": 325,
    "start_time": "2022-06-04T21:35:51.097Z"
   },
   {
    "duration": 108,
    "start_time": "2022-06-04T21:35:51.604Z"
   },
   {
    "duration": 13,
    "start_time": "2022-06-04T21:35:51.856Z"
   },
   {
    "duration": 116,
    "start_time": "2022-06-04T21:35:52.340Z"
   },
   {
    "duration": 28,
    "start_time": "2022-06-04T21:35:52.592Z"
   },
   {
    "duration": 400,
    "start_time": "2022-06-04T21:35:53.097Z"
   },
   {
    "duration": 102,
    "start_time": "2022-06-04T21:35:53.499Z"
   },
   {
    "duration": 8,
    "start_time": "2022-06-04T21:35:54.636Z"
   },
   {
    "duration": 8,
    "start_time": "2022-06-04T21:35:55.748Z"
   },
   {
    "duration": 9,
    "start_time": "2022-06-04T21:35:56.796Z"
   },
   {
    "duration": 4,
    "start_time": "2022-06-04T21:35:58.757Z"
   },
   {
    "duration": 11,
    "start_time": "2022-06-04T21:36:01.660Z"
   },
   {
    "duration": 324,
    "start_time": "2022-06-04T21:36:08.408Z"
   },
   {
    "duration": 330,
    "start_time": "2022-06-04T21:36:23.840Z"
   },
   {
    "duration": 327,
    "start_time": "2022-06-04T21:36:36.531Z"
   },
   {
    "duration": 23,
    "start_time": "2022-06-04T21:36:56.036Z"
   },
   {
    "duration": 24,
    "start_time": "2022-06-04T21:37:46.752Z"
   },
   {
    "duration": 1035,
    "start_time": "2022-06-05T09:02:43.602Z"
   },
   {
    "duration": 1395,
    "start_time": "2022-06-05T09:02:44.639Z"
   },
   {
    "duration": 136,
    "start_time": "2022-06-05T09:02:46.036Z"
   },
   {
    "duration": 29,
    "start_time": "2022-06-05T09:02:46.174Z"
   },
   {
    "duration": 219,
    "start_time": "2022-06-05T09:02:46.205Z"
   },
   {
    "duration": 27,
    "start_time": "2022-06-05T09:02:46.425Z"
   },
   {
    "duration": 674,
    "start_time": "2022-06-05T09:02:46.454Z"
   },
   {
    "duration": 131,
    "start_time": "2022-06-05T09:02:47.130Z"
   },
   {
    "duration": 9,
    "start_time": "2022-06-05T09:02:47.262Z"
   },
   {
    "duration": 32,
    "start_time": "2022-06-05T09:02:47.273Z"
   },
   {
    "duration": 17,
    "start_time": "2022-06-05T09:02:47.307Z"
   },
   {
    "duration": 4,
    "start_time": "2022-06-05T09:02:47.326Z"
   },
   {
    "duration": 17,
    "start_time": "2022-06-05T09:02:47.332Z"
   },
   {
    "duration": 765,
    "start_time": "2022-06-05T09:02:47.352Z"
   },
   {
    "duration": 299,
    "start_time": "2022-06-05T09:02:48.119Z"
   },
   {
    "duration": 308,
    "start_time": "2022-06-05T09:02:48.420Z"
   },
   {
    "duration": 240,
    "start_time": "2022-06-05T09:02:48.729Z"
   },
   {
    "duration": 307,
    "start_time": "2022-06-05T09:02:48.971Z"
   },
   {
    "duration": 335,
    "start_time": "2022-06-05T09:02:49.281Z"
   },
   {
    "duration": 245,
    "start_time": "2022-06-05T09:02:49.618Z"
   },
   {
    "duration": 270,
    "start_time": "2022-06-05T09:02:49.865Z"
   },
   {
    "duration": 262,
    "start_time": "2022-06-05T09:02:50.137Z"
   },
   {
    "duration": 581,
    "start_time": "2022-06-05T09:02:50.406Z"
   },
   {
    "duration": 225,
    "start_time": "2022-06-05T09:02:50.988Z"
   },
   {
    "duration": 259,
    "start_time": "2022-06-05T09:02:51.214Z"
   },
   {
    "duration": 252,
    "start_time": "2022-06-05T09:02:51.474Z"
   },
   {
    "duration": 4,
    "start_time": "2022-06-05T09:02:51.727Z"
   },
   {
    "duration": 7,
    "start_time": "2022-06-05T09:02:51.732Z"
   },
   {
    "duration": 11,
    "start_time": "2022-06-05T09:02:51.740Z"
   },
   {
    "duration": 2,
    "start_time": "2022-06-05T09:02:51.753Z"
   },
   {
    "duration": 237,
    "start_time": "2022-06-05T09:02:51.757Z"
   },
   {
    "duration": 80991,
    "start_time": "2022-06-05T09:02:51.996Z"
   },
   {
    "duration": 6,
    "start_time": "2022-06-05T09:04:12.990Z"
   },
   {
    "duration": 188,
    "start_time": "2022-06-05T09:04:12.998Z"
   },
   {
    "duration": 520530,
    "start_time": "2022-06-05T09:04:13.190Z"
   },
   {
    "duration": 4,
    "start_time": "2022-06-05T09:12:53.722Z"
   },
   {
    "duration": 15498,
    "start_time": "2022-06-05T09:12:53.728Z"
   },
   {
    "duration": 62424,
    "start_time": "2022-06-05T09:13:09.228Z"
   },
   {
    "duration": 4,
    "start_time": "2022-06-05T09:14:11.653Z"
   },
   {
    "duration": 14,
    "start_time": "2022-06-05T09:14:11.659Z"
   },
   {
    "duration": 128,
    "start_time": "2022-06-05T09:14:11.677Z"
   },
   {
    "duration": 48054,
    "start_time": "2022-06-05T09:14:11.889Z"
   },
   {
    "duration": 4,
    "start_time": "2022-06-05T09:14:59.945Z"
   },
   {
    "duration": 119,
    "start_time": "2022-06-05T09:14:59.951Z"
   },
   {
    "duration": 417214,
    "start_time": "2022-06-05T09:15:00.071Z"
   },
   {
    "duration": 5,
    "start_time": "2022-06-05T09:21:57.286Z"
   },
   {
    "duration": 11658,
    "start_time": "2022-06-05T09:21:57.298Z"
   },
   {
    "duration": 45544,
    "start_time": "2022-06-05T09:22:08.958Z"
   },
   {
    "duration": 134,
    "start_time": "2022-06-05T09:22:54.504Z"
   },
   {
    "duration": 0,
    "start_time": "2022-06-05T09:22:54.639Z"
   },
   {
    "duration": 0,
    "start_time": "2022-06-05T09:22:54.640Z"
   },
   {
    "duration": 0,
    "start_time": "2022-06-05T09:22:54.642Z"
   },
   {
    "duration": 0,
    "start_time": "2022-06-05T09:22:54.643Z"
   },
   {
    "duration": 0,
    "start_time": "2022-06-05T09:22:54.644Z"
   },
   {
    "duration": 0,
    "start_time": "2022-06-05T09:22:54.645Z"
   },
   {
    "duration": 0,
    "start_time": "2022-06-05T09:22:54.646Z"
   },
   {
    "duration": 10,
    "start_time": "2022-06-05T09:26:40.763Z"
   },
   {
    "duration": 12,
    "start_time": "2022-06-05T09:26:53.908Z"
   },
   {
    "duration": 30,
    "start_time": "2022-06-05T09:28:15.839Z"
   },
   {
    "duration": 3,
    "start_time": "2022-06-05T09:28:53.747Z"
   },
   {
    "duration": 78,
    "start_time": "2022-06-05T09:31:33.218Z"
   },
   {
    "duration": 161,
    "start_time": "2022-06-05T09:31:49.987Z"
   },
   {
    "duration": 88,
    "start_time": "2022-06-05T09:31:50.887Z"
   },
   {
    "duration": 175,
    "start_time": "2022-06-05T09:32:20.384Z"
   },
   {
    "duration": 34,
    "start_time": "2022-06-05T09:32:20.759Z"
   },
   {
    "duration": 39,
    "start_time": "2022-06-05T09:33:56.755Z"
   },
   {
    "duration": 3,
    "start_time": "2022-06-05T09:34:42.043Z"
   },
   {
    "duration": 43,
    "start_time": "2022-06-05T09:35:49.386Z"
   },
   {
    "duration": 50,
    "start_time": "2022-06-05T09:36:32.787Z"
   },
   {
    "duration": 38,
    "start_time": "2022-06-05T09:36:48.777Z"
   },
   {
    "duration": 63,
    "start_time": "2022-06-05T09:37:27.659Z"
   },
   {
    "duration": 7,
    "start_time": "2022-06-05T09:38:03.239Z"
   },
   {
    "duration": 11,
    "start_time": "2022-06-05T09:39:20.845Z"
   },
   {
    "duration": 10,
    "start_time": "2022-06-05T09:46:47.338Z"
   },
   {
    "duration": 631,
    "start_time": "2022-06-05T09:47:51.572Z"
   },
   {
    "duration": 9,
    "start_time": "2022-06-05T10:03:06.907Z"
   },
   {
    "duration": 81,
    "start_time": "2022-06-05T10:03:07.306Z"
   },
   {
    "duration": 7,
    "start_time": "2022-06-05T10:04:11.888Z"
   },
   {
    "duration": 103,
    "start_time": "2022-06-05T10:04:41.161Z"
   },
   {
    "duration": 11,
    "start_time": "2022-06-05T10:07:53.932Z"
   },
   {
    "duration": 11,
    "start_time": "2022-06-05T10:12:05.852Z"
   },
   {
    "duration": 10,
    "start_time": "2022-06-05T10:12:15.112Z"
   },
   {
    "duration": 83,
    "start_time": "2022-06-05T10:12:15.435Z"
   },
   {
    "duration": 5,
    "start_time": "2022-06-05T10:12:16.192Z"
   },
   {
    "duration": 111,
    "start_time": "2022-06-05T10:12:16.579Z"
   },
   {
    "duration": 18,
    "start_time": "2022-06-05T10:12:19.428Z"
   },
   {
    "duration": 13,
    "start_time": "2022-06-05T10:14:21.980Z"
   },
   {
    "duration": 15,
    "start_time": "2022-06-05T19:41:42.550Z"
   },
   {
    "duration": 32,
    "start_time": "2022-06-06T08:42:55.789Z"
   },
   {
    "duration": 55,
    "start_time": "2022-06-06T08:47:56.185Z"
   },
   {
    "duration": 987,
    "start_time": "2022-06-06T08:49:53.066Z"
   },
   {
    "duration": 74,
    "start_time": "2022-06-06T08:50:18.634Z"
   },
   {
    "duration": 1000,
    "start_time": "2022-06-06T08:50:28.082Z"
   },
   {
    "duration": 1248,
    "start_time": "2022-06-06T08:50:29.084Z"
   },
   {
    "duration": 132,
    "start_time": "2022-06-06T08:50:30.333Z"
   },
   {
    "duration": 13,
    "start_time": "2022-06-06T08:50:30.467Z"
   },
   {
    "duration": 221,
    "start_time": "2022-06-06T08:50:30.481Z"
   },
   {
    "duration": 27,
    "start_time": "2022-06-06T08:50:30.703Z"
   },
   {
    "duration": 594,
    "start_time": "2022-06-06T08:50:30.732Z"
   },
   {
    "duration": 110,
    "start_time": "2022-06-06T08:50:31.327Z"
   },
   {
    "duration": 17,
    "start_time": "2022-06-06T08:50:31.438Z"
   },
   {
    "duration": 9,
    "start_time": "2022-06-06T08:50:31.458Z"
   },
   {
    "duration": 14,
    "start_time": "2022-06-06T08:50:31.469Z"
   },
   {
    "duration": 4,
    "start_time": "2022-06-06T08:50:31.485Z"
   },
   {
    "duration": 19,
    "start_time": "2022-06-06T08:50:31.491Z"
   },
   {
    "duration": 743,
    "start_time": "2022-06-06T08:50:31.511Z"
   },
   {
    "duration": 218,
    "start_time": "2022-06-06T08:50:32.255Z"
   },
   {
    "duration": 246,
    "start_time": "2022-06-06T08:50:32.474Z"
   },
   {
    "duration": 213,
    "start_time": "2022-06-06T08:50:32.721Z"
   },
   {
    "duration": 232,
    "start_time": "2022-06-06T08:50:32.941Z"
   },
   {
    "duration": 232,
    "start_time": "2022-06-06T08:50:33.175Z"
   },
   {
    "duration": 220,
    "start_time": "2022-06-06T08:50:33.409Z"
   },
   {
    "duration": 240,
    "start_time": "2022-06-06T08:50:33.630Z"
   },
   {
    "duration": 211,
    "start_time": "2022-06-06T08:50:33.872Z"
   },
   {
    "duration": 593,
    "start_time": "2022-06-06T08:50:34.085Z"
   },
   {
    "duration": 208,
    "start_time": "2022-06-06T08:50:34.679Z"
   },
   {
    "duration": 258,
    "start_time": "2022-06-06T08:50:34.889Z"
   },
   {
    "duration": 244,
    "start_time": "2022-06-06T08:50:35.149Z"
   },
   {
    "duration": 4,
    "start_time": "2022-06-06T08:50:35.394Z"
   },
   {
    "duration": 3,
    "start_time": "2022-06-06T08:50:35.401Z"
   },
   {
    "duration": 10,
    "start_time": "2022-06-06T08:50:35.406Z"
   },
   {
    "duration": 4,
    "start_time": "2022-06-06T08:50:35.418Z"
   },
   {
    "duration": 109,
    "start_time": "2022-06-06T08:50:35.440Z"
   },
   {
    "duration": 70477,
    "start_time": "2022-06-06T08:50:35.552Z"
   },
   {
    "duration": 4,
    "start_time": "2022-06-06T08:51:46.030Z"
   },
   {
    "duration": 163,
    "start_time": "2022-06-06T08:51:46.036Z"
   },
   {
    "duration": 465442,
    "start_time": "2022-06-06T08:51:46.200Z"
   },
   {
    "duration": 4,
    "start_time": "2022-06-06T08:59:31.644Z"
   },
   {
    "duration": 13727,
    "start_time": "2022-06-06T08:59:31.649Z"
   },
   {
    "duration": 55453,
    "start_time": "2022-06-06T08:59:45.378Z"
   },
   {
    "duration": 2,
    "start_time": "2022-06-06T09:00:40.833Z"
   },
   {
    "duration": 30,
    "start_time": "2022-06-06T09:00:40.841Z"
   },
   {
    "duration": 37,
    "start_time": "2022-06-06T09:00:40.873Z"
   },
   {
    "duration": 43535,
    "start_time": "2022-06-06T09:00:40.912Z"
   },
   {
    "duration": 5,
    "start_time": "2022-06-06T09:01:24.449Z"
   },
   {
    "duration": 122,
    "start_time": "2022-06-06T09:01:24.455Z"
   },
   {
    "duration": 368248,
    "start_time": "2022-06-06T09:01:24.579Z"
   },
   {
    "duration": 3,
    "start_time": "2022-06-06T09:07:32.829Z"
   },
   {
    "duration": 8196,
    "start_time": "2022-06-06T09:07:32.834Z"
   },
   {
    "duration": 32103,
    "start_time": "2022-06-06T09:07:41.031Z"
   },
   {
    "duration": 10,
    "start_time": "2022-06-06T09:08:13.136Z"
   },
   {
    "duration": 76,
    "start_time": "2022-06-06T09:08:13.147Z"
   },
   {
    "duration": 16,
    "start_time": "2022-06-06T09:08:13.225Z"
   },
   {
    "duration": 79,
    "start_time": "2022-06-06T09:08:13.242Z"
   },
   {
    "duration": 134,
    "start_time": "2022-06-06T09:08:13.323Z"
   },
   {
    "duration": 0,
    "start_time": "2022-06-06T09:08:13.459Z"
   },
   {
    "duration": 0,
    "start_time": "2022-06-06T09:08:13.460Z"
   },
   {
    "duration": 0,
    "start_time": "2022-06-06T09:08:13.462Z"
   },
   {
    "duration": 0,
    "start_time": "2022-06-06T09:08:13.463Z"
   },
   {
    "duration": 8,
    "start_time": "2022-06-06T09:19:02.176Z"
   },
   {
    "duration": 37,
    "start_time": "2022-06-06T09:28:12.270Z"
   },
   {
    "duration": 11,
    "start_time": "2022-06-06T09:28:54.370Z"
   },
   {
    "duration": 15,
    "start_time": "2022-06-06T09:31:50.854Z"
   },
   {
    "duration": 4,
    "start_time": "2022-06-06T09:31:52.233Z"
   }
  ],
  "kernelspec": {
   "display_name": "Python 3 (ipykernel)",
   "language": "python",
   "name": "python3"
  },
  "language_info": {
   "codemirror_mode": {
    "name": "ipython",
    "version": 3
   },
   "file_extension": ".py",
   "mimetype": "text/x-python",
   "name": "python",
   "nbconvert_exporter": "python",
   "pygments_lexer": "ipython3",
   "version": "3.9.7"
  },
  "toc": {
   "base_numbering": 1,
   "nav_menu": {},
   "number_sections": true,
   "sideBar": true,
   "skip_h1_title": true,
   "title_cell": "Table of Contents",
   "title_sidebar": "Contents",
   "toc_cell": false,
   "toc_position": {},
   "toc_section_display": true,
   "toc_window_display": false
  }
 },
 "nbformat": 4,
 "nbformat_minor": 5
}
